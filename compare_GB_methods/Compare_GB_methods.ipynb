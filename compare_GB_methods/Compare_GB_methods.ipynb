{
 "cells": [
  {
   "cell_type": "markdown",
   "metadata": {
    "id": "BAF5SB_S9j1N"
   },
   "source": [
    "# Работа №1 от Бондаренко Алексея (bondaleksey@gmail.com)\n",
    "\n",
    "Цель данного ноутбука на тестовом наборе данных провести сравнение 4-ех методов градиентного бустинга:  GradientBoosting(sklearn), XGBoost, CatBoost, LightGBM\n",
    "\n",
    "Основные пункты задания: \n",
    "\n",
    "*   Разведовательный анализ\n",
    "*   Предобработка данных\n",
    "*   Построение моделей из \"коробки\" и проверка качества\n",
    "*   Настройка гиперпараметров моделей и проверка качества"
   ]
  },
  {
   "cell_type": "code",
   "execution_count": 1,
   "metadata": {
    "id": "XFgrCiZXCPPU"
   },
   "outputs": [],
   "source": [
    "import numpy as np \n",
    "import pandas as pd\n",
    "\n",
    "# для работы с графиками \n",
    "import matplotlib.pyplot as plt \n",
    "import seaborn as sns\n",
    "\n",
    "# sklearn \n",
    "from sklearn.model_selection import train_test_split\n",
    "from sklearn.model_selection import RepeatedStratifiedKFold\n",
    "from sklearn.model_selection import cross_val_score\n",
    "from sklearn.model_selection import GridSearchCV\n",
    "# metrics\n",
    "from sklearn.metrics import classification_report, roc_auc_score, confusion_matrix\n",
    "from sklearn.metrics import roc_curve, auc\n",
    "\n",
    "# for preprocessing data\n",
    "from sklearn.preprocessing import LabelEncoder, StandardScaler\n",
    "\n",
    "# Boosts\n",
    "from sklearn.ensemble import GradientBoostingClassifier\n",
    "from catboost import CatBoostClassifier\n",
    "from xgboost import XGBClassifier\n",
    "from lightgbm import LGBMClassifier\n",
    "\n",
    "#technical \n",
    "%matplotlib inline\n",
    "import warnings\n",
    "warnings.filterwarnings('ignore')"
   ]
  },
  {
   "cell_type": "markdown",
   "metadata": {
    "id": "rn5p_-btUtm7"
   },
   "source": [
    "# 1 Данные"
   ]
  },
  {
   "cell_type": "markdown",
   "metadata": {
    "id": "35_Qi1rbEVHr"
   },
   "source": [
    "\n",
    "## 1.1 Кратко о датасете\n",
    "В качестве данных используется набор [IBM Watson Marketing Data Analysis](https://www.kaggle.com/pankajjsh06/ibm-watson-marketing-customer-value-data). \n",
    "\n",
    "В конкурсе Kaggle для данного набора данных требовалось провести анализ поведения состоятельных клиентов и сделать предложения о том, как постороить программу удержания клиентов. При решении этой задачи полезным будет:\n",
    "\n",
    " - умение предсказывать продление контракта клиентом, \n",
    " - выделить ключевые параметры, определяющие продления контракта клиентом.\n",
    " \n",
    "Поэтому при решении основных пунктов задания будем решать задача классификации клиента по признаку `Response`. "
   ]
  },
  {
   "cell_type": "markdown",
   "metadata": {},
   "source": [
    "## 1.2 Загрузка данных"
   ]
  },
  {
   "cell_type": "code",
   "execution_count": 2,
   "metadata": {
    "colab": {
     "base_uri": "https://localhost:8080/",
     "height": 434
    },
    "id": "MjAP4QofDVmR",
    "outputId": "7b0d7d68-9424-4ac1-a5b2-a683ccb19e1a"
   },
   "outputs": [
    {
     "data": {
      "text/html": [
       "<div>\n",
       "<style scoped>\n",
       "    .dataframe tbody tr th:only-of-type {\n",
       "        vertical-align: middle;\n",
       "    }\n",
       "\n",
       "    .dataframe tbody tr th {\n",
       "        vertical-align: top;\n",
       "    }\n",
       "\n",
       "    .dataframe thead th {\n",
       "        text-align: right;\n",
       "    }\n",
       "</style>\n",
       "<table border=\"1\" class=\"dataframe\">\n",
       "  <thead>\n",
       "    <tr style=\"text-align: right;\">\n",
       "      <th></th>\n",
       "      <th>Customer</th>\n",
       "      <th>State</th>\n",
       "      <th>Customer Lifetime Value</th>\n",
       "      <th>Response</th>\n",
       "      <th>Coverage</th>\n",
       "      <th>Education</th>\n",
       "      <th>Effective To Date</th>\n",
       "      <th>EmploymentStatus</th>\n",
       "      <th>Gender</th>\n",
       "      <th>Income</th>\n",
       "      <th>...</th>\n",
       "      <th>Months Since Policy Inception</th>\n",
       "      <th>Number of Open Complaints</th>\n",
       "      <th>Number of Policies</th>\n",
       "      <th>Policy Type</th>\n",
       "      <th>Policy</th>\n",
       "      <th>Renew Offer Type</th>\n",
       "      <th>Sales Channel</th>\n",
       "      <th>Total Claim Amount</th>\n",
       "      <th>Vehicle Class</th>\n",
       "      <th>Vehicle Size</th>\n",
       "    </tr>\n",
       "  </thead>\n",
       "  <tbody>\n",
       "    <tr>\n",
       "      <th>0</th>\n",
       "      <td>BU79786</td>\n",
       "      <td>Washington</td>\n",
       "      <td>2763.519279</td>\n",
       "      <td>No</td>\n",
       "      <td>Basic</td>\n",
       "      <td>Bachelor</td>\n",
       "      <td>2/24/11</td>\n",
       "      <td>Employed</td>\n",
       "      <td>F</td>\n",
       "      <td>56274</td>\n",
       "      <td>...</td>\n",
       "      <td>5</td>\n",
       "      <td>0</td>\n",
       "      <td>1</td>\n",
       "      <td>Corporate Auto</td>\n",
       "      <td>Corporate L3</td>\n",
       "      <td>Offer1</td>\n",
       "      <td>Agent</td>\n",
       "      <td>384.811147</td>\n",
       "      <td>Two-Door Car</td>\n",
       "      <td>Medsize</td>\n",
       "    </tr>\n",
       "    <tr>\n",
       "      <th>1</th>\n",
       "      <td>QZ44356</td>\n",
       "      <td>Arizona</td>\n",
       "      <td>6979.535903</td>\n",
       "      <td>No</td>\n",
       "      <td>Extended</td>\n",
       "      <td>Bachelor</td>\n",
       "      <td>1/31/11</td>\n",
       "      <td>Unemployed</td>\n",
       "      <td>F</td>\n",
       "      <td>0</td>\n",
       "      <td>...</td>\n",
       "      <td>42</td>\n",
       "      <td>0</td>\n",
       "      <td>8</td>\n",
       "      <td>Personal Auto</td>\n",
       "      <td>Personal L3</td>\n",
       "      <td>Offer3</td>\n",
       "      <td>Agent</td>\n",
       "      <td>1131.464935</td>\n",
       "      <td>Four-Door Car</td>\n",
       "      <td>Medsize</td>\n",
       "    </tr>\n",
       "    <tr>\n",
       "      <th>2</th>\n",
       "      <td>AI49188</td>\n",
       "      <td>Nevada</td>\n",
       "      <td>12887.431650</td>\n",
       "      <td>No</td>\n",
       "      <td>Premium</td>\n",
       "      <td>Bachelor</td>\n",
       "      <td>2/19/11</td>\n",
       "      <td>Employed</td>\n",
       "      <td>F</td>\n",
       "      <td>48767</td>\n",
       "      <td>...</td>\n",
       "      <td>38</td>\n",
       "      <td>0</td>\n",
       "      <td>2</td>\n",
       "      <td>Personal Auto</td>\n",
       "      <td>Personal L3</td>\n",
       "      <td>Offer1</td>\n",
       "      <td>Agent</td>\n",
       "      <td>566.472247</td>\n",
       "      <td>Two-Door Car</td>\n",
       "      <td>Medsize</td>\n",
       "    </tr>\n",
       "    <tr>\n",
       "      <th>3</th>\n",
       "      <td>WW63253</td>\n",
       "      <td>California</td>\n",
       "      <td>7645.861827</td>\n",
       "      <td>No</td>\n",
       "      <td>Basic</td>\n",
       "      <td>Bachelor</td>\n",
       "      <td>1/20/11</td>\n",
       "      <td>Unemployed</td>\n",
       "      <td>M</td>\n",
       "      <td>0</td>\n",
       "      <td>...</td>\n",
       "      <td>65</td>\n",
       "      <td>0</td>\n",
       "      <td>7</td>\n",
       "      <td>Corporate Auto</td>\n",
       "      <td>Corporate L2</td>\n",
       "      <td>Offer1</td>\n",
       "      <td>Call Center</td>\n",
       "      <td>529.881344</td>\n",
       "      <td>SUV</td>\n",
       "      <td>Medsize</td>\n",
       "    </tr>\n",
       "    <tr>\n",
       "      <th>4</th>\n",
       "      <td>HB64268</td>\n",
       "      <td>Washington</td>\n",
       "      <td>2813.692575</td>\n",
       "      <td>No</td>\n",
       "      <td>Basic</td>\n",
       "      <td>Bachelor</td>\n",
       "      <td>2/3/11</td>\n",
       "      <td>Employed</td>\n",
       "      <td>M</td>\n",
       "      <td>43836</td>\n",
       "      <td>...</td>\n",
       "      <td>44</td>\n",
       "      <td>0</td>\n",
       "      <td>1</td>\n",
       "      <td>Personal Auto</td>\n",
       "      <td>Personal L1</td>\n",
       "      <td>Offer1</td>\n",
       "      <td>Agent</td>\n",
       "      <td>138.130879</td>\n",
       "      <td>Four-Door Car</td>\n",
       "      <td>Medsize</td>\n",
       "    </tr>\n",
       "  </tbody>\n",
       "</table>\n",
       "<p>5 rows × 24 columns</p>\n",
       "</div>"
      ],
      "text/plain": [
       "  Customer       State  Customer Lifetime Value Response  Coverage Education  \\\n",
       "0  BU79786  Washington              2763.519279       No     Basic  Bachelor   \n",
       "1  QZ44356     Arizona              6979.535903       No  Extended  Bachelor   \n",
       "2  AI49188      Nevada             12887.431650       No   Premium  Bachelor   \n",
       "3  WW63253  California              7645.861827       No     Basic  Bachelor   \n",
       "4  HB64268  Washington              2813.692575       No     Basic  Bachelor   \n",
       "\n",
       "  Effective To Date EmploymentStatus Gender  Income  ...  \\\n",
       "0           2/24/11         Employed      F   56274  ...   \n",
       "1           1/31/11       Unemployed      F       0  ...   \n",
       "2           2/19/11         Employed      F   48767  ...   \n",
       "3           1/20/11       Unemployed      M       0  ...   \n",
       "4            2/3/11         Employed      M   43836  ...   \n",
       "\n",
       "  Months Since Policy Inception Number of Open Complaints  Number of Policies  \\\n",
       "0                             5                         0                   1   \n",
       "1                            42                         0                   8   \n",
       "2                            38                         0                   2   \n",
       "3                            65                         0                   7   \n",
       "4                            44                         0                   1   \n",
       "\n",
       "      Policy Type        Policy  Renew Offer Type  Sales Channel  \\\n",
       "0  Corporate Auto  Corporate L3            Offer1          Agent   \n",
       "1   Personal Auto   Personal L3            Offer3          Agent   \n",
       "2   Personal Auto   Personal L3            Offer1          Agent   \n",
       "3  Corporate Auto  Corporate L2            Offer1    Call Center   \n",
       "4   Personal Auto   Personal L1            Offer1          Agent   \n",
       "\n",
       "  Total Claim Amount  Vehicle Class Vehicle Size  \n",
       "0         384.811147   Two-Door Car      Medsize  \n",
       "1        1131.464935  Four-Door Car      Medsize  \n",
       "2         566.472247   Two-Door Car      Medsize  \n",
       "3         529.881344            SUV      Medsize  \n",
       "4         138.130879  Four-Door Car      Medsize  \n",
       "\n",
       "[5 rows x 24 columns]"
      ]
     },
     "execution_count": 2,
     "metadata": {},
     "output_type": "execute_result"
    }
   ],
   "source": [
    "filename = \"../data/IBM_Watson_mcva.csv\"\n",
    "df = pd.read_csv(filename)\n",
    "df.head()"
   ]
  },
  {
   "cell_type": "code",
   "execution_count": 3,
   "metadata": {
    "colab": {
     "base_uri": "https://localhost:8080/"
    },
    "id": "HFaSG_3kDeap",
    "outputId": "639894ba-ec3b-4abd-b7c0-5ff15d3d64d7"
   },
   "outputs": [
    {
     "data": {
      "text/plain": [
       "(9134, 24)"
      ]
     },
     "execution_count": 3,
     "metadata": {},
     "output_type": "execute_result"
    }
   ],
   "source": [
    "df.shape"
   ]
  },
  {
   "cell_type": "markdown",
   "metadata": {
    "id": "tJ55pqDBOPDK"
   },
   "source": [
    "Преобразуем целевое значение из категориального в количественный тип данных"
   ]
  },
  {
   "cell_type": "markdown",
   "metadata": {
    "id": "RF6S11_GU1Oc"
   },
   "source": [
    "# 2 Исследовательский анализ данных (EDA)"
   ]
  },
  {
   "cell_type": "markdown",
   "metadata": {
    "id": "_qpvXzcEHm7s"
   },
   "source": [
    "\n",
    "\n",
    "## 2.1 Первичная стастика"
   ]
  },
  {
   "cell_type": "code",
   "execution_count": 4,
   "metadata": {
    "colab": {
     "base_uri": "https://localhost:8080/"
    },
    "id": "8JtqK09NGcJq",
    "outputId": "4237d74f-785d-4411-857b-6808228876a6"
   },
   "outputs": [
    {
     "name": "stdout",
     "output_type": "stream",
     "text": [
      "<class 'pandas.core.frame.DataFrame'>\n",
      "RangeIndex: 9134 entries, 0 to 9133\n",
      "Data columns (total 24 columns):\n",
      " #   Column                         Non-Null Count  Dtype  \n",
      "---  ------                         --------------  -----  \n",
      " 0   Customer                       9134 non-null   object \n",
      " 1   State                          9134 non-null   object \n",
      " 2   Customer Lifetime Value        9134 non-null   float64\n",
      " 3   Response                       9134 non-null   object \n",
      " 4   Coverage                       9134 non-null   object \n",
      " 5   Education                      9134 non-null   object \n",
      " 6   Effective To Date              9134 non-null   object \n",
      " 7   EmploymentStatus               9134 non-null   object \n",
      " 8   Gender                         9134 non-null   object \n",
      " 9   Income                         9134 non-null   int64  \n",
      " 10  Location Code                  9134 non-null   object \n",
      " 11  Marital Status                 9134 non-null   object \n",
      " 12  Monthly Premium Auto           9134 non-null   int64  \n",
      " 13  Months Since Last Claim        9134 non-null   int64  \n",
      " 14  Months Since Policy Inception  9134 non-null   int64  \n",
      " 15  Number of Open Complaints      9134 non-null   int64  \n",
      " 16  Number of Policies             9134 non-null   int64  \n",
      " 17  Policy Type                    9134 non-null   object \n",
      " 18  Policy                         9134 non-null   object \n",
      " 19  Renew Offer Type               9134 non-null   object \n",
      " 20  Sales Channel                  9134 non-null   object \n",
      " 21  Total Claim Amount             9134 non-null   float64\n",
      " 22  Vehicle Class                  9134 non-null   object \n",
      " 23  Vehicle Size                   9134 non-null   object \n",
      "dtypes: float64(2), int64(6), object(16)\n",
      "memory usage: 1.7+ MB\n"
     ]
    }
   ],
   "source": [
    "df.info()"
   ]
  },
  {
   "cell_type": "markdown",
   "metadata": {
    "id": "duyAUvqeJkKE"
   },
   "source": [
    "В данном наборе данных \n",
    "  \n",
    "*   нет NaN значений\n",
    "*   8 количественных переменных\n",
    "*   16 категориальных переменных\n",
    "\n",
    "\n"
   ]
  },
  {
   "cell_type": "code",
   "execution_count": 5,
   "metadata": {
    "colab": {
     "base_uri": "https://localhost:8080/",
     "height": 372
    },
    "id": "EyBB4YDtJQxG",
    "outputId": "5be9e312-0299-46d6-c515-46ccd20002b5"
   },
   "outputs": [
    {
     "data": {
      "text/html": [
       "<div>\n",
       "<style scoped>\n",
       "    .dataframe tbody tr th:only-of-type {\n",
       "        vertical-align: middle;\n",
       "    }\n",
       "\n",
       "    .dataframe tbody tr th {\n",
       "        vertical-align: top;\n",
       "    }\n",
       "\n",
       "    .dataframe thead th {\n",
       "        text-align: right;\n",
       "    }\n",
       "</style>\n",
       "<table border=\"1\" class=\"dataframe\">\n",
       "  <thead>\n",
       "    <tr style=\"text-align: right;\">\n",
       "      <th></th>\n",
       "      <th>Customer Lifetime Value</th>\n",
       "      <th>Income</th>\n",
       "      <th>Monthly Premium Auto</th>\n",
       "      <th>Months Since Last Claim</th>\n",
       "      <th>Months Since Policy Inception</th>\n",
       "      <th>Number of Open Complaints</th>\n",
       "      <th>Number of Policies</th>\n",
       "      <th>Total Claim Amount</th>\n",
       "    </tr>\n",
       "  </thead>\n",
       "  <tbody>\n",
       "    <tr>\n",
       "      <th>count</th>\n",
       "      <td>9134.000000</td>\n",
       "      <td>9134.000000</td>\n",
       "      <td>9134.000000</td>\n",
       "      <td>9134.000000</td>\n",
       "      <td>9134.000000</td>\n",
       "      <td>9134.000000</td>\n",
       "      <td>9134.000000</td>\n",
       "      <td>9134.000000</td>\n",
       "    </tr>\n",
       "    <tr>\n",
       "      <th>mean</th>\n",
       "      <td>8004.940475</td>\n",
       "      <td>37657.380009</td>\n",
       "      <td>93.219291</td>\n",
       "      <td>15.097000</td>\n",
       "      <td>48.064594</td>\n",
       "      <td>0.384388</td>\n",
       "      <td>2.966170</td>\n",
       "      <td>434.088794</td>\n",
       "    </tr>\n",
       "    <tr>\n",
       "      <th>std</th>\n",
       "      <td>6870.967608</td>\n",
       "      <td>30379.904734</td>\n",
       "      <td>34.407967</td>\n",
       "      <td>10.073257</td>\n",
       "      <td>27.905991</td>\n",
       "      <td>0.910384</td>\n",
       "      <td>2.390182</td>\n",
       "      <td>290.500092</td>\n",
       "    </tr>\n",
       "    <tr>\n",
       "      <th>min</th>\n",
       "      <td>1898.007675</td>\n",
       "      <td>0.000000</td>\n",
       "      <td>61.000000</td>\n",
       "      <td>0.000000</td>\n",
       "      <td>0.000000</td>\n",
       "      <td>0.000000</td>\n",
       "      <td>1.000000</td>\n",
       "      <td>0.099007</td>\n",
       "    </tr>\n",
       "    <tr>\n",
       "      <th>25%</th>\n",
       "      <td>3994.251794</td>\n",
       "      <td>0.000000</td>\n",
       "      <td>68.000000</td>\n",
       "      <td>6.000000</td>\n",
       "      <td>24.000000</td>\n",
       "      <td>0.000000</td>\n",
       "      <td>1.000000</td>\n",
       "      <td>272.258244</td>\n",
       "    </tr>\n",
       "    <tr>\n",
       "      <th>50%</th>\n",
       "      <td>5780.182197</td>\n",
       "      <td>33889.500000</td>\n",
       "      <td>83.000000</td>\n",
       "      <td>14.000000</td>\n",
       "      <td>48.000000</td>\n",
       "      <td>0.000000</td>\n",
       "      <td>2.000000</td>\n",
       "      <td>383.945434</td>\n",
       "    </tr>\n",
       "    <tr>\n",
       "      <th>75%</th>\n",
       "      <td>8962.167041</td>\n",
       "      <td>62320.000000</td>\n",
       "      <td>109.000000</td>\n",
       "      <td>23.000000</td>\n",
       "      <td>71.000000</td>\n",
       "      <td>0.000000</td>\n",
       "      <td>4.000000</td>\n",
       "      <td>547.514839</td>\n",
       "    </tr>\n",
       "    <tr>\n",
       "      <th>max</th>\n",
       "      <td>83325.381190</td>\n",
       "      <td>99981.000000</td>\n",
       "      <td>298.000000</td>\n",
       "      <td>35.000000</td>\n",
       "      <td>99.000000</td>\n",
       "      <td>5.000000</td>\n",
       "      <td>9.000000</td>\n",
       "      <td>2893.239678</td>\n",
       "    </tr>\n",
       "  </tbody>\n",
       "</table>\n",
       "</div>"
      ],
      "text/plain": [
       "       Customer Lifetime Value        Income  Monthly Premium Auto  \\\n",
       "count              9134.000000   9134.000000           9134.000000   \n",
       "mean               8004.940475  37657.380009             93.219291   \n",
       "std                6870.967608  30379.904734             34.407967   \n",
       "min                1898.007675      0.000000             61.000000   \n",
       "25%                3994.251794      0.000000             68.000000   \n",
       "50%                5780.182197  33889.500000             83.000000   \n",
       "75%                8962.167041  62320.000000            109.000000   \n",
       "max               83325.381190  99981.000000            298.000000   \n",
       "\n",
       "       Months Since Last Claim  Months Since Policy Inception  \\\n",
       "count              9134.000000                    9134.000000   \n",
       "mean                 15.097000                      48.064594   \n",
       "std                  10.073257                      27.905991   \n",
       "min                   0.000000                       0.000000   \n",
       "25%                   6.000000                      24.000000   \n",
       "50%                  14.000000                      48.000000   \n",
       "75%                  23.000000                      71.000000   \n",
       "max                  35.000000                      99.000000   \n",
       "\n",
       "       Number of Open Complaints  Number of Policies  Total Claim Amount  \n",
       "count                9134.000000         9134.000000         9134.000000  \n",
       "mean                    0.384388            2.966170          434.088794  \n",
       "std                     0.910384            2.390182          290.500092  \n",
       "min                     0.000000            1.000000            0.099007  \n",
       "25%                     0.000000            1.000000          272.258244  \n",
       "50%                     0.000000            2.000000          383.945434  \n",
       "75%                     0.000000            4.000000          547.514839  \n",
       "max                     5.000000            9.000000         2893.239678  "
      ]
     },
     "execution_count": 5,
     "metadata": {},
     "output_type": "execute_result"
    }
   ],
   "source": [
    "df.describe()"
   ]
  },
  {
   "cell_type": "markdown",
   "metadata": {
    "id": "xs2SoCZ1Y39k"
   },
   "source": [
    "## 2.2 Разобъем переменные на категориальные и количественные"
   ]
  },
  {
   "cell_type": "code",
   "execution_count": 6,
   "metadata": {
    "colab": {
     "base_uri": "https://localhost:8080/"
    },
    "id": "-IHuJtBCY13L",
    "outputId": "726ef4c4-7342-48be-9ea2-ff35fbe0b27d"
   },
   "outputs": [
    {
     "name": "stdout",
     "output_type": "stream",
     "text": [
      "<class 'list'>\n",
      "['Renew Offer Type', 'Sales Channel', 'Effective To Date', 'State', 'Vehicle Class', 'Education', 'EmploymentStatus', 'Customer', 'Policy']\n",
      "Число категориальных переменных: 7\n",
      "Число количесвтенных переменных: 8\n",
      "Из рассмотрения исключены: 9 категориальных переменных \n"
     ]
    }
   ],
   "source": [
    "# названия категориальных переменных, которые создатут не более\n",
    "# N_unique дополнительных столбцов при onehotencoding \n",
    "\n",
    "N_unique = 4 # может сильно влиять на работу с деревьями\n",
    "             # при небольшом наборе данных, с другой стороны,\n",
    "             # можем потерять один из ключевых признаков \n",
    "    \n",
    "categorical_cols = [cname for cname in df.columns if\n",
    "                    df[cname].nunique() < N_unique and \n",
    "                    df[cname].dtype == \"object\"]\n",
    "\n",
    "# названия количественных переменных\n",
    "numerical_cols = [cname for cname in df.columns if \n",
    "                df[cname].dtype in ['int64', 'float64']]\n",
    "\n",
    "\n",
    "columns_for_drop=list(set(df.columns) - set(numerical_cols) - set(categorical_cols))\n",
    "print(type(columns_for_drop))\n",
    "print(columns_for_drop)\n",
    "\n",
    "print(f\"Число категориальных переменных: {len(categorical_cols)}\")\n",
    "print(f\"Число количесвтенных переменных: {len(numerical_cols)}\")\n",
    "print(f\"Из рассмотрения исключены: {len(columns_for_drop)} категориальных переменных \")"
   ]
  },
  {
   "cell_type": "markdown",
   "metadata": {
    "id": "BgloTzQg9BxH"
   },
   "source": [
    "### 2.2.1 Анализ количественных данных"
   ]
  },
  {
   "cell_type": "markdown",
   "metadata": {},
   "source": [
    "В рамках данной работы приведены:\n",
    "- гистограммы плотности распределения для количесвенных перемнных,\n",
    "- точечные графики зависимости CLV от каждой  количесвенной перемнной с выделением синим цветом клиентов согласившихся на новый контракт."
   ]
  },
  {
   "cell_type": "code",
   "execution_count": 1,
   "metadata": {
    "colab": {
     "base_uri": "https://localhost:8080/",
     "height": 1000
    },
    "id": "agu9vhYnAei6",
    "outputId": "45f8fa08-929e-43bb-e0c6-c3fcc37c1f1d",
    "scrolled": false
   },
   "outputs": [
    {
     "ename": "NameError",
     "evalue": "name 'plt' is not defined",
     "output_type": "error",
     "traceback": [
      "\u001b[1;31m---------------------------------------------------------------------------\u001b[0m",
      "\u001b[1;31mNameError\u001b[0m                                 Traceback (most recent call last)",
      "\u001b[1;32m<ipython-input-1-0f39c0c247ff>\u001b[0m in \u001b[0;36m<module>\u001b[1;34m\u001b[0m\n\u001b[1;32m----> 1\u001b[1;33m \u001b[0mplt\u001b[0m\u001b[1;33m.\u001b[0m\u001b[0mfigure\u001b[0m\u001b[1;33m(\u001b[0m\u001b[0mfigsize\u001b[0m\u001b[1;33m=\u001b[0m\u001b[1;33m(\u001b[0m\u001b[1;36m10\u001b[0m\u001b[1;33m,\u001b[0m \u001b[1;36m30\u001b[0m\u001b[1;33m)\u001b[0m\u001b[1;33m)\u001b[0m\u001b[1;33m\u001b[0m\u001b[1;33m\u001b[0m\u001b[0m\n\u001b[0m\u001b[0;32m      2\u001b[0m \u001b[1;33m\u001b[0m\u001b[0m\n\u001b[0;32m      3\u001b[0m \u001b[1;32mfor\u001b[0m \u001b[0mi\u001b[0m\u001b[1;33m,\u001b[0m \u001b[0mval\u001b[0m \u001b[1;32min\u001b[0m \u001b[0menumerate\u001b[0m\u001b[1;33m(\u001b[0m\u001b[0mnumerical_cols\u001b[0m\u001b[1;33m)\u001b[0m\u001b[1;33m:\u001b[0m\u001b[1;33m\u001b[0m\u001b[1;33m\u001b[0m\u001b[0m\n\u001b[0;32m      4\u001b[0m   \u001b[0mplt\u001b[0m\u001b[1;33m.\u001b[0m\u001b[0msubplot\u001b[0m\u001b[1;33m(\u001b[0m\u001b[0mlen\u001b[0m\u001b[1;33m(\u001b[0m\u001b[0mnumerical_cols\u001b[0m\u001b[1;33m)\u001b[0m\u001b[1;33m,\u001b[0m \u001b[1;36m2\u001b[0m\u001b[1;33m,\u001b[0m \u001b[1;36m2\u001b[0m\u001b[1;33m*\u001b[0m\u001b[1;33m(\u001b[0m\u001b[0mi\u001b[0m\u001b[1;33m+\u001b[0m\u001b[1;36m1\u001b[0m\u001b[1;33m)\u001b[0m\u001b[1;33m-\u001b[0m\u001b[1;36m1\u001b[0m\u001b[1;33m)\u001b[0m\u001b[1;33m\u001b[0m\u001b[1;33m\u001b[0m\u001b[0m\n\u001b[0;32m      5\u001b[0m   \u001b[0msns\u001b[0m\u001b[1;33m.\u001b[0m\u001b[0mdistplot\u001b[0m\u001b[1;33m(\u001b[0m\u001b[0mdf\u001b[0m\u001b[1;33m[\u001b[0m\u001b[0mval\u001b[0m\u001b[1;33m]\u001b[0m\u001b[1;33m)\u001b[0m\u001b[1;33m\u001b[0m\u001b[1;33m\u001b[0m\u001b[0m\n",
      "\u001b[1;31mNameError\u001b[0m: name 'plt' is not defined"
     ]
    }
   ],
   "source": [
    "plt.figure(figsize=(10, 30))\n",
    "\n",
    "for i, val in enumerate(numerical_cols):\n",
    "  plt.subplot(len(numerical_cols), 2, 2*(i+1)-1)  \n",
    "  sns.distplot(df[val])  \n",
    "  plt.subplot(len(numerical_cols), 2, 2*(i+1))  \n",
    "  sns.scatterplot(df[val][df['Response']=='No'],df[\"Customer Lifetime Value\"][df['Response']=='No'],color='y')\n",
    "  sns.scatterplot(df[val][df['Response']=='Yes'],df[\"Customer Lifetime Value\"][df['Response']=='Yes'],color='b')\n",
    "  \n"
   ]
  },
  {
   "cell_type": "markdown",
   "metadata": {},
   "source": [
    "### Предварительный анализ количественных данных \n",
    "Из построенных графиков следует, что среди продленных контрактов большая часть это клиенты с \"незначительным\" CLV.\n",
    "В качеcтве вариантов возможных исследований можно выделить:\n",
    " - подробное рассмотрение случаев продления контракта клиентами с высоким CLV,\n",
    " - анализ службы работы с жалобами."
   ]
  },
  {
   "cell_type": "markdown",
   "metadata": {
    "id": "niQPXNWGWEoS"
   },
   "source": [
    "### 2.2.2 Анализ категориальных параметров"
   ]
  },
  {
   "cell_type": "markdown",
   "metadata": {},
   "source": [
    "В рамках данной работы для всех возможных значений категориальных  переменных приведены процентные составляющие признака `Response`."
   ]
  },
  {
   "cell_type": "code",
   "execution_count": 8,
   "metadata": {},
   "outputs": [],
   "source": [
    "#Определяем функцию, которая рисует проценты над столбцами\n",
    "def annot_plot(ax):\n",
    "    \"\"\"Draws percentages over the bars.\n",
    "\n",
    "    Args:\n",
    "      ax: Axes object with the plot drawn onto it.\n",
    "    \"\"\"\n",
    "    ax.spines['top'].set_visible(False)\n",
    "    ax.spines['right'].set_visible(False)\n",
    "    for p in ax.patches:\n",
    "         ax.annotate(f\"{p.get_height() * 100 / df.shape[0]:.2f}%\",\n",
    "                     (p.get_x() + p.get_width() / 2., p.get_height()),                     \n",
    "                     ha='center', va='center', fontsize=11,\n",
    "                     color='black', rotation= 0, xytext=(0, 10),\n",
    "                     textcoords='offset points') "
   ]
  },
  {
   "cell_type": "code",
   "execution_count": 9,
   "metadata": {
    "colab": {
     "base_uri": "https://localhost:8080/",
     "height": 1000
    },
    "id": "xXHMwQEsZe_p",
    "outputId": "19466250-8bfd-4a67-a736-16e5eb19fafd",
    "scrolled": false
   },
   "outputs": [
    {
     "data": {
      "image/png": "[encoded data removed]",
      "text/plain": [
       "<Figure size 576x2016 with 7 Axes>"
      ]
     },
     "metadata": {
      "needs_background": "light"
     },
     "output_type": "display_data"
    }
   ],
   "source": [
    "plt.figure(figsize=(2*N_unique,N_unique*7))\n",
    "\n",
    "for i, val in enumerate(categorical_cols):\n",
    "  plt.subplot(len(categorical_cols), 1, i+1)\n",
    "  ax = sns.countplot('Response', hue = val ,data = df)\n",
    "  plt.ylabel(f'Total number of Response')\n",
    "  annot_plot(ax)  "
   ]
  },
  {
   "cell_type": "markdown",
   "metadata": {},
   "source": [
    "### Предварительный анализ качественных данных \n",
    "\n",
    " - В представленном наборе данных число отказавшихся продлевать контракт 86% сильно больше числа согласившихся продлевать контракт 14%. \n",
    " - Надо обратить внимание на следующие группы: проживающих в пригороде, с машиной среднего размера. "
   ]
  },
  {
   "cell_type": "markdown",
   "metadata": {
    "id": "L-G-6KiMWbbI"
   },
   "source": [
    "# 3 Предобработка данных\n",
    "Выполним преобразование данных, а затем разобъем их на train-test наборы."
   ]
  },
  {
   "cell_type": "markdown",
   "metadata": {
    "id": "1QIlyfHEXRva"
   },
   "source": [
    "## 3.1 Преобразование категориальных переменных\n"
   ]
  },
  {
   "cell_type": "code",
   "execution_count": 10,
   "metadata": {
    "colab": {
     "base_uri": "https://localhost:8080/"
    },
    "id": "sPNQZujbOKNv",
    "outputId": "95759af3-82cb-4066-fd00-4852b091cfb7"
   },
   "outputs": [
    {
     "name": "stdout",
     "output_type": "stream",
     "text": [
      "Categorical columns are:\n",
      " ['Coverage', 'Gender', 'Location Code', 'Marital Status', 'Policy Type', 'Vehicle Size']\n"
     ]
    }
   ],
   "source": [
    "# преобразование Response в численный вид\n",
    "#df['Response'] = df['Response'].apply(lambda X : 0 if X == 'No' else 1)\n",
    "response_enc = LabelEncoder()\n",
    "df[\"Response\"] = response_enc.fit_transform(df[\"Response\"])\n",
    "\n",
    "# \"Response\" - будет целевым признаком, поэтому\n",
    "#   исключим этот признак из категориальных \n",
    "#   и не будем включать в численные.\n",
    "if \"Response\" in categorical_cols:\n",
    "    categorical_cols.remove(\"Response\")\n",
    "\n",
    "print(\"Categorical columns are:\\n\",categorical_cols)"
   ]
  },
  {
   "cell_type": "code",
   "execution_count": 11,
   "metadata": {
    "scrolled": false
   },
   "outputs": [],
   "source": [
    "# преобразование данных с помощью функций pandas\n",
    "def data_preprocessing(data_input, cols_4_drop, cat_cols):\n",
    "    \"\"\"Preprocess data by drop some columns and one hot encoding categorical columns.\n",
    "\n",
    "    Args:\n",
    "      data_input: DataFrame with input data,\n",
    "      cols_4_drop: List of columns names for drop out of the input DataFrame,\n",
    "      cat_cols: List of columns names for OneHotEncode in the input DataFrame.\n",
    "\n",
    "    Returns:\n",
    "      Renew DataFrame.\n",
    "    \"\"\"\n",
    "    data_input = data_input.drop(cols_4_drop, axis=1)\n",
    "    data_input = pd.get_dummies(data_input, columns=cat_cols, prefix_sep='=')    \n",
    "    return data_input"
   ]
  },
  {
   "cell_type": "code",
   "execution_count": 12,
   "metadata": {},
   "outputs": [],
   "source": [
    "df = data_preprocessing(df, columns_for_drop, categorical_cols)    "
   ]
  },
  {
   "cell_type": "code",
   "execution_count": 13,
   "metadata": {
    "colab": {
     "base_uri": "https://localhost:8080/",
     "height": 434
    },
    "id": "eoM9CB4exxWp",
    "outputId": "0ab76105-860b-40bb-f60f-575513c126af",
    "scrolled": true
   },
   "outputs": [
    {
     "data": {
      "text/html": [
       "<div>\n",
       "<style scoped>\n",
       "    .dataframe tbody tr th:only-of-type {\n",
       "        vertical-align: middle;\n",
       "    }\n",
       "\n",
       "    .dataframe tbody tr th {\n",
       "        vertical-align: top;\n",
       "    }\n",
       "\n",
       "    .dataframe thead th {\n",
       "        text-align: right;\n",
       "    }\n",
       "</style>\n",
       "<table border=\"1\" class=\"dataframe\">\n",
       "  <thead>\n",
       "    <tr style=\"text-align: right;\">\n",
       "      <th></th>\n",
       "      <th>Customer Lifetime Value</th>\n",
       "      <th>Response</th>\n",
       "      <th>Income</th>\n",
       "      <th>Monthly Premium Auto</th>\n",
       "      <th>Months Since Last Claim</th>\n",
       "      <th>Months Since Policy Inception</th>\n",
       "      <th>Number of Open Complaints</th>\n",
       "      <th>Number of Policies</th>\n",
       "      <th>Total Claim Amount</th>\n",
       "      <th>Coverage=Basic</th>\n",
       "      <th>...</th>\n",
       "      <th>Location Code=Urban</th>\n",
       "      <th>Marital Status=Divorced</th>\n",
       "      <th>Marital Status=Married</th>\n",
       "      <th>Marital Status=Single</th>\n",
       "      <th>Policy Type=Corporate Auto</th>\n",
       "      <th>Policy Type=Personal Auto</th>\n",
       "      <th>Policy Type=Special Auto</th>\n",
       "      <th>Vehicle Size=Large</th>\n",
       "      <th>Vehicle Size=Medsize</th>\n",
       "      <th>Vehicle Size=Small</th>\n",
       "    </tr>\n",
       "  </thead>\n",
       "  <tbody>\n",
       "    <tr>\n",
       "      <th>0</th>\n",
       "      <td>2763.519279</td>\n",
       "      <td>0</td>\n",
       "      <td>56274</td>\n",
       "      <td>69</td>\n",
       "      <td>32</td>\n",
       "      <td>5</td>\n",
       "      <td>0</td>\n",
       "      <td>1</td>\n",
       "      <td>384.811147</td>\n",
       "      <td>1</td>\n",
       "      <td>...</td>\n",
       "      <td>0</td>\n",
       "      <td>0</td>\n",
       "      <td>1</td>\n",
       "      <td>0</td>\n",
       "      <td>1</td>\n",
       "      <td>0</td>\n",
       "      <td>0</td>\n",
       "      <td>0</td>\n",
       "      <td>1</td>\n",
       "      <td>0</td>\n",
       "    </tr>\n",
       "    <tr>\n",
       "      <th>1</th>\n",
       "      <td>6979.535903</td>\n",
       "      <td>0</td>\n",
       "      <td>0</td>\n",
       "      <td>94</td>\n",
       "      <td>13</td>\n",
       "      <td>42</td>\n",
       "      <td>0</td>\n",
       "      <td>8</td>\n",
       "      <td>1131.464935</td>\n",
       "      <td>0</td>\n",
       "      <td>...</td>\n",
       "      <td>0</td>\n",
       "      <td>0</td>\n",
       "      <td>0</td>\n",
       "      <td>1</td>\n",
       "      <td>0</td>\n",
       "      <td>1</td>\n",
       "      <td>0</td>\n",
       "      <td>0</td>\n",
       "      <td>1</td>\n",
       "      <td>0</td>\n",
       "    </tr>\n",
       "    <tr>\n",
       "      <th>2</th>\n",
       "      <td>12887.431650</td>\n",
       "      <td>0</td>\n",
       "      <td>48767</td>\n",
       "      <td>108</td>\n",
       "      <td>18</td>\n",
       "      <td>38</td>\n",
       "      <td>0</td>\n",
       "      <td>2</td>\n",
       "      <td>566.472247</td>\n",
       "      <td>0</td>\n",
       "      <td>...</td>\n",
       "      <td>0</td>\n",
       "      <td>0</td>\n",
       "      <td>1</td>\n",
       "      <td>0</td>\n",
       "      <td>0</td>\n",
       "      <td>1</td>\n",
       "      <td>0</td>\n",
       "      <td>0</td>\n",
       "      <td>1</td>\n",
       "      <td>0</td>\n",
       "    </tr>\n",
       "    <tr>\n",
       "      <th>3</th>\n",
       "      <td>7645.861827</td>\n",
       "      <td>0</td>\n",
       "      <td>0</td>\n",
       "      <td>106</td>\n",
       "      <td>18</td>\n",
       "      <td>65</td>\n",
       "      <td>0</td>\n",
       "      <td>7</td>\n",
       "      <td>529.881344</td>\n",
       "      <td>1</td>\n",
       "      <td>...</td>\n",
       "      <td>0</td>\n",
       "      <td>0</td>\n",
       "      <td>1</td>\n",
       "      <td>0</td>\n",
       "      <td>1</td>\n",
       "      <td>0</td>\n",
       "      <td>0</td>\n",
       "      <td>0</td>\n",
       "      <td>1</td>\n",
       "      <td>0</td>\n",
       "    </tr>\n",
       "    <tr>\n",
       "      <th>4</th>\n",
       "      <td>2813.692575</td>\n",
       "      <td>0</td>\n",
       "      <td>43836</td>\n",
       "      <td>73</td>\n",
       "      <td>12</td>\n",
       "      <td>44</td>\n",
       "      <td>0</td>\n",
       "      <td>1</td>\n",
       "      <td>138.130879</td>\n",
       "      <td>1</td>\n",
       "      <td>...</td>\n",
       "      <td>0</td>\n",
       "      <td>0</td>\n",
       "      <td>0</td>\n",
       "      <td>1</td>\n",
       "      <td>0</td>\n",
       "      <td>1</td>\n",
       "      <td>0</td>\n",
       "      <td>0</td>\n",
       "      <td>1</td>\n",
       "      <td>0</td>\n",
       "    </tr>\n",
       "  </tbody>\n",
       "</table>\n",
       "<p>5 rows × 26 columns</p>\n",
       "</div>"
      ],
      "text/plain": [
       "   Customer Lifetime Value  Response  Income  Monthly Premium Auto  \\\n",
       "0              2763.519279         0   56274                    69   \n",
       "1              6979.535903         0       0                    94   \n",
       "2             12887.431650         0   48767                   108   \n",
       "3              7645.861827         0       0                   106   \n",
       "4              2813.692575         0   43836                    73   \n",
       "\n",
       "   Months Since Last Claim  Months Since Policy Inception  \\\n",
       "0                       32                              5   \n",
       "1                       13                             42   \n",
       "2                       18                             38   \n",
       "3                       18                             65   \n",
       "4                       12                             44   \n",
       "\n",
       "   Number of Open Complaints  Number of Policies  Total Claim Amount  \\\n",
       "0                          0                   1          384.811147   \n",
       "1                          0                   8         1131.464935   \n",
       "2                          0                   2          566.472247   \n",
       "3                          0                   7          529.881344   \n",
       "4                          0                   1          138.130879   \n",
       "\n",
       "   Coverage=Basic  ...  Location Code=Urban  Marital Status=Divorced  \\\n",
       "0               1  ...                    0                        0   \n",
       "1               0  ...                    0                        0   \n",
       "2               0  ...                    0                        0   \n",
       "3               1  ...                    0                        0   \n",
       "4               1  ...                    0                        0   \n",
       "\n",
       "   Marital Status=Married  Marital Status=Single  Policy Type=Corporate Auto  \\\n",
       "0                       1                      0                           1   \n",
       "1                       0                      1                           0   \n",
       "2                       1                      0                           0   \n",
       "3                       1                      0                           1   \n",
       "4                       0                      1                           0   \n",
       "\n",
       "   Policy Type=Personal Auto  Policy Type=Special Auto  Vehicle Size=Large  \\\n",
       "0                          0                         0                   0   \n",
       "1                          1                         0                   0   \n",
       "2                          1                         0                   0   \n",
       "3                          0                         0                   0   \n",
       "4                          1                         0                   0   \n",
       "\n",
       "   Vehicle Size=Medsize  Vehicle Size=Small  \n",
       "0                     1                   0  \n",
       "1                     1                   0  \n",
       "2                     1                   0  \n",
       "3                     1                   0  \n",
       "4                     1                   0  \n",
       "\n",
       "[5 rows x 26 columns]"
      ]
     },
     "execution_count": 13,
     "metadata": {},
     "output_type": "execute_result"
    }
   ],
   "source": [
    "df.head()"
   ]
  },
  {
   "cell_type": "markdown",
   "metadata": {},
   "source": [
    "## 3.2 Нормализация количественных  данных "
   ]
  },
  {
   "cell_type": "code",
   "execution_count": 14,
   "metadata": {},
   "outputs": [],
   "source": [
    "# Стандартизация (z-преобразование)  \n",
    "scaler = StandardScaler()\n",
    "df[numerical_cols] = scaler.fit_transform(df[numerical_cols])"
   ]
  },
  {
   "cell_type": "code",
   "execution_count": 15,
   "metadata": {},
   "outputs": [
    {
     "data": {
      "text/html": [
       "<div>\n",
       "<style scoped>\n",
       "    .dataframe tbody tr th:only-of-type {\n",
       "        vertical-align: middle;\n",
       "    }\n",
       "\n",
       "    .dataframe tbody tr th {\n",
       "        vertical-align: top;\n",
       "    }\n",
       "\n",
       "    .dataframe thead th {\n",
       "        text-align: right;\n",
       "    }\n",
       "</style>\n",
       "<table border=\"1\" class=\"dataframe\">\n",
       "  <thead>\n",
       "    <tr style=\"text-align: right;\">\n",
       "      <th></th>\n",
       "      <th>Customer Lifetime Value</th>\n",
       "      <th>Response</th>\n",
       "      <th>Income</th>\n",
       "      <th>Monthly Premium Auto</th>\n",
       "      <th>Months Since Last Claim</th>\n",
       "      <th>Months Since Policy Inception</th>\n",
       "      <th>Number of Open Complaints</th>\n",
       "      <th>Number of Policies</th>\n",
       "      <th>Total Claim Amount</th>\n",
       "      <th>Coverage=Basic</th>\n",
       "      <th>...</th>\n",
       "      <th>Location Code=Urban</th>\n",
       "      <th>Marital Status=Divorced</th>\n",
       "      <th>Marital Status=Married</th>\n",
       "      <th>Marital Status=Single</th>\n",
       "      <th>Policy Type=Corporate Auto</th>\n",
       "      <th>Policy Type=Personal Auto</th>\n",
       "      <th>Policy Type=Special Auto</th>\n",
       "      <th>Vehicle Size=Large</th>\n",
       "      <th>Vehicle Size=Medsize</th>\n",
       "      <th>Vehicle Size=Small</th>\n",
       "    </tr>\n",
       "  </thead>\n",
       "  <tbody>\n",
       "    <tr>\n",
       "      <th>0</th>\n",
       "      <td>-0.762878</td>\n",
       "      <td>0</td>\n",
       "      <td>0.612827</td>\n",
       "      <td>-0.703925</td>\n",
       "      <td>1.678099</td>\n",
       "      <td>-1.543287</td>\n",
       "      <td>-0.42225</td>\n",
       "      <td>-0.822648</td>\n",
       "      <td>-0.169640</td>\n",
       "      <td>1</td>\n",
       "      <td>...</td>\n",
       "      <td>0</td>\n",
       "      <td>0</td>\n",
       "      <td>1</td>\n",
       "      <td>0</td>\n",
       "      <td>1</td>\n",
       "      <td>0</td>\n",
       "      <td>0</td>\n",
       "      <td>0</td>\n",
       "      <td>1</td>\n",
       "      <td>0</td>\n",
       "    </tr>\n",
       "    <tr>\n",
       "      <th>1</th>\n",
       "      <td>-0.149245</td>\n",
       "      <td>0</td>\n",
       "      <td>-1.239617</td>\n",
       "      <td>0.022691</td>\n",
       "      <td>-0.208186</td>\n",
       "      <td>-0.217334</td>\n",
       "      <td>-0.42225</td>\n",
       "      <td>2.106160</td>\n",
       "      <td>2.400737</td>\n",
       "      <td>0</td>\n",
       "      <td>...</td>\n",
       "      <td>0</td>\n",
       "      <td>0</td>\n",
       "      <td>0</td>\n",
       "      <td>1</td>\n",
       "      <td>0</td>\n",
       "      <td>1</td>\n",
       "      <td>0</td>\n",
       "      <td>0</td>\n",
       "      <td>1</td>\n",
       "      <td>0</td>\n",
       "    </tr>\n",
       "    <tr>\n",
       "      <th>2</th>\n",
       "      <td>0.710636</td>\n",
       "      <td>0</td>\n",
       "      <td>0.365710</td>\n",
       "      <td>0.429596</td>\n",
       "      <td>0.288205</td>\n",
       "      <td>-0.360680</td>\n",
       "      <td>-0.42225</td>\n",
       "      <td>-0.404247</td>\n",
       "      <td>0.455734</td>\n",
       "      <td>0</td>\n",
       "      <td>...</td>\n",
       "      <td>0</td>\n",
       "      <td>0</td>\n",
       "      <td>1</td>\n",
       "      <td>0</td>\n",
       "      <td>0</td>\n",
       "      <td>1</td>\n",
       "      <td>0</td>\n",
       "      <td>0</td>\n",
       "      <td>1</td>\n",
       "      <td>0</td>\n",
       "    </tr>\n",
       "    <tr>\n",
       "      <th>3</th>\n",
       "      <td>-0.052263</td>\n",
       "      <td>0</td>\n",
       "      <td>-1.239617</td>\n",
       "      <td>0.371467</td>\n",
       "      <td>0.288205</td>\n",
       "      <td>0.606907</td>\n",
       "      <td>-0.42225</td>\n",
       "      <td>1.687759</td>\n",
       "      <td>0.329769</td>\n",
       "      <td>1</td>\n",
       "      <td>...</td>\n",
       "      <td>0</td>\n",
       "      <td>0</td>\n",
       "      <td>1</td>\n",
       "      <td>0</td>\n",
       "      <td>1</td>\n",
       "      <td>0</td>\n",
       "      <td>0</td>\n",
       "      <td>0</td>\n",
       "      <td>1</td>\n",
       "      <td>0</td>\n",
       "    </tr>\n",
       "    <tr>\n",
       "      <th>4</th>\n",
       "      <td>-0.755575</td>\n",
       "      <td>0</td>\n",
       "      <td>0.203390</td>\n",
       "      <td>-0.587666</td>\n",
       "      <td>-0.307465</td>\n",
       "      <td>-0.145661</td>\n",
       "      <td>-0.42225</td>\n",
       "      <td>-0.822648</td>\n",
       "      <td>-1.018843</td>\n",
       "      <td>1</td>\n",
       "      <td>...</td>\n",
       "      <td>0</td>\n",
       "      <td>0</td>\n",
       "      <td>0</td>\n",
       "      <td>1</td>\n",
       "      <td>0</td>\n",
       "      <td>1</td>\n",
       "      <td>0</td>\n",
       "      <td>0</td>\n",
       "      <td>1</td>\n",
       "      <td>0</td>\n",
       "    </tr>\n",
       "  </tbody>\n",
       "</table>\n",
       "<p>5 rows × 26 columns</p>\n",
       "</div>"
      ],
      "text/plain": [
       "   Customer Lifetime Value  Response    Income  Monthly Premium Auto  \\\n",
       "0                -0.762878         0  0.612827             -0.703925   \n",
       "1                -0.149245         0 -1.239617              0.022691   \n",
       "2                 0.710636         0  0.365710              0.429596   \n",
       "3                -0.052263         0 -1.239617              0.371467   \n",
       "4                -0.755575         0  0.203390             -0.587666   \n",
       "\n",
       "   Months Since Last Claim  Months Since Policy Inception  \\\n",
       "0                 1.678099                      -1.543287   \n",
       "1                -0.208186                      -0.217334   \n",
       "2                 0.288205                      -0.360680   \n",
       "3                 0.288205                       0.606907   \n",
       "4                -0.307465                      -0.145661   \n",
       "\n",
       "   Number of Open Complaints  Number of Policies  Total Claim Amount  \\\n",
       "0                   -0.42225           -0.822648           -0.169640   \n",
       "1                   -0.42225            2.106160            2.400737   \n",
       "2                   -0.42225           -0.404247            0.455734   \n",
       "3                   -0.42225            1.687759            0.329769   \n",
       "4                   -0.42225           -0.822648           -1.018843   \n",
       "\n",
       "   Coverage=Basic  ...  Location Code=Urban  Marital Status=Divorced  \\\n",
       "0               1  ...                    0                        0   \n",
       "1               0  ...                    0                        0   \n",
       "2               0  ...                    0                        0   \n",
       "3               1  ...                    0                        0   \n",
       "4               1  ...                    0                        0   \n",
       "\n",
       "   Marital Status=Married  Marital Status=Single  Policy Type=Corporate Auto  \\\n",
       "0                       1                      0                           1   \n",
       "1                       0                      1                           0   \n",
       "2                       1                      0                           0   \n",
       "3                       1                      0                           1   \n",
       "4                       0                      1                           0   \n",
       "\n",
       "   Policy Type=Personal Auto  Policy Type=Special Auto  Vehicle Size=Large  \\\n",
       "0                          0                         0                   0   \n",
       "1                          1                         0                   0   \n",
       "2                          1                         0                   0   \n",
       "3                          0                         0                   0   \n",
       "4                          1                         0                   0   \n",
       "\n",
       "   Vehicle Size=Medsize  Vehicle Size=Small  \n",
       "0                     1                   0  \n",
       "1                     1                   0  \n",
       "2                     1                   0  \n",
       "3                     1                   0  \n",
       "4                     1                   0  \n",
       "\n",
       "[5 rows x 26 columns]"
      ]
     },
     "execution_count": 15,
     "metadata": {},
     "output_type": "execute_result"
    }
   ],
   "source": [
    "df.head()"
   ]
  },
  {
   "cell_type": "markdown",
   "metadata": {
    "id": "H84DhKYs0JQK"
   },
   "source": [
    "## 3.3 Разбиение данных \n",
    "В качестве целевого признака выбираем `Response`. Проведем разбиение данных на train-test\n",
    "\n",
    "\n",
    " \n",
    "\n"
   ]
  },
  {
   "cell_type": "code",
   "execution_count": 16,
   "metadata": {
    "colab": {
     "base_uri": "https://localhost:8080/"
    },
    "id": "gaj7TtDzKuAM",
    "outputId": "010967ac-7574-4bc7-f2fd-ff29a343d18e",
    "scrolled": false
   },
   "outputs": [
    {
     "name": "stdout",
     "output_type": "stream",
     "text": [
      "X_train has shape:  (6393, 25)\n",
      "X_test has shape:  (2741, 25)\n",
      "Categorical columns are:\n",
      " ['Coverage', 'Gender', 'Location Code', 'Marital Status', 'Policy Type', 'Vehicle Size']\n",
      "Numerical columns are:\n",
      " ['Customer Lifetime Value', 'Income', 'Monthly Premium Auto', 'Months Since Last Claim', 'Months Since Policy Inception', 'Number of Open Complaints', 'Number of Policies', 'Total Claim Amount']\n"
     ]
    }
   ],
   "source": [
    "# разделим на целевой вектор и вектора признаков\n",
    "y = df['Response']\n",
    "X = df.drop(['Response'], axis=1)\n",
    "\n",
    "# разбиение данных на набор для обучения и сравнения\n",
    "X_train, X_test, y_train, y_test = train_test_split(X, y, test_size=0.3, random_state=42, stratify=y)\n",
    "\n",
    "print(\"X_train has shape: \",X_train.shape)\n",
    "print(\"X_test has shape: \", X_test.shape)\n",
    "print(\"Categorical columns are:\\n\",categorical_cols)\n",
    "print(\"Numerical columns are:\\n\",numerical_cols)"
   ]
  },
  {
   "cell_type": "markdown",
   "metadata": {},
   "source": [
    "# 4 Методы градиентного бустинга с параметрами по умолчанию"
   ]
  },
  {
   "cell_type": "markdown",
   "metadata": {
    "id": "suz_xWGP8ynH"
   },
   "source": [
    "## 4.1 Функции обрабатывающие методы градиентного бустинга"
   ]
  },
  {
   "cell_type": "markdown",
   "metadata": {},
   "source": [
    "Определим функции, которые осуществляют обучения и выдают предсказания записанные в датафреймы для удобного сравнения результатов работ моделей"
   ]
  },
  {
   "cell_type": "code",
   "execution_count": 17,
   "metadata": {},
   "outputs": [],
   "source": [
    "# определим вспомогательную функцию, которая для строки возвращает заглавные символы в ней\n",
    "def shorter(name):\n",
    "    \"\"\"Reduce string and returns uppercase symbols.\n",
    "\n",
    "    Args:\n",
    "      name: Stiring with upper case simbols.\n",
    "\n",
    "    Returns:\n",
    "      upercase simbols in the string name.\n",
    "    \"\"\"\n",
    "    return \"\".join([let for let in name if let.isupper()])    "
   ]
  },
  {
   "cell_type": "code",
   "execution_count": 18,
   "metadata": {},
   "outputs": [],
   "source": [
    "# определим функцию обучения и предсказания на разбиении из пункта 3.3\n",
    "def single_gb_fit_predict(models, x_train, y_train, x_test, y_test):\n",
    "    \"\"\"Fit models to xtrain, ytrain and predict outcome for xtest.\n",
    "\n",
    "    Args:\n",
    "      models:  List with the gradient boosting classification models\n",
    "      x_train: DataFrame with train data \n",
    "      y_train: PandasSeries with labels for train data \n",
    "      x_test:  DataFrame with test data \n",
    "      y_test:  PandasSeries with labels for test data \n",
    "\n",
    "    Returns:\n",
    "      combined: DataFrame with first column with labels y_test\n",
    "                and predicted values by the models for incoming x_test.\n",
    "    \"\"\"\n",
    "    # создаем пустой DataFrame\n",
    "    combined = pd.DataFrame()\n",
    "    combined[\"y_test\"] = y_test    \n",
    "    for model in models:\n",
    "        model.fit(x_train, y_train)        \n",
    "        combined[shorter(type(model).__name__)] = model.predict(x_test)\n",
    "        combined[shorter(type(model).__name__)+\"_proba\"] = model.predict_proba(x_test)[:,1]\n",
    "        \n",
    "    return combined"
   ]
  },
  {
   "cell_type": "code",
   "execution_count": 19,
   "metadata": {},
   "outputs": [],
   "source": [
    "# определим функцию многократного обучения, предсказания и валидации методов\n",
    "def repeated_gb_crossvalidation(models, x, y):\n",
    "    \"\"\"Calculate repeated stratified K-fold crossvalidation score for model in list models.\n",
    "\n",
    "    Args:\n",
    "      models: List with the gradient boosting classification models\n",
    "      x: DataFrame with full dataset (train+test) \n",
    "      y: PandasSeries with labels for full dataset (train+test)\n",
    "      \n",
    "\n",
    "    Returns:\n",
    "      combined: DataFrame with first column with labels y_test\n",
    "                and predicted values by the models for incoming x_test.\n",
    "    \"\"\"    \n",
    "    # будем проводить многократную валидацию методов на одинаковых разбиениях\n",
    "    combined = pd.DataFrame()\n",
    "    cv = RepeatedStratifiedKFold(n_splits=5, n_repeats=5, random_state=321) \n",
    "    for model in models:             \n",
    "        combined[shorter(type(model).__name__)] = cross_val_score(model, x, y,\n",
    "                                                           scoring='roc_auc', cv=cv)\n",
    "    return combined\n"
   ]
  },
  {
   "cell_type": "markdown",
   "metadata": {},
   "source": [
    "## 4.2 Сбор результатов обучения и предсказаний методов"
   ]
  },
  {
   "cell_type": "code",
   "execution_count": 20,
   "metadata": {
    "scrolled": true
   },
   "outputs": [
    {
     "name": "stdout",
     "output_type": "stream",
     "text": [
      "      y_test  GBC  GBC_proba  XGBC  XGBC_proba  CBC  CBC_proba  LGBMC  \\\n",
      "8314       1    0   0.287203     1    0.817988    1   0.670432      1   \n",
      "3238       0    0   0.122254     0    0.005055    0   0.006988      0   \n",
      "2789       0    0   0.377992     0    0.016038    0   0.018846      0   \n",
      "2828       0    0   0.257125     0    0.055065    0   0.314005      0   \n",
      "7681       1    0   0.187327     1    0.963494    1   0.853424      1   \n",
      "\n",
      "      LGBMC_proba  \n",
      "8314     0.662407  \n",
      "3238     0.012227  \n",
      "2789     0.048712  \n",
      "2828     0.161660  \n",
      "7681     0.815571  \n"
     ]
    }
   ],
   "source": [
    "# Определим список методов градиентного бустинга\n",
    "models = [\n",
    "    GradientBoostingClassifier(),\n",
    "    XGBClassifier(objective=\"reg:logistic\"),\n",
    "    CatBoostClassifier(eval_metric='AUC',verbose=0),\n",
    "    LGBMClassifier()\n",
    "]\n",
    "#output single prediction from models with default parameters\n",
    "sp_default = single_gb_fit_predict(models, X_train, y_train, X_test, y_test)\n",
    "print(sp_default.head(5))"
   ]
  },
  {
   "cell_type": "code",
   "execution_count": 21,
   "metadata": {
    "scrolled": true
   },
   "outputs": [
    {
     "name": "stdout",
     "output_type": "stream",
     "text": [
      "        GBC      XGBC       CBC     LGBMC\n",
      "0  0.862984  0.999452  0.995743  0.998246\n",
      "1  0.896617  0.999985  0.999410  0.999481\n",
      "2  0.900307  1.000000  0.999800  0.999149\n",
      "3  0.901218  0.999956  0.999293  0.998878\n",
      "4  0.844295  0.977065  0.978909  0.980970\n"
     ]
    }
   ],
   "source": [
    "#output repeated stratified K-fold crossvalidation from models with default parameters\n",
    "crossval_default = repeated_gb_crossvalidation(models, X, y)\n",
    "print(crossval_default.head(5))"
   ]
  },
  {
   "cell_type": "markdown",
   "metadata": {
    "id": "BADyC5EhVIn9"
   },
   "source": [
    "# 5 Настройка гиперпараметров\n",
    "\n",
    "гиперпараметров моделей на кросс-валидации, можно настраивать только самые основные гиперпараметры - число итераций бустинга, max_features, subsample и т.д."
   ]
  },
  {
   "cell_type": "markdown",
   "metadata": {},
   "source": [
    "- Теперь проведите настройку гиперпараметров моделей на кросс-валидации, можно настраивать только самые основные гиперпараметры - число итераций бустинга, max_features, subsample и т.д.\n",
    "- Снова проверьте качество уже настроенных моделей, кто, в итоге победил?"
   ]
  },
  {
   "cell_type": "markdown",
   "metadata": {},
   "source": [
    "Настройка параметров отличается для разных реализаций GB. В данном случае будем проводить перебор из множества значений параметров базового алгоритма (определяющих деревья решений). "
   ]
  },
  {
   "cell_type": "markdown",
   "metadata": {},
   "source": [
    "Common tree tunable parameters\n",
    "- **learning rate**: learning rate/eta\n",
    "- **gamma**: min loss reduction to create new tree split\n",
    "- **lambda**: L2 reg on leaf weights\n",
    "- **alpha**: L1 reg on leaf weights\n",
    "- **max_depth**: max depth per tree\n",
    "- **subsample**: % samples used per tree\n",
    "- **colsample_bytree**: % features used per tree"
   ]
  },
  {
   "cell_type": "markdown",
   "metadata": {},
   "source": [
    "## 5.1 Функции обработки "
   ]
  },
  {
   "cell_type": "code",
   "execution_count": null,
   "metadata": {},
   "outputs": [],
   "source": [
    "# Нужен контекст ТАЙМЕР!!! \n",
    "# @context. contextmanager\n",
    "# def timer():\n",
    "# statr = time.time()\n",
    "# yeild \n",
    "# end = time.time() - start"
   ]
  },
  {
   "cell_type": "code",
   "execution_count": null,
   "metadata": {},
   "outputs": [],
   "source": [
    "def optimization_by_grid_search(models, grid, x_train, y_train, x_test, y_test):\n",
    "    \"\"\"Calculate optimal solution on grid for different models on x_train, y_train.\n",
    "          Then make predictions for x_test by different models with optimal parameters.\n",
    "\n",
    "    Args:\n",
    "      models:  List with the gradient boosting classification models\n",
    "      grid:    Dictionary with parameters and their values\n",
    "      x_train: DataFrame with train data \n",
    "      y_train: PandasSeries with labels for train data \n",
    "      x_test:  DataFrame with test data \n",
    "      y_test:  PandasSeries with labels for test data\n",
    "\n",
    "    Returns:\n",
    "      combined: DataFrame with first column with labels y_test\n",
    "                and predicted values by the models for incoming x_test.\n",
    "    \"\"\"\n",
    "    combined = pd.DataFrame()\n",
    "    combined[\"y_test\"] = y_test \n",
    "    for model in models:\n",
    "        grid_rocauc = GridSearchCV(estimator=model,\n",
    "                                    param_grid=gbm_param_grid,\n",
    "                                    scoring='roc_auc',\n",
    "                                    cv=4,\n",
    "                                    verbose=1)\n",
    "        #TODO:\n",
    "        #надо делать в рамках контекста timer!!! \n",
    "        grid_rocauc.fit(x_train, y_train)\n",
    "        \n",
    "        print(\"Best parameters found: \",grid_rocauc.best_params_)\n",
    "        print(\"Lowest roc_auc found: \", grid_rocauc.best_score_)\n",
    "        best_gbm = model(**grid_rocauc.best_params_)\n",
    "        best_gbm.fit(x_train,y_train)    \n",
    "        combined[shorter(type(model).__name__)] = best_gbm.predict(x_test)\n",
    "    return combined        "
   ]
  },
  {
   "cell_type": "markdown",
   "metadata": {},
   "source": [
    "## 5.2 Поиск оптимальных значений параметров"
   ]
  },
  {
   "cell_type": "code",
   "execution_count": null,
   "metadata": {},
   "outputs": [],
   "source": [
    "gbm_param_grid = {\n",
    "                'learning_rate': [0.03,0.1],\n",
    "                \"max_depth\": [2, 4],\n",
    "                'n_estimators': [100],\n",
    "                'subsample': [0.3, 0.95],\n",
    "                }\n",
    "models = [\n",
    "    GradientBoostingClassifier(),\n",
    "    XGBClassifier(objective=\"reg:logistic\"),\n",
    "    CatBoostClassifier(eval_metric='AUC',verbose=0),\n",
    "    LGBMClassifier()\n",
    "]\n",
    "\n",
    "sp_tuned = optimization_by_grid_search(models, grid, x_train, y_train, x_test, y_test)"
   ]
  },
  {
   "cell_type": "markdown",
   "metadata": {},
   "source": [
    "## 5.1 GradientBoosting"
   ]
  },
  {
   "cell_type": "code",
   "execution_count": 54,
   "metadata": {
    "scrolled": false
   },
   "outputs": [
    {
     "name": "stdout",
     "output_type": "stream",
     "text": [
      "Fitting 4 folds for each of 8 candidates, totalling 32 fits\n",
      "Best parameters found:  {'learning_rate': 0.1, 'max_depth': 4, 'n_estimators': 100, 'subsample': 0.95}\n",
      "Lowest roc_auc found:  0.9452676837417617\n"
     ]
    }
   ],
   "source": [
    "# Делаем поиск оптимальных параметров для train см 3.3\n",
    "# \n",
    "\n",
    "gbm = GradientBoostingClassifier()\n",
    "grid_rocauc = GridSearchCV(estimator=gbm,\n",
    "                        param_grid=gbm_param_grid,\n",
    "                        scoring='roc_auc',\n",
    "                        cv=4,\n",
    "                        verbose=1)\n",
    "#print(grid_rocauc.estimator.get_params().keys())\n",
    "grid_rocauc.fit(X_train, y_train)\n",
    "print(\"Best parameters found: \",grid_rocauc.best_params_)\n",
    "print(\"Lowest roc_auc found: \", grid_rocauc.best_score_)"
   ]
  },
  {
   "cell_type": "code",
   "execution_count": 55,
   "metadata": {},
   "outputs": [
    {
     "name": "stdout",
     "output_type": "stream",
     "text": [
      "      y_test  gb_predict  xgb_predict  cgb_predict  lgb_predict\n",
      "8314       1           0            0            0            0\n",
      "3238       0           0            0            0            0\n",
      "2789       0           0            0            0            0\n",
      "2828       0           0            0            0            0\n",
      "7681       1           0            0            0            0\n"
     ]
    }
   ],
   "source": [
    "# \n",
    "best_gbm = GradientBoostingClassifier(**grid_rocauc.best_params_)\n",
    "best_gbm.fit(X_train,y_train)\n",
    "y_pred = best_gbm.predict(X_test)\n",
    "output_df_tune[output_cols[1]] = y_pred\n",
    "print(output_df_tune.head())"
   ]
  },
  {
   "cell_type": "markdown",
   "metadata": {},
   "source": [
    "## 5.2 XGBoost"
   ]
  },
  {
   "cell_type": "code",
   "execution_count": 57,
   "metadata": {},
   "outputs": [
    {
     "name": "stdout",
     "output_type": "stream",
     "text": [
      "Best parameters found:  {'learning_rate': 0.1, 'max_depth': 4, 'n_estimators': 100, 'subsample': 0.95}\n",
      "Lowest roc_auc found:  0.9415976288205203\n"
     ]
    }
   ],
   "source": [
    "gbm = XGBClassifier(objective=\"reg:logistic\")\n",
    "grid_rocauc = GridSearchCV(estimator=gbm,\n",
    "                        param_grid=gbm_param_grid,\n",
    "                        scoring='roc_auc',\n",
    "                        cv=4,\n",
    "                        verbose=0)\n",
    "grid_rocauc.fit(X, y)\n",
    "print(\"Best parameters found: \",grid_rocauc.best_params_)\n",
    "print(\"Lowest roc_auc found: \", grid_rocauc.best_score_)"
   ]
  },
  {
   "cell_type": "code",
   "execution_count": 59,
   "metadata": {},
   "outputs": [
    {
     "name": "stdout",
     "output_type": "stream",
     "text": [
      "      y_test  gb_predict  xgb_predict  cgb_predict  lgb_predict\n",
      "8314       1           0            0            0            0\n",
      "3238       0           0            0            0            0\n",
      "2789       0           0            0            0            0\n",
      "2828       0           0            0            0            0\n",
      "7681       1           0            0            0            0\n"
     ]
    }
   ],
   "source": [
    "best_gbm = XGBClassifier(objective=\"reg:logistic\",**grid_rocauc.best_params_)\n",
    "#print(best_gbm)\n",
    "best_gbm.fit(X_train,y_train)\n",
    "y_pred = best_gbm.predict(X_test)\n",
    "output_df_tune[output_cols[2]] = y_pred\n",
    "print(output_df_tune.head())"
   ]
  },
  {
   "cell_type": "markdown",
   "metadata": {},
   "source": [
    "## 5.3 CatBoost"
   ]
  },
  {
   "cell_type": "code",
   "execution_count": 58,
   "metadata": {},
   "outputs": [
    {
     "name": "stdout",
     "output_type": "stream",
     "text": [
      "Best parameters found:  {'learning_rate': 0.1, 'max_depth': 4, 'n_estimators': 10, 'subsample': 0.95}\n",
      "Lowest roc_auc found:  0.7019288403202579\n"
     ]
    }
   ],
   "source": [
    "gbm = CatBoostClassifier(verbose=0)#objective=\"reg:logistic\")\n",
    "grid_rocauc = GridSearchCV(estimator=gbm,\n",
    "                        param_grid=gbm_param_grid,\n",
    "                        scoring='roc_auc',\n",
    "                        cv=4,\n",
    "                        verbose=0)\n",
    "grid_rocauc.fit(X, y)\n",
    "print(\"Best parameters found: \",grid_rocauc.best_params_)\n",
    "print(\"Lowest roc_auc found: \", grid_rocauc.best_score_)"
   ]
  },
  {
   "cell_type": "code",
   "execution_count": 60,
   "metadata": {},
   "outputs": [
    {
     "name": "stdout",
     "output_type": "stream",
     "text": [
      "      y_test  gb_predict  xgb_predict  cgb_predict  lgb_predict\n",
      "8314       1           0            0            0            0\n",
      "3238       0           0            0            0            0\n",
      "2789       0           0            0            0            0\n",
      "2828       0           0            0            0            0\n",
      "7681       1           0            0            0            0\n"
     ]
    }
   ],
   "source": [
    "best_gbm = CatBoostClassifier(verbose=0,**grid_rocauc.best_params_)\n",
    "#print(best_gbm)\n",
    "best_gbm.fit(X_train,y_train)\n",
    "y_pred = best_gbm.predict(X_test)\n",
    "output_df_tune[output_cols[3]] = y_pred\n",
    "print(output_df_tune.head())"
   ]
  },
  {
   "cell_type": "markdown",
   "metadata": {},
   "source": [
    "## 5.4 LightGBM"
   ]
  },
  {
   "cell_type": "code",
   "execution_count": 61,
   "metadata": {},
   "outputs": [
    {
     "name": "stdout",
     "output_type": "stream",
     "text": [
      "Best parameters found:  {'learning_rate': 0.1, 'max_depth': 4, 'n_estimators': 10, 'subsample': 0.3}\n",
      "Lowest roc_auc found:  0.77209474623893\n"
     ]
    }
   ],
   "source": [
    "gbm = LGBMClassifier()\n",
    "grid_rocauc = GridSearchCV(estimator=gbm,\n",
    "                        param_grid=gbm_param_grid,\n",
    "                        scoring='roc_auc',\n",
    "                        cv=4,\n",
    "                        verbose=0)\n",
    "grid_rocauc.fit(X, y)\n",
    "print(\"Best parameters found: \",grid_rocauc.best_params_)\n",
    "print(\"Lowest roc_auc found: \", grid_rocauc.best_score_)"
   ]
  },
  {
   "cell_type": "code",
   "execution_count": 51,
   "metadata": {},
   "outputs": [
    {
     "name": "stdout",
     "output_type": "stream",
     "text": [
      "      y_test  gb_predict  xgb_predict  cgb_predict  lgb_predict\n",
      "8314       1           0            0            0            0\n",
      "3238       0           0            0            0            0\n",
      "2789       0           0            0            0            0\n",
      "2828       0           0            0            0            0\n",
      "7681       1           0            0            0            0\n"
     ]
    }
   ],
   "source": [
    "best_gbm = LGBMClassifier(**grid_rocauc.best_params_)\n",
    "#print(best_gbm)\n",
    "best_gbm.fit(X_train,y_train)\n",
    "y_pred = best_gbm.predict(X_test)\n",
    "output_df_tune[output_cols[4]] = y_pred\n",
    "print(output_df_tune.head())"
   ]
  },
  {
   "cell_type": "markdown",
   "metadata": {},
   "source": [
    "# 6 Сравнение методов градиентного бустинга"
   ]
  },
  {
   "cell_type": "markdown",
   "metadata": {},
   "source": [
    "## 6.1 Функции выдающие метрики по предсказаниям методов"
   ]
  },
  {
   "cell_type": "markdown",
   "metadata": {},
   "source": [
    "### 6.1.1 При единичном эксперименте"
   ]
  },
  {
   "cell_type": "code",
   "execution_count": 22,
   "metadata": {},
   "outputs": [
    {
     "name": "stdout",
     "output_type": "stream",
     "text": [
      "<class 'pandas.core.indexes.base.Index'>\n",
      "[0, 1, 2, 3, 4]\n"
     ]
    }
   ],
   "source": [
    "print(type(sp_default.columns[1:]))\n",
    "print([i for i in range(5)])"
   ]
  },
  {
   "cell_type": "code",
   "execution_count": 100,
   "metadata": {},
   "outputs": [],
   "source": [
    "def get_metrics_of_single_experiment(sp_default):\n",
    "    \"\"\"Output some metrics for comparison of some binary classification models.\n",
    "\n",
    "    Args:\n",
    "      sp_default: DataFrame with sigle predictions for\n",
    "                  some (gradient boosting classification) models                \n",
    "    \"\"\"\n",
    "    _, n_models = sp_default.shape\n",
    "    proba_names = [name for name in sp_default.columns if \"_proba\" in name ]    \n",
    "    model_names = [name for name in sp_default.columns if \"_\" not in name ]\n",
    "    \n",
    "    \n",
    "    # make classification_report for all models\n",
    "    clf_reports = [classification_report(sp_default['y_test'],\n",
    "                                         sp_default[model_name]\n",
    "                                        ) for model_name in model_names]  \n",
    "    for i, report in enumerate(clf_reports):    \n",
    "        print(f\"\\nFor {model_names[i]:^7} we have classification report:\\n\", report)\n",
    "     \n",
    "    \n",
    "    # make confusion_matrix for all models    \n",
    "    cm = [ confusion_matrix(sp_default['y_test'],\n",
    "                            sp_default[model_name]\n",
    "                           ) for model_name in model_names] \n",
    "    draw_confusion_matrixs(cm, model_names)\n",
    "    \n",
    "    \n",
    "    # make roc_auc_score  \n",
    "    rog_auc_scores = [roc_auc_score(sp_default['y_test'],\n",
    "                                    sp_default[model_name]\n",
    "                                   ) for model_name in model_names]  \n",
    "    for i, ra_score in enumerate(rog_auc_scores):\n",
    "        print(f\"For model {model_names[i]:^7} our rog_auc_score is {ra_score:0.3f} \")\n",
    "    \n",
    "\n",
    "    # make roc curves for all models    \n",
    "    fpr = dict()\n",
    "    tpr = dict()\n",
    "    roc_auc = dict()\n",
    "    for i, proba_name in enumerate(proba_names):\n",
    "        fpr[i], tpr[i], _ = roc_curve(sp_default[\"y_test\"], sp_default[proba_name])\n",
    "        roc_auc[i] = auc(fpr[i], tpr[i])   \n",
    "    draw_roc_curve(fpr, tpr, roc_auc, model_names)"
   ]
  },
  {
   "cell_type": "code",
   "execution_count": 113,
   "metadata": {},
   "outputs": [],
   "source": [
    "def draw_confusion_matrixs(cm, models):\n",
    "    \"\"\"Plot confusion matrics for comparison of some binary classification models.\n",
    "\n",
    "    Args:\n",
    "      cm: confusion matrics with predictions from\n",
    "          some binary classification models\n",
    "      models: list of binary classification model names  \n",
    "    \"\"\"     \n",
    "    fig = plt.figure(figsize=(7,7))\n",
    "    for i, model in enumerate(models):\n",
    "        ax = plt.subplot(2, len(models)/2, i+1)         \n",
    "        ax.set_title(model) \n",
    "        df_cm = pd.DataFrame(cm[i], index = [\"No\", \"Yes\"], columns = [\"No\", \"Yes\"])    \n",
    "        sns.heatmap(df_cm, annot=True)"
   ]
  },
  {
   "cell_type": "code",
   "execution_count": 3,
   "metadata": {},
   "outputs": [],
   "source": [
    "def draw_roc_curve(fpr, tpr, roc_auc, model_names):\n",
    "    \"\"\"Plot Roc curve for comparison of some binary classification models.\n",
    "\n",
    "    Args:\n",
    "      fpr: dictionary with false positive rates of predictions\n",
    "                        from some binary classification models\n",
    "      tpr: dictionary with true positive rates of predictions\n",
    "                       from some binary classification models\n",
    "      roc_auc: dictionary with area ander roc curve of predictions\n",
    "                            from some binary classification models\n",
    "      model_names: \n",
    "    \"\"\"    \n",
    "    plt.figure(figsize=(6,6))\n",
    "    lw = 2\n",
    "    for i, model_name in enumerate(model_names):\n",
    "        plt.plot(fpr[i], tpr[i], lw=lw,\n",
    "                 label=f\"{model_name:^8} (area = {roc_auc[i]:0.4f})\"\n",
    "                )\n",
    "        \n",
    "    plt.plot([0, 1], [0, 1], lw=lw, color=\"navy\", linestyle=\"--\")\n",
    "    plt.xlim([-0.05, 1.05])\n",
    "    plt.ylim([-0.05, 1.05])\n",
    "    plt.grid(visible=True)\n",
    "    plt.xlabel(\"False Positive Rate\")\n",
    "    plt.ylabel(\"True Positive Rate\")\n",
    "    plt.title(\"Roc curves for different models \\n and data split in sectiion 3.3\")\n",
    "    plt.legend(loc=\"lower right\")\n",
    "\n",
    "    plt.show()   "
   ]
  },
  {
   "cell_type": "markdown",
   "metadata": {},
   "source": [
    "### 6.1.2 При многократной кроссвалидации "
   ]
  },
  {
   "cell_type": "code",
   "execution_count": 2,
   "metadata": {},
   "outputs": [],
   "source": [
    "def get_metrics_of_repeated_experiment(crossval_data):\n",
    "    \"\"\"Output mean and std for score results of repeated stratified K-fold cross-validation.\n",
    "\n",
    "    Args:\n",
    "      crossval_data: DataFrame with score results of repeated stratified K-fold cross-validation \n",
    "    \"\"\" \n",
    "    ## TODO by PANDAS table and avg funcs!!! \n",
    "#     print(crossval_data.columns)\n",
    "    for model in crossval_data.columns:\n",
    "        print(f\"For model {model:^7} our scores mean = {crossval_data[model].mean():0.4f} (+/- std = {crossval_data[model].std():0.4f})\")"
   ]
  },
  {
   "cell_type": "markdown",
   "metadata": {},
   "source": [
    "## 6.2 Модели с параметрами по умолчанию"
   ]
  },
  {
   "cell_type": "markdown",
   "metadata": {},
   "source": [
    "### 6.2.1 Результаты при обучении на разбиении из пункта 3.3"
   ]
  },
  {
   "cell_type": "code",
   "execution_count": 114,
   "metadata": {},
   "outputs": [
    {
     "name": "stdout",
     "output_type": "stream",
     "text": [
      "\n",
      "For   GBC   we have classification report:\n",
      "               precision    recall  f1-score   support\n",
      "\n",
      "           0       0.87      1.00      0.93      2348\n",
      "           1       0.84      0.10      0.17       393\n",
      "\n",
      "    accuracy                           0.87      2741\n",
      "   macro avg       0.86      0.55      0.55      2741\n",
      "weighted avg       0.86      0.87      0.82      2741\n",
      "\n",
      "\n",
      "For  XGBC   we have classification report:\n",
      "               precision    recall  f1-score   support\n",
      "\n",
      "           0       1.00      0.99      1.00      2348\n",
      "           1       0.97      1.00      0.98       393\n",
      "\n",
      "    accuracy                           1.00      2741\n",
      "   macro avg       0.98      1.00      0.99      2741\n",
      "weighted avg       1.00      1.00      1.00      2741\n",
      "\n",
      "\n",
      "For   CBC   we have classification report:\n",
      "               precision    recall  f1-score   support\n",
      "\n",
      "           0       0.98      1.00      0.99      2348\n",
      "           1       0.98      0.90      0.94       393\n",
      "\n",
      "    accuracy                           0.98      2741\n",
      "   macro avg       0.98      0.95      0.96      2741\n",
      "weighted avg       0.98      0.98      0.98      2741\n",
      "\n",
      "\n",
      "For  LGBMC  we have classification report:\n",
      "               precision    recall  f1-score   support\n",
      "\n",
      "           0       0.98      1.00      0.99      2348\n",
      "           1       0.99      0.89      0.94       393\n",
      "\n",
      "    accuracy                           0.98      2741\n",
      "   macro avg       0.99      0.95      0.96      2741\n",
      "weighted avg       0.98      0.98      0.98      2741\n",
      "\n",
      "For method   GBC   our rog_auc_score is 0.547 \n",
      "For method  XGBC   our rog_auc_score is 0.997 \n",
      "For method   CBC   our rog_auc_score is 0.947 \n",
      "For method  LGBMC  our rog_auc_score is 0.946 \n"
     ]
    },
    {
     "data": {
      "image/png": "[encoded data removed]",
      "text/plain": [
       "<Figure size 504x504 with 8 Axes>"
      ]
     },
     "metadata": {
      "needs_background": "light"
     },
     "output_type": "display_data"
    },
    {
     "data": {
      "image/png": "[encoded data removed]",
      "text/plain": [
       "<Figure size 432x432 with 1 Axes>"
      ]
     },
     "metadata": {
      "needs_background": "light"
     },
     "output_type": "display_data"
    }
   ],
   "source": [
    "get_metrics_of_single_experiment(sp_default)"
   ]
  },
  {
   "cell_type": "markdown",
   "metadata": {},
   "source": [
    "### 6.2.2 Результаты при множественной кроссвалидации на всем наборе данных"
   ]
  },
  {
   "cell_type": "code",
   "execution_count": 106,
   "metadata": {},
   "outputs": [
    {
     "name": "stdout",
     "output_type": "stream",
     "text": [
      "For method   GBC   our scores mean = 0.8889 (+/- std = 0.0129)\n",
      "For method  XGBC   our scores mean = 0.9989 (+/- std = 0.0046)\n",
      "For method   CBC   our scores mean = 0.9976 (+/- std = 0.0041)\n",
      "For method  LGBMC  our scores mean = 0.9981 (+/- std = 0.0037)\n"
     ]
    }
   ],
   "source": [
    "get_metrics_of_repeated_experiment(crossval_default)"
   ]
  },
  {
   "cell_type": "markdown",
   "metadata": {},
   "source": [
    "## 6.3 Модели параметрами после оптимизации некоторых параметров на данных разбитых в пункте 3.3"
   ]
  },
  {
   "cell_type": "code",
   "execution_count": null,
   "metadata": {},
   "outputs": [],
   "source": [
    "get_metrics_of_single_experiment(sp_tuned)"
   ]
  },
  {
   "cell_type": "markdown",
   "metadata": {},
   "source": [
    "## Значимость параметров Какая??? "
   ]
  },
  {
   "cell_type": "markdown",
   "metadata": {
    "id": "Pjt_TFHeVa1X"
   },
   "source": [
    "# Заключение"
   ]
  },
  {
   "cell_type": "markdown",
   "metadata": {
    "id": "yiPjMnUtVfNn"
   },
   "source": [
    "Сравнение моделей \"из коробки\" при многократной кроссвалидации показало, что:\n",
    " - вывод 1 \n",
    " - вывод 2\n",
    "\n",
    "Единичное сравнение на разбиении в пункте 3.3 в сравнении с многократной кросвалидацией показало:\n",
    " - вывод 1 \n",
    " - вывод 2\n",
    "\n",
    "\n",
    "Использование настройки параметров с помощью `GridSearchCV` для рассматриваемых моделе показало, что:\n",
    " - критерий времени работы  \n",
    " - критерий roc-auc + график кривой?   \n",
    "\n",
    "\n",
    "Про саму задачу ...\n",
    "- выдать значимость параметров, что это может значить для задачи\n",
    "- дополнительно исследовать большее число категориальных параметров \n",
    "\n"
   ]
  },
  {
   "cell_type": "code",
   "execution_count": null,
   "metadata": {},
   "outputs": [],
   "source": []
  }
 ],
 "metadata": {
  "colab": {
   "collapsed_sections": [],
   "name": "HW_01_IBM_watson.ipynb",
   "provenance": [],
   "toc_visible": true
  },
  "kernelspec": {
   "display_name": "Python 3",
   "language": "python",
   "name": "python3"
  },
  "language_info": {
   "codemirror_mode": {
    "name": "ipython",
    "version": 3
   },
   "file_extension": ".py",
   "mimetype": "text/x-python",
   "name": "python",
   "nbconvert_exporter": "python",
   "pygments_lexer": "ipython3",
   "version": "3.8.8"
  }
 },
 "nbformat": 4,
 "nbformat_minor": 1
}
