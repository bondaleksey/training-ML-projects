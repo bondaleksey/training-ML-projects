{
 "cells": [
  {
   "cell_type": "markdown",
   "id": "584c5321",
   "metadata": {},
   "source": [
    "# от Бондаренко Алексея (bondaleksey@gmail.com)\n",
    "\n",
    "Цель данного ноутбука провести моделирование распространения болезни по аэропортам и посмотреть некоторые функции библиотеки работы с графами NetworkX\n",
    "\n",
    "\n",
    "Основные пункты исследования: \n",
    "\n",
    "* реализация функции моделирование распространения болезни,\n",
    "* оценка скорости распространения болезни,\n",
    "* исследование графа связности аэропортов и распространения болезни,\n",
    "* заключение."
   ]
  },
  {
   "cell_type": "code",
   "execution_count": 3,
   "id": "7976a986",
   "metadata": {},
   "outputs": [],
   "source": [
    "import numpy as np \n",
    "import pandas as pd\n",
    "\n",
    "# for graphics \n",
    "import matplotlib.pyplot as plt\n",
    "import seaborn as sns\n",
    "\n",
    "\n",
    "#technical \n",
    "%matplotlib inline\n",
    "import pickle\n",
    "import warnings\n",
    "import contextlib\n",
    "import time"
   ]
  },
  {
   "cell_type": "markdown",
   "id": "5398d292",
   "metadata": {},
   "source": [
    "# 1. Данные"
   ]
  },
  {
   "cell_type": "markdown",
   "id": "2722cf5c",
   "metadata": {},
   "source": [
    "## 1.1 Описание признаков в наборе данных\n",
    "Приведем [описание](https://docs.microsoft.com/en-us/machine-learning-server/r-reference/revoscaler/airlinedata87to08) набора [данных](https://www.kaggle.com/prajitdatta/data-stories-of-us-airlines) и \n",
    "**`выделим`** наиболее значимые признаки."
   ]
  },
  {
   "cell_type": "markdown",
   "id": "581fe87c",
   "metadata": {},
   "source": [
    "**Year** - year of the flight (stored as factor).\n",
    "\n",
    "**Month** - month of the flight (stored as factor).\n",
    "\n",
    "**`DayOfMonth`** - day of the month (1 to 31) (stored as integer).\n",
    "\n",
    "**DayOfWeek** - day of the week (stored as factor).\n",
    "\n",
    "**`DepTime`** - actual departure time (stored as float).\n",
    "\n",
    "**`CRSDepTime`** - scheduled departure time (stored as float).\n",
    "\n",
    "**`ArrTime`** - actual arrival time (stored as float).\n",
    "\n",
    "**`CRSArrTime`** - scheduled arrival time (stored as float).\n",
    "\n",
    "**UniqueCarrier** - carrier ID (stored as factor).\n",
    "\n",
    "**FlightNum** - flight number (stored as factor).\n",
    "\n",
    "**TailNum** - plane's tail number (stored as factor).\n",
    "\n",
    "**`ActualElapsedTime`** - actual elapsed time of the flight, in minutes (stored as integer).\n",
    "\n",
    "**CRSElapsedTime** - scheduled elapsed time of the flight, in minutes (stored as integer).\n",
    "\n",
    "**AirTime** - airborne time for the flight, in minutes (stored as integer).\n",
    "\n",
    "**ArrDelay** - arrival delay, in minutes (stored as integer).\n",
    "\n",
    "**DepDelay** - departure delay, in minutes (stored as integer).\n",
    "\n",
    "**`Origin`** - originating airport (stored as factor).\n",
    "\n",
    "**`Dest`** - destination airport (stored as factor).\n",
    "\n",
    "**Distance** - flight distance (stored as integer).\n",
    "\n",
    "**TaxiIn** - taxi time from wheels down to arrival at the gate, in minutes (stored as integer).\n",
    "\n",
    "**TaxiOut** - taxi time from departure from the gate to wheels up, in minutes (stored as integer).\n",
    "\n",
    "**`Cancelled`** - cancellation status (stored as logical).\n",
    "\n",
    "**CancellationCode** - cancellation code, if applicable (stored as factor).\n",
    "\n",
    "**`Diverted`** - diversion status (stored as logical).\n",
    "\n",
    "**CarrierDelay** - delay, in minutes, attributable to the carrier (stored integer).\n",
    "\n",
    "**WeatherDelay** - delay, in minutes, attributable to weather factors (stored as integer).\n",
    "\n",
    "**NASDelay** - delay, in minutes, attributable to the National Aviation System (stored as integer).\n",
    "\n",
    "**SecurityDelay** - delay, in minutes, attributable to security factors (stored as integer).\n",
    "\n",
    "**LateAircraftDelay** - delay, in minutes, attributable to late-arriving aircraft (stored as integer)."
   ]
  },
  {
   "cell_type": "markdown",
   "id": "29e43f54",
   "metadata": {},
   "source": [
    "Для моделирования процесса распространения заболевания, требуется определение абсолютного времени взлета и посадки самолета для каждого рейса. Для этого будем использовать следующие признаки: \n",
    "DayOfMonth\n",
    "Origin\n",
    "Dest\n",
    "Cancelled\n",
    "Diverted"
   ]
  },
  {
   "cell_type": "markdown",
   "id": "da78460b",
   "metadata": {},
   "source": [
    "## 1.2. Чтение данных "
   ]
  },
  {
   "cell_type": "code",
   "execution_count": 4,
   "id": "54243479",
   "metadata": {
    "scrolled": true
   },
   "outputs": [
    {
     "name": "stdout",
     "output_type": "stream",
     "text": [
      "   Unnamed: 0  Year  Month  DayofMonth  DayOfWeek  DepTime  CRSDepTime  \\\n",
      "0           1  2008     12           1          1      NaN        1000   \n",
      "1           2  2008     12           1          1      NaN        1000   \n",
      "2           3  2008     12           1          1      NaN        1000   \n",
      "\n",
      "   ArrTime  CRSArrTime UniqueCarrier  \n",
      "0      NaN        1100            WN  \n",
      "1      NaN        1110            US  \n",
      "2      NaN        1125            MQ  \n",
      "   FlightNum TailNum  ActualElapsedTime  CRSElapsedTime  AirTime  ArrDelay  \\\n",
      "0         16  N366SW                NaN              60      NaN       NaN   \n",
      "1       2122     NaN                NaN              70      NaN       NaN   \n",
      "2       3155  N807MQ                NaN              85      NaN       NaN   \n",
      "\n",
      "   DepDelay Origin Dest  Distance  TaxiIn  TaxiOut  Cancelled  \\\n",
      "0       NaN    HOU  DAL       239     NaN      NaN          1   \n",
      "1       NaN    LGA  BOS       185     NaN      NaN          1   \n",
      "2       NaN    SAN  SJC       417     NaN      NaN          1   \n",
      "\n",
      "  CancellationCode  Diverted  CarrierDelay  WeatherDelay  NASDelay  \\\n",
      "0                A         0           NaN           NaN       NaN   \n",
      "1                A         0           NaN           NaN       NaN   \n",
      "2                B         0           NaN           NaN       NaN   \n",
      "\n",
      "   SecurityDelay  LateAircraftDelay  \n",
      "0            NaN                NaN  \n",
      "1            NaN                NaN  \n",
      "2            NaN                NaN  \n"
     ]
    }
   ],
   "source": [
    "filename = \"../data/airline_dec_2008_50k.csv\"\n",
    "df = pd.read_csv(filename, low_memory=False)\n",
    "print(df.iloc[:3,:10])\n",
    "print(df.iloc[:3,10:])"
   ]
  },
  {
   "cell_type": "code",
   "execution_count": 5,
   "id": "4629cbec",
   "metadata": {},
   "outputs": [
    {
     "name": "stdout",
     "output_type": "stream",
     "text": [
      "(50000, 30)\n"
     ]
    }
   ],
   "source": [
    "print(df.shape)"
   ]
  },
  {
   "cell_type": "code",
   "execution_count": 6,
   "id": "7804edb2",
   "metadata": {},
   "outputs": [
    {
     "name": "stdout",
     "output_type": "stream",
     "text": [
      "<class 'pandas.core.frame.DataFrame'>\n",
      "RangeIndex: 50000 entries, 0 to 49999\n",
      "Data columns (total 30 columns):\n",
      " #   Column             Non-Null Count  Dtype  \n",
      "---  ------             --------------  -----  \n",
      " 0   Unnamed: 0         50000 non-null  int64  \n",
      " 1   Year               50000 non-null  int64  \n",
      " 2   Month              50000 non-null  int64  \n",
      " 3   DayofMonth         50000 non-null  int64  \n",
      " 4   DayOfWeek          50000 non-null  int64  \n",
      " 5   DepTime            32968 non-null  float64\n",
      " 6   CRSDepTime         50000 non-null  int64  \n",
      " 7   ArrTime            31418 non-null  float64\n",
      " 8   CRSArrTime         50000 non-null  int64  \n",
      " 9   UniqueCarrier      50000 non-null  object \n",
      " 10  FlightNum          50000 non-null  int64  \n",
      " 11  TailNum            44556 non-null  object \n",
      " 12  ActualElapsedTime  31367 non-null  float64\n",
      " 13  CRSElapsedTime     50000 non-null  int64  \n",
      " 14  AirTime            31367 non-null  float64\n",
      " 15  ArrDelay           31367 non-null  float64\n",
      " 16  DepDelay           32968 non-null  float64\n",
      " 17  Origin             50000 non-null  object \n",
      " 18  Dest               50000 non-null  object \n",
      " 19  Distance           50000 non-null  int64  \n",
      " 20  TaxiIn             31418 non-null  float64\n",
      " 21  TaxiOut            32458 non-null  float64\n",
      " 22  Cancelled          50000 non-null  int64  \n",
      " 23  CancellationCode   17779 non-null  object \n",
      " 24  Diverted           50000 non-null  int64  \n",
      " 25  CarrierDelay       4157 non-null   float64\n",
      " 26  WeatherDelay       4157 non-null   float64\n",
      " 27  NASDelay           4157 non-null   float64\n",
      " 28  SecurityDelay      4157 non-null   float64\n",
      " 29  LateAircraftDelay  4157 non-null   float64\n",
      "dtypes: float64(13), int64(12), object(5)\n",
      "memory usage: 11.4+ MB\n"
     ]
    }
   ],
   "source": [
    "df.info()"
   ]
  },
  {
   "cell_type": "code",
   "execution_count": 7,
   "id": "52995bf3",
   "metadata": {},
   "outputs": [
    {
     "data": {
      "text/html": [
       "<div>\n",
       "<style scoped>\n",
       "    .dataframe tbody tr th:only-of-type {\n",
       "        vertical-align: middle;\n",
       "    }\n",
       "\n",
       "    .dataframe tbody tr th {\n",
       "        vertical-align: top;\n",
       "    }\n",
       "\n",
       "    .dataframe thead th {\n",
       "        text-align: right;\n",
       "    }\n",
       "</style>\n",
       "<table border=\"1\" class=\"dataframe\">\n",
       "  <thead>\n",
       "    <tr style=\"text-align: right;\">\n",
       "      <th></th>\n",
       "      <th>Unnamed: 0</th>\n",
       "      <th>Year</th>\n",
       "      <th>Month</th>\n",
       "      <th>DayofMonth</th>\n",
       "      <th>DayOfWeek</th>\n",
       "      <th>DepTime</th>\n",
       "      <th>CRSDepTime</th>\n",
       "      <th>ArrTime</th>\n",
       "      <th>CRSArrTime</th>\n",
       "      <th>FlightNum</th>\n",
       "      <th>...</th>\n",
       "      <th>Distance</th>\n",
       "      <th>TaxiIn</th>\n",
       "      <th>TaxiOut</th>\n",
       "      <th>Cancelled</th>\n",
       "      <th>Diverted</th>\n",
       "      <th>CarrierDelay</th>\n",
       "      <th>WeatherDelay</th>\n",
       "      <th>NASDelay</th>\n",
       "      <th>SecurityDelay</th>\n",
       "      <th>LateAircraftDelay</th>\n",
       "    </tr>\n",
       "  </thead>\n",
       "  <tbody>\n",
       "    <tr>\n",
       "      <th>count</th>\n",
       "      <td>50000.000000</td>\n",
       "      <td>50000.0</td>\n",
       "      <td>50000.0</td>\n",
       "      <td>50000.000000</td>\n",
       "      <td>50000.000000</td>\n",
       "      <td>32968.000000</td>\n",
       "      <td>50000.000000</td>\n",
       "      <td>31418.000000</td>\n",
       "      <td>50000.000000</td>\n",
       "      <td>50000.000000</td>\n",
       "      <td>...</td>\n",
       "      <td>50000.000000</td>\n",
       "      <td>31418.000000</td>\n",
       "      <td>32458.000000</td>\n",
       "      <td>50000.000000</td>\n",
       "      <td>50000.000000</td>\n",
       "      <td>4157.000000</td>\n",
       "      <td>4157.000000</td>\n",
       "      <td>4157.000000</td>\n",
       "      <td>4157.000000</td>\n",
       "      <td>4157.000000</td>\n",
       "    </tr>\n",
       "    <tr>\n",
       "      <th>mean</th>\n",
       "      <td>25000.500000</td>\n",
       "      <td>2008.0</td>\n",
       "      <td>12.0</td>\n",
       "      <td>11.350900</td>\n",
       "      <td>3.695000</td>\n",
       "      <td>752.043102</td>\n",
       "      <td>978.930920</td>\n",
       "      <td>791.598829</td>\n",
       "      <td>1076.869720</td>\n",
       "      <td>2592.855480</td>\n",
       "      <td>...</td>\n",
       "      <td>572.158120</td>\n",
       "      <td>7.166879</td>\n",
       "      <td>16.336866</td>\n",
       "      <td>0.355580</td>\n",
       "      <td>0.017080</td>\n",
       "      <td>12.044503</td>\n",
       "      <td>2.584316</td>\n",
       "      <td>18.813327</td>\n",
       "      <td>0.152273</td>\n",
       "      <td>7.957662</td>\n",
       "    </tr>\n",
       "    <tr>\n",
       "      <th>std</th>\n",
       "      <td>14433.901067</td>\n",
       "      <td>0.0</td>\n",
       "      <td>0.0</td>\n",
       "      <td>7.843122</td>\n",
       "      <td>1.889499</td>\n",
       "      <td>364.602722</td>\n",
       "      <td>496.930255</td>\n",
       "      <td>193.315743</td>\n",
       "      <td>495.563167</td>\n",
       "      <td>2116.729997</td>\n",
       "      <td>...</td>\n",
       "      <td>446.647873</td>\n",
       "      <td>5.539380</td>\n",
       "      <td>9.846548</td>\n",
       "      <td>0.478693</td>\n",
       "      <td>0.129571</td>\n",
       "      <td>31.444616</td>\n",
       "      <td>13.186963</td>\n",
       "      <td>21.499273</td>\n",
       "      <td>2.125548</td>\n",
       "      <td>29.794825</td>\n",
       "    </tr>\n",
       "    <tr>\n",
       "      <th>min</th>\n",
       "      <td>1.000000</td>\n",
       "      <td>2008.0</td>\n",
       "      <td>12.0</td>\n",
       "      <td>1.000000</td>\n",
       "      <td>1.000000</td>\n",
       "      <td>1.000000</td>\n",
       "      <td>5.000000</td>\n",
       "      <td>1.000000</td>\n",
       "      <td>1.000000</td>\n",
       "      <td>1.000000</td>\n",
       "      <td>...</td>\n",
       "      <td>30.000000</td>\n",
       "      <td>1.000000</td>\n",
       "      <td>1.000000</td>\n",
       "      <td>0.000000</td>\n",
       "      <td>0.000000</td>\n",
       "      <td>0.000000</td>\n",
       "      <td>0.000000</td>\n",
       "      <td>0.000000</td>\n",
       "      <td>0.000000</td>\n",
       "      <td>0.000000</td>\n",
       "    </tr>\n",
       "    <tr>\n",
       "      <th>25%</th>\n",
       "      <td>12500.750000</td>\n",
       "      <td>2008.0</td>\n",
       "      <td>12.0</td>\n",
       "      <td>5.000000</td>\n",
       "      <td>2.000000</td>\n",
       "      <td>612.000000</td>\n",
       "      <td>630.000000</td>\n",
       "      <td>742.000000</td>\n",
       "      <td>805.000000</td>\n",
       "      <td>791.000000</td>\n",
       "      <td>...</td>\n",
       "      <td>261.000000</td>\n",
       "      <td>4.000000</td>\n",
       "      <td>10.000000</td>\n",
       "      <td>0.000000</td>\n",
       "      <td>0.000000</td>\n",
       "      <td>0.000000</td>\n",
       "      <td>0.000000</td>\n",
       "      <td>3.000000</td>\n",
       "      <td>0.000000</td>\n",
       "      <td>0.000000</td>\n",
       "    </tr>\n",
       "    <tr>\n",
       "      <th>50%</th>\n",
       "      <td>25000.500000</td>\n",
       "      <td>2008.0</td>\n",
       "      <td>12.0</td>\n",
       "      <td>10.000000</td>\n",
       "      <td>4.000000</td>\n",
       "      <td>657.000000</td>\n",
       "      <td>735.000000</td>\n",
       "      <td>831.000000</td>\n",
       "      <td>910.000000</td>\n",
       "      <td>2021.000000</td>\n",
       "      <td>...</td>\n",
       "      <td>446.000000</td>\n",
       "      <td>6.000000</td>\n",
       "      <td>14.000000</td>\n",
       "      <td>0.000000</td>\n",
       "      <td>0.000000</td>\n",
       "      <td>0.000000</td>\n",
       "      <td>0.000000</td>\n",
       "      <td>17.000000</td>\n",
       "      <td>0.000000</td>\n",
       "      <td>0.000000</td>\n",
       "    </tr>\n",
       "    <tr>\n",
       "      <th>75%</th>\n",
       "      <td>37500.250000</td>\n",
       "      <td>2008.0</td>\n",
       "      <td>12.0</td>\n",
       "      <td>17.000000</td>\n",
       "      <td>5.000000</td>\n",
       "      <td>750.000000</td>\n",
       "      <td>1300.000000</td>\n",
       "      <td>914.000000</td>\n",
       "      <td>1315.000000</td>\n",
       "      <td>4114.000000</td>\n",
       "      <td>...</td>\n",
       "      <td>733.000000</td>\n",
       "      <td>9.000000</td>\n",
       "      <td>20.000000</td>\n",
       "      <td>1.000000</td>\n",
       "      <td>0.000000</td>\n",
       "      <td>14.000000</td>\n",
       "      <td>0.000000</td>\n",
       "      <td>25.000000</td>\n",
       "      <td>0.000000</td>\n",
       "      <td>0.000000</td>\n",
       "    </tr>\n",
       "    <tr>\n",
       "      <th>max</th>\n",
       "      <td>50000.000000</td>\n",
       "      <td>2008.0</td>\n",
       "      <td>12.0</td>\n",
       "      <td>31.000000</td>\n",
       "      <td>7.000000</td>\n",
       "      <td>2400.000000</td>\n",
       "      <td>2359.000000</td>\n",
       "      <td>2359.000000</td>\n",
       "      <td>2359.000000</td>\n",
       "      <td>7829.000000</td>\n",
       "      <td>...</td>\n",
       "      <td>3303.000000</td>\n",
       "      <td>156.000000</td>\n",
       "      <td>206.000000</td>\n",
       "      <td>1.000000</td>\n",
       "      <td>1.000000</td>\n",
       "      <td>1092.000000</td>\n",
       "      <td>209.000000</td>\n",
       "      <td>326.000000</td>\n",
       "      <td>96.000000</td>\n",
       "      <td>336.000000</td>\n",
       "    </tr>\n",
       "  </tbody>\n",
       "</table>\n",
       "<p>8 rows × 25 columns</p>\n",
       "</div>"
      ],
      "text/plain": [
       "         Unnamed: 0     Year    Month    DayofMonth     DayOfWeek  \\\n",
       "count  50000.000000  50000.0  50000.0  50000.000000  50000.000000   \n",
       "mean   25000.500000   2008.0     12.0     11.350900      3.695000   \n",
       "std    14433.901067      0.0      0.0      7.843122      1.889499   \n",
       "min        1.000000   2008.0     12.0      1.000000      1.000000   \n",
       "25%    12500.750000   2008.0     12.0      5.000000      2.000000   \n",
       "50%    25000.500000   2008.0     12.0     10.000000      4.000000   \n",
       "75%    37500.250000   2008.0     12.0     17.000000      5.000000   \n",
       "max    50000.000000   2008.0     12.0     31.000000      7.000000   \n",
       "\n",
       "            DepTime    CRSDepTime       ArrTime    CRSArrTime     FlightNum  \\\n",
       "count  32968.000000  50000.000000  31418.000000  50000.000000  50000.000000   \n",
       "mean     752.043102    978.930920    791.598829   1076.869720   2592.855480   \n",
       "std      364.602722    496.930255    193.315743    495.563167   2116.729997   \n",
       "min        1.000000      5.000000      1.000000      1.000000      1.000000   \n",
       "25%      612.000000    630.000000    742.000000    805.000000    791.000000   \n",
       "50%      657.000000    735.000000    831.000000    910.000000   2021.000000   \n",
       "75%      750.000000   1300.000000    914.000000   1315.000000   4114.000000   \n",
       "max     2400.000000   2359.000000   2359.000000   2359.000000   7829.000000   \n",
       "\n",
       "       ...      Distance        TaxiIn       TaxiOut     Cancelled  \\\n",
       "count  ...  50000.000000  31418.000000  32458.000000  50000.000000   \n",
       "mean   ...    572.158120      7.166879     16.336866      0.355580   \n",
       "std    ...    446.647873      5.539380      9.846548      0.478693   \n",
       "min    ...     30.000000      1.000000      1.000000      0.000000   \n",
       "25%    ...    261.000000      4.000000     10.000000      0.000000   \n",
       "50%    ...    446.000000      6.000000     14.000000      0.000000   \n",
       "75%    ...    733.000000      9.000000     20.000000      1.000000   \n",
       "max    ...   3303.000000    156.000000    206.000000      1.000000   \n",
       "\n",
       "           Diverted  CarrierDelay  WeatherDelay     NASDelay  SecurityDelay  \\\n",
       "count  50000.000000   4157.000000   4157.000000  4157.000000    4157.000000   \n",
       "mean       0.017080     12.044503      2.584316    18.813327       0.152273   \n",
       "std        0.129571     31.444616     13.186963    21.499273       2.125548   \n",
       "min        0.000000      0.000000      0.000000     0.000000       0.000000   \n",
       "25%        0.000000      0.000000      0.000000     3.000000       0.000000   \n",
       "50%        0.000000      0.000000      0.000000    17.000000       0.000000   \n",
       "75%        0.000000     14.000000      0.000000    25.000000       0.000000   \n",
       "max        1.000000   1092.000000    209.000000   326.000000      96.000000   \n",
       "\n",
       "       LateAircraftDelay  \n",
       "count        4157.000000  \n",
       "mean            7.957662  \n",
       "std            29.794825  \n",
       "min             0.000000  \n",
       "25%             0.000000  \n",
       "50%             0.000000  \n",
       "75%             0.000000  \n",
       "max           336.000000  \n",
       "\n",
       "[8 rows x 25 columns]"
      ]
     },
     "execution_count": 7,
     "metadata": {},
     "output_type": "execute_result"
    }
   ],
   "source": [
    "df.describe()"
   ]
  },
  {
   "cell_type": "markdown",
   "id": "fc57a2fc",
   "metadata": {},
   "source": [
    "## 1.3  DataFrame с рейсами фактических перелетов между аэропортами"
   ]
  },
  {
   "cell_type": "markdown",
   "id": "9e0037d2",
   "metadata": {},
   "source": [
    "Если рейс был отменен или если рейс перенаправлен, то информацию о таких перелетах извлечем из рассмотрения при моделировании.\n",
    "Наиболее простой способ это выделить только те рейсы в которых **ActualElapsedTime** не `NaN`"
   ]
  },
  {
   "cell_type": "code",
   "execution_count": 8,
   "id": "ed6f203d",
   "metadata": {},
   "outputs": [
    {
     "data": {
      "text/html": [
       "<div>\n",
       "<style scoped>\n",
       "    .dataframe tbody tr th:only-of-type {\n",
       "        vertical-align: middle;\n",
       "    }\n",
       "\n",
       "    .dataframe tbody tr th {\n",
       "        vertical-align: top;\n",
       "    }\n",
       "\n",
       "    .dataframe thead th {\n",
       "        text-align: right;\n",
       "    }\n",
       "</style>\n",
       "<table border=\"1\" class=\"dataframe\">\n",
       "  <thead>\n",
       "    <tr style=\"text-align: right;\">\n",
       "      <th></th>\n",
       "      <th>Origin</th>\n",
       "      <th>Dest</th>\n",
       "      <th>DayofMonth</th>\n",
       "      <th>CRSDepTime</th>\n",
       "      <th>CRSArrTime</th>\n",
       "      <th>DepTime</th>\n",
       "      <th>ArrTime</th>\n",
       "      <th>Cancelled</th>\n",
       "      <th>Diverted</th>\n",
       "      <th>DepDelay</th>\n",
       "      <th>ArrDelay</th>\n",
       "      <th>ActualElapsedTime</th>\n",
       "    </tr>\n",
       "  </thead>\n",
       "  <tbody>\n",
       "    <tr>\n",
       "      <th>17622</th>\n",
       "      <td>SLC</td>\n",
       "      <td>JFK</td>\n",
       "      <td>1</td>\n",
       "      <td>10</td>\n",
       "      <td>629</td>\n",
       "      <td>7.0</td>\n",
       "      <td>659.0</td>\n",
       "      <td>0</td>\n",
       "      <td>0</td>\n",
       "      <td>-3.0</td>\n",
       "      <td>30.0</td>\n",
       "      <td>292.0</td>\n",
       "    </tr>\n",
       "    <tr>\n",
       "      <th>17648</th>\n",
       "      <td>SLC</td>\n",
       "      <td>JFK</td>\n",
       "      <td>13</td>\n",
       "      <td>5</td>\n",
       "      <td>626</td>\n",
       "      <td>7.0</td>\n",
       "      <td>631.0</td>\n",
       "      <td>0</td>\n",
       "      <td>0</td>\n",
       "      <td>2.0</td>\n",
       "      <td>5.0</td>\n",
       "      <td>264.0</td>\n",
       "    </tr>\n",
       "    <tr>\n",
       "      <th>17666</th>\n",
       "      <td>SLC</td>\n",
       "      <td>JFK</td>\n",
       "      <td>14</td>\n",
       "      <td>5</td>\n",
       "      <td>626</td>\n",
       "      <td>3.0</td>\n",
       "      <td>634.0</td>\n",
       "      <td>0</td>\n",
       "      <td>0</td>\n",
       "      <td>-2.0</td>\n",
       "      <td>8.0</td>\n",
       "      <td>271.0</td>\n",
       "    </tr>\n",
       "    <tr>\n",
       "      <th>17700</th>\n",
       "      <td>SLC</td>\n",
       "      <td>JFK</td>\n",
       "      <td>15</td>\n",
       "      <td>5</td>\n",
       "      <td>626</td>\n",
       "      <td>2.0</td>\n",
       "      <td>602.0</td>\n",
       "      <td>0</td>\n",
       "      <td>0</td>\n",
       "      <td>-3.0</td>\n",
       "      <td>-24.0</td>\n",
       "      <td>240.0</td>\n",
       "    </tr>\n",
       "    <tr>\n",
       "      <th>18122</th>\n",
       "      <td>DFW</td>\n",
       "      <td>TUL</td>\n",
       "      <td>20</td>\n",
       "      <td>2310</td>\n",
       "      <td>5</td>\n",
       "      <td>3.0</td>\n",
       "      <td>58.0</td>\n",
       "      <td>0</td>\n",
       "      <td>0</td>\n",
       "      <td>53.0</td>\n",
       "      <td>53.0</td>\n",
       "      <td>55.0</td>\n",
       "    </tr>\n",
       "  </tbody>\n",
       "</table>\n",
       "</div>"
      ],
      "text/plain": [
       "      Origin Dest  DayofMonth  CRSDepTime  CRSArrTime  DepTime  ArrTime  \\\n",
       "17622    SLC  JFK           1          10         629      7.0    659.0   \n",
       "17648    SLC  JFK          13           5         626      7.0    631.0   \n",
       "17666    SLC  JFK          14           5         626      3.0    634.0   \n",
       "17700    SLC  JFK          15           5         626      2.0    602.0   \n",
       "18122    DFW  TUL          20        2310           5      3.0     58.0   \n",
       "\n",
       "       Cancelled  Diverted  DepDelay  ArrDelay  ActualElapsedTime  \n",
       "17622          0         0      -3.0      30.0              292.0  \n",
       "17648          0         0       2.0       5.0              264.0  \n",
       "17666          0         0      -2.0       8.0              271.0  \n",
       "17700          0         0      -3.0     -24.0              240.0  \n",
       "18122          0         0      53.0      53.0               55.0  "
      ]
     },
     "execution_count": 8,
     "metadata": {},
     "output_type": "execute_result"
    }
   ],
   "source": [
    "flights = df[df['ActualElapsedTime'].notna()][[\"Origin\",\"Dest\", \"DayofMonth\", \"CRSDepTime\", \"CRSArrTime\",\"DepTime\", \"ArrTime\",\"Cancelled\",\"Diverted\", \"DepDelay\",\"ArrDelay\",\"ActualElapsedTime\"]]\n",
    "flights.head()"
   ]
  },
  {
   "cell_type": "markdown",
   "id": "f4f02098",
   "metadata": {},
   "source": [
    "Преобразуем столбцы некоторые признаки к типу данных int64"
   ]
  },
  {
   "cell_type": "code",
   "execution_count": 9,
   "id": "e4b56823",
   "metadata": {},
   "outputs": [],
   "source": [
    "to_int_32_dict={\"DepTime\":\"int64\",\n",
    "                \"ArrTime\":\"int64\",\n",
    "                \"DepDelay\":\"int64\",\n",
    "                \"ActualElapsedTime\":\"int64\"}"
   ]
  },
  {
   "cell_type": "code",
   "execution_count": 10,
   "id": "9ed6f2d0",
   "metadata": {},
   "outputs": [
    {
     "data": {
      "text/html": [
       "<div>\n",
       "<style scoped>\n",
       "    .dataframe tbody tr th:only-of-type {\n",
       "        vertical-align: middle;\n",
       "    }\n",
       "\n",
       "    .dataframe tbody tr th {\n",
       "        vertical-align: top;\n",
       "    }\n",
       "\n",
       "    .dataframe thead th {\n",
       "        text-align: right;\n",
       "    }\n",
       "</style>\n",
       "<table border=\"1\" class=\"dataframe\">\n",
       "  <thead>\n",
       "    <tr style=\"text-align: right;\">\n",
       "      <th></th>\n",
       "      <th>Origin</th>\n",
       "      <th>Dest</th>\n",
       "      <th>DayofMonth</th>\n",
       "      <th>CRSDepTime</th>\n",
       "      <th>CRSArrTime</th>\n",
       "      <th>DepTime</th>\n",
       "      <th>ArrTime</th>\n",
       "      <th>Cancelled</th>\n",
       "      <th>Diverted</th>\n",
       "      <th>DepDelay</th>\n",
       "      <th>ArrDelay</th>\n",
       "      <th>ActualElapsedTime</th>\n",
       "    </tr>\n",
       "  </thead>\n",
       "  <tbody>\n",
       "    <tr>\n",
       "      <th>17622</th>\n",
       "      <td>SLC</td>\n",
       "      <td>JFK</td>\n",
       "      <td>1</td>\n",
       "      <td>10</td>\n",
       "      <td>629</td>\n",
       "      <td>7</td>\n",
       "      <td>659</td>\n",
       "      <td>0</td>\n",
       "      <td>0</td>\n",
       "      <td>-3</td>\n",
       "      <td>30.0</td>\n",
       "      <td>292</td>\n",
       "    </tr>\n",
       "    <tr>\n",
       "      <th>17648</th>\n",
       "      <td>SLC</td>\n",
       "      <td>JFK</td>\n",
       "      <td>13</td>\n",
       "      <td>5</td>\n",
       "      <td>626</td>\n",
       "      <td>7</td>\n",
       "      <td>631</td>\n",
       "      <td>0</td>\n",
       "      <td>0</td>\n",
       "      <td>2</td>\n",
       "      <td>5.0</td>\n",
       "      <td>264</td>\n",
       "    </tr>\n",
       "    <tr>\n",
       "      <th>17666</th>\n",
       "      <td>SLC</td>\n",
       "      <td>JFK</td>\n",
       "      <td>14</td>\n",
       "      <td>5</td>\n",
       "      <td>626</td>\n",
       "      <td>3</td>\n",
       "      <td>634</td>\n",
       "      <td>0</td>\n",
       "      <td>0</td>\n",
       "      <td>-2</td>\n",
       "      <td>8.0</td>\n",
       "      <td>271</td>\n",
       "    </tr>\n",
       "    <tr>\n",
       "      <th>17700</th>\n",
       "      <td>SLC</td>\n",
       "      <td>JFK</td>\n",
       "      <td>15</td>\n",
       "      <td>5</td>\n",
       "      <td>626</td>\n",
       "      <td>2</td>\n",
       "      <td>602</td>\n",
       "      <td>0</td>\n",
       "      <td>0</td>\n",
       "      <td>-3</td>\n",
       "      <td>-24.0</td>\n",
       "      <td>240</td>\n",
       "    </tr>\n",
       "    <tr>\n",
       "      <th>18122</th>\n",
       "      <td>DFW</td>\n",
       "      <td>TUL</td>\n",
       "      <td>20</td>\n",
       "      <td>2310</td>\n",
       "      <td>5</td>\n",
       "      <td>3</td>\n",
       "      <td>58</td>\n",
       "      <td>0</td>\n",
       "      <td>0</td>\n",
       "      <td>53</td>\n",
       "      <td>53.0</td>\n",
       "      <td>55</td>\n",
       "    </tr>\n",
       "  </tbody>\n",
       "</table>\n",
       "</div>"
      ],
      "text/plain": [
       "      Origin Dest  DayofMonth  CRSDepTime  CRSArrTime  DepTime  ArrTime  \\\n",
       "17622    SLC  JFK           1          10         629        7      659   \n",
       "17648    SLC  JFK          13           5         626        7      631   \n",
       "17666    SLC  JFK          14           5         626        3      634   \n",
       "17700    SLC  JFK          15           5         626        2      602   \n",
       "18122    DFW  TUL          20        2310           5        3       58   \n",
       "\n",
       "       Cancelled  Diverted  DepDelay  ArrDelay  ActualElapsedTime  \n",
       "17622          0         0        -3      30.0                292  \n",
       "17648          0         0         2       5.0                264  \n",
       "17666          0         0        -2       8.0                271  \n",
       "17700          0         0        -3     -24.0                240  \n",
       "18122          0         0        53      53.0                 55  "
      ]
     },
     "execution_count": 10,
     "metadata": {},
     "output_type": "execute_result"
    }
   ],
   "source": [
    "flights=flights.astype(to_int_32_dict)\n",
    "flights.head()"
   ]
  },
  {
   "cell_type": "markdown",
   "id": "e78cb9e9",
   "metadata": {},
   "source": [
    "Проверим, что нет `NaN` и нет отмененных и перенаправленных рейсов."
   ]
  },
  {
   "cell_type": "code",
   "execution_count": 11,
   "id": "45521c1c",
   "metadata": {},
   "outputs": [
    {
     "data": {
      "text/plain": [
       "DepTime    0\n",
       "dtype: int64"
      ]
     },
     "execution_count": 11,
     "metadata": {},
     "output_type": "execute_result"
    }
   ],
   "source": [
    "flights[[\"DepTime\"]].isna().sum()"
   ]
  },
  {
   "cell_type": "code",
   "execution_count": 12,
   "id": "a76eddf4",
   "metadata": {},
   "outputs": [
    {
     "data": {
      "text/plain": [
       "ArrTime    0\n",
       "dtype: int64"
      ]
     },
     "execution_count": 12,
     "metadata": {},
     "output_type": "execute_result"
    }
   ],
   "source": [
    "flights[[\"ArrTime\"]].isna().sum()"
   ]
  },
  {
   "cell_type": "code",
   "execution_count": 13,
   "id": "760ab637",
   "metadata": {},
   "outputs": [
    {
     "data": {
      "text/plain": [
       "Cancelled    0\n",
       "dtype: int64"
      ]
     },
     "execution_count": 13,
     "metadata": {},
     "output_type": "execute_result"
    }
   ],
   "source": [
    "flights[[\"Cancelled\"]].sum()"
   ]
  },
  {
   "cell_type": "code",
   "execution_count": 14,
   "id": "d54aa94b",
   "metadata": {},
   "outputs": [
    {
     "data": {
      "text/plain": [
       "Diverted    0\n",
       "dtype: int64"
      ]
     },
     "execution_count": 14,
     "metadata": {},
     "output_type": "execute_result"
    }
   ],
   "source": [
    "flights[[\"Diverted\"]].sum()"
   ]
  },
  {
   "cell_type": "code",
   "execution_count": 15,
   "id": "8f6e25d1",
   "metadata": {},
   "outputs": [
    {
     "data": {
      "text/plain": [
       "(31367, 12)"
      ]
     },
     "execution_count": 15,
     "metadata": {},
     "output_type": "execute_result"
    }
   ],
   "source": [
    "flights.shape"
   ]
  },
  {
   "cell_type": "code",
   "execution_count": 16,
   "id": "3d00bdb9",
   "metadata": {},
   "outputs": [
    {
     "name": "stdout",
     "output_type": "stream",
     "text": [
      "<class 'pandas.core.frame.DataFrame'>\n",
      "Int64Index: 31367 entries, 17622 to 49999\n",
      "Data columns (total 12 columns):\n",
      " #   Column             Non-Null Count  Dtype  \n",
      "---  ------             --------------  -----  \n",
      " 0   Origin             31367 non-null  object \n",
      " 1   Dest               31367 non-null  object \n",
      " 2   DayofMonth         31367 non-null  int64  \n",
      " 3   CRSDepTime         31367 non-null  int64  \n",
      " 4   CRSArrTime         31367 non-null  int64  \n",
      " 5   DepTime            31367 non-null  int64  \n",
      " 6   ArrTime            31367 non-null  int64  \n",
      " 7   Cancelled          31367 non-null  int64  \n",
      " 8   Diverted           31367 non-null  int64  \n",
      " 9   DepDelay           31367 non-null  int64  \n",
      " 10  ArrDelay           31367 non-null  float64\n",
      " 11  ActualElapsedTime  31367 non-null  int64  \n",
      "dtypes: float64(1), int64(9), object(2)\n",
      "memory usage: 3.1+ MB\n"
     ]
    }
   ],
   "source": [
    "flights.info()"
   ]
  },
  {
   "cell_type": "code",
   "execution_count": 17,
   "id": "8ac9bca2",
   "metadata": {},
   "outputs": [
    {
     "data": {
      "text/html": [
       "<div>\n",
       "<style scoped>\n",
       "    .dataframe tbody tr th:only-of-type {\n",
       "        vertical-align: middle;\n",
       "    }\n",
       "\n",
       "    .dataframe tbody tr th {\n",
       "        vertical-align: top;\n",
       "    }\n",
       "\n",
       "    .dataframe thead th {\n",
       "        text-align: right;\n",
       "    }\n",
       "</style>\n",
       "<table border=\"1\" class=\"dataframe\">\n",
       "  <thead>\n",
       "    <tr style=\"text-align: right;\">\n",
       "      <th></th>\n",
       "      <th>DayofMonth</th>\n",
       "      <th>CRSDepTime</th>\n",
       "      <th>CRSArrTime</th>\n",
       "      <th>DepTime</th>\n",
       "      <th>ArrTime</th>\n",
       "      <th>Cancelled</th>\n",
       "      <th>Diverted</th>\n",
       "      <th>DepDelay</th>\n",
       "      <th>ArrDelay</th>\n",
       "      <th>ActualElapsedTime</th>\n",
       "    </tr>\n",
       "  </thead>\n",
       "  <tbody>\n",
       "    <tr>\n",
       "      <th>count</th>\n",
       "      <td>31367.000000</td>\n",
       "      <td>31367.000000</td>\n",
       "      <td>31367.000000</td>\n",
       "      <td>31367.000000</td>\n",
       "      <td>31367.000000</td>\n",
       "      <td>31367.0</td>\n",
       "      <td>31367.0</td>\n",
       "      <td>31367.000000</td>\n",
       "      <td>31367.000000</td>\n",
       "      <td>31367.000000</td>\n",
       "    </tr>\n",
       "    <tr>\n",
       "      <th>mean</th>\n",
       "      <td>7.209488</td>\n",
       "      <td>739.032231</td>\n",
       "      <td>800.524437</td>\n",
       "      <td>715.190806</td>\n",
       "      <td>791.311984</td>\n",
       "      <td>0.0</td>\n",
       "      <td>0.0</td>\n",
       "      <td>1.124940</td>\n",
       "      <td>0.342813</td>\n",
       "      <td>109.631555</td>\n",
       "    </tr>\n",
       "    <tr>\n",
       "      <th>std</th>\n",
       "      <td>4.686065</td>\n",
       "      <td>331.297472</td>\n",
       "      <td>210.604854</td>\n",
       "      <td>314.193024</td>\n",
       "      <td>192.926966</td>\n",
       "      <td>0.0</td>\n",
       "      <td>0.0</td>\n",
       "      <td>20.289293</td>\n",
       "      <td>24.317448</td>\n",
       "      <td>54.238003</td>\n",
       "    </tr>\n",
       "    <tr>\n",
       "      <th>min</th>\n",
       "      <td>1.000000</td>\n",
       "      <td>5.000000</td>\n",
       "      <td>1.000000</td>\n",
       "      <td>1.000000</td>\n",
       "      <td>1.000000</td>\n",
       "      <td>0.0</td>\n",
       "      <td>0.0</td>\n",
       "      <td>-28.000000</td>\n",
       "      <td>-71.000000</td>\n",
       "      <td>25.000000</td>\n",
       "    </tr>\n",
       "    <tr>\n",
       "      <th>25%</th>\n",
       "      <td>3.000000</td>\n",
       "      <td>614.000000</td>\n",
       "      <td>745.000000</td>\n",
       "      <td>610.000000</td>\n",
       "      <td>742.000000</td>\n",
       "      <td>0.0</td>\n",
       "      <td>0.0</td>\n",
       "      <td>-5.000000</td>\n",
       "      <td>-11.000000</td>\n",
       "      <td>71.000000</td>\n",
       "    </tr>\n",
       "    <tr>\n",
       "      <th>50%</th>\n",
       "      <td>7.000000</td>\n",
       "      <td>700.000000</td>\n",
       "      <td>835.000000</td>\n",
       "      <td>654.000000</td>\n",
       "      <td>831.000000</td>\n",
       "      <td>0.0</td>\n",
       "      <td>0.0</td>\n",
       "      <td>-3.000000</td>\n",
       "      <td>-4.000000</td>\n",
       "      <td>97.000000</td>\n",
       "    </tr>\n",
       "    <tr>\n",
       "      <th>75%</th>\n",
       "      <td>10.000000</td>\n",
       "      <td>740.000000</td>\n",
       "      <td>915.000000</td>\n",
       "      <td>740.000000</td>\n",
       "      <td>914.000000</td>\n",
       "      <td>0.0</td>\n",
       "      <td>0.0</td>\n",
       "      <td>0.000000</td>\n",
       "      <td>5.000000</td>\n",
       "      <td>135.000000</td>\n",
       "    </tr>\n",
       "    <tr>\n",
       "      <th>max</th>\n",
       "      <td>31.000000</td>\n",
       "      <td>2359.000000</td>\n",
       "      <td>2359.000000</td>\n",
       "      <td>2400.000000</td>\n",
       "      <td>2359.000000</td>\n",
       "      <td>0.0</td>\n",
       "      <td>0.0</td>\n",
       "      <td>1092.000000</td>\n",
       "      <td>1103.000000</td>\n",
       "      <td>457.000000</td>\n",
       "    </tr>\n",
       "  </tbody>\n",
       "</table>\n",
       "</div>"
      ],
      "text/plain": [
       "         DayofMonth    CRSDepTime    CRSArrTime       DepTime       ArrTime  \\\n",
       "count  31367.000000  31367.000000  31367.000000  31367.000000  31367.000000   \n",
       "mean       7.209488    739.032231    800.524437    715.190806    791.311984   \n",
       "std        4.686065    331.297472    210.604854    314.193024    192.926966   \n",
       "min        1.000000      5.000000      1.000000      1.000000      1.000000   \n",
       "25%        3.000000    614.000000    745.000000    610.000000    742.000000   \n",
       "50%        7.000000    700.000000    835.000000    654.000000    831.000000   \n",
       "75%       10.000000    740.000000    915.000000    740.000000    914.000000   \n",
       "max       31.000000   2359.000000   2359.000000   2400.000000   2359.000000   \n",
       "\n",
       "       Cancelled  Diverted      DepDelay      ArrDelay  ActualElapsedTime  \n",
       "count    31367.0   31367.0  31367.000000  31367.000000       31367.000000  \n",
       "mean         0.0       0.0      1.124940      0.342813         109.631555  \n",
       "std          0.0       0.0     20.289293     24.317448          54.238003  \n",
       "min          0.0       0.0    -28.000000    -71.000000          25.000000  \n",
       "25%          0.0       0.0     -5.000000    -11.000000          71.000000  \n",
       "50%          0.0       0.0     -3.000000     -4.000000          97.000000  \n",
       "75%          0.0       0.0      0.000000      5.000000         135.000000  \n",
       "max          0.0       0.0   1092.000000   1103.000000         457.000000  "
      ]
     },
     "execution_count": 17,
     "metadata": {},
     "output_type": "execute_result"
    }
   ],
   "source": [
    "flights.describe()"
   ]
  },
  {
   "cell_type": "code",
   "execution_count": 18,
   "id": "008f26b6",
   "metadata": {},
   "outputs": [],
   "source": [
    "flights=flights.drop(columns=[\"Cancelled\",\"Diverted\"]);"
   ]
  },
  {
   "cell_type": "code",
   "execution_count": 19,
   "id": "28ad5e4c",
   "metadata": {},
   "outputs": [
    {
     "data": {
      "text/html": [
       "<div>\n",
       "<style scoped>\n",
       "    .dataframe tbody tr th:only-of-type {\n",
       "        vertical-align: middle;\n",
       "    }\n",
       "\n",
       "    .dataframe tbody tr th {\n",
       "        vertical-align: top;\n",
       "    }\n",
       "\n",
       "    .dataframe thead th {\n",
       "        text-align: right;\n",
       "    }\n",
       "</style>\n",
       "<table border=\"1\" class=\"dataframe\">\n",
       "  <thead>\n",
       "    <tr style=\"text-align: right;\">\n",
       "      <th></th>\n",
       "      <th>Origin</th>\n",
       "      <th>Dest</th>\n",
       "      <th>DayofMonth</th>\n",
       "      <th>CRSDepTime</th>\n",
       "      <th>CRSArrTime</th>\n",
       "      <th>DepTime</th>\n",
       "      <th>ArrTime</th>\n",
       "      <th>DepDelay</th>\n",
       "      <th>ArrDelay</th>\n",
       "      <th>ActualElapsedTime</th>\n",
       "    </tr>\n",
       "  </thead>\n",
       "  <tbody>\n",
       "    <tr>\n",
       "      <th>17622</th>\n",
       "      <td>SLC</td>\n",
       "      <td>JFK</td>\n",
       "      <td>1</td>\n",
       "      <td>10</td>\n",
       "      <td>629</td>\n",
       "      <td>7</td>\n",
       "      <td>659</td>\n",
       "      <td>-3</td>\n",
       "      <td>30.0</td>\n",
       "      <td>292</td>\n",
       "    </tr>\n",
       "    <tr>\n",
       "      <th>17648</th>\n",
       "      <td>SLC</td>\n",
       "      <td>JFK</td>\n",
       "      <td>13</td>\n",
       "      <td>5</td>\n",
       "      <td>626</td>\n",
       "      <td>7</td>\n",
       "      <td>631</td>\n",
       "      <td>2</td>\n",
       "      <td>5.0</td>\n",
       "      <td>264</td>\n",
       "    </tr>\n",
       "    <tr>\n",
       "      <th>17666</th>\n",
       "      <td>SLC</td>\n",
       "      <td>JFK</td>\n",
       "      <td>14</td>\n",
       "      <td>5</td>\n",
       "      <td>626</td>\n",
       "      <td>3</td>\n",
       "      <td>634</td>\n",
       "      <td>-2</td>\n",
       "      <td>8.0</td>\n",
       "      <td>271</td>\n",
       "    </tr>\n",
       "    <tr>\n",
       "      <th>17700</th>\n",
       "      <td>SLC</td>\n",
       "      <td>JFK</td>\n",
       "      <td>15</td>\n",
       "      <td>5</td>\n",
       "      <td>626</td>\n",
       "      <td>2</td>\n",
       "      <td>602</td>\n",
       "      <td>-3</td>\n",
       "      <td>-24.0</td>\n",
       "      <td>240</td>\n",
       "    </tr>\n",
       "    <tr>\n",
       "      <th>18122</th>\n",
       "      <td>DFW</td>\n",
       "      <td>TUL</td>\n",
       "      <td>20</td>\n",
       "      <td>2310</td>\n",
       "      <td>5</td>\n",
       "      <td>3</td>\n",
       "      <td>58</td>\n",
       "      <td>53</td>\n",
       "      <td>53.0</td>\n",
       "      <td>55</td>\n",
       "    </tr>\n",
       "  </tbody>\n",
       "</table>\n",
       "</div>"
      ],
      "text/plain": [
       "      Origin Dest  DayofMonth  CRSDepTime  CRSArrTime  DepTime  ArrTime  \\\n",
       "17622    SLC  JFK           1          10         629        7      659   \n",
       "17648    SLC  JFK          13           5         626        7      631   \n",
       "17666    SLC  JFK          14           5         626        3      634   \n",
       "17700    SLC  JFK          15           5         626        2      602   \n",
       "18122    DFW  TUL          20        2310           5        3       58   \n",
       "\n",
       "       DepDelay  ArrDelay  ActualElapsedTime  \n",
       "17622        -3      30.0                292  \n",
       "17648         2       5.0                264  \n",
       "17666        -2       8.0                271  \n",
       "17700        -3     -24.0                240  \n",
       "18122        53      53.0                 55  "
      ]
     },
     "execution_count": 19,
     "metadata": {},
     "output_type": "execute_result"
    }
   ],
   "source": [
    "flights.head()"
   ]
  },
  {
   "cell_type": "markdown",
   "id": "8b29ccb8",
   "metadata": {},
   "source": [
    " ## 1.4 Определим фактическое время вылета"
   ]
  },
  {
   "cell_type": "markdown",
   "id": "635d5cf6",
   "metadata": {},
   "source": [
    "Для определения абсолютного времени, нам необходимо узнать смещение локального времени аэропорта относительно GMT времени. Для этого используем результаты [открытого проекта](https://github.com/opentraveldata/opentraveldata/blob/master/opentraveldata/optd_por_public.csv),\n",
    "а сам файл с информацией об открытых аэропортах(11Mb) доступен по [ссылке](https://raw.githubusercontent.com/opentraveldata/opentraveldata/master/opentraveldata/optd_por_public.csv).\n",
    "Для дополнительной можно использовать сервис, где информация об YUM выдается по [запросу](https://airports-api.s3-us-west-2.amazonaws.com/iata/yum.json).\n",
    "\n",
    "Результаты для аэропортов из `flights` получены скриптом **prepare_gtm_offset.py** и сохранены в словаре в файле  \"..\\data\\airports_gmt_offset_int.pkl\" ."
   ]
  },
  {
   "cell_type": "code",
   "execution_count": 20,
   "id": "c72e97a4",
   "metadata": {},
   "outputs": [],
   "source": [
    "with open('../data/airports_gmt_offset_int.pkl','rb') as f:\n",
    "    airport_time_offset = pickle.load(f)"
   ]
  },
  {
   "cell_type": "code",
   "execution_count": 21,
   "id": "aa7732c0",
   "metadata": {},
   "outputs": [
    {
     "name": "stdout",
     "output_type": "stream",
     "text": [
      "Key = ABE : val = -5\n",
      "Key = ABI : val = -6\n",
      "Key = ABQ : val = -7\n",
      "Key = ABY : val = -5\n",
      "Key = ACT : val = -6\n",
      "Key = ACV : val = -8\n",
      "Key = ADQ : val = -9\n",
      "Key = AEX : val = -6\n",
      "Key = AGS : val = -5\n",
      "Key = ALB : val = -5\n",
      "Key = AMA : val = -6\n",
      "Key = ANC : val = -9\n",
      "Key = ASE : val = -7\n",
      "Key = ATL : val = -5\n",
      "Key = ATW : val = -6\n",
      "Key = AUS : val = -6\n",
      "Key = AVL : val = -5\n",
      "Key = AVP : val = -5\n",
      "Key = AZO : val = -5\n"
     ]
    }
   ],
   "source": [
    "for key, val in airport_time_offset.items():\n",
    "    if key<\"B\":\n",
    "        print(f\"Key = {key} : val = {val}\")                "
   ]
  },
  {
   "cell_type": "markdown",
   "id": "e4509d2d",
   "metadata": {},
   "source": [
    "Дополним таблицу `flights` столбцом абсолютного времени вылета в минутах по отношению к 1 декабря GMT(0-00) 2008 года."
   ]
  },
  {
   "cell_type": "code",
   "execution_count": 22,
   "id": "5df5ac54",
   "metadata": {},
   "outputs": [
    {
     "data": {
      "text/html": [
       "<div>\n",
       "<style scoped>\n",
       "    .dataframe tbody tr th:only-of-type {\n",
       "        vertical-align: middle;\n",
       "    }\n",
       "\n",
       "    .dataframe tbody tr th {\n",
       "        vertical-align: top;\n",
       "    }\n",
       "\n",
       "    .dataframe thead th {\n",
       "        text-align: right;\n",
       "    }\n",
       "</style>\n",
       "<table border=\"1\" class=\"dataframe\">\n",
       "  <thead>\n",
       "    <tr style=\"text-align: right;\">\n",
       "      <th></th>\n",
       "      <th>Origin</th>\n",
       "      <th>Dest</th>\n",
       "      <th>DayofMonth</th>\n",
       "      <th>CRSDepTime</th>\n",
       "      <th>CRSArrTime</th>\n",
       "      <th>DepTime</th>\n",
       "      <th>ArrTime</th>\n",
       "      <th>DepDelay</th>\n",
       "      <th>ArrDelay</th>\n",
       "      <th>ActualElapsedTime</th>\n",
       "    </tr>\n",
       "  </thead>\n",
       "  <tbody>\n",
       "    <tr>\n",
       "      <th>17622</th>\n",
       "      <td>SLC</td>\n",
       "      <td>JFK</td>\n",
       "      <td>1</td>\n",
       "      <td>10</td>\n",
       "      <td>629</td>\n",
       "      <td>7</td>\n",
       "      <td>659</td>\n",
       "      <td>-3</td>\n",
       "      <td>30.0</td>\n",
       "      <td>292</td>\n",
       "    </tr>\n",
       "    <tr>\n",
       "      <th>17648</th>\n",
       "      <td>SLC</td>\n",
       "      <td>JFK</td>\n",
       "      <td>13</td>\n",
       "      <td>5</td>\n",
       "      <td>626</td>\n",
       "      <td>7</td>\n",
       "      <td>631</td>\n",
       "      <td>2</td>\n",
       "      <td>5.0</td>\n",
       "      <td>264</td>\n",
       "    </tr>\n",
       "    <tr>\n",
       "      <th>17666</th>\n",
       "      <td>SLC</td>\n",
       "      <td>JFK</td>\n",
       "      <td>14</td>\n",
       "      <td>5</td>\n",
       "      <td>626</td>\n",
       "      <td>3</td>\n",
       "      <td>634</td>\n",
       "      <td>-2</td>\n",
       "      <td>8.0</td>\n",
       "      <td>271</td>\n",
       "    </tr>\n",
       "    <tr>\n",
       "      <th>17700</th>\n",
       "      <td>SLC</td>\n",
       "      <td>JFK</td>\n",
       "      <td>15</td>\n",
       "      <td>5</td>\n",
       "      <td>626</td>\n",
       "      <td>2</td>\n",
       "      <td>602</td>\n",
       "      <td>-3</td>\n",
       "      <td>-24.0</td>\n",
       "      <td>240</td>\n",
       "    </tr>\n",
       "    <tr>\n",
       "      <th>18122</th>\n",
       "      <td>DFW</td>\n",
       "      <td>TUL</td>\n",
       "      <td>20</td>\n",
       "      <td>2310</td>\n",
       "      <td>5</td>\n",
       "      <td>3</td>\n",
       "      <td>58</td>\n",
       "      <td>53</td>\n",
       "      <td>53.0</td>\n",
       "      <td>55</td>\n",
       "    </tr>\n",
       "  </tbody>\n",
       "</table>\n",
       "</div>"
      ],
      "text/plain": [
       "      Origin Dest  DayofMonth  CRSDepTime  CRSArrTime  DepTime  ArrTime  \\\n",
       "17622    SLC  JFK           1          10         629        7      659   \n",
       "17648    SLC  JFK          13           5         626        7      631   \n",
       "17666    SLC  JFK          14           5         626        3      634   \n",
       "17700    SLC  JFK          15           5         626        2      602   \n",
       "18122    DFW  TUL          20        2310           5        3       58   \n",
       "\n",
       "       DepDelay  ArrDelay  ActualElapsedTime  \n",
       "17622        -3      30.0                292  \n",
       "17648         2       5.0                264  \n",
       "17666        -2       8.0                271  \n",
       "17700        -3     -24.0                240  \n",
       "18122        53      53.0                 55  "
      ]
     },
     "execution_count": 22,
     "metadata": {},
     "output_type": "execute_result"
    }
   ],
   "source": [
    "flights.head()"
   ]
  },
  {
   "cell_type": "markdown",
   "id": "f040d3a2",
   "metadata": {},
   "source": [
    "Так как у вылета при изменении времени вылета изменений в его фактическом дне вылета не происходит, то для расчетов абсолютных  времен вылета и прилета надо пользоваться:\n",
    "- DayofMonth\n",
    "- CRSDepTime/CRSArrTime\n",
    "- DepDelay/ArrDelay\n",
    "\n",
    "Но так как может быть ночной перелет, то надо к фактическому времени вылета добавить время на полет"
   ]
  },
  {
   "cell_type": "code",
   "execution_count": 23,
   "id": "4e2fb60c",
   "metadata": {},
   "outputs": [],
   "source": [
    "# Определим функции  вычисления длительности полета \n",
    "def gtm_time_dep(airport, day, crs, delay):\n",
    "    \"\"\"Calculate gmt time of departure in minutes according data format\"\"\"\n",
    "    return (day-1)*24*60 + int(crs/100)*60 + crs%100 + delay + airport_time_offset[airport]*60\n",
    "\n",
    "def gtm_time_arr(gtmDep, eltime ):\n",
    "    \"\"\"Calculate gmt time of arrival in minutes according data format\"\"\"\n",
    "    return gtmDep + eltime"
   ]
  },
  {
   "cell_type": "code",
   "execution_count": 24,
   "id": "225499c4",
   "metadata": {},
   "outputs": [],
   "source": [
    "flights[\"gtm_origin\"] = flights.apply(lambda x: airport_time_offset[x.Origin], axis=1)\n",
    "flights[\"gtm_dest\"] = flights.apply(lambda x: airport_time_offset[x.Dest], axis=1)"
   ]
  },
  {
   "cell_type": "code",
   "execution_count": 25,
   "id": "0b9349f4",
   "metadata": {},
   "outputs": [],
   "source": [
    "flights[\"gmtDep\"] = flights.apply(lambda x: gtm_time_dep(x.Origin, x.DayofMonth, x.CRSDepTime, x.DepDelay), axis=1)"
   ]
  },
  {
   "cell_type": "code",
   "execution_count": 26,
   "id": "d03c6b1a",
   "metadata": {},
   "outputs": [],
   "source": [
    "flights[\"gmtArr\"] = flights[\"gmtDep\"]+flights[\"ActualElapsedTime\"]\n",
    "#flights.apply(lambda x: gtm_time_arr(x.gmtDep, x.ActualElapsedTime), axis=1)"
   ]
  },
  {
   "cell_type": "markdown",
   "id": "f1d2b0be",
   "metadata": {},
   "source": [
    "Отсортируем данные по дням и времени вылета"
   ]
  },
  {
   "cell_type": "code",
   "execution_count": 27,
   "id": "707af267",
   "metadata": {},
   "outputs": [],
   "source": [
    "flights=flights.sort_values(by=[\"gmtDep\"])"
   ]
  },
  {
   "cell_type": "code",
   "execution_count": 28,
   "id": "510a1464",
   "metadata": {},
   "outputs": [
    {
     "data": {
      "text/html": [
       "<div>\n",
       "<style scoped>\n",
       "    .dataframe tbody tr th:only-of-type {\n",
       "        vertical-align: middle;\n",
       "    }\n",
       "\n",
       "    .dataframe tbody tr th {\n",
       "        vertical-align: top;\n",
       "    }\n",
       "\n",
       "    .dataframe thead th {\n",
       "        text-align: right;\n",
       "    }\n",
       "</style>\n",
       "<table border=\"1\" class=\"dataframe\">\n",
       "  <thead>\n",
       "    <tr style=\"text-align: right;\">\n",
       "      <th></th>\n",
       "      <th>Origin</th>\n",
       "      <th>Dest</th>\n",
       "      <th>DayofMonth</th>\n",
       "      <th>CRSDepTime</th>\n",
       "      <th>CRSArrTime</th>\n",
       "      <th>DepTime</th>\n",
       "      <th>ArrTime</th>\n",
       "      <th>DepDelay</th>\n",
       "      <th>ArrDelay</th>\n",
       "      <th>ActualElapsedTime</th>\n",
       "      <th>gtm_origin</th>\n",
       "      <th>gtm_dest</th>\n",
       "      <th>gmtDep</th>\n",
       "      <th>gmtArr</th>\n",
       "    </tr>\n",
       "  </thead>\n",
       "  <tbody>\n",
       "    <tr>\n",
       "      <th>18609</th>\n",
       "      <td>ANC</td>\n",
       "      <td>SEA</td>\n",
       "      <td>1</td>\n",
       "      <td>30</td>\n",
       "      <td>449</td>\n",
       "      <td>28</td>\n",
       "      <td>440</td>\n",
       "      <td>-2</td>\n",
       "      <td>-9.0</td>\n",
       "      <td>192</td>\n",
       "      <td>-9</td>\n",
       "      <td>-8</td>\n",
       "      <td>-512</td>\n",
       "      <td>-320</td>\n",
       "    </tr>\n",
       "    <tr>\n",
       "      <th>18854</th>\n",
       "      <td>ANC</td>\n",
       "      <td>PDX</td>\n",
       "      <td>1</td>\n",
       "      <td>100</td>\n",
       "      <td>532</td>\n",
       "      <td>56</td>\n",
       "      <td>514</td>\n",
       "      <td>-4</td>\n",
       "      <td>-18.0</td>\n",
       "      <td>198</td>\n",
       "      <td>-9</td>\n",
       "      <td>-8</td>\n",
       "      <td>-484</td>\n",
       "      <td>-286</td>\n",
       "    </tr>\n",
       "    <tr>\n",
       "      <th>19409</th>\n",
       "      <td>ANC</td>\n",
       "      <td>SLC</td>\n",
       "      <td>1</td>\n",
       "      <td>110</td>\n",
       "      <td>743</td>\n",
       "      <td>108</td>\n",
       "      <td>744</td>\n",
       "      <td>-2</td>\n",
       "      <td>1.0</td>\n",
       "      <td>276</td>\n",
       "      <td>-9</td>\n",
       "      <td>-7</td>\n",
       "      <td>-472</td>\n",
       "      <td>-196</td>\n",
       "    </tr>\n",
       "    <tr>\n",
       "      <th>18606</th>\n",
       "      <td>LAX</td>\n",
       "      <td>MSP</td>\n",
       "      <td>1</td>\n",
       "      <td>20</td>\n",
       "      <td>553</td>\n",
       "      <td>16</td>\n",
       "      <td>616</td>\n",
       "      <td>-4</td>\n",
       "      <td>23.0</td>\n",
       "      <td>240</td>\n",
       "      <td>-8</td>\n",
       "      <td>-6</td>\n",
       "      <td>-464</td>\n",
       "      <td>-224</td>\n",
       "    </tr>\n",
       "    <tr>\n",
       "      <th>18610</th>\n",
       "      <td>SFO</td>\n",
       "      <td>MSP</td>\n",
       "      <td>1</td>\n",
       "      <td>25</td>\n",
       "      <td>556</td>\n",
       "      <td>30</td>\n",
       "      <td>611</td>\n",
       "      <td>5</td>\n",
       "      <td>15.0</td>\n",
       "      <td>221</td>\n",
       "      <td>-8</td>\n",
       "      <td>-6</td>\n",
       "      <td>-450</td>\n",
       "      <td>-229</td>\n",
       "    </tr>\n",
       "  </tbody>\n",
       "</table>\n",
       "</div>"
      ],
      "text/plain": [
       "      Origin Dest  DayofMonth  CRSDepTime  CRSArrTime  DepTime  ArrTime  \\\n",
       "18609    ANC  SEA           1          30         449       28      440   \n",
       "18854    ANC  PDX           1         100         532       56      514   \n",
       "19409    ANC  SLC           1         110         743      108      744   \n",
       "18606    LAX  MSP           1          20         553       16      616   \n",
       "18610    SFO  MSP           1          25         556       30      611   \n",
       "\n",
       "       DepDelay  ArrDelay  ActualElapsedTime  gtm_origin  gtm_dest  gmtDep  \\\n",
       "18609        -2      -9.0                192          -9        -8    -512   \n",
       "18854        -4     -18.0                198          -9        -8    -484   \n",
       "19409        -2       1.0                276          -9        -7    -472   \n",
       "18606        -4      23.0                240          -8        -6    -464   \n",
       "18610         5      15.0                221          -8        -6    -450   \n",
       "\n",
       "       gmtArr  \n",
       "18609    -320  \n",
       "18854    -286  \n",
       "19409    -196  \n",
       "18606    -224  \n",
       "18610    -229  "
      ]
     },
     "execution_count": 28,
     "metadata": {},
     "output_type": "execute_result"
    }
   ],
   "source": [
    "flights.head()"
   ]
  },
  {
   "cell_type": "code",
   "execution_count": 29,
   "id": "ff20efac",
   "metadata": {},
   "outputs": [
    {
     "data": {
      "text/html": [
       "<div>\n",
       "<style scoped>\n",
       "    .dataframe tbody tr th:only-of-type {\n",
       "        vertical-align: middle;\n",
       "    }\n",
       "\n",
       "    .dataframe tbody tr th {\n",
       "        vertical-align: top;\n",
       "    }\n",
       "\n",
       "    .dataframe thead th {\n",
       "        text-align: right;\n",
       "    }\n",
       "</style>\n",
       "<table border=\"1\" class=\"dataframe\">\n",
       "  <thead>\n",
       "    <tr style=\"text-align: right;\">\n",
       "      <th></th>\n",
       "      <th>Origin</th>\n",
       "      <th>Dest</th>\n",
       "      <th>DayofMonth</th>\n",
       "      <th>CRSDepTime</th>\n",
       "      <th>CRSArrTime</th>\n",
       "      <th>DepTime</th>\n",
       "      <th>ArrTime</th>\n",
       "      <th>DepDelay</th>\n",
       "      <th>ArrDelay</th>\n",
       "      <th>ActualElapsedTime</th>\n",
       "      <th>gtm_origin</th>\n",
       "      <th>gtm_dest</th>\n",
       "      <th>gmtDep</th>\n",
       "      <th>gmtArr</th>\n",
       "    </tr>\n",
       "  </thead>\n",
       "  <tbody>\n",
       "    <tr>\n",
       "      <th>24710</th>\n",
       "      <td>IAD</td>\n",
       "      <td>MCO</td>\n",
       "      <td>31</td>\n",
       "      <td>2155</td>\n",
       "      <td>9</td>\n",
       "      <td>2224</td>\n",
       "      <td>26</td>\n",
       "      <td>29</td>\n",
       "      <td>17.0</td>\n",
       "      <td>122</td>\n",
       "      <td>-5</td>\n",
       "      <td>-5</td>\n",
       "      <td>44244</td>\n",
       "      <td>44366</td>\n",
       "    </tr>\n",
       "    <tr>\n",
       "      <th>24713</th>\n",
       "      <td>DFW</td>\n",
       "      <td>AUS</td>\n",
       "      <td>31</td>\n",
       "      <td>2325</td>\n",
       "      <td>20</td>\n",
       "      <td>2327</td>\n",
       "      <td>9</td>\n",
       "      <td>2</td>\n",
       "      <td>-11.0</td>\n",
       "      <td>42</td>\n",
       "      <td>-6</td>\n",
       "      <td>-6</td>\n",
       "      <td>44247</td>\n",
       "      <td>44289</td>\n",
       "    </tr>\n",
       "    <tr>\n",
       "      <th>24707</th>\n",
       "      <td>SJU</td>\n",
       "      <td>JFK</td>\n",
       "      <td>31</td>\n",
       "      <td>2100</td>\n",
       "      <td>1</td>\n",
       "      <td>2145</td>\n",
       "      <td>53</td>\n",
       "      <td>45</td>\n",
       "      <td>52.0</td>\n",
       "      <td>248</td>\n",
       "      <td>-4</td>\n",
       "      <td>-5</td>\n",
       "      <td>44265</td>\n",
       "      <td>44513</td>\n",
       "    </tr>\n",
       "    <tr>\n",
       "      <th>19223</th>\n",
       "      <td>ORD</td>\n",
       "      <td>BUF</td>\n",
       "      <td>31</td>\n",
       "      <td>2141</td>\n",
       "      <td>15</td>\n",
       "      <td>3</td>\n",
       "      <td>237</td>\n",
       "      <td>142</td>\n",
       "      <td>142.0</td>\n",
       "      <td>94</td>\n",
       "      <td>-6</td>\n",
       "      <td>-5</td>\n",
       "      <td>44283</td>\n",
       "      <td>44377</td>\n",
       "    </tr>\n",
       "    <tr>\n",
       "      <th>24712</th>\n",
       "      <td>JFK</td>\n",
       "      <td>ROC</td>\n",
       "      <td>31</td>\n",
       "      <td>2235</td>\n",
       "      <td>1</td>\n",
       "      <td>2327</td>\n",
       "      <td>35</td>\n",
       "      <td>52</td>\n",
       "      <td>34.0</td>\n",
       "      <td>68</td>\n",
       "      <td>-5</td>\n",
       "      <td>-5</td>\n",
       "      <td>44307</td>\n",
       "      <td>44375</td>\n",
       "    </tr>\n",
       "  </tbody>\n",
       "</table>\n",
       "</div>"
      ],
      "text/plain": [
       "      Origin Dest  DayofMonth  CRSDepTime  CRSArrTime  DepTime  ArrTime  \\\n",
       "24710    IAD  MCO          31        2155           9     2224       26   \n",
       "24713    DFW  AUS          31        2325          20     2327        9   \n",
       "24707    SJU  JFK          31        2100           1     2145       53   \n",
       "19223    ORD  BUF          31        2141          15        3      237   \n",
       "24712    JFK  ROC          31        2235           1     2327       35   \n",
       "\n",
       "       DepDelay  ArrDelay  ActualElapsedTime  gtm_origin  gtm_dest  gmtDep  \\\n",
       "24710        29      17.0                122          -5        -5   44244   \n",
       "24713         2     -11.0                 42          -6        -6   44247   \n",
       "24707        45      52.0                248          -4        -5   44265   \n",
       "19223       142     142.0                 94          -6        -5   44283   \n",
       "24712        52      34.0                 68          -5        -5   44307   \n",
       "\n",
       "       gmtArr  \n",
       "24710   44366  \n",
       "24713   44289  \n",
       "24707   44513  \n",
       "19223   44377  \n",
       "24712   44375  "
      ]
     },
     "execution_count": 29,
     "metadata": {},
     "output_type": "execute_result"
    }
   ],
   "source": [
    "flights.tail()"
   ]
  },
  {
   "cell_type": "markdown",
   "id": "96de397b",
   "metadata": {},
   "source": [
    "## 1.5  Рассмотрим подробнее очищенные данные"
   ]
  },
  {
   "cell_type": "code",
   "execution_count": 30,
   "id": "98c398a8",
   "metadata": {},
   "outputs": [
    {
     "data": {
      "text/html": [
       "<div>\n",
       "<style scoped>\n",
       "    .dataframe tbody tr th:only-of-type {\n",
       "        vertical-align: middle;\n",
       "    }\n",
       "\n",
       "    .dataframe tbody tr th {\n",
       "        vertical-align: top;\n",
       "    }\n",
       "\n",
       "    .dataframe thead th {\n",
       "        text-align: right;\n",
       "    }\n",
       "</style>\n",
       "<table border=\"1\" class=\"dataframe\">\n",
       "  <thead>\n",
       "    <tr style=\"text-align: right;\">\n",
       "      <th></th>\n",
       "      <th>DayofMonth</th>\n",
       "      <th>CRSDepTime</th>\n",
       "      <th>CRSArrTime</th>\n",
       "      <th>DepTime</th>\n",
       "      <th>ArrTime</th>\n",
       "      <th>DepDelay</th>\n",
       "      <th>ArrDelay</th>\n",
       "      <th>ActualElapsedTime</th>\n",
       "      <th>gtm_origin</th>\n",
       "      <th>gtm_dest</th>\n",
       "      <th>gmtDep</th>\n",
       "      <th>gmtArr</th>\n",
       "    </tr>\n",
       "  </thead>\n",
       "  <tbody>\n",
       "    <tr>\n",
       "      <th>count</th>\n",
       "      <td>31367.000000</td>\n",
       "      <td>31367.000000</td>\n",
       "      <td>31367.000000</td>\n",
       "      <td>31367.000000</td>\n",
       "      <td>31367.000000</td>\n",
       "      <td>31367.000000</td>\n",
       "      <td>31367.000000</td>\n",
       "      <td>31367.000000</td>\n",
       "      <td>31367.000000</td>\n",
       "      <td>31367.000000</td>\n",
       "      <td>31367.00000</td>\n",
       "      <td>31367.000000</td>\n",
       "    </tr>\n",
       "    <tr>\n",
       "      <th>mean</th>\n",
       "      <td>7.209488</td>\n",
       "      <td>739.032231</td>\n",
       "      <td>800.524437</td>\n",
       "      <td>715.190806</td>\n",
       "      <td>791.311984</td>\n",
       "      <td>1.124940</td>\n",
       "      <td>0.342813</td>\n",
       "      <td>109.631555</td>\n",
       "      <td>-6.149456</td>\n",
       "      <td>-6.208882</td>\n",
       "      <td>9026.22852</td>\n",
       "      <td>9135.860076</td>\n",
       "    </tr>\n",
       "    <tr>\n",
       "      <th>std</th>\n",
       "      <td>4.686065</td>\n",
       "      <td>331.297472</td>\n",
       "      <td>210.604854</td>\n",
       "      <td>314.193024</td>\n",
       "      <td>192.926966</td>\n",
       "      <td>20.289293</td>\n",
       "      <td>24.317448</td>\n",
       "      <td>54.238003</td>\n",
       "      <td>1.276300</td>\n",
       "      <td>1.234447</td>\n",
       "      <td>6776.72387</td>\n",
       "      <td>6783.911373</td>\n",
       "    </tr>\n",
       "    <tr>\n",
       "      <th>min</th>\n",
       "      <td>1.000000</td>\n",
       "      <td>5.000000</td>\n",
       "      <td>1.000000</td>\n",
       "      <td>1.000000</td>\n",
       "      <td>1.000000</td>\n",
       "      <td>-28.000000</td>\n",
       "      <td>-71.000000</td>\n",
       "      <td>25.000000</td>\n",
       "      <td>-10.000000</td>\n",
       "      <td>-10.000000</td>\n",
       "      <td>-512.00000</td>\n",
       "      <td>-320.000000</td>\n",
       "    </tr>\n",
       "    <tr>\n",
       "      <th>25%</th>\n",
       "      <td>3.000000</td>\n",
       "      <td>614.000000</td>\n",
       "      <td>745.000000</td>\n",
       "      <td>610.000000</td>\n",
       "      <td>742.000000</td>\n",
       "      <td>-5.000000</td>\n",
       "      <td>-11.000000</td>\n",
       "      <td>71.000000</td>\n",
       "      <td>-7.000000</td>\n",
       "      <td>-7.000000</td>\n",
       "      <td>3583.00000</td>\n",
       "      <td>3752.500000</td>\n",
       "    </tr>\n",
       "    <tr>\n",
       "      <th>50%</th>\n",
       "      <td>7.000000</td>\n",
       "      <td>700.000000</td>\n",
       "      <td>835.000000</td>\n",
       "      <td>654.000000</td>\n",
       "      <td>831.000000</td>\n",
       "      <td>-3.000000</td>\n",
       "      <td>-4.000000</td>\n",
       "      <td>97.000000</td>\n",
       "      <td>-6.000000</td>\n",
       "      <td>-6.000000</td>\n",
       "      <td>8703.00000</td>\n",
       "      <td>8805.000000</td>\n",
       "    </tr>\n",
       "    <tr>\n",
       "      <th>75%</th>\n",
       "      <td>10.000000</td>\n",
       "      <td>740.000000</td>\n",
       "      <td>915.000000</td>\n",
       "      <td>740.000000</td>\n",
       "      <td>914.000000</td>\n",
       "      <td>0.000000</td>\n",
       "      <td>5.000000</td>\n",
       "      <td>135.000000</td>\n",
       "      <td>-5.000000</td>\n",
       "      <td>-5.000000</td>\n",
       "      <td>13105.00000</td>\n",
       "      <td>13229.000000</td>\n",
       "    </tr>\n",
       "    <tr>\n",
       "      <th>max</th>\n",
       "      <td>31.000000</td>\n",
       "      <td>2359.000000</td>\n",
       "      <td>2359.000000</td>\n",
       "      <td>2400.000000</td>\n",
       "      <td>2359.000000</td>\n",
       "      <td>1092.000000</td>\n",
       "      <td>1103.000000</td>\n",
       "      <td>457.000000</td>\n",
       "      <td>-4.000000</td>\n",
       "      <td>-4.000000</td>\n",
       "      <td>44307.00000</td>\n",
       "      <td>44513.000000</td>\n",
       "    </tr>\n",
       "  </tbody>\n",
       "</table>\n",
       "</div>"
      ],
      "text/plain": [
       "         DayofMonth    CRSDepTime    CRSArrTime       DepTime       ArrTime  \\\n",
       "count  31367.000000  31367.000000  31367.000000  31367.000000  31367.000000   \n",
       "mean       7.209488    739.032231    800.524437    715.190806    791.311984   \n",
       "std        4.686065    331.297472    210.604854    314.193024    192.926966   \n",
       "min        1.000000      5.000000      1.000000      1.000000      1.000000   \n",
       "25%        3.000000    614.000000    745.000000    610.000000    742.000000   \n",
       "50%        7.000000    700.000000    835.000000    654.000000    831.000000   \n",
       "75%       10.000000    740.000000    915.000000    740.000000    914.000000   \n",
       "max       31.000000   2359.000000   2359.000000   2400.000000   2359.000000   \n",
       "\n",
       "           DepDelay      ArrDelay  ActualElapsedTime    gtm_origin  \\\n",
       "count  31367.000000  31367.000000       31367.000000  31367.000000   \n",
       "mean       1.124940      0.342813         109.631555     -6.149456   \n",
       "std       20.289293     24.317448          54.238003      1.276300   \n",
       "min      -28.000000    -71.000000          25.000000    -10.000000   \n",
       "25%       -5.000000    -11.000000          71.000000     -7.000000   \n",
       "50%       -3.000000     -4.000000          97.000000     -6.000000   \n",
       "75%        0.000000      5.000000         135.000000     -5.000000   \n",
       "max     1092.000000   1103.000000         457.000000     -4.000000   \n",
       "\n",
       "           gtm_dest       gmtDep        gmtArr  \n",
       "count  31367.000000  31367.00000  31367.000000  \n",
       "mean      -6.208882   9026.22852   9135.860076  \n",
       "std        1.234447   6776.72387   6783.911373  \n",
       "min      -10.000000   -512.00000   -320.000000  \n",
       "25%       -7.000000   3583.00000   3752.500000  \n",
       "50%       -6.000000   8703.00000   8805.000000  \n",
       "75%       -5.000000  13105.00000  13229.000000  \n",
       "max       -4.000000  44307.00000  44513.000000  "
      ]
     },
     "execution_count": 30,
     "metadata": {},
     "output_type": "execute_result"
    }
   ],
   "source": [
    "flights.describe()"
   ]
  },
  {
   "cell_type": "markdown",
   "id": "32a7773b",
   "metadata": {},
   "source": [
    "### 1.5.1 Длительность полета"
   ]
  },
  {
   "cell_type": "code",
   "execution_count": 31,
   "id": "e6307486",
   "metadata": {},
   "outputs": [
    {
     "data": {
      "image/png": "[encoded data removed]",
      "text/plain": [
       "<Figure size 432x288 with 1 Axes>"
      ]
     },
     "metadata": {
      "needs_background": "light"
     },
     "output_type": "display_data"
    }
   ],
   "source": [
    "sns.histplot(flights[\"ActualElapsedTime\"]);\n",
    "#sns.distplot\n",
    "#histplot\n",
    "#displot"
   ]
  },
  {
   "cell_type": "markdown",
   "id": "a59832cf",
   "metadata": {},
   "source": [
    "### 1.5.2 Посмотреть число рейсов по дням"
   ]
  },
  {
   "cell_type": "code",
   "execution_count": 32,
   "id": "a0608a43",
   "metadata": {},
   "outputs": [],
   "source": [
    "number_of_flights_per_day = [ (flights[\"DayofMonth\"]==i).sum() for i in range(1,32,1)]"
   ]
  },
  {
   "cell_type": "code",
   "execution_count": 33,
   "id": "cd3c6f83",
   "metadata": {},
   "outputs": [
    {
     "data": {
      "image/png": "[encoded data removed]",
      "text/plain": [
       "<Figure size 432x288 with 1 Axes>"
      ]
     },
     "metadata": {
      "needs_background": "light"
     },
     "output_type": "display_data"
    }
   ],
   "source": [
    "plt.plot(number_of_flights_per_day);"
   ]
  },
  {
   "cell_type": "code",
   "execution_count": 34,
   "id": "c0b81e74",
   "metadata": {},
   "outputs": [
    {
     "data": {
      "image/png": "[encoded data removed]",
      "text/plain": [
       "<Figure size 432x288 with 1 Axes>"
      ]
     },
     "metadata": {
      "needs_background": "light"
     },
     "output_type": "display_data"
    }
   ],
   "source": [
    "plt.plot(number_of_flights_per_day[13:]);"
   ]
  },
  {
   "cell_type": "markdown",
   "id": "d318a37f",
   "metadata": {},
   "source": [
    "# 2. Моделирование распространения болезни между аэропортами"
   ]
  },
  {
   "cell_type": "markdown",
   "id": "1c048cdc",
   "metadata": {},
   "source": [
    "## 2.1 DataFrame для модулирования"
   ]
  },
  {
   "cell_type": "markdown",
   "id": "a9bc2717",
   "metadata": {},
   "source": [
    "Для дальнейшей работы нам достаточно столбцов:\n",
    "- Аэропорты вылета(**Origin**) и прилета(**Dest**),\n",
    "- абсолютное время в минутах вылета (**gmtDep**) и посадки(**gmtArr**) "
   ]
  },
  {
   "cell_type": "code",
   "execution_count": 35,
   "id": "27c8859e",
   "metadata": {},
   "outputs": [],
   "source": [
    "df4sim = flights[['Origin','Dest','gmtDep','gmtArr']].copy()"
   ]
  },
  {
   "cell_type": "code",
   "execution_count": 36,
   "id": "7128eb36",
   "metadata": {},
   "outputs": [
    {
     "data": {
      "text/html": [
       "<div>\n",
       "<style scoped>\n",
       "    .dataframe tbody tr th:only-of-type {\n",
       "        vertical-align: middle;\n",
       "    }\n",
       "\n",
       "    .dataframe tbody tr th {\n",
       "        vertical-align: top;\n",
       "    }\n",
       "\n",
       "    .dataframe thead th {\n",
       "        text-align: right;\n",
       "    }\n",
       "</style>\n",
       "<table border=\"1\" class=\"dataframe\">\n",
       "  <thead>\n",
       "    <tr style=\"text-align: right;\">\n",
       "      <th></th>\n",
       "      <th>Origin</th>\n",
       "      <th>Dest</th>\n",
       "      <th>gmtDep</th>\n",
       "      <th>gmtArr</th>\n",
       "    </tr>\n",
       "  </thead>\n",
       "  <tbody>\n",
       "    <tr>\n",
       "      <th>18609</th>\n",
       "      <td>ANC</td>\n",
       "      <td>SEA</td>\n",
       "      <td>-512</td>\n",
       "      <td>-320</td>\n",
       "    </tr>\n",
       "    <tr>\n",
       "      <th>18854</th>\n",
       "      <td>ANC</td>\n",
       "      <td>PDX</td>\n",
       "      <td>-484</td>\n",
       "      <td>-286</td>\n",
       "    </tr>\n",
       "    <tr>\n",
       "      <th>19409</th>\n",
       "      <td>ANC</td>\n",
       "      <td>SLC</td>\n",
       "      <td>-472</td>\n",
       "      <td>-196</td>\n",
       "    </tr>\n",
       "    <tr>\n",
       "      <th>18606</th>\n",
       "      <td>LAX</td>\n",
       "      <td>MSP</td>\n",
       "      <td>-464</td>\n",
       "      <td>-224</td>\n",
       "    </tr>\n",
       "    <tr>\n",
       "      <th>18610</th>\n",
       "      <td>SFO</td>\n",
       "      <td>MSP</td>\n",
       "      <td>-450</td>\n",
       "      <td>-229</td>\n",
       "    </tr>\n",
       "    <tr>\n",
       "      <th>18611</th>\n",
       "      <td>SMF</td>\n",
       "      <td>IAH</td>\n",
       "      <td>-446</td>\n",
       "      <td>-242</td>\n",
       "    </tr>\n",
       "    <tr>\n",
       "      <th>19414</th>\n",
       "      <td>ANC</td>\n",
       "      <td>SEA</td>\n",
       "      <td>-446</td>\n",
       "      <td>-252</td>\n",
       "    </tr>\n",
       "    <tr>\n",
       "      <th>18612</th>\n",
       "      <td>SFO</td>\n",
       "      <td>IAH</td>\n",
       "      <td>-445</td>\n",
       "      <td>-251</td>\n",
       "    </tr>\n",
       "    <tr>\n",
       "      <th>18613</th>\n",
       "      <td>LAS</td>\n",
       "      <td>JFK</td>\n",
       "      <td>-442</td>\n",
       "      <td>-134</td>\n",
       "    </tr>\n",
       "    <tr>\n",
       "      <th>18615</th>\n",
       "      <td>SEA</td>\n",
       "      <td>MSP</td>\n",
       "      <td>-437</td>\n",
       "      <td>-249</td>\n",
       "    </tr>\n",
       "  </tbody>\n",
       "</table>\n",
       "</div>"
      ],
      "text/plain": [
       "      Origin Dest  gmtDep  gmtArr\n",
       "18609    ANC  SEA    -512    -320\n",
       "18854    ANC  PDX    -484    -286\n",
       "19409    ANC  SLC    -472    -196\n",
       "18606    LAX  MSP    -464    -224\n",
       "18610    SFO  MSP    -450    -229\n",
       "18611    SMF  IAH    -446    -242\n",
       "19414    ANC  SEA    -446    -252\n",
       "18612    SFO  IAH    -445    -251\n",
       "18613    LAS  JFK    -442    -134\n",
       "18615    SEA  MSP    -437    -249"
      ]
     },
     "execution_count": 36,
     "metadata": {},
     "output_type": "execute_result"
    }
   ],
   "source": [
    "df4sim.head(10)"
   ]
  },
  {
   "cell_type": "markdown",
   "id": "4097693f",
   "metadata": {},
   "source": [
    "Определим количество уникальных аэропортов"
   ]
  },
  {
   "cell_type": "code",
   "execution_count": 37,
   "id": "a06dcb1e",
   "metadata": {},
   "outputs": [
    {
     "name": "stdout",
     "output_type": "stream",
     "text": [
      "266\n",
      "260\n",
      "207\n"
     ]
    }
   ],
   "source": [
    "unique_airports = np.unique(df4sim[['Origin','Dest']])\n",
    "unique_Origin_airports = np.unique(df4sim[['Origin']])\n",
    "unique_Dest_airports = np.unique(df4sim[['Dest']])\n",
    "Nua=len(unique_airports)\n",
    "print(len(unique_airports))\n",
    "print(len(unique_Origin_airports))\n",
    "print(len(unique_Dest_airports))"
   ]
  },
  {
   "cell_type": "markdown",
   "id": "aa7448b1",
   "metadata": {},
   "source": [
    "## 2.2 Функция моделирования (симуляции) одного прохода по всему списку перелетов"
   ]
  },
  {
   "cell_type": "code",
   "execution_count": 38,
   "id": "b9be182e",
   "metadata": {},
   "outputs": [],
   "source": [
    "def one_simulation(df, contagious=0.5, start=\"All\"):\n",
    "    \"\"\"_summary_\n",
    "\n",
    "    Args:\n",
    "        df (_type_): _description_\n",
    "        contagious (float, optional): _description_. Defaults to 0.5.\n",
    "        start (str, optional): _description_. Defaults to \"All\".\n",
    "\n",
    "    Returns:\n",
    "        _type_: _description_\n",
    "    \"\"\"            \n",
    "    # we have set of airports which will be contagious when flight arrives\n",
    "    \n",
    "    \n",
    "    # history - is a dictionary with\n",
    "    # airport : time when it became contagious\n",
    "    ill=set()\n",
    "    if start==\"All\":\n",
    "        ill.add(df.Origin.iloc[0])\n",
    "        history = {df.Origin.iloc[0]: df.gmtDep.iloc[0]}\n",
    "    else:        \n",
    "        ill.add(df.Origin[df.Origin == start].iloc[0])\n",
    "        history = {df.Origin[df.Origin == start].iloc[0]: df.gmtDep[df.Origin == start].iloc[0]}\n",
    "        print(df[df.Origin == start].iloc[0])    \n",
    "    \n",
    "    for row in df.itertuples():        \n",
    "        if (row.Origin in ill) and (row.Dest not in ill):\n",
    "            # надо проверить, а зараженный уже точно успел заразиться или еще нет? \n",
    "            if row.gmtDep > history[row.Origin]:\n",
    "                if np.random.random()<contagious:\n",
    "                    ill.add(row.Dest)\n",
    "                    history[row.Dest] = row.gmtArr                                    \n",
    "    return history"
   ]
  },
  {
   "cell_type": "code",
   "execution_count": 39,
   "id": "9b4bec56",
   "metadata": {},
   "outputs": [],
   "source": [
    "# compare with one_simulation and its time = 18.7 ms ± 51.4 µs per loop\n",
    "np.random.seed(3047)\n",
    "hist = one_simulation(df4sim,0.01)"
   ]
  },
  {
   "cell_type": "code",
   "execution_count": 40,
   "id": "d3376624",
   "metadata": {},
   "outputs": [
    {
     "data": {
      "text/plain": [
       "20"
      ]
     },
     "execution_count": 40,
     "metadata": {},
     "output_type": "execute_result"
    }
   ],
   "source": [
    "len(hist)"
   ]
  },
  {
   "cell_type": "code",
   "execution_count": 41,
   "id": "00938a81",
   "metadata": {},
   "outputs": [
    {
     "name": "stdout",
     "output_type": "stream",
     "text": [
      "{'ANC': -512, 'SLC': 7002, 'PHX': 7316, 'SNA': 8840, 'ELP': 11564, 'LAS': 11657, 'PDX': 11748, 'SEA': 12753, 'FAI': 12845, 'SJC': 14477, 'SMF': 14504, 'DAL': 15893, 'ADQ': 17217, 'DFW': 17345, 'SFO': 17283, 'CMH': 26758, 'MSP': 27151, 'IAH': 28562, 'JFK': 28676, 'FLL': 35594}\n"
     ]
    }
   ],
   "source": [
    "print(hist)"
   ]
  },
  {
   "cell_type": "markdown",
   "id": "451c6d25",
   "metadata": {},
   "source": [
    "## 2.3 Моделирование при разных значениях коэффициента заразности p "
   ]
  },
  {
   "cell_type": "markdown",
   "id": "0b5acc57",
   "metadata": {},
   "source": [
    "Функция моделирования для разных значений коэффициента заразности p имеет вид:"
   ]
  },
  {
   "cell_type": "code",
   "execution_count": 42,
   "id": "5a9530a8",
   "metadata": {},
   "outputs": [],
   "source": [
    "def simulate(df,p, Nsim=3):\n",
    "    \"\"\"_summary_\n",
    "\n",
    "    Args:\n",
    "        p (_type_): _description_\n",
    "        \n",
    "    Returns:\n",
    "        _type_: _description_\n",
    "    \"\"\"    \n",
    "    np.random.seed(3047)\n",
    "    def inner(p_index, N):\n",
    "        return [one_simulation(df,p_index) for _ in range(N)]    \n",
    "    return {index:inner(index, Nsim) for index in p}"
   ]
  },
  {
   "cell_type": "code",
   "execution_count": 43,
   "id": "1eeba300",
   "metadata": {},
   "outputs": [],
   "source": [
    "# many_p = np.concatenate((np.linspace(0.01,0.1,10), np.linspace(0.2,1,9)))\n",
    "p_values = [0.01, 0.05, 0.1, 0.5, 1]\n",
    "Nsim = 3"
   ]
  },
  {
   "cell_type": "markdown",
   "id": "d28282f7",
   "metadata": {},
   "source": [
    "Осуществим моделирование для p равных `p_values` и число экспериментов для одного p равно `Nsim`."
   ]
  },
  {
   "cell_type": "code",
   "execution_count": 44,
   "id": "bbc69a91",
   "metadata": {},
   "outputs": [],
   "source": [
    "result = simulate(df4sim, p_values, Nsim)"
   ]
  },
  {
   "cell_type": "code",
   "execution_count": 45,
   "id": "8b53a682",
   "metadata": {},
   "outputs": [
    {
     "name": "stdout",
     "output_type": "stream",
     "text": [
      "dict_keys([0.01, 0.05, 0.1, 0.5, 1])\n"
     ]
    }
   ],
   "source": [
    "print(result.keys())"
   ]
  },
  {
   "cell_type": "markdown",
   "id": "a7bd9b49",
   "metadata": {},
   "source": [
    "## 2.4 Анализ результатов моделирования разных значений заразности"
   ]
  },
  {
   "cell_type": "markdown",
   "id": "def526c4",
   "metadata": {},
   "source": [
    "Для каждых 12 часов симуляции посчитайте, какой средний процент аэропортов от общего их числа, был заражен к этому моменту времени. Постройте графики числа зараженных городов в зависимости от времени для каждой из вероятностей. \n",
    "\n",
    "То есть накопленный процент зараженных аэропортов посчитанный с некоторым шагом dt = 12 часов или любым другим шагом, или просто при заданном массиве dt_mas"
   ]
  },
  {
   "cell_type": "markdown",
   "id": "6c445d93",
   "metadata": {},
   "source": [
    "Преобразуем дынные моделирования для удобства анализа зависимости `зараженности от времени`.  "
   ]
  },
  {
   "cell_type": "code",
   "execution_count": 46,
   "id": "8335bef9",
   "metadata": {},
   "outputs": [],
   "source": [
    "def get_data_4_analysis(result):\n",
    "    \"\"\"_summary_\n",
    "\n",
    "    Args:\n",
    "        result (_type_): _description_\n",
    "\n",
    "    Returns:\n",
    "        _type_: _description_\n",
    "    \"\"\"    \n",
    "    data_analysis = []    \n",
    "    for p, model in result.items():\n",
    "        nparr = np.array([])\n",
    "        for j in range(len(model)):        \n",
    "            q = (np.array(list(model[j].values())))\n",
    "            nparr=np.concatenate((nparr,q))            \n",
    "        nparr.sort()\n",
    "        data_analysis.append(nparr)\n",
    "            # np.concatenate(nparr,np.array(model[j].values()))\n",
    "    return data_analysis"
   ]
  },
  {
   "cell_type": "code",
   "execution_count": 47,
   "id": "dac9c8a5",
   "metadata": {},
   "outputs": [
    {
     "name": "stdout",
     "output_type": "stream",
     "text": [
      "(65,)\n",
      "(222,)\n",
      "(450,)\n",
      "(580,)\n",
      "(612,)\n"
     ]
    }
   ],
   "source": [
    "data = get_data_4_analysis(result)\n",
    "for j in range(len(data)):\n",
    "    print(data[j].shape)"
   ]
  },
  {
   "cell_type": "markdown",
   "id": "7417b4c5",
   "metadata": {},
   "source": [
    "Дополнительные функции для анализа зависимости `зараженности от времени`. "
   ]
  },
  {
   "cell_type": "code",
   "execution_count": 48,
   "id": "f1657bec",
   "metadata": {},
   "outputs": [],
   "source": [
    "def infected_over_time(nparr, Nsim, Nua ,dt = 12*60):\n",
    "    \"\"\"_summary_\n",
    "\n",
    "    Args:\n",
    "        nparr (_type_): _description_\n",
    "        Nsim (_type_): _description_\n",
    "        Nua (_type_): _description_\n",
    "        dt (_type_, optional): _description_. Defaults to 12*60.\n",
    "\n",
    "    Returns:\n",
    "        _type_: _description_\n",
    "    \"\"\"    \n",
    "    mz = nparr.min()\n",
    "    # N_intervals = np.ceil((nparr.max() - nparr.min())/dt)\n",
    "    # N_intervals = (int(N_intervals))\n",
    "    \n",
    "    # hist, _ = np.histogram(nparr, bins=int(N_intervals),range=(mz,mz+N_intervals*dt))    \n",
    "    hist, _ = np.histogram(nparr, bins=62,range=(mz,mz+62*dt))    \n",
    "    cshist = hist.cumsum()/(Nsim*Nua)    \n",
    "    cshist = np.insert(cshist,0,0)\n",
    "    return cshist \n",
    "def x_4_infected_over_time(nparr, dt = 12*60):\n",
    "    \"\"\"_summary_\n",
    "\n",
    "    Args:\n",
    "        nparr (_type_): _description_\n",
    "        dt (_type_, optional): _description_. Defaults to 12*60.\n",
    "\n",
    "    Returns:\n",
    "        _type_: _description_\n",
    "    \"\"\"    \n",
    "    # N_intervals = int(np.ceil((nparr.max() - nparr.min())/dt))    \n",
    "    \n",
    "    N_intervals = int(np.ceil(31*24*60/dt + 1))    \n",
    "    # x = [(i+1)*dt for i in range(N_intervals)]    \n",
    "    return [(i)*dt for i in range(N_intervals)]    "
   ]
  },
  {
   "cell_type": "markdown",
   "id": "7e27d285",
   "metadata": {},
   "source": [
    "Функция построения графика"
   ]
  },
  {
   "cell_type": "code",
   "execution_count": 49,
   "id": "7ec456f5",
   "metadata": {},
   "outputs": [],
   "source": [
    "def draw_proportions(data_values, p_values, Nsim, Nua, dt=12*60):\n",
    "    \"\"\"_summary_\n",
    "\n",
    "    Args:\n",
    "        data_values (_type_): _description_\n",
    "        p_values (_type_): _description_\n",
    "        Nsim (_type_): _description_\n",
    "        Nua (_type_): _description_\n",
    "        dt (_type_, optional): _description_. Defaults to 12*60.\n",
    "\n",
    "    Returns:\n",
    "        _type_: _description_\n",
    "    \"\"\"    \n",
    "    if len(p_values)!=len(data_values):\n",
    "        print(\"We have different length for 'p' and 'data'\")\n",
    "        return None        \n",
    "    for p1, data in zip(p_values,data_values):   \n",
    "        percent = infected_over_time(data, Nsim, Nua, dt)            \n",
    "        x = x_4_infected_over_time(data, dt)                \n",
    "        plt.plot(x, percent,label=f'p = {p1}')        \n",
    "        \n",
    "    xdays = [24*60*(i+1) for i in range(31) if i%2==0]\n",
    "    ndays = [i+1 for i in range(31) if i%2==0]\n",
    "    plt.xticks(xdays, ndays)\n",
    "    plt.ylim((0,1))\n",
    "    plt.xlim((0,32*24*60))\n",
    "    plt.grid(visible=True)\n",
    "    plt.legend()\n",
    "    plt.show();"
   ]
  },
  {
   "cell_type": "code",
   "execution_count": 50,
   "id": "7d0e84eb",
   "metadata": {},
   "outputs": [
    {
     "data": {
      "image/png": "[encoded data removed]",
      "text/plain": [
       "<Figure size 432x288 with 1 Axes>"
      ]
     },
     "metadata": {
      "needs_background": "light"
     },
     "output_type": "display_data"
    }
   ],
   "source": [
    "draw_proportions(data, p_values, Nsim, Nua)"
   ]
  },
  {
   "cell_type": "markdown",
   "id": "f70c2f3a",
   "metadata": {},
   "source": [
    "## 2.5 Заключение по результатам анализа зараженности от времени\n",
    "Всего аэропортов - 266\n",
    "Число аэропортов откуда осуществляются вылеты - 260\n",
    "Число аэропортов, в которые прилетают - 207\n",
    "Поэтому доля аэропотртов, которые не могут быть заражены согласно данному расписанию составляет $\\frac{266-207}{266} = 0.22 \\%$"
   ]
  },
  {
   "cell_type": "code",
   "execution_count": 51,
   "id": "0327646b",
   "metadata": {},
   "outputs": [
    {
     "data": {
      "text/plain": [
       "0.22180451127819548"
      ]
     },
     "execution_count": 51,
     "metadata": {},
     "output_type": "execute_result"
    }
   ],
   "source": [
    "(266-207)/266"
   ]
  },
  {
   "cell_type": "markdown",
   "id": "cac12292",
   "metadata": {},
   "source": [
    "Для каждых 12 часов симуляции посчитайте, какой средний процент аэропортов от общего их числа, был заражен к этому моменту времени. Постройте графики числа зараженных городов в зависимости от времени для каждой из вероятностей.\n",
    "\n",
    "Описать почему другие не так растут ... в конце исследования, когда станет понятна связность графа"
   ]
  },
  {
   "cell_type": "markdown",
   "id": "3637c033",
   "metadata": {},
   "source": [
    "# 3. Исследование графа связности аэропортов и распространения болезни"
   ]
  },
  {
   "cell_type": "markdown",
   "id": "af66fecc",
   "metadata": {},
   "source": [
    "q = Может ли информация о сети помочь предсказать, кто будет заражен?\n",
    "\n",
    "q1 = Настало время поработать с NetworkX. По имеющемуся датасету вам нужно построить ненаправленный граф всех аэропортов, используя относительное число перелетов между соседними аэропортами в качестве веса ребра. Например, если из аэропорта А в аэропорт Б суммарно есть 5 рейсов, из Б в А 10 рейсов, а всего в сети 150 перелетов, то вес ребра между А и Б должен быть равен (5+10)/150 = 0.1.\n",
    "\n",
    "q2 = Прогоните вашу симуляцию 50 раз, используя p=0.5 и стартовый аэропорт Allentown, каждый раз сохраняя результаты. Используя данные симуляций посчитайте медианное время до заражения каждого города\n",
    "\n",
    "q3 = Теперь используя построенный вами граф, для каждого города посчитайте его коэффициент кластеризации (nx.clustering), степень (nx.degree) и центральность (nx.betweenness_centrality)\n",
    "\n",
    "q4 = Наконец, постройте scatter-plot-ы для медианного времени заражения и каждой из рассчитанных выше метрик. Также посчитайте коэффициент корреляции Спирмана между этими показателями и попробуйте проинтерпретировать полученные результаты. Какая из метрик графа сильнее всего скоррелирована со временем заражения? Почему?"
   ]
  },
  {
   "cell_type": "markdown",
   "id": "cbeacb27",
   "metadata": {},
   "source": [
    "## 3.1 Граф аэропортов\n",
    "\n",
    "Вес ребра - относительное число перелетов\n",
    "\n",
    "Вес вершины = сколько входит ребер (прилетов) (Сделать разметку на этом графе какие вершины имеют 0, от 1 до 3 входящих ребер, от 4 до 6, более 6 другой цвет)\n",
    "надо посмотреть на связность вершин, есть ли \"узкое горлышко\"? \n",
    "\n",
    "Надо граф построить "
   ]
  },
  {
   "cell_type": "markdown",
   "id": "c66e56fa",
   "metadata": {},
   "source": [
    "вершины - это аэропорты, вес = число вхождений в вершину\n",
    "\n",
    "ребра - это перелеты, вес = число перелетов относительно всех перелетов"
   ]
  },
  {
   "cell_type": "markdown",
   "id": "1ef6f33a",
   "metadata": {},
   "source": [
    "1 Как задавать граф \n",
    "2 подсчитать, вес ребра, вес вершины"
   ]
  },
  {
   "cell_type": "markdown",
   "id": "864028b6",
   "metadata": {},
   "source": [
    "## 3.2 Моделирование характеристики `медианное время на заражение`"
   ]
  },
  {
   "cell_type": "markdown",
   "id": "7a631fca",
   "metadata": {},
   "source": [
    "Лист аэропортов есть, надо функции обработки данных моделирования при p = 0.5"
   ]
  },
  {
   "cell_type": "code",
   "execution_count": 54,
   "id": "d28aa435",
   "metadata": {},
   "outputs": [],
   "source": [
    "result2 = simulate(df4sim, [0.5], 4)"
   ]
  },
  {
   "cell_type": "code",
   "execution_count": 86,
   "id": "583acef5",
   "metadata": {},
   "outputs": [
    {
     "name": "stdout",
     "output_type": "stream",
     "text": [
      "Empty DataFrame\n",
      "Columns: [ABE, ABI, ABQ, ABY, ACT, ACV, ADQ, AEX, AGS, ALB, AMA, ANC, ASE, ATL, ATW, AUS, AVL, AVP, AZO, BDL, BET, BFL, BGM, BGR, BHM, BIL, BIS, BMI, BNA, BOI, BOS, BQK, BQN, BRO, BTM, BTR, BTV, BUF, BUR, BWI, BZN, CAE, CAK, CDC, CEC, CHA, CHO, CHS, CIC, CID, CLD, CLE, CLT, CMH, CMI, CMX, COD, COS, CPR, CRP, CRW, CSG, CVG, CWA, DAB, DAL, DAY, DBQ, DCA, DEN, DFW, DHN, DLH, DRO, DSM, DTW, EGE, EKO, ELP, ERI, EUG, EVV, EWN, EWR, EYW, FAI, FAR, FAT, FAY, FCA, FLG, FLL, FLO, FNT, FSD, FSM, FWA, GCC, GEG, GFK, ...]\n",
      "Index: []\n",
      "\n",
      "[0 rows x 266 columns]\n"
     ]
    }
   ],
   "source": [
    "df_contagious_time = pd.DataFrame(columns=unique_airports)\n",
    "print(df_contagious_time.head())"
   ]
  },
  {
   "cell_type": "code",
   "execution_count": 69,
   "id": "2214dc14",
   "metadata": {},
   "outputs": [],
   "source": [
    "# print(type(result2[0.5]))\n",
    "# print((result2[0.5]))"
   ]
  },
  {
   "cell_type": "code",
   "execution_count": 87,
   "id": "10788200",
   "metadata": {},
   "outputs": [],
   "source": [
    "# df_contagious_time = pd.DataFrame.from_dict(result2[0.5])\n",
    "df_contagious_time = df_contagious_time.append(result2[0.5])"
   ]
  },
  {
   "cell_type": "code",
   "execution_count": 92,
   "id": "158d4c6a",
   "metadata": {},
   "outputs": [
    {
     "data": {
      "text/html": [
       "<div>\n",
       "<style scoped>\n",
       "    .dataframe tbody tr th:only-of-type {\n",
       "        vertical-align: middle;\n",
       "    }\n",
       "\n",
       "    .dataframe tbody tr th {\n",
       "        vertical-align: top;\n",
       "    }\n",
       "\n",
       "    .dataframe thead th {\n",
       "        text-align: right;\n",
       "    }\n",
       "</style>\n",
       "<table border=\"1\" class=\"dataframe\">\n",
       "  <thead>\n",
       "    <tr style=\"text-align: right;\">\n",
       "      <th></th>\n",
       "      <th>ABE</th>\n",
       "      <th>ABI</th>\n",
       "      <th>ABQ</th>\n",
       "      <th>ABY</th>\n",
       "      <th>ACT</th>\n",
       "      <th>ACV</th>\n",
       "      <th>ADQ</th>\n",
       "      <th>AEX</th>\n",
       "      <th>AGS</th>\n",
       "      <th>ALB</th>\n",
       "      <th>...</th>\n",
       "      <th>TVC</th>\n",
       "      <th>TWF</th>\n",
       "      <th>TXK</th>\n",
       "      <th>TYR</th>\n",
       "      <th>TYS</th>\n",
       "      <th>VLD</th>\n",
       "      <th>VPS</th>\n",
       "      <th>WRG</th>\n",
       "      <th>XNA</th>\n",
       "      <th>YUM</th>\n",
       "    </tr>\n",
       "  </thead>\n",
       "  <tbody>\n",
       "    <tr>\n",
       "      <th>0</th>\n",
       "      <td>1595</td>\n",
       "      <td>NaN</td>\n",
       "      <td>95</td>\n",
       "      <td>NaN</td>\n",
       "      <td>NaN</td>\n",
       "      <td>1493</td>\n",
       "      <td>5696</td>\n",
       "      <td>NaN</td>\n",
       "      <td>1711</td>\n",
       "      <td>1637</td>\n",
       "      <td>...</td>\n",
       "      <td>NaN</td>\n",
       "      <td>117</td>\n",
       "      <td>NaN</td>\n",
       "      <td>NaN</td>\n",
       "      <td>1598</td>\n",
       "      <td>NaN</td>\n",
       "      <td>4558</td>\n",
       "      <td>1490</td>\n",
       "      <td>1759</td>\n",
       "      <td>138.0</td>\n",
       "    </tr>\n",
       "    <tr>\n",
       "      <th>1</th>\n",
       "      <td>3012</td>\n",
       "      <td>NaN</td>\n",
       "      <td>1527</td>\n",
       "      <td>NaN</td>\n",
       "      <td>NaN</td>\n",
       "      <td>1493</td>\n",
       "      <td>1392</td>\n",
       "      <td>NaN</td>\n",
       "      <td>5981</td>\n",
       "      <td>3083</td>\n",
       "      <td>...</td>\n",
       "      <td>NaN</td>\n",
       "      <td>1563</td>\n",
       "      <td>NaN</td>\n",
       "      <td>NaN</td>\n",
       "      <td>3035</td>\n",
       "      <td>NaN</td>\n",
       "      <td>1678</td>\n",
       "      <td>2884</td>\n",
       "      <td>1605</td>\n",
       "      <td>NaN</td>\n",
       "    </tr>\n",
       "    <tr>\n",
       "      <th>2</th>\n",
       "      <td>1595</td>\n",
       "      <td>NaN</td>\n",
       "      <td>95</td>\n",
       "      <td>NaN</td>\n",
       "      <td>NaN</td>\n",
       "      <td>1493</td>\n",
       "      <td>-58</td>\n",
       "      <td>NaN</td>\n",
       "      <td>1711</td>\n",
       "      <td>3083</td>\n",
       "      <td>...</td>\n",
       "      <td>NaN</td>\n",
       "      <td>2994</td>\n",
       "      <td>NaN</td>\n",
       "      <td>NaN</td>\n",
       "      <td>1651</td>\n",
       "      <td>NaN</td>\n",
       "      <td>5997</td>\n",
       "      <td>2884</td>\n",
       "      <td>192</td>\n",
       "      <td>NaN</td>\n",
       "    </tr>\n",
       "    <tr>\n",
       "      <th>3</th>\n",
       "      <td>1595</td>\n",
       "      <td>NaN</td>\n",
       "      <td>163</td>\n",
       "      <td>NaN</td>\n",
       "      <td>NaN</td>\n",
       "      <td>1493</td>\n",
       "      <td>-58</td>\n",
       "      <td>NaN</td>\n",
       "      <td>1711</td>\n",
       "      <td>1681</td>\n",
       "      <td>...</td>\n",
       "      <td>NaN</td>\n",
       "      <td>1563</td>\n",
       "      <td>NaN</td>\n",
       "      <td>NaN</td>\n",
       "      <td>1598</td>\n",
       "      <td>NaN</td>\n",
       "      <td>1678</td>\n",
       "      <td>2884</td>\n",
       "      <td>1605</td>\n",
       "      <td>NaN</td>\n",
       "    </tr>\n",
       "  </tbody>\n",
       "</table>\n",
       "<p>4 rows × 266 columns</p>\n",
       "</div>"
      ],
      "text/plain": [
       "    ABE  ABI   ABQ  ABY  ACT   ACV   ADQ  AEX   AGS   ALB  ...  TVC   TWF  \\\n",
       "0  1595  NaN    95  NaN  NaN  1493  5696  NaN  1711  1637  ...  NaN   117   \n",
       "1  3012  NaN  1527  NaN  NaN  1493  1392  NaN  5981  3083  ...  NaN  1563   \n",
       "2  1595  NaN    95  NaN  NaN  1493   -58  NaN  1711  3083  ...  NaN  2994   \n",
       "3  1595  NaN   163  NaN  NaN  1493   -58  NaN  1711  1681  ...  NaN  1563   \n",
       "\n",
       "   TXK  TYR   TYS  VLD   VPS   WRG   XNA    YUM  \n",
       "0  NaN  NaN  1598  NaN  4558  1490  1759  138.0  \n",
       "1  NaN  NaN  3035  NaN  1678  2884  1605    NaN  \n",
       "2  NaN  NaN  1651  NaN  5997  2884   192    NaN  \n",
       "3  NaN  NaN  1598  NaN  1678  2884  1605    NaN  \n",
       "\n",
       "[4 rows x 266 columns]"
      ]
     },
     "execution_count": 92,
     "metadata": {},
     "output_type": "execute_result"
    }
   ],
   "source": [
    "df_contagious_time.head()"
   ]
  },
  {
   "cell_type": "code",
   "execution_count": 75,
   "id": "0bb0636b",
   "metadata": {},
   "outputs": [
    {
     "data": {
      "text/plain": [
       "21.5"
      ]
     },
     "execution_count": 75,
     "metadata": {},
     "output_type": "execute_result"
    }
   ],
   "source": [
    "(-286+124*3)/4"
   ]
  },
  {
   "cell_type": "code",
   "execution_count": 93,
   "id": "b8ae483b",
   "metadata": {},
   "outputs": [],
   "source": [
    "mean_ct = df_contagious_time.mean()"
   ]
  },
  {
   "cell_type": "code",
   "execution_count": 100,
   "id": "3cf20d1b",
   "metadata": {},
   "outputs": [
    {
     "name": "stdout",
     "output_type": "stream",
     "text": [
      "64\n"
     ]
    }
   ],
   "source": [
    "print(mean_ct.isna().sum())"
   ]
  },
  {
   "cell_type": "code",
   "execution_count": 102,
   "id": "8e2e2a57",
   "metadata": {},
   "outputs": [
    {
     "name": "stdout",
     "output_type": "stream",
     "text": [
      "470.0\n",
      "<class 'pandas.core.series.Series'>\n"
     ]
    }
   ],
   "source": [
    "print(mean_ct['ABQ'])\n",
    "print(type(mean_ct))"
   ]
  },
  {
   "cell_type": "code",
   "execution_count": 103,
   "id": "3667b4dc",
   "metadata": {},
   "outputs": [],
   "source": [
    "contagious_time = mean_ct.to_dict()"
   ]
  },
  {
   "cell_type": "markdown",
   "id": "d1161322",
   "metadata": {},
   "source": [
    "#### `НАДО ЛИ Выбросить NAN и что с ними лучше сделать по смыслу??? `"
   ]
  },
  {
   "cell_type": "code",
   "execution_count": 104,
   "id": "6267230d",
   "metadata": {},
   "outputs": [
    {
     "name": "stdout",
     "output_type": "stream",
     "text": [
      "<class 'dict'>\n",
      "{'ABE': 1949.25, 'ABI': nan, 'ABQ': 470.0, 'ABY': nan, 'ACT': nan, 'ACV': 1493.0, 'ADQ': 1743.0, 'AEX': nan, 'AGS': 2778.5, 'ALB': 2371.0, 'AMA': 1607.0, 'ANC': -512.0, 'ASE': 855.0, 'ATL': 1242.25, 'ATW': 3057.0, 'AUS': 894.0, 'AVL': 3083.0, 'AVP': 4296.5, 'AZO': nan, 'BDL': 1460.75, 'BET': 2131.0, 'BFL': 4422.75, 'BGM': nan, 'BGR': nan, 'BHM': 1238.75, 'BIL': 2691.75, 'BIS': 40564.5, 'BMI': 1631.0, 'BNA': 1235.75, 'BOI': 2142.0, 'BOS': 1091.75, 'BQK': nan, 'BQN': 4950.5, 'BRO': 4533.5, 'BTM': nan, 'BTR': 1302.0, 'BTV': 8934.0, 'BUF': 1446.25, 'BUR': 508.5, 'BWI': 1306.75, 'BZN': nan, 'CAE': 2754.5, 'CAK': 1721.5, 'CDC': nan, 'CEC': 4370.5, 'CHA': 4105.666666666667, 'CHO': nan, 'CHS': 2385.5, 'CIC': nan, 'CID': 2385.5, 'CLD': 2926.75, 'CLE': 1615.25, 'CLT': 1502.75, 'CMH': 1615.5, 'CMI': 1203.0, 'CMX': nan, 'COD': nan, 'COS': 1923.5, 'CPR': 1964.0, 'CRP': 1620.0, 'CRW': nan, 'CSG': nan, 'CVG': 1569.5, 'CWA': nan, 'DAB': nan, 'DAL': 1434.75, 'DAY': 1701.25, 'DBQ': 1083.0, 'DCA': 1603.75, 'DEN': 250.0, 'DFW': 889.5, 'DHN': nan, 'DLH': 12653.0, 'DRO': 3025.0, 'DSM': 1243.25, 'DTW': 1052.0, 'EGE': 9486.75, 'EKO': 2286.0, 'ELP': 1576.25, 'ERI': nan, 'EUG': 4213.0, 'EVV': 4473.0, 'EWN': nan, 'EWR': 1062.25, 'EYW': nan, 'FAI': -113.25, 'FAR': 19087.0, 'FAT': 1511.25, 'FAY': 2401.5, 'FCA': nan, 'FLG': nan, 'FLL': 1354.75, 'FLO': nan, 'FNT': nan, 'FSD': 1197.0, 'FSM': 3104.0, 'FWA': 6271.666666666667, 'GCC': nan, 'GEG': 898.75, 'GFK': nan, 'GJT': 872.5, 'GNV': 3888.75, 'GPT': 1976.5, 'GRB': 2600.0, 'GRK': 2717.0, 'GRR': 1514.75, 'GSO': 2396.25, 'GSP': 3062.25, 'GTF': nan, 'GTR': nan, 'GUC': 1949.5, 'HDN': 15648.0, 'HLN': nan, 'HNL': 4341.75, 'HOU': 1062.5, 'HPN': 3374.75, 'HRL': 2334.25, 'HSV': 2813.5, 'HTS': nan, 'IAD': 1059.0, 'IAH': 968.5, 'ICT': 17502.0, 'IDA': nan, 'ILM': 4592.25, 'IND': 1459.25, 'IPL': 3688.0, 'ISP': 2328.25, 'ITH': nan, 'ITO': 5559.75, 'IYK': nan, 'JAC': nan, 'JAN': 1248.25, 'JAX': 1637.75, 'JFK': 926.75, 'JNU': 97.5, 'KOA': 5597.5, 'KTN': 1453.0, 'LAN': 2236.5, 'LAS': 409.0, 'LAW': 4852.0, 'LAX': 387.5, 'LBB': 1970.0, 'LCH': 4518.5, 'LEX': 2379.0, 'LFT': 8877.0, 'LGA': 1616.0, 'LGB': 813.0, 'LIH': 5501.5, 'LIT': 1611.5, 'LMT': 2928.0, 'LNK': 1082.0, 'LRD': 6709.0, 'LSE': nan, 'LWS': nan, 'LYH': nan, 'MAF': 3744.5, 'MBS': 2693.0, 'MCI': 884.25, 'MCO': 1605.5, 'MDT': 4095.0, 'MDW': 1088.25, 'MEI': nan, 'MEM': 997.25, 'MFE': 2027.0, 'MFR': 7277.0, 'MGM': 2797.75, 'MHT': 1334.0, 'MIA': 1493.25, 'MKE': 1895.5, 'MLB': nan, 'MLI': 3094.0, 'MLU': nan, 'MOB': 2025.5, 'MOD': 2937.5, 'MOT': nan, 'MQT': 12666.0, 'MRY': 2949.5, 'MSN': 1473.25, 'MSO': 30808.0, 'MSP': 1271.25, 'MSY': 1095.75, 'MTJ': 9131.25, 'MYR': 6408.25, 'OAJ': nan, 'OAK': 83.0, 'OGG': 5527.25, 'OKC': 1496.25, 'OMA': 1486.75, 'OME': 2531.25, 'ONT': 133.75, 'ORD': 1027.75, 'ORF': 1473.5, 'OTH': 4712.5, 'OTZ': 1721.0, 'OXR': 1545.0, 'PBI': 1727.0, 'PDX': 21.5, 'PFN': 3940.75, 'PHF': 2792.25, 'PHL': 1127.25, 'PHX': 394.75, 'PIA': 3403.0, 'PIH': 2264.0, 'PIT': 1405.0, 'PMD': nan, 'PNS': 1626.75, 'PSC': nan, 'PSE': 17189.0, 'PSP': 1566.25, 'PVD': 1584.25, 'PWM': nan, 'RAP': 2668.5, 'RDD': nan, 'RDM': nan, 'RDU': 1137.25, 'RIC': 1686.25, 'RKS': nan, 'RNO': 779.5, 'ROA': 5192.5, 'ROC': 2342.0, 'ROW': nan, 'RST': 1954.5, 'RSW': 2434.5, 'SAN': 110.75, 'SAT': 1077.75, 'SAV': 11796.0, 'SBA': 1111.5, 'SBN': 3651.5, 'SBP': 813.0, 'SCC': 347.75, 'SCE': nan, 'SDF': 1519.75, 'SEA': -186.25, 'SFO': 392.0, 'SGF': 1333.0, 'SGU': 1901.0, 'SHV': 1286.75, 'SIT': nan, 'SJC': 1424.75, 'SJU': 2599.25, 'SLC': 140.0, 'SMF': 114.5, 'SMX': nan, 'SNA': 501.25, 'SPI': nan, 'SRQ': nan, 'STL': 870.0, 'SUN': nan, 'SWF': nan, 'SYR': 3079.0, 'TLH': 2789.25, 'TOL': nan, 'TPA': 1137.25, 'TRI': 8931.75, 'TUL': 1220.0, 'TUS': 817.0, 'TVC': nan, 'TWF': 1559.25, 'TXK': nan, 'TYR': nan, 'TYS': 1970.5, 'VLD': nan, 'VPS': 3477.75, 'WRG': 2535.5, 'XNA': 1290.25, 'YUM': 138.0}\n"
     ]
    }
   ],
   "source": [
    "print(type(contagious_time))\n",
    "print(contagious_time)"
   ]
  },
  {
   "cell_type": "markdown",
   "id": "5e54412a",
   "metadata": {},
   "source": [
    "## 3.3 Характеристики графа аэропортов"
   ]
  },
  {
   "cell_type": "code",
   "execution_count": null,
   "id": "757456d3",
   "metadata": {},
   "outputs": [],
   "source": []
  },
  {
   "cell_type": "markdown",
   "id": "fa88f66b",
   "metadata": {},
   "source": [
    "## 3.4 \n",
    "Для каждого аэропорта по x - среднее время на заражение, по y - одна из характеристик графа"
   ]
  }
 ],
 "metadata": {
  "kernelspec": {
   "display_name": "Python 3 (ipykernel)",
   "language": "python",
   "name": "python3"
  },
  "language_info": {
   "codemirror_mode": {
    "name": "ipython",
    "version": 3
   },
   "file_extension": ".py",
   "mimetype": "text/x-python",
   "name": "python",
   "nbconvert_exporter": "python",
   "pygments_lexer": "ipython3",
   "version": "3.9.7"
  }
 },
 "nbformat": 4,
 "nbformat_minor": 5
}
