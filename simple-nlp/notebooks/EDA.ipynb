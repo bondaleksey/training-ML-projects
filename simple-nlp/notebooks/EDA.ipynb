{
 "cells": [
  {
   "cell_type": "code",
   "execution_count": 84,
   "metadata": {},
   "outputs": [],
   "source": [
    "import pandas as pd\n",
    "import pickle\n",
    "import matplotlib.pyplot as plt\n",
    "\n",
    "from os.path import exists\n",
    "\n",
    "from tqdm.notebook import tqdm\n",
    "import string # библиотека для работы со строками\n",
    "import nltk   # Natural Language Toolkit\n",
    "# загружаем библиотеку для лемматизации\n",
    "import pymorphy2 # Морфологический анализатор\n",
    "\n",
    "#вычисляем tf-idf\n",
    "from sklearn.feature_extraction.text import TfidfVectorizer\n",
    "from sklearn.preprocessing import Binarizer\n",
    "\n",
    "from sklearn.linear_model import LinearRegression, Ridge, Lasso\n",
    "from sklearn.ensemble import GradientBoostingRegressor\n",
    "# from sklearn.linear_model import LassoCV, RidgeCV\n",
    "\n",
    "from sklearn.model_selection import train_test_split\n",
    "from sklearn.metrics import mean_absolute_percentage_error,mean_squared_error\n",
    "from sklearn.metrics import mean_absolute_error,r2_score"
   ]
  },
  {
   "cell_type": "code",
   "execution_count": 2,
   "metadata": {},
   "outputs": [],
   "source": [
    "#Структуры данных этого проекта Автор, Публикация, Аннотация публикации\n",
    "from data_types import AuthorsDB\n",
    "from data_types import PublicationsDB\n",
    "from data_types import AbstractsDB"
   ]
  },
  {
   "cell_type": "markdown",
   "metadata": {},
   "source": [
    "## Load Data"
   ]
  },
  {
   "cell_type": "code",
   "execution_count": 3,
   "metadata": {},
   "outputs": [],
   "source": [
    "audb = AuthorsDB()\n",
    "audb.load()\n",
    "pubdb = PublicationsDB()\n",
    "pubdb.load()\n",
    "absdb = AbstractsDB()\n",
    "absdb.load()\n",
    "\n",
    "filename = \"../data/mathnet_iam_authors_dict.pkl\"\n",
    "with open(filename,'rb') as inp:\n",
    "    authors_dict = pickle.load(inp)"
   ]
  },
  {
   "cell_type": "markdown",
   "metadata": {},
   "source": [
    "# EDA"
   ]
  },
  {
   "cell_type": "markdown",
   "metadata": {},
   "source": [
    "Plan for the EDA to answer these questions:\n",
    "- How many authors are we trying to get and how many have we already received?\n",
    "- How many papers abstracts we already received?\n",
    "- What are distributions by years: \n",
    "  - published papers\n",
    "  - ?\n",
    "- What are distributions by author:\n",
    "  - number of papers,\n",
    "  - number of coauthors,\n",
    "  - ?"
   ]
  },
  {
   "cell_type": "markdown",
   "metadata": {},
   "source": [
    "# 1 Simple questions about data \n",
    "Count All and None values"
   ]
  },
  {
   "cell_type": "markdown",
   "metadata": {},
   "source": [
    "## 1.1 Databases  "
   ]
  },
  {
   "cell_type": "markdown",
   "metadata": {},
   "source": [
    "### 1.1.1 Authors data structures\n",
    " - authors_dict - Name and mathnet_id\n",
    " - audb - Author and his papers"
   ]
  },
  {
   "cell_type": "code",
   "execution_count": 4,
   "metadata": {},
   "outputs": [
    {
     "name": "stdout",
     "output_type": "stream",
     "text": [
      "{'name': 'Абалакин Илья Владимирович', 'mn_id': '29400'}\n",
      "{'name': 'Авдуевский Всеволод Сергеевич', 'mn_id': '25875'}\n",
      "{'name': 'Агапов Владимир Михайлович', 'mn_id': '79709'}\n",
      "{'name': 'Агафонов С И', 'mn_id': '37981'}\n",
      "{'name': 'Агаян В М', 'mn_id': '39797'}\n"
     ]
    }
   ],
   "source": [
    "for ind, person in authors_dict.items():\n",
    "    if ind<6:\n",
    "        print(person)"
   ]
  },
  {
   "cell_type": "code",
   "execution_count": 5,
   "metadata": {},
   "outputs": [
    {
     "name": "stdout",
     "output_type": "stream",
     "text": [
      "0\n",
      "mm4353\n",
      "{'year': '2022', 'nrf': 2}\n",
      "1\n",
      "mm4312\n",
      "{'year': '2021', 'nrf': 2}\n",
      "2\n",
      "zvmmf11279\n",
      "{'year': '2021', 'nrf': 1}\n",
      "3\n",
      "crm838\n",
      "{'year': '2020', 'nrf': 1}\n"
     ]
    }
   ],
   "source": [
    "mn_id = \"29400\"\n",
    "for ind, item in enumerate(audb.db['29400']):\n",
    "    if ind < 4:\n",
    "        print(ind)\n",
    "        print(item)\n",
    "        print(audb.db['29400'][item])    "
   ]
  },
  {
   "cell_type": "markdown",
   "metadata": {},
   "source": [
    "Number of authors"
   ]
  },
  {
   "cell_type": "code",
   "execution_count": 6,
   "metadata": {},
   "outputs": [
    {
     "name": "stdout",
     "output_type": "stream",
     "text": [
      "Number of received authors 871\n",
      "Number of authors in list  871\n",
      "Percent of received authors = 100.0%\n"
     ]
    }
   ],
   "source": [
    "print(f\"Number of received authors {len(audb.db.keys())}\")\n",
    "print(f\"Number of authors in list  {len(authors_dict.keys())}\")\n",
    "print(f\"Percent of received authors = {round(100*(len(audb.db.keys())/len(authors_dict.keys())),1)}%\")"
   ]
  },
  {
   "cell_type": "markdown",
   "metadata": {},
   "source": [
    "### 1.1.2 Pandas DataFrame with main publication info"
   ]
  },
  {
   "cell_type": "code",
   "execution_count": 7,
   "metadata": {},
   "outputs": [],
   "source": [
    "pub = pd.DataFrame.from_dict(pubdb.db,orient='index')"
   ]
  },
  {
   "cell_type": "code",
   "execution_count": 8,
   "metadata": {},
   "outputs": [
    {
     "name": "stdout",
     "output_type": "stream",
     "text": [
      "<class 'pandas.core.frame.DataFrame'>\n",
      "Index: 7597 entries, vyurv213 to vmumm4420\n",
      "Data columns (total 13 columns):\n",
      " #   Column     Non-Null Count  Dtype \n",
      "---  ------     --------------  ----- \n",
      " 0   author_id  7597 non-null   object\n",
      " 1   doi        1624 non-null   object\n",
      " 2   udk        3119 non-null   object\n",
      " 3   send       2844 non-null   object\n",
      " 4   type       5398 non-null   object\n",
      " 5   reference  7597 non-null   object\n",
      " 6   by         7081 non-null   object\n",
      " 7   paper      7081 non-null   object\n",
      " 8   jour       7025 non-null   object\n",
      " 9   yr         7081 non-null   object\n",
      " 10  vol        4534 non-null   object\n",
      " 11  issue      4605 non-null   object\n",
      " 12  pages      4707 non-null   object\n",
      "dtypes: object(13)\n",
      "memory usage: 830.9+ KB\n"
     ]
    }
   ],
   "source": [
    "pub.info()"
   ]
  },
  {
   "cell_type": "code",
   "execution_count": 9,
   "metadata": {},
   "outputs": [
    {
     "data": {
      "text/html": [
       "<div>\n",
       "<style scoped>\n",
       "    .dataframe tbody tr th:only-of-type {\n",
       "        vertical-align: middle;\n",
       "    }\n",
       "\n",
       "    .dataframe tbody tr th {\n",
       "        vertical-align: top;\n",
       "    }\n",
       "\n",
       "    .dataframe thead th {\n",
       "        text-align: right;\n",
       "    }\n",
       "</style>\n",
       "<table border=\"1\" class=\"dataframe\">\n",
       "  <thead>\n",
       "    <tr style=\"text-align: right;\">\n",
       "      <th></th>\n",
       "      <th>author_id</th>\n",
       "      <th>doi</th>\n",
       "      <th>udk</th>\n",
       "      <th>send</th>\n",
       "      <th>type</th>\n",
       "      <th>reference</th>\n",
       "      <th>by</th>\n",
       "      <th>paper</th>\n",
       "      <th>jour</th>\n",
       "      <th>yr</th>\n",
       "      <th>vol</th>\n",
       "      <th>issue</th>\n",
       "      <th>pages</th>\n",
       "    </tr>\n",
       "  </thead>\n",
       "  <tbody>\n",
       "    <tr>\n",
       "      <th>vyurv213</th>\n",
       "      <td>[113970, 148811, 22428]</td>\n",
       "      <td>&lt;a class=\"SLink\" href=\"https://doi.org/10.1452...</td>\n",
       "      <td>004.052.3</td>\n",
       "      <td>20.11.2018</td>\n",
       "      <td>Статья</td>\n",
       "      <td></td>\n",
       "      <td>А.~А.~Бондаренко, П.~А.~Ляхов, М.~В.~Якобовский</td>\n",
       "      <td>Координированное сохранение с журналированием ...</td>\n",
       "      <td>Вестн. ЮУрГУ. Сер. Выч. матем. информ.</td>\n",
       "      <td>2019</td>\n",
       "      <td>8</td>\n",
       "      <td>2</td>\n",
       "      <td>76--91</td>\n",
       "    </tr>\n",
       "    <tr>\n",
       "      <th>vyurv1</th>\n",
       "      <td>[113970, 22428]</td>\n",
       "      <td>&lt;a class=\"SLink\" href=\"https://doi.org/10.1452...</td>\n",
       "      <td>004.052.3</td>\n",
       "      <td>13.04.2015</td>\n",
       "      <td>Статья</td>\n",
       "      <td></td>\n",
       "      <td>А.~А.~Бондаренко, М.~В.~Якобовский</td>\n",
       "      <td>Моделирование отказов в высокопроизводительных...</td>\n",
       "      <td>Вестн. ЮУрГУ. Сер. Выч. матем. информ.</td>\n",
       "      <td>2015</td>\n",
       "      <td>4</td>\n",
       "      <td>3</td>\n",
       "      <td>5--12</td>\n",
       "    </tr>\n",
       "    <tr>\n",
       "      <th>vyurv46</th>\n",
       "      <td>[113970, 22428]</td>\n",
       "      <td>None</td>\n",
       "      <td>004.052.3</td>\n",
       "      <td>05.08.2014</td>\n",
       "      <td>Статья</td>\n",
       "      <td></td>\n",
       "      <td>А.~А.~Бондаренко, М.~В.~Якобовский</td>\n",
       "      <td>Обеспечение отказоустойчивости высокопроизводи...</td>\n",
       "      <td>Вестн. ЮУрГУ. Сер. Выч. матем. информ.</td>\n",
       "      <td>2014</td>\n",
       "      <td>3</td>\n",
       "      <td>3</td>\n",
       "      <td>20--36</td>\n",
       "    </tr>\n",
       "    <tr>\n",
       "      <th>ipmp2988</th>\n",
       "      <td>[25339, 26426, 31779, 26427]</td>\n",
       "      <td>:https://doi.org/10.20948/prepr-2021-71</td>\n",
       "      <td>None</td>\n",
       "      <td>None</td>\n",
       "      <td>Препринт</td>\n",
       "      <td>С. В. Поляков, М. А. Трапезникова, А. Г. Чурба...</td>\n",
       "      <td>С.~В.~Поляков, М.~А.~Трапезникова, А.~Г.~Чурба...</td>\n",
       "      <td>Расчет несжимаемых течений в системе &amp;lt;&amp;lt;п...</td>\n",
       "      <td>Препринты ИПМ им.~М.~В.~Келдыша</td>\n",
       "      <td>2021</td>\n",
       "      <td>None</td>\n",
       "      <td>None</td>\n",
       "      <td>None</td>\n",
       "    </tr>\n",
       "    <tr>\n",
       "      <th>ipmp2939</th>\n",
       "      <td>[101245, 25339, 163334]</td>\n",
       "      <td>:https://doi.org/10.20948/prepr-2021-21</td>\n",
       "      <td>None</td>\n",
       "      <td>None</td>\n",
       "      <td>Препринт</td>\n",
       "      <td>Б. Г. Фрейнкман, С. В. Поляков, И. О. Толстов,...</td>\n",
       "      <td>Б.~Г.~Фрейнкман, С.~В.~Поляков, И.~О.~Толстов</td>\n",
       "      <td>Расчет основного состояния электрона в неоднор...</td>\n",
       "      <td>Препринты ИПМ им.~М.~В.~Келдыша</td>\n",
       "      <td>2021</td>\n",
       "      <td>None</td>\n",
       "      <td>None</td>\n",
       "      <td>None</td>\n",
       "    </tr>\n",
       "  </tbody>\n",
       "</table>\n",
       "</div>"
      ],
      "text/plain": [
       "                             author_id  \\\n",
       "vyurv213       [113970, 148811, 22428]   \n",
       "vyurv1                 [113970, 22428]   \n",
       "vyurv46                [113970, 22428]   \n",
       "ipmp2988  [25339, 26426, 31779, 26427]   \n",
       "ipmp2939       [101245, 25339, 163334]   \n",
       "\n",
       "                                                        doi        udk  \\\n",
       "vyurv213  <a class=\"SLink\" href=\"https://doi.org/10.1452...  004.052.3   \n",
       "vyurv1    <a class=\"SLink\" href=\"https://doi.org/10.1452...  004.052.3   \n",
       "vyurv46                                                None  004.052.3   \n",
       "ipmp2988            :https://doi.org/10.20948/prepr-2021-71       None   \n",
       "ipmp2939            :https://doi.org/10.20948/prepr-2021-21       None   \n",
       "\n",
       "                 send      type  \\\n",
       "vyurv213   20.11.2018    Статья   \n",
       "vyurv1     13.04.2015    Статья   \n",
       "vyurv46    05.08.2014    Статья   \n",
       "ipmp2988         None  Препринт   \n",
       "ipmp2939         None  Препринт   \n",
       "\n",
       "                                                  reference  \\\n",
       "vyurv213                                                      \n",
       "vyurv1                                                        \n",
       "vyurv46                                                       \n",
       "ipmp2988  С. В. Поляков, М. А. Трапезникова, А. Г. Чурба...   \n",
       "ipmp2939  Б. Г. Фрейнкман, С. В. Поляков, И. О. Толстов,...   \n",
       "\n",
       "                                                         by  \\\n",
       "vyurv213    А.~А.~Бондаренко, П.~А.~Ляхов, М.~В.~Якобовский   \n",
       "vyurv1                   А.~А.~Бондаренко, М.~В.~Якобовский   \n",
       "vyurv46                  А.~А.~Бондаренко, М.~В.~Якобовский   \n",
       "ipmp2988  С.~В.~Поляков, М.~А.~Трапезникова, А.~Г.~Чурба...   \n",
       "ipmp2939      Б.~Г.~Фрейнкман, С.~В.~Поляков, И.~О.~Толстов   \n",
       "\n",
       "                                                      paper  \\\n",
       "vyurv213  Координированное сохранение с журналированием ...   \n",
       "vyurv1    Моделирование отказов в высокопроизводительных...   \n",
       "vyurv46   Обеспечение отказоустойчивости высокопроизводи...   \n",
       "ipmp2988  Расчет несжимаемых течений в системе &lt;&lt;п...   \n",
       "ipmp2939  Расчет основного состояния электрона в неоднор...   \n",
       "\n",
       "                                            jour    yr   vol issue   pages  \n",
       "vyurv213  Вестн. ЮУрГУ. Сер. Выч. матем. информ.  2019     8     2  76--91  \n",
       "vyurv1    Вестн. ЮУрГУ. Сер. Выч. матем. информ.  2015     4     3   5--12  \n",
       "vyurv46   Вестн. ЮУрГУ. Сер. Выч. матем. информ.  2014     3     3  20--36  \n",
       "ipmp2988         Препринты ИПМ им.~М.~В.~Келдыша  2021  None  None    None  \n",
       "ipmp2939         Препринты ИПМ им.~М.~В.~Келдыша  2021  None  None    None  "
      ]
     },
     "execution_count": 9,
     "metadata": {},
     "output_type": "execute_result"
    }
   ],
   "source": [
    "pub.head()"
   ]
  },
  {
   "cell_type": "code",
   "execution_count": 10,
   "metadata": {},
   "outputs": [
    {
     "data": {
      "image/png": "[encoded data removed]",
      "text/plain": [
       "<Figure size 432x288 with 1 Axes>"
      ]
     },
     "metadata": {
      "needs_background": "light"
     },
     "output_type": "display_data"
    }
   ],
   "source": [
    "pub.isnull().sum().plot(kind='bar');"
   ]
  },
  {
   "cell_type": "markdown",
   "metadata": {},
   "source": [
    "### 1.1.3 Pandas DataFrame with abstracts"
   ]
  },
  {
   "cell_type": "code",
   "execution_count": 11,
   "metadata": {},
   "outputs": [
    {
     "data": {
      "text/html": [
       "<div>\n",
       "<style scoped>\n",
       "    .dataframe tbody tr th:only-of-type {\n",
       "        vertical-align: middle;\n",
       "    }\n",
       "\n",
       "    .dataframe tbody tr th {\n",
       "        vertical-align: top;\n",
       "    }\n",
       "\n",
       "    .dataframe thead th {\n",
       "        text-align: right;\n",
       "    }\n",
       "</style>\n",
       "<table border=\"1\" class=\"dataframe\">\n",
       "  <thead>\n",
       "    <tr style=\"text-align: right;\">\n",
       "      <th></th>\n",
       "      <th>abstract</th>\n",
       "      <th>keywords</th>\n",
       "    </tr>\n",
       "    <tr>\n",
       "      <th>mn_link</th>\n",
       "      <th></th>\n",
       "      <th></th>\n",
       "    </tr>\n",
       "  </thead>\n",
       "  <tbody>\n",
       "    <tr>\n",
       "      <th>vyurv213</th>\n",
       "      <td>Увеличивающийся рост числа компонент суперкомп...</td>\n",
       "      <td>расширение ULFM, контрольные точки, координиро...</td>\n",
       "    </tr>\n",
       "    <tr>\n",
       "      <th>vyurv1</th>\n",
       "      <td>Рассматривается проблема выполнения длительных...</td>\n",
       "      <td>параллельные вычисления, отказоустойчивость, к...</td>\n",
       "    </tr>\n",
       "    <tr>\n",
       "      <th>vyurv46</th>\n",
       "      <td>Рассматриваются вопросы, связанные с проведени...</td>\n",
       "      <td>параллельные вычисления, отказоустойчивость, к...</td>\n",
       "    </tr>\n",
       "    <tr>\n",
       "      <th>ipmp2988</th>\n",
       "      <td>В данной работе рассмотрена модель для сопряже...</td>\n",
       "      <td>модель Бринкмана, уравнения Навье-Стокса, своб...</td>\n",
       "    </tr>\n",
       "    <tr>\n",
       "      <th>ipmp2939</th>\n",
       "      <td>Данное исследование связано с разработкой мате...</td>\n",
       "      <td>математическое моделирование, решетка графена,...</td>\n",
       "    </tr>\n",
       "  </tbody>\n",
       "</table>\n",
       "</div>"
      ],
      "text/plain": [
       "                                                   abstract  \\\n",
       "mn_link                                                       \n",
       "vyurv213  Увеличивающийся рост числа компонент суперкомп...   \n",
       "vyurv1    Рассматривается проблема выполнения длительных...   \n",
       "vyurv46   Рассматриваются вопросы, связанные с проведени...   \n",
       "ipmp2988  В данной работе рассмотрена модель для сопряже...   \n",
       "ipmp2939  Данное исследование связано с разработкой мате...   \n",
       "\n",
       "                                                   keywords  \n",
       "mn_link                                                      \n",
       "vyurv213  расширение ULFM, контрольные точки, координиро...  \n",
       "vyurv1    параллельные вычисления, отказоустойчивость, к...  \n",
       "vyurv46   параллельные вычисления, отказоустойчивость, к...  \n",
       "ipmp2988  модель Бринкмана, уравнения Навье-Стокса, своб...  \n",
       "ipmp2939  математическое моделирование, решетка графена,...  "
      ]
     },
     "execution_count": 11,
     "metadata": {},
     "output_type": "execute_result"
    }
   ],
   "source": [
    "absdb.db.head()"
   ]
  },
  {
   "cell_type": "code",
   "execution_count": 12,
   "metadata": {},
   "outputs": [
    {
     "name": "stdout",
     "output_type": "stream",
     "text": [
      "<class 'pandas.core.frame.DataFrame'>\n",
      "Index: 7597 entries, vyurv213 to vmumm4420\n",
      "Data columns (total 2 columns):\n",
      " #   Column    Non-Null Count  Dtype \n",
      "---  ------    --------------  ----- \n",
      " 0   abstract  5609 non-null   object\n",
      " 1   keywords  2525 non-null   object\n",
      "dtypes: object(2)\n",
      "memory usage: 178.1+ KB\n"
     ]
    }
   ],
   "source": [
    "absdb.db.info()"
   ]
  },
  {
   "cell_type": "code",
   "execution_count": 13,
   "metadata": {},
   "outputs": [
    {
     "data": {
      "image/png": "[encoded data removed]",
      "text/plain": [
       "<Figure size 432x288 with 1 Axes>"
      ]
     },
     "metadata": {
      "needs_background": "light"
     },
     "output_type": "display_data"
    }
   ],
   "source": [
    "absdb.db.isnull().sum().plot(kind='bar');"
   ]
  },
  {
   "cell_type": "code",
   "execution_count": 14,
   "metadata": {},
   "outputs": [
    {
     "data": {
      "image/png": "[encoded data removed]",
      "text/plain": [
       "<Figure size 432x288 with 1 Axes>"
      ]
     },
     "metadata": {
      "needs_background": "light"
     },
     "output_type": "display_data"
    }
   ],
   "source": [
    "absdb.db.notnull().sum().plot(kind='bar');"
   ]
  },
  {
   "cell_type": "code",
   "execution_count": 15,
   "metadata": {},
   "outputs": [
    {
     "name": "stdout",
     "output_type": "stream",
     "text": [
      "vyurv213\n",
      "vyurv1\n",
      "vyurv46\n",
      "ipmp2988\n",
      "ipmp2939\n"
     ]
    }
   ],
   "source": [
    "for ind,val in enumerate(absdb.db[absdb.db.notnull()].index):\n",
    "    if ind<5:\n",
    "        print(val)"
   ]
  },
  {
   "cell_type": "code",
   "execution_count": 16,
   "metadata": {},
   "outputs": [
    {
     "data": {
      "text/plain": [
       "3302"
      ]
     },
     "execution_count": 16,
     "metadata": {},
     "output_type": "execute_result"
    }
   ],
   "source": [
    "(pub.loc[list(absdb.db[absdb.db.notnull()].index)]['yr']>'2005').sum()"
   ]
  },
  {
   "cell_type": "code",
   "execution_count": 17,
   "metadata": {},
   "outputs": [
    {
     "name": "stdout",
     "output_type": "stream",
     "text": [
      "False\n",
      "True\n"
     ]
    }
   ],
   "source": [
    "print('1998'>'2005')\n",
    "print('2008'>'2005')"
   ]
  },
  {
   "cell_type": "markdown",
   "metadata": {},
   "source": [
    "## 1.2 Publications and their artefacts"
   ]
  },
  {
   "cell_type": "code",
   "execution_count": 18,
   "metadata": {},
   "outputs": [
    {
     "name": "stdout",
     "output_type": "stream",
     "text": [
      "Number of received papers is       7597\n",
      "Number of papers without abstracts 1988\n",
      "Number of papers without keywords  5072\n"
     ]
    }
   ],
   "source": [
    "print(f\"Number of received papers is       {len(absdb.db.index)}\")\n",
    "print(f\"Number of papers without abstracts {(absdb.db['abstract'].isnull()).sum()}\")\n",
    "print(f\"Number of papers without keywords  {(absdb.db['keywords'].isnull()).sum()}\")"
   ]
  },
  {
   "cell_type": "markdown",
   "metadata": {},
   "source": [
    "Look through papers with artefacts "
   ]
  },
  {
   "cell_type": "code",
   "execution_count": 19,
   "metadata": {},
   "outputs": [
    {
     "name": "stdout",
     "output_type": "stream",
     "text": [
      "year = 2021,  link = http://mi.mathnet.ru/mm4267, name = Памяти Николая Николаевича Калиткина, \n",
      "year = 2018,  link = http://mi.mathnet.ru/mm3935, name = Памяти Александра Сергеевича Холодова, \n",
      "year = 2017,  link = http://mi.mathnet.ru/crm91, name = Памяти Александра Сергеевича Холодова (11.10.1941 -- 05.11.2017), \n",
      "year = 2017,  link = http://mi.mathnet.ru/svmo668, name = Юрий Николаевич Дерюгин~--- к семидесятилетию со дня рождения, \n",
      "year = 2016,  link = http://mi.mathnet.ru/mm3685, name = Памяти О.\\,М.~Белоцерковского, \n",
      "year = 2016,  link = http://mi.mathnet.ru/zvmmf10413, name = Памяти академика Российской академии наук Олега Михайловича Белоцерковского, \n",
      "year = 2016,  link = http://mi.mathnet.ru/zvmmf10334, name = Памяти профессора Алексея Владимировича Гулина (26.03.1942--27.03.2015), \n",
      "year = 2015,  link = http://mi.mathnet.ru/mm3614, name = Международная молодежная конференция &lt;&lt;Современные проблемы прикладной математики и информатики&gt;&gt;, \n",
      "year = 2015,  link = http://mi.mathnet.ru/umn9676, name = Виктор Соломонович Рябенький и его школа (к девяностолетию со, \n",
      "year = 2015,  link = http://mi.mathnet.ru/umn9689, name = Александр Иванович Аптекарев (к 60-летию со дня рождения), \n",
      "year = 2015,  link = http://mi.mathnet.ru/zvmmf10243, name = К 75-летию со дня рождения профессора Антона Павловича Фаворского, \n",
      "year = 2014,  link = http://mi.mathnet.ru/mm3502, name = Памяти В.\\,Я.~Гольдина, \n",
      "year = 2011,  link = http://mi.mathnet.ru/umn9408, name = М.\\,В.~Келдыш~-- ученый и~государственный деятель (к столетию со дня рождения), \n",
      "year = 2011,  link = http://mi.mathnet.ru/zvmmf9535, name = Академик М.\\,В.~Келдыш и вычислительная математика (к столетию со дня рождения), \n",
      "year = 2010,  link = http://mi.mathnet.ru/zvmmf4929, name = Памяти Радия Петровича Федоренко (1930--2010), \n",
      "year = 2009,  link = http://mi.mathnet.ru/zvmmf4729, name = Алексей Валериевич Забродин (1933--2008), \n",
      "year = 2017,  link = http://mi.mathnet.ru/umn9751, name = Памяти Эммануила Эльевича Шноля, \n",
      "year = 2014,  link = http://mi.mathnet.ru/umn9585, name = Борис Николаевич Четверушкин (к семидесятилетию со дня рождения), \n",
      "year = 2009,  link = http://mi.mathnet.ru/umn9332, name = И.\\,М.~Гельфанд и прикладная математика, \n",
      "year = 2011,  link = http://mi.mathnet.ru/cmfd170, name = Владимир Александрович Кондратьев. 2~июля 1935~г.~-- 11~марта 2010~г., \n",
      "year = 2016,  link = http://mi.mathnet.ru/mz11044, name = О~связи неванлинновских и квадратурных областей, \n",
      "year = 2015,  link = http://mi.mathnet.ru/umn9669, name = Сергею Константиновичу Годунову 85 лет, \n",
      "year = 2010,  link = http://mi.mathnet.ru/zvmmf4806, name = К 80-летию со дня рождения академика Сергея Константиновича Годунова, \n",
      "year = 2011,  link = http://mi.mathnet.ru/umn9412, name = Юрий Леонидович Ершов (к семидесятилетию со дня рождения), \n",
      "year = 2011,  link = http://mi.mathnet.ru/ufn4154, name = Памяти Юрия Александровича Романова, \n",
      "year = 2021,  link = http://mi.mathnet.ru/svmo814, name = К 75-летию  Вячеслава Зигмундовича Гринеса, \n",
      "year = 2016,  link = http://mi.mathnet.ru/svmo640, name = Вячеслав Зигмундович Гринес (к семидесятилетию со дня рождения), \n",
      "year = 2012,  link = http://mi.mathnet.ru/nd314, name = Леонид Павлович Шильников (17.12.1934--26.12.2011), \n",
      "year = 2012,  link = http://mi.mathnet.ru/umn9481, name = Леонид Павлович Шильников (некролог), \n",
      "year = 2010,  link = http://mi.mathnet.ru/nd53, name = Леонид Павлович Шильников: К 75-летию со дня рождения, \n",
      "year = 2011,  link = http://mi.mathnet.ru/itvs382, name = ВАК в интернете, \n",
      "year = 2016,  link = http://mi.mathnet.ru/mz11016, name = Об асимптотической нормальности для гармонического кристалла, взаимодействующего с~волновым полем, \n",
      "year = 2010,  link = http://mi.mathnet.ru/zvmmf4869, name = Поправка, \n",
      "year = 2019,  link = http://mi.mathnet.ru/svmo731, name = К семидесятилетию  Владимира Фёдоровича Тишкина, \n",
      "year = 2021,  link = http://mi.mathnet.ru/umn10002, name = Вячеслав Владимирович Шокуров (к семидесятилетию со дня рождения), \n",
      "year = 2014,  link = http://mi.mathnet.ru/izv8254, name = Письмо в редакцию, \n",
      "year = 2013,  link = http://mi.mathnet.ru/umn9504, name = Алексей Николаевич Паршин (к семидесятилетию со дня рождения), \n",
      "year = 2010,  link = http://mi.mathnet.ru/umn9385, name = Вячеслав Владимирович Шокуров (к 60-летию со дня рождения), \n",
      "year = 2019,  link = http://mi.mathnet.ru/mz12506, name = О постоянной Либа--Тирринга на торе, \n",
      "year = 2020,  link = http://mi.mathnet.ru/umn9960, name = Магнитное неравенство Либа--Тирринга для периодических функций, \n",
      "year = 2014,  link = http://mi.mathnet.ru/ufn5035, name = Памяти Виталия Дмитриевича Шафранова, \n",
      "year = 2012,  link = http://mi.mathnet.ru/ufn4165, name = Владимир Борисович Брагинский (к 80-летию со дня рождения), \n",
      "year = 2010,  link = http://mi.mathnet.ru/ufn881, name = Виталий Дмитриевич Шафранов (к 80-летию со дня рождения), \n",
      "year = 2009,  link = http://mi.mathnet.ru/ufn799, name = Лев Борисович Окунь (к 80-летию со дня рождения), \n",
      "year = 2013,  link = http://mi.mathnet.ru/pu782, name = Шестая международная конференция ``Параллельные вычисления и задачи управления'', Москва, 24--26 октября 2012~г., \n",
      "year = 2011,  link = http://mi.mathnet.ru/mm3192, name = А.\\,А.~Ляпунов~-- первый теоретик программирования в~СССР (к~100-летию со дня рождения), \n",
      "year = 2015,  link = http://mi.mathnet.ru/mz10720, name = Об асимптотически точном неравенстве марковского типа для тригонометрических и~алгебраических многочленов, \n",
      "year = 2021,  link = http://mi.mathnet.ru/mm4299, name = Тематический выпуск \"Вычислительный эксперимент в аэроакустике\", \n",
      "year = 2019,  link = http://mi.mathnet.ru/mm4124, name = Тематический выпуск \"Вычислительный эксперимент в аэроакустике\", \n",
      "year = 2018,  link = http://mi.mathnet.ru/mm3964, name = Предисловие, \n",
      "year = 2015,  link = http://mi.mathnet.ru/mm3653, name = Предисловие, \n",
      "year = 2013,  link = http://mi.mathnet.ru/mm3396, name = Вычислительный эксперимент в аэроакустике 2012 (17-22 сентября, Светлогорск, Россия), \n",
      "year = 2011,  link = http://mi.mathnet.ru/mm3171, name = Третья открытая всероссийская конференция &lt;&lt;Вычислительный эксперимент в аэроакустике&gt;&gt; (20--25 сентября 2010~г., г.~Светлогорск Калининградской области), \n",
      "year = 2011,  link = http://mi.mathnet.ru/pdm299, name = О некоторых свойствах предфрактальных графов, \n",
      "year = 2014,  link = http://mi.mathnet.ru/umn9608, name = Задача Дирихле для уравнения диффузии вне плоских разомкнутых поверхностей, \n",
      "year = 2014,  link = http://mi.mathnet.ru/umn9540, name = Об обратимости одного оператора, \n",
      "year = 2009,  link = http://mi.mathnet.ru/umn9273, name = О потенциалах статической теории упругости, \n",
      "year = 2020,  link = http://mi.mathnet.ru/umn9949, name = Валерий Васильевич Козлов (к~семидесятилетию со дня рождения), \n",
      "year = 2020,  link = http://mi.mathnet.ru/mz12901, name = Динамика носителей экстремальных мер в~поле точечного заряда, \n",
      "year = 2012,  link = http://mi.mathnet.ru/umn9486, name = Равновесная мера во внешнем поле для векторного потенциала с~матрицей взаимодействия Никишина, \n",
      "year = 2021,  link = http://mi.mathnet.ru/umn10017, name = Многоуровневая интерполяция системы Никишина и ограниченность матриц Якоби на бинарном дереве, \n",
      "year = 2018,  link = http://mi.mathnet.ru/mz11826, name = Асимптотика многочленов Якоби--Пинейро и функций второго рода, \n",
      "year = 2017,  link = http://mi.mathnet.ru/crm70, name = Молодость. Вечность. Синергетика, \n",
      "year = 2010,  link = http://mi.mathnet.ru/itvs386, name = Сложносистемное мышление. Материя, разум, человечество. Новый синтез. Майнцер~К., \n",
      "year = 2020,  link = http://mi.mathnet.ru/ufn6727, name = Анатолий Михайлович Черепащук (к 80-летию со дня рождения), \n",
      "year = 2018,  link = http://mi.mathnet.ru/ufn6349, name = Лев Матвеевич Зелёный (к 70-летию со дня рождения), \n",
      "year = 2011,  link = http://mi.mathnet.ru/ufn2394, name = Памяти Алексея Максимовича Фридмана, \n",
      "year = 2021,  link = http://mi.mathnet.ru/crm922, name = От редакции, \n",
      "year = 2016,  link = http://mi.mathnet.ru/crm23, name = От редакции, \n",
      "year = 2022,  link = http://mi.mathnet.ru/crm951, name = От редакции, \n",
      "year = 2021,  link = http://mi.mathnet.ru/crm937, name = От редакции, \n",
      "year = 2021,  link = http://mi.mathnet.ru/crm907, name = От редакции, \n",
      "year = 2021,  link = http://mi.mathnet.ru/crm895, name = От редакции, \n",
      "year = 2021,  link = http://mi.mathnet.ru/crm864, name = От редакции, \n",
      "year = 2020,  link = http://mi.mathnet.ru/crm846, name = От редакции, \n",
      "year = 2020,  link = http://mi.mathnet.ru/crm826, name = От редакции, \n",
      "year = 2020,  link = http://mi.mathnet.ru/crm810, name = От редакции, \n",
      "year = 2020,  link = http://mi.mathnet.ru/crm797, name = От редакции, \n",
      "year = 2020,  link = http://mi.mathnet.ru/crm783, name = От редакции, \n",
      "year = 2020,  link = http://mi.mathnet.ru/crm768, name = От редакции, \n",
      "year = 2019,  link = http://mi.mathnet.ru/crm742, name = От редакции, \n",
      "year = 2019,  link = http://mi.mathnet.ru/crm729, name = От редакции, \n",
      "year = 2019,  link = http://mi.mathnet.ru/crm716, name = От редакции, \n",
      "year = 2019,  link = http://mi.mathnet.ru/crm705, name = От редакции, \n",
      "year = 2019,  link = http://mi.mathnet.ru/crm694, name = От редакции, \n",
      "year = 2018,  link = http://mi.mathnet.ru/crm681, name = От редакции, \n",
      "year = 2018,  link = http://mi.mathnet.ru/crm452, name = От редакции, \n",
      "year = 2018,  link = http://mi.mathnet.ru/crm156, name = От редакции, \n",
      "year = 2018,  link = http://mi.mathnet.ru/crm115, name = От редакции, \n",
      "year = 2017,  link = http://mi.mathnet.ru/crm104, name = От редакции, \n",
      "year = 2017,  link = http://mi.mathnet.ru/crm90, name = От редакции, \n",
      "year = 2017,  link = http://mi.mathnet.ru/crm69, name = От редакции, \n",
      "year = 2017,  link = http://mi.mathnet.ru/crm54, name = От редакции, \n",
      "year = 2016,  link = http://mi.mathnet.ru/crm31, name = От редакции, \n",
      "year = 2013,  link = http://mi.mathnet.ru/crm741, name = От редакции, \n",
      "year = 2010,  link = http://mi.mathnet.ru/ufn928, name = Спутниковое радиозондирование и радиотомография ионосферы, \n",
      "year = 2022,  link = http://mi.mathnet.ru/mz13291, name = О самокорректирующихся схемах из ненадежных функциональных элементов,, \n",
      "year = 2021,  link = http://mi.mathnet.ru/mz13212, name = Вариационная постановка задачи поиска обобщенных решений для, \n",
      "year = 2019,  link = http://mi.mathnet.ru/umn9918, name = Вариационный принцип для многомерных~законов~сохранения и среды без давления, \n",
      "year = 2009,  link = http://mi.mathnet.ru/mmj372, name = Erratum to the paper ``On generalized Harish-Chandra modules'', \n",
      "year = 2020,  link = http://mi.mathnet.ru/umn9965, name = Анатолий Исерович Нейштадт (к семидесятилетию со дня рождения), \n",
      "year = 2022,  link = http://mi.mathnet.ru/mz13208, name = Неравенство Харнака слабого типа, \n",
      "year = 2019,  link = http://mi.mathnet.ru/tsp99, name = Жиков Василий Васильевич, \n",
      "year = 2021,  link = http://mi.mathnet.ru/svmo804, name = К 80-летию  Ильи Владимировича Бойкова, \n",
      "year = 2021,  link = http://mi.mathnet.ru/svmo798, name = К 80-летию  Владимира Константиновича Горбунова, \n",
      "year = 2021,  link = http://mi.mathnet.ru/svmo792, name = Памяти Терехина Михаила Тихоновича, \n",
      "year = 2020,  link = http://mi.mathnet.ru/svmo784, name = Памяти Спивака Семена Израилевича, \n",
      "year = 2019,  link = http://mi.mathnet.ru/svmo741, name = Памяти Владимира Николаевича Щенникова, \n",
      "year = 2019,  link = http://mi.mathnet.ru/svmo732, name = К восьмидесятипятилетию Михаила Тихоновича Терёхина, \n",
      "year = 2018,  link = http://mi.mathnet.ru/svmo712, name = Вельмисов Петр Александрович (к 70-летию со дня рождения), \n",
      "year = 2018,  link = http://mi.mathnet.ru/svmo695, name = Памяти Логинова Бориса Владимировича, \n",
      "year = 2017,  link = http://mi.mathnet.ru/svmo684, name = К 80-летию со дня рождения профессора, \n",
      "year = 2018,  link = http://mi.mathnet.ru/mz11985, name = Параметризация Хессе одной спектральной кривой, \n",
      "year = 2017,  link = http://mi.mathnet.ru/umn9780, name = Многомерные осциляторы при больших размерностях и многочлены Лагерра, \n",
      "year = 2015,  link = http://mi.mathnet.ru/mz10799, name = О~параметризации одной комплексной алгебраической кривой рода~2, \n",
      "year = 2015,  link = http://mi.mathnet.ru/mz10540, name = Режим насыщения многочленов Мейкснера и дискретное ядро Бесселя, \n",
      "year = 2015,  link = http://mi.mathnet.ru/umn9678, name = Асимптотика $L_p$-норм многочленов Лагерра, \n",
      "year = 2011,  link = http://mi.mathnet.ru/umn9409, name = Асимптотические режимы в~зоне насыщения для C-D-ядер ансамбля ортогональных многочленов Мейкснера, \n",
      "year = 2020,  link = http://mi.mathnet.ru/ufa531, name = Памяти Ямилова Равиля Исламовича, \n",
      "year = 2016,  link = http://mi.mathnet.ru/umn9734, name = Александр Петрович Веселов (к шестидесятилетию со дня рождения), \n",
      "year = 2014,  link = http://mi.mathnet.ru/umn9624, name = Присуждение Я.\\,Г.~Синаю премии Абеля, \n",
      "year = 2012,  link = http://mi.mathnet.ru/mbb83, name = Вторая национальная конференция с международным участием &lt;&lt;Математическое моделирование в экологии. Экоматмод-2011&gt;&gt;, \n",
      "year = 2021,  link = http://mi.mathnet.ru/ivm9661, name = Некролог. Леонид Александрович Аксентьев, \n",
      "year = 2021,  link = http://mi.mathnet.ru/uzku1584, name = Памяти учителя, \n",
      "year = 2022,  link = http://mi.mathnet.ru/mz13214, name = О~суммах бернуллиевских случайных величин по модулю~3, \n",
      "year = 2019,  link = http://mi.mathnet.ru/mz12414, name = Полиномиальные преобразования случайных величин, \n",
      "year = 2021,  link = http://mi.mathnet.ru/vmumm4420, name = Октай Мурадович Касим-заде (29.04.1953--22.12.2020), \n",
      "Numper of papers without abstracts without 'year' field is 414\n",
      "Count of NEW papers without abstracts 127\n",
      "Count of OLD papers without abstracts 1447\n"
     ]
    }
   ],
   "source": [
    "w_year = 0\n",
    "new_count = 0\n",
    "old_count = 0\n",
    "breaking_year = 2008\n",
    "links_to_check = ['http://mi.mathnet.ru/'+mn_link for mn_link in absdb.db.index[absdb.db['abstract'].isnull()]]\n",
    "for link, slink in zip(links_to_check, absdb.db.index[absdb.db['abstract'].isnull()]):\n",
    "    year = pub.loc[slink,'yr']    \n",
    "    if year is None:\n",
    "        # print(f\"year = {year}, name = {pub.loc[slink,'paper']}, link = {link} \")\n",
    "        w_year+=1\n",
    "    else:\n",
    "        if int(year)>breaking_year:    \n",
    "            new_count +=1\n",
    "            print(f\"year = {year},  link = {link}, name = {pub.loc[slink,'paper']}, \")\n",
    "        else:\n",
    "            old_count +=1\n",
    "print(f\"Numper of papers without abstracts without 'year' field is {w_year}\")\n",
    "print(f\"Count of NEW papers without abstracts {new_count}\")\n",
    "print(f\"Count of OLD papers without abstracts {old_count}\")\n"
   ]
  },
  {
   "cell_type": "markdown",
   "metadata": {},
   "source": [
    "# 2 Построим модель"
   ]
  },
  {
   "cell_type": "markdown",
   "metadata": {},
   "source": [
    "## 2.1 Публикации и их года\n",
    "Год будет выступать в качестве target для нашей модели"
   ]
  },
  {
   "cell_type": "code",
   "execution_count": 20,
   "metadata": {},
   "outputs": [],
   "source": [
    "abstracts = absdb.db[absdb.db['abstract'].notna()]"
   ]
  },
  {
   "cell_type": "markdown",
   "metadata": {},
   "source": [
    "Из-за формата хранения данных, а также пропусках при web-scraping, года иногда отсутствуют в одной или другой структуре, поэтому чтобы получить год для аннотации, надо специальным образом обходить обе структуры, где может быть год аннотации . "
   ]
  },
  {
   "cell_type": "code",
   "execution_count": 21,
   "metadata": {},
   "outputs": [],
   "source": [
    "def get_year_of_pubid(list_pubsid):\n",
    "    struct = {}\n",
    "    for pibid in list_pubsid:\n",
    "        # print(pibid)\n",
    "    # val = list_pubsid[0]    \n",
    "    # print(val)\n",
    "        if pub.loc[pibid,'yr'] is not None:\n",
    "            # struct.append({pibid : int(pub.loc[pibid,'yr'])})\n",
    "            struct[pibid]=int(pub.loc[pibid,'yr'])\n",
    "            # print('is None',pub.loc[pibid,'yr'])\n",
    "        else:\n",
    "            # print('else', pub.loc[pibid,'yr'])            \n",
    "            authors_list = pub.loc[pibid,'author_id']\n",
    "            for author in authors_list:\n",
    "                if author not in audb.db:\n",
    "                    continue         \n",
    "                # print(authors_list)\n",
    "                # authors_list[0]\n",
    "                if pibid not in audb.db[author]:\n",
    "                    # print(audb.db[author])\n",
    "                    print(f\"wtf?? pibid= {pibid}, pub.loc[pibid] =  {pub.loc[pibid]}\")\n",
    "                    continue\n",
    "                # struct.append({pibid : int(audb.db[author][pibid]['year'])})\n",
    "                struct[pibid]=  int(audb.db[author][pibid]['year'])\n",
    "                break    \n",
    "    return struct "
   ]
  },
  {
   "cell_type": "code",
   "execution_count": 22,
   "metadata": {},
   "outputs": [],
   "source": [
    "y_list = get_year_of_pubid(abstracts.index)"
   ]
  },
  {
   "cell_type": "code",
   "execution_count": 23,
   "metadata": {},
   "outputs": [],
   "source": [
    "y_df = pd.DataFrame.from_dict(y_list,orient=\"index\",columns=['year'])"
   ]
  },
  {
   "cell_type": "markdown",
   "metadata": {},
   "source": [
    "Удалим стаьти из рассмотрения, если в этом году, было меньше 5 статей"
   ]
  },
  {
   "cell_type": "code",
   "execution_count": 24,
   "metadata": {},
   "outputs": [
    {
     "name": "stdout",
     "output_type": "stream",
     "text": [
      "13\n"
     ]
    }
   ],
   "source": [
    "print((y_df.value_counts()<5).sum())"
   ]
  },
  {
   "cell_type": "code",
   "execution_count": 25,
   "metadata": {},
   "outputs": [
    {
     "data": {
      "text/plain": [
       "<AxesSubplot:xlabel='year'>"
      ]
     },
     "execution_count": 25,
     "metadata": {},
     "output_type": "execute_result"
    },
    {
     "data": {
      "image/png": "[encoded data removed]",
      "text/plain": [
       "<Figure size 432x288 with 1 Axes>"
      ]
     },
     "metadata": {
      "needs_background": "light"
     },
     "output_type": "display_data"
    }
   ],
   "source": [
    "y_df[y_df['year']<1989].value_counts(sort=False).plot.bar()"
   ]
  },
  {
   "cell_type": "code",
   "execution_count": 26,
   "metadata": {},
   "outputs": [
    {
     "data": {
      "text/plain": [
       "16"
      ]
     },
     "execution_count": 26,
     "metadata": {},
     "output_type": "execute_result"
    }
   ],
   "source": [
    "(y_df['year']==1969).sum()"
   ]
  },
  {
   "cell_type": "code",
   "execution_count": 27,
   "metadata": {},
   "outputs": [],
   "source": [
    "y_df.drop(y_df[y_df['year']<1969].index, inplace=True)"
   ]
  },
  {
   "cell_type": "code",
   "execution_count": 28,
   "metadata": {},
   "outputs": [
    {
     "data": {
      "text/plain": [
       "<AxesSubplot:xlabel='year'>"
      ]
     },
     "execution_count": 28,
     "metadata": {},
     "output_type": "execute_result"
    },
    {
     "data": {
      "image/png": "[encoded data removed]",
      "text/plain": [
       "<Figure size 432x288 with 1 Axes>"
      ]
     },
     "metadata": {
      "needs_background": "light"
     },
     "output_type": "display_data"
    }
   ],
   "source": [
    "y_df.value_counts(sort=False).plot()"
   ]
  },
  {
   "cell_type": "code",
   "execution_count": 29,
   "metadata": {},
   "outputs": [
    {
     "data": {
      "text/html": [
       "<div>\n",
       "<style scoped>\n",
       "    .dataframe tbody tr th:only-of-type {\n",
       "        vertical-align: middle;\n",
       "    }\n",
       "\n",
       "    .dataframe tbody tr th {\n",
       "        vertical-align: top;\n",
       "    }\n",
       "\n",
       "    .dataframe thead th {\n",
       "        text-align: right;\n",
       "    }\n",
       "</style>\n",
       "<table border=\"1\" class=\"dataframe\">\n",
       "  <thead>\n",
       "    <tr style=\"text-align: right;\">\n",
       "      <th></th>\n",
       "      <th>year</th>\n",
       "    </tr>\n",
       "  </thead>\n",
       "  <tbody>\n",
       "    <tr>\n",
       "      <th>vyurv213</th>\n",
       "      <td>2019</td>\n",
       "    </tr>\n",
       "    <tr>\n",
       "      <th>vyurv1</th>\n",
       "      <td>2015</td>\n",
       "    </tr>\n",
       "    <tr>\n",
       "      <th>vyurv46</th>\n",
       "      <td>2014</td>\n",
       "    </tr>\n",
       "    <tr>\n",
       "      <th>ipmp2988</th>\n",
       "      <td>2021</td>\n",
       "    </tr>\n",
       "    <tr>\n",
       "      <th>ipmp2939</th>\n",
       "      <td>2021</td>\n",
       "    </tr>\n",
       "  </tbody>\n",
       "</table>\n",
       "</div>"
      ],
      "text/plain": [
       "          year\n",
       "vyurv213  2019\n",
       "vyurv1    2015\n",
       "vyurv46   2014\n",
       "ipmp2988  2021\n",
       "ipmp2939  2021"
      ]
     },
     "execution_count": 29,
     "metadata": {},
     "output_type": "execute_result"
    }
   ],
   "source": [
    "y_df.head()"
   ]
  },
  {
   "cell_type": "code",
   "execution_count": 30,
   "metadata": {},
   "outputs": [
    {
     "name": "stdout",
     "output_type": "stream",
     "text": [
      "<class 'pandas.core.frame.DataFrame'>\n",
      "Index: 5582 entries, vyurv213 to da31\n",
      "Data columns (total 1 columns):\n",
      " #   Column  Non-Null Count  Dtype\n",
      "---  ------  --------------  -----\n",
      " 0   year    5582 non-null   int64\n",
      "dtypes: int64(1)\n",
      "memory usage: 87.2+ KB\n"
     ]
    }
   ],
   "source": [
    "y_df.info()"
   ]
  },
  {
   "cell_type": "code",
   "execution_count": 31,
   "metadata": {},
   "outputs": [
    {
     "data": {
      "text/plain": [
       "0"
      ]
     },
     "execution_count": 31,
     "metadata": {},
     "output_type": "execute_result"
    }
   ],
   "source": [
    "y_df.index.duplicated(keep=False).sum()"
   ]
  },
  {
   "cell_type": "code",
   "execution_count": 32,
   "metadata": {},
   "outputs": [
    {
     "data": {
      "text/html": [
       "<div>\n",
       "<style scoped>\n",
       "    .dataframe tbody tr th:only-of-type {\n",
       "        vertical-align: middle;\n",
       "    }\n",
       "\n",
       "    .dataframe tbody tr th {\n",
       "        vertical-align: top;\n",
       "    }\n",
       "\n",
       "    .dataframe thead th {\n",
       "        text-align: right;\n",
       "    }\n",
       "</style>\n",
       "<table border=\"1\" class=\"dataframe\">\n",
       "  <thead>\n",
       "    <tr style=\"text-align: right;\">\n",
       "      <th></th>\n",
       "      <th>year</th>\n",
       "    </tr>\n",
       "  </thead>\n",
       "  <tbody>\n",
       "    <tr>\n",
       "      <th>count</th>\n",
       "      <td>5582.000000</td>\n",
       "    </tr>\n",
       "    <tr>\n",
       "      <th>mean</th>\n",
       "      <td>2005.861519</td>\n",
       "    </tr>\n",
       "    <tr>\n",
       "      <th>std</th>\n",
       "      <td>11.976459</td>\n",
       "    </tr>\n",
       "    <tr>\n",
       "      <th>min</th>\n",
       "      <td>1969.000000</td>\n",
       "    </tr>\n",
       "    <tr>\n",
       "      <th>25%</th>\n",
       "      <td>1998.000000</td>\n",
       "    </tr>\n",
       "    <tr>\n",
       "      <th>50%</th>\n",
       "      <td>2008.000000</td>\n",
       "    </tr>\n",
       "    <tr>\n",
       "      <th>75%</th>\n",
       "      <td>2016.000000</td>\n",
       "    </tr>\n",
       "    <tr>\n",
       "      <th>max</th>\n",
       "      <td>2022.000000</td>\n",
       "    </tr>\n",
       "  </tbody>\n",
       "</table>\n",
       "</div>"
      ],
      "text/plain": [
       "              year\n",
       "count  5582.000000\n",
       "mean   2005.861519\n",
       "std      11.976459\n",
       "min    1969.000000\n",
       "25%    1998.000000\n",
       "50%    2008.000000\n",
       "75%    2016.000000\n",
       "max    2022.000000"
      ]
     },
     "execution_count": 32,
     "metadata": {},
     "output_type": "execute_result"
    }
   ],
   "source": [
    "y_df.describe()"
   ]
  },
  {
   "cell_type": "markdown",
   "metadata": {},
   "source": [
    "Далее будем рассматривать только те аннотации, для которых есть год"
   ]
  },
  {
   "cell_type": "code",
   "execution_count": 33,
   "metadata": {},
   "outputs": [],
   "source": [
    "abstracts = abstracts.loc[y_df.index].copy()"
   ]
  },
  {
   "cell_type": "markdown",
   "metadata": {},
   "source": [
    "Проверяем, что индексы совпадают"
   ]
  },
  {
   "cell_type": "code",
   "execution_count": 34,
   "metadata": {},
   "outputs": [
    {
     "data": {
      "text/plain": [
       "True"
      ]
     },
     "execution_count": 34,
     "metadata": {},
     "output_type": "execute_result"
    }
   ],
   "source": [
    "abstracts.index.equals(y_df.index)"
   ]
  },
  {
   "cell_type": "code",
   "execution_count": 35,
   "metadata": {},
   "outputs": [
    {
     "name": "stdout",
     "output_type": "stream",
     "text": [
      "<class 'pandas.core.frame.DataFrame'>\n",
      "Index: 5582 entries, vyurv213 to da31\n",
      "Data columns (total 2 columns):\n",
      " #   Column    Non-Null Count  Dtype \n",
      "---  ------    --------------  ----- \n",
      " 0   abstract  5582 non-null   object\n",
      " 1   keywords  2525 non-null   object\n",
      "dtypes: object(2)\n",
      "memory usage: 130.8+ KB\n"
     ]
    }
   ],
   "source": [
    "abstracts.info()"
   ]
  },
  {
   "cell_type": "code",
   "execution_count": 36,
   "metadata": {},
   "outputs": [
    {
     "data": {
      "text/plain": [
       "5582"
      ]
     },
     "execution_count": 36,
     "metadata": {},
     "output_type": "execute_result"
    }
   ],
   "source": [
    "abstracts[\"abstract\"].notna().sum()"
   ]
  },
  {
   "cell_type": "markdown",
   "metadata": {},
   "source": [
    "## 2.2 Itf-idf матрицы уни/би/три-грам "
   ]
  },
  {
   "cell_type": "code",
   "execution_count": 37,
   "metadata": {},
   "outputs": [
    {
     "name": "stderr",
     "output_type": "stream",
     "text": [
      "[nltk_data] Downloading package stopwords to\n",
      "[nltk_data]     C:\\Users\\-\\AppData\\Roaming\\nltk_data...\n",
      "[nltk_data]   Package stopwords is already up-to-date!\n"
     ]
    },
    {
     "data": {
      "text/plain": [
       "['и', 'в', 'во', 'не', 'что', 'он', 'на', 'я', 'с', 'со']"
      ]
     },
     "execution_count": 37,
     "metadata": {},
     "output_type": "execute_result"
    }
   ],
   "source": [
    "nltk.download('stopwords')\n",
    "stop_words = nltk.corpus.stopwords.words('russian')\n",
    "\n",
    "# примеры стоп-слов\n",
    "stop_words[:10]"
   ]
  },
  {
   "cell_type": "code",
   "execution_count": 38,
   "metadata": {},
   "outputs": [
    {
     "data": {
      "text/plain": [
       "'!\"#$%&\\'()*+,-./:;<=>?@[\\\\]^_`{|}~'"
      ]
     },
     "execution_count": 38,
     "metadata": {},
     "output_type": "execute_result"
    }
   ],
   "source": [
    "# знаки препинания\n",
    "string.punctuation"
   ]
  },
  {
   "cell_type": "code",
   "execution_count": 39,
   "metadata": {},
   "outputs": [],
   "source": [
    "word_tokenizer = nltk.WordPunctTokenizer()"
   ]
  },
  {
   "cell_type": "code",
   "execution_count": 40,
   "metadata": {},
   "outputs": [],
   "source": [
    "def process_abstractsdb(data):\n",
    "    texts = []    \n",
    "    \n",
    "    # поочередно проходим по всем новостям в списке\n",
    "    for index,row in data.iterrows():\n",
    "        # print(row['abstract'])        \n",
    "        # print(type(row['abstract']))\n",
    "        text = row['abstract']\n",
    "        if (row['keywords'] is not None):\n",
    "            # print(text)\n",
    "            # print(row['keywords'])\n",
    "            # print(type(row['keywords']))\n",
    "            text += row['keywords']                   \n",
    "        text_lower = text.lower() # приводим все слова к нижнему регистру\n",
    "        tokens     = word_tokenizer.tokenize(text_lower) #разбиваем екст на слова                \n",
    "        tokens = [word for word in tokens if (word not in string.punctuation and word not in stop_words and not word.isnumeric())]\n",
    "                      \n",
    "        texts.append(tokens) # добавляем в предобработанный список\n",
    "    \n",
    "    return texts"
   ]
  },
  {
   "cell_type": "code",
   "execution_count": 41,
   "metadata": {},
   "outputs": [],
   "source": [
    "texts = process_abstractsdb(abstracts)\n",
    "# инициализируем лемматизатор\n",
    "morph = pymorphy2.MorphAnalyzer()"
   ]
  },
  {
   "cell_type": "code",
   "execution_count": 42,
   "metadata": {},
   "outputs": [
    {
     "name": "stdout",
     "output_type": "stream",
     "text": [
      "Исходное слово: рассматриваются \tЛемматизированное: рассматриваться\n",
      "Исходное слово: вопросы \tЛемматизированное: вопрос\n",
      "Исходное слово: связанные \tЛемматизированное: связанный\n",
      "Исходное слово: проведением \tЛемматизированное: проведение\n",
      "Исходное слово: расчетов \tЛемматизированное: расчёт\n",
      "Исходное слово: распределенных \tЛемматизированное: распределённый\n",
      "Исходное слово: вычислительных \tЛемматизированное: вычислительный\n",
      "Исходное слово: системах \tЛемматизированное: система\n",
      "Исходное слово: компоненты \tЛемматизированное: компонент\n",
      "Исходное слово: которых \tЛемматизированное: который\n",
      "Исходное слово: подвержены \tЛемматизированное: подверженный\n",
      "Исходное слово: отказам \tЛемматизированное: отказ\n",
      "Исходное слово: работе \tЛемматизированное: работа\n",
      "Исходное слово: приводятся \tЛемматизированное: приводиться\n",
      "Исходное слово: определения \tЛемматизированное: определение\n",
      "Исходное слово: системы \tЛемматизированное: система\n",
      "Исходное слово: сбоя \tЛемматизированное: сбой\n",
      "Исходное слово: ошибки \tЛемматизированное: ошибка\n",
      "Исходное слово: отказа \tЛемматизированное: отказ\n",
      "Исходное слово: модели \tЛемматизированное: модель\n",
      "Исходное слово: сбоя \tЛемматизированное: сбой\n",
      "Исходное слово: наиболее \tЛемматизированное: наиболее\n",
      "Исходное слово: важные \tЛемматизированное: важный\n",
      "Исходное слово: результаты \tЛемматизированное: результат\n",
      "Исходное слово: исследований \tЛемматизированное: исследование\n",
      "Исходное слово: отказов \tЛемматизированное: отказ\n",
      "Исходное слово: параллельных \tЛемматизированное: параллельный\n",
      "Исходное слово: вычислительных \tЛемматизированное: вычислительный\n",
      "Исходное слово: системах \tЛемматизированное: система\n",
      "Исходное слово: числе \tЛемматизированное: число\n",
      "Исходное слово: большими \tЛемматизированное: больший\n",
      "Исходное слово: группами \tЛемматизированное: группа\n",
      "Исходное слово: дисков \tЛемматизированное: диск\n",
      "Исходное слово: основные \tЛемматизированное: основной\n",
      "Исходное слово: существующие \tЛемматизированное: существующий\n",
      "Исходное слово: методы \tЛемматизированное: метод\n",
      "Исходное слово: восстановления \tЛемматизированное: восстановление\n",
      "Исходное слово: распространенные \tЛемматизированное: распространить\n",
      "Исходное слово: программные \tЛемматизированное: программный\n",
      "Исходное слово: реализации \tЛемматизированное: реализация\n",
      "Исходное слово: обеспечения \tЛемматизированное: обеспечение\n",
      "Исходное слово: отказоустойчивости \tЛемматизированное: отказоустойчивость\n",
      "Исходное слово: развивается \tЛемматизированное: развиваться\n",
      "Исходное слово: подход \tЛемматизированное: подход\n",
      "Исходное слово: обеспечения \tЛемматизированное: обеспечение\n",
      "Исходное слово: отказоустойчивости \tЛемматизированное: отказоустойчивость\n",
      "Исходное слово: уровне \tЛемматизированное: уровень\n",
      "Исходное слово: пользователя \tЛемматизированное: пользователь\n",
      "Исходное слово: данный \tЛемматизированное: данный\n",
      "Исходное слово: подход \tЛемматизированное: подход\n",
      "Исходное слово: требует \tЛемматизированное: требовать\n",
      "Исходное слово: непосредственного \tЛемматизированное: непосредственный\n",
      "Исходное слово: участия \tЛемматизированное: участие\n",
      "Исходное слово: разработчика \tЛемматизированное: разработчик\n",
      "Исходное слово: прикладной \tЛемматизированное: прикладной\n",
      "Исходное слово: программы \tЛемматизированное: программа\n",
      "Исходное слово: реализации \tЛемматизированное: реализация\n",
      "Исходное слово: метода \tЛемматизированное: метод\n",
      "Исходное слово: обеспечения \tЛемматизированное: обеспечение\n",
      "Исходное слово: отказоустойчивости \tЛемматизированное: отказоустойчивость\n",
      "Исходное слово: частности \tЛемматизированное: частность\n",
      "Исходное слово: формировании \tЛемматизированное: формирование\n",
      "Исходное слово: контрольных \tЛемматизированное: контрольный\n",
      "Исходное слово: точек \tЛемматизированное: точка\n",
      "Исходное слово: процедур \tЛемматизированное: процедура\n",
      "Исходное слово: восстановления \tЛемматизированное: восстановление\n",
      "Исходное слово: предложена \tЛемматизированное: предложить\n",
      "Исходное слово: схема \tЛемматизированное: схема\n",
      "Исходное слово: сохранения \tЛемматизированное: сохранение\n",
      "Исходное слово: памяти \tЛемматизированное: память\n",
      "Исходное слово: вычислительных \tЛемматизированное: вычислительный\n",
      "Исходное слово: узлов \tЛемматизированное: узел\n",
      "Исходное слово: данных \tЛемматизированное: данные\n",
      "Исходное слово: прикладной \tЛемматизированное: прикладной\n",
      "Исходное слово: программы \tЛемматизированное: программа\n",
      "Исходное слово: формирующих \tЛемматизированное: формировать\n",
      "Исходное слово: согласованную \tЛемматизированное: согласовать\n",
      "Исходное слово: глобальную \tЛемматизированное: глобальный\n",
      "Исходное слово: контрольную \tЛемматизированное: контрольный\n",
      "Исходное слово: точку \tЛемматизированное: точка\n",
      "Исходное слово: её \tЛемматизированное: её\n",
      "Исходное слово: рамках \tЛемматизированное: рамка\n",
      "Исходное слово: осуществляется \tЛемматизированное: осуществляться\n",
      "Исходное слово: дублирование \tЛемматизированное: дублирование\n",
      "Исходное слово: локальных \tЛемматизированное: локальный\n",
      "Исходное слово: контрольных \tЛемматизированное: контрольный\n",
      "Исходное слово: точек \tЛемматизированное: точка\n",
      "Исходное слово: позволяет \tЛемматизированное: позволять\n",
      "Исходное слово: восстановить \tЛемматизированное: восстановить\n",
      "Исходное слово: вычислительный \tЛемматизированное: вычислительный\n",
      "Исходное слово: процесс \tЛемматизированное: процесс\n",
      "Исходное слово: число \tЛемматизированное: число\n",
      "Исходное слово: отказов \tЛемматизированное: отказ\n",
      "Исходное слово: превосходит \tЛемматизированное: превосходить\n",
      "Исходное слово: допустимого \tЛемматизированное: допустимый\n",
      "Исходное слово: данной \tЛемматизированное: дать\n",
      "Исходное слово: схемы \tЛемматизированное: схема\n",
      "Исходное слово: уровня \tЛемматизированное: уровень\n",
      "Исходное слово: использована \tЛемматизированное: использовать\n",
      "Исходное слово: различных \tЛемматизированное: различный\n",
      "Исходное слово: протоколах \tЛемматизированное: протокол\n",
      "Исходное слово: восстановления \tЛемматизированное: восстановление\n",
      "Исходное слово: модификациях \tЛемматизированное: модификация\n",
      "Исходное слово: параллельные \tЛемматизированное: параллельный\n",
      "Исходное слово: вычисления \tЛемматизированное: вычисление\n",
      "Исходное слово: отказоустойчивость \tЛемматизированное: отказоустойчивость\n",
      "Исходное слово: контрольные \tЛемматизированное: контрольный\n",
      "Исходное слово: точки \tЛемматизированное: точка\n",
      "Исходное слово: mpi \tЛемматизированное: mpi\n"
     ]
    }
   ],
   "source": [
    "for aword in texts[2]:\n",
    "    aword_norm = morph.parse(aword)[0].normal_form\n",
    "    print(\"Исходное слово: %s \\tЛемматизированное: %s\" % (aword, aword_norm))"
   ]
  },
  {
   "cell_type": "code",
   "execution_count": 43,
   "metadata": {},
   "outputs": [
    {
     "name": "stdout",
     "output_type": "stream",
     "text": [
      "range(0, 5582)\n"
     ]
    },
    {
     "data": {
      "application/vnd.jupyter.widget-view+json": {
       "model_id": "f04740f033b74e69875522a3ee923318",
       "version_major": 2,
       "version_minor": 0
      },
      "text/plain": [
       "  0%|          | 0/5582 [00:00<?, ?it/s]"
      ]
     },
     "metadata": {},
     "output_type": "display_data"
    }
   ],
   "source": [
    "# применяем лемматизацию ко всем текстам\n",
    "print(range(len(texts)))\n",
    "\n",
    "file_lemmatized_text = '../data/lemmatized_text.pkl'\n",
    "if exists(file_lemmatized_text):    \n",
    "    with open(file_lemmatized_text,'rb') as inp:\n",
    "        texts = pickle.load(inp)\n",
    "else:\n",
    "    for i in tqdm(range(len(texts))):           # tqdm_notebook создает шкалу прогресса :)\n",
    "        text_lemmatized = [morph.parse(x)[0].normal_form for x in texts[i]] # применяем лемматизацию для каждого слова в тексте\n",
    "        texts[i] = ' '.join(text_lemmatized)\n",
    "    with open(file_lemmatized_text,'wb') as outp:\n",
    "        pickle.dump(texts,outp,pickle.HIGHEST_PROTOCOL)"
   ]
  },
  {
   "cell_type": "code",
   "execution_count": 68,
   "metadata": {},
   "outputs": [
    {
     "data": {
      "text/html": [
       "<style>#sk-container-id-2 {color: black;background-color: white;}#sk-container-id-2 pre{padding: 0;}#sk-container-id-2 div.sk-toggleable {background-color: white;}#sk-container-id-2 label.sk-toggleable__label {cursor: pointer;display: block;width: 100%;margin-bottom: 0;padding: 0.3em;box-sizing: border-box;text-align: center;}#sk-container-id-2 label.sk-toggleable__label-arrow:before {content: \"▸\";float: left;margin-right: 0.25em;color: #696969;}#sk-container-id-2 label.sk-toggleable__label-arrow:hover:before {color: black;}#sk-container-id-2 div.sk-estimator:hover label.sk-toggleable__label-arrow:before {color: black;}#sk-container-id-2 div.sk-toggleable__content {max-height: 0;max-width: 0;overflow: hidden;text-align: left;background-color: #f0f8ff;}#sk-container-id-2 div.sk-toggleable__content pre {margin: 0.2em;color: black;border-radius: 0.25em;background-color: #f0f8ff;}#sk-container-id-2 input.sk-toggleable__control:checked~div.sk-toggleable__content {max-height: 200px;max-width: 100%;overflow: auto;}#sk-container-id-2 input.sk-toggleable__control:checked~label.sk-toggleable__label-arrow:before {content: \"▾\";}#sk-container-id-2 div.sk-estimator input.sk-toggleable__control:checked~label.sk-toggleable__label {background-color: #d4ebff;}#sk-container-id-2 div.sk-label input.sk-toggleable__control:checked~label.sk-toggleable__label {background-color: #d4ebff;}#sk-container-id-2 input.sk-hidden--visually {border: 0;clip: rect(1px 1px 1px 1px);clip: rect(1px, 1px, 1px, 1px);height: 1px;margin: -1px;overflow: hidden;padding: 0;position: absolute;width: 1px;}#sk-container-id-2 div.sk-estimator {font-family: monospace;background-color: #f0f8ff;border: 1px dotted black;border-radius: 0.25em;box-sizing: border-box;margin-bottom: 0.5em;}#sk-container-id-2 div.sk-estimator:hover {background-color: #d4ebff;}#sk-container-id-2 div.sk-parallel-item::after {content: \"\";width: 100%;border-bottom: 1px solid gray;flex-grow: 1;}#sk-container-id-2 div.sk-label:hover label.sk-toggleable__label {background-color: #d4ebff;}#sk-container-id-2 div.sk-serial::before {content: \"\";position: absolute;border-left: 1px solid gray;box-sizing: border-box;top: 0;bottom: 0;left: 50%;z-index: 0;}#sk-container-id-2 div.sk-serial {display: flex;flex-direction: column;align-items: center;background-color: white;padding-right: 0.2em;padding-left: 0.2em;position: relative;}#sk-container-id-2 div.sk-item {position: relative;z-index: 1;}#sk-container-id-2 div.sk-parallel {display: flex;align-items: stretch;justify-content: center;background-color: white;position: relative;}#sk-container-id-2 div.sk-item::before, #sk-container-id-2 div.sk-parallel-item::before {content: \"\";position: absolute;border-left: 1px solid gray;box-sizing: border-box;top: 0;bottom: 0;left: 50%;z-index: -1;}#sk-container-id-2 div.sk-parallel-item {display: flex;flex-direction: column;z-index: 1;position: relative;background-color: white;}#sk-container-id-2 div.sk-parallel-item:first-child::after {align-self: flex-end;width: 50%;}#sk-container-id-2 div.sk-parallel-item:last-child::after {align-self: flex-start;width: 50%;}#sk-container-id-2 div.sk-parallel-item:only-child::after {width: 0;}#sk-container-id-2 div.sk-dashed-wrapped {border: 1px dashed gray;margin: 0 0.4em 0.5em 0.4em;box-sizing: border-box;padding-bottom: 0.4em;background-color: white;}#sk-container-id-2 div.sk-label label {font-family: monospace;font-weight: bold;display: inline-block;line-height: 1.2em;}#sk-container-id-2 div.sk-label-container {text-align: center;}#sk-container-id-2 div.sk-container {/* jupyter's `normalize.less` sets `[hidden] { display: none; }` but bootstrap.min.css set `[hidden] { display: none !important; }` so we also need the `!important` here to be able to override the default hidden behavior on the sphinx rendered scikit-learn.org. See: https://github.com/scikit-learn/scikit-learn/issues/21755 */display: inline-block !important;position: relative;}#sk-container-id-2 div.sk-text-repr-fallback {display: none;}</style><div id=\"sk-container-id-2\" class=\"sk-top-container\"><div class=\"sk-text-repr-fallback\"><pre>TfidfVectorizer(max_features=500, min_df=0.005, ngram_range=(1, 3),\n",
       "                smooth_idf=1, sublinear_tf=1, token_pattern=&#x27;\\\\w{2,}&#x27;,\n",
       "                use_idf=1)</pre><b>In a Jupyter environment, please rerun this cell to show the HTML representation or trust the notebook. <br />On GitHub, the HTML representation is unable to render, please try loading this page with nbviewer.org.</b></div><div class=\"sk-container\" hidden><div class=\"sk-item\"><div class=\"sk-estimator sk-toggleable\"><input class=\"sk-toggleable__control sk-hidden--visually\" id=\"sk-estimator-id-2\" type=\"checkbox\" checked><label for=\"sk-estimator-id-2\" class=\"sk-toggleable__label sk-toggleable__label-arrow\">TfidfVectorizer</label><div class=\"sk-toggleable__content\"><pre>TfidfVectorizer(max_features=500, min_df=0.005, ngram_range=(1, 3),\n",
       "                smooth_idf=1, sublinear_tf=1, token_pattern=&#x27;\\\\w{2,}&#x27;,\n",
       "                use_idf=1)</pre></div></div></div></div></div>"
      ],
      "text/plain": [
       "TfidfVectorizer(max_features=500, min_df=0.005, ngram_range=(1, 3),\n",
       "                smooth_idf=1, sublinear_tf=1, token_pattern='\\\\w{2,}',\n",
       "                use_idf=1)"
      ]
     },
     "execution_count": 68,
     "metadata": {},
     "output_type": "execute_result"
    }
   ],
   "source": [
    "vectorizer = TfidfVectorizer(min_df=0.005, max_features=500, analyzer='word',token_pattern=r'\\w{2,}', ngram_range=(1, 3), use_idf=1, smooth_idf=1,sublinear_tf=1) \n",
    "vectorizer.fit(texts)"
   ]
  },
  {
   "cell_type": "code",
   "execution_count": 69,
   "metadata": {},
   "outputs": [
    {
     "name": "stdout",
     "output_type": "stream",
     "text": [
      "Number of features in vectorizer: 500\n",
      "0 in\n",
      "1 of\n",
      "2 the\n",
      "3 to\n",
      "4 автор\n",
      "5 алгебраический\n",
      "6 алгоритм\n",
      "7 анализ\n",
      "8 аналитический\n",
      "9 аппарат\n",
      "10 аппроксимация\n",
      "11 асимптотик\n",
      "12 асимптотический\n",
      "13 атом\n",
      "14 база\n",
      "15 библа\n",
      "16 библа фига\n",
      "17 библиогра\n",
      "18 библиография\n",
      "19 библиография название\n",
      "20 больший\n",
      "21 большой\n",
      "22 быть\n",
      "23 важный\n",
      "24 вариант\n",
      "25 вблизи\n",
      "26 вектор\n",
      "27 величина\n",
      "28 вещество\n",
      "29 взаимодействие\n",
      "30 вид\n",
      "31 включать\n",
      "32 влияние\n",
      "33 внешний\n",
      "34 внимание\n",
      "35 внутренний\n",
      "36 воздействие\n",
      "37 возможность\n",
      "38 возможный\n",
      "39 возмущение\n",
      "40 возникать\n",
      "41 волна\n",
      "42 вопрос\n",
      "43 временной\n",
      "44 время\n",
      "45 второй\n",
      "46 второй порядок\n",
      "47 выбор\n",
      "48 выполнить\n",
      "49 высокий\n",
      "50 вычисление\n",
      "51 вычислительный\n",
      "52 газ\n",
      "53 газовый\n",
      "54 газовый динамика\n",
      "55 геометрия\n",
      "56 гидродинамика\n",
      "57 гидродинамический\n",
      "58 гиперболический\n",
      "59 год\n",
      "60 гравитационный\n",
      "61 граница\n",
      "62 граничный\n",
      "63 граничный условие\n",
      "64 группа\n",
      "65 давать\n",
      "66 даваться\n",
      "67 давление\n",
      "68 данные\n",
      "69 данный\n",
      "70 дать\n",
      "71 дать работа\n",
      "72 два\n",
      "73 движение\n",
      "74 двумерный\n",
      "75 действие\n",
      "76 диапазон\n",
      "77 динамика\n",
      "78 динамический\n",
      "79 диск\n",
      "80 дискретный\n",
      "81 дифференциальный\n",
      "82 дифференциальный уравнение\n",
      "83 диффузия\n",
      "84 длина\n",
      "85 днк\n",
      "86 доказать\n",
      "87 дополнительный\n",
      "88 другой\n",
      "89 жидкость\n",
      "90 зависеть\n",
      "91 зависимость\n",
      "92 задать\n",
      "93 задача\n",
      "94 задача кош\n",
      "95 закон\n",
      "96 заряд\n",
      "97 земля\n",
      "98 значение\n",
      "99 известный\n",
      "100 излучение\n",
      "101 изменение\n",
      "102 измерение\n",
      "103 изображение\n",
      "104 изучаться\n",
      "105 изучение\n",
      "106 изучить\n",
      "107 иметь\n",
      "108 импульс\n",
      "109 инвариантный\n",
      "110 интеграл\n",
      "111 интегральный\n",
      "112 информация\n",
      "113 ион\n",
      "114 использование\n",
      "115 использовать\n",
      "116 использоваться\n",
      "117 исследование\n",
      "118 исследовать\n",
      "119 исследуться\n",
      "120 источник\n",
      "121 исходный\n",
      "122 итерационный\n",
      "123 каждый\n",
      "124 канал\n",
      "125 качество\n",
      "126 квантовый\n",
      "127 кинетический\n",
      "128 кинетический уравнение\n",
      "129 класс\n",
      "130 классический\n",
      "131 код\n",
      "132 колебание\n",
      "133 комплекс\n",
      "134 компонент\n",
      "135 компьютерный\n",
      "136 конечный\n",
      "137 консервативный\n",
      "138 координата\n",
      "139 космический\n",
      "140 который\n",
      "141 кош\n",
      "142 коэффициент\n",
      "143 краевой\n",
      "144 краевой задача\n",
      "145 кривая\n",
      "146 критерий\n",
      "147 критический\n",
      "148 лазерный\n",
      "149 линейный\n",
      "150 локальный\n",
      "151 любой\n",
      "152 магнитный\n",
      "153 магнитный поле\n",
      "154 малый\n",
      "155 масса\n",
      "156 математический\n",
      "157 математический моделирование\n",
      "158 математический модель\n",
      "159 материал\n",
      "160 матрица\n",
      "161 мера\n",
      "162 метод\n",
      "163 метод конечный\n",
      "164 метод решение\n",
      "165 методика\n",
      "166 механизм\n",
      "167 мишень\n",
      "168 многочлен\n",
      "169 множество\n",
      "170 моделирование\n",
      "171 модель\n",
      "172 модельный\n",
      "173 молекулярный\n",
      "174 момент\n",
      "175 мочь\n",
      "176 набор\n",
      "177 навий\n",
      "178 навий стокс\n",
      "179 название\n",
      "180 назвый\n",
      "181 наиболее\n",
      "182 найти\n",
      "183 наличие\n",
      "184 направление\n",
      "185 настоящий\n",
      "186 настоящий работа\n",
      "187 научный\n",
      "188 находиться\n",
      "189 начальный\n",
      "190 некоторый\n",
      "191 нелинейный\n",
      "192 необходимый\n",
      "193 непрерывный\n",
      "194 несколько\n",
      "195 нестационарный\n",
      "196 неустойчивость\n",
      "197 неявный\n",
      "198 новый\n",
      "199 норма\n",
      "200 нормальный\n",
      "201 обеспечение\n",
      "202 обеспечивать\n",
      "203 обзор\n",
      "204 обладать\n",
      "205 область\n",
      "206 обобщение\n",
      "207 обобщённый\n",
      "208 обработка\n",
      "209 образ\n",
      "210 образование\n",
      "211 обратный\n",
      "212 обсуждаться\n",
      "213 обтекание\n",
      "214 общий\n",
      "215 объект\n",
      "216 объём\n",
      "217 обыкновенный\n",
      "218 обыкновенный дифференциальный\n",
      "219 обыкновенный дифференциальный уравнение\n",
      "220 ограничение\n",
      "221 ограниченный\n",
      "222 один\n",
      "223 одномерный\n",
      "224 однородный\n",
      "225 оператор\n",
      "226 описание\n",
      "227 описать\n",
      "228 описывать\n",
      "229 описываться\n",
      "230 определение\n",
      "231 определить\n",
      "232 определять\n",
      "233 определяться\n",
      "234 определённый\n",
      "235 оптимальный\n",
      "236 орбита\n",
      "237 ориентация\n",
      "238 основа\n",
      "239 основать\n",
      "240 основной\n",
      "241 основный\n",
      "242 особенность\n",
      "243 ось\n",
      "244 относительно\n",
      "245 отношение\n",
      "246 оценка\n",
      "247 пара\n",
      "248 параболический\n",
      "249 параллельный\n",
      "250 параметр\n",
      "251 первый\n",
      "252 переменный\n",
      "253 перенос\n",
      "254 переход\n",
      "255 периодический\n",
      "256 плазма\n",
      "257 плазменный\n",
      "258 плоский\n",
      "259 плоскость\n",
      "260 плотность\n",
      "261 поведение\n",
      "262 поверхность\n",
      "263 подход\n",
      "264 позволять\n",
      "265 показатель\n",
      "266 показать\n",
      "267 поле\n",
      "268 полный\n",
      "269 положение\n",
      "270 получать\n",
      "271 получение\n",
      "272 получить\n",
      "273 получить результат\n",
      "274 помощь\n",
      "275 понятие\n",
      "276 порядок\n",
      "277 порядок аппроксимация\n",
      "278 посвятить\n",
      "279 последовательность\n",
      "280 постановка\n",
      "281 постоянный\n",
      "282 построение\n",
      "283 построить\n",
      "284 потенциал\n",
      "285 поток\n",
      "286 предлагать\n",
      "287 предлагаться\n",
      "288 предложить\n",
      "289 предложный\n",
      "290 предназначить\n",
      "291 представить\n",
      "292 представить результат\n",
      "293 представление\n",
      "294 представлять\n",
      "295 преобразование\n",
      "296 приближение\n",
      "297 приблизить\n",
      "298 привести\n",
      "299 привести результат\n",
      "300 приводить\n",
      "301 приводиться\n",
      "302 прикладной\n",
      "303 приложение\n",
      "304 применение\n",
      "305 применяться\n",
      "306 пример\n",
      "307 принцип\n",
      "308 проблема\n",
      "309 провести\n",
      "310 проводиться\n",
      "311 программа\n",
      "312 программный\n",
      "313 произвольный\n",
      "314 простой\n",
      "315 пространственный\n",
      "316 пространство\n",
      "317 процедура\n",
      "318 процесс\n",
      "319 прямой\n",
      "320 пучок\n",
      "321 работа\n",
      "322 работа посвятить\n",
      "323 работа рассматриваться\n",
      "324 равновесие\n",
      "325 развитие\n",
      "326 различный\n",
      "327 разложение\n",
      "328 размер\n",
      "329 разностный\n",
      "330 разностный схема\n",
      "331 разный\n",
      "332 разработать\n",
      "333 разработка\n",
      "334 разрыв\n",
      "335 разрывный\n",
      "336 рамка\n",
      "337 ранее\n",
      "338 распределение\n",
      "339 распространение\n",
      "340 рассеяние\n",
      "341 рассматривать\n",
      "342 рассматриваться\n",
      "343 рассмотреть\n",
      "344 расчёт\n",
      "345 расчётный\n",
      "346 реакция\n",
      "347 реализация\n",
      "348 реализовать\n",
      "349 реальный\n",
      "350 режим\n",
      "351 результат\n",
      "352 результат расчёт\n",
      "353 результат численный\n",
      "354 решение\n",
      "355 решение задача\n",
      "356 решение система\n",
      "357 решение уравнение\n",
      "358 робот\n",
      "359 ряд\n",
      "360 свободный\n",
      "361 свойство\n",
      "362 связанный\n",
      "363 связь\n",
      "364 себя\n",
      "365 семейство\n",
      "366 сетка\n",
      "367 сеточный\n",
      "368 сеть\n",
      "369 сечение\n",
      "370 сила\n",
      "371 симметрия\n",
      "372 система\n",
      "373 система уравнение\n",
      "374 скорость\n",
      "375 сложный\n",
      "376 слой\n",
      "377 случай\n",
      "378 случайный\n",
      "379 смесь\n",
      "380 собственный\n",
      "381 современный\n",
      "382 содержать\n",
      "383 создание\n",
      "384 соответствовать\n",
      "385 соответствующий\n",
      "386 соотношение\n",
      "387 состояние\n",
      "388 состоять\n",
      "389 сохранение\n",
      "390 спектр\n",
      "391 спектральный\n",
      "392 специальный\n",
      "393 способ\n",
      "394 спутник\n",
      "395 сравнение\n",
      "396 среда\n",
      "397 средство\n",
      "398 статистический\n",
      "399 статья\n",
      "400 стационарный\n",
      "401 степенной\n",
      "402 степень\n",
      "403 стокс\n",
      "404 строиться\n",
      "405 структура\n",
      "406 существенно\n",
      "407 существование\n",
      "408 схема\n",
      "409 сходимость\n",
      "410 счёт\n",
      "411 так\n",
      "412 также\n",
      "413 такой\n",
      "414 твёрдый\n",
      "415 тело\n",
      "416 температура\n",
      "417 теорема\n",
      "418 теоретический\n",
      "419 теория\n",
      "420 теплопроводность\n",
      "421 термодинамический\n",
      "422 тест\n",
      "423 тестовый\n",
      "424 технология\n",
      "425 течение\n",
      "426 тип\n",
      "427 ток\n",
      "428 тот\n",
      "429 точка\n",
      "430 точность\n",
      "431 точный\n",
      "432 траектория\n",
      "433 три\n",
      "434 трёхмерный\n",
      "435 турбулентный\n",
      "436 угловой\n",
      "437 угол\n",
      "438 ударный\n",
      "439 ударный волна\n",
      "440 узел\n",
      "441 указанный\n",
      "442 управление\n",
      "443 уравнение\n",
      "444 уравнение навий\n",
      "445 уравнение навий стокс\n",
      "446 уравнение перенос\n",
      "447 уровень\n",
      "448 условие\n",
      "449 установить\n",
      "450 устойчивость\n",
      "451 устойчивый\n",
      "452 учитывать\n",
      "453 учёт\n",
      "454 фазовый\n",
      "455 фига\n",
      "456 физический\n",
      "457 форма\n",
      "458 формула\n",
      "459 функциональный\n",
      "460 функция\n",
      "461 характеристика\n",
      "462 химический\n",
      "463 хороший\n",
      "464 цель\n",
      "465 центр\n",
      "466 цепочка\n",
      "467 цилиндрический\n",
      "468 частица\n",
      "469 частность\n",
      "470 часть\n",
      "471 численный\n",
      "472 численный метод\n",
      "473 численный моделирование\n",
      "474 численный расчёт\n",
      "475 численный решение\n",
      "476 число\n",
      "477 шаг\n",
      "478 широкий\n",
      "479 эволюция\n",
      "480 эйлер\n",
      "481 эксперимент\n",
      "482 экспериментальный\n",
      "483 электрический\n",
      "484 электромагнитный\n",
      "485 электромагнитный поле\n",
      "486 электрон\n",
      "487 электронный\n",
      "488 элемент\n",
      "489 эллиптический\n",
      "490 энергия\n",
      "491 это\n",
      "492 этот\n",
      "493 эффект\n",
      "494 эффективность\n",
      "495 эффективный\n",
      "496 являться\n",
      "497 явный\n",
      "498 язык\n",
      "499 ячейка\n"
     ]
    }
   ],
   "source": [
    "print('Number of features in vectorizer:', len(vectorizer.get_feature_names_out()))\n",
    "for ind,item in enumerate(vectorizer.get_feature_names_out()):\n",
    "    print(ind, item)"
   ]
  },
  {
   "cell_type": "code",
   "execution_count": 70,
   "metadata": {},
   "outputs": [],
   "source": [
    "tf_idf_matrix = vectorizer.fit_transform(texts)"
   ]
  },
  {
   "cell_type": "code",
   "execution_count": 71,
   "metadata": {},
   "outputs": [
    {
     "name": "stdout",
     "output_type": "stream",
     "text": [
      "<class 'scipy.sparse._csr.csr_matrix'>\n",
      "(5582, 500)\n"
     ]
    }
   ],
   "source": [
    "print(type(tf_idf_matrix))\n",
    "print(tf_idf_matrix.shape)"
   ]
  },
  {
   "cell_type": "code",
   "execution_count": 72,
   "metadata": {},
   "outputs": [],
   "source": [
    "X = tf_idf_matrix.toarray()"
   ]
  },
  {
   "cell_type": "code",
   "execution_count": 73,
   "metadata": {},
   "outputs": [],
   "source": [
    "y = y_df.to_numpy()"
   ]
  },
  {
   "cell_type": "code",
   "execution_count": 74,
   "metadata": {},
   "outputs": [
    {
     "name": "stdout",
     "output_type": "stream",
     "text": [
      "<class 'numpy.ndarray'>\n",
      "(5582, 1)\n"
     ]
    }
   ],
   "source": [
    "print(type(y))\n",
    "print(y.shape)"
   ]
  },
  {
   "cell_type": "code",
   "execution_count": 75,
   "metadata": {},
   "outputs": [],
   "source": [
    "X_train, X_test, y_train, y_test = train_test_split(X, y, test_size=0.3)"
   ]
  },
  {
   "cell_type": "code",
   "execution_count": 76,
   "metadata": {},
   "outputs": [
    {
     "name": "stdout",
     "output_type": "stream",
     "text": [
      "(3907, 500)\n",
      "(1675, 500)\n",
      "(3907, 1)\n",
      "(1675, 1)\n"
     ]
    }
   ],
   "source": [
    "print(X_train.shape)\n",
    "print(X_test.shape)\n",
    "print(y_train.shape)\n",
    "print(y_test.shape)"
   ]
  },
  {
   "cell_type": "code",
   "execution_count": 77,
   "metadata": {},
   "outputs": [],
   "source": [
    "output = []"
   ]
  },
  {
   "cell_type": "code",
   "execution_count": 78,
   "metadata": {},
   "outputs": [],
   "source": [
    "def plotCoefficients(model, columns):\n",
    "    \"\"\"\n",
    "    Plots sorted coefficient values of the model\n",
    "    \"\"\"\n",
    "    coefs = pd.DataFrame(model.coef_, columns)\n",
    "    coefs.columns = [\"coef\"]\n",
    "    coefs[\"abs\"] = coefs.coef.apply(np.abs)\n",
    "    coefs = coefs.sort_values(by=\"abs\", ascending=False).drop([\"abs\"], axis=1)\n",
    "    \n",
    "    plt.figure(figsize=(15, 7))\n",
    "    coefs.iloc[:20].coef.plot(kind='bar')\n",
    "    plt.grid(True, axis='y')\n",
    "    plt.hlines(y=0, xmin=0, xmax=len(coefs), linestyles='dashed');"
   ]
  },
  {
   "cell_type": "code",
   "execution_count": 79,
   "metadata": {},
   "outputs": [],
   "source": [
    "lr = LinearRegression()\n",
    "lr.fit(X_train, y_train)\n",
    "y_pred_lr = lr.predict(X_test)\n",
    "errors={'Linear Regression':{\n",
    "        \"Mean absolute percentage error\":mean_absolute_percentage_error(y_test,y_pred_lr),\n",
    "        \"Mean absolute error\":mean_absolute_error(y_test,y_pred_lr),\n",
    "        \"Mean squared error\":mean_squared_error(y_test,y_pred_lr,squared=True),\n",
    "        \"Root mean squared error\":mean_squared_error(y_test,y_pred_lr,squared=False),\n",
    "        \"R2\": r2_score(y_test,y_pred_lr)\n",
    "        }}\n",
    "output.append(errors)"
   ]
  },
  {
   "cell_type": "code",
   "execution_count": null,
   "metadata": {},
   "outputs": [],
   "source": [
    "print(type(lr.coef_))\n",
    "print(len(lr.coef_))\n",
    "print(lr.coef_)"
   ]
  },
  {
   "cell_type": "code",
   "execution_count": 80,
   "metadata": {},
   "outputs": [
    {
     "data": {
      "text/plain": [
       "list"
      ]
     },
     "execution_count": 80,
     "metadata": {},
     "output_type": "execute_result"
    }
   ],
   "source": [
    "type(vectorizer.get_feature_names_out().tolist())"
   ]
  },
  {
   "cell_type": "code",
   "execution_count": 81,
   "metadata": {},
   "outputs": [],
   "source": [
    "# plotCoefficients(lr,vectorizer.get_feature_names_out().tolist())"
   ]
  },
  {
   "cell_type": "code",
   "execution_count": 82,
   "metadata": {},
   "outputs": [],
   "source": [
    "ridge = Ridge()\n",
    "ridge.fit(X_train, y_train)\n",
    "y_pred_ridge = ridge.predict(X_test)\n",
    "errors={'Ridge':{\n",
    "        \"Mean absolute percentage error\":mean_absolute_percentage_error(y_test,y_pred_ridge),\n",
    "        \"Mean absolute error\":mean_absolute_error(y_test,y_pred_ridge),\n",
    "        \"Mean squared error\":mean_squared_error(y_test,y_pred_ridge,squared=True),\n",
    "        \"Root mean squared error\":mean_squared_error(y_test,y_pred_ridge,squared=False),\n",
    "        \"R2\": r2_score(y_test,y_pred_ridge)\n",
    "        }}\n",
    "output.append(errors)"
   ]
  },
  {
   "cell_type": "code",
   "execution_count": 85,
   "metadata": {},
   "outputs": [],
   "source": [
    "lasso = Lasso()\n",
    "lasso.fit(X_train, y_train)\n",
    "y_pred_lasso = lasso.predict(X_test)\n",
    "errors={'Lasso':{\n",
    "        \"Mean absolute percentage error\":mean_absolute_percentage_error(y_test,y_pred_lasso),\n",
    "        \"Mean absolute error\":mean_absolute_error(y_test,y_pred_lasso),\n",
    "        \"Mean squared error\":mean_squared_error(y_test,y_pred_lasso,squared=True),\n",
    "        \"Root mean squared error\":mean_squared_error(y_test,y_pred_lasso,squared=False),\n",
    "        \"R2\": r2_score(y_test,y_pred_lasso)\n",
    "        }}\n",
    "output.append(errors)"
   ]
  },
  {
   "cell_type": "code",
   "execution_count": 86,
   "metadata": {},
   "outputs": [],
   "source": [
    "gb = GradientBoostingRegressor()\n",
    "gb.fit(X_train, y_train.ravel())\n",
    "y_pred_gb = gb.predict(X_test)\n",
    "errors={'Gradient Boosting':{\n",
    "        \"Mean absolute percentage error\":mean_absolute_percentage_error(y_test,y_pred_gb),\n",
    "        \"Mean absolute error\":mean_absolute_error(y_test,y_pred_gb),\n",
    "        \"Mean squared error\":mean_squared_error(y_test,y_pred_gb,squared=True),\n",
    "        \"Root mean squared error\":mean_squared_error(y_test,y_pred_gb,squared=False),\n",
    "        \"R2\": r2_score(y_test,y_pred_gb)\n",
    "        }}\n",
    "output.append(errors)"
   ]
  },
  {
   "cell_type": "code",
   "execution_count": null,
   "metadata": {},
   "outputs": [],
   "source": [
    "otputdf = pd.DataFrame.from_dict(output[0], orient= 'index')\n",
    "for item in output[1:]:\n",
    "    otputdf = pd.concat([otputdf, pd.DataFrame.from_dict(item, orient= 'index')],axis=0)\n",
    "# otputdf = otputdf.drop('R2',axis=1)\n",
    "otputdf.columns = ['MAPE','MAE','MSE','RMSE','R2']"
   ]
  },
  {
   "cell_type": "code",
   "execution_count": null,
   "metadata": {},
   "outputs": [
    {
     "data": {
      "text/html": [
       "<div>\n",
       "<style scoped>\n",
       "    .dataframe tbody tr th:only-of-type {\n",
       "        vertical-align: middle;\n",
       "    }\n",
       "\n",
       "    .dataframe tbody tr th {\n",
       "        vertical-align: top;\n",
       "    }\n",
       "\n",
       "    .dataframe thead th {\n",
       "        text-align: right;\n",
       "    }\n",
       "</style>\n",
       "<table border=\"1\" class=\"dataframe\">\n",
       "  <thead>\n",
       "    <tr style=\"text-align: right;\">\n",
       "      <th></th>\n",
       "      <th>MAPE</th>\n",
       "      <th>MAE</th>\n",
       "      <th>MSE</th>\n",
       "      <th>RMSE</th>\n",
       "      <th>R2</th>\n",
       "    </tr>\n",
       "  </thead>\n",
       "  <tbody>\n",
       "    <tr>\n",
       "      <th>Linear Regression</th>\n",
       "      <td>0.004426</td>\n",
       "      <td>8.867492</td>\n",
       "      <td>127.544903</td>\n",
       "      <td>11.293578</td>\n",
       "      <td>0.138667</td>\n",
       "    </tr>\n",
       "  </tbody>\n",
       "</table>\n",
       "</div>"
      ],
      "text/plain": [
       "                       MAPE       MAE         MSE       RMSE        R2\n",
       "Linear Regression  0.004426  8.867492  127.544903  11.293578  0.138667"
      ]
     },
     "execution_count": 57,
     "metadata": {},
     "output_type": "execute_result"
    }
   ],
   "source": [
    "otputdf"
   ]
  },
  {
   "cell_type": "code",
   "execution_count": null,
   "metadata": {},
   "outputs": [],
   "source": []
  }
 ],
 "metadata": {
  "interpreter": {
   "hash": "58602d8dccd692fa32abd17425fd5d45fcdd50ad23d8d4cc69f0d11e0a82e605"
  },
  "kernelspec": {
   "display_name": "Python 3.10.4 ('mynetscrap': venv)",
   "language": "python",
   "name": "python3"
  },
  "language_info": {
   "codemirror_mode": {
    "name": "ipython",
    "version": 3
   },
   "file_extension": ".py",
   "mimetype": "text/x-python",
   "name": "python",
   "nbconvert_exporter": "python",
   "pygments_lexer": "ipython3",
   "version": "3.10.4"
  },
  "orig_nbformat": 4
 },
 "nbformat": 4,
 "nbformat_minor": 2
}
