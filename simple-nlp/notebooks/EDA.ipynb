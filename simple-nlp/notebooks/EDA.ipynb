{
 "cells": [
  {
   "cell_type": "code",
   "execution_count": 1,
   "metadata": {},
   "outputs": [],
   "source": [
    "import numpy as np\n",
    "import pandas as pd\n",
    "import pickle\n",
    "import matplotlib.pyplot as plt\n",
    "\n",
    "from os.path import exists\n",
    "\n",
    "from tqdm.notebook import tqdm\n",
    "import string # библиотека для работы со строками\n",
    "import nltk   # Natural Language Toolkit\n",
    "# загружаем библиотеку для лемматизации\n",
    "import pymorphy2 # Морфологический анализатор\n",
    "\n",
    "#вычисляем tf-idf\n",
    "from sklearn.feature_extraction.text import TfidfVectorizer\n",
    "\n",
    "from sklearn.linear_model import LinearRegression, Ridge, Lasso\n",
    "from sklearn.ensemble import RandomForestRegressor\n",
    "# from sklearn.linear_model import LassoCV, RidgeCV\n",
    "\n",
    "from sklearn.model_selection import train_test_split\n",
    "from sklearn.metrics import mean_absolute_percentage_error,mean_squared_error\n",
    "from sklearn.metrics import mean_absolute_error,r2_score"
   ]
  },
  {
   "cell_type": "code",
   "execution_count": 2,
   "metadata": {},
   "outputs": [],
   "source": [
    "#Структуры данных этого проекта Автор, Публикация, Аннотация публикации\n",
    "from data_types import AuthorsDB\n",
    "from data_types import PublicationsDB\n",
    "from data_types import AbstractsDB"
   ]
  },
  {
   "cell_type": "markdown",
   "metadata": {},
   "source": [
    "## Загрузка данных\n",
    "Обработка и создание, которых происходила в основном в файлах: \n",
    "- iterate_through_authors.ipynb\n",
    "- parsing_page.py\n",
    "- data_types.py"
   ]
  },
  {
   "cell_type": "code",
   "execution_count": 3,
   "metadata": {},
   "outputs": [],
   "source": [
    "audb = AuthorsDB()\n",
    "audb.load()\n",
    "pubdb = PublicationsDB()\n",
    "pubdb.load()\n",
    "absdb = AbstractsDB()\n",
    "absdb.load()\n",
    "\n",
    "filename = \"../data/mathnet_iam_authors_dict.pkl\"\n",
    "with open(filename,'rb') as inp:\n",
    "    authors_dict = pickle.load(inp)"
   ]
  },
  {
   "cell_type": "markdown",
   "metadata": {},
   "source": [
    "# EDA"
   ]
  },
  {
   "cell_type": "markdown",
   "metadata": {},
   "source": [
    "## 1.1 Используемые базы данных"
   ]
  },
  {
   "cell_type": "markdown",
   "metadata": {},
   "source": [
    "### 1.1.1 Структуры отвечающие за Авторов\n",
    " - authors_dict - Имя и индекс mathnet_id\n",
    " - audb - Автор и его статьи"
   ]
  },
  {
   "cell_type": "code",
   "execution_count": 4,
   "metadata": {},
   "outputs": [
    {
     "name": "stdout",
     "output_type": "stream",
     "text": [
      "{'name': 'Абалакин Илья Владимирович', 'mn_id': '29400'}\n",
      "{'name': 'Авдуевский Всеволод Сергеевич', 'mn_id': '25875'}\n",
      "{'name': 'Агапов Владимир Михайлович', 'mn_id': '79709'}\n"
     ]
    }
   ],
   "source": [
    "for ind, person in authors_dict.items():\n",
    "    if ind<4:\n",
    "        print(person)"
   ]
  },
  {
   "cell_type": "code",
   "execution_count": 5,
   "metadata": {},
   "outputs": [
    {
     "name": "stdout",
     "output_type": "stream",
     "text": [
      "0\n",
      "mm4353\n",
      "{'year': '2022', 'nrf': 2}\n",
      "1\n",
      "mm4312\n",
      "{'year': '2021', 'nrf': 2}\n",
      "2\n",
      "zvmmf11279\n",
      "{'year': '2021', 'nrf': 1}\n"
     ]
    }
   ],
   "source": [
    "mn_id = \"29400\"\n",
    "for ind, item in enumerate(audb.db['29400']):\n",
    "    if ind < 3:\n",
    "        print(ind)\n",
    "        print(item)\n",
    "        print(audb.db['29400'][item])    "
   ]
  },
  {
   "cell_type": "markdown",
   "metadata": {},
   "source": [
    "Number of authors"
   ]
  },
  {
   "cell_type": "code",
   "execution_count": 6,
   "metadata": {},
   "outputs": [
    {
     "name": "stdout",
     "output_type": "stream",
     "text": [
      "Number of received authors 871\n",
      "Number of authors in list  871\n",
      "Percent of received authors = 100.0%\n"
     ]
    }
   ],
   "source": [
    "print(f\"Number of received authors {len(audb.db.keys())}\")\n",
    "print(f\"Number of authors in list  {len(authors_dict.keys())}\")\n",
    "print(f\"Percent of received authors = {round(100*(len(audb.db.keys())/len(authors_dict.keys())),1)}%\")"
   ]
  },
  {
   "cell_type": "markdown",
   "metadata": {},
   "source": [
    "### 1.1.2 Датафрейм с основной информацией о публикации"
   ]
  },
  {
   "cell_type": "code",
   "execution_count": 7,
   "metadata": {},
   "outputs": [],
   "source": [
    "pub = pd.DataFrame.from_dict(pubdb.db,orient='index')"
   ]
  },
  {
   "cell_type": "code",
   "execution_count": 8,
   "metadata": {},
   "outputs": [
    {
     "name": "stdout",
     "output_type": "stream",
     "text": [
      "<class 'pandas.core.frame.DataFrame'>\n",
      "Index: 7597 entries, vyurv213 to vmumm4420\n",
      "Data columns (total 13 columns):\n",
      " #   Column     Non-Null Count  Dtype \n",
      "---  ------     --------------  ----- \n",
      " 0   author_id  7597 non-null   object\n",
      " 1   doi        1624 non-null   object\n",
      " 2   udk        3119 non-null   object\n",
      " 3   send       2844 non-null   object\n",
      " 4   type       5398 non-null   object\n",
      " 5   reference  7597 non-null   object\n",
      " 6   by         7081 non-null   object\n",
      " 7   paper      7081 non-null   object\n",
      " 8   jour       7025 non-null   object\n",
      " 9   yr         7081 non-null   object\n",
      " 10  vol        4534 non-null   object\n",
      " 11  issue      4605 non-null   object\n",
      " 12  pages      4707 non-null   object\n",
      "dtypes: object(13)\n",
      "memory usage: 830.9+ KB\n"
     ]
    }
   ],
   "source": [
    "pub.info()"
   ]
  },
  {
   "cell_type": "code",
   "execution_count": 9,
   "metadata": {},
   "outputs": [
    {
     "data": {
      "text/html": [
       "<div>\n",
       "<style scoped>\n",
       "    .dataframe tbody tr th:only-of-type {\n",
       "        vertical-align: middle;\n",
       "    }\n",
       "\n",
       "    .dataframe tbody tr th {\n",
       "        vertical-align: top;\n",
       "    }\n",
       "\n",
       "    .dataframe thead th {\n",
       "        text-align: right;\n",
       "    }\n",
       "</style>\n",
       "<table border=\"1\" class=\"dataframe\">\n",
       "  <thead>\n",
       "    <tr style=\"text-align: right;\">\n",
       "      <th></th>\n",
       "      <th>author_id</th>\n",
       "      <th>doi</th>\n",
       "      <th>udk</th>\n",
       "      <th>send</th>\n",
       "      <th>type</th>\n",
       "      <th>reference</th>\n",
       "      <th>by</th>\n",
       "      <th>paper</th>\n",
       "      <th>jour</th>\n",
       "      <th>yr</th>\n",
       "      <th>vol</th>\n",
       "      <th>issue</th>\n",
       "      <th>pages</th>\n",
       "    </tr>\n",
       "  </thead>\n",
       "  <tbody>\n",
       "    <tr>\n",
       "      <th>vyurv213</th>\n",
       "      <td>[113970, 148811, 22428]</td>\n",
       "      <td>&lt;a class=\"SLink\" href=\"https://doi.org/10.1452...</td>\n",
       "      <td>004.052.3</td>\n",
       "      <td>20.11.2018</td>\n",
       "      <td>Статья</td>\n",
       "      <td></td>\n",
       "      <td>А.~А.~Бондаренко, П.~А.~Ляхов, М.~В.~Якобовский</td>\n",
       "      <td>Координированное сохранение с журналированием ...</td>\n",
       "      <td>Вестн. ЮУрГУ. Сер. Выч. матем. информ.</td>\n",
       "      <td>2019</td>\n",
       "      <td>8</td>\n",
       "      <td>2</td>\n",
       "      <td>76--91</td>\n",
       "    </tr>\n",
       "    <tr>\n",
       "      <th>vyurv1</th>\n",
       "      <td>[113970, 22428]</td>\n",
       "      <td>&lt;a class=\"SLink\" href=\"https://doi.org/10.1452...</td>\n",
       "      <td>004.052.3</td>\n",
       "      <td>13.04.2015</td>\n",
       "      <td>Статья</td>\n",
       "      <td></td>\n",
       "      <td>А.~А.~Бондаренко, М.~В.~Якобовский</td>\n",
       "      <td>Моделирование отказов в высокопроизводительных...</td>\n",
       "      <td>Вестн. ЮУрГУ. Сер. Выч. матем. информ.</td>\n",
       "      <td>2015</td>\n",
       "      <td>4</td>\n",
       "      <td>3</td>\n",
       "      <td>5--12</td>\n",
       "    </tr>\n",
       "    <tr>\n",
       "      <th>vyurv46</th>\n",
       "      <td>[113970, 22428]</td>\n",
       "      <td>None</td>\n",
       "      <td>004.052.3</td>\n",
       "      <td>05.08.2014</td>\n",
       "      <td>Статья</td>\n",
       "      <td></td>\n",
       "      <td>А.~А.~Бондаренко, М.~В.~Якобовский</td>\n",
       "      <td>Обеспечение отказоустойчивости высокопроизводи...</td>\n",
       "      <td>Вестн. ЮУрГУ. Сер. Выч. матем. информ.</td>\n",
       "      <td>2014</td>\n",
       "      <td>3</td>\n",
       "      <td>3</td>\n",
       "      <td>20--36</td>\n",
       "    </tr>\n",
       "    <tr>\n",
       "      <th>ipmp2988</th>\n",
       "      <td>[25339, 26426, 31779, 26427]</td>\n",
       "      <td>:https://doi.org/10.20948/prepr-2021-71</td>\n",
       "      <td>None</td>\n",
       "      <td>None</td>\n",
       "      <td>Препринт</td>\n",
       "      <td>С. В. Поляков, М. А. Трапезникова, А. Г. Чурба...</td>\n",
       "      <td>С.~В.~Поляков, М.~А.~Трапезникова, А.~Г.~Чурба...</td>\n",
       "      <td>Расчет несжимаемых течений в системе &amp;lt;&amp;lt;п...</td>\n",
       "      <td>Препринты ИПМ им.~М.~В.~Келдыша</td>\n",
       "      <td>2021</td>\n",
       "      <td>None</td>\n",
       "      <td>None</td>\n",
       "      <td>None</td>\n",
       "    </tr>\n",
       "    <tr>\n",
       "      <th>ipmp2939</th>\n",
       "      <td>[101245, 25339, 163334]</td>\n",
       "      <td>:https://doi.org/10.20948/prepr-2021-21</td>\n",
       "      <td>None</td>\n",
       "      <td>None</td>\n",
       "      <td>Препринт</td>\n",
       "      <td>Б. Г. Фрейнкман, С. В. Поляков, И. О. Толстов,...</td>\n",
       "      <td>Б.~Г.~Фрейнкман, С.~В.~Поляков, И.~О.~Толстов</td>\n",
       "      <td>Расчет основного состояния электрона в неоднор...</td>\n",
       "      <td>Препринты ИПМ им.~М.~В.~Келдыша</td>\n",
       "      <td>2021</td>\n",
       "      <td>None</td>\n",
       "      <td>None</td>\n",
       "      <td>None</td>\n",
       "    </tr>\n",
       "  </tbody>\n",
       "</table>\n",
       "</div>"
      ],
      "text/plain": [
       "                             author_id  \\\n",
       "vyurv213       [113970, 148811, 22428]   \n",
       "vyurv1                 [113970, 22428]   \n",
       "vyurv46                [113970, 22428]   \n",
       "ipmp2988  [25339, 26426, 31779, 26427]   \n",
       "ipmp2939       [101245, 25339, 163334]   \n",
       "\n",
       "                                                        doi        udk  \\\n",
       "vyurv213  <a class=\"SLink\" href=\"https://doi.org/10.1452...  004.052.3   \n",
       "vyurv1    <a class=\"SLink\" href=\"https://doi.org/10.1452...  004.052.3   \n",
       "vyurv46                                                None  004.052.3   \n",
       "ipmp2988            :https://doi.org/10.20948/prepr-2021-71       None   \n",
       "ipmp2939            :https://doi.org/10.20948/prepr-2021-21       None   \n",
       "\n",
       "                 send      type  \\\n",
       "vyurv213   20.11.2018    Статья   \n",
       "vyurv1     13.04.2015    Статья   \n",
       "vyurv46    05.08.2014    Статья   \n",
       "ipmp2988         None  Препринт   \n",
       "ipmp2939         None  Препринт   \n",
       "\n",
       "                                                  reference  \\\n",
       "vyurv213                                                      \n",
       "vyurv1                                                        \n",
       "vyurv46                                                       \n",
       "ipmp2988  С. В. Поляков, М. А. Трапезникова, А. Г. Чурба...   \n",
       "ipmp2939  Б. Г. Фрейнкман, С. В. Поляков, И. О. Толстов,...   \n",
       "\n",
       "                                                         by  \\\n",
       "vyurv213    А.~А.~Бондаренко, П.~А.~Ляхов, М.~В.~Якобовский   \n",
       "vyurv1                   А.~А.~Бондаренко, М.~В.~Якобовский   \n",
       "vyurv46                  А.~А.~Бондаренко, М.~В.~Якобовский   \n",
       "ipmp2988  С.~В.~Поляков, М.~А.~Трапезникова, А.~Г.~Чурба...   \n",
       "ipmp2939      Б.~Г.~Фрейнкман, С.~В.~Поляков, И.~О.~Толстов   \n",
       "\n",
       "                                                      paper  \\\n",
       "vyurv213  Координированное сохранение с журналированием ...   \n",
       "vyurv1    Моделирование отказов в высокопроизводительных...   \n",
       "vyurv46   Обеспечение отказоустойчивости высокопроизводи...   \n",
       "ipmp2988  Расчет несжимаемых течений в системе &lt;&lt;п...   \n",
       "ipmp2939  Расчет основного состояния электрона в неоднор...   \n",
       "\n",
       "                                            jour    yr   vol issue   pages  \n",
       "vyurv213  Вестн. ЮУрГУ. Сер. Выч. матем. информ.  2019     8     2  76--91  \n",
       "vyurv1    Вестн. ЮУрГУ. Сер. Выч. матем. информ.  2015     4     3   5--12  \n",
       "vyurv46   Вестн. ЮУрГУ. Сер. Выч. матем. информ.  2014     3     3  20--36  \n",
       "ipmp2988         Препринты ИПМ им.~М.~В.~Келдыша  2021  None  None    None  \n",
       "ipmp2939         Препринты ИПМ им.~М.~В.~Келдыша  2021  None  None    None  "
      ]
     },
     "execution_count": 9,
     "metadata": {},
     "output_type": "execute_result"
    }
   ],
   "source": [
    "pub.head()"
   ]
  },
  {
   "cell_type": "code",
   "execution_count": 10,
   "metadata": {},
   "outputs": [
    {
     "data": {
      "image/png": "[encoded data removed]",
      "text/plain": [
       "<Figure size 432x288 with 1 Axes>"
      ]
     },
     "metadata": {
      "needs_background": "light"
     },
     "output_type": "display_data"
    }
   ],
   "source": [
    "pub.isnull().sum().plot(kind='bar');"
   ]
  },
  {
   "cell_type": "markdown",
   "metadata": {},
   "source": [
    "### 1.1.3 Датафрейм с аннотациями публикаций "
   ]
  },
  {
   "cell_type": "code",
   "execution_count": 11,
   "metadata": {},
   "outputs": [
    {
     "data": {
      "text/html": [
       "<div>\n",
       "<style scoped>\n",
       "    .dataframe tbody tr th:only-of-type {\n",
       "        vertical-align: middle;\n",
       "    }\n",
       "\n",
       "    .dataframe tbody tr th {\n",
       "        vertical-align: top;\n",
       "    }\n",
       "\n",
       "    .dataframe thead th {\n",
       "        text-align: right;\n",
       "    }\n",
       "</style>\n",
       "<table border=\"1\" class=\"dataframe\">\n",
       "  <thead>\n",
       "    <tr style=\"text-align: right;\">\n",
       "      <th></th>\n",
       "      <th>abstract</th>\n",
       "      <th>keywords</th>\n",
       "    </tr>\n",
       "    <tr>\n",
       "      <th>mn_link</th>\n",
       "      <th></th>\n",
       "      <th></th>\n",
       "    </tr>\n",
       "  </thead>\n",
       "  <tbody>\n",
       "    <tr>\n",
       "      <th>vyurv213</th>\n",
       "      <td>Увеличивающийся рост числа компонент суперкомп...</td>\n",
       "      <td>расширение ULFM, контрольные точки, координиро...</td>\n",
       "    </tr>\n",
       "    <tr>\n",
       "      <th>vyurv1</th>\n",
       "      <td>Рассматривается проблема выполнения длительных...</td>\n",
       "      <td>параллельные вычисления, отказоустойчивость, к...</td>\n",
       "    </tr>\n",
       "    <tr>\n",
       "      <th>vyurv46</th>\n",
       "      <td>Рассматриваются вопросы, связанные с проведени...</td>\n",
       "      <td>параллельные вычисления, отказоустойчивость, к...</td>\n",
       "    </tr>\n",
       "    <tr>\n",
       "      <th>ipmp2988</th>\n",
       "      <td>В данной работе рассмотрена модель для сопряже...</td>\n",
       "      <td>модель Бринкмана, уравнения Навье-Стокса, своб...</td>\n",
       "    </tr>\n",
       "    <tr>\n",
       "      <th>ipmp2939</th>\n",
       "      <td>Данное исследование связано с разработкой мате...</td>\n",
       "      <td>математическое моделирование, решетка графена,...</td>\n",
       "    </tr>\n",
       "  </tbody>\n",
       "</table>\n",
       "</div>"
      ],
      "text/plain": [
       "                                                   abstract  \\\n",
       "mn_link                                                       \n",
       "vyurv213  Увеличивающийся рост числа компонент суперкомп...   \n",
       "vyurv1    Рассматривается проблема выполнения длительных...   \n",
       "vyurv46   Рассматриваются вопросы, связанные с проведени...   \n",
       "ipmp2988  В данной работе рассмотрена модель для сопряже...   \n",
       "ipmp2939  Данное исследование связано с разработкой мате...   \n",
       "\n",
       "                                                   keywords  \n",
       "mn_link                                                      \n",
       "vyurv213  расширение ULFM, контрольные точки, координиро...  \n",
       "vyurv1    параллельные вычисления, отказоустойчивость, к...  \n",
       "vyurv46   параллельные вычисления, отказоустойчивость, к...  \n",
       "ipmp2988  модель Бринкмана, уравнения Навье-Стокса, своб...  \n",
       "ipmp2939  математическое моделирование, решетка графена,...  "
      ]
     },
     "execution_count": 11,
     "metadata": {},
     "output_type": "execute_result"
    }
   ],
   "source": [
    "absdb.db.head()"
   ]
  },
  {
   "cell_type": "code",
   "execution_count": 12,
   "metadata": {},
   "outputs": [
    {
     "name": "stdout",
     "output_type": "stream",
     "text": [
      "<class 'pandas.core.frame.DataFrame'>\n",
      "Index: 7597 entries, vyurv213 to vmumm4420\n",
      "Data columns (total 2 columns):\n",
      " #   Column    Non-Null Count  Dtype \n",
      "---  ------    --------------  ----- \n",
      " 0   abstract  5609 non-null   object\n",
      " 1   keywords  2525 non-null   object\n",
      "dtypes: object(2)\n",
      "memory usage: 178.1+ KB\n"
     ]
    }
   ],
   "source": [
    "absdb.db.info()"
   ]
  },
  {
   "cell_type": "code",
   "execution_count": 13,
   "metadata": {},
   "outputs": [
    {
     "data": {
      "image/png": "[encoded data removed]",
      "text/plain": [
       "<Figure size 432x288 with 1 Axes>"
      ]
     },
     "metadata": {
      "needs_background": "light"
     },
     "output_type": "display_data"
    }
   ],
   "source": [
    "absdb.db.isnull().sum().plot(kind='bar');"
   ]
  },
  {
   "cell_type": "code",
   "execution_count": 14,
   "metadata": {},
   "outputs": [
    {
     "data": {
      "image/png": "[encoded data removed]",
      "text/plain": [
       "<Figure size 432x288 with 1 Axes>"
      ]
     },
     "metadata": {
      "needs_background": "light"
     },
     "output_type": "display_data"
    }
   ],
   "source": [
    "absdb.db.notnull().sum().plot(kind='bar');"
   ]
  },
  {
   "cell_type": "markdown",
   "metadata": {},
   "source": [
    "## 1.2 Публикации и артефакты в них"
   ]
  },
  {
   "cell_type": "code",
   "execution_count": 15,
   "metadata": {},
   "outputs": [
    {
     "name": "stdout",
     "output_type": "stream",
     "text": [
      "Number of received papers is       7597\n",
      "Number of papers without abstracts 1988\n",
      "Number of papers without keywords  5072\n"
     ]
    }
   ],
   "source": [
    "print(f\"Number of received papers is       {len(absdb.db.index)}\")\n",
    "print(f\"Number of papers without abstracts {(absdb.db['abstract'].isnull()).sum()}\")\n",
    "print(f\"Number of papers without keywords  {(absdb.db['keywords'].isnull()).sum()}\")"
   ]
  },
  {
   "cell_type": "markdown",
   "metadata": {},
   "source": [
    "Просмотрим стать на артефакты "
   ]
  },
  {
   "cell_type": "code",
   "execution_count": 16,
   "metadata": {},
   "outputs": [
    {
     "name": "stdout",
     "output_type": "stream",
     "text": [
      "year = 2021,  link = http://mi.mathnet.ru/mm4267, name = Памяти Николая Николаевича Калиткина, \n",
      "year = 2018,  link = http://mi.mathnet.ru/mm3935, name = Памяти Александра Сергеевича Холодова, \n",
      "year = 2017,  link = http://mi.mathnet.ru/crm91, name = Памяти Александра Сергеевича Холодова (11.10.1941 -- 05.11.2017), \n",
      "year = 2017,  link = http://mi.mathnet.ru/svmo668, name = Юрий Николаевич Дерюгин~--- к семидесятилетию со дня рождения, \n",
      "year = 2016,  link = http://mi.mathnet.ru/mm3685, name = Памяти О.\\,М.~Белоцерковского, \n",
      "Number of papers without abstracts without 'year' field is 414\n",
      "Count of NEW papers without abstracts 127\n",
      "Count of OLD papers without abstracts 1447\n"
     ]
    }
   ],
   "source": [
    "w_year = 0\n",
    "new_count = 0\n",
    "old_count = 0\n",
    "breaking_year = 2008\n",
    "links_to_check = ['http://mi.mathnet.ru/'+mn_link for mn_link in absdb.db.index[absdb.db['abstract'].isnull()]]\n",
    "for link, slink in zip(links_to_check, absdb.db.index[absdb.db['abstract'].isnull()]):\n",
    "    year = pub.loc[slink,'yr']    \n",
    "    if year is None:\n",
    "        # print(f\"year = {year}, name = {pub.loc[slink,'paper']}, link = {link} \")\n",
    "        w_year+=1\n",
    "    else:\n",
    "        if int(year)>breaking_year:    \n",
    "            new_count +=1\n",
    "            if new_count <6:\n",
    "                print(f\"year = {year},  link = {link}, name = {pub.loc[slink,'paper']}, \")\n",
    "        else:\n",
    "            old_count +=1\n",
    "print(f\"Number of papers without abstracts without 'year' field is {w_year}\")\n",
    "print(f\"Count of NEW papers without abstracts {new_count}\")\n",
    "print(f\"Count of OLD papers without abstracts {old_count}\")\n"
   ]
  },
  {
   "cell_type": "markdown",
   "metadata": {},
   "source": [
    "# 2 Построим модель"
   ]
  },
  {
   "cell_type": "markdown",
   "metadata": {},
   "source": [
    "## 2.1 Публикации и их года\n",
    "Год будет выступать в качестве target для нашей модели"
   ]
  },
  {
   "cell_type": "code",
   "execution_count": 17,
   "metadata": {},
   "outputs": [],
   "source": [
    "abstracts = absdb.db[absdb.db['abstract'].notna()]"
   ]
  },
  {
   "cell_type": "markdown",
   "metadata": {},
   "source": [
    "Из-за формата хранения данных, а также пропусках при web-scraping, года иногда отсутствуют в одной или другой структуре, поэтому чтобы получить год для аннотации, надо специальным образом обходить обе структуры, где может быть год аннотации . "
   ]
  },
  {
   "cell_type": "code",
   "execution_count": 18,
   "metadata": {},
   "outputs": [],
   "source": [
    "def get_year_of_pubid(list_pubsid):\n",
    "    struct = {}\n",
    "    for pibid in list_pubsid:\n",
    "        if pub.loc[pibid,'yr'] is not None:\n",
    "            struct[pibid]=int(pub.loc[pibid,'yr'])\n",
    "        else:          \n",
    "            authors_list = pub.loc[pibid,'author_id']\n",
    "            for author in authors_list:\n",
    "                if author not in audb.db:\n",
    "                    continue         \n",
    "                if pibid not in audb.db[author]:\n",
    "                    print(f\"wtf?? pibid= {pibid}, pub.loc[pibid] =  {pub.loc[pibid]}\")\n",
    "                    continue\n",
    "                struct[pibid]=  int(audb.db[author][pibid]['year'])\n",
    "                break    \n",
    "    return struct "
   ]
  },
  {
   "cell_type": "code",
   "execution_count": 19,
   "metadata": {},
   "outputs": [],
   "source": [
    "y_list = get_year_of_pubid(abstracts.index)\n",
    "y_df = pd.DataFrame.from_dict(y_list,orient=\"index\",columns=['year'])"
   ]
  },
  {
   "cell_type": "markdown",
   "metadata": {},
   "source": [
    "Удалим стаьти из рассмотрения, если в этом году, было меньше 10 статей"
   ]
  },
  {
   "cell_type": "code",
   "execution_count": 20,
   "metadata": {},
   "outputs": [
    {
     "name": "stdout",
     "output_type": "stream",
     "text": [
      "14\n"
     ]
    }
   ],
   "source": [
    "print((y_df.value_counts()<10).sum())"
   ]
  },
  {
   "cell_type": "code",
   "execution_count": 21,
   "metadata": {},
   "outputs": [
    {
     "data": {
      "text/plain": [
       "<AxesSubplot:xlabel='year'>"
      ]
     },
     "execution_count": 21,
     "metadata": {},
     "output_type": "execute_result"
    },
    {
     "data": {
      "image/png": "[encoded data removed]",
      "text/plain": [
       "<Figure size 432x288 with 1 Axes>"
      ]
     },
     "metadata": {
      "needs_background": "light"
     },
     "output_type": "display_data"
    }
   ],
   "source": [
    "y_df[y_df['year']<1989].value_counts(sort=False).plot.bar()"
   ]
  },
  {
   "cell_type": "code",
   "execution_count": 22,
   "metadata": {},
   "outputs": [
    {
     "data": {
      "text/plain": [
       "16"
      ]
     },
     "execution_count": 22,
     "metadata": {},
     "output_type": "execute_result"
    }
   ],
   "source": [
    "(y_df['year']==1969).sum()"
   ]
  },
  {
   "cell_type": "code",
   "execution_count": 23,
   "metadata": {},
   "outputs": [],
   "source": [
    "y_df.drop(y_df[y_df['year']<1969].index, inplace=True)"
   ]
  },
  {
   "cell_type": "code",
   "execution_count": 24,
   "metadata": {},
   "outputs": [
    {
     "data": {
      "image/png": "[encoded data removed]",
      "text/plain": [
       "<Figure size 432x288 with 1 Axes>"
      ]
     },
     "metadata": {
      "needs_background": "light"
     },
     "output_type": "display_data"
    }
   ],
   "source": [
    "y_df.value_counts(sort=False).plot();"
   ]
  },
  {
   "cell_type": "code",
   "execution_count": 25,
   "metadata": {},
   "outputs": [
    {
     "name": "stdout",
     "output_type": "stream",
     "text": [
      "<class 'pandas.core.frame.DataFrame'>\n",
      "Index: 5582 entries, vyurv213 to da31\n",
      "Data columns (total 1 columns):\n",
      " #   Column  Non-Null Count  Dtype\n",
      "---  ------  --------------  -----\n",
      " 0   year    5582 non-null   int64\n",
      "dtypes: int64(1)\n",
      "memory usage: 87.2+ KB\n"
     ]
    }
   ],
   "source": [
    "y_df.info()"
   ]
  },
  {
   "cell_type": "code",
   "execution_count": 26,
   "metadata": {},
   "outputs": [
    {
     "data": {
      "text/html": [
       "<div>\n",
       "<style scoped>\n",
       "    .dataframe tbody tr th:only-of-type {\n",
       "        vertical-align: middle;\n",
       "    }\n",
       "\n",
       "    .dataframe tbody tr th {\n",
       "        vertical-align: top;\n",
       "    }\n",
       "\n",
       "    .dataframe thead th {\n",
       "        text-align: right;\n",
       "    }\n",
       "</style>\n",
       "<table border=\"1\" class=\"dataframe\">\n",
       "  <thead>\n",
       "    <tr style=\"text-align: right;\">\n",
       "      <th></th>\n",
       "      <th>year</th>\n",
       "    </tr>\n",
       "  </thead>\n",
       "  <tbody>\n",
       "    <tr>\n",
       "      <th>count</th>\n",
       "      <td>5582.000000</td>\n",
       "    </tr>\n",
       "    <tr>\n",
       "      <th>mean</th>\n",
       "      <td>2005.861519</td>\n",
       "    </tr>\n",
       "    <tr>\n",
       "      <th>std</th>\n",
       "      <td>11.976459</td>\n",
       "    </tr>\n",
       "    <tr>\n",
       "      <th>min</th>\n",
       "      <td>1969.000000</td>\n",
       "    </tr>\n",
       "    <tr>\n",
       "      <th>25%</th>\n",
       "      <td>1998.000000</td>\n",
       "    </tr>\n",
       "    <tr>\n",
       "      <th>50%</th>\n",
       "      <td>2008.000000</td>\n",
       "    </tr>\n",
       "    <tr>\n",
       "      <th>75%</th>\n",
       "      <td>2016.000000</td>\n",
       "    </tr>\n",
       "    <tr>\n",
       "      <th>max</th>\n",
       "      <td>2022.000000</td>\n",
       "    </tr>\n",
       "  </tbody>\n",
       "</table>\n",
       "</div>"
      ],
      "text/plain": [
       "              year\n",
       "count  5582.000000\n",
       "mean   2005.861519\n",
       "std      11.976459\n",
       "min    1969.000000\n",
       "25%    1998.000000\n",
       "50%    2008.000000\n",
       "75%    2016.000000\n",
       "max    2022.000000"
      ]
     },
     "execution_count": 26,
     "metadata": {},
     "output_type": "execute_result"
    }
   ],
   "source": [
    "y_df.describe()"
   ]
  },
  {
   "cell_type": "markdown",
   "metadata": {},
   "source": [
    "Дублирующихся индексов статей нет"
   ]
  },
  {
   "cell_type": "code",
   "execution_count": 27,
   "metadata": {},
   "outputs": [
    {
     "data": {
      "text/plain": [
       "0"
      ]
     },
     "execution_count": 27,
     "metadata": {},
     "output_type": "execute_result"
    }
   ],
   "source": [
    "y_df.index.duplicated(keep=False).sum()"
   ]
  },
  {
   "cell_type": "markdown",
   "metadata": {},
   "source": [
    "Проверяем, что индексы совпадают"
   ]
  },
  {
   "cell_type": "code",
   "execution_count": 28,
   "metadata": {},
   "outputs": [
    {
     "data": {
      "text/plain": [
       "False"
      ]
     },
     "execution_count": 28,
     "metadata": {},
     "output_type": "execute_result"
    }
   ],
   "source": [
    "abstracts.index.equals(y_df.index)"
   ]
  },
  {
   "cell_type": "markdown",
   "metadata": {},
   "source": [
    "Далее будем рассматривать только те аннотации, для которых есть год"
   ]
  },
  {
   "cell_type": "code",
   "execution_count": 29,
   "metadata": {},
   "outputs": [],
   "source": [
    "abstracts = abstracts.loc[y_df.index].copy()"
   ]
  },
  {
   "cell_type": "code",
   "execution_count": 30,
   "metadata": {},
   "outputs": [
    {
     "name": "stdout",
     "output_type": "stream",
     "text": [
      "<class 'pandas.core.frame.DataFrame'>\n",
      "Index: 5582 entries, vyurv213 to da31\n",
      "Data columns (total 2 columns):\n",
      " #   Column    Non-Null Count  Dtype \n",
      "---  ------    --------------  ----- \n",
      " 0   abstract  5582 non-null   object\n",
      " 1   keywords  2525 non-null   object\n",
      "dtypes: object(2)\n",
      "memory usage: 130.8+ KB\n"
     ]
    }
   ],
   "source": [
    "abstracts.info()"
   ]
  },
  {
   "cell_type": "code",
   "execution_count": 31,
   "metadata": {},
   "outputs": [
    {
     "data": {
      "text/plain": [
       "5582"
      ]
     },
     "execution_count": 31,
     "metadata": {},
     "output_type": "execute_result"
    }
   ],
   "source": [
    "abstracts[\"abstract\"].notna().sum()"
   ]
  },
  {
   "cell_type": "markdown",
   "metadata": {},
   "source": [
    "## 2.2 Itf-idf матрицы уни/би/три-грам "
   ]
  },
  {
   "cell_type": "code",
   "execution_count": 32,
   "metadata": {},
   "outputs": [
    {
     "name": "stderr",
     "output_type": "stream",
     "text": [
      "[nltk_data] Downloading package stopwords to\n",
      "[nltk_data]     C:\\Users\\-\\AppData\\Roaming\\nltk_data...\n",
      "[nltk_data]   Package stopwords is already up-to-date!\n"
     ]
    },
    {
     "data": {
      "text/plain": [
       "['и', 'в', 'во', 'не', 'что', 'он', 'на', 'я', 'с', 'со']"
      ]
     },
     "execution_count": 32,
     "metadata": {},
     "output_type": "execute_result"
    }
   ],
   "source": [
    "nltk.download('stopwords')\n",
    "stop_words = nltk.corpus.stopwords.words('russian')\n",
    "\n",
    "# примеры стоп-слов\n",
    "stop_words[:10]"
   ]
  },
  {
   "cell_type": "code",
   "execution_count": 33,
   "metadata": {},
   "outputs": [
    {
     "data": {
      "text/plain": [
       "'!\"#$%&\\'()*+,-./:;<=>?@[\\\\]^_`{|}~'"
      ]
     },
     "execution_count": 33,
     "metadata": {},
     "output_type": "execute_result"
    }
   ],
   "source": [
    "# знаки препинания\n",
    "string.punctuation"
   ]
  },
  {
   "cell_type": "code",
   "execution_count": 34,
   "metadata": {},
   "outputs": [],
   "source": [
    "word_tokenizer = nltk.WordPunctTokenizer()"
   ]
  },
  {
   "cell_type": "code",
   "execution_count": 35,
   "metadata": {},
   "outputs": [],
   "source": [
    "def process_abstractsdb(data):\n",
    "    texts = []    \n",
    "    \n",
    "    # поочередно проходим по всем новостям в списке\n",
    "    for index,row in data.iterrows():\n",
    "        # print(row['abstract'])        \n",
    "        # print(type(row['abstract']))\n",
    "        text = row['abstract']\n",
    "        if (row['keywords'] is not None):\n",
    "            # print(text)\n",
    "            # print(row['keywords'])\n",
    "            # print(type(row['keywords']))\n",
    "            text += row['keywords']                   \n",
    "        text_lower = text.lower() # приводим все слова к нижнему регистру\n",
    "        tokens     = word_tokenizer.tokenize(text_lower) #разбиваем екст на слова                \n",
    "        tokens = [word for word in tokens if (word not in string.punctuation and word not in stop_words and not word.isnumeric())]\n",
    "                      \n",
    "        texts.append(tokens) # добавляем в предобработанный список\n",
    "    \n",
    "    return texts"
   ]
  },
  {
   "cell_type": "code",
   "execution_count": 36,
   "metadata": {},
   "outputs": [],
   "source": [
    "texts = process_abstractsdb(abstracts)\n",
    "# инициализируем лемматизатор\n",
    "morph = pymorphy2.MorphAnalyzer()"
   ]
  },
  {
   "cell_type": "code",
   "execution_count": 37,
   "metadata": {},
   "outputs": [
    {
     "name": "stdout",
     "output_type": "stream",
     "text": [
      "Исходное слово: рассматриваются \tЛемматизированное: рассматриваться\n",
      "Исходное слово: вопросы \tЛемматизированное: вопрос\n",
      "Исходное слово: связанные \tЛемматизированное: связанный\n",
      "Исходное слово: проведением \tЛемматизированное: проведение\n",
      "Исходное слово: расчетов \tЛемматизированное: расчёт\n",
      "Исходное слово: распределенных \tЛемматизированное: распределённый\n",
      "Исходное слово: вычислительных \tЛемматизированное: вычислительный\n",
      "Исходное слово: системах \tЛемматизированное: система\n",
      "Исходное слово: компоненты \tЛемматизированное: компонент\n",
      "Исходное слово: которых \tЛемматизированное: который\n",
      "Исходное слово: подвержены \tЛемматизированное: подверженный\n",
      "Исходное слово: отказам \tЛемматизированное: отказ\n",
      "Исходное слово: работе \tЛемматизированное: работа\n",
      "Исходное слово: приводятся \tЛемматизированное: приводиться\n",
      "Исходное слово: определения \tЛемматизированное: определение\n",
      "Исходное слово: системы \tЛемматизированное: система\n",
      "Исходное слово: сбоя \tЛемматизированное: сбой\n",
      "Исходное слово: ошибки \tЛемматизированное: ошибка\n",
      "Исходное слово: отказа \tЛемматизированное: отказ\n",
      "Исходное слово: модели \tЛемматизированное: модель\n",
      "Исходное слово: сбоя \tЛемматизированное: сбой\n",
      "Исходное слово: наиболее \tЛемматизированное: наиболее\n",
      "Исходное слово: важные \tЛемматизированное: важный\n",
      "Исходное слово: результаты \tЛемматизированное: результат\n",
      "Исходное слово: исследований \tЛемматизированное: исследование\n",
      "Исходное слово: отказов \tЛемматизированное: отказ\n",
      "Исходное слово: параллельных \tЛемматизированное: параллельный\n",
      "Исходное слово: вычислительных \tЛемматизированное: вычислительный\n",
      "Исходное слово: системах \tЛемматизированное: система\n",
      "Исходное слово: числе \tЛемматизированное: число\n",
      "Исходное слово: большими \tЛемматизированное: больший\n",
      "Исходное слово: группами \tЛемматизированное: группа\n",
      "Исходное слово: дисков \tЛемматизированное: диск\n",
      "Исходное слово: основные \tЛемматизированное: основной\n",
      "Исходное слово: существующие \tЛемматизированное: существующий\n",
      "Исходное слово: методы \tЛемматизированное: метод\n",
      "Исходное слово: восстановления \tЛемматизированное: восстановление\n",
      "Исходное слово: распространенные \tЛемматизированное: распространить\n",
      "Исходное слово: программные \tЛемматизированное: программный\n",
      "Исходное слово: реализации \tЛемматизированное: реализация\n",
      "Исходное слово: обеспечения \tЛемматизированное: обеспечение\n",
      "Исходное слово: отказоустойчивости \tЛемматизированное: отказоустойчивость\n",
      "Исходное слово: развивается \tЛемматизированное: развиваться\n",
      "Исходное слово: подход \tЛемматизированное: подход\n",
      "Исходное слово: обеспечения \tЛемматизированное: обеспечение\n",
      "Исходное слово: отказоустойчивости \tЛемматизированное: отказоустойчивость\n",
      "Исходное слово: уровне \tЛемматизированное: уровень\n",
      "Исходное слово: пользователя \tЛемматизированное: пользователь\n",
      "Исходное слово: данный \tЛемматизированное: данный\n",
      "Исходное слово: подход \tЛемматизированное: подход\n",
      "Исходное слово: требует \tЛемматизированное: требовать\n",
      "Исходное слово: непосредственного \tЛемматизированное: непосредственный\n",
      "Исходное слово: участия \tЛемматизированное: участие\n",
      "Исходное слово: разработчика \tЛемматизированное: разработчик\n",
      "Исходное слово: прикладной \tЛемматизированное: прикладной\n",
      "Исходное слово: программы \tЛемматизированное: программа\n",
      "Исходное слово: реализации \tЛемматизированное: реализация\n",
      "Исходное слово: метода \tЛемматизированное: метод\n",
      "Исходное слово: обеспечения \tЛемматизированное: обеспечение\n",
      "Исходное слово: отказоустойчивости \tЛемматизированное: отказоустойчивость\n",
      "Исходное слово: частности \tЛемматизированное: частность\n",
      "Исходное слово: формировании \tЛемматизированное: формирование\n",
      "Исходное слово: контрольных \tЛемматизированное: контрольный\n",
      "Исходное слово: точек \tЛемматизированное: точка\n",
      "Исходное слово: процедур \tЛемматизированное: процедура\n",
      "Исходное слово: восстановления \tЛемматизированное: восстановление\n",
      "Исходное слово: предложена \tЛемматизированное: предложить\n",
      "Исходное слово: схема \tЛемматизированное: схема\n",
      "Исходное слово: сохранения \tЛемматизированное: сохранение\n",
      "Исходное слово: памяти \tЛемматизированное: память\n",
      "Исходное слово: вычислительных \tЛемматизированное: вычислительный\n",
      "Исходное слово: узлов \tЛемматизированное: узел\n",
      "Исходное слово: данных \tЛемматизированное: данные\n",
      "Исходное слово: прикладной \tЛемматизированное: прикладной\n",
      "Исходное слово: программы \tЛемматизированное: программа\n",
      "Исходное слово: формирующих \tЛемматизированное: формировать\n",
      "Исходное слово: согласованную \tЛемматизированное: согласовать\n",
      "Исходное слово: глобальную \tЛемматизированное: глобальный\n",
      "Исходное слово: контрольную \tЛемматизированное: контрольный\n",
      "Исходное слово: точку \tЛемматизированное: точка\n",
      "Исходное слово: её \tЛемматизированное: её\n",
      "Исходное слово: рамках \tЛемматизированное: рамка\n",
      "Исходное слово: осуществляется \tЛемматизированное: осуществляться\n",
      "Исходное слово: дублирование \tЛемматизированное: дублирование\n",
      "Исходное слово: локальных \tЛемматизированное: локальный\n",
      "Исходное слово: контрольных \tЛемматизированное: контрольный\n",
      "Исходное слово: точек \tЛемматизированное: точка\n",
      "Исходное слово: позволяет \tЛемматизированное: позволять\n",
      "Исходное слово: восстановить \tЛемматизированное: восстановить\n",
      "Исходное слово: вычислительный \tЛемматизированное: вычислительный\n",
      "Исходное слово: процесс \tЛемматизированное: процесс\n",
      "Исходное слово: число \tЛемматизированное: число\n",
      "Исходное слово: отказов \tЛемматизированное: отказ\n",
      "Исходное слово: превосходит \tЛемматизированное: превосходить\n",
      "Исходное слово: допустимого \tЛемматизированное: допустимый\n",
      "Исходное слово: данной \tЛемматизированное: дать\n",
      "Исходное слово: схемы \tЛемматизированное: схема\n",
      "Исходное слово: уровня \tЛемматизированное: уровень\n",
      "Исходное слово: использована \tЛемматизированное: использовать\n",
      "Исходное слово: различных \tЛемматизированное: различный\n",
      "Исходное слово: протоколах \tЛемматизированное: протокол\n",
      "Исходное слово: восстановления \tЛемматизированное: восстановление\n",
      "Исходное слово: модификациях \tЛемматизированное: модификация\n",
      "Исходное слово: параллельные \tЛемматизированное: параллельный\n",
      "Исходное слово: вычисления \tЛемматизированное: вычисление\n",
      "Исходное слово: отказоустойчивость \tЛемматизированное: отказоустойчивость\n",
      "Исходное слово: контрольные \tЛемматизированное: контрольный\n",
      "Исходное слово: точки \tЛемматизированное: точка\n",
      "Исходное слово: mpi \tЛемматизированное: mpi\n"
     ]
    }
   ],
   "source": [
    "for aword in texts[2]:\n",
    "    aword_norm = morph.parse(aword)[0].normal_form\n",
    "    print(\"Исходное слово: %s \\tЛемматизированное: %s\" % (aword, aword_norm))"
   ]
  },
  {
   "cell_type": "code",
   "execution_count": 38,
   "metadata": {},
   "outputs": [
    {
     "name": "stdout",
     "output_type": "stream",
     "text": [
      "range(0, 5582)\n"
     ]
    }
   ],
   "source": [
    "# применяем лемматизацию ко всем текстам\n",
    "print(range(len(texts)))\n",
    "\n",
    "file_lemmatized_text = '../data/lemmatized_text.pkl'\n",
    "if exists(file_lemmatized_text):    \n",
    "    with open(file_lemmatized_text,'rb') as inp:\n",
    "        texts = pickle.load(inp)\n",
    "else:\n",
    "    for i in tqdm(range(len(texts))):           # tqdm_notebook создает шкалу прогресса :)\n",
    "        text_lemmatized = [morph.parse(x)[0].normal_form for x in texts[i]] # применяем лемматизацию для каждого слова в тексте\n",
    "        texts[i] = ' '.join(text_lemmatized)\n",
    "    with open(file_lemmatized_text,'wb') as outp:\n",
    "        pickle.dump(texts,outp,pickle.HIGHEST_PROTOCOL)"
   ]
  },
  {
   "cell_type": "code",
   "execution_count": 107,
   "metadata": {},
   "outputs": [
    {
     "data": {
      "text/html": [
       "<style>#sk-container-id-4 {color: black;background-color: white;}#sk-container-id-4 pre{padding: 0;}#sk-container-id-4 div.sk-toggleable {background-color: white;}#sk-container-id-4 label.sk-toggleable__label {cursor: pointer;display: block;width: 100%;margin-bottom: 0;padding: 0.3em;box-sizing: border-box;text-align: center;}#sk-container-id-4 label.sk-toggleable__label-arrow:before {content: \"▸\";float: left;margin-right: 0.25em;color: #696969;}#sk-container-id-4 label.sk-toggleable__label-arrow:hover:before {color: black;}#sk-container-id-4 div.sk-estimator:hover label.sk-toggleable__label-arrow:before {color: black;}#sk-container-id-4 div.sk-toggleable__content {max-height: 0;max-width: 0;overflow: hidden;text-align: left;background-color: #f0f8ff;}#sk-container-id-4 div.sk-toggleable__content pre {margin: 0.2em;color: black;border-radius: 0.25em;background-color: #f0f8ff;}#sk-container-id-4 input.sk-toggleable__control:checked~div.sk-toggleable__content {max-height: 200px;max-width: 100%;overflow: auto;}#sk-container-id-4 input.sk-toggleable__control:checked~label.sk-toggleable__label-arrow:before {content: \"▾\";}#sk-container-id-4 div.sk-estimator input.sk-toggleable__control:checked~label.sk-toggleable__label {background-color: #d4ebff;}#sk-container-id-4 div.sk-label input.sk-toggleable__control:checked~label.sk-toggleable__label {background-color: #d4ebff;}#sk-container-id-4 input.sk-hidden--visually {border: 0;clip: rect(1px 1px 1px 1px);clip: rect(1px, 1px, 1px, 1px);height: 1px;margin: -1px;overflow: hidden;padding: 0;position: absolute;width: 1px;}#sk-container-id-4 div.sk-estimator {font-family: monospace;background-color: #f0f8ff;border: 1px dotted black;border-radius: 0.25em;box-sizing: border-box;margin-bottom: 0.5em;}#sk-container-id-4 div.sk-estimator:hover {background-color: #d4ebff;}#sk-container-id-4 div.sk-parallel-item::after {content: \"\";width: 100%;border-bottom: 1px solid gray;flex-grow: 1;}#sk-container-id-4 div.sk-label:hover label.sk-toggleable__label {background-color: #d4ebff;}#sk-container-id-4 div.sk-serial::before {content: \"\";position: absolute;border-left: 1px solid gray;box-sizing: border-box;top: 0;bottom: 0;left: 50%;z-index: 0;}#sk-container-id-4 div.sk-serial {display: flex;flex-direction: column;align-items: center;background-color: white;padding-right: 0.2em;padding-left: 0.2em;position: relative;}#sk-container-id-4 div.sk-item {position: relative;z-index: 1;}#sk-container-id-4 div.sk-parallel {display: flex;align-items: stretch;justify-content: center;background-color: white;position: relative;}#sk-container-id-4 div.sk-item::before, #sk-container-id-4 div.sk-parallel-item::before {content: \"\";position: absolute;border-left: 1px solid gray;box-sizing: border-box;top: 0;bottom: 0;left: 50%;z-index: -1;}#sk-container-id-4 div.sk-parallel-item {display: flex;flex-direction: column;z-index: 1;position: relative;background-color: white;}#sk-container-id-4 div.sk-parallel-item:first-child::after {align-self: flex-end;width: 50%;}#sk-container-id-4 div.sk-parallel-item:last-child::after {align-self: flex-start;width: 50%;}#sk-container-id-4 div.sk-parallel-item:only-child::after {width: 0;}#sk-container-id-4 div.sk-dashed-wrapped {border: 1px dashed gray;margin: 0 0.4em 0.5em 0.4em;box-sizing: border-box;padding-bottom: 0.4em;background-color: white;}#sk-container-id-4 div.sk-label label {font-family: monospace;font-weight: bold;display: inline-block;line-height: 1.2em;}#sk-container-id-4 div.sk-label-container {text-align: center;}#sk-container-id-4 div.sk-container {/* jupyter's `normalize.less` sets `[hidden] { display: none; }` but bootstrap.min.css set `[hidden] { display: none !important; }` so we also need the `!important` here to be able to override the default hidden behavior on the sphinx rendered scikit-learn.org. See: https://github.com/scikit-learn/scikit-learn/issues/21755 */display: inline-block !important;position: relative;}#sk-container-id-4 div.sk-text-repr-fallback {display: none;}</style><div id=\"sk-container-id-4\" class=\"sk-top-container\"><div class=\"sk-text-repr-fallback\"><pre>TfidfVectorizer(max_df=0.3, max_features=300, min_df=0.01, ngram_range=(1, 3),\n",
       "                smooth_idf=1, sublinear_tf=1, token_pattern=&#x27;\\\\w{2,}&#x27;,\n",
       "                use_idf=1)</pre><b>In a Jupyter environment, please rerun this cell to show the HTML representation or trust the notebook. <br />On GitHub, the HTML representation is unable to render, please try loading this page with nbviewer.org.</b></div><div class=\"sk-container\" hidden><div class=\"sk-item\"><div class=\"sk-estimator sk-toggleable\"><input class=\"sk-toggleable__control sk-hidden--visually\" id=\"sk-estimator-id-4\" type=\"checkbox\" checked><label for=\"sk-estimator-id-4\" class=\"sk-toggleable__label sk-toggleable__label-arrow\">TfidfVectorizer</label><div class=\"sk-toggleable__content\"><pre>TfidfVectorizer(max_df=0.3, max_features=300, min_df=0.01, ngram_range=(1, 3),\n",
       "                smooth_idf=1, sublinear_tf=1, token_pattern=&#x27;\\\\w{2,}&#x27;,\n",
       "                use_idf=1)</pre></div></div></div></div></div>"
      ],
      "text/plain": [
       "TfidfVectorizer(max_df=0.3, max_features=300, min_df=0.01, ngram_range=(1, 3),\n",
       "                smooth_idf=1, sublinear_tf=1, token_pattern='\\\\w{2,}',\n",
       "                use_idf=1)"
      ]
     },
     "execution_count": 107,
     "metadata": {},
     "output_type": "execute_result"
    }
   ],
   "source": [
    "vectorizer = TfidfVectorizer(min_df=0.01, max_df = 0.3,   max_features=300, analyzer='word',token_pattern=r'\\w{2,}', ngram_range=(1, 3), use_idf=1, smooth_idf=1,sublinear_tf=1) \n",
    "vectorizer.fit(texts)"
   ]
  },
  {
   "cell_type": "code",
   "execution_count": 108,
   "metadata": {},
   "outputs": [
    {
     "name": "stdout",
     "output_type": "stream",
     "text": [
      "Number of features in vectorizer: 300\n",
      "0 of\n",
      "1 алгоритм\n",
      "2 анализ\n",
      "3 аналитический\n",
      "4 аппарат\n",
      "5 аппроксимация\n",
      "6 библа\n",
      "7 больший\n",
      "8 вариант\n",
      "9 величина\n"
     ]
    }
   ],
   "source": [
    "print('Number of features in vectorizer:', len(vectorizer.get_feature_names_out()))\n",
    "for ind,item in enumerate(vectorizer.get_feature_names_out()):\n",
    "    if ind<10:\n",
    "        print(ind, item)"
   ]
  },
  {
   "cell_type": "code",
   "execution_count": 109,
   "metadata": {},
   "outputs": [
    {
     "name": "stdout",
     "output_type": "stream",
     "text": [
      "(5582, 300)\n"
     ]
    }
   ],
   "source": [
    "tf_idf_matrix = vectorizer.fit_transform(texts)\n",
    "print(tf_idf_matrix.shape)"
   ]
  },
  {
   "cell_type": "code",
   "execution_count": 110,
   "metadata": {},
   "outputs": [],
   "source": [
    "X = tf_idf_matrix.toarray()\n",
    "y = y_df.to_numpy()"
   ]
  },
  {
   "cell_type": "code",
   "execution_count": 111,
   "metadata": {},
   "outputs": [],
   "source": [
    "X_train, X_test, y_train, y_test = train_test_split(X, y, test_size=0.3, random_state=3076)"
   ]
  },
  {
   "cell_type": "code",
   "execution_count": 112,
   "metadata": {},
   "outputs": [
    {
     "name": "stdout",
     "output_type": "stream",
     "text": [
      "(3907, 300)\n",
      "(1675, 300)\n",
      "(3907, 1)\n",
      "(1675, 1)\n"
     ]
    }
   ],
   "source": [
    "print(X_train.shape)\n",
    "print(X_test.shape)\n",
    "print(y_train.shape)\n",
    "print(y_test.shape)"
   ]
  },
  {
   "cell_type": "code",
   "execution_count": 113,
   "metadata": {},
   "outputs": [],
   "source": [
    "def get_baseline(y):\n",
    "    return np.ones(y_test.shape)*y_test.mean()"
   ]
  },
  {
   "cell_type": "code",
   "execution_count": 114,
   "metadata": {},
   "outputs": [],
   "source": [
    "output = []"
   ]
  },
  {
   "cell_type": "code",
   "execution_count": 115,
   "metadata": {},
   "outputs": [],
   "source": [
    "def plotCoefficients(feature_importances, words):\n",
    "    \"\"\"\n",
    "    Plots sorted coefficient values of the model\n",
    "    \"\"\"\n",
    "    coefs = pd.DataFrame(feature_importances, words)\n",
    "    coefs.columns = [\"coef\"]\n",
    "    coefs[\"abs\"] = coefs.coef.apply(np.abs)\n",
    "    coefs = coefs.sort_values(by=\"abs\", ascending=False).drop([\"abs\"], axis=1)\n",
    "    \n",
    "    plt.figure(figsize=(15, 7))\n",
    "    coefs.iloc[:30].coef.plot(kind='bar')\n",
    "    plt.grid(True, axis='y')\n",
    "    # plt.hlines(y=0, xmin=0, xmax=len(coefs), linestyles='dashed');"
   ]
  },
  {
   "cell_type": "code",
   "execution_count": 116,
   "metadata": {},
   "outputs": [],
   "source": [
    "lr = LinearRegression()\n",
    "lr.fit(X_train, y_train)\n",
    "y_pred_lr = lr.predict(X_test)\n",
    "errors={'Linear Regression':{        \n",
    "        \"Mean absolute error\":mean_absolute_error(y_test,y_pred_lr),\n",
    "        \"Mean squared error\":mean_squared_error(y_test,y_pred_lr,squared=True),\n",
    "        \"Root mean squared error\":mean_squared_error(y_test,y_pred_lr,squared=False)\n",
    "        }}\n",
    "output.append(errors)"
   ]
  },
  {
   "cell_type": "code",
   "execution_count": 117,
   "metadata": {},
   "outputs": [
    {
     "data": {
      "image/png": "[encoded data removed]",
      "text/plain": [
       "<Figure size 1080x504 with 1 Axes>"
      ]
     },
     "metadata": {
      "needs_background": "light"
     },
     "output_type": "display_data"
    }
   ],
   "source": [
    "plotCoefficients(lr.coef_.T,vectorizer.get_feature_names_out())"
   ]
  },
  {
   "cell_type": "code",
   "execution_count": 118,
   "metadata": {},
   "outputs": [],
   "source": [
    "ridge = Ridge()\n",
    "ridge.fit(X_train, y_train)\n",
    "y_pred_ridge = ridge.predict(X_test)\n",
    "errors={'Ridge':{        \n",
    "        \"Mean absolute error\":mean_absolute_error(y_test,y_pred_ridge),\n",
    "        \"Mean squared error\":mean_squared_error(y_test,y_pred_ridge,squared=True),\n",
    "        \"Root mean squared error\":mean_squared_error(y_test,y_pred_ridge,squared=False)        \n",
    "        }}\n",
    "output.append(errors)"
   ]
  },
  {
   "cell_type": "code",
   "execution_count": 119,
   "metadata": {},
   "outputs": [
    {
     "data": {
      "image/png": "[encoded data removed]",
      "text/plain": [
       "<Figure size 1080x504 with 1 Axes>"
      ]
     },
     "metadata": {
      "needs_background": "light"
     },
     "output_type": "display_data"
    }
   ],
   "source": [
    "plotCoefficients(ridge.coef_.T,vectorizer.get_feature_names_out())"
   ]
  },
  {
   "cell_type": "code",
   "execution_count": 120,
   "metadata": {},
   "outputs": [],
   "source": [
    "rf = RandomForestRegressor(n_jobs=-1)\n",
    "rf.fit(X_train, y_train.ravel())\n",
    "y_pred_rf = rf.predict(X_test)\n",
    "errors={'Random Forest':{        \n",
    "        \"Mean absolute error\":mean_absolute_error(y_test,y_pred_rf),\n",
    "        \"Mean squared error\":mean_squared_error(y_test,y_pred_rf,squared=True),\n",
    "        \"Root mean squared error\":mean_squared_error(y_test,y_pred_rf,squared=False)\n",
    "        }}\n",
    "output.append(errors)"
   ]
  },
  {
   "cell_type": "code",
   "execution_count": 121,
   "metadata": {},
   "outputs": [
    {
     "data": {
      "image/png": "[encoded data removed]",
      "text/plain": [
       "<Figure size 1080x504 with 1 Axes>"
      ]
     },
     "metadata": {
      "needs_background": "light"
     },
     "output_type": "display_data"
    }
   ],
   "source": [
    "plotCoefficients(rf.feature_importances_.T,vectorizer.get_feature_names_out())"
   ]
  },
  {
   "cell_type": "code",
   "execution_count": 122,
   "metadata": {},
   "outputs": [],
   "source": [
    "baseline = get_baseline(y_test)\n",
    "errors={'Baseline':{        \n",
    "        \"Mean absolute error\":mean_absolute_error(y_test,baseline),\n",
    "        \"Mean squared error\":mean_squared_error(y_test,baseline,squared=True),\n",
    "        \"Root mean squared error\":mean_squared_error(y_test,baseline,squared=False)        \n",
    "        }}\n",
    "output.append(errors)"
   ]
  },
  {
   "cell_type": "code",
   "execution_count": 123,
   "metadata": {},
   "outputs": [
    {
     "data": {
      "text/plain": [
       "2005.6859701492538"
      ]
     },
     "execution_count": 123,
     "metadata": {},
     "output_type": "execute_result"
    }
   ],
   "source": [
    "y_test.mean()"
   ]
  },
  {
   "cell_type": "code",
   "execution_count": 126,
   "metadata": {},
   "outputs": [],
   "source": [
    "otputdf = pd.DataFrame.from_dict(output[0], orient= 'index')\n",
    "for item in output[1:]:\n",
    "    otputdf = pd.concat([otputdf, pd.DataFrame.from_dict(item, orient= 'index')],axis=0)\n",
    "\n",
    "# otputdf.columns = ['MAE','MSE','RMSE']"
   ]
  },
  {
   "cell_type": "code",
   "execution_count": 127,
   "metadata": {},
   "outputs": [
    {
     "data": {
      "text/html": [
       "<div>\n",
       "<style scoped>\n",
       "    .dataframe tbody tr th:only-of-type {\n",
       "        vertical-align: middle;\n",
       "    }\n",
       "\n",
       "    .dataframe tbody tr th {\n",
       "        vertical-align: top;\n",
       "    }\n",
       "\n",
       "    .dataframe thead th {\n",
       "        text-align: right;\n",
       "    }\n",
       "</style>\n",
       "<table border=\"1\" class=\"dataframe\">\n",
       "  <thead>\n",
       "    <tr style=\"text-align: right;\">\n",
       "      <th></th>\n",
       "      <th>Mean absolute error</th>\n",
       "      <th>Mean squared error</th>\n",
       "      <th>Root mean squared error</th>\n",
       "    </tr>\n",
       "  </thead>\n",
       "  <tbody>\n",
       "    <tr>\n",
       "      <th>Linear Regression</th>\n",
       "      <td>8.712602</td>\n",
       "      <td>119.109721</td>\n",
       "      <td>10.913740</td>\n",
       "    </tr>\n",
       "    <tr>\n",
       "      <th>Ridge</th>\n",
       "      <td>8.648850</td>\n",
       "      <td>117.011717</td>\n",
       "      <td>10.817195</td>\n",
       "    </tr>\n",
       "    <tr>\n",
       "      <th>Random Forest</th>\n",
       "      <td>8.051480</td>\n",
       "      <td>105.701515</td>\n",
       "      <td>10.281124</td>\n",
       "    </tr>\n",
       "    <tr>\n",
       "      <th>Baseline</th>\n",
       "      <td>9.729999</td>\n",
       "      <td>143.196908</td>\n",
       "      <td>11.966491</td>\n",
       "    </tr>\n",
       "  </tbody>\n",
       "</table>\n",
       "</div>"
      ],
      "text/plain": [
       "                   Mean absolute error  Mean squared error  \\\n",
       "Linear Regression             8.712602          119.109721   \n",
       "Ridge                         8.648850          117.011717   \n",
       "Random Forest                 8.051480          105.701515   \n",
       "Baseline                      9.729999          143.196908   \n",
       "\n",
       "                   Root mean squared error  \n",
       "Linear Regression                10.913740  \n",
       "Ridge                            10.817195  \n",
       "Random Forest                    10.281124  \n",
       "Baseline                         11.966491  "
      ]
     },
     "execution_count": 127,
     "metadata": {},
     "output_type": "execute_result"
    }
   ],
   "source": [
    "otputdf"
   ]
  },
  {
   "cell_type": "markdown",
   "metadata": {},
   "source": [
    "# Заключение\n",
    "\n",
    "Были построены модели предсказывающие год публикации по ее аннотации. В наборе данных использовалось 5582 публикаций с годами от 1969 по 2022. \n",
    "Baseline модели это усредненный год выпуска публикации среди всех публикаций это 2005.7 и для тестового набора абсолютная погрешность составляет порядка 9.7 лет.\n",
    "Построенные модели немного лучше предсказывают год в среднем, чем Baseline. Лучше всех стравлялся алгоритм RandomForest для него абсолютная погрешность порядка 8.1 лет.\n",
    "\n",
    "\n",
    "\n"
   ]
  }
 ],
 "metadata": {
  "interpreter": {
   "hash": "58602d8dccd692fa32abd17425fd5d45fcdd50ad23d8d4cc69f0d11e0a82e605"
  },
  "kernelspec": {
   "display_name": "Python 3.10.4 ('mynetscrap': venv)",
   "language": "python",
   "name": "python3"
  },
  "language_info": {
   "codemirror_mode": {
    "name": "ipython",
    "version": 3
   },
   "file_extension": ".py",
   "mimetype": "text/x-python",
   "name": "python",
   "nbconvert_exporter": "python",
   "pygments_lexer": "ipython3",
   "version": "3.10.4"
  },
  "orig_nbformat": 4
 },
 "nbformat": 4,
 "nbformat_minor": 2
}
