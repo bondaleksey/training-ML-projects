{
 "cells": [
  {
   "cell_type": "code",
   "execution_count": 13,
   "metadata": {},
   "outputs": [],
   "source": [
    "import pandas as pd"
   ]
  },
  {
   "cell_type": "markdown",
   "metadata": {},
   "source": [
    "# EDA"
   ]
  },
  {
   "cell_type": "code",
   "execution_count": 14,
   "metadata": {},
   "outputs": [],
   "source": [
    "from data_types import Author, AuthorsDB\n",
    "from data_types import Publication, PublicationsDB\n",
    "from data_types import Abstract, AbstractsDB\n",
    "audb = AuthorsDB()\n",
    "audb.load()\n",
    "pubdb = PublicationsDB()\n",
    "pubdb.load()\n",
    "absdb = AbstractsDB()\n",
    "absdb.load()\n"
   ]
  },
  {
   "cell_type": "code",
   "execution_count": 15,
   "metadata": {},
   "outputs": [
    {
     "name": "stdout",
     "output_type": "stream",
     "text": [
      "96\n",
      "313\n"
     ]
    }
   ],
   "source": [
    "print((absdb.db['abstract'].isnull()).sum())\n",
    "print((absdb.db['keywords'].isnull()).sum())"
   ]
  },
  {
   "cell_type": "code",
   "execution_count": 16,
   "metadata": {},
   "outputs": [
    {
     "name": "stdout",
     "output_type": "stream",
     "text": [
      "abstract     96\n",
      "keywords    313\n",
      "dtype: int64\n"
     ]
    }
   ],
   "source": [
    "print((absdb.db.isnull()).sum())"
   ]
  },
  {
   "cell_type": "code",
   "execution_count": 17,
   "metadata": {},
   "outputs": [
    {
     "name": "stdout",
     "output_type": "stream",
     "text": [
      "<class 'pandas.core.frame.DataFrame'>\n",
      "Index: 586 entries, vyurv213 to tmf159\n",
      "Data columns (total 2 columns):\n",
      " #   Column    Non-Null Count  Dtype \n",
      "---  ------    --------------  ----- \n",
      " 0   abstract  490 non-null    object\n",
      " 1   keywords  273 non-null    object\n",
      "dtypes: object(2)\n",
      "memory usage: 13.7+ KB\n"
     ]
    }
   ],
   "source": [
    "absdb.db.info()"
   ]
  },
  {
   "cell_type": "code",
   "execution_count": 18,
   "metadata": {},
   "outputs": [],
   "source": [
    "pub = pd.DataFrame.from_dict(pubdb.db,orient='index')"
   ]
  },
  {
   "cell_type": "code",
   "execution_count": 19,
   "metadata": {},
   "outputs": [
    {
     "data": {
      "text/html": [
       "<div>\n",
       "<style scoped>\n",
       "    .dataframe tbody tr th:only-of-type {\n",
       "        vertical-align: middle;\n",
       "    }\n",
       "\n",
       "    .dataframe tbody tr th {\n",
       "        vertical-align: top;\n",
       "    }\n",
       "\n",
       "    .dataframe thead th {\n",
       "        text-align: right;\n",
       "    }\n",
       "</style>\n",
       "<table border=\"1\" class=\"dataframe\">\n",
       "  <thead>\n",
       "    <tr style=\"text-align: right;\">\n",
       "      <th></th>\n",
       "      <th>author_id</th>\n",
       "      <th>doi</th>\n",
       "      <th>udk</th>\n",
       "      <th>send</th>\n",
       "      <th>type</th>\n",
       "      <th>reference</th>\n",
       "      <th>by</th>\n",
       "      <th>paper</th>\n",
       "      <th>jour</th>\n",
       "      <th>yr</th>\n",
       "      <th>vol</th>\n",
       "      <th>issue</th>\n",
       "      <th>pages</th>\n",
       "    </tr>\n",
       "  </thead>\n",
       "  <tbody>\n",
       "    <tr>\n",
       "      <th>vyurv213</th>\n",
       "      <td>[113970, 148811, 22428]</td>\n",
       "      <td>&lt;a class=\"SLink\" href=\"https://doi.org/10.1452...</td>\n",
       "      <td>004.052.3</td>\n",
       "      <td>20.11.2018</td>\n",
       "      <td>Статья</td>\n",
       "      <td></td>\n",
       "      <td>А.~А.~Бондаренко, П.~А.~Ляхов, М.~В.~Якобовский</td>\n",
       "      <td>Координированное сохранение с журналированием ...</td>\n",
       "      <td>Вестн. ЮУрГУ. Сер. Выч. матем. информ.</td>\n",
       "      <td>2019</td>\n",
       "      <td>8</td>\n",
       "      <td>2</td>\n",
       "      <td>76--91</td>\n",
       "    </tr>\n",
       "    <tr>\n",
       "      <th>vyurv1</th>\n",
       "      <td>[113970, 22428]</td>\n",
       "      <td>&lt;a class=\"SLink\" href=\"https://doi.org/10.1452...</td>\n",
       "      <td>004.052.3</td>\n",
       "      <td>13.04.2015</td>\n",
       "      <td>Статья</td>\n",
       "      <td></td>\n",
       "      <td>А.~А.~Бондаренко, М.~В.~Якобовский</td>\n",
       "      <td>Моделирование отказов в высокопроизводительных...</td>\n",
       "      <td>Вестн. ЮУрГУ. Сер. Выч. матем. информ.</td>\n",
       "      <td>2015</td>\n",
       "      <td>4</td>\n",
       "      <td>3</td>\n",
       "      <td>5--12</td>\n",
       "    </tr>\n",
       "    <tr>\n",
       "      <th>vyurv46</th>\n",
       "      <td>[113970, 22428]</td>\n",
       "      <td>None</td>\n",
       "      <td>004.052.3</td>\n",
       "      <td>05.08.2014</td>\n",
       "      <td>Статья</td>\n",
       "      <td></td>\n",
       "      <td>А.~А.~Бондаренко, М.~В.~Якобовский</td>\n",
       "      <td>Обеспечение отказоустойчивости высокопроизводи...</td>\n",
       "      <td>Вестн. ЮУрГУ. Сер. Выч. матем. информ.</td>\n",
       "      <td>2014</td>\n",
       "      <td>3</td>\n",
       "      <td>3</td>\n",
       "      <td>20--36</td>\n",
       "    </tr>\n",
       "    <tr>\n",
       "      <th>ipmp2988</th>\n",
       "      <td>[25339, 26426, 31779, 26427]</td>\n",
       "      <td>:https://doi.org/10.20948/prepr-2021-71</td>\n",
       "      <td>None</td>\n",
       "      <td>None</td>\n",
       "      <td>Препринт</td>\n",
       "      <td>С. В. Поляков, М. А. Трапезникова, А. Г. Чурба...</td>\n",
       "      <td>С.~В.~Поляков, М.~А.~Трапезникова, А.~Г.~Чурба...</td>\n",
       "      <td>Расчет несжимаемых течений в системе &amp;lt;&amp;lt;п...</td>\n",
       "      <td>Препринты ИПМ им.~М.~В.~Келдыша</td>\n",
       "      <td>2021</td>\n",
       "      <td>None</td>\n",
       "      <td>None</td>\n",
       "      <td>None</td>\n",
       "    </tr>\n",
       "    <tr>\n",
       "      <th>ipmp2939</th>\n",
       "      <td>[101245, 25339, 163334]</td>\n",
       "      <td>:https://doi.org/10.20948/prepr-2021-21</td>\n",
       "      <td>None</td>\n",
       "      <td>None</td>\n",
       "      <td>Препринт</td>\n",
       "      <td>Б. Г. Фрейнкман, С. В. Поляков, И. О. Толстов,...</td>\n",
       "      <td>Б.~Г.~Фрейнкман, С.~В.~Поляков, И.~О.~Толстов</td>\n",
       "      <td>Расчет основного состояния электрона в неоднор...</td>\n",
       "      <td>Препринты ИПМ им.~М.~В.~Келдыша</td>\n",
       "      <td>2021</td>\n",
       "      <td>None</td>\n",
       "      <td>None</td>\n",
       "      <td>None</td>\n",
       "    </tr>\n",
       "  </tbody>\n",
       "</table>\n",
       "</div>"
      ],
      "text/plain": [
       "                             author_id  \\\n",
       "vyurv213       [113970, 148811, 22428]   \n",
       "vyurv1                 [113970, 22428]   \n",
       "vyurv46                [113970, 22428]   \n",
       "ipmp2988  [25339, 26426, 31779, 26427]   \n",
       "ipmp2939       [101245, 25339, 163334]   \n",
       "\n",
       "                                                        doi        udk  \\\n",
       "vyurv213  <a class=\"SLink\" href=\"https://doi.org/10.1452...  004.052.3   \n",
       "vyurv1    <a class=\"SLink\" href=\"https://doi.org/10.1452...  004.052.3   \n",
       "vyurv46                                                None  004.052.3   \n",
       "ipmp2988            :https://doi.org/10.20948/prepr-2021-71       None   \n",
       "ipmp2939            :https://doi.org/10.20948/prepr-2021-21       None   \n",
       "\n",
       "                 send      type  \\\n",
       "vyurv213   20.11.2018    Статья   \n",
       "vyurv1     13.04.2015    Статья   \n",
       "vyurv46    05.08.2014    Статья   \n",
       "ipmp2988         None  Препринт   \n",
       "ipmp2939         None  Препринт   \n",
       "\n",
       "                                                  reference  \\\n",
       "vyurv213                                                      \n",
       "vyurv1                                                        \n",
       "vyurv46                                                       \n",
       "ipmp2988  С. В. Поляков, М. А. Трапезникова, А. Г. Чурба...   \n",
       "ipmp2939  Б. Г. Фрейнкман, С. В. Поляков, И. О. Толстов,...   \n",
       "\n",
       "                                                         by  \\\n",
       "vyurv213    А.~А.~Бондаренко, П.~А.~Ляхов, М.~В.~Якобовский   \n",
       "vyurv1                   А.~А.~Бондаренко, М.~В.~Якобовский   \n",
       "vyurv46                  А.~А.~Бондаренко, М.~В.~Якобовский   \n",
       "ipmp2988  С.~В.~Поляков, М.~А.~Трапезникова, А.~Г.~Чурба...   \n",
       "ipmp2939      Б.~Г.~Фрейнкман, С.~В.~Поляков, И.~О.~Толстов   \n",
       "\n",
       "                                                      paper  \\\n",
       "vyurv213  Координированное сохранение с журналированием ...   \n",
       "vyurv1    Моделирование отказов в высокопроизводительных...   \n",
       "vyurv46   Обеспечение отказоустойчивости высокопроизводи...   \n",
       "ipmp2988  Расчет несжимаемых течений в системе &lt;&lt;п...   \n",
       "ipmp2939  Расчет основного состояния электрона в неоднор...   \n",
       "\n",
       "                                            jour    yr   vol issue   pages  \n",
       "vyurv213  Вестн. ЮУрГУ. Сер. Выч. матем. информ.  2019     8     2  76--91  \n",
       "vyurv1    Вестн. ЮУрГУ. Сер. Выч. матем. информ.  2015     4     3   5--12  \n",
       "vyurv46   Вестн. ЮУрГУ. Сер. Выч. матем. информ.  2014     3     3  20--36  \n",
       "ipmp2988         Препринты ИПМ им.~М.~В.~Келдыша  2021  None  None    None  \n",
       "ipmp2939         Препринты ИПМ им.~М.~В.~Келдыша  2021  None  None    None  "
      ]
     },
     "execution_count": 19,
     "metadata": {},
     "output_type": "execute_result"
    }
   ],
   "source": [
    "pub.head()"
   ]
  },
  {
   "cell_type": "code",
   "execution_count": 20,
   "metadata": {},
   "outputs": [
    {
     "name": "stdout",
     "output_type": "stream",
     "text": [
      "dict_keys(['113970', '25339', '18171', '22428', '33430', '27667', '29400', '25875', '79709', '37981', '39797', '37852', '53732', '21356', '33208', '138102', '137773', '172205', '127546', '78977', '17922', '9086', '79683', '141571', '39234', '38434', '38371', '180503', '32577', '32578', '62383', '62384', '8657', '19297', '26325', '151447', '23102'])\n"
     ]
    }
   ],
   "source": [
    "print(audb.db.keys())"
   ]
  },
  {
   "cell_type": "code",
   "execution_count": 21,
   "metadata": {},
   "outputs": [],
   "source": [
    "# auths = []\n",
    "# for item in audb.db.values():\n",
    "#     print(type(item))\n",
    "#     auths.append(pd.DataFrame.from_dict(item,orient='index'))\n",
    "#     print(auths[-1].info())"
   ]
  },
  {
   "cell_type": "code",
   "execution_count": 22,
   "metadata": {},
   "outputs": [],
   "source": [
    "# for item in auths:\n",
    "#     print(type(item))\n",
    "#     print(item.head())"
   ]
  },
  {
   "cell_type": "markdown",
   "metadata": {},
   "source": [
    "# Look at papers without abstracts"
   ]
  },
  {
   "cell_type": "code",
   "execution_count": 23,
   "metadata": {},
   "outputs": [],
   "source": [
    "links_to_check = ['http://mi.mathnet.ru/'+mn_link for mn_link in absdb.db.index[absdb.db['abstract'].isnull()]]"
   ]
  },
  {
   "cell_type": "code",
   "execution_count": 24,
   "metadata": {},
   "outputs": [
    {
     "name": "stdout",
     "output_type": "stream",
     "text": [
      "year = 2003  link = http://mi.mathnet.ru/ivm238, name = Разностные схемы для~параболических уравнений на~треугольных сетках\n",
      "year = 1991  link = http://mi.mathnet.ru/de7543, name = Разностные схемы для задач абсорбционной бистабильности в~полупроводниках\n",
      "year = 1989  link = http://mi.mathnet.ru/de6914, name = Численные методы для задач стимулирования химических реакций в~газе световым импульсом\n",
      "year = 1997  link = http://mi.mathnet.ru/mm1370, name = Методика ускорения процесса решения линейной системы уравнений $\\alpha$-$\\beta$ метода\n",
      "year = 1992  link = http://mi.mathnet.ru/mm2044, name = О~моделировании задач радиационной газовой динамики на многопроцессорных вычислительных системах\n",
      "year = 1991  link = http://mi.mathnet.ru/de7540, name = Кинетически-согласованные разностные схемы в~криволинейных системах координат\n",
      "year = 1988  link = http://mi.mathnet.ru/dan48205, name = Метод расчета двумерных полупроводниковых структур в квазигидродинамическом приближении\n",
      "year = 1988  link = http://mi.mathnet.ru/de6606, name = Циклический вариант $\\alpha$-$\\beta$-итерационного алгоритма\n",
      "year = 1987  link = http://mi.mathnet.ru/dan48124, name = Использование квазигазодинамической системы уравнений для расчета обтекания тела с иглой\n",
      "year = 1986  link = http://mi.mathnet.ru/dan47567, name = Численное моделирование нестационарного нагрева плотной электронно-дырочной плазмы в двойных гетероструктурах\n",
      "year = 1986  link = http://mi.mathnet.ru/de5927, name = Моделирование сложных газодинамических течений на основе кинетических алгоритмов\n",
      "year = 1985  link = http://mi.mathnet.ru/de5577, name = Применение кинетического алгоритма для расчета газодинамических течений\n",
      "year = 1984  link = http://mi.mathnet.ru/dan46764, name = Об одном вычислительном алгоритме для расчета газодинамических течений\n",
      "year = 1983  link = http://mi.mathnet.ru/dan46313, name = Математическое моделирование испарения металла под действием электронного пучка\n",
      "year = 1981  link = http://mi.mathnet.ru/dan44336, name = О развитии низкотемпературной лазерной плазмы в азотной среде повышенного давления\n",
      "year = 1981  link = http://mi.mathnet.ru/dan44246, name = Численное исследование динамики лазерной плазмы вблизи твердой поверхности при высоком давлении окружающей среды\n",
      "year = 1979  link = http://mi.mathnet.ru/dan42793, name = Моделирование пробоя плотного молекулярного газа лазерным излучением вблизи металлической поверхности\n",
      "year = 1976  link = http://mi.mathnet.ru/dan39776, name = Импульсные излучающие разряды в инертных газах\n",
      "year = 1970  link = http://mi.mathnet.ru/dan35789, name = Эффективный метод решения уравнения переноса излучения в низкотемпературной плазме\n",
      "year = 2021  link = http://mi.mathnet.ru/mm4267, name = Памяти Николая Николаевича Калиткина\n",
      "year = 2018  link = http://mi.mathnet.ru/mm3935, name = Памяти Александра Сергеевича Холодова\n",
      "year = 2017  link = http://mi.mathnet.ru/crm91, name = Памяти Александра Сергеевича Холодова (11.10.1941 -- 05.11.2017)\n",
      "year = 2017  link = http://mi.mathnet.ru/svmo668, name = Юрий Николаевич Дерюгин~--- к семидесятилетию со дня рождения\n",
      "year = 2016  link = http://mi.mathnet.ru/mm3685, name = Памяти О.\\,М.~Белоцерковского\n",
      "year = 2016  link = http://mi.mathnet.ru/zvmmf10413, name = Памяти академика Российской академии наук Олега Михайловича Белоцерковского\n",
      "year = 2016  link = http://mi.mathnet.ru/zvmmf10334, name = Памяти профессора Алексея Владимировича Гулина (26.03.1942--27.03.2015)\n",
      "year = 2015  link = http://mi.mathnet.ru/mm3614, name = Международная молодежная конференция &lt;&lt;Современные проблемы прикладной математики и информатики&gt;&gt;\n",
      "year = 2015  link = http://mi.mathnet.ru/umn9676, name = Виктор Соломонович Рябенький и его школа (к девяностолетию со\n",
      "year = 2015  link = http://mi.mathnet.ru/umn9689, name = Александр Иванович Аптекарев (к 60-летию со дня рождения)\n",
      "year = 2015  link = http://mi.mathnet.ru/zvmmf10243, name = К 75-летию со дня рождения профессора Антона Павловича Фаворского\n",
      "year = 2014  link = http://mi.mathnet.ru/mm3502, name = Памяти В.\\,Я.~Гольдина\n",
      "year = 2011  link = http://mi.mathnet.ru/umn9408, name = М.\\,В.~Келдыш~-- ученый и~государственный деятель (к столетию со дня рождения)\n",
      "year = 2011  link = http://mi.mathnet.ru/zvmmf9535, name = Академик М.\\,В.~Келдыш и вычислительная математика (к столетию со дня рождения)\n",
      "year = 2010  link = http://mi.mathnet.ru/zvmmf4929, name = Памяти Радия Петровича Федоренко (1930--2010)\n",
      "year = 2009  link = http://mi.mathnet.ru/zvmmf4729, name = Алексей Валериевич Забродин (1933--2008)\n",
      "year = 2005  link = http://mi.mathnet.ru/de11271, name = Сергей Павлович Курдюмов\n",
      "year = 2005  link = http://mi.mathnet.ru/de11270, name = Вячеслав Николаевич Абрашин\n",
      "year = 2005  link = http://mi.mathnet.ru/umn1438, name = О~работе Международной конференции по~избранным вопросам современной математики\n",
      "year = 2005  link = http://mi.mathnet.ru/zvmmf661, name = Сергей Павлович Курдюмов (1928--2004)\n",
      "year = 2001  link = http://mi.mathnet.ru/de10370, name = К~шестидесятилетию Юрия Петровича Попова\n",
      "year = 2001  link = http://mi.mathnet.ru/mm810, name = Виталий Ефимович Трощиев (к~семидесятилетию со дня рождения)\n",
      "year = 2001  link = http://mi.mathnet.ru/mm801, name = Соболь Илья Меерович (к~семидесятипятилетию со~дня рождения)\n",
      "year = 1988  link = http://mi.mathnet.ru/de6592, name = Прямое численное моделирование задачи Блазиуса\n",
      "year = 1980  link = http://mi.mathnet.ru/dan43509, name = О восстановлении волнового фронта объекта по его дифракционной картине\n",
      "year = 1976  link = http://mi.mathnet.ru/dan40511, name = Предварительные результаты прямых измерений лучистых потоков от Солнца в атмосфере и на поверхности планеты Венера со спускаемых аппаратов автоматических межпланетных станций ``Венера-9'' и ``Венера-10''\n",
      "year = 1976  link = http://mi.mathnet.ru/dan40463, name = Скорость ветра на поверхности Венеры по данным анемометрических измерений на межпланетных \n",
      "year = 1974  link = http://mi.mathnet.ru/dan38358, name = Исследование закономерностей развития течения в системе вязких недорасширенных сверхзвуковых струй\n",
      "year = 1973  link = http://mi.mathnet.ru/dan37704, name = Результаты прямых измерений освещенности в атмосфере и на поверхности планеты Венера при полете AMС ``Венера-8''\n",
      "year = 1973  link = http://mi.mathnet.ru/dan37684, name = Измерения температуры, давления и скорости ветра в атмосфере Венеры на автоматической межпланетной станции ``Венера-8''\n",
      "year = 1971  link = http://mi.mathnet.ru/dan36029, name = Влияние вязкости на течение в начальном участке сильно недорасширенной струи\n",
      "year = 1971  link = http://mi.mathnet.ru/dan35959, name = Теплофизические свойства лунного вещества, доставленного АМС ``Луна-16''\n",
      "year = 1968  link = http://mi.mathnet.ru/dan33733, name = Температура, давление и плотность атмосферы Венеры по данным измерений автоматической\n",
      "year = 1984  link = http://mi.mathnet.ru/dan46497, name = Баллистические аспекты исследования комет\n",
      "year = 1983  link = http://mi.mathnet.ru/dan46323, name = Теория движения кометы Галлея\n",
      "year = 1978  link = http://mi.mathnet.ru/dan41742, name = Определение динамического сжатия Венеры по измерениям траектории движения ее первых искусственных\n",
      "year = 1977  link = http://mi.mathnet.ru/dan41080, name = Модель гравитационного поля Луны по наблюдениям за движением ее искусственных спутников ``Луна-10, 12, 14, 19 и 22''\n",
      "year = 1977  link = http://mi.mathnet.ru/dan40372, name = Численная теория движения Земли и Венеры по данным радиолокационных, оптических наблюдений и наблюдений \n",
      "year = 1971  link = http://mi.mathnet.ru/dan36554, name = Уточнение масс Земли и Луны по наблюдениям за движением удаляющихся от Земли автоматических межпланетных\n",
      "year = 1966  link = http://mi.mathnet.ru/dan32601, name = Определение поля тяготения Луны по движению искусственного спутника Луны ``Луна-10''\n",
      "year = 1961  link = http://mi.mathnet.ru/dan25037, name = Производящая функция для коэффициентов Клебша--Гордана\n",
      "year = 1957  link = http://mi.mathnet.ru/dan21638, name = Матричные элементы неприводимых унитарных представлений группы евклидовых движений трехмерного \n",
      "year = 2006  link = http://mi.mathnet.ru/umn1749, name = Дмитрий Евгеньевич Охоцимский (некролог)\n",
      "year = 2006  link = http://mi.mathnet.ru/zvmmf389, name = Памяти академика Дмитрия Евгеньевича Охоцимского (1921--2005)\n",
      "year = 1999  link = http://mi.mathnet.ru/umn223, name = Инварианты для гамильтонианов и~кинетических уравнений\n",
      "year = 2008  link = http://mi.mathnet.ru/mmkz1151, name = Разработка программного комплекса для проведения олимпиад по программированию в Internet\n",
      "year = 2008  link = http://mi.mathnet.ru/mmkz1150, name = Разработка программной платформы для адаптации IT-сервисов к использованию в системе обмена мгновенными сообщениями JABBER\n",
      "year = 2007  link = http://mi.mathnet.ru/mmkz931, name = Автоматизированная информационная система проверки задач по программированию &lt;&lt;Dudge&gt;&gt;\n",
      "year = 2007  link = http://mi.mathnet.ru/mmkz930, name = Программный комплекс для захвата, обработки, хранения, передачи и воспроизведения трехмерной графической информации &lt;&lt;TeleEdge&gt;&gt;\n",
      "year = 1980  link = http://mi.mathnet.ru/de3963, name = Асимптотическая оценка погрешности вычисления сепаратрисы системы двух обыкновенных \n",
      "year = 1993  link = http://mi.mathnet.ru/de8253, name = Асимптотическое поведение решений второй краевой задачи для нелинейных параболических уравнений\n",
      "year = 1991  link = http://mi.mathnet.ru/ivm5128, name = Гладкость обобщенных решений некоторых уравнений смешанного типа с разрывными коэффициентами\n",
      "year = 1987  link = http://mi.mathnet.ru/ivm7739, name = О гладкости решений параболических уравнений второго порядка с~разрывными коэффициентами\n",
      "year = 1985  link = http://mi.mathnet.ru/de5704, name = Эллиптические задачи с~разрывными коэффициентами в~граничных операторах\n",
      "year = 1989  link = http://mi.mathnet.ru/dan7272, name = О спектральном подходе к построению алгоритмов локальной регуляризации\n",
      "year = 1985  link = http://mi.mathnet.ru/dan8822, name = Задача нелинейного программирования с убывающей функцией затрат и алгоритм последовательного минимального увеличения\n",
      "year = 1985  link = http://mi.mathnet.ru/dan8913, name = О построении регуляризирующих операторов, близких к оптимальному, для одномерных и многомерных интегральных уравнений I рода типа свертки\n",
      "year = 1985  link = http://mi.mathnet.ru/dan46951, name = О проблемно-ориентированных системах обработки экспериментальных данных\n",
      "year = 1985  link = http://mi.mathnet.ru/de5465, name = Об одном способе регуляризации сингулярных интегральных уравнений первого рода\n",
      "year = 1984  link = http://mi.mathnet.ru/dan46486, name = О постановке и приближенном решении некоторых обратных задач ЯМР-интроскопии\n",
      "year = 1982  link = http://mi.mathnet.ru/dan45209, name = О решении проблемы восстановления изображения в я.м.р. томографии\n",
      "year = 1982  link = http://mi.mathnet.ru/de4596, name = О~численных методах решения некоторых двухмерных линейных и нелинейных задач для уравнений \n",
      "year = 1982  link = http://mi.mathnet.ru/zvmmf8698, name = О расчете электромагнитных полей от нестационарного источника гамма-квантов в самосогласованной модели\n",
      "year = 1981  link = http://mi.mathnet.ru/dan44952, name = О расходимости излучения в мощных лазерных усилителях на активных элементах прямоугольного сечения\n",
      "year = 1981  link = http://mi.mathnet.ru/de4371, name = О~решении одной задачи Коши для уравнений Максвелла в~самосогласованной сферически симметричной модели\n",
      "year = 1980  link = http://mi.mathnet.ru/de4029, name = О~расчете импульсных функций трасс распространения радиоимпульсов с~отражением от \n",
      "year = 1976  link = http://mi.mathnet.ru/umn4010, name = О~некорректно поставленных задачах\n",
      "year = 1969  link = http://mi.mathnet.ru/zvmmf7065, name = О применении метода регуляризации к интегральным уравнениям I~рода типа свертки\n",
      "year = 1968  link = http://mi.mathnet.ru/dan34240, name = Об оптимальном суммировании рядов Фурье с приближенными коэффициентами\n",
      "year = 1968  link = http://mi.mathnet.ru/dan34081, name = Об оптимальной регуляризации\n",
      "year = 1968  link = http://mi.mathnet.ru/zvmmf7247, name = О влиянии регуляризации $p$-го порядка\n",
      "year = 1968  link = http://mi.mathnet.ru/zvmmf7271, name = О решении некоторых интегральных уравнений I~рода типа свертки методом регуляризации\n",
      "year = 1965  link = http://mi.mathnet.ru/zvmmf7519, name = О разрывных решениях уравнений первого рода\n",
      "year = 1964  link = http://mi.mathnet.ru/msb4493, name = О~некоторых нелинейных функционалах\n",
      "year = 1961  link = http://mi.mathnet.ru/zvmmf8021, name = О~численном решении уравнений газодинамики с~ различными типами вязкости\n",
      "year = 1950  link = http://mi.mathnet.ru/umn8473, name = Теория $A$-множеств\n",
      "year = 1980  link = http://mi.mathnet.ru/umn3904, name = Конференция по некорректно поставленным задачам\n"
     ]
    }
   ],
   "source": [
    "for link, slink in zip(links_to_check, absdb.db.index[absdb.db['abstract'].isnull()]):    \n",
    "    print(f\"year = {pub.loc[slink,'yr']}  link = {link}, name = {pub.loc[slink,'paper']}\")\n"
   ]
  },
  {
   "cell_type": "code",
   "execution_count": null,
   "metadata": {},
   "outputs": [],
   "source": []
  }
 ],
 "metadata": {
  "interpreter": {
   "hash": "58602d8dccd692fa32abd17425fd5d45fcdd50ad23d8d4cc69f0d11e0a82e605"
  },
  "kernelspec": {
   "display_name": "Python 3.10.4 ('mynetscrap': venv)",
   "language": "python",
   "name": "python3"
  },
  "language_info": {
   "codemirror_mode": {
    "name": "ipython",
    "version": 3
   },
   "file_extension": ".py",
   "mimetype": "text/x-python",
   "name": "python",
   "nbconvert_exporter": "python",
   "pygments_lexer": "ipython3",
   "version": "3.10.4"
  },
  "orig_nbformat": 4
 },
 "nbformat": 4,
 "nbformat_minor": 2
}
