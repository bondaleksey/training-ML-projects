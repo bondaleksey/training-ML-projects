{
 "cells": [
  {
   "cell_type": "code",
   "execution_count": 8,
   "metadata": {},
   "outputs": [],
   "source": [
    "import pandas as pd"
   ]
  },
  {
   "cell_type": "markdown",
   "metadata": {},
   "source": [
    "# EDA"
   ]
  },
  {
   "cell_type": "code",
   "execution_count": 9,
   "metadata": {},
   "outputs": [],
   "source": [
    "from data_types import Author, AuthorsDB\n",
    "from data_types import Publication, PublicationsDB\n",
    "from data_types import Abstract, AbstractsDB\n",
    "audb = AuthorsDB()\n",
    "audb.load()\n",
    "pubdb = PublicationsDB()\n",
    "pubdb.load()\n",
    "absdb = AbstractsDB()\n",
    "absdb.load()\n"
   ]
  },
  {
   "cell_type": "code",
   "execution_count": 10,
   "metadata": {},
   "outputs": [
    {
     "name": "stdout",
     "output_type": "stream",
     "text": [
      "42\n",
      "139\n"
     ]
    }
   ],
   "source": [
    "print((absdb.db['abstract'].isnull()).sum())\n",
    "print((absdb.db['keywords'].isnull()).sum())"
   ]
  },
  {
   "cell_type": "code",
   "execution_count": 11,
   "metadata": {},
   "outputs": [
    {
     "name": "stdout",
     "output_type": "stream",
     "text": [
      "abstract     42\n",
      "keywords    139\n",
      "dtype: int64\n"
     ]
    }
   ],
   "source": [
    "print((absdb.db.isnull()).sum())"
   ]
  },
  {
   "cell_type": "code",
   "execution_count": 12,
   "metadata": {},
   "outputs": [
    {
     "name": "stdout",
     "output_type": "stream",
     "text": [
      "<class 'pandas.core.frame.DataFrame'>\n",
      "Index: 228 entries, vyurv213 to mm2126\n",
      "Data columns (total 2 columns):\n",
      " #   Column    Non-Null Count  Dtype \n",
      "---  ------    --------------  ----- \n",
      " 0   abstract  186 non-null    object\n",
      " 1   keywords  89 non-null     object\n",
      "dtypes: object(2)\n",
      "memory usage: 5.3+ KB\n"
     ]
    }
   ],
   "source": [
    "absdb.db.info()"
   ]
  },
  {
   "cell_type": "code",
   "execution_count": 15,
   "metadata": {},
   "outputs": [],
   "source": [
    "pub = pd.DataFrame.from_dict(pubdb.db,orient='index')"
   ]
  },
  {
   "cell_type": "code",
   "execution_count": 16,
   "metadata": {},
   "outputs": [
    {
     "data": {
      "text/html": [
       "<div>\n",
       "<style scoped>\n",
       "    .dataframe tbody tr th:only-of-type {\n",
       "        vertical-align: middle;\n",
       "    }\n",
       "\n",
       "    .dataframe tbody tr th {\n",
       "        vertical-align: top;\n",
       "    }\n",
       "\n",
       "    .dataframe thead th {\n",
       "        text-align: right;\n",
       "    }\n",
       "</style>\n",
       "<table border=\"1\" class=\"dataframe\">\n",
       "  <thead>\n",
       "    <tr style=\"text-align: right;\">\n",
       "      <th></th>\n",
       "      <th>author_id</th>\n",
       "      <th>doi</th>\n",
       "      <th>udk</th>\n",
       "      <th>send</th>\n",
       "      <th>type</th>\n",
       "      <th>reference</th>\n",
       "      <th>by</th>\n",
       "      <th>paper</th>\n",
       "      <th>jour</th>\n",
       "      <th>yr</th>\n",
       "      <th>vol</th>\n",
       "      <th>issue</th>\n",
       "      <th>pages</th>\n",
       "    </tr>\n",
       "  </thead>\n",
       "  <tbody>\n",
       "    <tr>\n",
       "      <th>vyurv213</th>\n",
       "      <td>[113970, 148811, 22428]</td>\n",
       "      <td>&lt;a class=\"SLink\" href=\"https://doi.org/10.1452...</td>\n",
       "      <td>004.052.3</td>\n",
       "      <td>20.11.2018</td>\n",
       "      <td>Статья</td>\n",
       "      <td></td>\n",
       "      <td>А.~А.~Бондаренко, П.~А.~Ляхов, М.~В.~Якобовский</td>\n",
       "      <td>Координированное сохранение с журналированием ...</td>\n",
       "      <td>Вестн. ЮУрГУ. Сер. Выч. матем. информ.</td>\n",
       "      <td>2019</td>\n",
       "      <td>8</td>\n",
       "      <td>2</td>\n",
       "      <td>76--91</td>\n",
       "    </tr>\n",
       "    <tr>\n",
       "      <th>vyurv1</th>\n",
       "      <td>[113970, 22428]</td>\n",
       "      <td>&lt;a class=\"SLink\" href=\"https://doi.org/10.1452...</td>\n",
       "      <td>004.052.3</td>\n",
       "      <td>13.04.2015</td>\n",
       "      <td>Статья</td>\n",
       "      <td></td>\n",
       "      <td>А.~А.~Бондаренко, М.~В.~Якобовский</td>\n",
       "      <td>Моделирование отказов в высокопроизводительных...</td>\n",
       "      <td>Вестн. ЮУрГУ. Сер. Выч. матем. информ.</td>\n",
       "      <td>2015</td>\n",
       "      <td>4</td>\n",
       "      <td>3</td>\n",
       "      <td>5--12</td>\n",
       "    </tr>\n",
       "    <tr>\n",
       "      <th>vyurv46</th>\n",
       "      <td>[113970, 22428]</td>\n",
       "      <td>None</td>\n",
       "      <td>004.052.3</td>\n",
       "      <td>05.08.2014</td>\n",
       "      <td>Статья</td>\n",
       "      <td></td>\n",
       "      <td>А.~А.~Бондаренко, М.~В.~Якобовский</td>\n",
       "      <td>Обеспечение отказоустойчивости высокопроизводи...</td>\n",
       "      <td>Вестн. ЮУрГУ. Сер. Выч. матем. информ.</td>\n",
       "      <td>2014</td>\n",
       "      <td>3</td>\n",
       "      <td>3</td>\n",
       "      <td>20--36</td>\n",
       "    </tr>\n",
       "    <tr>\n",
       "      <th>ipmp2988</th>\n",
       "      <td>[25339, 26426, 31779, 26427]</td>\n",
       "      <td>:https://doi.org/10.20948/prepr-2021-71</td>\n",
       "      <td>None</td>\n",
       "      <td>None</td>\n",
       "      <td>Препринт</td>\n",
       "      <td>С. В. Поляков, М. А. Трапезникова, А. Г. Чурба...</td>\n",
       "      <td>С.~В.~Поляков, М.~А.~Трапезникова, А.~Г.~Чурба...</td>\n",
       "      <td>Расчет несжимаемых течений в системе &amp;lt;&amp;lt;п...</td>\n",
       "      <td>Препринты ИПМ им.~М.~В.~Келдыша</td>\n",
       "      <td>2021</td>\n",
       "      <td>None</td>\n",
       "      <td>None</td>\n",
       "      <td>None</td>\n",
       "    </tr>\n",
       "    <tr>\n",
       "      <th>ipmp2939</th>\n",
       "      <td>[101245, 25339, 163334]</td>\n",
       "      <td>:https://doi.org/10.20948/prepr-2021-21</td>\n",
       "      <td>None</td>\n",
       "      <td>None</td>\n",
       "      <td>Препринт</td>\n",
       "      <td>Б. Г. Фрейнкман, С. В. Поляков, И. О. Толстов,...</td>\n",
       "      <td>Б.~Г.~Фрейнкман, С.~В.~Поляков, И.~О.~Толстов</td>\n",
       "      <td>Расчет основного состояния электрона в неоднор...</td>\n",
       "      <td>Препринты ИПМ им.~М.~В.~Келдыша</td>\n",
       "      <td>2021</td>\n",
       "      <td>None</td>\n",
       "      <td>None</td>\n",
       "      <td>None</td>\n",
       "    </tr>\n",
       "  </tbody>\n",
       "</table>\n",
       "</div>"
      ],
      "text/plain": [
       "                             author_id  \\\n",
       "vyurv213       [113970, 148811, 22428]   \n",
       "vyurv1                 [113970, 22428]   \n",
       "vyurv46                [113970, 22428]   \n",
       "ipmp2988  [25339, 26426, 31779, 26427]   \n",
       "ipmp2939       [101245, 25339, 163334]   \n",
       "\n",
       "                                                        doi        udk  \\\n",
       "vyurv213  <a class=\"SLink\" href=\"https://doi.org/10.1452...  004.052.3   \n",
       "vyurv1    <a class=\"SLink\" href=\"https://doi.org/10.1452...  004.052.3   \n",
       "vyurv46                                                None  004.052.3   \n",
       "ipmp2988            :https://doi.org/10.20948/prepr-2021-71       None   \n",
       "ipmp2939            :https://doi.org/10.20948/prepr-2021-21       None   \n",
       "\n",
       "                 send      type  \\\n",
       "vyurv213   20.11.2018    Статья   \n",
       "vyurv1     13.04.2015    Статья   \n",
       "vyurv46    05.08.2014    Статья   \n",
       "ipmp2988         None  Препринт   \n",
       "ipmp2939         None  Препринт   \n",
       "\n",
       "                                                  reference  \\\n",
       "vyurv213                                                      \n",
       "vyurv1                                                        \n",
       "vyurv46                                                       \n",
       "ipmp2988  С. В. Поляков, М. А. Трапезникова, А. Г. Чурба...   \n",
       "ipmp2939  Б. Г. Фрейнкман, С. В. Поляков, И. О. Толстов,...   \n",
       "\n",
       "                                                         by  \\\n",
       "vyurv213    А.~А.~Бондаренко, П.~А.~Ляхов, М.~В.~Якобовский   \n",
       "vyurv1                   А.~А.~Бондаренко, М.~В.~Якобовский   \n",
       "vyurv46                  А.~А.~Бондаренко, М.~В.~Якобовский   \n",
       "ipmp2988  С.~В.~Поляков, М.~А.~Трапезникова, А.~Г.~Чурба...   \n",
       "ipmp2939      Б.~Г.~Фрейнкман, С.~В.~Поляков, И.~О.~Толстов   \n",
       "\n",
       "                                                      paper  \\\n",
       "vyurv213  Координированное сохранение с журналированием ...   \n",
       "vyurv1    Моделирование отказов в высокопроизводительных...   \n",
       "vyurv46   Обеспечение отказоустойчивости высокопроизводи...   \n",
       "ipmp2988  Расчет несжимаемых течений в системе &lt;&lt;п...   \n",
       "ipmp2939  Расчет основного состояния электрона в неоднор...   \n",
       "\n",
       "                                            jour    yr   vol issue   pages  \n",
       "vyurv213  Вестн. ЮУрГУ. Сер. Выч. матем. информ.  2019     8     2  76--91  \n",
       "vyurv1    Вестн. ЮУрГУ. Сер. Выч. матем. информ.  2015     4     3   5--12  \n",
       "vyurv46   Вестн. ЮУрГУ. Сер. Выч. матем. информ.  2014     3     3  20--36  \n",
       "ipmp2988         Препринты ИПМ им.~М.~В.~Келдыша  2021  None  None    None  \n",
       "ipmp2939         Препринты ИПМ им.~М.~В.~Келдыша  2021  None  None    None  "
      ]
     },
     "execution_count": 16,
     "metadata": {},
     "output_type": "execute_result"
    }
   ],
   "source": [
    "pub.head()"
   ]
  },
  {
   "cell_type": "code",
   "execution_count": 32,
   "metadata": {},
   "outputs": [
    {
     "name": "stdout",
     "output_type": "stream",
     "text": [
      "<class 'dict'>\n",
      "<class 'pandas.core.frame.DataFrame'>\n",
      "Index: 3 entries, vyurv213 to vyurv46\n",
      "Data columns (total 2 columns):\n",
      " #   Column  Non-Null Count  Dtype \n",
      "---  ------  --------------  ----- \n",
      " 0   year    3 non-null      object\n",
      " 1   nrf     3 non-null      int64 \n",
      "dtypes: int64(1), object(1)\n",
      "memory usage: 72.0+ bytes\n",
      "None\n",
      "<class 'dict'>\n",
      "<class 'pandas.core.frame.DataFrame'>\n",
      "Index: 48 entries, ipmp2988 to de6914\n",
      "Data columns (total 2 columns):\n",
      " #   Column  Non-Null Count  Dtype \n",
      "---  ------  --------------  ----- \n",
      " 0   year    48 non-null     object\n",
      " 1   nrf     48 non-null     int64 \n",
      "dtypes: int64(1), object(1)\n",
      "memory usage: 1.1+ KB\n",
      "None\n",
      "<class 'dict'>\n",
      "<class 'pandas.core.frame.DataFrame'>\n",
      "Index: 166 entries, mm4359 to mm1883\n",
      "Data columns (total 2 columns):\n",
      " #   Column  Non-Null Count  Dtype \n",
      "---  ------  --------------  ----- \n",
      " 0   year    166 non-null    object\n",
      " 1   nrf     166 non-null    int64 \n",
      "dtypes: int64(1), object(1)\n",
      "memory usage: 3.9+ KB\n",
      "None\n",
      "<class 'dict'>\n",
      "<class 'pandas.core.frame.DataFrame'>\n",
      "Index: 22 entries, ipmp2890 to mm3935\n",
      "Data columns (total 2 columns):\n",
      " #   Column  Non-Null Count  Dtype \n",
      "---  ------  --------------  ----- \n",
      " 0   year    22 non-null     object\n",
      " 1   nrf     22 non-null     int64 \n",
      "dtypes: int64(1), object(1)\n",
      "memory usage: 528.0+ bytes\n",
      "None\n"
     ]
    }
   ],
   "source": [
    "auths = []\n",
    "for item in audb.db.values():\n",
    "    print(type(item))\n",
    "    auths.append(pd.DataFrame.from_dict(item,orient='index'))\n",
    "    print(auths[-1].info())"
   ]
  },
  {
   "cell_type": "code",
   "execution_count": 29,
   "metadata": {},
   "outputs": [
    {
     "name": "stdout",
     "output_type": "stream",
     "text": [
      "<class 'pandas.core.frame.DataFrame'>\n",
      "          year  nrf\n",
      "vyurv213  2019    2\n",
      "vyurv1    2015    2\n",
      "vyurv46   2014    4\n",
      "<class 'pandas.core.frame.DataFrame'>\n",
      "          year  nrf\n",
      "ipmp2988  2021    6\n",
      "ipmp2939  2021    6\n",
      "mm4253    2021    2\n",
      "danma122  2020    9\n",
      "vmp992    2020    2\n",
      "<class 'pandas.core.frame.DataFrame'>\n",
      "         year  nrf\n",
      "mm4359   2022    2\n",
      "mm4260   2021    2\n",
      "danma95  2020    9\n",
      "danma61  2020    9\n",
      "danma29  2020    9\n",
      "<class 'pandas.core.frame.DataFrame'>\n",
      "          year  nrf\n",
      "ipmp2890  2020    6\n",
      "mm4175    2020    2\n",
      "vyurv213  2019    2\n",
      "ipmp2502  2018    6\n",
      "ipmp2468  2018    6\n"
     ]
    }
   ],
   "source": [
    "for item in auths:\n",
    "    print(type(item))\n",
    "    print(item.head())"
   ]
  },
  {
   "cell_type": "markdown",
   "metadata": {},
   "source": [
    "# Look at papers without abstracts"
   ]
  },
  {
   "cell_type": "code",
   "execution_count": 40,
   "metadata": {},
   "outputs": [],
   "source": [
    "links_to_check = ['http://mi.mathnet.ru/'+mn_link for mn_link in absdb.db.index[absdb.db['abstract'].isnull()]]\n"
   ]
  },
  {
   "cell_type": "code",
   "execution_count": 56,
   "metadata": {},
   "outputs": [
    {
     "name": "stdout",
     "output_type": "stream",
     "text": [
      "year = 2003  link = http://mi.mathnet.ru/ivm238, name = Разностные схемы для~параболических уравнений на~треугольных сетках\n",
      "year = 1991  link = http://mi.mathnet.ru/de7543, name = Разностные схемы для задач абсорбционной бистабильности в~полупроводниках\n",
      "year = 1989  link = http://mi.mathnet.ru/de6914, name = Численные методы для задач стимулирования химических реакций в~газе световым импульсом\n",
      "year = 1997  link = http://mi.mathnet.ru/mm1370, name = Методика ускорения процесса решения линейной системы уравнений $\\alpha$-$\\beta$ метода\n",
      "year = 1992  link = http://mi.mathnet.ru/mm2044, name = О~моделировании задач радиационной газовой динамики на многопроцессорных вычислительных системах\n",
      "year = 1991  link = http://mi.mathnet.ru/de7540, name = Кинетически-согласованные разностные схемы в~криволинейных системах координат\n",
      "year = 1988  link = http://mi.mathnet.ru/dan48205, name = Метод расчета двумерных полупроводниковых структур в квазигидродинамическом приближении\n",
      "year = 1988  link = http://mi.mathnet.ru/de6606, name = Циклический вариант $\\alpha$-$\\beta$-итерационного алгоритма\n",
      "year = 1987  link = http://mi.mathnet.ru/dan48124, name = Использование квазигазодинамической системы уравнений для расчета обтекания тела с иглой\n",
      "year = 1986  link = http://mi.mathnet.ru/dan47567, name = Численное моделирование нестационарного нагрева плотной электронно-дырочной плазмы в двойных гетероструктурах\n",
      "year = 1986  link = http://mi.mathnet.ru/de5927, name = Моделирование сложных газодинамических течений на основе кинетических алгоритмов\n",
      "year = 1985  link = http://mi.mathnet.ru/de5577, name = Применение кинетического алгоритма для расчета газодинамических течений\n",
      "year = 1984  link = http://mi.mathnet.ru/dan46764, name = Об одном вычислительном алгоритме для расчета газодинамических течений\n",
      "year = 1983  link = http://mi.mathnet.ru/dan46313, name = Математическое моделирование испарения металла под действием электронного пучка\n",
      "year = 1981  link = http://mi.mathnet.ru/dan44336, name = О развитии низкотемпературной лазерной плазмы в азотной среде повышенного давления\n",
      "year = 1981  link = http://mi.mathnet.ru/dan44246, name = Численное исследование динамики лазерной плазмы вблизи твердой поверхности при высоком давлении окружающей среды\n",
      "year = 1979  link = http://mi.mathnet.ru/dan42793, name = Моделирование пробоя плотного молекулярного газа лазерным излучением вблизи металлической поверхности\n",
      "year = 1976  link = http://mi.mathnet.ru/dan39776, name = Импульсные излучающие разряды в инертных газах\n",
      "year = 1970  link = http://mi.mathnet.ru/dan35789, name = Эффективный метод решения уравнения переноса излучения в низкотемпературной плазме\n",
      "year = 2021  link = http://mi.mathnet.ru/mm4267, name = Памяти Николая Николаевича Калиткина\n",
      "year = 2018  link = http://mi.mathnet.ru/mm3935, name = Памяти Александра Сергеевича Холодова\n",
      "year = 2017  link = http://mi.mathnet.ru/crm91, name = Памяти Александра Сергеевича Холодова (11.10.1941 -- 05.11.2017)\n",
      "year = 2017  link = http://mi.mathnet.ru/svmo668, name = Юрий Николаевич Дерюгин~--- к семидесятилетию со дня рождения\n",
      "year = 2016  link = http://mi.mathnet.ru/mm3685, name = Памяти О.\\,М.~Белоцерковского\n",
      "year = 2016  link = http://mi.mathnet.ru/zvmmf10413, name = Памяти академика Российской академии наук Олега Михайловича Белоцерковского\n",
      "year = 2016  link = http://mi.mathnet.ru/zvmmf10334, name = Памяти профессора Алексея Владимировича Гулина (26.03.1942--27.03.2015)\n",
      "year = 2015  link = http://mi.mathnet.ru/mm3614, name = Международная молодежная конференция &lt;&lt;Современные проблемы прикладной математики и информатики&gt;&gt;\n",
      "year = 2015  link = http://mi.mathnet.ru/umn9676, name = Виктор Соломонович Рябенький и его школа (к девяностолетию со\n",
      "year = 2015  link = http://mi.mathnet.ru/umn9689, name = Александр Иванович Аптекарев (к 60-летию со дня рождения)\n",
      "year = 2015  link = http://mi.mathnet.ru/zvmmf10243, name = К 75-летию со дня рождения профессора Антона Павловича Фаворского\n",
      "year = 2014  link = http://mi.mathnet.ru/mm3502, name = Памяти В.\\,Я.~Гольдина\n",
      "year = 2011  link = http://mi.mathnet.ru/umn9408, name = М.\\,В.~Келдыш~-- ученый и~государственный деятель (к столетию со дня рождения)\n",
      "year = 2011  link = http://mi.mathnet.ru/zvmmf9535, name = Академик М.\\,В.~Келдыш и вычислительная математика (к столетию со дня рождения)\n",
      "year = 2010  link = http://mi.mathnet.ru/zvmmf4929, name = Памяти Радия Петровича Федоренко (1930--2010)\n",
      "year = 2009  link = http://mi.mathnet.ru/zvmmf4729, name = Алексей Валериевич Забродин (1933--2008)\n",
      "year = 2005  link = http://mi.mathnet.ru/de11271, name = Сергей Павлович Курдюмов\n",
      "year = 2005  link = http://mi.mathnet.ru/de11270, name = Вячеслав Николаевич Абрашин\n",
      "year = 2005  link = http://mi.mathnet.ru/umn1438, name = О~работе Международной конференции по~избранным вопросам современной математики\n",
      "year = 2005  link = http://mi.mathnet.ru/zvmmf661, name = Сергей Павлович Курдюмов (1928--2004)\n",
      "year = 2001  link = http://mi.mathnet.ru/de10370, name = К~шестидесятилетию Юрия Петровича Попова\n",
      "year = 2001  link = http://mi.mathnet.ru/mm810, name = Виталий Ефимович Трощиев (к~семидесятилетию со дня рождения)\n",
      "year = 2001  link = http://mi.mathnet.ru/mm801, name = Соболь Илья Меерович (к~семидесятипятилетию со~дня рождения)\n"
     ]
    }
   ],
   "source": [
    "for link, slink in zip(links_to_check, absdb.db.index[absdb.db['abstract'].isnull()]):    \n",
    "    print(f\"year = {pub.loc[slink,'yr']}  link = {link}, name = {pub.loc[slink,'paper']}\")\n"
   ]
  },
  {
   "cell_type": "code",
   "execution_count": null,
   "metadata": {},
   "outputs": [],
   "source": []
  }
 ],
 "metadata": {
  "interpreter": {
   "hash": "58602d8dccd692fa32abd17425fd5d45fcdd50ad23d8d4cc69f0d11e0a82e605"
  },
  "kernelspec": {
   "display_name": "Python 3.10.4 ('mynetscrap': venv)",
   "language": "python",
   "name": "python3"
  },
  "language_info": {
   "codemirror_mode": {
    "name": "ipython",
    "version": 3
   },
   "file_extension": ".py",
   "mimetype": "text/x-python",
   "name": "python",
   "nbconvert_exporter": "python",
   "pygments_lexer": "ipython3",
   "version": "3.10.4"
  },
  "orig_nbformat": 4
 },
 "nbformat": 4,
 "nbformat_minor": 2
}
