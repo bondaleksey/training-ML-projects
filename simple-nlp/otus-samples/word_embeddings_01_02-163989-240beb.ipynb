{
  "cells": [
    {
      "cell_type": "markdown",
      "metadata": {
        "id": "KLTwYLGpQOYj"
      },
      "source": [
        "##  Векторные представления слов и документов\n",
        "\n",
        "\n",
        "1. word2vec – векторное представление слова\n",
        "2. как сделать вектор документа?\n",
        "    * усреднить все вектора слов\n",
        "    * усреднить все вектора слов с $tf-idf$ весами\n",
        "    * doc2vec\n",
        "3. fasttext – векторное представление $n$-грам\n",
        "\n"
      ]
    },
    {
      "cell_type": "markdown",
      "metadata": {
        "id": "MmIagkFlQOYn"
      },
      "source": [
        "## Векторные представления слов (word embeddings)"
      ]
    },
    {
      "cell_type": "markdown",
      "metadata": {
        "id": "utQkqI7CQOYn"
      },
      "source": [
        "Задача: получить представление слов $w_1,...,w_V \\in W$ в виде векторов линейного пространства $\\mathbb{R}^N$.\n"
      ]
    },
    {
      "cell_type": "markdown",
      "metadata": {
        "id": "h4KDGs7lQOYo"
      },
      "source": [
        "## word2Vec $-$ общая идея"
      ]
    },
    {
      "cell_type": "markdown",
      "metadata": {
        "id": "GlZlVmPQQOYo"
      },
      "source": [
        "Основная идея модели ****word2vec**** $-$  будем предсказывать вероятность слова по его окружению (контексту)."
      ]
    },
    {
      "cell_type": "markdown",
      "metadata": {
        "id": "NaDP45kMQOYo"
      },
      "source": [
        "\n",
        "По слову $w$ предсказываем слово $w'$\n",
        "\n",
        "\n",
        "$X$ – one-hot представление входного слова $w$\n",
        "\n",
        "$y_i =  p(w' = w_i)$\n",
        "\n",
        "$W = |V \\times N | $ – матрица весов между входным и скрытым слоем\n",
        "\n",
        "$h =x^T W$ – скрытый слой – выбирает одну строку из матрицы $W_{}$\n",
        "\n",
        "$W' = |N \\times V| $ – матрица весов между скрытым слоем и выходным   \n",
        "\n",
        "$u_j = W' h$  – выходной слой\n",
        "\n",
        "$p(w_j) = y_j = \\frac{exp(u_j)}{\\sum_i exp(u_i)} $ – искомая вероятность"
      ]
    },
    {
      "cell_type": "markdown",
      "metadata": {
        "id": "vlxYw5d4QOYp"
      },
      "source": [
        "## Модель CBOW (Continious bag of word)\n",
        "\n",
        "\n",
        "Идея: будем предсказывать слово по его контексту."
      ]
    },
    {
      "cell_type": "markdown",
      "metadata": {
        "id": "32cugNN2QOYq"
      },
      "source": [
        "Где:\n",
        "$X_i$ – one-hot представление входного слова $w_i$\n",
        " \n",
        "$W = |V \\times N | $ – матрица весов между входным и скрытым слоем\n",
        "\n",
        "$h =x^T W$ – скрытый слой – выбирает одну строку из матрицы $W_{}$\n",
        "\n",
        "$W' = |N \\times V| $ – матрица весов между скрытым слоем и выходным   \n",
        "\n",
        "$y_i =  p(w' = w_i)$ $-$ искомая вероятность встретить слово $w_i$ в контексте $x_{C_1}...x_{C_k}$ \n",
        "\n"
      ]
    },
    {
      "cell_type": "markdown",
      "metadata": {
        "id": "OEjLbcmjQOYq"
      },
      "source": [
        "## Модель Skip-gram"
      ]
    },
    {
      "cell_type": "markdown",
      "metadata": {
        "id": "RbWjqAhhQOYr"
      },
      "source": [
        "Идея: по слову $w_i$ будем предсказывать контекст слова. "
      ]
    },
    {
      "cell_type": "markdown",
      "metadata": {
        "id": "4dBIvZhmQOYr"
      },
      "source": [
        "На вход модели подается слово и слова, попавшие с ним в один контекст. \n",
        "![img](img/skip_gram_window.png)"
      ]
    },
    {
      "cell_type": "markdown",
      "metadata": {
        "id": "YlYvKLVgQOYs"
      },
      "source": [
        "Где:\n",
        "$X_k$ – one-hot представление входного слова $w$\n",
        " \n",
        "$W = |V \\times N | $ – матрица весов между входным и скрытым слоем\n",
        "\n",
        "$h =x^T W$ – скрытый слой – выбирает одну строку из матрицы $W_{}$\n",
        "\n",
        "$W' = |N \\times V| $ – матрица весов между скрытым слоем и выходным   \n",
        "\n",
        "$y_i =  p(w' = w_i)$ $-$ искомая вероятность встретить слово $w_i$ в одном контексте со словом $X_k$ "
      ]
    },
    {
      "cell_type": "markdown",
      "metadata": {
        "id": "g5eGQZDUQOYs"
      },
      "source": [
        "Векторные представления слов $-$ строки матрицы весов нейронной сети."
      ]
    },
    {
      "cell_type": "code",
      "execution_count": 1,
      "metadata": {
        "id": "EZGM_F0GQOYs"
      },
      "outputs": [],
      "source": [
        "import pandas as pd\n",
        "import matplotlib.pyplot as plt\n",
        "import seaborn as sns\n",
        "import random\n",
        "import numpy as np\n",
        "from sklearn.metrics import *\n",
        "from sklearn.feature_extraction.text import *\n",
        "from sklearn.model_selection import train_test_split\n",
        "from collections import Counter, defaultdict\n",
        "import warnings\n",
        "warnings.filterwarnings('ignore')\n",
        "random.seed(1228)\n",
        "\n",
        "%matplotlib inline"
      ]
    },
    {
      "cell_type": "markdown",
      "metadata": {
        "collapsed": true,
        "id": "LdfqGeKjQOYu"
      },
      "source": [
        "Скачиваем куски датасета твитов ([источник](http://study.mokoron.com/)): [положительные](https://www.dropbox.com/s/fnpq3z4bcnoktiv/positive.csv?dl=0), [отрицательные](https://www.dropbox.com/s/ilkte35m35l38mr/negative.sql)."
      ]
    },
    {
      "cell_type": "markdown",
      "metadata": {
        "id": "Vw7o9iRiQOYu"
      },
      "source": [
        "Загружаем лемматизированные статьи без стоп-слов и создаем массив текстов"
      ]
    },
    {
      "cell_type": "code",
      "execution_count": 2,
      "metadata": {
        "colab": {
          "base_uri": "https://localhost:8080/"
        },
        "id": "OxHzGwVSQOYu",
        "outputId": "a1ca0429-0867-4d37-a3c8-03ae68f32860"
      },
      "outputs": [
        {
          "output_type": "stream",
          "name": "stderr",
          "text": [
            "Installing mystem to /root/.local/bin/mystem from http://download.cdn.yandex.net/mystem/mystem-3.1-linux-64bit.tar.gz\n"
          ]
        }
      ],
      "source": [
        "from pymystem3 import Mystem\n",
        "import re\n",
        "\n",
        "\n",
        "m = Mystem()\n",
        "\n",
        "\n",
        "regex = re.compile(\"[А-Яа-я:=!\\)\\()A-z\\_\\%/|]+\")\n",
        "\n",
        "def words_only(text, regex=regex):\n",
        "    try:\n",
        "        return \" \".join(regex.findall(text))\n",
        "    except:\n",
        "        return \"\"\n",
        "\n",
        "\n",
        "\n",
        "def lemmatize(text, mystem=m):\n",
        "    try:\n",
        "        return \"\".join(m.lemmatize(text)).strip()  \n",
        "    except:\n",
        "        return \" \"\n"
      ]
    },
    {
      "cell_type": "code",
      "execution_count": 3,
      "metadata": {
        "colab": {
          "base_uri": "https://localhost:8080/",
          "height": 35
        },
        "id": "4WgwUfAJQOYv",
        "outputId": "153c18a0-f87b-4c52-a467-ceb794edf799"
      },
      "outputs": [
        {
          "output_type": "execute_result",
          "data": {
            "application/vnd.google.colaboratory.intrinsic+json": {
              "type": "string"
            },
            "text/plain": [
              "'g iuhoikl kjh h одлжд'"
            ]
          },
          "metadata": {},
          "execution_count": 3
        }
      ],
      "source": [
        "import re\n",
        "\n",
        "\n",
        "\n",
        "\n",
        "regex = re.compile(\"[А-Яа-яA-Za-z-]+\")\n",
        "\n",
        "def words_only(text, regex=regex):\n",
        "    try:\n",
        "        return \" \".join(regex.findall(text))\n",
        "    except:\n",
        "        return \"\"\n",
        "\n",
        "words_only('g;iuhoikl 7.kjh 87h одлжд ')"
      ]
    },
    {
      "cell_type": "code",
      "execution_count": 4,
      "metadata": {
        "colab": {
          "base_uri": "https://localhost:8080/"
        },
        "id": "YzH1KFU5QOYv",
        "outputId": "826f216c-e6df-4f9b-9c61-23c683019c20"
      },
      "outputs": [
        {
          "output_type": "stream",
          "name": "stdout",
          "text": [
            "CPU times: user 1.47 s, sys: 54.6 ms, total: 1.52 s\n",
            "Wall time: 1.79 s\n",
            "CPU times: user 2min 16s, sys: 34.2 s, total: 2min 50s\n",
            "Wall time: 2min 56s\n"
          ]
        }
      ],
      "source": [
        "df_neg = pd.read_csv(\"negative.csv\", sep=';', header = None, usecols = [3])\n",
        "df_pos = pd.read_csv(\"positive.csv\", sep=';', header = None, usecols = [3])\n",
        "df_neg['sent'] = 'neg'\n",
        "df_pos['sent'] = 'pos'\n",
        "df_pos['text'] = df_pos[3]\n",
        "df_neg['text'] = df_neg[3]\n",
        "df = pd.concat([df_neg, df_pos])\n",
        "df = df[['text', 'sent']]\n",
        "%time df.text = df.text.apply(words_only)\n",
        "%time df.text = df.text.apply(lemmatize)"
      ]
    },
    {
      "cell_type": "code",
      "execution_count": 5,
      "metadata": {
        "colab": {
          "base_uri": "https://localhost:8080/",
          "height": 206
        },
        "id": "jC8omZ6SQOYw",
        "outputId": "91f4a782-e4a5-420a-9aba-ef2170deaa23"
      },
      "outputs": [
        {
          "output_type": "execute_result",
          "data": {
            "text/html": [
              "\n",
              "  <div id=\"df-54ebf227-4450-4fa8-a8d7-225bddf75d11\">\n",
              "    <div class=\"colab-df-container\">\n",
              "      <div>\n",
              "<style scoped>\n",
              "    .dataframe tbody tr th:only-of-type {\n",
              "        vertical-align: middle;\n",
              "    }\n",
              "\n",
              "    .dataframe tbody tr th {\n",
              "        vertical-align: top;\n",
              "    }\n",
              "\n",
              "    .dataframe thead th {\n",
              "        text-align: right;\n",
              "    }\n",
              "</style>\n",
              "<table border=\"1\" class=\"dataframe\">\n",
              "  <thead>\n",
              "    <tr style=\"text-align: right;\">\n",
              "      <th></th>\n",
              "      <th>3</th>\n",
              "    </tr>\n",
              "  </thead>\n",
              "  <tbody>\n",
              "    <tr>\n",
              "      <th>114906</th>\n",
              "      <td>Спала в родительском доме, на своей кровати......</td>\n",
              "    </tr>\n",
              "    <tr>\n",
              "      <th>114907</th>\n",
              "      <td>RT @jebesilofyt: Эх... Мы немного решили сокра...</td>\n",
              "    </tr>\n",
              "    <tr>\n",
              "      <th>114908</th>\n",
              "      <td>Что происходит со мной, когда в эфире #proacti...</td>\n",
              "    </tr>\n",
              "    <tr>\n",
              "      <th>114909</th>\n",
              "      <td>\"Любимая,я подарю тебе эту звезду...\" Имя како...</td>\n",
              "    </tr>\n",
              "    <tr>\n",
              "      <th>114910</th>\n",
              "      <td>@Ma_che_rie посмотри #непытайтесьпокинутьомск ...</td>\n",
              "    </tr>\n",
              "  </tbody>\n",
              "</table>\n",
              "</div>\n",
              "      <button class=\"colab-df-convert\" onclick=\"convertToInteractive('df-54ebf227-4450-4fa8-a8d7-225bddf75d11')\"\n",
              "              title=\"Convert this dataframe to an interactive table.\"\n",
              "              style=\"display:none;\">\n",
              "        \n",
              "  <svg xmlns=\"http://www.w3.org/2000/svg\" height=\"24px\"viewBox=\"0 0 24 24\"\n",
              "       width=\"24px\">\n",
              "    <path d=\"M0 0h24v24H0V0z\" fill=\"none\"/>\n",
              "    <path d=\"M18.56 5.44l.94 2.06.94-2.06 2.06-.94-2.06-.94-.94-2.06-.94 2.06-2.06.94zm-11 1L8.5 8.5l.94-2.06 2.06-.94-2.06-.94L8.5 2.5l-.94 2.06-2.06.94zm10 10l.94 2.06.94-2.06 2.06-.94-2.06-.94-.94-2.06-.94 2.06-2.06.94z\"/><path d=\"M17.41 7.96l-1.37-1.37c-.4-.4-.92-.59-1.43-.59-.52 0-1.04.2-1.43.59L10.3 9.45l-7.72 7.72c-.78.78-.78 2.05 0 2.83L4 21.41c.39.39.9.59 1.41.59.51 0 1.02-.2 1.41-.59l7.78-7.78 2.81-2.81c.8-.78.8-2.07 0-2.86zM5.41 20L4 18.59l7.72-7.72 1.47 1.35L5.41 20z\"/>\n",
              "  </svg>\n",
              "      </button>\n",
              "      \n",
              "  <style>\n",
              "    .colab-df-container {\n",
              "      display:flex;\n",
              "      flex-wrap:wrap;\n",
              "      gap: 12px;\n",
              "    }\n",
              "\n",
              "    .colab-df-convert {\n",
              "      background-color: #E8F0FE;\n",
              "      border: none;\n",
              "      border-radius: 50%;\n",
              "      cursor: pointer;\n",
              "      display: none;\n",
              "      fill: #1967D2;\n",
              "      height: 32px;\n",
              "      padding: 0 0 0 0;\n",
              "      width: 32px;\n",
              "    }\n",
              "\n",
              "    .colab-df-convert:hover {\n",
              "      background-color: #E2EBFA;\n",
              "      box-shadow: 0px 1px 2px rgba(60, 64, 67, 0.3), 0px 1px 3px 1px rgba(60, 64, 67, 0.15);\n",
              "      fill: #174EA6;\n",
              "    }\n",
              "\n",
              "    [theme=dark] .colab-df-convert {\n",
              "      background-color: #3B4455;\n",
              "      fill: #D2E3FC;\n",
              "    }\n",
              "\n",
              "    [theme=dark] .colab-df-convert:hover {\n",
              "      background-color: #434B5C;\n",
              "      box-shadow: 0px 1px 3px 1px rgba(0, 0, 0, 0.15);\n",
              "      filter: drop-shadow(0px 1px 2px rgba(0, 0, 0, 0.3));\n",
              "      fill: #FFFFFF;\n",
              "    }\n",
              "  </style>\n",
              "\n",
              "      <script>\n",
              "        const buttonEl =\n",
              "          document.querySelector('#df-54ebf227-4450-4fa8-a8d7-225bddf75d11 button.colab-df-convert');\n",
              "        buttonEl.style.display =\n",
              "          google.colab.kernel.accessAllowed ? 'block' : 'none';\n",
              "\n",
              "        async function convertToInteractive(key) {\n",
              "          const element = document.querySelector('#df-54ebf227-4450-4fa8-a8d7-225bddf75d11');\n",
              "          const dataTable =\n",
              "            await google.colab.kernel.invokeFunction('convertToInteractive',\n",
              "                                                     [key], {});\n",
              "          if (!dataTable) return;\n",
              "\n",
              "          const docLinkHtml = 'Like what you see? Visit the ' +\n",
              "            '<a target=\"_blank\" href=https://colab.research.google.com/notebooks/data_table.ipynb>data table notebook</a>'\n",
              "            + ' to learn more about interactive tables.';\n",
              "          element.innerHTML = '';\n",
              "          dataTable['output_type'] = 'display_data';\n",
              "          await google.colab.output.renderOutput(dataTable, element);\n",
              "          const docLink = document.createElement('div');\n",
              "          docLink.innerHTML = docLinkHtml;\n",
              "          element.appendChild(docLink);\n",
              "        }\n",
              "      </script>\n",
              "    </div>\n",
              "  </div>\n",
              "  "
            ],
            "text/plain": [
              "                                                        3\n",
              "114906  Спала в родительском доме, на своей кровати......\n",
              "114907  RT @jebesilofyt: Эх... Мы немного решили сокра...\n",
              "114908  Что происходит со мной, когда в эфире #proacti...\n",
              "114909  \"Любимая,я подарю тебе эту звезду...\" Имя како...\n",
              "114910  @Ma_che_rie посмотри #непытайтесьпокинутьомск ..."
            ]
          },
          "metadata": {},
          "execution_count": 5
        }
      ],
      "source": [
        "df_pos = pd.read_csv(\"positive.csv\", sep=';', header = None, usecols = [3])\n",
        "df_pos.tail()"
      ]
    },
    {
      "cell_type": "code",
      "execution_count": 6,
      "metadata": {
        "id": "BoOkwLauQOYw"
      },
      "outputs": [],
      "source": [
        "# Data load for Windows users\n",
        "df = pd.read_csv('processed_text.csv', index_col = 0)"
      ]
    },
    {
      "cell_type": "code",
      "execution_count": 7,
      "metadata": {
        "colab": {
          "base_uri": "https://localhost:8080/"
        },
        "id": "skvaIoAMQOYw",
        "outputId": "d3f100d9-9fa5-4616-a4eb-1f9a4f8963bd"
      },
      "outputs": [
        {
          "output_type": "stream",
          "name": "stdout",
          "text": [
            "(226834, 2)\n"
          ]
        }
      ],
      "source": [
        "print(df.shape)\n",
        "#df.head()"
      ]
    },
    {
      "cell_type": "code",
      "execution_count": 8,
      "metadata": {
        "colab": {
          "base_uri": "https://localhost:8080/",
          "height": 206
        },
        "id": "9zxK-R_pQOYx",
        "outputId": "21e0e070-d8a7-407e-dc41-574dd83ff3db"
      },
      "outputs": [
        {
          "output_type": "execute_result",
          "data": {
            "text/html": [
              "\n",
              "  <div id=\"df-97e0ee1f-0680-4543-9b0b-9bcf2dcb4acd\">\n",
              "    <div class=\"colab-df-container\">\n",
              "      <div>\n",
              "<style scoped>\n",
              "    .dataframe tbody tr th:only-of-type {\n",
              "        vertical-align: middle;\n",
              "    }\n",
              "\n",
              "    .dataframe tbody tr th {\n",
              "        vertical-align: top;\n",
              "    }\n",
              "\n",
              "    .dataframe thead th {\n",
              "        text-align: right;\n",
              "    }\n",
              "</style>\n",
              "<table border=\"1\" class=\"dataframe\">\n",
              "  <thead>\n",
              "    <tr style=\"text-align: right;\">\n",
              "      <th></th>\n",
              "      <th>text</th>\n",
              "      <th>sent</th>\n",
              "    </tr>\n",
              "  </thead>\n",
              "  <tbody>\n",
              "    <tr>\n",
              "      <th>114906</th>\n",
              "      <td>спать в родительский дом на свой кровать просы...</td>\n",
              "      <td>pos</td>\n",
              "    </tr>\n",
              "    <tr>\n",
              "      <th>114907</th>\n",
              "      <td>RT jebesilofyt: эх мы немного решать сокращать...</td>\n",
              "      <td>pos</td>\n",
              "    </tr>\n",
              "    <tr>\n",
              "      <th>114908</th>\n",
              "      <td>что происходить со я когда в эфир proactivefm ...</td>\n",
              "      <td>pos</td>\n",
              "    </tr>\n",
              "    <tr>\n",
              "      <th>114909</th>\n",
              "      <td>любимый я подарить ты этот звезда имя какой зв...</td>\n",
              "      <td>pos</td>\n",
              "    </tr>\n",
              "    <tr>\n",
              "      <th>114910</th>\n",
              "      <td>Ma_che_rie посмотреть непытайтесьпокинутьомск ...</td>\n",
              "      <td>pos</td>\n",
              "    </tr>\n",
              "  </tbody>\n",
              "</table>\n",
              "</div>\n",
              "      <button class=\"colab-df-convert\" onclick=\"convertToInteractive('df-97e0ee1f-0680-4543-9b0b-9bcf2dcb4acd')\"\n",
              "              title=\"Convert this dataframe to an interactive table.\"\n",
              "              style=\"display:none;\">\n",
              "        \n",
              "  <svg xmlns=\"http://www.w3.org/2000/svg\" height=\"24px\"viewBox=\"0 0 24 24\"\n",
              "       width=\"24px\">\n",
              "    <path d=\"M0 0h24v24H0V0z\" fill=\"none\"/>\n",
              "    <path d=\"M18.56 5.44l.94 2.06.94-2.06 2.06-.94-2.06-.94-.94-2.06-.94 2.06-2.06.94zm-11 1L8.5 8.5l.94-2.06 2.06-.94-2.06-.94L8.5 2.5l-.94 2.06-2.06.94zm10 10l.94 2.06.94-2.06 2.06-.94-2.06-.94-.94-2.06-.94 2.06-2.06.94z\"/><path d=\"M17.41 7.96l-1.37-1.37c-.4-.4-.92-.59-1.43-.59-.52 0-1.04.2-1.43.59L10.3 9.45l-7.72 7.72c-.78.78-.78 2.05 0 2.83L4 21.41c.39.39.9.59 1.41.59.51 0 1.02-.2 1.41-.59l7.78-7.78 2.81-2.81c.8-.78.8-2.07 0-2.86zM5.41 20L4 18.59l7.72-7.72 1.47 1.35L5.41 20z\"/>\n",
              "  </svg>\n",
              "      </button>\n",
              "      \n",
              "  <style>\n",
              "    .colab-df-container {\n",
              "      display:flex;\n",
              "      flex-wrap:wrap;\n",
              "      gap: 12px;\n",
              "    }\n",
              "\n",
              "    .colab-df-convert {\n",
              "      background-color: #E8F0FE;\n",
              "      border: none;\n",
              "      border-radius: 50%;\n",
              "      cursor: pointer;\n",
              "      display: none;\n",
              "      fill: #1967D2;\n",
              "      height: 32px;\n",
              "      padding: 0 0 0 0;\n",
              "      width: 32px;\n",
              "    }\n",
              "\n",
              "    .colab-df-convert:hover {\n",
              "      background-color: #E2EBFA;\n",
              "      box-shadow: 0px 1px 2px rgba(60, 64, 67, 0.3), 0px 1px 3px 1px rgba(60, 64, 67, 0.15);\n",
              "      fill: #174EA6;\n",
              "    }\n",
              "\n",
              "    [theme=dark] .colab-df-convert {\n",
              "      background-color: #3B4455;\n",
              "      fill: #D2E3FC;\n",
              "    }\n",
              "\n",
              "    [theme=dark] .colab-df-convert:hover {\n",
              "      background-color: #434B5C;\n",
              "      box-shadow: 0px 1px 3px 1px rgba(0, 0, 0, 0.15);\n",
              "      filter: drop-shadow(0px 1px 2px rgba(0, 0, 0, 0.3));\n",
              "      fill: #FFFFFF;\n",
              "    }\n",
              "  </style>\n",
              "\n",
              "      <script>\n",
              "        const buttonEl =\n",
              "          document.querySelector('#df-97e0ee1f-0680-4543-9b0b-9bcf2dcb4acd button.colab-df-convert');\n",
              "        buttonEl.style.display =\n",
              "          google.colab.kernel.accessAllowed ? 'block' : 'none';\n",
              "\n",
              "        async function convertToInteractive(key) {\n",
              "          const element = document.querySelector('#df-97e0ee1f-0680-4543-9b0b-9bcf2dcb4acd');\n",
              "          const dataTable =\n",
              "            await google.colab.kernel.invokeFunction('convertToInteractive',\n",
              "                                                     [key], {});\n",
              "          if (!dataTable) return;\n",
              "\n",
              "          const docLinkHtml = 'Like what you see? Visit the ' +\n",
              "            '<a target=\"_blank\" href=https://colab.research.google.com/notebooks/data_table.ipynb>data table notebook</a>'\n",
              "            + ' to learn more about interactive tables.';\n",
              "          element.innerHTML = '';\n",
              "          dataTable['output_type'] = 'display_data';\n",
              "          await google.colab.output.renderOutput(dataTable, element);\n",
              "          const docLink = document.createElement('div');\n",
              "          docLink.innerHTML = docLinkHtml;\n",
              "          element.appendChild(docLink);\n",
              "        }\n",
              "      </script>\n",
              "    </div>\n",
              "  </div>\n",
              "  "
            ],
            "text/plain": [
              "                                                     text sent\n",
              "114906  спать в родительский дом на свой кровать просы...  pos\n",
              "114907  RT jebesilofyt: эх мы немного решать сокращать...  pos\n",
              "114908  что происходить со я когда в эфир proactivefm ...  pos\n",
              "114909  любимый я подарить ты этот звезда имя какой зв...  pos\n",
              "114910  Ma_che_rie посмотреть непытайтесьпокинутьомск ...  pos"
            ]
          },
          "metadata": {},
          "execution_count": 8
        }
      ],
      "source": [
        "df.tail()"
      ]
    },
    {
      "cell_type": "code",
      "execution_count": 9,
      "metadata": {
        "id": "IwWFoxQCQOYx"
      },
      "outputs": [],
      "source": [
        "texts = [df.text.iloc[i].split() for i in range(len(df))]"
      ]
    },
    {
      "cell_type": "markdown",
      "metadata": {
        "id": "LTImqR_XQOYx"
      },
      "source": [
        "## Обучение модели в gensim\n",
        "\n",
        "texts[0]"
      ]
    },
    {
      "cell_type": "code",
      "execution_count": 10,
      "metadata": {
        "colab": {
          "base_uri": "https://localhost:8080/"
        },
        "id": "bdNkeFJ2QOYx",
        "outputId": "f42fed77-947e-4e7c-e921-d50f1f6eff39"
      },
      "outputs": [
        {
          "output_type": "stream",
          "name": "stdout",
          "text": [
            "CPU times: user 1min 3s, sys: 767 ms, total: 1min 4s\n",
            "Wall time: 47 s\n"
          ]
        }
      ],
      "source": [
        "%%time\n",
        "from gensim.models import Word2Vec\n",
        "model = Word2Vec(texts, size=300, window=5, min_count=5, workers=4)\n",
        "model.save(\"word2v.model\")"
      ]
    },
    {
      "cell_type": "markdown",
      "metadata": {
        "id": "Kml8mC05QOYy"
      },
      "source": [
        "Загружаем обученную модель (для скорости):"
      ]
    },
    {
      "cell_type": "code",
      "execution_count": 11,
      "metadata": {
        "id": "wXhwfK26QOYy"
      },
      "outputs": [],
      "source": [
        "from gensim.models import Word2Vec\n",
        "model = Word2Vec.load(\"word2v.model\") "
      ]
    },
    {
      "cell_type": "code",
      "execution_count": 12,
      "metadata": {
        "colab": {
          "base_uri": "https://localhost:8080/"
        },
        "id": "zq5xpQMlQOYy",
        "outputId": "9687af95-b1e8-4582-ded3-108cdbd94f4e"
      },
      "outputs": [
        {
          "output_type": "execute_result",
          "data": {
            "text/plain": [
              "[('шк', 0.887252926826477),\n",
              " ('больница', 0.8030340671539307),\n",
              " ('универ', 0.8012827634811401),\n",
              " ('колледж', 0.7877829670906067),\n",
              " ('школа)', 0.7789700627326965),\n",
              " ('среда', 0.7632687091827393),\n",
              " ('суббота', 0.7386916875839233),\n",
              " ('школа(', 0.737774133682251),\n",
              " ('музыкалка', 0.7236189842224121),\n",
              " ('понедельник', 0.7125957012176514)]"
            ]
          },
          "metadata": {},
          "execution_count": 12
        }
      ],
      "source": [
        "model.most_similar(\"школа\")"
      ]
    },
    {
      "cell_type": "code",
      "execution_count": 13,
      "metadata": {
        "colab": {
          "base_uri": "https://localhost:8080/"
        },
        "id": "TpUx4zWGQOYy",
        "outputId": "06334e10-25c5-43c5-ac0a-2c6a975db851"
      },
      "outputs": [
        {
          "output_type": "execute_result",
          "data": {
            "text/plain": [
              "[('учеба', 0.7593657374382019),\n",
              " ('обед', 0.725181519985199),\n",
              " ('тренировка', 0.7205764651298523),\n",
              " ('опаздывать', 0.7008761167526245),\n",
              " ('часы', 0.6785647869110107),\n",
              " ('кататься', 0.6757948398590088),\n",
              " ('диван', 0.671235203742981),\n",
              " ('лыжа', 0.6642054915428162),\n",
              " ('кухня', 0.6637799739837646),\n",
              " ('занятие', 0.6595941185951233)]"
            ]
          },
          "metadata": {},
          "execution_count": 13
        }
      ],
      "source": [
        "model.most_similar(\"работа\")"
      ]
    },
    {
      "cell_type": "code",
      "execution_count": 14,
      "metadata": {
        "colab": {
          "base_uri": "https://localhost:8080/"
        },
        "id": "SFOY4enuQOYy",
        "outputId": "fd9a0094-e11e-411a-bede-491525402dc3"
      },
      "outputs": [
        {
          "output_type": "execute_result",
          "data": {
            "text/plain": [
              "[('сентябрь', 0.8264806270599365),\n",
              " ('февраль', 0.8205042481422424),\n",
              " ('перерыв', 0.819328248500824),\n",
              " ('январь', 0.8073124289512634),\n",
              " ('приход', 0.8022249937057495),\n",
              " ('чемодан', 0.7991076111793518),\n",
              " ('поездка', 0.7974751591682434),\n",
              " ('очередь', 0.794411301612854),\n",
              " ('отдых', 0.789947509765625),\n",
              " ('колледж', 0.7855406403541565)]"
            ]
          },
          "metadata": {},
          "execution_count": 14
        }
      ],
      "source": [
        "model.most_similar(\"отпуск\")"
      ]
    },
    {
      "cell_type": "code",
      "execution_count": 17,
      "metadata": {
        "colab": {
          "base_uri": "https://localhost:8080/"
        },
        "id": "zBQ71U3hQOYz",
        "outputId": "99c81839-3285-4262-9b5f-d62b3515d90f"
      },
      "outputs": [
        {
          "output_type": "execute_result",
          "data": {
            "text/plain": [
              "[('поступление', 0.875653088092804),\n",
              " ('университет', 0.8715264797210693),\n",
              " ('конгениальность!!!', 0.8277011513710022),\n",
              " ('оф', 0.807929277420044),\n",
              " ('мисс', 0.7992873191833496),\n",
              " ('шлейф', 0.7933879494667053),\n",
              " ('зона', 0.791500449180603),\n",
              " ('автомобиль', 0.7882312536239624),\n",
              " ('пегас', 0.7813681364059448),\n",
              " ('постпред', 0.780814528465271)]"
            ]
          },
          "metadata": {},
          "execution_count": 17
        }
      ],
      "source": [
        "vec = (model['университет'] - model['студент'] + model['школьник'])/3\n",
        "model.wv.similar_by_vector(vec)"
      ]
    },
    {
      "cell_type": "code",
      "execution_count": 18,
      "metadata": {
        "colab": {
          "base_uri": "https://localhost:8080/"
        },
        "id": "eOIreCfrQOYz",
        "outputId": "5bf99f71-58b1-4ebc-d8bf-f0117473458b"
      },
      "outputs": [
        {
          "output_type": "execute_result",
          "data": {
            "text/plain": [
              "[('лето', 0.9521647691726685),\n",
              " ('весна', 0.8077921867370605),\n",
              " ('зима', 0.740109920501709),\n",
              " ('каникулы', 0.7387300729751587),\n",
              " ('осень', 0.7055790424346924),\n",
              " ('холод', 0.6864861249923706),\n",
              " ('выходной', 0.6842838525772095),\n",
              " ('праздник', 0.6779698133468628),\n",
              " ('снег', 0.673631489276886),\n",
              " ('дождь', 0.6648852825164795)]"
            ]
          },
          "metadata": {},
          "execution_count": 18
        }
      ],
      "source": [
        "vec = (model['лето'] - model['жара'] + model['холод'])/3\n",
        "model.wv.similar_by_vector(vec)"
      ]
    },
    {
      "cell_type": "code",
      "execution_count": 19,
      "metadata": {
        "colab": {
          "base_uri": "https://localhost:8080/",
          "height": 35
        },
        "id": "OZaVVy1HQOYz",
        "outputId": "bf42ac25-af82-4950-9da0-030764c8d3a4"
      },
      "outputs": [
        {
          "output_type": "execute_result",
          "data": {
            "application/vnd.google.colaboratory.intrinsic+json": {
              "type": "string"
            },
            "text/plain": [
              "'лето'"
            ]
          },
          "metadata": {},
          "execution_count": 19
        }
      ],
      "source": [
        "model.doesnt_match(\"выходные отдых лето работа\".split())"
      ]
    },
    {
      "cell_type": "markdown",
      "metadata": {
        "id": "_g1ypNwuQOYz"
      },
      "source": [
        "### Визуализация пространства слов "
      ]
    },
    {
      "cell_type": "code",
      "execution_count": 20,
      "metadata": {
        "scrolled": true,
        "colab": {
          "base_uri": "https://localhost:8080/"
        },
        "id": "jM6BXH7XQOY0",
        "outputId": "898aab98-cc00-4f58-e3a5-247c2a9ff074"
      },
      "outputs": [
        {
          "output_type": "stream",
          "name": "stdout",
          "text": [
            "['я', 'не', 'и', 'в', 'на', 'что', 'RT', 'а', 'http://t', 'быть', 'ты', 'с', 'как', 'то', 'у', 'это', ':(', 'так', ':', ')', '(', 'но', 'все', 'он', 'ну', 'по', 'мы', ':)', 'мой', 'за', 'весь', 'хотеть', 'такой', ':D', 'уже', 'этот', 'вот', 'же', 'только', 'день', 'да', 'кто', 'еще', 'сегодня', 'она', 'бы', 'когда', 'мочь', 'они', 'вы', 'к', 'очень', 'из', 'просто', 'нет', 'один', 'знать', 'какой', 'от', 'год', 'если', 'теперь', 'любить', 'человек', 'свой', 'co/', 'даже', 'о', 'надо', 'до', 'новый', 'завтра', 'тоже', 'там', 'вс', 'тот', 'вообще', '((', 'для', 'самый', 'хороший', 'себя', 'хорошо', 'сейчас', '))', 'почему', 'делать', 'который', 'думать', 'много', 'раз', 'понимать', 'сказать', '(((', 'блин', 'смотреть', 'без', 'время', 'спать', 'спасибо', 'или', 'тут', 'утро', ')))', 'говорить', 'идти', 'сидеть', 'со', 'пойти', 'давать', 'про', 'ничто', 'писать', 'сделать', 'всегда', 'можно', 'жизнь', 'друг', 'первый', 'скоро', 'сам', 'наш', 'где', 'мама', 'потом', 'школа', '!', 'час', 'т', 'ни', 'после', 'ещ', 'чтобы', 'опять', 'ночь', 'ждать', 'твой', 'настроение', 'становиться', 'чем', 'приходить', 'написать', 'пока', '/', 'никто', 'хотеться', 'последний', 'начинать', 'два', 'посмотреть', 'видеть', 'хоть', 'работа', 'любимый', 'добрый', 'болеть', 'находить', 'оставаться', 'забывать', 'ахах', 'каждый', 'купить', 'м', 'дело', 'во', 'другой', 'вечер', 'вчера', 'неделя', 'под', 'через', 'потому', 'нужно', 'дома', 'совсем', 'хотя', 'читать', 'нибудь', 'плохо', 'выходить', 'урок', 'ли', 'рано', 'голова', 'фильм', 'снег', 'ехать', 'нравиться', 'надеяться', 'никогда', 'ведь', 'жить', 'D', 'скучать', 'ходить', 'конечно', 'работать', 'нужный', 'тогда', 'жаль', 'дом', 'второй', ':((', 'ж', 'домой', 'телефон', 'пора', 'правда', 'равный', 'нга', 'решать', 'пара', 'приезжать', 'вроде', 'бля', 'мало', 'е', 'о_о', 'парень', '=(', 'таки', 'больше', 'сон', 'л', 'проходить', 'песня', 'улица', 'рука', '=)', 'уходить', 'ахи', 'слово', 'твиттер', 'новогодний', 'снова', 'его', 'вставать', 'точно', 'давно', 'увидеть', 'получаться', 'фотка', 'просыпаться', 'большой', 'уж', 'почти', '_', 'зачем', 'минута', 'играть', 'зима', 'место', 'помнить', 'девушка', 'куда', 'сразу', 'прямой', 'приходиться', 'gt', 'с:', 'кстати', '((((', 'чуть', 'получать', 'слушать', 'прощать', 'сильно', 'сколько', 'крутой', 'столько', 'ч', 'чувствовать', 'успевать', 'глаз', 'узнавать', 'подарок', 'оказываться', 'плохой', 'ваш', 'че', 'лента', 'б', 'должный', 'быстро', 'х', 'бояться', 'деньги', 'ненавидеть', 'выходной', 'наверное', 'взять', 'ибо', 'начинаться', 'смочь', 'сдавать', 'папа', 'конец', 'наконец', 'ладно', 'любовь', 'сходить', 'помогать', 'привет', 'класс', 'н', 'месяц', 'город', 'перед', 'lt', ':))', 'момент', 'при', 'стоять', 'собираться', 'маленький', 'рождение', 'русский', 'заканчиваться', 'щас', 'девочка', 'мир', 'нельзя', 'долго', 'ребенок', 'умирать', 'казаться', 'три', 'чувство', 'красивый', 'ой', 'вопрос', 'оно', 'целый', 'чтоб', 'музыка', 'нога', 'далеко', 'немного', 'об', 'отличный', 'россия', 'старый', 'милый', 'твит', 'серия', 'зато', 'эх', 'вспомнить', 'рад', 'экзамен', 'отвечать', 'есть', 'круто', 'бывать', 'жалко', 'уезжать', 'ребята', 'х)', 'иногда', 'интересно', 'история', 'блять', 'пол', 'гулять', 'норма', '))))', ':(((', 'поставлять', 'рассказывать', 'пить', 'поехать', 'плакать', 'слишком', 'пусть', 'фото', ':DD', ':|', 'учить', 'проблема', 'пиздец', 'счастие', 'игра', 'ложиться', 'уставать', 'подруга', 'поздравлять', 'именно', 'показывать', 'душа', 'убивать', 'главное', 'нормально', 'значит', 'ко', 'праздник', 'интересный', 'поэтому', 'может', 'каникулы', 'лето', 'й', 'вк', 'ужасный', 'машина', 'интернет', 'офигенный', 'учиться', 'погода', 'поход', 'спрашивать', 'зайти', 'уметь', 'проводить', 'сука', 'понравиться', 'полный', 'классный', 'ужасно', 'кот', 'нормальный', 'верить', 'родитель', 'пятница', 'приятно', 'лишь', 'прекрасный', 'группа', 'вместе', 'сей', 'часто', 'скучно', 'брат', 'тип', 'особенно', 'видео', 'боль', 'обидно', 'никак', 'подумать', 'ох', 'голос', 'магазин', 'ахахах', 'мысль', 'открывать', 'д', 'хватать', 'пытаться', 'новость', 'р', 'ага', '^_^', 'москва', 'следующий', 'боже', 'желание', 'представлять', 'рядом', 'встречать', 'кажется', 'подарить', ':)))', 'план', 'называть', 'всего', 'дорогой', 'понедельник', 'концерт', 'туда', 'заболевать', 'чай', 'обожать', 'бесить', ':с', 'назад', 'книга', 'их', 'реально', 'лицо', 'замечать', 'здесь', 'быть)', 'прочитывать', 'тема', 'сезон', 'приятный', 'заниматься', 'окно', 'сериал', 'будто', 'любой', 'попадать', 'никакой', 'amp', 'вромайдан', 'капец', 'искать', 'лежать', 'суббота', 'видимо']\n"
          ]
        }
      ],
      "source": [
        "top_words = []\n",
        "from nltk import FreqDist\n",
        "fd = FreqDist()\n",
        "for text in texts:\n",
        "    fd.update(text)\n",
        "for i in fd.most_common(500):\n",
        "    top_words.append(i[0])\n",
        "print(top_words)"
      ]
    },
    {
      "cell_type": "code",
      "execution_count": 23,
      "metadata": {
        "scrolled": true,
        "colab": {
          "base_uri": "https://localhost:8080/"
        },
        "id": "XeOC5rCEQOY0",
        "outputId": "56372852-34a9-4a74-f126-401e3ec66280"
      },
      "outputs": [
        {
          "output_type": "execute_result",
          "data": {
            "text/plain": [
              "array([-0.21060818, -0.31534734,  0.07704956,  0.40906873, -0.03344641,\n",
              "        0.5733219 ,  0.08873378, -0.85316706,  0.2697676 , -0.29206982,\n",
              "        0.1249538 , -0.09091708, -0.5689493 ,  0.3112166 ,  0.43352085,\n",
              "       -0.32064027, -0.47497672,  1.2612479 , -0.44634494,  0.11929252,\n",
              "       -0.6866186 ,  0.34633306,  0.15967645, -0.11869333,  0.6796873 ,\n",
              "        0.6111604 , -0.06922179, -0.22675723, -0.669411  , -0.91870135,\n",
              "        0.7893823 ,  0.32770002,  0.81705314, -0.56609386,  0.5999715 ,\n",
              "       -0.00969901, -0.13078922,  0.36359453, -0.09008896, -0.19801487,\n",
              "        0.18852624,  0.08838528, -0.06240337, -0.45560282, -0.05744807,\n",
              "        0.2009128 , -0.9850885 ,  0.8634248 , -0.19675066,  0.11380856,\n",
              "       -0.36854362,  0.6427574 , -0.43521875,  0.4377142 , -0.09041744,\n",
              "        0.26383907, -0.28259432, -0.22724289,  0.04799654,  0.15886977,\n",
              "        0.463237  , -0.21493435,  0.6430225 , -0.08881013,  1.077308  ,\n",
              "        0.77549964, -0.14237165, -0.26715344, -0.7302208 ,  0.36258626,\n",
              "        0.42324045,  0.6258716 , -0.0872998 , -0.14355735, -0.31170663,\n",
              "        0.31566912,  0.12075835,  0.6043342 ,  0.12720656,  0.1604063 ,\n",
              "       -0.37787154,  0.32421246,  0.3172444 , -0.71793956,  0.11863378,\n",
              "       -0.82498336, -0.21809183,  0.42378378,  0.62772477, -0.8063536 ,\n",
              "       -0.09183336,  0.00953734,  0.3179707 , -0.57513547, -0.53055376,\n",
              "        0.23192765, -0.1333666 , -0.22911501,  1.0810217 , -0.47883925,\n",
              "        0.5778673 ,  0.35350797,  0.27171493, -0.56754106,  0.2780031 ,\n",
              "       -0.15875074, -0.5285759 , -0.29444632,  0.71480554,  0.18144351,\n",
              "       -0.22207406, -0.21197519, -0.67539173,  0.6084677 ,  0.22289504,\n",
              "        0.36101046, -0.49557802, -0.08060607,  0.7979702 , -0.42568603,\n",
              "       -0.00236741, -0.966941  , -0.09699143, -0.42317113,  0.29261065,\n",
              "       -0.1577902 , -0.47259378,  0.11623143, -0.1246876 , -0.02474065,\n",
              "        0.59290797,  0.52113223, -0.03189674, -1.0545365 ,  0.31384575,\n",
              "        0.6874483 , -0.29898095,  0.36377424,  0.08201948,  0.05042469,\n",
              "        0.19039066, -0.19887301,  0.15861124,  0.04267096, -0.19836202,\n",
              "       -0.28114492, -0.1047259 , -0.7804966 ,  0.19829524,  0.1191982 ,\n",
              "        0.39544812,  0.02212882, -0.04552541,  1.2817552 ,  0.21635695,\n",
              "       -0.17423777,  0.0737494 , -0.07104156, -1.0157229 ,  0.0648682 ,\n",
              "       -0.15380901, -0.07550627, -0.06773525,  0.6852542 ,  0.53441787,\n",
              "       -0.28112185,  0.09788204, -0.13971704, -0.2845183 , -0.5243522 ,\n",
              "        0.78029996,  1.0231708 ,  1.0998144 , -0.22514258, -0.8878849 ,\n",
              "        0.35058793,  0.12684259, -0.14821689, -0.11189996,  0.56982297,\n",
              "       -0.38775763, -1.1193831 , -0.49473336, -0.10509209,  0.96803147,\n",
              "       -0.23026177, -0.6012807 ,  0.14066091,  0.00420782,  0.3189853 ,\n",
              "        0.22418025,  0.09654915, -0.03483481, -0.11890919, -0.01097837,\n",
              "        0.8936633 ,  0.05125181, -0.236064  ,  0.00746103, -0.38264322,\n",
              "       -0.0465951 ,  0.13849632,  0.05588651, -0.00724246, -0.47637424,\n",
              "       -0.85141474, -0.33951986, -0.26427665, -0.37628508, -0.51359344,\n",
              "        0.05158392, -0.52312946, -0.7774422 , -0.17118138,  0.563232  ,\n",
              "        0.04463673, -0.07954251,  0.06976995, -0.3123378 ,  0.38103077,\n",
              "        0.0045546 ,  0.22740784,  0.00369883, -0.35973522, -0.67300266,\n",
              "       -0.6080635 , -0.6081751 ,  0.35935274,  0.659202  ,  0.7584215 ,\n",
              "       -0.20694645, -0.16632207, -0.08093378, -0.07848637,  0.13648048,\n",
              "       -0.44264296,  0.32894272,  0.23657079, -0.53024423, -0.17768626,\n",
              "        0.43501514, -0.31748053, -0.87107146, -0.3699132 , -1.0786395 ,\n",
              "       -0.67035145,  0.14425701,  0.0524659 , -0.37038457,  0.10194451,\n",
              "       -0.0988664 , -0.6282605 , -0.07132639,  0.16304645,  0.13867235,\n",
              "        0.5729775 ,  0.19640635, -0.41829294, -0.5361142 ,  0.5986469 ,\n",
              "       -0.01568087,  1.2665101 , -0.07135706, -0.2526607 ,  0.13348114,\n",
              "       -0.3551458 , -0.69578356,  0.18897985,  0.05432591,  0.72113913,\n",
              "       -0.9823166 , -0.35371402, -0.36862874,  0.06298198, -0.48084974,\n",
              "       -0.41696966,  1.0536295 ,  0.4546889 ,  0.19059043,  0.40917778,\n",
              "        0.7919636 , -0.3985458 , -0.5659635 ,  0.5634322 , -0.12156629,\n",
              "        0.40494037,  0.2095022 ,  0.1738657 , -0.69154537,  0.6703981 ,\n",
              "       -0.64808244, -0.31246814, -0.17774527,  0.5519025 ,  0.62748903,\n",
              "        0.20938063,  0.541946  , -0.07129843, -0.22389898,  0.25110868],\n",
              "      dtype=float32)"
            ]
          },
          "metadata": {},
          "execution_count": 23
        }
      ],
      "source": [
        "model['рабочий']"
      ]
    },
    {
      "cell_type": "code",
      "execution_count": 24,
      "metadata": {
        "id": "kwwQ9duTQOY0"
      },
      "outputs": [],
      "source": [
        "top_words_vec = model[top_words]"
      ]
    },
    {
      "cell_type": "code",
      "execution_count": 25,
      "metadata": {
        "colab": {
          "base_uri": "https://localhost:8080/"
        },
        "id": "4TYJYDU_QOY0",
        "outputId": "946050df-78e3-48f5-f465-415814c92cba"
      },
      "outputs": [
        {
          "output_type": "execute_result",
          "data": {
            "text/plain": [
              "(500, 300)"
            ]
          },
          "metadata": {},
          "execution_count": 25
        }
      ],
      "source": [
        "top_words_vec.shape"
      ]
    },
    {
      "cell_type": "code",
      "execution_count": 26,
      "metadata": {
        "id": "LkUWx-84QOY0"
      },
      "outputs": [],
      "source": [
        "from sklearn.manifold import TSNE\n",
        "tsne = TSNE(n_components=2, random_state=0)\n",
        "top_words_tsne = tsne.fit_transform(top_words_vec)"
      ]
    },
    {
      "cell_type": "code",
      "execution_count": null,
      "metadata": {
        "id": "Ngr3XCWfQOY1",
        "outputId": "1e4939f2-4d38-4038-e25b-1f211851c3f6"
      },
      "outputs": [
        {
          "data": {
            "text/html": [
              "\n",
              "    <div class=\"bk-root\">\n",
              "        <a href=\"https://bokeh.pydata.org\" target=\"_blank\" class=\"bk-logo bk-logo-small bk-logo-notebook\"></a>\n",
              "        <span id=\"8c7a3825-2008-4181-b729-8cb77af3db69\">Loading BokehJS ...</span>\n",
              "    </div>"
            ]
          },
          "metadata": {},
          "output_type": "display_data"
        },
        {
          "data": {
            "application/javascript": [
              "\n",
              "(function(root) {\n",
              "  function now() {\n",
              "    return new Date();\n",
              "  }\n",
              "\n",
              "  var force = true;\n",
              "\n",
              "  if (typeof (root._bokeh_onload_callbacks) === \"undefined\" || force === true) {\n",
              "    root._bokeh_onload_callbacks = [];\n",
              "    root._bokeh_is_loading = undefined;\n",
              "  }\n",
              "\n",
              "  var JS_MIME_TYPE = 'application/javascript';\n",
              "  var HTML_MIME_TYPE = 'text/html';\n",
              "  var EXEC_MIME_TYPE = 'application/vnd.bokehjs_exec.v0+json';\n",
              "  var CLASS_NAME = 'output_bokeh rendered_html';\n",
              "\n",
              "  /**\n",
              "   * Render data to the DOM node\n",
              "   */\n",
              "  function render(props, node) {\n",
              "    var script = document.createElement(\"script\");\n",
              "    node.appendChild(script);\n",
              "  }\n",
              "\n",
              "  /**\n",
              "   * Handle when an output is cleared or removed\n",
              "   */\n",
              "  function handleClearOutput(event, handle) {\n",
              "    var cell = handle.cell;\n",
              "\n",
              "    var id = cell.output_area._bokeh_element_id;\n",
              "    var server_id = cell.output_area._bokeh_server_id;\n",
              "    // Clean up Bokeh references\n",
              "    if (id !== undefined) {\n",
              "      Bokeh.index[id].model.document.clear();\n",
              "      delete Bokeh.index[id];\n",
              "    }\n",
              "\n",
              "    if (server_id !== undefined) {\n",
              "      // Clean up Bokeh references\n",
              "      var cmd = \"from bokeh.io.state import curstate; print(curstate().uuid_to_server['\" + server_id + \"'].get_sessions()[0].document.roots[0]._id)\";\n",
              "      cell.notebook.kernel.execute(cmd, {\n",
              "        iopub: {\n",
              "          output: function(msg) {\n",
              "            var element_id = msg.content.text.trim();\n",
              "            Bokeh.index[element_id].model.document.clear();\n",
              "            delete Bokeh.index[element_id];\n",
              "          }\n",
              "        }\n",
              "      });\n",
              "      // Destroy server and session\n",
              "      var cmd = \"import bokeh.io.notebook as ion; ion.destroy_server('\" + server_id + \"')\";\n",
              "      cell.notebook.kernel.execute(cmd);\n",
              "    }\n",
              "  }\n",
              "\n",
              "  /**\n",
              "   * Handle when a new output is added\n",
              "   */\n",
              "  function handleAddOutput(event, handle) {\n",
              "    var output_area = handle.output_area;\n",
              "    var output = handle.output;\n",
              "\n",
              "    // limit handleAddOutput to display_data with EXEC_MIME_TYPE content only\n",
              "    if ((output.output_type != \"display_data\") || (!output.data.hasOwnProperty(EXEC_MIME_TYPE))) {\n",
              "      return\n",
              "    }\n",
              "\n",
              "    var toinsert = output_area.element.find(\".\" + CLASS_NAME.split(' ')[0]);\n",
              "\n",
              "    if (output.metadata[EXEC_MIME_TYPE][\"id\"] !== undefined) {\n",
              "      toinsert[0].firstChild.textContent = output.data[JS_MIME_TYPE];\n",
              "      // store reference to embed id on output_area\n",
              "      output_area._bokeh_element_id = output.metadata[EXEC_MIME_TYPE][\"id\"];\n",
              "    }\n",
              "    if (output.metadata[EXEC_MIME_TYPE][\"server_id\"] !== undefined) {\n",
              "      var bk_div = document.createElement(\"div\");\n",
              "      bk_div.innerHTML = output.data[HTML_MIME_TYPE];\n",
              "      var script_attrs = bk_div.children[0].attributes;\n",
              "      for (var i = 0; i < script_attrs.length; i++) {\n",
              "        toinsert[0].firstChild.setAttribute(script_attrs[i].name, script_attrs[i].value);\n",
              "      }\n",
              "      // store reference to server id on output_area\n",
              "      output_area._bokeh_server_id = output.metadata[EXEC_MIME_TYPE][\"server_id\"];\n",
              "    }\n",
              "  }\n",
              "\n",
              "  function register_renderer(events, OutputArea) {\n",
              "\n",
              "    function append_mime(data, metadata, element) {\n",
              "      // create a DOM node to render to\n",
              "      var toinsert = this.create_output_subarea(\n",
              "        metadata,\n",
              "        CLASS_NAME,\n",
              "        EXEC_MIME_TYPE\n",
              "      );\n",
              "      this.keyboard_manager.register_events(toinsert);\n",
              "      // Render to node\n",
              "      var props = {data: data, metadata: metadata[EXEC_MIME_TYPE]};\n",
              "      render(props, toinsert[0]);\n",
              "      element.append(toinsert);\n",
              "      return toinsert\n",
              "    }\n",
              "\n",
              "    /* Handle when an output is cleared or removed */\n",
              "    events.on('clear_output.CodeCell', handleClearOutput);\n",
              "    events.on('delete.Cell', handleClearOutput);\n",
              "\n",
              "    /* Handle when a new output is added */\n",
              "    events.on('output_added.OutputArea', handleAddOutput);\n",
              "\n",
              "    /**\n",
              "     * Register the mime type and append_mime function with output_area\n",
              "     */\n",
              "    OutputArea.prototype.register_mime_type(EXEC_MIME_TYPE, append_mime, {\n",
              "      /* Is output safe? */\n",
              "      safe: true,\n",
              "      /* Index of renderer in `output_area.display_order` */\n",
              "      index: 0\n",
              "    });\n",
              "  }\n",
              "\n",
              "  // register the mime type if in Jupyter Notebook environment and previously unregistered\n",
              "  if (root.Jupyter !== undefined) {\n",
              "    var events = require('base/js/events');\n",
              "    var OutputArea = require('notebook/js/outputarea').OutputArea;\n",
              "\n",
              "    if (OutputArea.prototype.mime_types().indexOf(EXEC_MIME_TYPE) == -1) {\n",
              "      register_renderer(events, OutputArea);\n",
              "    }\n",
              "  }\n",
              "\n",
              "  \n",
              "  if (typeof (root._bokeh_timeout) === \"undefined\" || force === true) {\n",
              "    root._bokeh_timeout = Date.now() + 5000;\n",
              "    root._bokeh_failed_load = false;\n",
              "  }\n",
              "\n",
              "  var NB_LOAD_WARNING = {'data': {'text/html':\n",
              "     \"<div style='background-color: #fdd'>\\n\"+\n",
              "     \"<p>\\n\"+\n",
              "     \"BokehJS does not appear to have successfully loaded. If loading BokehJS from CDN, this \\n\"+\n",
              "     \"may be due to a slow or bad network connection. Possible fixes:\\n\"+\n",
              "     \"</p>\\n\"+\n",
              "     \"<ul>\\n\"+\n",
              "     \"<li>re-rerun `output_notebook()` to attempt to load from CDN again, or</li>\\n\"+\n",
              "     \"<li>use INLINE resources instead, as so:</li>\\n\"+\n",
              "     \"</ul>\\n\"+\n",
              "     \"<code>\\n\"+\n",
              "     \"from bokeh.resources import INLINE\\n\"+\n",
              "     \"output_notebook(resources=INLINE)\\n\"+\n",
              "     \"</code>\\n\"+\n",
              "     \"</div>\"}};\n",
              "\n",
              "  function display_loaded() {\n",
              "    var el = document.getElementById(\"8c7a3825-2008-4181-b729-8cb77af3db69\");\n",
              "    if (el != null) {\n",
              "      el.textContent = \"BokehJS is loading...\";\n",
              "    }\n",
              "    if (root.Bokeh !== undefined) {\n",
              "      if (el != null) {\n",
              "        el.textContent = \"BokehJS \" + root.Bokeh.version + \" successfully loaded.\";\n",
              "      }\n",
              "    } else if (Date.now() < root._bokeh_timeout) {\n",
              "      setTimeout(display_loaded, 100)\n",
              "    }\n",
              "  }\n",
              "\n",
              "\n",
              "  function run_callbacks() {\n",
              "    try {\n",
              "      root._bokeh_onload_callbacks.forEach(function(callback) { callback() });\n",
              "    }\n",
              "    finally {\n",
              "      delete root._bokeh_onload_callbacks\n",
              "    }\n",
              "    console.info(\"Bokeh: all callbacks have finished\");\n",
              "  }\n",
              "\n",
              "  function load_libs(js_urls, callback) {\n",
              "    root._bokeh_onload_callbacks.push(callback);\n",
              "    if (root._bokeh_is_loading > 0) {\n",
              "      console.log(\"Bokeh: BokehJS is being loaded, scheduling callback at\", now());\n",
              "      return null;\n",
              "    }\n",
              "    if (js_urls == null || js_urls.length === 0) {\n",
              "      run_callbacks();\n",
              "      return null;\n",
              "    }\n",
              "    console.log(\"Bokeh: BokehJS not loaded, scheduling load and callback at\", now());\n",
              "    root._bokeh_is_loading = js_urls.length;\n",
              "    for (var i = 0; i < js_urls.length; i++) {\n",
              "      var url = js_urls[i];\n",
              "      var s = document.createElement('script');\n",
              "      s.src = url;\n",
              "      s.async = false;\n",
              "      s.onreadystatechange = s.onload = function() {\n",
              "        root._bokeh_is_loading--;\n",
              "        if (root._bokeh_is_loading === 0) {\n",
              "          console.log(\"Bokeh: all BokehJS libraries loaded\");\n",
              "          run_callbacks()\n",
              "        }\n",
              "      };\n",
              "      s.onerror = function() {\n",
              "        console.warn(\"failed to load library \" + url);\n",
              "      };\n",
              "      console.log(\"Bokeh: injecting script tag for BokehJS library: \", url);\n",
              "      document.getElementsByTagName(\"head\")[0].appendChild(s);\n",
              "    }\n",
              "  };var element = document.getElementById(\"8c7a3825-2008-4181-b729-8cb77af3db69\");\n",
              "  if (element == null) {\n",
              "    console.log(\"Bokeh: ERROR: autoload.js configured with elementid '8c7a3825-2008-4181-b729-8cb77af3db69' but no matching script tag was found. \")\n",
              "    return false;\n",
              "  }\n",
              "\n",
              "  var js_urls = [\"https://cdn.pydata.org/bokeh/release/bokeh-0.12.13.min.js\", \"https://cdn.pydata.org/bokeh/release/bokeh-widgets-0.12.13.min.js\", \"https://cdn.pydata.org/bokeh/release/bokeh-tables-0.12.13.min.js\", \"https://cdn.pydata.org/bokeh/release/bokeh-gl-0.12.13.min.js\"];\n",
              "\n",
              "  var inline_js = [\n",
              "    function(Bokeh) {\n",
              "      Bokeh.set_log_level(\"info\");\n",
              "    },\n",
              "    \n",
              "    function(Bokeh) {\n",
              "      \n",
              "    },\n",
              "    function(Bokeh) {\n",
              "      console.log(\"Bokeh: injecting CSS: https://cdn.pydata.org/bokeh/release/bokeh-0.12.13.min.css\");\n",
              "      Bokeh.embed.inject_css(\"https://cdn.pydata.org/bokeh/release/bokeh-0.12.13.min.css\");\n",
              "      console.log(\"Bokeh: injecting CSS: https://cdn.pydata.org/bokeh/release/bokeh-widgets-0.12.13.min.css\");\n",
              "      Bokeh.embed.inject_css(\"https://cdn.pydata.org/bokeh/release/bokeh-widgets-0.12.13.min.css\");\n",
              "      console.log(\"Bokeh: injecting CSS: https://cdn.pydata.org/bokeh/release/bokeh-tables-0.12.13.min.css\");\n",
              "      Bokeh.embed.inject_css(\"https://cdn.pydata.org/bokeh/release/bokeh-tables-0.12.13.min.css\");\n",
              "    }\n",
              "  ];\n",
              "\n",
              "  function run_inline_js() {\n",
              "    \n",
              "    if ((root.Bokeh !== undefined) || (force === true)) {\n",
              "      for (var i = 0; i < inline_js.length; i++) {\n",
              "        inline_js[i].call(root, root.Bokeh);\n",
              "      }if (force === true) {\n",
              "        display_loaded();\n",
              "      }} else if (Date.now() < root._bokeh_timeout) {\n",
              "      setTimeout(run_inline_js, 100);\n",
              "    } else if (!root._bokeh_failed_load) {\n",
              "      console.log(\"Bokeh: BokehJS failed to load within specified timeout.\");\n",
              "      root._bokeh_failed_load = true;\n",
              "    } else if (force !== true) {\n",
              "      var cell = $(document.getElementById(\"8c7a3825-2008-4181-b729-8cb77af3db69\")).parents('.cell').data().cell;\n",
              "      cell.output_area.append_execute_result(NB_LOAD_WARNING)\n",
              "    }\n",
              "\n",
              "  }\n",
              "\n",
              "  if (root._bokeh_is_loading === 0) {\n",
              "    console.log(\"Bokeh: BokehJS loaded, going straight to plotting\");\n",
              "    run_inline_js();\n",
              "  } else {\n",
              "    load_libs(js_urls, function() {\n",
              "      console.log(\"Bokeh: BokehJS plotting callback run at\", now());\n",
              "      run_inline_js();\n",
              "    });\n",
              "  }\n",
              "}(window));"
            ],
            "application/vnd.bokehjs_load.v0+json": "\n(function(root) {\n  function now() {\n    return new Date();\n  }\n\n  var force = true;\n\n  if (typeof (root._bokeh_onload_callbacks) === \"undefined\" || force === true) {\n    root._bokeh_onload_callbacks = [];\n    root._bokeh_is_loading = undefined;\n  }\n\n  \n\n  \n  if (typeof (root._bokeh_timeout) === \"undefined\" || force === true) {\n    root._bokeh_timeout = Date.now() + 5000;\n    root._bokeh_failed_load = false;\n  }\n\n  var NB_LOAD_WARNING = {'data': {'text/html':\n     \"<div style='background-color: #fdd'>\\n\"+\n     \"<p>\\n\"+\n     \"BokehJS does not appear to have successfully loaded. If loading BokehJS from CDN, this \\n\"+\n     \"may be due to a slow or bad network connection. Possible fixes:\\n\"+\n     \"</p>\\n\"+\n     \"<ul>\\n\"+\n     \"<li>re-rerun `output_notebook()` to attempt to load from CDN again, or</li>\\n\"+\n     \"<li>use INLINE resources instead, as so:</li>\\n\"+\n     \"</ul>\\n\"+\n     \"<code>\\n\"+\n     \"from bokeh.resources import INLINE\\n\"+\n     \"output_notebook(resources=INLINE)\\n\"+\n     \"</code>\\n\"+\n     \"</div>\"}};\n\n  function display_loaded() {\n    var el = document.getElementById(\"8c7a3825-2008-4181-b729-8cb77af3db69\");\n    if (el != null) {\n      el.textContent = \"BokehJS is loading...\";\n    }\n    if (root.Bokeh !== undefined) {\n      if (el != null) {\n        el.textContent = \"BokehJS \" + root.Bokeh.version + \" successfully loaded.\";\n      }\n    } else if (Date.now() < root._bokeh_timeout) {\n      setTimeout(display_loaded, 100)\n    }\n  }\n\n\n  function run_callbacks() {\n    try {\n      root._bokeh_onload_callbacks.forEach(function(callback) { callback() });\n    }\n    finally {\n      delete root._bokeh_onload_callbacks\n    }\n    console.info(\"Bokeh: all callbacks have finished\");\n  }\n\n  function load_libs(js_urls, callback) {\n    root._bokeh_onload_callbacks.push(callback);\n    if (root._bokeh_is_loading > 0) {\n      console.log(\"Bokeh: BokehJS is being loaded, scheduling callback at\", now());\n      return null;\n    }\n    if (js_urls == null || js_urls.length === 0) {\n      run_callbacks();\n      return null;\n    }\n    console.log(\"Bokeh: BokehJS not loaded, scheduling load and callback at\", now());\n    root._bokeh_is_loading = js_urls.length;\n    for (var i = 0; i < js_urls.length; i++) {\n      var url = js_urls[i];\n      var s = document.createElement('script');\n      s.src = url;\n      s.async = false;\n      s.onreadystatechange = s.onload = function() {\n        root._bokeh_is_loading--;\n        if (root._bokeh_is_loading === 0) {\n          console.log(\"Bokeh: all BokehJS libraries loaded\");\n          run_callbacks()\n        }\n      };\n      s.onerror = function() {\n        console.warn(\"failed to load library \" + url);\n      };\n      console.log(\"Bokeh: injecting script tag for BokehJS library: \", url);\n      document.getElementsByTagName(\"head\")[0].appendChild(s);\n    }\n  };var element = document.getElementById(\"8c7a3825-2008-4181-b729-8cb77af3db69\");\n  if (element == null) {\n    console.log(\"Bokeh: ERROR: autoload.js configured with elementid '8c7a3825-2008-4181-b729-8cb77af3db69' but no matching script tag was found. \")\n    return false;\n  }\n\n  var js_urls = [\"https://cdn.pydata.org/bokeh/release/bokeh-0.12.13.min.js\", \"https://cdn.pydata.org/bokeh/release/bokeh-widgets-0.12.13.min.js\", \"https://cdn.pydata.org/bokeh/release/bokeh-tables-0.12.13.min.js\", \"https://cdn.pydata.org/bokeh/release/bokeh-gl-0.12.13.min.js\"];\n\n  var inline_js = [\n    function(Bokeh) {\n      Bokeh.set_log_level(\"info\");\n    },\n    \n    function(Bokeh) {\n      \n    },\n    function(Bokeh) {\n      console.log(\"Bokeh: injecting CSS: https://cdn.pydata.org/bokeh/release/bokeh-0.12.13.min.css\");\n      Bokeh.embed.inject_css(\"https://cdn.pydata.org/bokeh/release/bokeh-0.12.13.min.css\");\n      console.log(\"Bokeh: injecting CSS: https://cdn.pydata.org/bokeh/release/bokeh-widgets-0.12.13.min.css\");\n      Bokeh.embed.inject_css(\"https://cdn.pydata.org/bokeh/release/bokeh-widgets-0.12.13.min.css\");\n      console.log(\"Bokeh: injecting CSS: https://cdn.pydata.org/bokeh/release/bokeh-tables-0.12.13.min.css\");\n      Bokeh.embed.inject_css(\"https://cdn.pydata.org/bokeh/release/bokeh-tables-0.12.13.min.css\");\n    }\n  ];\n\n  function run_inline_js() {\n    \n    if ((root.Bokeh !== undefined) || (force === true)) {\n      for (var i = 0; i < inline_js.length; i++) {\n        inline_js[i].call(root, root.Bokeh);\n      }if (force === true) {\n        display_loaded();\n      }} else if (Date.now() < root._bokeh_timeout) {\n      setTimeout(run_inline_js, 100);\n    } else if (!root._bokeh_failed_load) {\n      console.log(\"Bokeh: BokehJS failed to load within specified timeout.\");\n      root._bokeh_failed_load = true;\n    } else if (force !== true) {\n      var cell = $(document.getElementById(\"8c7a3825-2008-4181-b729-8cb77af3db69\")).parents('.cell').data().cell;\n      cell.output_area.append_execute_result(NB_LOAD_WARNING)\n    }\n\n  }\n\n  if (root._bokeh_is_loading === 0) {\n    console.log(\"Bokeh: BokehJS loaded, going straight to plotting\");\n    run_inline_js();\n  } else {\n    load_libs(js_urls, function() {\n      console.log(\"Bokeh: BokehJS plotting callback run at\", now());\n      run_inline_js();\n    });\n  }\n}(window));"
          },
          "metadata": {},
          "output_type": "display_data"
        },
        {
          "data": {
            "text/html": [
              "\n",
              "<div class=\"bk-root\">\n",
              "    <div class=\"bk-plotdiv\" id=\"5feae626-2915-4265-9b4f-cdc77a5ab602\"></div>\n",
              "</div>"
            ]
          },
          "metadata": {},
          "output_type": "display_data"
        },
        {
          "data": {
            "application/javascript": [
              "(function(root) {\n",
              "  function embed_document(root) {\n",
              "    \n",
              "  var docs_json = {\"55d19d13-5ad9-4425-b9d9-ea6f11b105a8\":{\"roots\":{\"references\":[{\"attributes\":{\"active_drag\":\"auto\",\"active_inspect\":\"auto\",\"active_scroll\":\"auto\",\"active_tap\":\"auto\",\"tools\":[{\"id\":\"5daa71fb-386a-432f-8ae0-d39f4a15ad2d\",\"type\":\"PanTool\"},{\"id\":\"0a9a47c4-9e4c-4650-a2d5-7731a587d4dd\",\"type\":\"WheelZoomTool\"},{\"id\":\"ecc488a5-15ee-4820-93a2-f3aa13559d62\",\"type\":\"ResetTool\"},{\"id\":\"1cbb2bf8-51c1-40d0-a31b-32f1ef086aa7\",\"type\":\"SaveTool\"}]},\"id\":\"cdfb7f79-9b7a-4993-bc85-27c662814ece\",\"type\":\"Toolbar\"},{\"attributes\":{},\"id\":\"57a5e3d8-6598-456c-8564-bfbb935e055e\",\"type\":\"LinearScale\"},{\"attributes\":{},\"id\":\"1cbb2bf8-51c1-40d0-a31b-32f1ef086aa7\",\"type\":\"SaveTool\"},{\"attributes\":{},\"id\":\"00ec7699-3d8e-4d3f-8e09-c8e4b97ac7c6\",\"type\":\"BasicTickFormatter\"},{\"attributes\":{\"formatter\":{\"id\":\"2a530132-095c-4736-8f85-a32a6aa09574\",\"type\":\"BasicTickFormatter\"},\"plot\":{\"id\":\"af1210e7-e92b-4660-9b7c-dccba48ccf43\",\"subtype\":\"Figure\",\"type\":\"Plot\"},\"ticker\":{\"id\":\"fa8a9f19-2af3-4c3a-9cae-06c6a44db749\",\"type\":\"BasicTicker\"}},\"id\":\"54fd0c9b-b5c2-48db-98af-dc955ad3e55e\",\"type\":\"LinearAxis\"},{\"attributes\":{},\"id\":\"fa8a9f19-2af3-4c3a-9cae-06c6a44db749\",\"type\":\"BasicTicker\"},{\"attributes\":{\"callback\":null,\"column_names\":[\"x1\",\"x2\",\"names\"],\"data\":{\"names\":[\"\\u044f\",\"\\u043d\\u0435\",\"\\u0438\",\"\\u0432\",\"\\u043d\\u0430\",\"\\u0447\\u0442\\u043e\",\"RT\",\"\\u0430\",\"http://t\",\"\\u0431\\u044b\\u0442\\u044c\",\"\\u0442\\u044b\",\"\\u0441\",\"\\u043a\\u0430\\u043a\",\"\\u0442\\u043e\",\"\\u0443\",\"\\u044d\\u0442\\u043e\",\":(\",\"\\u0442\\u0430\\u043a\",\":\",\")\",\"(\",\"\\u043d\\u043e\",\"\\u0432\\u0441\\u0435\",\"\\u043e\\u043d\",\"\\u043d\\u0443\",\"\\u043f\\u043e\",\"\\u043c\\u044b\",\":)\",\"\\u043c\\u043e\\u0439\",\"\\u0437\\u0430\",\"\\u0432\\u0435\\u0441\\u044c\",\"\\u0445\\u043e\\u0442\\u0435\\u0442\\u044c\",\"\\u0442\\u0430\\u043a\\u043e\\u0439\",\":D\",\"\\u0443\\u0436\\u0435\",\"\\u044d\\u0442\\u043e\\u0442\",\"\\u0432\\u043e\\u0442\",\"\\u0436\\u0435\",\"\\u0442\\u043e\\u043b\\u044c\\u043a\\u043e\",\"\\u0434\\u0435\\u043d\\u044c\",\"\\u0434\\u0430\",\"\\u043a\\u0442\\u043e\",\"\\u0435\\u0449\\u0435\",\"\\u0441\\u0435\\u0433\\u043e\\u0434\\u043d\\u044f\",\"\\u043e\\u043d\\u0430\",\"\\u0431\\u044b\",\"\\u043a\\u043e\\u0433\\u0434\\u0430\",\"\\u043c\\u043e\\u0447\\u044c\",\"\\u043e\\u043d\\u0438\",\"\\u0432\\u044b\",\"\\u043a\",\"\\u043e\\u0447\\u0435\\u043d\\u044c\",\"\\u0438\\u0437\",\"\\u043f\\u0440\\u043e\\u0441\\u0442\\u043e\",\"\\u043d\\u0435\\u0442\",\"\\u043e\\u0434\\u0438\\u043d\",\"\\u0437\\u043d\\u0430\\u0442\\u044c\",\"\\u043a\\u0430\\u043a\\u043e\\u0439\",\"\\u043e\\u0442\",\"\\u0433\\u043e\\u0434\",\"\\u0435\\u0441\\u043b\\u0438\",\"\\u0442\\u0435\\u043f\\u0435\\u0440\\u044c\",\"\\u043b\\u044e\\u0431\\u0438\\u0442\\u044c\",\"\\u0447\\u0435\\u043b\\u043e\\u0432\\u0435\\u043a\",\"\\u0441\\u0432\\u043e\\u0439\",\"co/\",\"\\u0434\\u0430\\u0436\\u0435\",\"\\u043e\",\"\\u043d\\u0430\\u0434\\u043e\",\"\\u0434\\u043e\",\"\\u043d\\u043e\\u0432\\u044b\\u0439\",\"\\u0437\\u0430\\u0432\\u0442\\u0440\\u0430\",\"\\u0442\\u043e\\u0436\\u0435\",\"\\u0442\\u0430\\u043c\",\"\\u0432\\u0441\",\"\\u0442\\u043e\\u0442\",\"\\u0432\\u043e\\u043e\\u0431\\u0449\\u0435\",\"((\",\"\\u0434\\u043b\\u044f\",\"\\u0441\\u0430\\u043c\\u044b\\u0439\",\"\\u0445\\u043e\\u0440\\u043e\\u0448\\u0438\\u0439\",\"\\u0441\\u0435\\u0431\\u044f\",\"\\u0445\\u043e\\u0440\\u043e\\u0448\\u043e\",\"\\u0441\\u0435\\u0439\\u0447\\u0430\\u0441\",\"))\",\"\\u043f\\u043e\\u0447\\u0435\\u043c\\u0443\",\"\\u0434\\u0435\\u043b\\u0430\\u0442\\u044c\",\"\\u043a\\u043e\\u0442\\u043e\\u0440\\u044b\\u0439\",\"\\u0434\\u0443\\u043c\\u0430\\u0442\\u044c\",\"\\u043c\\u043d\\u043e\\u0433\\u043e\",\"\\u0440\\u0430\\u0437\",\"\\u043f\\u043e\\u043d\\u0438\\u043c\\u0430\\u0442\\u044c\",\"\\u0441\\u043a\\u0430\\u0437\\u0430\\u0442\\u044c\",\"(((\",\"\\u0431\\u043b\\u0438\\u043d\",\"\\u0441\\u043c\\u043e\\u0442\\u0440\\u0435\\u0442\\u044c\",\"\\u0431\\u0435\\u0437\",\"\\u0432\\u0440\\u0435\\u043c\\u044f\",\"\\u0441\\u043f\\u0430\\u0442\\u044c\",\"\\u0441\\u043f\\u0430\\u0441\\u0438\\u0431\\u043e\",\"\\u0438\\u043b\\u0438\",\"\\u0442\\u0443\\u0442\",\"\\u0443\\u0442\\u0440\\u043e\",\")))\",\"\\u0433\\u043e\\u0432\\u043e\\u0440\\u0438\\u0442\\u044c\",\"\\u0438\\u0434\\u0442\\u0438\",\"\\u0441\\u0438\\u0434\\u0435\\u0442\\u044c\",\"\\u0441\\u043e\",\"\\u043f\\u043e\\u0439\\u0442\\u0438\",\"\\u0434\\u0430\\u0432\\u0430\\u0442\\u044c\",\"\\u043f\\u0440\\u043e\",\"\\u043d\\u0438\\u0447\\u0442\\u043e\",\"\\u043f\\u0438\\u0441\\u0430\\u0442\\u044c\",\"\\u0441\\u0434\\u0435\\u043b\\u0430\\u0442\\u044c\",\"\\u0432\\u0441\\u0435\\u0433\\u0434\\u0430\",\"\\u043c\\u043e\\u0436\\u043d\\u043e\",\"\\u0436\\u0438\\u0437\\u043d\\u044c\",\"\\u0434\\u0440\\u0443\\u0433\",\"\\u043f\\u0435\\u0440\\u0432\\u044b\\u0439\",\"\\u0441\\u043a\\u043e\\u0440\\u043e\",\"\\u0441\\u0430\\u043c\",\"\\u043d\\u0430\\u0448\",\"\\u0433\\u0434\\u0435\",\"\\u043c\\u0430\\u043c\\u0430\",\"\\u043f\\u043e\\u0442\\u043e\\u043c\",\"\\u0448\\u043a\\u043e\\u043b\\u0430\",\"!\",\"\\u0447\\u0430\\u0441\",\"\\u0442\",\"\\u043d\\u0438\",\"\\u043f\\u043e\\u0441\\u043b\\u0435\",\"\\u0435\\u0449\",\"\\u0447\\u0442\\u043e\\u0431\\u044b\",\"\\u043e\\u043f\\u044f\\u0442\\u044c\",\"\\u043d\\u043e\\u0447\\u044c\",\"\\u0436\\u0434\\u0430\\u0442\\u044c\",\"\\u0442\\u0432\\u043e\\u0439\",\"\\u043d\\u0430\\u0441\\u0442\\u0440\\u043e\\u0435\\u043d\\u0438\\u0435\",\"\\u0441\\u0442\\u0430\\u043d\\u043e\\u0432\\u0438\\u0442\\u044c\\u0441\\u044f\",\"\\u0447\\u0435\\u043c\",\"\\u043f\\u0440\\u0438\\u0445\\u043e\\u0434\\u0438\\u0442\\u044c\",\"\\u043d\\u0430\\u043f\\u0438\\u0441\\u0430\\u0442\\u044c\",\"\\u043f\\u043e\\u043a\\u0430\",\"/\",\"\\u043d\\u0438\\u043a\\u0442\\u043e\",\"\\u0445\\u043e\\u0442\\u0435\\u0442\\u044c\\u0441\\u044f\",\"\\u043f\\u043e\\u0441\\u043b\\u0435\\u0434\\u043d\\u0438\\u0439\",\"\\u043d\\u0430\\u0447\\u0438\\u043d\\u0430\\u0442\\u044c\",\"\\u0434\\u0432\\u0430\",\"\\u043f\\u043e\\u0441\\u043c\\u043e\\u0442\\u0440\\u0435\\u0442\\u044c\",\"\\u0432\\u0438\\u0434\\u0435\\u0442\\u044c\",\"\\u0445\\u043e\\u0442\\u044c\",\"\\u0440\\u0430\\u0431\\u043e\\u0442\\u0430\",\"\\u043b\\u044e\\u0431\\u0438\\u043c\\u044b\\u0439\",\"\\u0434\\u043e\\u0431\\u0440\\u044b\\u0439\",\"\\u0431\\u043e\\u043b\\u0435\\u0442\\u044c\",\"\\u043d\\u0430\\u0445\\u043e\\u0434\\u0438\\u0442\\u044c\",\"\\u043e\\u0441\\u0442\\u0430\\u0432\\u0430\\u0442\\u044c\\u0441\\u044f\",\"\\u0437\\u0430\\u0431\\u044b\\u0432\\u0430\\u0442\\u044c\",\"\\u0430\\u0445\\u0430\\u0445\",\"\\u043a\\u0430\\u0436\\u0434\\u044b\\u0439\",\"\\u043a\\u0443\\u043f\\u0438\\u0442\\u044c\",\"\\u043c\",\"\\u0434\\u0435\\u043b\\u043e\",\"\\u0432\\u043e\",\"\\u0434\\u0440\\u0443\\u0433\\u043e\\u0439\",\"\\u0432\\u0435\\u0447\\u0435\\u0440\",\"\\u0432\\u0447\\u0435\\u0440\\u0430\",\"\\u043d\\u0435\\u0434\\u0435\\u043b\\u044f\",\"\\u043f\\u043e\\u0434\",\"\\u0447\\u0435\\u0440\\u0435\\u0437\",\"\\u043f\\u043e\\u0442\\u043e\\u043c\\u0443\",\"\\u043d\\u0443\\u0436\\u043d\\u043e\",\"\\u0434\\u043e\\u043c\\u0430\",\"\\u0441\\u043e\\u0432\\u0441\\u0435\\u043c\",\"\\u0445\\u043e\\u0442\\u044f\",\"\\u0447\\u0438\\u0442\\u0430\\u0442\\u044c\",\"\\u043d\\u0438\\u0431\\u0443\\u0434\\u044c\",\"\\u043f\\u043b\\u043e\\u0445\\u043e\",\"\\u0432\\u044b\\u0445\\u043e\\u0434\\u0438\\u0442\\u044c\",\"\\u0443\\u0440\\u043e\\u043a\",\"\\u043b\\u0438\",\"\\u0440\\u0430\\u043d\\u043e\",\"\\u0433\\u043e\\u043b\\u043e\\u0432\\u0430\",\"\\u0444\\u0438\\u043b\\u044c\\u043c\",\"\\u0441\\u043d\\u0435\\u0433\",\"\\u0435\\u0445\\u0430\\u0442\\u044c\",\"\\u043d\\u0440\\u0430\\u0432\\u0438\\u0442\\u044c\\u0441\\u044f\",\"\\u043d\\u0430\\u0434\\u0435\\u044f\\u0442\\u044c\\u0441\\u044f\",\"\\u043d\\u0438\\u043a\\u043e\\u0433\\u0434\\u0430\",\"\\u0432\\u0435\\u0434\\u044c\",\"\\u0436\\u0438\\u0442\\u044c\",\"D\",\"\\u0441\\u043a\\u0443\\u0447\\u0430\\u0442\\u044c\",\"\\u0445\\u043e\\u0434\\u0438\\u0442\\u044c\",\"\\u043a\\u043e\\u043d\\u0435\\u0447\\u043d\\u043e\",\"\\u0440\\u0430\\u0431\\u043e\\u0442\\u0430\\u0442\\u044c\",\"\\u043d\\u0443\\u0436\\u043d\\u044b\\u0439\",\"\\u0442\\u043e\\u0433\\u0434\\u0430\",\"\\u0436\\u0430\\u043b\\u044c\",\"\\u0434\\u043e\\u043c\",\"\\u0432\\u0442\\u043e\\u0440\\u043e\\u0439\",\":((\",\"\\u0436\",\"\\u0434\\u043e\\u043c\\u043e\\u0439\",\"\\u0442\\u0435\\u043b\\u0435\\u0444\\u043e\\u043d\",\"\\u043f\\u043e\\u0440\\u0430\",\"\\u043f\\u0440\\u0430\\u0432\\u0434\\u0430\",\"\\u0440\\u0430\\u0432\\u043d\\u044b\\u0439\",\"\\u043d\\u0433\\u0430\",\"\\u0440\\u0435\\u0448\\u0430\\u0442\\u044c\",\"\\u043f\\u0430\\u0440\\u0430\",\"\\u043f\\u0440\\u0438\\u0435\\u0437\\u0436\\u0430\\u0442\\u044c\",\"\\u0432\\u0440\\u043e\\u0434\\u0435\",\"\\u0431\\u043b\\u044f\",\"\\u043c\\u0430\\u043b\\u043e\",\"\\u0435\",\"\\u043e_\\u043e\",\"\\u043f\\u0430\\u0440\\u0435\\u043d\\u044c\",\"=(\",\"\\u0442\\u0430\\u043a\\u0438\",\"\\u0431\\u043e\\u043b\\u044c\\u0448\\u0435\",\"\\u0441\\u043e\\u043d\",\"\\u043b\",\"\\u043f\\u0440\\u043e\\u0445\\u043e\\u0434\\u0438\\u0442\\u044c\",\"\\u043f\\u0435\\u0441\\u043d\\u044f\",\"\\u0443\\u043b\\u0438\\u0446\\u0430\",\"\\u0440\\u0443\\u043a\\u0430\",\"=)\",\"\\u0443\\u0445\\u043e\\u0434\\u0438\\u0442\\u044c\",\"\\u0430\\u0445\\u0438\",\"\\u0441\\u043b\\u043e\\u0432\\u043e\",\"\\u0442\\u0432\\u0438\\u0442\\u0442\\u0435\\u0440\",\"\\u043d\\u043e\\u0432\\u043e\\u0433\\u043e\\u0434\\u043d\\u0438\\u0439\",\"\\u0441\\u043d\\u043e\\u0432\\u0430\",\"\\u0435\\u0433\\u043e\",\"\\u0432\\u0441\\u0442\\u0430\\u0432\\u0430\\u0442\\u044c\",\"\\u0442\\u043e\\u0447\\u043d\\u043e\",\"\\u0434\\u0430\\u0432\\u043d\\u043e\",\"\\u0443\\u0432\\u0438\\u0434\\u0435\\u0442\\u044c\",\"\\u043f\\u043e\\u043b\\u0443\\u0447\\u0430\\u0442\\u044c\\u0441\\u044f\",\"\\u0444\\u043e\\u0442\\u043a\\u0430\",\"\\u043f\\u0440\\u043e\\u0441\\u044b\\u043f\\u0430\\u0442\\u044c\\u0441\\u044f\",\"\\u0431\\u043e\\u043b\\u044c\\u0448\\u043e\\u0439\",\"\\u0443\\u0436\",\"\\u043f\\u043e\\u0447\\u0442\\u0438\",\"_\",\"\\u0437\\u0430\\u0447\\u0435\\u043c\",\"\\u043c\\u0438\\u043d\\u0443\\u0442\\u0430\",\"\\u0438\\u0433\\u0440\\u0430\\u0442\\u044c\",\"\\u0437\\u0438\\u043c\\u0430\",\"\\u043c\\u0435\\u0441\\u0442\\u043e\",\"\\u043f\\u043e\\u043c\\u043d\\u0438\\u0442\\u044c\",\"\\u0434\\u0435\\u0432\\u0443\\u0448\\u043a\\u0430\",\"\\u043a\\u0443\\u0434\\u0430\",\"\\u0441\\u0440\\u0430\\u0437\\u0443\",\"\\u043f\\u0440\\u044f\\u043c\\u043e\\u0439\",\"\\u043f\\u0440\\u0438\\u0445\\u043e\\u0434\\u0438\\u0442\\u044c\\u0441\\u044f\",\"gt\",\"\\u0441:\",\"\\u043a\\u0441\\u0442\\u0430\\u0442\\u0438\",\"((((\",\"\\u0447\\u0443\\u0442\\u044c\",\"\\u043f\\u043e\\u043b\\u0443\\u0447\\u0430\\u0442\\u044c\",\"\\u0441\\u043b\\u0443\\u0448\\u0430\\u0442\\u044c\",\"\\u043f\\u0440\\u043e\\u0449\\u0430\\u0442\\u044c\",\"\\u0441\\u0438\\u043b\\u044c\\u043d\\u043e\",\"\\u0441\\u043a\\u043e\\u043b\\u044c\\u043a\\u043e\",\"\\u043a\\u0440\\u0443\\u0442\\u043e\\u0439\",\"\\u0441\\u0442\\u043e\\u043b\\u044c\\u043a\\u043e\",\"\\u0447\",\"\\u0447\\u0443\\u0432\\u0441\\u0442\\u0432\\u043e\\u0432\\u0430\\u0442\\u044c\",\"\\u0443\\u0441\\u043f\\u0435\\u0432\\u0430\\u0442\\u044c\",\"\\u0433\\u043b\\u0430\\u0437\",\"\\u0443\\u0437\\u043d\\u0430\\u0432\\u0430\\u0442\\u044c\",\"\\u043f\\u043e\\u0434\\u0430\\u0440\\u043e\\u043a\",\"\\u043e\\u043a\\u0430\\u0437\\u044b\\u0432\\u0430\\u0442\\u044c\\u0441\\u044f\",\"\\u043f\\u043b\\u043e\\u0445\\u043e\\u0439\",\"\\u0432\\u0430\\u0448\",\"\\u0447\\u0435\",\"\\u043b\\u0435\\u043d\\u0442\\u0430\",\"\\u0431\",\"\\u0434\\u043e\\u043b\\u0436\\u043d\\u044b\\u0439\",\"\\u0431\\u044b\\u0441\\u0442\\u0440\\u043e\",\"\\u0445\",\"\\u0431\\u043e\\u044f\\u0442\\u044c\\u0441\\u044f\",\"\\u0434\\u0435\\u043d\\u044c\\u0433\\u0438\",\"\\u043d\\u0435\\u043d\\u0430\\u0432\\u0438\\u0434\\u0435\\u0442\\u044c\",\"\\u0432\\u044b\\u0445\\u043e\\u0434\\u043d\\u043e\\u0439\",\"\\u043d\\u0430\\u0432\\u0435\\u0440\\u043d\\u043e\\u0435\",\"\\u0432\\u0437\\u044f\\u0442\\u044c\",\"\\u0438\\u0431\\u043e\",\"\\u043d\\u0430\\u0447\\u0438\\u043d\\u0430\\u0442\\u044c\\u0441\\u044f\",\"\\u0441\\u043c\\u043e\\u0447\\u044c\",\"\\u0441\\u0434\\u0430\\u0432\\u0430\\u0442\\u044c\",\"\\u043f\\u0430\\u043f\\u0430\",\"\\u043a\\u043e\\u043d\\u0435\\u0446\",\"\\u043d\\u0430\\u043a\\u043e\\u043d\\u0435\\u0446\",\"\\u043b\\u0430\\u0434\\u043d\\u043e\",\"\\u043b\\u044e\\u0431\\u043e\\u0432\\u044c\",\"\\u0441\\u0445\\u043e\\u0434\\u0438\\u0442\\u044c\",\"\\u043f\\u043e\\u043c\\u043e\\u0433\\u0430\\u0442\\u044c\",\"\\u043f\\u0440\\u0438\\u0432\\u0435\\u0442\",\"\\u043a\\u043b\\u0430\\u0441\\u0441\",\"\\u043d\",\"\\u043c\\u0435\\u0441\\u044f\\u0446\",\"\\u0433\\u043e\\u0440\\u043e\\u0434\",\"\\u043f\\u0435\\u0440\\u0435\\u0434\",\"lt\",\":))\",\"\\u043c\\u043e\\u043c\\u0435\\u043d\\u0442\",\"\\u043f\\u0440\\u0438\",\"\\u0441\\u0442\\u043e\\u044f\\u0442\\u044c\",\"\\u0441\\u043e\\u0431\\u0438\\u0440\\u0430\\u0442\\u044c\\u0441\\u044f\",\"\\u043c\\u0430\\u043b\\u0435\\u043d\\u044c\\u043a\\u0438\\u0439\",\"\\u0440\\u043e\\u0436\\u0434\\u0435\\u043d\\u0438\\u0435\",\"\\u0440\\u0443\\u0441\\u0441\\u043a\\u0438\\u0439\",\"\\u0437\\u0430\\u043a\\u0430\\u043d\\u0447\\u0438\\u0432\\u0430\\u0442\\u044c\\u0441\\u044f\",\"\\u0449\\u0430\\u0441\",\"\\u0434\\u0435\\u0432\\u043e\\u0447\\u043a\\u0430\",\"\\u043c\\u0438\\u0440\",\"\\u043d\\u0435\\u043b\\u044c\\u0437\\u044f\",\"\\u0434\\u043e\\u043b\\u0433\\u043e\",\"\\u0440\\u0435\\u0431\\u0435\\u043d\\u043e\\u043a\",\"\\u0443\\u043c\\u0438\\u0440\\u0430\\u0442\\u044c\",\"\\u043a\\u0430\\u0437\\u0430\\u0442\\u044c\\u0441\\u044f\",\"\\u0442\\u0440\\u0438\",\"\\u0447\\u0443\\u0432\\u0441\\u0442\\u0432\\u043e\",\"\\u043a\\u0440\\u0430\\u0441\\u0438\\u0432\\u044b\\u0439\",\"\\u043e\\u0439\",\"\\u0432\\u043e\\u043f\\u0440\\u043e\\u0441\",\"\\u043e\\u043d\\u043e\",\"\\u0446\\u0435\\u043b\\u044b\\u0439\",\"\\u0447\\u0442\\u043e\\u0431\",\"\\u043c\\u0443\\u0437\\u044b\\u043a\\u0430\",\"\\u043d\\u043e\\u0433\\u0430\",\"\\u0434\\u0430\\u043b\\u0435\\u043a\\u043e\",\"\\u043d\\u0435\\u043c\\u043d\\u043e\\u0433\\u043e\",\"\\u043e\\u0431\",\"\\u043e\\u0442\\u043b\\u0438\\u0447\\u043d\\u044b\\u0439\",\"\\u0440\\u043e\\u0441\\u0441\\u0438\\u044f\",\"\\u0441\\u0442\\u0430\\u0440\\u044b\\u0439\",\"\\u043c\\u0438\\u043b\\u044b\\u0439\",\"\\u0442\\u0432\\u0438\\u0442\",\"\\u0441\\u0435\\u0440\\u0438\\u044f\",\"\\u0437\\u0430\\u0442\\u043e\",\"\\u044d\\u0445\",\"\\u0432\\u0441\\u043f\\u043e\\u043c\\u043d\\u0438\\u0442\\u044c\",\"\\u0440\\u0430\\u0434\",\"\\u044d\\u043a\\u0437\\u0430\\u043c\\u0435\\u043d\",\"\\u043e\\u0442\\u0432\\u0435\\u0447\\u0430\\u0442\\u044c\",\"\\u0435\\u0441\\u0442\\u044c\",\"\\u043a\\u0440\\u0443\\u0442\\u043e\",\"\\u0431\\u044b\\u0432\\u0430\\u0442\\u044c\",\"\\u0436\\u0430\\u043b\\u043a\\u043e\",\"\\u0443\\u0435\\u0437\\u0436\\u0430\\u0442\\u044c\",\"\\u0440\\u0435\\u0431\\u044f\\u0442\\u0430\",\"\\u0445)\",\"\\u0438\\u043d\\u043e\\u0433\\u0434\\u0430\",\"\\u0438\\u043d\\u0442\\u0435\\u0440\\u0435\\u0441\\u043d\\u043e\",\"\\u0438\\u0441\\u0442\\u043e\\u0440\\u0438\\u044f\",\"\\u0431\\u043b\\u044f\\u0442\\u044c\",\"\\u043f\\u043e\\u043b\",\"\\u0433\\u0443\\u043b\\u044f\\u0442\\u044c\",\"\\u043d\\u043e\\u0440\\u043c\\u0430\",\"))))\",\":(((\",\"\\u043f\\u043e\\u0441\\u0442\\u0430\\u0432\\u043b\\u044f\\u0442\\u044c\",\"\\u0440\\u0430\\u0441\\u0441\\u043a\\u0430\\u0437\\u044b\\u0432\\u0430\\u0442\\u044c\",\"\\u043f\\u0438\\u0442\\u044c\",\"\\u043f\\u043e\\u0435\\u0445\\u0430\\u0442\\u044c\",\"\\u043f\\u043b\\u0430\\u043a\\u0430\\u0442\\u044c\",\"\\u0441\\u043b\\u0438\\u0448\\u043a\\u043e\\u043c\",\"\\u043f\\u0443\\u0441\\u0442\\u044c\",\"\\u0444\\u043e\\u0442\\u043e\",\":DD\",\":|\",\"\\u0443\\u0447\\u0438\\u0442\\u044c\",\"\\u043f\\u0440\\u043e\\u0431\\u043b\\u0435\\u043c\\u0430\",\"\\u043f\\u0438\\u0437\\u0434\\u0435\\u0446\",\"\\u0441\\u0447\\u0430\\u0441\\u0442\\u0438\\u0435\",\"\\u0438\\u0433\\u0440\\u0430\",\"\\u043b\\u043e\\u0436\\u0438\\u0442\\u044c\\u0441\\u044f\",\"\\u0443\\u0441\\u0442\\u0430\\u0432\\u0430\\u0442\\u044c\",\"\\u043f\\u043e\\u0434\\u0440\\u0443\\u0433\\u0430\",\"\\u043f\\u043e\\u0437\\u0434\\u0440\\u0430\\u0432\\u043b\\u044f\\u0442\\u044c\",\"\\u0438\\u043c\\u0435\\u043d\\u043d\\u043e\",\"\\u043f\\u043e\\u043a\\u0430\\u0437\\u044b\\u0432\\u0430\\u0442\\u044c\",\"\\u0434\\u0443\\u0448\\u0430\",\"\\u0443\\u0431\\u0438\\u0432\\u0430\\u0442\\u044c\",\"\\u0433\\u043b\\u0430\\u0432\\u043d\\u043e\\u0435\",\"\\u043d\\u043e\\u0440\\u043c\\u0430\\u043b\\u044c\\u043d\\u043e\",\"\\u0437\\u043d\\u0430\\u0447\\u0438\\u0442\",\"\\u043a\\u043e\",\"\\u043f\\u0440\\u0430\\u0437\\u0434\\u043d\\u0438\\u043a\",\"\\u0438\\u043d\\u0442\\u0435\\u0440\\u0435\\u0441\\u043d\\u044b\\u0439\",\"\\u043f\\u043e\\u044d\\u0442\\u043e\\u043c\\u0443\",\"\\u043c\\u043e\\u0436\\u0435\\u0442\",\"\\u043a\\u0430\\u043d\\u0438\\u043a\\u0443\\u043b\\u044b\",\"\\u043b\\u0435\\u0442\\u043e\",\"\\u0439\",\"\\u0432\\u043a\",\"\\u0443\\u0436\\u0430\\u0441\\u043d\\u044b\\u0439\",\"\\u043c\\u0430\\u0448\\u0438\\u043d\\u0430\",\"\\u0438\\u043d\\u0442\\u0435\\u0440\\u043d\\u0435\\u0442\",\"\\u043e\\u0444\\u0438\\u0433\\u0435\\u043d\\u043d\\u044b\\u0439\",\"\\u0443\\u0447\\u0438\\u0442\\u044c\\u0441\\u044f\",\"\\u043f\\u043e\\u0433\\u043e\\u0434\\u0430\",\"\\u043f\\u043e\\u0445\\u043e\\u0434\",\"\\u0441\\u043f\\u0440\\u0430\\u0448\\u0438\\u0432\\u0430\\u0442\\u044c\",\"\\u0437\\u0430\\u0439\\u0442\\u0438\",\"\\u0443\\u043c\\u0435\\u0442\\u044c\",\"\\u043f\\u0440\\u043e\\u0432\\u043e\\u0434\\u0438\\u0442\\u044c\",\"\\u0441\\u0443\\u043a\\u0430\",\"\\u043f\\u043e\\u043d\\u0440\\u0430\\u0432\\u0438\\u0442\\u044c\\u0441\\u044f\",\"\\u043f\\u043e\\u043b\\u043d\\u044b\\u0439\",\"\\u043a\\u043b\\u0430\\u0441\\u0441\\u043d\\u044b\\u0439\",\"\\u0443\\u0436\\u0430\\u0441\\u043d\\u043e\",\"\\u043a\\u043e\\u0442\",\"\\u043d\\u043e\\u0440\\u043c\\u0430\\u043b\\u044c\\u043d\\u044b\\u0439\",\"\\u0432\\u0435\\u0440\\u0438\\u0442\\u044c\",\"\\u0440\\u043e\\u0434\\u0438\\u0442\\u0435\\u043b\\u044c\",\"\\u043f\\u044f\\u0442\\u043d\\u0438\\u0446\\u0430\",\"\\u043f\\u0440\\u0438\\u044f\\u0442\\u043d\\u043e\",\"\\u043b\\u0438\\u0448\\u044c\",\"\\u043f\\u0440\\u0435\\u043a\\u0440\\u0430\\u0441\\u043d\\u044b\\u0439\",\"\\u0433\\u0440\\u0443\\u043f\\u043f\\u0430\",\"\\u0432\\u043c\\u0435\\u0441\\u0442\\u0435\",\"\\u0441\\u0435\\u0439\",\"\\u0447\\u0430\\u0441\\u0442\\u043e\",\"\\u0441\\u043a\\u0443\\u0447\\u043d\\u043e\",\"\\u0431\\u0440\\u0430\\u0442\",\"\\u0442\\u0438\\u043f\",\"\\u043e\\u0441\\u043e\\u0431\\u0435\\u043d\\u043d\\u043e\",\"\\u0432\\u0438\\u0434\\u0435\\u043e\",\"\\u0431\\u043e\\u043b\\u044c\",\"\\u043e\\u0431\\u0438\\u0434\\u043d\\u043e\",\"\\u043d\\u0438\\u043a\\u0430\\u043a\",\"\\u043f\\u043e\\u0434\\u0443\\u043c\\u0430\\u0442\\u044c\",\"\\u043e\\u0445\",\"\\u0433\\u043e\\u043b\\u043e\\u0441\",\"\\u043c\\u0430\\u0433\\u0430\\u0437\\u0438\\u043d\",\"\\u0430\\u0445\\u0430\\u0445\\u0430\\u0445\",\"\\u043c\\u044b\\u0441\\u043b\\u044c\",\"\\u043e\\u0442\\u043a\\u0440\\u044b\\u0432\\u0430\\u0442\\u044c\",\"\\u0434\",\"\\u0445\\u0432\\u0430\\u0442\\u0430\\u0442\\u044c\",\"\\u043f\\u044b\\u0442\\u0430\\u0442\\u044c\\u0441\\u044f\",\"\\u043d\\u043e\\u0432\\u043e\\u0441\\u0442\\u044c\",\"\\u0440\",\"\\u0430\\u0433\\u0430\",\"^_^\",\"\\u043c\\u043e\\u0441\\u043a\\u0432\\u0430\",\"\\u0441\\u043b\\u0435\\u0434\\u0443\\u044e\\u0449\\u0438\\u0439\",\"\\u0431\\u043e\\u0436\\u0435\",\"\\u0436\\u0435\\u043b\\u0430\\u043d\\u0438\\u0435\",\"\\u043f\\u0440\\u0435\\u0434\\u0441\\u0442\\u0430\\u0432\\u043b\\u044f\\u0442\\u044c\",\"\\u0440\\u044f\\u0434\\u043e\\u043c\",\"\\u0432\\u0441\\u0442\\u0440\\u0435\\u0447\\u0430\\u0442\\u044c\",\"\\u043a\\u0430\\u0436\\u0435\\u0442\\u0441\\u044f\",\"\\u043f\\u043e\\u0434\\u0430\\u0440\\u0438\\u0442\\u044c\",\":)))\",\"\\u043f\\u043b\\u0430\\u043d\",\"\\u043d\\u0430\\u0437\\u044b\\u0432\\u0430\\u0442\\u044c\",\"\\u0432\\u0441\\u0435\\u0433\\u043e\",\"\\u0434\\u043e\\u0440\\u043e\\u0433\\u043e\\u0439\",\"\\u043f\\u043e\\u043d\\u0435\\u0434\\u0435\\u043b\\u044c\\u043d\\u0438\\u043a\",\"\\u043a\\u043e\\u043d\\u0446\\u0435\\u0440\\u0442\",\"\\u0442\\u0443\\u0434\\u0430\",\"\\u0437\\u0430\\u0431\\u043e\\u043b\\u0435\\u0432\\u0430\\u0442\\u044c\",\"\\u0447\\u0430\\u0439\",\"\\u043e\\u0431\\u043e\\u0436\\u0430\\u0442\\u044c\",\"\\u0431\\u0435\\u0441\\u0438\\u0442\\u044c\",\":\\u0441\",\"\\u043d\\u0430\\u0437\\u0430\\u0434\",\"\\u043a\\u043d\\u0438\\u0433\\u0430\",\"\\u0438\\u0445\",\"\\u0440\\u0435\\u0430\\u043b\\u044c\\u043d\\u043e\",\"\\u043b\\u0438\\u0446\\u043e\",\"\\u0437\\u0430\\u043c\\u0435\\u0447\\u0430\\u0442\\u044c\",\"\\u0437\\u0434\\u0435\\u0441\\u044c\",\"\\u0431\\u044b\\u0442\\u044c)\",\"\\u043f\\u0440\\u043e\\u0447\\u0438\\u0442\\u044b\\u0432\\u0430\\u0442\\u044c\",\"\\u0442\\u0435\\u043c\\u0430\",\"\\u0441\\u0435\\u0437\\u043e\\u043d\",\"\\u043f\\u0440\\u0438\\u044f\\u0442\\u043d\\u044b\\u0439\",\"\\u0437\\u0430\\u043d\\u0438\\u043c\\u0430\\u0442\\u044c\\u0441\\u044f\",\"\\u043e\\u043a\\u043d\\u043e\",\"\\u0441\\u0435\\u0440\\u0438\\u0430\\u043b\",\"\\u0431\\u0443\\u0434\\u0442\\u043e\",\"\\u043b\\u044e\\u0431\\u043e\\u0439\",\"\\u043f\\u043e\\u043f\\u0430\\u0434\\u0430\\u0442\\u044c\",\"\\u043d\\u0438\\u043a\\u0430\\u043a\\u043e\\u0439\",\"amp\",\"\\u0432\\u0440\\u043e\\u043c\\u0430\\u0439\\u0434\\u0430\\u043d\",\"\\u043a\\u0430\\u043f\\u0435\\u0446\",\"\\u0438\\u0441\\u043a\\u0430\\u0442\\u044c\",\"\\u043b\\u0435\\u0436\\u0430\\u0442\\u044c\",\"\\u0441\\u0443\\u0431\\u0431\\u043e\\u0442\\u0430\",\"\\u0432\\u0438\\u0434\\u0438\\u043c\\u043e\"],\"x1\":{\"__ndarray__\":\"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\",\"dtype\":\"float32\",\"shape\":[500]},\"x2\":{\"__ndarray__\":\"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\",\"dtype\":\"float32\",\"shape\":[500]}}},\"id\":\"348775bb-7332-416a-b685-74815261e8e9\",\"type\":\"ColumnDataSource\"},{\"attributes\":{\"fill_alpha\":{\"value\":0.1},\"fill_color\":{\"value\":\"#1f77b4\"},\"line_alpha\":{\"value\":0.1},\"line_color\":{\"value\":\"#1f77b4\"},\"size\":{\"units\":\"screen\",\"value\":8},\"x\":{\"field\":\"x1\"},\"y\":{\"field\":\"x2\"}},\"id\":\"6615cd22-4ef4-4d6a-af32-32fc1ff08ded\",\"type\":\"Circle\"},{\"attributes\":{\"plot\":{\"id\":\"af1210e7-e92b-4660-9b7c-dccba48ccf43\",\"subtype\":\"Figure\",\"type\":\"Plot\"},\"ticker\":{\"id\":\"fa8a9f19-2af3-4c3a-9cae-06c6a44db749\",\"type\":\"BasicTicker\"}},\"id\":\"738788c3-9dfb-4313-bd57-f752414b41fe\",\"type\":\"Grid\"},{\"attributes\":{\"data_source\":{\"id\":\"348775bb-7332-416a-b685-74815261e8e9\",\"type\":\"ColumnDataSource\"},\"glyph\":{\"id\":\"e4551428-4a3c-4f0c-9e2c-fd71166d6753\",\"type\":\"Circle\"},\"hover_glyph\":null,\"muted_glyph\":null,\"nonselection_glyph\":{\"id\":\"6615cd22-4ef4-4d6a-af32-32fc1ff08ded\",\"type\":\"Circle\"},\"selection_glyph\":null,\"view\":{\"id\":\"9c37b23e-9f35-4517-bba3-3260397476e8\",\"type\":\"CDSView\"}},\"id\":\"fa39e2e9-4030-4520-bbe2-11bddb7e3fb4\",\"type\":\"GlyphRenderer\"},{\"attributes\":{\"formatter\":{\"id\":\"00ec7699-3d8e-4d3f-8e09-c8e4b97ac7c6\",\"type\":\"BasicTickFormatter\"},\"plot\":{\"id\":\"af1210e7-e92b-4660-9b7c-dccba48ccf43\",\"subtype\":\"Figure\",\"type\":\"Plot\"},\"ticker\":{\"id\":\"f2b9d40d-fd6d-46ce-b87a-8e325047a0e5\",\"type\":\"BasicTicker\"}},\"id\":\"bf2801a7-926e-456d-83a6-708af4ad7b54\",\"type\":\"LinearAxis\"},{\"attributes\":{\"source\":{\"id\":\"348775bb-7332-416a-b685-74815261e8e9\",\"type\":\"ColumnDataSource\"}},\"id\":\"9c37b23e-9f35-4517-bba3-3260397476e8\",\"type\":\"CDSView\"},{\"attributes\":{},\"id\":\"f2b9d40d-fd6d-46ce-b87a-8e325047a0e5\",\"type\":\"BasicTicker\"},{\"attributes\":{\"dimension\":1,\"plot\":{\"id\":\"af1210e7-e92b-4660-9b7c-dccba48ccf43\",\"subtype\":\"Figure\",\"type\":\"Plot\"},\"ticker\":{\"id\":\"f2b9d40d-fd6d-46ce-b87a-8e325047a0e5\",\"type\":\"BasicTicker\"}},\"id\":\"12fdef31-e68a-4a69-874e-6cd9ddc2e4d3\",\"type\":\"Grid\"},{\"attributes\":{},\"id\":\"2a530132-095c-4736-8f85-a32a6aa09574\",\"type\":\"BasicTickFormatter\"},{\"attributes\":{\"plot\":{\"id\":\"af1210e7-e92b-4660-9b7c-dccba48ccf43\",\"subtype\":\"Figure\",\"type\":\"Plot\"},\"source\":{\"id\":\"348775bb-7332-416a-b685-74815261e8e9\",\"type\":\"ColumnDataSource\"},\"text\":{\"field\":\"names\"},\"text_align\":\"center\",\"text_color\":{\"value\":\"#555555\"},\"text_font_size\":{\"value\":\"8pt\"},\"x\":{\"field\":\"x1\"},\"y\":{\"field\":\"x2\"},\"y_offset\":{\"value\":6}},\"id\":\"e83802a8-a07f-448e-8f60-d2dd8fa68852\",\"type\":\"LabelSet\"},{\"attributes\":{\"plot\":null,\"text\":\"word2vec T-SNE for most common words\"},\"id\":\"0d09038e-8dd4-4834-881c-4ff02f575996\",\"type\":\"Title\"},{\"attributes\":{},\"id\":\"5daa71fb-386a-432f-8ae0-d39f4a15ad2d\",\"type\":\"PanTool\"},{\"attributes\":{\"callback\":null},\"id\":\"842979ff-acd2-40a3-9dec-1561df230868\",\"type\":\"DataRange1d\"},{\"attributes\":{\"below\":[{\"id\":\"54fd0c9b-b5c2-48db-98af-dc955ad3e55e\",\"type\":\"LinearAxis\"}],\"left\":[{\"id\":\"bf2801a7-926e-456d-83a6-708af4ad7b54\",\"type\":\"LinearAxis\"}],\"renderers\":[{\"id\":\"54fd0c9b-b5c2-48db-98af-dc955ad3e55e\",\"type\":\"LinearAxis\"},{\"id\":\"738788c3-9dfb-4313-bd57-f752414b41fe\",\"type\":\"Grid\"},{\"id\":\"bf2801a7-926e-456d-83a6-708af4ad7b54\",\"type\":\"LinearAxis\"},{\"id\":\"12fdef31-e68a-4a69-874e-6cd9ddc2e4d3\",\"type\":\"Grid\"},{\"id\":\"fa39e2e9-4030-4520-bbe2-11bddb7e3fb4\",\"type\":\"GlyphRenderer\"},{\"id\":\"e83802a8-a07f-448e-8f60-d2dd8fa68852\",\"type\":\"LabelSet\"}],\"title\":{\"id\":\"0d09038e-8dd4-4834-881c-4ff02f575996\",\"type\":\"Title\"},\"toolbar\":{\"id\":\"cdfb7f79-9b7a-4993-bc85-27c662814ece\",\"type\":\"Toolbar\"},\"toolbar_location\":\"above\",\"x_range\":{\"id\":\"b6c75c43-a9a2-4a1e-9db2-840555f6d380\",\"type\":\"DataRange1d\"},\"x_scale\":{\"id\":\"57a5e3d8-6598-456c-8564-bfbb935e055e\",\"type\":\"LinearScale\"},\"y_range\":{\"id\":\"842979ff-acd2-40a3-9dec-1561df230868\",\"type\":\"DataRange1d\"},\"y_scale\":{\"id\":\"4d05eb87-f73e-4ff3-a316-dfab7686d628\",\"type\":\"LinearScale\"}},\"id\":\"af1210e7-e92b-4660-9b7c-dccba48ccf43\",\"subtype\":\"Figure\",\"type\":\"Plot\"},{\"attributes\":{},\"id\":\"0a9a47c4-9e4c-4650-a2d5-7731a587d4dd\",\"type\":\"WheelZoomTool\"},{\"attributes\":{\"callback\":null},\"id\":\"b6c75c43-a9a2-4a1e-9db2-840555f6d380\",\"type\":\"DataRange1d\"},{\"attributes\":{},\"id\":\"ecc488a5-15ee-4820-93a2-f3aa13559d62\",\"type\":\"ResetTool\"},{\"attributes\":{\"fill_color\":{\"value\":\"#1f77b4\"},\"line_color\":{\"value\":\"#1f77b4\"},\"size\":{\"units\":\"screen\",\"value\":8},\"x\":{\"field\":\"x1\"},\"y\":{\"field\":\"x2\"}},\"id\":\"e4551428-4a3c-4f0c-9e2c-fd71166d6753\",\"type\":\"Circle\"},{\"attributes\":{},\"id\":\"4d05eb87-f73e-4ff3-a316-dfab7686d628\",\"type\":\"LinearScale\"}],\"root_ids\":[\"af1210e7-e92b-4660-9b7c-dccba48ccf43\"]},\"title\":\"Bokeh Application\",\"version\":\"0.12.13\"}};\n",
              "  var render_items = [{\"docid\":\"55d19d13-5ad9-4425-b9d9-ea6f11b105a8\",\"elementid\":\"5feae626-2915-4265-9b4f-cdc77a5ab602\",\"modelid\":\"af1210e7-e92b-4660-9b7c-dccba48ccf43\"}];\n",
              "  root.Bokeh.embed.embed_items_notebook(docs_json, render_items);\n",
              "\n",
              "  }\n",
              "  if (root.Bokeh !== undefined) {\n",
              "    embed_document(root);\n",
              "  } else {\n",
              "    var attempts = 0;\n",
              "    var timer = setInterval(function(root) {\n",
              "      if (root.Bokeh !== undefined) {\n",
              "        embed_document(root);\n",
              "        clearInterval(timer);\n",
              "      }\n",
              "      attempts++;\n",
              "      if (attempts > 100) {\n",
              "        console.log(\"Bokeh: ERROR: Unable to run BokehJS code because BokehJS library is missing\")\n",
              "        clearInterval(timer);\n",
              "      }\n",
              "    }, 10, root)\n",
              "  }\n",
              "})(window);"
            ],
            "application/vnd.bokehjs_exec.v0+json": ""
          },
          "metadata": {
            "application/vnd.bokehjs_exec.v0+json": {
              "id": "af1210e7-e92b-4660-9b7c-dccba48ccf43"
            }
          },
          "output_type": "display_data"
        }
      ],
      "source": [
        "from bokeh.models import ColumnDataSource, LabelSet\n",
        "from bokeh.plotting import figure, show, output_file\n",
        "from bokeh.io import output_notebook\n",
        "output_notebook()\n",
        "\n",
        "p = figure(tools=\"pan,wheel_zoom,reset,save\",\n",
        "           toolbar_location=\"above\",\n",
        "           title=\"word2vec T-SNE for most common words\")\n",
        "\n",
        "source = ColumnDataSource(data=dict(x1=top_words_tsne[:,0],\n",
        "                                    x2=top_words_tsne[:,1],\n",
        "                                    names=top_words))\n",
        "\n",
        "p.scatter(x=\"x1\", y=\"x2\", size=8, source=source)\n",
        "\n",
        "labels = LabelSet(x=\"x1\", y=\"x2\", text=\"names\", y_offset=6,\n",
        "                  text_font_size=\"8pt\", text_color=\"#555555\",\n",
        "                  source=source, text_align='center')\n",
        "p.add_layout(labels)\n",
        "\n",
        "show(p)"
      ]
    },
    {
      "cell_type": "markdown",
      "metadata": {
        "id": "oYJ8ACA2QOY1"
      },
      "source": [
        "### Кластеризация слов "
      ]
    },
    {
      "cell_type": "code",
      "execution_count": 27,
      "metadata": {
        "id": "DnFHlfajQOY1"
      },
      "outputs": [],
      "source": [
        "from sklearn.metrics.pairwise import cosine_similarity\n",
        "dist = 1 - cosine_similarity(top_words_vec)"
      ]
    },
    {
      "cell_type": "code",
      "execution_count": 28,
      "metadata": {
        "colab": {
          "base_uri": "https://localhost:8080/",
          "height": 1000
        },
        "id": "A_D44tsWQOY1",
        "outputId": "84629113-b3b9-44c3-8d38-3b8a2e50e83d"
      },
      "outputs": [
        {
          "output_type": "display_data",
          "data": {
            "image/png": "[encoded data removed]",
            "text/plain": [
              "<Figure size 720x7200 with 1 Axes>"
            ]
          },
          "metadata": {
            "needs_background": "light"
          }
        }
      ],
      "source": [
        "from scipy.cluster.hierarchy import  ward, dendrogram\n",
        "\n",
        "linkage_matrix = ward(dist) \n",
        "\n",
        "fig, ax = plt.subplots(figsize=(10, 100)) \n",
        "ax = dendrogram(linkage_matrix, orientation=\"right\", labels=top_words);\n",
        "\n",
        "plt.tick_params(\\\n",
        "    axis= 'x',          # changes apply to the x-axis\n",
        "    which='both',      # both major and minor ticks are affected\n",
        "    bottom='off',      # ticks along the bottom edge are off\n",
        "    top='off',         # ticks along the top edge are off\n",
        "    labelbottom='off')\n",
        "\n",
        "plt.tight_layout() \n",
        "\n",
        "plt.savefig('w2v_cluster.png', dpi=200) #save figure as ward_clusters"
      ]
    },
    {
      "cell_type": "markdown",
      "metadata": {
        "id": "Lg_xVO2dQOY2"
      },
      "source": [
        "## Классификация текстов \n",
        "\n",
        "По мотивам http://nadbordrozd.github.io/blog/2016/05/20/text-classification-with-word2vec/"
      ]
    },
    {
      "cell_type": "code",
      "execution_count": 29,
      "metadata": {
        "colab": {
          "base_uri": "https://localhost:8080/"
        },
        "id": "acoi4rH0QOY2",
        "outputId": "ff0a22be-18d3-45b4-b6ae-327c5955471c"
      },
      "outputs": [
        {
          "output_type": "stream",
          "name": "stdout",
          "text": [
            "total train examples 151978\n",
            "total test examples 74856\n"
          ]
        }
      ],
      "source": [
        "X = df.text.tolist()\n",
        "y = df.sent.tolist()\n",
        "\n",
        "X, y = np.array(X), np.array(y)\n",
        "\n",
        "X_train, X_test, y_train, y_test = train_test_split(X,y, test_size=0.33)\n",
        "print (\"total train examples %s\" % len(y_train))\n",
        "print (\"total test examples %s\" % len(y_test))"
      ]
    },
    {
      "cell_type": "markdown",
      "metadata": {
        "id": "OjmrwrxwQOY2"
      },
      "source": [
        "## Mean Vector"
      ]
    },
    {
      "cell_type": "code",
      "execution_count": 30,
      "metadata": {
        "id": "wa0bSzDWQOY2"
      },
      "outputs": [],
      "source": [
        "class MeanEmbeddingVectorizer(object):\n",
        "    def __init__(self, word2vec):\n",
        "        self.word2vec = word2vec\n",
        "        # if a text is empty we should return a vector of zeros\n",
        "        # with the same dimensionality as all the other vectors\n",
        "        self.dim = len(w2v.popitem()[1])\n",
        "\n",
        "    def fit(self, X, y):\n",
        "        return self\n",
        "\n",
        "    def transform(self, X):\n",
        "        return np.array([\n",
        "            np.mean([self.word2vec[w] for w in words if w in self.word2vec]\n",
        "                    or [np.zeros(self.dim)], axis=0)\n",
        "            for words in X\n",
        "        ])\n",
        "\n"
      ]
    },
    {
      "cell_type": "code",
      "execution_count": 31,
      "metadata": {
        "id": "u5rjpkfdQOY2"
      },
      "outputs": [],
      "source": [
        "w2v = dict(zip(model.wv.index2word, model.wv.syn0))"
      ]
    },
    {
      "cell_type": "code",
      "execution_count": 32,
      "metadata": {
        "id": "1MZUeCYhQOY3"
      },
      "outputs": [],
      "source": [
        "from sklearn.pipeline import Pipeline\n",
        "from sklearn.ensemble import RandomForestClassifier\n",
        "\n",
        "rfc_w2v = Pipeline([\n",
        "    (\"word2vec vectorizer\", MeanEmbeddingVectorizer(w2v)),\n",
        "    (\"extra trees\", RandomForestClassifier(n_estimators=20))])\n"
      ]
    },
    {
      "cell_type": "code",
      "execution_count": 33,
      "metadata": {
        "id": "9Yj2ILSTQOY3"
      },
      "outputs": [],
      "source": [
        "rfc_w2v.fit(X_train,y_train)\n",
        "pred = rfc_w2v.predict(X_test)"
      ]
    },
    {
      "cell_type": "code",
      "execution_count": 34,
      "metadata": {
        "colab": {
          "base_uri": "https://localhost:8080/"
        },
        "id": "ufwKvtLBQOY3",
        "outputId": "3c014439-4af4-450b-e8e7-8d4eb2a94a3e"
      },
      "outputs": [
        {
          "output_type": "stream",
          "name": "stdout",
          "text": [
            "Precision:   0.81\n",
            "Recall:   0.81\n",
            "F1-measure:   0.81\n",
            "Accuracy:   0.81\n",
            "              precision    recall  f1-score   support\n",
            "\n",
            "         neg       0.79      0.83      0.81     36944\n",
            "         pos       0.83      0.79      0.81     37912\n",
            "\n",
            "    accuracy                           0.81     74856\n",
            "   macro avg       0.81      0.81      0.81     74856\n",
            "weighted avg       0.81      0.81      0.81     74856\n",
            "\n"
          ]
        },
        {
          "output_type": "execute_result",
          "data": {
            "text/plain": [
              "<function sklearn.metrics._classification.classification_report>"
            ]
          },
          "metadata": {},
          "execution_count": 34
        }
      ],
      "source": [
        "print(\"Precision: {0:6.2f}\".format(precision_score(y_test, pred, average='macro')))\n",
        "print(\"Recall: {0:6.2f}\".format(recall_score(y_test, pred, average='macro')))\n",
        "print(\"F1-measure: {0:6.2f}\".format(f1_score(y_test, pred, average='macro')))\n",
        "print(\"Accuracy: {0:6.2f}\".format(accuracy_score(y_test, pred)))\n",
        "print(classification_report(y_test, pred))\n",
        "labels = rfc_w2v.classes_\n",
        "\n",
        "classification_report\n",
        "#sns.heatmap(data=confusion_matrix(y_test, pred), annot=True, fmt=\"d\", cbar=False, xticklabels=labels, yticklabels=labels)\n",
        "#plt.title(\"Confusion matrix\")\n",
        "#plt.show()"
      ]
    },
    {
      "cell_type": "markdown",
      "metadata": {
        "id": "kBDYaCKDQOY3"
      },
      "source": [
        "# Средний вектор с весами tf-idf\n"
      ]
    },
    {
      "cell_type": "code",
      "execution_count": 35,
      "metadata": {
        "id": "AA7CNLOvQOY3"
      },
      "outputs": [],
      "source": [
        "class TfidfEmbeddingVectorizer(object):\n",
        "    def __init__(self, word2vec):\n",
        "        self.word2vec = word2vec\n",
        "        self.word2weight = None\n",
        "        self.dim = len(w2v.popitem()[1])\n",
        "\n",
        "    def fit(self, X, y):\n",
        "        tfidf = TfidfVectorizer(analyzer=lambda x: x)\n",
        "        tfidf.fit(X)\n",
        "        max_idf = max(tfidf.idf_)\n",
        "        self.word2weight = defaultdict(\n",
        "            lambda: max_idf,\n",
        "            [(w, tfidf.idf_[i]) for w, i in tfidf.vocabulary_.items()])\n",
        "\n",
        "        return self\n",
        "\n",
        "\n",
        "\n",
        "    def transform(self, X):\n",
        "        return np.array([\n",
        "                np.mean([self.word2vec[w] * self.word2weight[w]\n",
        "                         for w in words if w in self.word2vec] or\n",
        "                        [np.zeros(self.dim)], axis=0)\n",
        "                for words in X\n",
        "            ])"
      ]
    },
    {
      "cell_type": "code",
      "execution_count": 36,
      "metadata": {
        "id": "LzW8cfgAQOY3"
      },
      "outputs": [],
      "source": [
        "from sklearn.pipeline import Pipeline\n",
        "from sklearn.ensemble import RandomForestClassifier\n",
        "\n",
        "rfc_w2v = Pipeline([\n",
        "    (\"word2vec vectorizer\", TfidfEmbeddingVectorizer(w2v)),\n",
        "    (\"extra trees\", RandomForestClassifier(n_estimators=20))])\n"
      ]
    },
    {
      "cell_type": "code",
      "execution_count": 37,
      "metadata": {
        "id": "I6ryq-mgQOY3"
      },
      "outputs": [],
      "source": [
        "rfc_w2v.fit(X_train,y_train)\n",
        "pred = rfc_w2v.predict(X_test)"
      ]
    },
    {
      "cell_type": "code",
      "execution_count": 38,
      "metadata": {
        "colab": {
          "base_uri": "https://localhost:8080/"
        },
        "id": "AED0u7HmQOY4",
        "outputId": "7814928c-b2e8-4718-d537-5dd0e0c7cfb0"
      },
      "outputs": [
        {
          "output_type": "stream",
          "name": "stdout",
          "text": [
            "Precision:   0.86\n",
            "Recall:   0.86\n",
            "F1-measure:   0.86\n",
            "Accuracy:   0.86\n",
            "              precision    recall  f1-score   support\n",
            "\n",
            "         neg       0.84      0.88      0.86     36944\n",
            "         pos       0.87      0.84      0.86     37912\n",
            "\n",
            "    accuracy                           0.86     74856\n",
            "   macro avg       0.86      0.86      0.86     74856\n",
            "weighted avg       0.86      0.86      0.86     74856\n",
            "\n"
          ]
        },
        {
          "output_type": "execute_result",
          "data": {
            "text/plain": [
              "<function sklearn.metrics._classification.classification_report>"
            ]
          },
          "metadata": {},
          "execution_count": 38
        }
      ],
      "source": [
        "print(\"Precision: {0:6.2f}\".format(precision_score(y_test, pred, average='macro')))\n",
        "print(\"Recall: {0:6.2f}\".format(recall_score(y_test, pred, average='macro')))\n",
        "print(\"F1-measure: {0:6.2f}\".format(f1_score(y_test, pred, average='macro')))\n",
        "print(\"Accuracy: {0:6.2f}\".format(accuracy_score(y_test, pred)))\n",
        "print(classification_report(y_test, pred))\n",
        "labels = rfc_w2v.classes_\n",
        "\n",
        "classification_report\n",
        "#sns.heatmap(data=confusion_matrix(y_test, pred), annot=True, fmt=\"d\", cbar=False, xticklabels=labels, yticklabels=labels)\n",
        "#plt.title(\"Confusion matrix\")\n",
        "#plt.show()"
      ]
    },
    {
      "cell_type": "markdown",
      "metadata": {
        "id": "vDq3uCqzQOY4"
      },
      "source": [
        "# Бонусное задание\n",
        "\n",
        " 1) зайдите на сайт RusVectores и скачайте одну из предобученных моделей gensim: https://rusvectores.org/ru/models/ \n",
        " \n",
        "2) Проведите аналогичные эксперименты с использованием скачанных векторных представлений\n",
        "\n",
        "Как изменился результат?"
      ]
    },
    {
      "cell_type": "code",
      "execution_count": null,
      "metadata": {
        "id": "O923s_riQOY4"
      },
      "outputs": [],
      "source": [
        ""
      ]
    }
  ],
  "metadata": {
    "kernelspec": {
      "display_name": "Python 3",
      "language": "python",
      "name": "python3"
    },
    "language_info": {
      "codemirror_mode": {
        "name": "ipython",
        "version": 3
      },
      "file_extension": ".py",
      "mimetype": "text/x-python",
      "name": "python",
      "nbconvert_exporter": "python",
      "pygments_lexer": "ipython3",
      "version": "3.6.4"
    },
    "colab": {
      "name": "word_embeddings_01_02.ipynb",
      "provenance": []
    }
  },
  "nbformat": 4,
  "nbformat_minor": 0
}