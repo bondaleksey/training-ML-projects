{
 "cells": [
  {
   "cell_type": "markdown",
   "metadata": {},
   "source": [
    "# HW_07 Бондаренко Алексей bondaleksey@gmail.com"
   ]
  },
  {
   "cell_type": "code",
   "execution_count": 1,
   "metadata": {},
   "outputs": [],
   "source": [
    "import pandas as pd\n",
    "import gzip\n",
    "import json\n",
    "import numpy as np\n",
    "# from tqdm import tqdm_notebook\n",
    "from tqdm.notebook import tqdm\n",
    "from sklearn.base import BaseEstimator\n",
    "from sklearn.metrics import mean_squared_error\n",
    "from sklearn.metrics.pairwise import cosine_similarity\n",
    "from sklearn.metrics import mean_absolute_percentage_error, mean_squared_error\n",
    "from sklearn.metrics import mean_absolute_error,r2_score"
   ]
  },
  {
   "cell_type": "markdown",
   "metadata": {},
   "source": [
    "Цель данной работы: сравнить модели User-based и Item-based рекомендаций (collaborative filtering) для задачи предложения пользователям новые покупки. \n",
    "\n",
    "Сравниваются эти два метода, так как полагаем, что у нас есть информация только о том, что уже пользователи приобретали в данном магазине и другой информации нет. "
   ]
  },
  {
   "cell_type": "markdown",
   "metadata": {},
   "source": [
    "# 1 Данные\n",
    "\n",
    "## 1.1 Описание данных\n",
    " Признаки [набора данных](https://nijianmo.github.io/amazon/index.html)\n",
    "\n",
    "- reviewerID - ID of the reviewer, e.g. A2SUAM1J3GNN3B\n",
    "- asin - ID of the product, e.g. 0000013714\n",
    "- reviewerName - name of the reviewer\n",
    "- vote - helpful votes of the review\n",
    "- style - a disctionary of the product metadata, e.g., \"Format\" is \"Hardcover\"\n",
    "- reviewText - text of the review\n",
    "- overall - rating of the product\n",
    "- summary - summary of the review\n",
    "- unixReviewTime - time of the review (unix time)\n",
    "- reviewTime - time of the review (raw)\n",
    "- image - images that users post after they have received the product"
   ]
  },
  {
   "cell_type": "code",
   "execution_count": 2,
   "metadata": {},
   "outputs": [
    {
     "name": "stdout",
     "output_type": "stream",
     "text": [
      "12805\n"
     ]
    }
   ],
   "source": [
    "### load the meta data\n",
    "data = []\n",
    "with gzip.open('data_rs/Software_5.json.gz') as f:\n",
    "    for l in f:\n",
    "        data.append(json.loads(l.strip()))\n",
    "    \n",
    "# total length of list, this number equals total number of products\n",
    "print(len(data))"
   ]
  },
  {
   "cell_type": "code",
   "execution_count": 3,
   "metadata": {},
   "outputs": [
    {
     "name": "stdout",
     "output_type": "stream",
     "text": [
      "12805\n"
     ]
    }
   ],
   "source": [
    "df = pd.DataFrame.from_dict(data)\n",
    "print(len(df))"
   ]
  },
  {
   "cell_type": "code",
   "execution_count": 48,
   "metadata": {},
   "outputs": [
    {
     "data": {
      "text/html": [
       "<div>\n",
       "<style scoped>\n",
       "    .dataframe tbody tr th:only-of-type {\n",
       "        vertical-align: middle;\n",
       "    }\n",
       "\n",
       "    .dataframe tbody tr th {\n",
       "        vertical-align: top;\n",
       "    }\n",
       "\n",
       "    .dataframe thead th {\n",
       "        text-align: right;\n",
       "    }\n",
       "</style>\n",
       "<table border=\"1\" class=\"dataframe\">\n",
       "  <thead>\n",
       "    <tr style=\"text-align: right;\">\n",
       "      <th></th>\n",
       "      <th>overall</th>\n",
       "      <th>verified</th>\n",
       "      <th>reviewTime</th>\n",
       "      <th>reviewerID</th>\n",
       "      <th>asin</th>\n",
       "      <th>style</th>\n",
       "      <th>reviewerName</th>\n",
       "      <th>reviewText</th>\n",
       "      <th>summary</th>\n",
       "      <th>unixReviewTime</th>\n",
       "      <th>vote</th>\n",
       "      <th>image</th>\n",
       "    </tr>\n",
       "  </thead>\n",
       "  <tbody>\n",
       "    <tr>\n",
       "      <th>0</th>\n",
       "      <td>4.0</td>\n",
       "      <td>False</td>\n",
       "      <td>10 20, 2010</td>\n",
       "      <td>A38NELQT98S4H8</td>\n",
       "      <td>0321719816</td>\n",
       "      <td>{'Format:': ' DVD-ROM'}</td>\n",
       "      <td>WB Halper</td>\n",
       "      <td>I've been using Dreamweaver (and it's predeces...</td>\n",
       "      <td>A solid overview of Dreamweaver CS5</td>\n",
       "      <td>1287532800</td>\n",
       "      <td>NaN</td>\n",
       "      <td>NaN</td>\n",
       "    </tr>\n",
       "    <tr>\n",
       "      <th>1</th>\n",
       "      <td>4.0</td>\n",
       "      <td>False</td>\n",
       "      <td>10 18, 2010</td>\n",
       "      <td>A3QJU4FEN8PQSZ</td>\n",
       "      <td>0321719816</td>\n",
       "      <td>{'Format:': ' DVD-ROM'}</td>\n",
       "      <td>Grimmy</td>\n",
       "      <td>The demo is done with the PC version, with ref...</td>\n",
       "      <td>A good value</td>\n",
       "      <td>1287360000</td>\n",
       "      <td>NaN</td>\n",
       "      <td>NaN</td>\n",
       "    </tr>\n",
       "    <tr>\n",
       "      <th>2</th>\n",
       "      <td>5.0</td>\n",
       "      <td>False</td>\n",
       "      <td>10 16, 2010</td>\n",
       "      <td>ACJT8MUC0LRF0</td>\n",
       "      <td>0321719816</td>\n",
       "      <td>{'Format:': ' DVD-ROM'}</td>\n",
       "      <td>D. Fowler</td>\n",
       "      <td>If you've been wanting to learn how to create ...</td>\n",
       "      <td>This is excellent software for those who want ...</td>\n",
       "      <td>1287187200</td>\n",
       "      <td>3</td>\n",
       "      <td>NaN</td>\n",
       "    </tr>\n",
       "    <tr>\n",
       "      <th>3</th>\n",
       "      <td>5.0</td>\n",
       "      <td>False</td>\n",
       "      <td>10 12, 2010</td>\n",
       "      <td>AYUF7YETYOLNX</td>\n",
       "      <td>0321719816</td>\n",
       "      <td>{'Format:': ' DVD-ROM'}</td>\n",
       "      <td>Bryan Newman</td>\n",
       "      <td>I've been creating websites with Dreamweaver f...</td>\n",
       "      <td>A Fantastic Overview of Dream Weaver and Web D...</td>\n",
       "      <td>1286841600</td>\n",
       "      <td>NaN</td>\n",
       "      <td>NaN</td>\n",
       "    </tr>\n",
       "    <tr>\n",
       "      <th>4</th>\n",
       "      <td>5.0</td>\n",
       "      <td>False</td>\n",
       "      <td>10 7, 2010</td>\n",
       "      <td>A31ICLWQ9CSHRS</td>\n",
       "      <td>0321719816</td>\n",
       "      <td>{'Format:': ' DVD-ROM'}</td>\n",
       "      <td>Al Swanson</td>\n",
       "      <td>I decided (after trying a number of other prod...</td>\n",
       "      <td>Excellent Tutorials!</td>\n",
       "      <td>1286409600</td>\n",
       "      <td>NaN</td>\n",
       "      <td>NaN</td>\n",
       "    </tr>\n",
       "  </tbody>\n",
       "</table>\n",
       "</div>"
      ],
      "text/plain": [
       "   overall  verified   reviewTime      reviewerID        asin  \\\n",
       "0      4.0     False  10 20, 2010  A38NELQT98S4H8  0321719816   \n",
       "1      4.0     False  10 18, 2010  A3QJU4FEN8PQSZ  0321719816   \n",
       "2      5.0     False  10 16, 2010   ACJT8MUC0LRF0  0321719816   \n",
       "3      5.0     False  10 12, 2010   AYUF7YETYOLNX  0321719816   \n",
       "4      5.0     False   10 7, 2010  A31ICLWQ9CSHRS  0321719816   \n",
       "\n",
       "                     style  reviewerName  \\\n",
       "0  {'Format:': ' DVD-ROM'}     WB Halper   \n",
       "1  {'Format:': ' DVD-ROM'}        Grimmy   \n",
       "2  {'Format:': ' DVD-ROM'}     D. Fowler   \n",
       "3  {'Format:': ' DVD-ROM'}  Bryan Newman   \n",
       "4  {'Format:': ' DVD-ROM'}    Al Swanson   \n",
       "\n",
       "                                          reviewText  \\\n",
       "0  I've been using Dreamweaver (and it's predeces...   \n",
       "1  The demo is done with the PC version, with ref...   \n",
       "2  If you've been wanting to learn how to create ...   \n",
       "3  I've been creating websites with Dreamweaver f...   \n",
       "4  I decided (after trying a number of other prod...   \n",
       "\n",
       "                                             summary  unixReviewTime vote  \\\n",
       "0                A solid overview of Dreamweaver CS5      1287532800  NaN   \n",
       "1                                       A good value      1287360000  NaN   \n",
       "2  This is excellent software for those who want ...      1287187200    3   \n",
       "3  A Fantastic Overview of Dream Weaver and Web D...      1286841600  NaN   \n",
       "4                               Excellent Tutorials!      1286409600  NaN   \n",
       "\n",
       "  image  \n",
       "0   NaN  \n",
       "1   NaN  \n",
       "2   NaN  \n",
       "3   NaN  \n",
       "4   NaN  "
      ]
     },
     "execution_count": 48,
     "metadata": {},
     "output_type": "execute_result"
    }
   ],
   "source": [
    "df.head()"
   ]
  },
  {
   "cell_type": "markdown",
   "metadata": {},
   "source": [
    "## 1.2 EDA"
   ]
  },
  {
   "cell_type": "markdown",
   "metadata": {},
   "source": [
    "Число уникальных пользователей"
   ]
  },
  {
   "cell_type": "code",
   "execution_count": 5,
   "metadata": {},
   "outputs": [
    {
     "data": {
      "text/plain": [
       "1826"
      ]
     },
     "execution_count": 5,
     "metadata": {},
     "output_type": "execute_result"
    }
   ],
   "source": [
    "len(pd.unique(df['reviewerID']))"
   ]
  },
  {
   "cell_type": "markdown",
   "metadata": {},
   "source": [
    "Число уникальных товаров"
   ]
  },
  {
   "cell_type": "code",
   "execution_count": 6,
   "metadata": {},
   "outputs": [
    {
     "data": {
      "text/plain": [
       "802"
      ]
     },
     "execution_count": 6,
     "metadata": {},
     "output_type": "execute_result"
    }
   ],
   "source": [
    "len(pd.unique(df['asin']))"
   ]
  },
  {
   "cell_type": "code",
   "execution_count": 55,
   "metadata": {},
   "outputs": [
    {
     "data": {
      "image/png": "[encoded data removed]",
      "text/plain": [
       "<Figure size 432x288 with 1 Axes>"
      ]
     },
     "metadata": {
      "needs_background": "light"
     },
     "output_type": "display_data"
    }
   ],
   "source": [
    "df.value_counts(\"overall\", sort = False).plot(kind = 'bar',title='Распределение оценок пользователей');"
   ]
  },
  {
   "cell_type": "markdown",
   "metadata": {},
   "source": [
    "Количество отсутствующих значений"
   ]
  },
  {
   "cell_type": "code",
   "execution_count": 64,
   "metadata": {},
   "outputs": [
    {
     "data": {
      "image/png": "[encoded data removed]",
      "text/plain": [
       "<Figure size 432x288 with 1 Axes>"
      ]
     },
     "metadata": {
      "needs_background": "light"
     },
     "output_type": "display_data"
    }
   ],
   "source": [
    "df.isna().sum().plot.bar(title=\"Пропуски в данных\");"
   ]
  },
  {
   "cell_type": "markdown",
   "metadata": {},
   "source": [
    "Построим распределение пользователей и числа их покупок"
   ]
  },
  {
   "cell_type": "code",
   "execution_count": 40,
   "metadata": {},
   "outputs": [
    {
     "data": {
      "text/html": [
       "<div>\n",
       "<style scoped>\n",
       "    .dataframe tbody tr th:only-of-type {\n",
       "        vertical-align: middle;\n",
       "    }\n",
       "\n",
       "    .dataframe tbody tr th {\n",
       "        vertical-align: top;\n",
       "    }\n",
       "\n",
       "    .dataframe thead th {\n",
       "        text-align: right;\n",
       "    }\n",
       "</style>\n",
       "<table border=\"1\" class=\"dataframe\">\n",
       "  <thead>\n",
       "    <tr style=\"text-align: right;\">\n",
       "      <th></th>\n",
       "      <th>avg_rating</th>\n",
       "      <th>number_of_ratings</th>\n",
       "    </tr>\n",
       "    <tr>\n",
       "      <th>reviewerID</th>\n",
       "      <th></th>\n",
       "      <th></th>\n",
       "    </tr>\n",
       "  </thead>\n",
       "  <tbody>\n",
       "    <tr>\n",
       "      <th>A100UD67AHFODS</th>\n",
       "      <td>4.800000</td>\n",
       "      <td>5</td>\n",
       "    </tr>\n",
       "    <tr>\n",
       "      <th>A105S56ODHGJEK</th>\n",
       "      <td>3.689655</td>\n",
       "      <td>29</td>\n",
       "    </tr>\n",
       "    <tr>\n",
       "      <th>A1075X1Q4M3S78</th>\n",
       "      <td>5.000000</td>\n",
       "      <td>5</td>\n",
       "    </tr>\n",
       "    <tr>\n",
       "      <th>A10C5CJK1YKGV0</th>\n",
       "      <td>4.100000</td>\n",
       "      <td>10</td>\n",
       "    </tr>\n",
       "    <tr>\n",
       "      <th>A10CRW7XRJBJ2G</th>\n",
       "      <td>3.200000</td>\n",
       "      <td>5</td>\n",
       "    </tr>\n",
       "  </tbody>\n",
       "</table>\n",
       "</div>"
      ],
      "text/plain": [
       "                avg_rating  number_of_ratings\n",
       "reviewerID                                   \n",
       "A100UD67AHFODS    4.800000                  5\n",
       "A105S56ODHGJEK    3.689655                 29\n",
       "A1075X1Q4M3S78    5.000000                  5\n",
       "A10C5CJK1YKGV0    4.100000                 10\n",
       "A10CRW7XRJBJ2G    3.200000                  5"
      ]
     },
     "execution_count": 40,
     "metadata": {},
     "output_type": "execute_result"
    }
   ],
   "source": [
    "reviewers = df[['reviewerID','overall']].groupby('reviewerID').mean().copy()\n",
    "reviewers['asin_count']=df[['reviewerID','asin']].groupby('reviewerID').size()\n",
    "reviewers.columns = ['avg_rating', 'number_of_ratings']\n",
    "reviewers.head()\n"
   ]
  },
  {
   "cell_type": "code",
   "execution_count": 61,
   "metadata": {},
   "outputs": [
    {
     "data": {
      "image/png": "[encoded data removed]",
      "text/plain": [
       "<Figure size 432x288 with 1 Axes>"
      ]
     },
     "metadata": {
      "needs_background": "light"
     },
     "output_type": "display_data"
    }
   ],
   "source": [
    "reviewers['avg_rating'].plot.hist(bins=20,title='Гистограмма пользовательских оценок');"
   ]
  },
  {
   "cell_type": "code",
   "execution_count": 62,
   "metadata": {},
   "outputs": [
    {
     "data": {
      "image/png": "[encoded data removed]",
      "text/plain": [
       "<Figure size 432x288 with 1 Axes>"
      ]
     },
     "metadata": {
      "needs_background": "light"
     },
     "output_type": "display_data"
    }
   ],
   "source": [
    "reviewers[\"number_of_ratings\"].plot.hist(bins=20,title='Гистограмма числа пользовательских оценок');"
   ]
  },
  {
   "cell_type": "markdown",
   "metadata": {},
   "source": [
    "можно и скатерплот число покупок пользователя и его средняя оценка"
   ]
  },
  {
   "cell_type": "code",
   "execution_count": 43,
   "metadata": {},
   "outputs": [
    {
     "data": {
      "image/png": "[encoded data removed]",
      "text/plain": [
       "<Figure size 432x288 with 1 Axes>"
      ]
     },
     "metadata": {
      "needs_background": "light"
     },
     "output_type": "display_data"
    }
   ],
   "source": [
    "reviewers.plot.scatter(x='number_of_ratings',y='avg_rating',title='Связь числа оценок и их среднего значения для пользователя');"
   ]
  },
  {
   "cell_type": "code",
   "execution_count": 12,
   "metadata": {},
   "outputs": [
    {
     "data": {
      "text/html": [
       "<div>\n",
       "<style scoped>\n",
       "    .dataframe tbody tr th:only-of-type {\n",
       "        vertical-align: middle;\n",
       "    }\n",
       "\n",
       "    .dataframe tbody tr th {\n",
       "        vertical-align: top;\n",
       "    }\n",
       "\n",
       "    .dataframe thead th {\n",
       "        text-align: right;\n",
       "    }\n",
       "</style>\n",
       "<table border=\"1\" class=\"dataframe\">\n",
       "  <thead>\n",
       "    <tr style=\"text-align: right;\">\n",
       "      <th></th>\n",
       "      <th>overall</th>\n",
       "      <th>asin_count</th>\n",
       "    </tr>\n",
       "    <tr>\n",
       "      <th>reviewerID</th>\n",
       "      <th></th>\n",
       "      <th></th>\n",
       "    </tr>\n",
       "  </thead>\n",
       "  <tbody>\n",
       "    <tr>\n",
       "      <th>A100UD67AHFODS</th>\n",
       "      <td>4.800000</td>\n",
       "      <td>5</td>\n",
       "    </tr>\n",
       "    <tr>\n",
       "      <th>A105S56ODHGJEK</th>\n",
       "      <td>3.689655</td>\n",
       "      <td>29</td>\n",
       "    </tr>\n",
       "    <tr>\n",
       "      <th>A1075X1Q4M3S78</th>\n",
       "      <td>5.000000</td>\n",
       "      <td>5</td>\n",
       "    </tr>\n",
       "    <tr>\n",
       "      <th>A10C5CJK1YKGV0</th>\n",
       "      <td>4.100000</td>\n",
       "      <td>10</td>\n",
       "    </tr>\n",
       "    <tr>\n",
       "      <th>A10CRW7XRJBJ2G</th>\n",
       "      <td>3.200000</td>\n",
       "      <td>5</td>\n",
       "    </tr>\n",
       "  </tbody>\n",
       "</table>\n",
       "</div>"
      ],
      "text/plain": [
       "                 overall  asin_count\n",
       "reviewerID                          \n",
       "A100UD67AHFODS  4.800000           5\n",
       "A105S56ODHGJEK  3.689655          29\n",
       "A1075X1Q4M3S78  5.000000           5\n",
       "A10C5CJK1YKGV0  4.100000          10\n",
       "A10CRW7XRJBJ2G  3.200000           5"
      ]
     },
     "execution_count": 12,
     "metadata": {},
     "output_type": "execute_result"
    }
   ],
   "source": [
    "reviewers.head()"
   ]
  },
  {
   "cell_type": "code",
   "execution_count": 13,
   "metadata": {},
   "outputs": [
    {
     "data": {
      "text/html": [
       "<div>\n",
       "<style scoped>\n",
       "    .dataframe tbody tr th:only-of-type {\n",
       "        vertical-align: middle;\n",
       "    }\n",
       "\n",
       "    .dataframe tbody tr th {\n",
       "        vertical-align: top;\n",
       "    }\n",
       "\n",
       "    .dataframe thead th {\n",
       "        text-align: right;\n",
       "    }\n",
       "</style>\n",
       "<table border=\"1\" class=\"dataframe\">\n",
       "  <thead>\n",
       "    <tr style=\"text-align: right;\">\n",
       "      <th></th>\n",
       "      <th>reviewerID</th>\n",
       "      <th>asin</th>\n",
       "      <th>overall</th>\n",
       "      <th>unixReviewTime</th>\n",
       "    </tr>\n",
       "  </thead>\n",
       "  <tbody>\n",
       "    <tr>\n",
       "      <th>0</th>\n",
       "      <td>A38NELQT98S4H8</td>\n",
       "      <td>0321719816</td>\n",
       "      <td>4.0</td>\n",
       "      <td>1287532800</td>\n",
       "    </tr>\n",
       "    <tr>\n",
       "      <th>1</th>\n",
       "      <td>A3QJU4FEN8PQSZ</td>\n",
       "      <td>0321719816</td>\n",
       "      <td>4.0</td>\n",
       "      <td>1287360000</td>\n",
       "    </tr>\n",
       "    <tr>\n",
       "      <th>2</th>\n",
       "      <td>ACJT8MUC0LRF0</td>\n",
       "      <td>0321719816</td>\n",
       "      <td>5.0</td>\n",
       "      <td>1287187200</td>\n",
       "    </tr>\n",
       "    <tr>\n",
       "      <th>3</th>\n",
       "      <td>AYUF7YETYOLNX</td>\n",
       "      <td>0321719816</td>\n",
       "      <td>5.0</td>\n",
       "      <td>1286841600</td>\n",
       "    </tr>\n",
       "    <tr>\n",
       "      <th>4</th>\n",
       "      <td>A31ICLWQ9CSHRS</td>\n",
       "      <td>0321719816</td>\n",
       "      <td>5.0</td>\n",
       "      <td>1286409600</td>\n",
       "    </tr>\n",
       "  </tbody>\n",
       "</table>\n",
       "</div>"
      ],
      "text/plain": [
       "       reviewerID        asin  overall  unixReviewTime\n",
       "0  A38NELQT98S4H8  0321719816      4.0      1287532800\n",
       "1  A3QJU4FEN8PQSZ  0321719816      4.0      1287360000\n",
       "2   ACJT8MUC0LRF0  0321719816      5.0      1287187200\n",
       "3   AYUF7YETYOLNX  0321719816      5.0      1286841600\n",
       "4  A31ICLWQ9CSHRS  0321719816      5.0      1286409600"
      ]
     },
     "execution_count": 13,
     "metadata": {},
     "output_type": "execute_result"
    }
   ],
   "source": [
    "ratings = df[['reviewerID','asin','overall','unixReviewTime']].copy()\n",
    "ratings.head()"
   ]
  },
  {
   "cell_type": "markdown",
   "metadata": {},
   "source": [
    "# 2 Разбиение данных "
   ]
  },
  {
   "cell_type": "code",
   "execution_count": 14,
   "metadata": {},
   "outputs": [],
   "source": [
    "rmse = lambda y_true, y_pred: np.sqrt(mean_squared_error(y_true, y_pred))\n",
    "\n",
    "def train_test_split(X, ratio=0.2, user_col='reviewerID', item_col='asin',\n",
    "                     rating_col='overall', time_col='unixReviewTime'):\n",
    "    # сортируем оценки по времени\n",
    "    X.sort_values(by=[time_col], inplace=True)\n",
    "    # список всех юзеров\n",
    "    userIds = X[user_col].unique()\n",
    "    X_train_data = []\n",
    "    X_test_data = []\n",
    "    y_train = []\n",
    "    y_test = []\n",
    "    for userId in tqdm(userIds):\n",
    "        curUser = X[X[user_col] == userId]\n",
    "        # определяем позицию, по которой делим выборку и размещаем данные по массивам\n",
    "        idx = int(curUser.shape[0] * (1 - ratio))\n",
    "        X_train_data.append(curUser[[user_col, item_col]].iloc[:idx, :].values)\n",
    "        X_test_data.append(curUser[[user_col, item_col]].iloc[idx:, :].values)\n",
    "        y_train.append(curUser[rating_col].values[:idx])\n",
    "        y_test.append(curUser[rating_col].values[idx:])\n",
    "    # cтекуем данные по каждому пользователю в общие массивы\n",
    "    X_train = pd.DataFrame(np.vstack(X_train_data), columns=[user_col, item_col])\n",
    "    X_test = pd.DataFrame(np.vstack(X_test_data), columns=[user_col, item_col])\n",
    "    y_train = np.hstack(y_train)\n",
    "    y_test = np.hstack(y_test)\n",
    "    return X_train, X_test, y_train, y_test"
   ]
  },
  {
   "cell_type": "code",
   "execution_count": 15,
   "metadata": {},
   "outputs": [
    {
     "data": {
      "application/vnd.jupyter.widget-view+json": {
       "model_id": "98f93337ee744dbd87fee3bfdce4ea5b",
       "version_major": 2,
       "version_minor": 0
      },
      "text/plain": [
       "  0%|          | 0/1826 [00:00<?, ?it/s]"
      ]
     },
     "metadata": {},
     "output_type": "display_data"
    }
   ],
   "source": [
    "X_train, X_test, y_train, y_test = train_test_split(ratings)"
   ]
  },
  {
   "cell_type": "code",
   "execution_count": 16,
   "metadata": {},
   "outputs": [
    {
     "data": {
      "text/plain": [
       "((9705, 2), 9705, (3100, 2), 3100)"
      ]
     },
     "execution_count": 16,
     "metadata": {},
     "output_type": "execute_result"
    }
   ],
   "source": [
    "X_train.shape, len(y_train), X_test.shape, len(y_test)"
   ]
  },
  {
   "cell_type": "code",
   "execution_count": 17,
   "metadata": {},
   "outputs": [
    {
     "data": {
      "text/html": [
       "<div>\n",
       "<style scoped>\n",
       "    .dataframe tbody tr th:only-of-type {\n",
       "        vertical-align: middle;\n",
       "    }\n",
       "\n",
       "    .dataframe tbody tr th {\n",
       "        vertical-align: top;\n",
       "    }\n",
       "\n",
       "    .dataframe thead th {\n",
       "        text-align: right;\n",
       "    }\n",
       "</style>\n",
       "<table border=\"1\" class=\"dataframe\">\n",
       "  <thead>\n",
       "    <tr style=\"text-align: right;\">\n",
       "      <th></th>\n",
       "      <th>reviewerID</th>\n",
       "      <th>asin</th>\n",
       "    </tr>\n",
       "  </thead>\n",
       "  <tbody>\n",
       "    <tr>\n",
       "      <th>0</th>\n",
       "      <td>A2G0O4Y8QE10AE</td>\n",
       "      <td>B00004TYCR</td>\n",
       "    </tr>\n",
       "    <tr>\n",
       "      <th>1</th>\n",
       "      <td>A2G0O4Y8QE10AE</td>\n",
       "      <td>B0017I8NQM</td>\n",
       "    </tr>\n",
       "    <tr>\n",
       "      <th>2</th>\n",
       "      <td>A2G0O4Y8QE10AE</td>\n",
       "      <td>B0017I8NQM</td>\n",
       "    </tr>\n",
       "    <tr>\n",
       "      <th>3</th>\n",
       "      <td>A2G0O4Y8QE10AE</td>\n",
       "      <td>B0014KJ6EQ</td>\n",
       "    </tr>\n",
       "    <tr>\n",
       "      <th>4</th>\n",
       "      <td>ARXU3FESTWMJJ</td>\n",
       "      <td>B00003JAU7</td>\n",
       "    </tr>\n",
       "  </tbody>\n",
       "</table>\n",
       "</div>"
      ],
      "text/plain": [
       "       reviewerID        asin\n",
       "0  A2G0O4Y8QE10AE  B00004TYCR\n",
       "1  A2G0O4Y8QE10AE  B0017I8NQM\n",
       "2  A2G0O4Y8QE10AE  B0017I8NQM\n",
       "3  A2G0O4Y8QE10AE  B0014KJ6EQ\n",
       "4   ARXU3FESTWMJJ  B00003JAU7"
      ]
     },
     "execution_count": 17,
     "metadata": {},
     "output_type": "execute_result"
    }
   ],
   "source": [
    "X_train.head()"
   ]
  },
  {
   "cell_type": "markdown",
   "metadata": {},
   "source": [
    "# 3 Рассмотрим User-based model"
   ]
  },
  {
   "cell_type": "code",
   "execution_count": 18,
   "metadata": {},
   "outputs": [],
   "source": [
    "class UserBased(BaseEstimator):\n",
    "    def fit(self, X, y, user_col='reviewerID', item_col='asin'):\n",
    "        X = X.copy()\n",
    "        # сохраним текущих пользователей и имеющиеся предметы\n",
    "        self.users = X[user_col].unique()\n",
    "        self.items = X[item_col].unique()\n",
    "        \n",
    "        X['y'] = y\n",
    "        # рассчитаем среднее значение рейтинга для пользователя и предмета\n",
    "        self.mean_y_user = X.groupby(user_col)['y'].mean()\n",
    "        self.mean_y_item = X.groupby(item_col)['y'].mean()\n",
    "        \n",
    "        # вычитаем среднюю оценку пользователя\n",
    "        X['y'] -= X[user_col].apply(lambda x: self.mean_y_user[x])\n",
    "        \n",
    "        # создаём векторы для каждого пользователя из просмотренных фильмов\n",
    "        # для неизвестных фильмов ставим оценку 0\n",
    "        self.user_ratings = pd.pivot_table(X, values='y', index=user_col,\n",
    "                                           columns=item_col, fill_value=0)\n",
    "        \n",
    "        # считаем попарную схожесть между юзерами\n",
    "        self.user_sim = cosine_similarity(self.user_ratings)\n",
    "        \n",
    "        # также сделаем словарь - {значение user_col: index в user_ratings}\n",
    "        self.user_pos = dict()\n",
    "        for user in self.users:\n",
    "            self.user_pos[user] = np.argwhere(self.user_ratings.index.values == user)[0][0]\n",
    "        return self\n",
    "    \n",
    "    def predict_rating(self, pr_user, pr_item):\n",
    "        # если в обучающей выборке нет такого предмета\n",
    "        # или пользователя, то вернём 0\n",
    "        if not pr_item in self.items or not pr_user in self.users:\n",
    "            return 0\n",
    "                \n",
    "        # считаем числитель и знаменатель дроби из формулы предсказания\n",
    "        numerator = self.user_sim[self.user_pos[pr_user]].dot(\n",
    "                        self.user_ratings.loc[:, pr_item])   \n",
    "        # вычитаем 1, так как схожесть пользователя с самим собой равна 1,\n",
    "        # но модель не должна это учитывать\n",
    "        denominator = np.abs(self.user_sim[self.user_pos[pr_user]]).sum() - 1\n",
    "        \n",
    "        return self.mean_y_user[pr_user] + numerator / denominator\n",
    "    \n",
    "    def predict_rating_avg(self, pr_user, pr_item):\n",
    "        # если в обучающей выборке нет такого предмета\n",
    "        # или пользователя, то вернём 0\n",
    "        if not pr_item in self.items or not pr_user in self.users:\n",
    "            if pr_user in self.users:\n",
    "                return self.mean_y_user[pr_user]\n",
    "            elif pr_item in self.items:\n",
    "                return self.mean_y_item[pr_item]\n",
    "            else:\n",
    "                return 0\n",
    "                \n",
    "        # считаем числитель и знаменатель дроби из формулы предсказания\n",
    "        numerator = self.user_sim[self.user_pos[pr_user]].dot(\n",
    "                        self.user_ratings.loc[:, pr_item])   \n",
    "        # вычитаем 1, так как схожесть пользователя с самим собой равна 1,\n",
    "        # но модель не должна это учитывать\n",
    "        denominator = np.abs(self.user_sim[self.user_pos[pr_user]]).sum() - 1\n",
    "        \n",
    "        return self.mean_y_user[pr_user] + numerator / denominator\n",
    "    \n",
    "    def predict(self, X, user_col='reviewerID', item_col='asin'):\n",
    "        y = X[[user_col, item_col]].apply(lambda row: self.predict_rating(row[0], row[1]), axis=1)\n",
    "        return y\n",
    "    \n",
    "    def predict_avg(self, X, user_col='reviewerID', item_col='asin'):\n",
    "        y = X[[user_col, item_col]].apply(lambda row: self.predict_rating_avg(row[0], row[1]), axis=1)\n",
    "        return y\n"
   ]
  },
  {
   "cell_type": "code",
   "execution_count": 19,
   "metadata": {},
   "outputs": [],
   "source": [
    "results = []"
   ]
  },
  {
   "cell_type": "code",
   "execution_count": 20,
   "metadata": {},
   "outputs": [
    {
     "name": "stdout",
     "output_type": "stream",
     "text": [
      "start fitting...\n",
      "start predicting...\n",
      "rmse = 1.317262409587942\n",
      "for avg+ rmse = 1.1211117676301765\n",
      "CPU times: total: 1.3 s\n",
      "Wall time: 1.17 s\n"
     ]
    }
   ],
   "source": [
    "%%time\n",
    "print('start fitting...')\n",
    "ub = UserBased().fit(X_train, y_train)\n",
    "y_ub_pred = ub.predict(X_test)\n",
    "y_ub_pred_avg = ub.predict_avg(X_test)\n",
    "print('start predicting...')\n",
    "print('rmse = {}'.format(rmse(y_test, y_ub_pred)))\n",
    "print('for avg+ rmse = {}'.format(rmse(y_test, y_ub_pred_avg)))"
   ]
  },
  {
   "cell_type": "code",
   "execution_count": 21,
   "metadata": {},
   "outputs": [],
   "source": [
    "errors={'User-based model':{\n",
    "        \"Mean absolute percentage error\": mean_absolute_percentage_error(y_test, y_ub_pred),\n",
    "        \"Mean absolute error\":mean_absolute_error(y_test, y_ub_pred),\n",
    "        \"Mean squared error\":mean_squared_error(y_test, y_ub_pred,squared=True),\n",
    "        \"Root mean squared error\":mean_squared_error(y_test, y_ub_pred,squared=False),\n",
    "        \"R2\": r2_score(y_test, y_ub_pred)\n",
    "        }}\n",
    "results.append(errors)\n",
    "errors={'User-based model avg+':{\n",
    "        \"Mean absolute percentage error\": mean_absolute_percentage_error(y_test, y_ub_pred_avg),\n",
    "        \"Mean absolute error\":mean_absolute_error(y_test, y_ub_pred_avg),\n",
    "        \"Mean squared error\":mean_squared_error(y_test, y_ub_pred_avg,squared=True),\n",
    "        \"Root mean squared error\":mean_squared_error(y_test, y_ub_pred_avg,squared=False),\n",
    "        \"R2\": r2_score(y_test, y_ub_pred_avg)\n",
    "        }}\n",
    "results.append(errors)"
   ]
  },
  {
   "cell_type": "markdown",
   "metadata": {},
   "source": [
    "# 4 Рассмотрим Item-based model"
   ]
  },
  {
   "cell_type": "code",
   "execution_count": 22,
   "metadata": {},
   "outputs": [],
   "source": [
    "class ItemBased(BaseEstimator):\n",
    "    def fit(self, X, y, user_col='reviewerID', item_col='asin'):\n",
    "        X = X.copy()\n",
    "        # сохраним текущих пользователей и имеющиеся предметы\n",
    "        self.users = X[user_col].unique()\n",
    "        self.items = X[item_col].unique()\n",
    "        \n",
    "        X['y'] = y\n",
    "        # рассчитаем среднее значение рейтинга для пользователя и предмета\n",
    "        self.mean_y_user = X.groupby(user_col)['y'].mean()\n",
    "        self.mean_y_item = X.groupby(item_col)['y'].mean()\n",
    "        \n",
    "        # вычитаем среднюю оценку предмета\n",
    "        X['y'] -= X[item_col].apply(lambda x: self.mean_y_item[x])\n",
    "        \n",
    "        # создаём векторы для каждого фильма с оценками пользователя\n",
    "        # если пользователь не поставил оценку, то ставим 0\n",
    "        self.item_ratings = pd.pivot_table(X, values='y', index=item_col,\n",
    "                                           columns=user_col, fill_value=0)\n",
    "        \n",
    "        # считаем попарную схожесть между фильмами\n",
    "        self.item_sim = cosine_similarity(self.item_ratings)\n",
    "        \n",
    "        # также сделаем словарь {значение item_col: index в item_ratings}\n",
    "        self.item_pos = dict()\n",
    "        for item in self.items:\n",
    "            self.item_pos[item] = np.argwhere(self.item_ratings.index.values == item)[0][0]\n",
    "        return self\n",
    "    \n",
    "    def predict_rating(self, pr_user, pr_item):\n",
    "        # если в обучающей выборке нет такого предмета\n",
    "        # или пользователя, то вернём 0\n",
    "        if not pr_item in self.items or not pr_user in self.users:\n",
    "            return 0\n",
    "        \n",
    "        # считаем числитель и знаменатель дроби из формулы предсказания\n",
    "        numerator = self.item_sim[self.item_pos[pr_item]].dot(\n",
    "                        self.item_ratings.loc[:, pr_user])   \n",
    "        # вычитаем 1, так как схожесть предмета с самим собой равна 1,\n",
    "        # но модель не должна это учитывать\n",
    "        denominator = np.abs(self.item_sim[self.item_pos[pr_item]]).sum() - 1\n",
    "        \n",
    "        return self.mean_y_item[pr_item] + numerator / denominator\n",
    "    \n",
    "    def predict_rating_avg(self, pr_user, pr_item):\n",
    "        # если в обучающей выборке нет такого предмета\n",
    "        # или пользователя, то вернём 0\n",
    "        if not pr_item in self.items or not pr_user in self.users:\n",
    "            if pr_user in self.users:\n",
    "                return self.mean_y_user[pr_user]\n",
    "            elif pr_item in self.items:\n",
    "                return self.mean_y_item[pr_item]\n",
    "            else:\n",
    "                return 0\n",
    "        \n",
    "        # считаем числитель и знаменатель дроби из формулы предсказания\n",
    "        numerator = self.item_sim[self.item_pos[pr_item]].dot(\n",
    "                        self.item_ratings.loc[:, pr_user])   \n",
    "        # вычитаем 1, так как схожесть предмета с самим собой равна 1,\n",
    "        # но модель не должна это учитывать\n",
    "        denominator = np.abs(self.item_sim[self.item_pos[pr_item]]).sum() - 1\n",
    "        \n",
    "        return self.mean_y_item[pr_item] + numerator / denominator\n",
    "    \n",
    "    def predict(self, X, user_col='reviewerID', item_col='asin'):\n",
    "        y = X[[user_col, item_col]].apply(lambda row: self.predict_rating(row[0], row[1]), axis=1)\n",
    "        return y\n",
    "    \n",
    "    def predict_avg(self, X, user_col='reviewerID', item_col='asin'):\n",
    "        y = X[[user_col, item_col]].apply(lambda row: self.predict_rating_avg(row[0], row[1]), axis=1)\n",
    "        return y"
   ]
  },
  {
   "cell_type": "code",
   "execution_count": 23,
   "metadata": {},
   "outputs": [
    {
     "name": "stdout",
     "output_type": "stream",
     "text": [
      "start fitting...\n",
      "start predicting...\n",
      "rmse = 1.470201060696142\n",
      "for avg+ rmse = 1.2973829421868814\n",
      "CPU times: total: 1.25 s\n",
      "Wall time: 1.27 s\n"
     ]
    }
   ],
   "source": [
    "%%time\n",
    "print('start fitting...')\n",
    "ib = ItemBased().fit(X_train, y_train)\n",
    "print('start predicting...')\n",
    "y_ib_pred = ib.predict(X_test)\n",
    "y_ib_pred_avg = ib.predict_avg(X_test)\n",
    "print('rmse = {}'.format(rmse(y_test, y_ib_pred)))\n",
    "print('for avg+ rmse = {}'.format(rmse(y_test, y_ib_pred_avg)))\n"
   ]
  },
  {
   "cell_type": "code",
   "execution_count": 24,
   "metadata": {},
   "outputs": [],
   "source": [
    "errors={'Item-based model':{\n",
    "        \"Mean absolute percentage error\": mean_absolute_percentage_error(y_test, y_ib_pred),\n",
    "        \"Mean absolute error\":mean_absolute_error(y_test, y_ib_pred),\n",
    "        \"Mean squared error\":mean_squared_error(y_test, y_ib_pred,squared=True),\n",
    "        \"Root mean squared error\":mean_squared_error(y_test, y_ib_pred,squared=False),\n",
    "        \"R2\": r2_score(y_test, y_ib_pred)\n",
    "        }}\n",
    "results.append(errors)\n",
    "errors={'Item-based model avg+':{\n",
    "        \"Mean absolute percentage error\": mean_absolute_percentage_error(y_test, y_ib_pred_avg),\n",
    "        \"Mean absolute error\":mean_absolute_error(y_test, y_ib_pred_avg),\n",
    "        \"Mean squared error\":mean_squared_error(y_test, y_ib_pred_avg,squared=True),\n",
    "        \"Root mean squared error\":mean_squared_error(y_test, y_ib_pred_avg,squared=False),\n",
    "        \"R2\": r2_score(y_test, y_ib_pred_avg)\n",
    "        }}\n",
    "results.append(errors)"
   ]
  },
  {
   "cell_type": "markdown",
   "metadata": {},
   "source": [
    "# 5 Сравнение рекомендаций моделей "
   ]
  },
  {
   "cell_type": "code",
   "execution_count": 25,
   "metadata": {},
   "outputs": [],
   "source": [
    "otputdf = pd.DataFrame.from_dict(results[0], orient= 'index')\n",
    "for item in results[1:]:\n",
    "    otputdf = pd.concat([otputdf, pd.DataFrame.from_dict(item, orient= 'index')],axis=0)\n",
    "# otputdf = otputdf.drop('R2',axis=1)\n",
    "otputdf.columns = ['MAPE','MAE','MSE','RMSE','R2']"
   ]
  },
  {
   "cell_type": "code",
   "execution_count": 26,
   "metadata": {},
   "outputs": [
    {
     "data": {
      "text/html": [
       "<div>\n",
       "<style scoped>\n",
       "    .dataframe tbody tr th:only-of-type {\n",
       "        vertical-align: middle;\n",
       "    }\n",
       "\n",
       "    .dataframe tbody tr th {\n",
       "        vertical-align: top;\n",
       "    }\n",
       "\n",
       "    .dataframe thead th {\n",
       "        text-align: right;\n",
       "    }\n",
       "</style>\n",
       "<table border=\"1\" class=\"dataframe\">\n",
       "  <thead>\n",
       "    <tr style=\"text-align: right;\">\n",
       "      <th></th>\n",
       "      <th>MAPE</th>\n",
       "      <th>MAE</th>\n",
       "      <th>MSE</th>\n",
       "      <th>RMSE</th>\n",
       "      <th>R2</th>\n",
       "    </tr>\n",
       "  </thead>\n",
       "  <tbody>\n",
       "    <tr>\n",
       "      <th>User-based model</th>\n",
       "      <td>0.359581</td>\n",
       "      <td>0.864186</td>\n",
       "      <td>1.735180</td>\n",
       "      <td>1.317262</td>\n",
       "      <td>0.056402</td>\n",
       "    </tr>\n",
       "    <tr>\n",
       "      <th>User-based model avg+</th>\n",
       "      <td>0.340037</td>\n",
       "      <td>0.770855</td>\n",
       "      <td>1.256892</td>\n",
       "      <td>1.121112</td>\n",
       "      <td>0.316497</td>\n",
       "    </tr>\n",
       "    <tr>\n",
       "      <th>Item-based model</th>\n",
       "      <td>0.491447</td>\n",
       "      <td>1.058052</td>\n",
       "      <td>2.161491</td>\n",
       "      <td>1.470201</td>\n",
       "      <td>-0.175427</td>\n",
       "    </tr>\n",
       "    <tr>\n",
       "      <th>Item-based model avg+</th>\n",
       "      <td>0.471904</td>\n",
       "      <td>0.964721</td>\n",
       "      <td>1.683202</td>\n",
       "      <td>1.297383</td>\n",
       "      <td>0.084668</td>\n",
       "    </tr>\n",
       "  </tbody>\n",
       "</table>\n",
       "</div>"
      ],
      "text/plain": [
       "                           MAPE       MAE       MSE      RMSE        R2\n",
       "User-based model       0.359581  0.864186  1.735180  1.317262  0.056402\n",
       "User-based model avg+  0.340037  0.770855  1.256892  1.121112  0.316497\n",
       "Item-based model       0.491447  1.058052  2.161491  1.470201 -0.175427\n",
       "Item-based model avg+  0.471904  0.964721  1.683202  1.297383  0.084668"
      ]
     },
     "execution_count": 26,
     "metadata": {},
     "output_type": "execute_result"
    }
   ],
   "source": [
    "otputdf"
   ]
  },
  {
   "cell_type": "markdown",
   "metadata": {},
   "source": [
    "# Заключение \n",
    "Сравнение между методами основанным на пользователях и товарах на данном наборе данных, выигрывает подход основанный на пользователях, так как число уникальных пользователей почти в 2 раза превышает число товаров. \n",
    "\n",
    "Отметим, что если для холодного запуска (когда у нас нет информации о пользователе или товаре), добавить возврат средней оценку пользователя или средней оценки предмета, то получим прирост в качестве.\n",
    "Данная добавка видна в оценках User-based model avg+ и Item-based model avg+"
   ]
  }
 ],
 "metadata": {
  "interpreter": {
   "hash": "58602d8dccd692fa32abd17425fd5d45fcdd50ad23d8d4cc69f0d11e0a82e605"
  },
  "kernelspec": {
   "display_name": "Python 3.10.4 ('mynetscrap': venv)",
   "language": "python",
   "name": "python3"
  },
  "language_info": {
   "codemirror_mode": {
    "name": "ipython",
    "version": 3
   },
   "file_extension": ".py",
   "mimetype": "text/x-python",
   "name": "python",
   "nbconvert_exporter": "python",
   "pygments_lexer": "ipython3",
   "version": "3.10.4"
  },
  "orig_nbformat": 4
 },
 "nbformat": 4,
 "nbformat_minor": 2
}
