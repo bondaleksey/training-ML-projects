{
 "cells": [
  {
   "cell_type": "markdown",
   "id": "5e7486ee",
   "metadata": {},
   "source": [
    "# Работа №2 от Бондаренко Алексея (bondaleksey@gmail.com)\n",
    "\n",
    "Цель данного ноутбука на тестовом наборе данных провести:\n",
    "- сравнение методов кластеризации k-means, hierarhical и DBSCAN\n",
    "- осуществить визуализацию разбиения на кластеры, основывась на методы сжатия признакового пространства PCA, tSNE, UMAP \n",
    "\n",
    "\n",
    "Основные пункты задания: \n",
    "\n",
    "*   Предварительный анализ (EDA) и предобработка данных\n",
    "*   Кластеризация и визуалиазция разбиений \n",
    "*   Интерпретация результатов"
   ]
  },
  {
   "cell_type": "code",
   "execution_count": null,
   "id": "ca71e87c",
   "metadata": {},
   "outputs": [],
   "source": []
  },
  {
   "cell_type": "markdown",
   "id": "66abff8f",
   "metadata": {},
   "source": [
    "сегментация клиентов (в данном случае - банка). Крайне полезная операция, которая позволяет вам лучше познакомится со своей аудиторией, понять, на какие группы она делится и чем они характеризуются.\n",
    "\n",
    "Построение различных вариантов кластеризаций и интерпретация результатов. "
   ]
  },
  {
   "cell_type": "code",
   "execution_count": null,
   "id": "8ae047af",
   "metadata": {},
   "outputs": [],
   "source": []
  },
  {
   "cell_type": "code",
   "execution_count": null,
   "id": "471aa24f",
   "metadata": {},
   "outputs": [],
   "source": []
  },
  {
   "cell_type": "code",
   "execution_count": null,
   "id": "1a0c0f49",
   "metadata": {},
   "outputs": [],
   "source": []
  }
 ],
 "metadata": {
  "kernelspec": {
   "display_name": "Python 3 (ipykernel)",
   "language": "python",
   "name": "python3"
  },
  "language_info": {
   "codemirror_mode": {
    "name": "ipython",
    "version": 3
   },
   "file_extension": ".py",
   "mimetype": "text/x-python",
   "name": "python",
   "nbconvert_exporter": "python",
   "pygments_lexer": "ipython3",
   "version": "3.9.7"
  }
 },
 "nbformat": 4,
 "nbformat_minor": 5
}
