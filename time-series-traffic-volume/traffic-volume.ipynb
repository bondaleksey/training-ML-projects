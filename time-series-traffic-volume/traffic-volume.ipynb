{
 "cells": [
  {
   "cell_type": "markdown",
   "metadata": {},
   "source": [
    "# HW_06 Бондаренко Алексей (bondaleksey@gmail.com)"
   ]
  },
  {
   "cell_type": "code",
   "execution_count": null,
   "metadata": {},
   "outputs": [],
   "source": [
    "import numpy as np\n",
    "import pandas as pd \n",
    "import matplotlib.pyplot as plt \n",
    "import seaborn as sns\n",
    "\n",
    "from sklearn.model_selection import TimeSeriesSplit\n",
    "\n",
    "from sklearn.linear_model import LinearRegression, Lasso, Ridge \n",
    "from sklearn.ensemble import GradientBoostingRegressor, RandomForestClassifier\n",
    "from sklearn.linear_model import LassoCV, RidgeClassifierCV\n",
    "from sklearn.preprocessing import MinMaxScaler , StandardScaler\n",
    "\n",
    "from sklearn.metrics import classification_report \n",
    "\n"
   ]
  },
  {
   "cell_type": "markdown",
   "metadata": {},
   "source": []
  },
  {
   "cell_type": "markdown",
   "metadata": {},
   "source": [
    "# Цель проекта \n",
    "Цель проекта: построить модель, которая предсказывает пассажиропоток в ближайшее время\n",
    "\n",
    "План выполнения работы:\n",
    "- Базовый EDA\n",
    "- Генерация дополнительных признаков\n",
    "- Baseline прогноз и проверка качества\n",
    "- Построение различных моделей"
   ]
  },
  {
   "cell_type": "markdown",
   "metadata": {},
   "source": [
    "# 1 Данные\n",
    "рассматривается [набор данных](https://archive.ics.uci.edu/ml/datasets/Metro+Interstate+Traffic+Volume)\n",
    "\n",
    " - holiday (Categorical) -  US National holidays plus regional holiday, Minnesota State Fair\n",
    " - temp (Numeric) -  Average temp in kelvin\n",
    " - rain_1h (Numeric) -  Amount in mm of rain that occurred in the hour\n",
    " - snow_1h (Numeric) - Amount in mm of snow that occurred in the hour\n",
    " - clouds_all (Numeric) - Percentage of cloud cover\n",
    " - weather_main (Categorical) - Short textual description of the current weather\n",
    " - weather_description (Categorical) - Longer textual description of the current weather\n",
    " - date_time (DateTime) - Hour of the data collected in local CST time\n",
    " - traffic_volume (Numeric) - Hourly I-94 ATR 301 reported westbound traffic volume\n"
   ]
  },
  {
   "cell_type": "code",
   "execution_count": null,
   "metadata": {},
   "outputs": [],
   "source": []
  }
 ],
 "metadata": {
  "language_info": {
   "name": "python"
  },
  "orig_nbformat": 4
 },
 "nbformat": 4,
 "nbformat_minor": 2
}
