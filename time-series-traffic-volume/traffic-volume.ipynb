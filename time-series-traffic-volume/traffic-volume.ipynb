{
 "cells": [
  {
   "cell_type": "markdown",
   "metadata": {},
   "source": [
    "# HW_06 Бондаренко Алексей (bondaleksey@gmail.com)"
   ]
  },
  {
   "cell_type": "code",
   "execution_count": 1,
   "metadata": {},
   "outputs": [],
   "source": [
    "import numpy as np\n",
    "import pandas as pd \n",
    "import matplotlib.pyplot as plt \n",
    "import seaborn as sns\n",
    "\n",
    "from sklearn.model_selection import TimeSeriesSplit\n",
    "\n",
    "from sklearn.linear_model import LinearRegression, Lasso, Ridge \n",
    "from sklearn.ensemble import GradientBoostingRegressor, RandomForestClassifier\n",
    "from sklearn.linear_model import LassoCV, RidgeClassifierCV\n",
    "from sklearn.preprocessing import MinMaxScaler , StandardScaler\n",
    "\n",
    "from sklearn.metrics import classification_report \n",
    "from datetime import datetime\n",
    "from datetime import timedelta\n",
    "\n"
   ]
  },
  {
   "cell_type": "markdown",
   "metadata": {},
   "source": [
    "# Цель проекта \n",
    "Цель проекта: построить модель, которая предсказывает пассажиропоток в ближайшее время\n",
    "\n",
    "План выполнения работы:\n",
    "- Базовый EDA\n",
    "- Генерация дополнительных признаков\n",
    "- Baseline прогноз и проверка качества\n",
    "- Построение различных моделей"
   ]
  },
  {
   "cell_type": "markdown",
   "metadata": {},
   "source": [
    "# 1 Данные\n",
    "\n",
    "## 1.1 Описание данных\n",
    " Признаки [набора данных](https://archive.ics.uci.edu/ml/datasets/Metro+Interstate+Traffic+Volume)\n",
    "\n",
    " - holiday (Categorical) -  US National holidays plus regional holiday, Minnesota State Fair\n",
    " - temp (Numeric) -  Average temp in kelvin\n",
    " - rain_1h (Numeric) -  Amount in mm of rain that occurred in the hour\n",
    " - snow_1h (Numeric) - Amount in mm of snow that occurred in the hour\n",
    " - clouds_all (Numeric) - Percentage of cloud cover\n",
    " - weather_main (Categorical) - Short textual description of the current weather\n",
    " - weather_description (Categorical) - Longer textual description of the current weather\n",
    " - date_time (DateTime) - Hour of the data collected in local CST time\n",
    " - traffic_volume (Numeric) - Hourly I-94 ATR 301 reported westbound traffic volume"
   ]
  },
  {
   "cell_type": "code",
   "execution_count": 2,
   "metadata": {},
   "outputs": [],
   "source": [
    "data = pd.read_csv('data_ts/archive.csv.gz',compression='gzip', header=0, sep=',', quotechar='\"',index_col=0)                  "
   ]
  },
  {
   "cell_type": "code",
   "execution_count": 3,
   "metadata": {},
   "outputs": [
    {
     "data": {
      "text/html": [
       "<div>\n",
       "<style scoped>\n",
       "    .dataframe tbody tr th:only-of-type {\n",
       "        vertical-align: middle;\n",
       "    }\n",
       "\n",
       "    .dataframe tbody tr th {\n",
       "        vertical-align: top;\n",
       "    }\n",
       "\n",
       "    .dataframe thead th {\n",
       "        text-align: right;\n",
       "    }\n",
       "</style>\n",
       "<table border=\"1\" class=\"dataframe\">\n",
       "  <thead>\n",
       "    <tr style=\"text-align: right;\">\n",
       "      <th></th>\n",
       "      <th>temp</th>\n",
       "      <th>rain_1h</th>\n",
       "      <th>snow_1h</th>\n",
       "      <th>clouds_all</th>\n",
       "      <th>weather_main</th>\n",
       "      <th>weather_description</th>\n",
       "      <th>date_time</th>\n",
       "      <th>traffic_volume</th>\n",
       "    </tr>\n",
       "    <tr>\n",
       "      <th>holiday</th>\n",
       "      <th></th>\n",
       "      <th></th>\n",
       "      <th></th>\n",
       "      <th></th>\n",
       "      <th></th>\n",
       "      <th></th>\n",
       "      <th></th>\n",
       "      <th></th>\n",
       "    </tr>\n",
       "  </thead>\n",
       "  <tbody>\n",
       "    <tr>\n",
       "      <th>None</th>\n",
       "      <td>288.28</td>\n",
       "      <td>0.0</td>\n",
       "      <td>0.0</td>\n",
       "      <td>40</td>\n",
       "      <td>Clouds</td>\n",
       "      <td>scattered clouds</td>\n",
       "      <td>2012-10-02 09:00:00</td>\n",
       "      <td>5545</td>\n",
       "    </tr>\n",
       "    <tr>\n",
       "      <th>None</th>\n",
       "      <td>289.36</td>\n",
       "      <td>0.0</td>\n",
       "      <td>0.0</td>\n",
       "      <td>75</td>\n",
       "      <td>Clouds</td>\n",
       "      <td>broken clouds</td>\n",
       "      <td>2012-10-02 10:00:00</td>\n",
       "      <td>4516</td>\n",
       "    </tr>\n",
       "    <tr>\n",
       "      <th>None</th>\n",
       "      <td>289.58</td>\n",
       "      <td>0.0</td>\n",
       "      <td>0.0</td>\n",
       "      <td>90</td>\n",
       "      <td>Clouds</td>\n",
       "      <td>overcast clouds</td>\n",
       "      <td>2012-10-02 11:00:00</td>\n",
       "      <td>4767</td>\n",
       "    </tr>\n",
       "    <tr>\n",
       "      <th>None</th>\n",
       "      <td>290.13</td>\n",
       "      <td>0.0</td>\n",
       "      <td>0.0</td>\n",
       "      <td>90</td>\n",
       "      <td>Clouds</td>\n",
       "      <td>overcast clouds</td>\n",
       "      <td>2012-10-02 12:00:00</td>\n",
       "      <td>5026</td>\n",
       "    </tr>\n",
       "    <tr>\n",
       "      <th>None</th>\n",
       "      <td>291.14</td>\n",
       "      <td>0.0</td>\n",
       "      <td>0.0</td>\n",
       "      <td>75</td>\n",
       "      <td>Clouds</td>\n",
       "      <td>broken clouds</td>\n",
       "      <td>2012-10-02 13:00:00</td>\n",
       "      <td>4918</td>\n",
       "    </tr>\n",
       "  </tbody>\n",
       "</table>\n",
       "</div>"
      ],
      "text/plain": [
       "           temp  rain_1h  snow_1h  clouds_all weather_main  \\\n",
       "holiday                                                      \n",
       "None     288.28      0.0      0.0          40       Clouds   \n",
       "None     289.36      0.0      0.0          75       Clouds   \n",
       "None     289.58      0.0      0.0          90       Clouds   \n",
       "None     290.13      0.0      0.0          90       Clouds   \n",
       "None     291.14      0.0      0.0          75       Clouds   \n",
       "\n",
       "        weather_description            date_time  traffic_volume  \n",
       "holiday                                                           \n",
       "None       scattered clouds  2012-10-02 09:00:00            5545  \n",
       "None          broken clouds  2012-10-02 10:00:00            4516  \n",
       "None        overcast clouds  2012-10-02 11:00:00            4767  \n",
       "None        overcast clouds  2012-10-02 12:00:00            5026  \n",
       "None          broken clouds  2012-10-02 13:00:00            4918  "
      ]
     },
     "execution_count": 3,
     "metadata": {},
     "output_type": "execute_result"
    }
   ],
   "source": [
    "data.head(5)"
   ]
  },
  {
   "cell_type": "code",
   "execution_count": 4,
   "metadata": {},
   "outputs": [],
   "source": [
    "data = data.reset_index();"
   ]
  },
  {
   "cell_type": "markdown",
   "metadata": {},
   "source": [
    "## 1.2 Разведывательный анализ данных"
   ]
  },
  {
   "cell_type": "code",
   "execution_count": 5,
   "metadata": {},
   "outputs": [
    {
     "name": "stdout",
     "output_type": "stream",
     "text": [
      "<class 'pandas.core.frame.DataFrame'>\n",
      "RangeIndex: 48204 entries, 0 to 48203\n",
      "Data columns (total 9 columns):\n",
      " #   Column               Non-Null Count  Dtype  \n",
      "---  ------               --------------  -----  \n",
      " 0   holiday              48204 non-null  object \n",
      " 1   temp                 48204 non-null  float64\n",
      " 2   rain_1h              48204 non-null  float64\n",
      " 3   snow_1h              48204 non-null  float64\n",
      " 4   clouds_all           48204 non-null  int64  \n",
      " 5   weather_main         48204 non-null  object \n",
      " 6   weather_description  48204 non-null  object \n",
      " 7   date_time            48204 non-null  object \n",
      " 8   traffic_volume       48204 non-null  int64  \n",
      "dtypes: float64(3), int64(2), object(4)\n",
      "memory usage: 3.3+ MB\n"
     ]
    }
   ],
   "source": [
    "data.info()"
   ]
  },
  {
   "cell_type": "code",
   "execution_count": 6,
   "metadata": {},
   "outputs": [
    {
     "data": {
      "text/html": [
       "<div>\n",
       "<style scoped>\n",
       "    .dataframe tbody tr th:only-of-type {\n",
       "        vertical-align: middle;\n",
       "    }\n",
       "\n",
       "    .dataframe tbody tr th {\n",
       "        vertical-align: top;\n",
       "    }\n",
       "\n",
       "    .dataframe thead th {\n",
       "        text-align: right;\n",
       "    }\n",
       "</style>\n",
       "<table border=\"1\" class=\"dataframe\">\n",
       "  <thead>\n",
       "    <tr style=\"text-align: right;\">\n",
       "      <th></th>\n",
       "      <th>temp</th>\n",
       "      <th>rain_1h</th>\n",
       "      <th>snow_1h</th>\n",
       "      <th>clouds_all</th>\n",
       "      <th>traffic_volume</th>\n",
       "    </tr>\n",
       "  </thead>\n",
       "  <tbody>\n",
       "    <tr>\n",
       "      <th>count</th>\n",
       "      <td>48204.000000</td>\n",
       "      <td>48204.000000</td>\n",
       "      <td>48204.000000</td>\n",
       "      <td>48204.000000</td>\n",
       "      <td>48204.000000</td>\n",
       "    </tr>\n",
       "    <tr>\n",
       "      <th>mean</th>\n",
       "      <td>281.205870</td>\n",
       "      <td>0.334264</td>\n",
       "      <td>0.000222</td>\n",
       "      <td>49.362231</td>\n",
       "      <td>3259.818355</td>\n",
       "    </tr>\n",
       "    <tr>\n",
       "      <th>std</th>\n",
       "      <td>13.338232</td>\n",
       "      <td>44.789133</td>\n",
       "      <td>0.008168</td>\n",
       "      <td>39.015750</td>\n",
       "      <td>1986.860670</td>\n",
       "    </tr>\n",
       "    <tr>\n",
       "      <th>min</th>\n",
       "      <td>0.000000</td>\n",
       "      <td>0.000000</td>\n",
       "      <td>0.000000</td>\n",
       "      <td>0.000000</td>\n",
       "      <td>0.000000</td>\n",
       "    </tr>\n",
       "    <tr>\n",
       "      <th>25%</th>\n",
       "      <td>272.160000</td>\n",
       "      <td>0.000000</td>\n",
       "      <td>0.000000</td>\n",
       "      <td>1.000000</td>\n",
       "      <td>1193.000000</td>\n",
       "    </tr>\n",
       "    <tr>\n",
       "      <th>50%</th>\n",
       "      <td>282.450000</td>\n",
       "      <td>0.000000</td>\n",
       "      <td>0.000000</td>\n",
       "      <td>64.000000</td>\n",
       "      <td>3380.000000</td>\n",
       "    </tr>\n",
       "    <tr>\n",
       "      <th>75%</th>\n",
       "      <td>291.806000</td>\n",
       "      <td>0.000000</td>\n",
       "      <td>0.000000</td>\n",
       "      <td>90.000000</td>\n",
       "      <td>4933.000000</td>\n",
       "    </tr>\n",
       "    <tr>\n",
       "      <th>max</th>\n",
       "      <td>310.070000</td>\n",
       "      <td>9831.300000</td>\n",
       "      <td>0.510000</td>\n",
       "      <td>100.000000</td>\n",
       "      <td>7280.000000</td>\n",
       "    </tr>\n",
       "  </tbody>\n",
       "</table>\n",
       "</div>"
      ],
      "text/plain": [
       "               temp       rain_1h       snow_1h    clouds_all  traffic_volume\n",
       "count  48204.000000  48204.000000  48204.000000  48204.000000    48204.000000\n",
       "mean     281.205870      0.334264      0.000222     49.362231     3259.818355\n",
       "std       13.338232     44.789133      0.008168     39.015750     1986.860670\n",
       "min        0.000000      0.000000      0.000000      0.000000        0.000000\n",
       "25%      272.160000      0.000000      0.000000      1.000000     1193.000000\n",
       "50%      282.450000      0.000000      0.000000     64.000000     3380.000000\n",
       "75%      291.806000      0.000000      0.000000     90.000000     4933.000000\n",
       "max      310.070000   9831.300000      0.510000    100.000000     7280.000000"
      ]
     },
     "execution_count": 6,
     "metadata": {},
     "output_type": "execute_result"
    }
   ],
   "source": [
    "data.describe()"
   ]
  },
  {
   "cell_type": "code",
   "execution_count": 7,
   "metadata": {},
   "outputs": [],
   "source": [
    "def EDA(data):\n",
    "    cols = data.columns\n",
    "    print('Printing figures for columns:\\n',cols)\n",
    "    for item in cols:\n",
    "        if item=='date_time':\n",
    "            continue\n",
    "        print(\"Look at column:\", item)\n",
    "        dt = data[item].dtype          \n",
    "        if dt == 'int64'or dt == 'float64':        \n",
    "            ax = data[item].plot(kind = 'hist', bins = 50)\n",
    "            ax.set_xlabel(item)\n",
    "            plt.show()\n",
    "        elif dt == 'object':\n",
    "            ax = data[item].value_counts().plot(kind = 'bar')\n",
    "            ax.set_xlabel(item)\n",
    "            plt.show()\n",
    "        else:\n",
    "            print(f'ooops, have problems with {item}')"
   ]
  },
  {
   "cell_type": "code",
   "execution_count": 8,
   "metadata": {},
   "outputs": [
    {
     "name": "stdout",
     "output_type": "stream",
     "text": [
      "Printing figures for columns:\n",
      " Index(['holiday', 'temp', 'rain_1h', 'snow_1h', 'clouds_all', 'weather_main',\n",
      "       'weather_description', 'date_time', 'traffic_volume'],\n",
      "      dtype='object')\n",
      "Look at column: holiday\n"
     ]
    },
    {
     "data": {
      "image/png": "[encoded data removed]",
      "text/plain": [
       "<Figure size 432x288 with 1 Axes>"
      ]
     },
     "metadata": {
      "needs_background": "light"
     },
     "output_type": "display_data"
    },
    {
     "name": "stdout",
     "output_type": "stream",
     "text": [
      "Look at column: temp\n"
     ]
    },
    {
     "data": {
      "image/png": "[encoded data removed]",
      "text/plain": [
       "<Figure size 432x288 with 1 Axes>"
      ]
     },
     "metadata": {
      "needs_background": "light"
     },
     "output_type": "display_data"
    },
    {
     "name": "stdout",
     "output_type": "stream",
     "text": [
      "Look at column: rain_1h\n"
     ]
    },
    {
     "data": {
      "image/png": "[encoded data removed]",
      "text/plain": [
       "<Figure size 432x288 with 1 Axes>"
      ]
     },
     "metadata": {
      "needs_background": "light"
     },
     "output_type": "display_data"
    },
    {
     "name": "stdout",
     "output_type": "stream",
     "text": [
      "Look at column: snow_1h\n"
     ]
    },
    {
     "data": {
      "image/png": "[encoded data removed]",
      "text/plain": [
       "<Figure size 432x288 with 1 Axes>"
      ]
     },
     "metadata": {
      "needs_background": "light"
     },
     "output_type": "display_data"
    },
    {
     "name": "stdout",
     "output_type": "stream",
     "text": [
      "Look at column: clouds_all\n"
     ]
    },
    {
     "data": {
      "image/png": "[encoded data removed]",
      "text/plain": [
       "<Figure size 432x288 with 1 Axes>"
      ]
     },
     "metadata": {
      "needs_background": "light"
     },
     "output_type": "display_data"
    },
    {
     "name": "stdout",
     "output_type": "stream",
     "text": [
      "Look at column: weather_main\n"
     ]
    },
    {
     "data": {
      "image/png": "[encoded data removed]",
      "text/plain": [
       "<Figure size 432x288 with 1 Axes>"
      ]
     },
     "metadata": {
      "needs_background": "light"
     },
     "output_type": "display_data"
    },
    {
     "name": "stdout",
     "output_type": "stream",
     "text": [
      "Look at column: weather_description\n"
     ]
    },
    {
     "data": {
      "image/png": "[encoded data removed]",
      "text/plain": [
       "<Figure size 432x288 with 1 Axes>"
      ]
     },
     "metadata": {
      "needs_background": "light"
     },
     "output_type": "display_data"
    },
    {
     "name": "stdout",
     "output_type": "stream",
     "text": [
      "Look at column: traffic_volume\n"
     ]
    },
    {
     "data": {
      "image/png": "[encoded data removed]",
      "text/plain": [
       "<Figure size 432x288 with 1 Axes>"
      ]
     },
     "metadata": {
      "needs_background": "light"
     },
     "output_type": "display_data"
    }
   ],
   "source": [
    "EDA(data)"
   ]
  },
  {
   "cell_type": "markdown",
   "metadata": {},
   "source": [
    "Признаки, можно празники посмотреть и сравнить поведение в праздники и не в праздники... \n",
    "То есть праздники поставить как bool  1 "
   ]
  },
  {
   "cell_type": "markdown",
   "metadata": {},
   "source": [
    " ## 1.3 Преобразование данных и выбор признаков"
   ]
  },
  {
   "cell_type": "markdown",
   "metadata": {},
   "source": [
    "### 1.3.1 Убираем дубликаты "
   ]
  },
  {
   "cell_type": "code",
   "execution_count": 9,
   "metadata": {},
   "outputs": [
    {
     "data": {
      "text/plain": [
       "Index(['holiday', 'temp', 'rain_1h', 'snow_1h', 'clouds_all', 'weather_main',\n",
       "       'weather_description', 'date_time', 'traffic_volume'],\n",
       "      dtype='object')"
      ]
     },
     "execution_count": 9,
     "metadata": {},
     "output_type": "execute_result"
    }
   ],
   "source": [
    "data.columns"
   ]
  },
  {
   "cell_type": "code",
   "execution_count": 10,
   "metadata": {},
   "outputs": [],
   "source": [
    "wdata = data[['date_time','holiday','temp','traffic_volume']].copy()\n",
    "wdata['date_time'] = pd.to_datetime(wdata['date_time'])\n",
    "wdata = wdata.set_index('date_time')\n",
    "wdata = wdata.drop_duplicates()"
   ]
  },
  {
   "cell_type": "code",
   "execution_count": 11,
   "metadata": {},
   "outputs": [
    {
     "data": {
      "text/html": [
       "<div>\n",
       "<style scoped>\n",
       "    .dataframe tbody tr th:only-of-type {\n",
       "        vertical-align: middle;\n",
       "    }\n",
       "\n",
       "    .dataframe tbody tr th {\n",
       "        vertical-align: top;\n",
       "    }\n",
       "\n",
       "    .dataframe thead th {\n",
       "        text-align: right;\n",
       "    }\n",
       "</style>\n",
       "<table border=\"1\" class=\"dataframe\">\n",
       "  <thead>\n",
       "    <tr style=\"text-align: right;\">\n",
       "      <th></th>\n",
       "      <th>holiday</th>\n",
       "      <th>temp</th>\n",
       "      <th>traffic_volume</th>\n",
       "    </tr>\n",
       "    <tr>\n",
       "      <th>date_time</th>\n",
       "      <th></th>\n",
       "      <th></th>\n",
       "      <th></th>\n",
       "    </tr>\n",
       "  </thead>\n",
       "  <tbody>\n",
       "    <tr>\n",
       "      <th>2012-10-02 09:00:00</th>\n",
       "      <td>None</td>\n",
       "      <td>288.28</td>\n",
       "      <td>5545</td>\n",
       "    </tr>\n",
       "    <tr>\n",
       "      <th>2012-10-02 10:00:00</th>\n",
       "      <td>None</td>\n",
       "      <td>289.36</td>\n",
       "      <td>4516</td>\n",
       "    </tr>\n",
       "    <tr>\n",
       "      <th>2012-10-02 11:00:00</th>\n",
       "      <td>None</td>\n",
       "      <td>289.58</td>\n",
       "      <td>4767</td>\n",
       "    </tr>\n",
       "    <tr>\n",
       "      <th>2012-10-02 12:00:00</th>\n",
       "      <td>None</td>\n",
       "      <td>290.13</td>\n",
       "      <td>5026</td>\n",
       "    </tr>\n",
       "    <tr>\n",
       "      <th>2012-10-02 13:00:00</th>\n",
       "      <td>None</td>\n",
       "      <td>291.14</td>\n",
       "      <td>4918</td>\n",
       "    </tr>\n",
       "  </tbody>\n",
       "</table>\n",
       "</div>"
      ],
      "text/plain": [
       "                    holiday    temp  traffic_volume\n",
       "date_time                                          \n",
       "2012-10-02 09:00:00    None  288.28            5545\n",
       "2012-10-02 10:00:00    None  289.36            4516\n",
       "2012-10-02 11:00:00    None  289.58            4767\n",
       "2012-10-02 12:00:00    None  290.13            5026\n",
       "2012-10-02 13:00:00    None  291.14            4918"
      ]
     },
     "execution_count": 11,
     "metadata": {},
     "output_type": "execute_result"
    }
   ],
   "source": [
    "wdata.head()"
   ]
  },
  {
   "cell_type": "code",
   "execution_count": 12,
   "metadata": {},
   "outputs": [
    {
     "name": "stdout",
     "output_type": "stream",
     "text": [
      "<class 'pandas.core.frame.DataFrame'>\n",
      "DatetimeIndex: 40606 entries, 2012-10-02 09:00:00 to 2018-09-30 23:00:00\n",
      "Data columns (total 3 columns):\n",
      " #   Column          Non-Null Count  Dtype  \n",
      "---  ------          --------------  -----  \n",
      " 0   holiday         40606 non-null  object \n",
      " 1   temp            40606 non-null  float64\n",
      " 2   traffic_volume  40606 non-null  int64  \n",
      "dtypes: float64(1), int64(1), object(1)\n",
      "memory usage: 1.2+ MB\n"
     ]
    }
   ],
   "source": [
    "wdata.info()"
   ]
  },
  {
   "cell_type": "code",
   "execution_count": 13,
   "metadata": {},
   "outputs": [
    {
     "data": {
      "text/plain": [
       "4.635388127853881"
      ]
     },
     "execution_count": 13,
     "metadata": {},
     "output_type": "execute_result"
    }
   ],
   "source": [
    "40606/(24*365)"
   ]
  },
  {
   "cell_type": "markdown",
   "metadata": {},
   "source": [
    "### 1.3.2 Добавляем пропуски в записи данных по времени "
   ]
  },
  {
   "cell_type": "markdown",
   "metadata": {},
   "source": [
    " А в информации данных указано, что период времени в данных почти 6 лет. Значит есть пропуски в данных."
   ]
  },
  {
   "cell_type": "code",
   "execution_count": 14,
   "metadata": {},
   "outputs": [
    {
     "name": "stdout",
     "output_type": "stream",
     "text": [
      "                    holiday    temp  traffic_volume\n",
      "date_time                                          \n",
      "2012-11-05 13:00:00    None  278.47            4648\n",
      "2012-11-05 14:00:00    None  278.71            4968\n",
      "2012-11-05 16:00:00    None  280.56            6124\n",
      "2012-11-05 17:00:00    None  280.56            6134\n",
      "2012-11-05 18:00:00    None  279.26            4265\n",
      "2012-11-05 20:00:00    None  280.56            2415\n",
      "2012-11-05 21:00:00    None  280.56            1963\n"
     ]
    }
   ],
   "source": [
    "print(wdata.loc['2012-11-05 13:00:00':'2012-11-05 21:00:00'])"
   ]
  },
  {
   "cell_type": "markdown",
   "metadata": {},
   "source": [
    "Как мы видим отсутствуют значения для 15 и 19 часов."
   ]
  },
  {
   "cell_type": "code",
   "execution_count": 15,
   "metadata": {},
   "outputs": [
    {
     "data": {
      "text/plain": [
       "52551"
      ]
     },
     "execution_count": 15,
     "metadata": {},
     "output_type": "execute_result"
    }
   ],
   "source": [
    "right_dates = pd.date_range(start='2012-10-02 09:00:00', end='2018-09-30 23:00:00', freq='H')\n",
    "len(right_dates)"
   ]
  },
  {
   "cell_type": "code",
   "execution_count": 16,
   "metadata": {},
   "outputs": [],
   "source": [
    "# for ind, item in enumerate(right_dates):\n",
    "    \n",
    "#     if ind >10000:\n",
    "#         break\n",
    "#     if ind %(24*15)==0:\n",
    "#         print(\"month = \",item.month)"
   ]
  },
  {
   "cell_type": "markdown",
   "metadata": {},
   "source": [
    "Создадим пустой датафрейм с правильной индексацией по времени и потом объединим его с предварительно обработанными данными."
   ]
  },
  {
   "cell_type": "code",
   "execution_count": 17,
   "metadata": {},
   "outputs": [],
   "source": [
    "# wdata['date_time'] = pd.to_datetime(wdata['date_time'])"
   ]
  },
  {
   "cell_type": "code",
   "execution_count": 18,
   "metadata": {},
   "outputs": [
    {
     "data": {
      "text/html": [
       "<div>\n",
       "<style scoped>\n",
       "    .dataframe tbody tr th:only-of-type {\n",
       "        vertical-align: middle;\n",
       "    }\n",
       "\n",
       "    .dataframe tbody tr th {\n",
       "        vertical-align: top;\n",
       "    }\n",
       "\n",
       "    .dataframe thead th {\n",
       "        text-align: right;\n",
       "    }\n",
       "</style>\n",
       "<table border=\"1\" class=\"dataframe\">\n",
       "  <thead>\n",
       "    <tr style=\"text-align: right;\">\n",
       "      <th></th>\n",
       "    </tr>\n",
       "    <tr>\n",
       "      <th>date_time</th>\n",
       "    </tr>\n",
       "  </thead>\n",
       "  <tbody>\n",
       "    <tr>\n",
       "      <th>2012-10-02 09:00:00</th>\n",
       "    </tr>\n",
       "    <tr>\n",
       "      <th>2012-10-02 10:00:00</th>\n",
       "    </tr>\n",
       "    <tr>\n",
       "      <th>2012-10-02 11:00:00</th>\n",
       "    </tr>\n",
       "  </tbody>\n",
       "</table>\n",
       "</div>"
      ],
      "text/plain": [
       "Empty DataFrame\n",
       "Columns: []\n",
       "Index: [2012-10-02 09:00:00, 2012-10-02 10:00:00, 2012-10-02 11:00:00]"
      ]
     },
     "execution_count": 18,
     "metadata": {},
     "output_type": "execute_result"
    }
   ],
   "source": [
    "my_df = pd.DataFrame({'date_time': right_dates}).set_index('date_time')\n",
    "my_df.head(3)"
   ]
  },
  {
   "cell_type": "code",
   "execution_count": 19,
   "metadata": {},
   "outputs": [
    {
     "name": "stdout",
     "output_type": "stream",
     "text": [
      "<class 'pandas._libs.tslibs.timestamps.Timestamp'>\n"
     ]
    }
   ],
   "source": [
    "print(type(my_df.index[1]))"
   ]
  },
  {
   "cell_type": "code",
   "execution_count": 20,
   "metadata": {},
   "outputs": [
    {
     "name": "stdout",
     "output_type": "stream",
     "text": [
      "0 days 01:00:00\n"
     ]
    }
   ],
   "source": [
    "print((my_df.index[1]-my_df.index[0]))"
   ]
  },
  {
   "cell_type": "code",
   "execution_count": 21,
   "metadata": {},
   "outputs": [
    {
     "data": {
      "text/html": [
       "<div>\n",
       "<style scoped>\n",
       "    .dataframe tbody tr th:only-of-type {\n",
       "        vertical-align: middle;\n",
       "    }\n",
       "\n",
       "    .dataframe tbody tr th {\n",
       "        vertical-align: top;\n",
       "    }\n",
       "\n",
       "    .dataframe thead th {\n",
       "        text-align: right;\n",
       "    }\n",
       "</style>\n",
       "<table border=\"1\" class=\"dataframe\">\n",
       "  <thead>\n",
       "    <tr style=\"text-align: right;\">\n",
       "      <th></th>\n",
       "      <th>holiday</th>\n",
       "      <th>temp</th>\n",
       "      <th>traffic_volume</th>\n",
       "    </tr>\n",
       "    <tr>\n",
       "      <th>date_time</th>\n",
       "      <th></th>\n",
       "      <th></th>\n",
       "      <th></th>\n",
       "    </tr>\n",
       "  </thead>\n",
       "  <tbody>\n",
       "    <tr>\n",
       "      <th>2012-10-02 09:00:00</th>\n",
       "      <td>None</td>\n",
       "      <td>288.28</td>\n",
       "      <td>5545.0</td>\n",
       "    </tr>\n",
       "    <tr>\n",
       "      <th>2012-10-02 10:00:00</th>\n",
       "      <td>None</td>\n",
       "      <td>289.36</td>\n",
       "      <td>4516.0</td>\n",
       "    </tr>\n",
       "    <tr>\n",
       "      <th>2012-10-02 11:00:00</th>\n",
       "      <td>None</td>\n",
       "      <td>289.58</td>\n",
       "      <td>4767.0</td>\n",
       "    </tr>\n",
       "  </tbody>\n",
       "</table>\n",
       "</div>"
      ],
      "text/plain": [
       "                    holiday    temp  traffic_volume\n",
       "date_time                                          \n",
       "2012-10-02 09:00:00    None  288.28          5545.0\n",
       "2012-10-02 10:00:00    None  289.36          4516.0\n",
       "2012-10-02 11:00:00    None  289.58          4767.0"
      ]
     },
     "execution_count": 21,
     "metadata": {},
     "output_type": "execute_result"
    }
   ],
   "source": [
    "clean_data = my_df.join(wdata)\n",
    "clean_data.head(3)"
   ]
  },
  {
   "cell_type": "code",
   "execution_count": 22,
   "metadata": {},
   "outputs": [
    {
     "name": "stdout",
     "output_type": "stream",
     "text": [
      "<class 'pandas.core.frame.DataFrame'>\n",
      "DatetimeIndex: 52629 entries, 2012-10-02 09:00:00 to 2018-09-30 23:00:00\n",
      "Data columns (total 3 columns):\n",
      " #   Column          Non-Null Count  Dtype  \n",
      "---  ------          --------------  -----  \n",
      " 0   holiday         40606 non-null  object \n",
      " 1   temp            40606 non-null  float64\n",
      " 2   traffic_volume  40606 non-null  float64\n",
      "dtypes: float64(2), object(1)\n",
      "memory usage: 1.6+ MB\n"
     ]
    }
   ],
   "source": [
    "clean_data.info()"
   ]
  },
  {
   "cell_type": "markdown",
   "metadata": {},
   "source": [
    "Число строчек в полученном DataFrame 52629, а число дат в нужном диапазоне = 52551."
   ]
  },
  {
   "cell_type": "code",
   "execution_count": 23,
   "metadata": {},
   "outputs": [
    {
     "data": {
      "text/plain": [
       "156"
      ]
     },
     "execution_count": 23,
     "metadata": {},
     "output_type": "execute_result"
    }
   ],
   "source": [
    "(629-551)*2"
   ]
  },
  {
   "cell_type": "markdown",
   "metadata": {},
   "source": [
    "### 1.3.3 Исправляем двойные значения в данных температуры"
   ]
  },
  {
   "cell_type": "code",
   "execution_count": 24,
   "metadata": {},
   "outputs": [
    {
     "data": {
      "text/plain": [
       "78"
      ]
     },
     "execution_count": 24,
     "metadata": {},
     "output_type": "execute_result"
    }
   ],
   "source": [
    "dupl = clean_data.index.duplicated(keep='last')\n",
    "dupl.sum()"
   ]
  },
  {
   "cell_type": "code",
   "execution_count": 25,
   "metadata": {},
   "outputs": [
    {
     "data": {
      "text/html": [
       "<div>\n",
       "<style scoped>\n",
       "    .dataframe tbody tr th:only-of-type {\n",
       "        vertical-align: middle;\n",
       "    }\n",
       "\n",
       "    .dataframe tbody tr th {\n",
       "        vertical-align: top;\n",
       "    }\n",
       "\n",
       "    .dataframe thead th {\n",
       "        text-align: right;\n",
       "    }\n",
       "</style>\n",
       "<table border=\"1\" class=\"dataframe\">\n",
       "  <thead>\n",
       "    <tr style=\"text-align: right;\">\n",
       "      <th></th>\n",
       "      <th>holiday</th>\n",
       "      <th>temp</th>\n",
       "      <th>traffic_volume</th>\n",
       "    </tr>\n",
       "    <tr>\n",
       "      <th>date_time</th>\n",
       "      <th></th>\n",
       "      <th></th>\n",
       "      <th></th>\n",
       "    </tr>\n",
       "  </thead>\n",
       "  <tbody>\n",
       "    <tr>\n",
       "      <th>2012-11-04 01:00:00</th>\n",
       "      <td>None</td>\n",
       "      <td>275.60</td>\n",
       "      <td>730.0</td>\n",
       "    </tr>\n",
       "    <tr>\n",
       "      <th>2012-11-04 01:00:00</th>\n",
       "      <td>None</td>\n",
       "      <td>275.77</td>\n",
       "      <td>730.0</td>\n",
       "    </tr>\n",
       "    <tr>\n",
       "      <th>2014-01-03 20:00:00</th>\n",
       "      <td>None</td>\n",
       "      <td>267.97</td>\n",
       "      <td>2427.0</td>\n",
       "    </tr>\n",
       "    <tr>\n",
       "      <th>2014-01-03 20:00:00</th>\n",
       "      <td>None</td>\n",
       "      <td>268.88</td>\n",
       "      <td>2427.0</td>\n",
       "    </tr>\n",
       "    <tr>\n",
       "      <th>2014-01-09 16:00:00</th>\n",
       "      <td>None</td>\n",
       "      <td>265.73</td>\n",
       "      <td>6421.0</td>\n",
       "    </tr>\n",
       "    <tr>\n",
       "      <th>2014-01-09 16:00:00</th>\n",
       "      <td>None</td>\n",
       "      <td>266.47</td>\n",
       "      <td>6421.0</td>\n",
       "    </tr>\n",
       "  </tbody>\n",
       "</table>\n",
       "</div>"
      ],
      "text/plain": [
       "                    holiday    temp  traffic_volume\n",
       "date_time                                          \n",
       "2012-11-04 01:00:00    None  275.60           730.0\n",
       "2012-11-04 01:00:00    None  275.77           730.0\n",
       "2014-01-03 20:00:00    None  267.97          2427.0\n",
       "2014-01-03 20:00:00    None  268.88          2427.0\n",
       "2014-01-09 16:00:00    None  265.73          6421.0\n",
       "2014-01-09 16:00:00    None  266.47          6421.0"
      ]
     },
     "execution_count": 25,
     "metadata": {},
     "output_type": "execute_result"
    }
   ],
   "source": [
    "clean_data[clean_data.index.duplicated(keep=False)].head(6)"
   ]
  },
  {
   "cell_type": "code",
   "execution_count": 26,
   "metadata": {},
   "outputs": [],
   "source": [
    " working_data = clean_data[~dupl].copy()"
   ]
  },
  {
   "cell_type": "code",
   "execution_count": 27,
   "metadata": {},
   "outputs": [
    {
     "name": "stdout",
     "output_type": "stream",
     "text": [
      "<class 'pandas.core.frame.DataFrame'>\n",
      "DatetimeIndex: 52551 entries, 2012-10-02 09:00:00 to 2018-09-30 23:00:00\n",
      "Data columns (total 3 columns):\n",
      " #   Column          Non-Null Count  Dtype  \n",
      "---  ------          --------------  -----  \n",
      " 0   holiday         40528 non-null  object \n",
      " 1   temp            40528 non-null  float64\n",
      " 2   traffic_volume  40528 non-null  float64\n",
      "dtypes: float64(2), object(1)\n",
      "memory usage: 1.6+ MB\n"
     ]
    }
   ],
   "source": [
    "working_data.info()"
   ]
  },
  {
   "cell_type": "code",
   "execution_count": 28,
   "metadata": {},
   "outputs": [],
   "source": [
    "month_number = list(map(lambda x: int(x.month),right_dates))\n",
    "is_weekend = list(map(lambda x: int(x.dayofweek>4),right_dates))"
   ]
  },
  {
   "cell_type": "code",
   "execution_count": 29,
   "metadata": {},
   "outputs": [],
   "source": [
    "working_data['is_holiday'] = working_data[working_data['holiday'].notna()]['holiday'].apply(lambda x: 0 if x == 'None' else 1)"
   ]
  },
  {
   "cell_type": "code",
   "execution_count": 30,
   "metadata": {},
   "outputs": [],
   "source": [
    "# clean_data['is_weekend'] = pd.Series(is_weekend).values\n",
    "working_data['is_weekend'] = is_weekend\n",
    "working_data['month_number'] = month_number"
   ]
  },
  {
   "cell_type": "code",
   "execution_count": 31,
   "metadata": {},
   "outputs": [
    {
     "name": "stdout",
     "output_type": "stream",
     "text": [
      "<class 'pandas.core.frame.DataFrame'>\n",
      "DatetimeIndex: 52551 entries, 2012-10-02 09:00:00 to 2018-09-30 23:00:00\n",
      "Data columns (total 6 columns):\n",
      " #   Column          Non-Null Count  Dtype  \n",
      "---  ------          --------------  -----  \n",
      " 0   holiday         40528 non-null  object \n",
      " 1   temp            40528 non-null  float64\n",
      " 2   traffic_volume  40528 non-null  float64\n",
      " 3   is_holiday      40528 non-null  float64\n",
      " 4   is_weekend      52551 non-null  int64  \n",
      " 5   month_number    52551 non-null  int64  \n",
      "dtypes: float64(3), int64(2), object(1)\n",
      "memory usage: 2.8+ MB\n"
     ]
    }
   ],
   "source": [
    "working_data.info()"
   ]
  },
  {
   "cell_type": "code",
   "execution_count": 32,
   "metadata": {},
   "outputs": [],
   "source": [
    " in_data = working_data.interpolate(method='linear', axis=0).copy()"
   ]
  },
  {
   "cell_type": "code",
   "execution_count": 33,
   "metadata": {},
   "outputs": [
    {
     "name": "stdout",
     "output_type": "stream",
     "text": [
      "<class 'pandas.core.frame.DataFrame'>\n",
      "DatetimeIndex: 52551 entries, 2012-10-02 09:00:00 to 2018-09-30 23:00:00\n",
      "Data columns (total 6 columns):\n",
      " #   Column          Non-Null Count  Dtype  \n",
      "---  ------          --------------  -----  \n",
      " 0   holiday         40528 non-null  object \n",
      " 1   temp            52551 non-null  float64\n",
      " 2   traffic_volume  52551 non-null  float64\n",
      " 3   is_holiday      52551 non-null  float64\n",
      " 4   is_weekend      52551 non-null  int64  \n",
      " 5   month_number    52551 non-null  int64  \n",
      "dtypes: float64(3), int64(2), object(1)\n",
      "memory usage: 2.8+ MB\n"
     ]
    }
   ],
   "source": [
    "in_data.info()"
   ]
  },
  {
   "cell_type": "code",
   "execution_count": 34,
   "metadata": {},
   "outputs": [
    {
     "data": {
      "text/html": [
       "<div>\n",
       "<style scoped>\n",
       "    .dataframe tbody tr th:only-of-type {\n",
       "        vertical-align: middle;\n",
       "    }\n",
       "\n",
       "    .dataframe tbody tr th {\n",
       "        vertical-align: top;\n",
       "    }\n",
       "\n",
       "    .dataframe thead th {\n",
       "        text-align: right;\n",
       "    }\n",
       "</style>\n",
       "<table border=\"1\" class=\"dataframe\">\n",
       "  <thead>\n",
       "    <tr style=\"text-align: right;\">\n",
       "      <th></th>\n",
       "      <th>temp</th>\n",
       "      <th>traffic_volume</th>\n",
       "      <th>is_holiday</th>\n",
       "      <th>is_weekend</th>\n",
       "      <th>month_number</th>\n",
       "    </tr>\n",
       "  </thead>\n",
       "  <tbody>\n",
       "    <tr>\n",
       "      <th>count</th>\n",
       "      <td>52551.000000</td>\n",
       "      <td>52551.000000</td>\n",
       "      <td>52551.000000</td>\n",
       "      <td>52551.000000</td>\n",
       "      <td>52551.000000</td>\n",
       "    </tr>\n",
       "    <tr>\n",
       "      <th>mean</th>\n",
       "      <td>282.501583</td>\n",
       "      <td>3071.897557</td>\n",
       "      <td>0.001056</td>\n",
       "      <td>0.285894</td>\n",
       "      <td>6.521779</td>\n",
       "    </tr>\n",
       "    <tr>\n",
       "      <th>std</th>\n",
       "      <td>12.993132</td>\n",
       "      <td>1922.467889</td>\n",
       "      <td>0.032113</td>\n",
       "      <td>0.451843</td>\n",
       "      <td>3.448434</td>\n",
       "    </tr>\n",
       "    <tr>\n",
       "      <th>min</th>\n",
       "      <td>0.000000</td>\n",
       "      <td>0.000000</td>\n",
       "      <td>0.000000</td>\n",
       "      <td>0.000000</td>\n",
       "      <td>1.000000</td>\n",
       "    </tr>\n",
       "    <tr>\n",
       "      <th>25%</th>\n",
       "      <td>273.580000</td>\n",
       "      <td>1223.599161</td>\n",
       "      <td>0.000000</td>\n",
       "      <td>0.000000</td>\n",
       "      <td>4.000000</td>\n",
       "    </tr>\n",
       "    <tr>\n",
       "      <th>50%</th>\n",
       "      <td>286.420000</td>\n",
       "      <td>2897.000000</td>\n",
       "      <td>0.000000</td>\n",
       "      <td>0.000000</td>\n",
       "      <td>7.000000</td>\n",
       "    </tr>\n",
       "    <tr>\n",
       "      <th>75%</th>\n",
       "      <td>291.703441</td>\n",
       "      <td>4775.000000</td>\n",
       "      <td>0.000000</td>\n",
       "      <td>1.000000</td>\n",
       "      <td>10.000000</td>\n",
       "    </tr>\n",
       "    <tr>\n",
       "      <th>max</th>\n",
       "      <td>310.070000</td>\n",
       "      <td>7280.000000</td>\n",
       "      <td>1.000000</td>\n",
       "      <td>1.000000</td>\n",
       "      <td>12.000000</td>\n",
       "    </tr>\n",
       "  </tbody>\n",
       "</table>\n",
       "</div>"
      ],
      "text/plain": [
       "               temp  traffic_volume    is_holiday    is_weekend  month_number\n",
       "count  52551.000000    52551.000000  52551.000000  52551.000000  52551.000000\n",
       "mean     282.501583     3071.897557      0.001056      0.285894      6.521779\n",
       "std       12.993132     1922.467889      0.032113      0.451843      3.448434\n",
       "min        0.000000        0.000000      0.000000      0.000000      1.000000\n",
       "25%      273.580000     1223.599161      0.000000      0.000000      4.000000\n",
       "50%      286.420000     2897.000000      0.000000      0.000000      7.000000\n",
       "75%      291.703441     4775.000000      0.000000      1.000000     10.000000\n",
       "max      310.070000     7280.000000      1.000000      1.000000     12.000000"
      ]
     },
     "execution_count": 34,
     "metadata": {},
     "output_type": "execute_result"
    }
   ],
   "source": [
    "in_data.describe()"
   ]
  },
  {
   "cell_type": "code",
   "execution_count": 35,
   "metadata": {},
   "outputs": [],
   "source": [
    "# Посмотрим на даты обозначенные как праздничные\n",
    "# working_data['is_holiday'].sum()\n",
    "# in_data[in_data['is_holiday']==1].head(60)"
   ]
  },
  {
   "cell_type": "code",
   "execution_count": 36,
   "metadata": {},
   "outputs": [],
   "source": [
    "test_data = working_data.loc['2013-10-13 00:00:00':'2013-10-14 05:00:00'].copy()"
   ]
  },
  {
   "cell_type": "code",
   "execution_count": 37,
   "metadata": {},
   "outputs": [
    {
     "data": {
      "text/html": [
       "<div>\n",
       "<style scoped>\n",
       "    .dataframe tbody tr th:only-of-type {\n",
       "        vertical-align: middle;\n",
       "    }\n",
       "\n",
       "    .dataframe tbody tr th {\n",
       "        vertical-align: top;\n",
       "    }\n",
       "\n",
       "    .dataframe thead th {\n",
       "        text-align: right;\n",
       "    }\n",
       "</style>\n",
       "<table border=\"1\" class=\"dataframe\">\n",
       "  <thead>\n",
       "    <tr style=\"text-align: right;\">\n",
       "      <th></th>\n",
       "      <th>holiday</th>\n",
       "      <th>temp</th>\n",
       "      <th>traffic_volume</th>\n",
       "      <th>is_holiday</th>\n",
       "      <th>is_weekend</th>\n",
       "      <th>month_number</th>\n",
       "    </tr>\n",
       "    <tr>\n",
       "      <th>date_time</th>\n",
       "      <th></th>\n",
       "      <th></th>\n",
       "      <th></th>\n",
       "      <th></th>\n",
       "      <th></th>\n",
       "      <th></th>\n",
       "    </tr>\n",
       "  </thead>\n",
       "  <tbody>\n",
       "    <tr>\n",
       "      <th>2013-10-13 22:00:00</th>\n",
       "      <td>NaN</td>\n",
       "      <td>279.835714</td>\n",
       "      <td>1693.857143</td>\n",
       "      <td>0.0</td>\n",
       "      <td>1</td>\n",
       "      <td>10</td>\n",
       "    </tr>\n",
       "    <tr>\n",
       "      <th>2013-10-13 23:00:00</th>\n",
       "      <td>None</td>\n",
       "      <td>278.580000</td>\n",
       "      <td>1084.000000</td>\n",
       "      <td>0.0</td>\n",
       "      <td>1</td>\n",
       "      <td>10</td>\n",
       "    </tr>\n",
       "    <tr>\n",
       "      <th>2013-10-14 00:00:00</th>\n",
       "      <td>Columbus Day</td>\n",
       "      <td>277.720000</td>\n",
       "      <td>615.000000</td>\n",
       "      <td>1.0</td>\n",
       "      <td>0</td>\n",
       "      <td>10</td>\n",
       "    </tr>\n",
       "    <tr>\n",
       "      <th>2013-10-14 01:00:00</th>\n",
       "      <td>NaN</td>\n",
       "      <td>277.395000</td>\n",
       "      <td>453.000000</td>\n",
       "      <td>0.5</td>\n",
       "      <td>0</td>\n",
       "      <td>10</td>\n",
       "    </tr>\n",
       "    <tr>\n",
       "      <th>2013-10-14 02:00:00</th>\n",
       "      <td>None</td>\n",
       "      <td>277.070000</td>\n",
       "      <td>291.000000</td>\n",
       "      <td>0.0</td>\n",
       "      <td>0</td>\n",
       "      <td>10</td>\n",
       "    </tr>\n",
       "    <tr>\n",
       "      <th>2013-10-14 03:00:00</th>\n",
       "      <td>None</td>\n",
       "      <td>276.700000</td>\n",
       "      <td>388.000000</td>\n",
       "      <td>0.0</td>\n",
       "      <td>0</td>\n",
       "      <td>10</td>\n",
       "    </tr>\n",
       "    <tr>\n",
       "      <th>2013-10-14 04:00:00</th>\n",
       "      <td>NaN</td>\n",
       "      <td>277.145000</td>\n",
       "      <td>1541.000000</td>\n",
       "      <td>0.0</td>\n",
       "      <td>0</td>\n",
       "      <td>10</td>\n",
       "    </tr>\n",
       "    <tr>\n",
       "      <th>2013-10-14 05:00:00</th>\n",
       "      <td>None</td>\n",
       "      <td>277.590000</td>\n",
       "      <td>2694.000000</td>\n",
       "      <td>0.0</td>\n",
       "      <td>0</td>\n",
       "      <td>10</td>\n",
       "    </tr>\n",
       "  </tbody>\n",
       "</table>\n",
       "</div>"
      ],
      "text/plain": [
       "                          holiday        temp  traffic_volume  is_holiday  \\\n",
       "date_time                                                                   \n",
       "2013-10-13 22:00:00           NaN  279.835714     1693.857143         0.0   \n",
       "2013-10-13 23:00:00          None  278.580000     1084.000000         0.0   \n",
       "2013-10-14 00:00:00  Columbus Day  277.720000      615.000000         1.0   \n",
       "2013-10-14 01:00:00           NaN  277.395000      453.000000         0.5   \n",
       "2013-10-14 02:00:00          None  277.070000      291.000000         0.0   \n",
       "2013-10-14 03:00:00          None  276.700000      388.000000         0.0   \n",
       "2013-10-14 04:00:00           NaN  277.145000     1541.000000         0.0   \n",
       "2013-10-14 05:00:00          None  277.590000     2694.000000         0.0   \n",
       "\n",
       "                     is_weekend  month_number  \n",
       "date_time                                      \n",
       "2013-10-13 22:00:00           1            10  \n",
       "2013-10-13 23:00:00           1            10  \n",
       "2013-10-14 00:00:00           0            10  \n",
       "2013-10-14 01:00:00           0            10  \n",
       "2013-10-14 02:00:00           0            10  \n",
       "2013-10-14 03:00:00           0            10  \n",
       "2013-10-14 04:00:00           0            10  \n",
       "2013-10-14 05:00:00           0            10  "
      ]
     },
     "execution_count": 37,
     "metadata": {},
     "output_type": "execute_result"
    }
   ],
   "source": [
    "in_data.loc['2013-10-13 22:00:00':'2013-10-14 05:00:00'].head(20)"
   ]
  },
  {
   "cell_type": "code",
   "execution_count": 38,
   "metadata": {},
   "outputs": [
    {
     "data": {
      "text/html": [
       "<div>\n",
       "<style scoped>\n",
       "    .dataframe tbody tr th:only-of-type {\n",
       "        vertical-align: middle;\n",
       "    }\n",
       "\n",
       "    .dataframe tbody tr th {\n",
       "        vertical-align: top;\n",
       "    }\n",
       "\n",
       "    .dataframe thead th {\n",
       "        text-align: right;\n",
       "    }\n",
       "</style>\n",
       "<table border=\"1\" class=\"dataframe\">\n",
       "  <thead>\n",
       "    <tr style=\"text-align: right;\">\n",
       "      <th></th>\n",
       "      <th>holiday</th>\n",
       "      <th>temp</th>\n",
       "      <th>traffic_volume</th>\n",
       "      <th>is_holiday</th>\n",
       "      <th>is_weekend</th>\n",
       "      <th>month_number</th>\n",
       "      <th>was_nan</th>\n",
       "    </tr>\n",
       "    <tr>\n",
       "      <th>date_time</th>\n",
       "      <th></th>\n",
       "      <th></th>\n",
       "      <th></th>\n",
       "      <th></th>\n",
       "      <th></th>\n",
       "      <th></th>\n",
       "      <th></th>\n",
       "    </tr>\n",
       "  </thead>\n",
       "  <tbody>\n",
       "    <tr>\n",
       "      <th>2012-10-02 09:00:00</th>\n",
       "      <td>None</td>\n",
       "      <td>288.28</td>\n",
       "      <td>5545.0</td>\n",
       "      <td>0.0</td>\n",
       "      <td>0</td>\n",
       "      <td>10</td>\n",
       "      <td>0</td>\n",
       "    </tr>\n",
       "    <tr>\n",
       "      <th>2012-10-02 10:00:00</th>\n",
       "      <td>None</td>\n",
       "      <td>289.36</td>\n",
       "      <td>4516.0</td>\n",
       "      <td>0.0</td>\n",
       "      <td>0</td>\n",
       "      <td>10</td>\n",
       "      <td>0</td>\n",
       "    </tr>\n",
       "    <tr>\n",
       "      <th>2012-10-02 11:00:00</th>\n",
       "      <td>None</td>\n",
       "      <td>289.58</td>\n",
       "      <td>4767.0</td>\n",
       "      <td>0.0</td>\n",
       "      <td>0</td>\n",
       "      <td>10</td>\n",
       "      <td>0</td>\n",
       "    </tr>\n",
       "    <tr>\n",
       "      <th>2012-10-02 12:00:00</th>\n",
       "      <td>None</td>\n",
       "      <td>290.13</td>\n",
       "      <td>5026.0</td>\n",
       "      <td>0.0</td>\n",
       "      <td>0</td>\n",
       "      <td>10</td>\n",
       "      <td>0</td>\n",
       "    </tr>\n",
       "    <tr>\n",
       "      <th>2012-10-02 13:00:00</th>\n",
       "      <td>None</td>\n",
       "      <td>291.14</td>\n",
       "      <td>4918.0</td>\n",
       "      <td>0.0</td>\n",
       "      <td>0</td>\n",
       "      <td>10</td>\n",
       "      <td>0</td>\n",
       "    </tr>\n",
       "  </tbody>\n",
       "</table>\n",
       "</div>"
      ],
      "text/plain": [
       "                    holiday    temp  traffic_volume  is_holiday  is_weekend  \\\n",
       "date_time                                                                     \n",
       "2012-10-02 09:00:00    None  288.28          5545.0         0.0           0   \n",
       "2012-10-02 10:00:00    None  289.36          4516.0         0.0           0   \n",
       "2012-10-02 11:00:00    None  289.58          4767.0         0.0           0   \n",
       "2012-10-02 12:00:00    None  290.13          5026.0         0.0           0   \n",
       "2012-10-02 13:00:00    None  291.14          4918.0         0.0           0   \n",
       "\n",
       "                     month_number  was_nan  \n",
       "date_time                                   \n",
       "2012-10-02 09:00:00            10        0  \n",
       "2012-10-02 10:00:00            10        0  \n",
       "2012-10-02 11:00:00            10        0  \n",
       "2012-10-02 12:00:00            10        0  \n",
       "2012-10-02 13:00:00            10        0  "
      ]
     },
     "execution_count": 38,
     "metadata": {},
     "output_type": "execute_result"
    }
   ],
   "source": [
    "in_data['was_nan'] = working_data['traffic_volume'].isnull().astype(int)\n",
    "in_data.head()"
   ]
  },
  {
   "cell_type": "markdown",
   "metadata": {},
   "source": [
    "### Неожиданности \n",
    "Так как в дата сете есть целые пропущенные дни, то возможно надо либо эти прощенные данные выкинуть, а оставшиеся использовать\n",
    "либо пометить их как-то\n",
    "Но ключевой вопрос, сколько у тебя интервалов прощенных данных и какова была их длинна? \n"
   ]
  },
  {
   "cell_type": "code",
   "execution_count": 39,
   "metadata": {},
   "outputs": [
    {
     "data": {
      "text/plain": [
       "array(['None', nan, 'Columbus Day', 'Veterans Day', 'Thanksgiving Day',\n",
       "       'Christmas Day', 'New Years Day', 'Washingtons Birthday',\n",
       "       'Memorial Day', 'Independence Day', 'State Fair', 'Labor Day',\n",
       "       'Martin Luther King Jr Day'], dtype=object)"
      ]
     },
     "execution_count": 39,
     "metadata": {},
     "output_type": "execute_result"
    }
   ],
   "source": [
    "pd.unique(working_data['holiday'])"
   ]
  },
  {
   "cell_type": "code",
   "execution_count": 40,
   "metadata": {},
   "outputs": [],
   "source": [
    "def add_holidays(df):\n",
    "       holidays = ['Columbus Day', 'Veterans Day', 'Thanksgiving Day',\n",
    "                   'Christmas Day', 'New Years Day', 'Washingtons Birthday',\n",
    "                   'Memorial Day', 'Independence Day', 'State Fair', 'Labor Day',\n",
    "                   'Martin Luther King Jr Day']\n",
    "       out = df[df['holiday'].isin(holidays)]\n",
    "       delta_hour = timedelta(hours=1)\n",
    "       for day in out.index:\n",
    "              for i in range(1,24,1):\n",
    "                     df.loc[day+delta_hour*i,'is_holiday'] = 1       \n",
    "       # print(out.head())\n",
    "       # print(df[df['holiday'].isin(holidays)].head())\n",
    "       "
   ]
  },
  {
   "cell_type": "code",
   "execution_count": 41,
   "metadata": {},
   "outputs": [],
   "source": [
    "# print(working_data.index[2]-working_data.index[1])\n",
    "# print(type(working_data.index[2]-working_data.index[1]))"
   ]
  },
  {
   "cell_type": "code",
   "execution_count": 42,
   "metadata": {},
   "outputs": [],
   "source": [
    "# from datetime import timedelta\n",
    "# t = timedelta(hours=10.56)\n",
    "# print(t)"
   ]
  },
  {
   "cell_type": "code",
   "execution_count": 43,
   "metadata": {},
   "outputs": [],
   "source": [
    "add_holidays(in_data)"
   ]
  },
  {
   "cell_type": "code",
   "execution_count": 44,
   "metadata": {},
   "outputs": [
    {
     "data": {
      "text/plain": [
       "1273.0"
      ]
     },
     "execution_count": 44,
     "metadata": {},
     "output_type": "execute_result"
    }
   ],
   "source": [
    "in_data['is_holiday'].sum()"
   ]
  },
  {
   "cell_type": "code",
   "execution_count": 45,
   "metadata": {},
   "outputs": [
    {
     "data": {
      "text/html": [
       "<div>\n",
       "<style scoped>\n",
       "    .dataframe tbody tr th:only-of-type {\n",
       "        vertical-align: middle;\n",
       "    }\n",
       "\n",
       "    .dataframe tbody tr th {\n",
       "        vertical-align: top;\n",
       "    }\n",
       "\n",
       "    .dataframe thead th {\n",
       "        text-align: right;\n",
       "    }\n",
       "</style>\n",
       "<table border=\"1\" class=\"dataframe\">\n",
       "  <thead>\n",
       "    <tr style=\"text-align: right;\">\n",
       "      <th></th>\n",
       "      <th>holiday</th>\n",
       "      <th>temp</th>\n",
       "      <th>traffic_volume</th>\n",
       "      <th>is_holiday</th>\n",
       "      <th>is_weekend</th>\n",
       "      <th>month_number</th>\n",
       "      <th>was_nan</th>\n",
       "    </tr>\n",
       "    <tr>\n",
       "      <th>date_time</th>\n",
       "      <th></th>\n",
       "      <th></th>\n",
       "      <th></th>\n",
       "      <th></th>\n",
       "      <th></th>\n",
       "      <th></th>\n",
       "      <th></th>\n",
       "    </tr>\n",
       "  </thead>\n",
       "  <tbody>\n",
       "    <tr>\n",
       "      <th>2013-10-13 22:00:00</th>\n",
       "      <td>NaN</td>\n",
       "      <td>279.835714</td>\n",
       "      <td>1693.857143</td>\n",
       "      <td>0.0</td>\n",
       "      <td>1</td>\n",
       "      <td>10</td>\n",
       "      <td>1</td>\n",
       "    </tr>\n",
       "    <tr>\n",
       "      <th>2013-10-13 23:00:00</th>\n",
       "      <td>None</td>\n",
       "      <td>278.580000</td>\n",
       "      <td>1084.000000</td>\n",
       "      <td>0.0</td>\n",
       "      <td>1</td>\n",
       "      <td>10</td>\n",
       "      <td>0</td>\n",
       "    </tr>\n",
       "    <tr>\n",
       "      <th>2013-10-14 00:00:00</th>\n",
       "      <td>Columbus Day</td>\n",
       "      <td>277.720000</td>\n",
       "      <td>615.000000</td>\n",
       "      <td>1.0</td>\n",
       "      <td>0</td>\n",
       "      <td>10</td>\n",
       "      <td>0</td>\n",
       "    </tr>\n",
       "    <tr>\n",
       "      <th>2013-10-14 01:00:00</th>\n",
       "      <td>NaN</td>\n",
       "      <td>277.395000</td>\n",
       "      <td>453.000000</td>\n",
       "      <td>1.0</td>\n",
       "      <td>0</td>\n",
       "      <td>10</td>\n",
       "      <td>1</td>\n",
       "    </tr>\n",
       "    <tr>\n",
       "      <th>2013-10-14 02:00:00</th>\n",
       "      <td>None</td>\n",
       "      <td>277.070000</td>\n",
       "      <td>291.000000</td>\n",
       "      <td>1.0</td>\n",
       "      <td>0</td>\n",
       "      <td>10</td>\n",
       "      <td>0</td>\n",
       "    </tr>\n",
       "    <tr>\n",
       "      <th>2013-10-14 03:00:00</th>\n",
       "      <td>None</td>\n",
       "      <td>276.700000</td>\n",
       "      <td>388.000000</td>\n",
       "      <td>1.0</td>\n",
       "      <td>0</td>\n",
       "      <td>10</td>\n",
       "      <td>0</td>\n",
       "    </tr>\n",
       "    <tr>\n",
       "      <th>2013-10-14 04:00:00</th>\n",
       "      <td>NaN</td>\n",
       "      <td>277.145000</td>\n",
       "      <td>1541.000000</td>\n",
       "      <td>1.0</td>\n",
       "      <td>0</td>\n",
       "      <td>10</td>\n",
       "      <td>1</td>\n",
       "    </tr>\n",
       "    <tr>\n",
       "      <th>2013-10-14 05:00:00</th>\n",
       "      <td>None</td>\n",
       "      <td>277.590000</td>\n",
       "      <td>2694.000000</td>\n",
       "      <td>1.0</td>\n",
       "      <td>0</td>\n",
       "      <td>10</td>\n",
       "      <td>0</td>\n",
       "    </tr>\n",
       "    <tr>\n",
       "      <th>2013-10-14 06:00:00</th>\n",
       "      <td>None</td>\n",
       "      <td>277.990000</td>\n",
       "      <td>5729.000000</td>\n",
       "      <td>1.0</td>\n",
       "      <td>0</td>\n",
       "      <td>10</td>\n",
       "      <td>0</td>\n",
       "    </tr>\n",
       "    <tr>\n",
       "      <th>2013-10-14 07:00:00</th>\n",
       "      <td>NaN</td>\n",
       "      <td>278.760000</td>\n",
       "      <td>5733.000000</td>\n",
       "      <td>1.0</td>\n",
       "      <td>0</td>\n",
       "      <td>10</td>\n",
       "      <td>1</td>\n",
       "    </tr>\n",
       "    <tr>\n",
       "      <th>2013-10-14 08:00:00</th>\n",
       "      <td>None</td>\n",
       "      <td>279.530000</td>\n",
       "      <td>5737.000000</td>\n",
       "      <td>1.0</td>\n",
       "      <td>0</td>\n",
       "      <td>10</td>\n",
       "      <td>0</td>\n",
       "    </tr>\n",
       "    <tr>\n",
       "      <th>2013-10-14 09:00:00</th>\n",
       "      <td>None</td>\n",
       "      <td>280.190000</td>\n",
       "      <td>4899.000000</td>\n",
       "      <td>1.0</td>\n",
       "      <td>0</td>\n",
       "      <td>10</td>\n",
       "      <td>0</td>\n",
       "    </tr>\n",
       "    <tr>\n",
       "      <th>2013-10-14 10:00:00</th>\n",
       "      <td>NaN</td>\n",
       "      <td>280.955000</td>\n",
       "      <td>4703.000000</td>\n",
       "      <td>1.0</td>\n",
       "      <td>0</td>\n",
       "      <td>10</td>\n",
       "      <td>1</td>\n",
       "    </tr>\n",
       "    <tr>\n",
       "      <th>2013-10-14 11:00:00</th>\n",
       "      <td>None</td>\n",
       "      <td>281.720000</td>\n",
       "      <td>4507.000000</td>\n",
       "      <td>1.0</td>\n",
       "      <td>0</td>\n",
       "      <td>10</td>\n",
       "      <td>0</td>\n",
       "    </tr>\n",
       "    <tr>\n",
       "      <th>2013-10-14 12:00:00</th>\n",
       "      <td>None</td>\n",
       "      <td>283.060000</td>\n",
       "      <td>4696.000000</td>\n",
       "      <td>1.0</td>\n",
       "      <td>0</td>\n",
       "      <td>10</td>\n",
       "      <td>0</td>\n",
       "    </tr>\n",
       "    <tr>\n",
       "      <th>2013-10-14 13:00:00</th>\n",
       "      <td>NaN</td>\n",
       "      <td>283.950000</td>\n",
       "      <td>5046.500000</td>\n",
       "      <td>1.0</td>\n",
       "      <td>0</td>\n",
       "      <td>10</td>\n",
       "      <td>1</td>\n",
       "    </tr>\n",
       "    <tr>\n",
       "      <th>2013-10-14 14:00:00</th>\n",
       "      <td>None</td>\n",
       "      <td>284.840000</td>\n",
       "      <td>5397.000000</td>\n",
       "      <td>1.0</td>\n",
       "      <td>0</td>\n",
       "      <td>10</td>\n",
       "      <td>0</td>\n",
       "    </tr>\n",
       "    <tr>\n",
       "      <th>2013-10-14 15:00:00</th>\n",
       "      <td>NaN</td>\n",
       "      <td>284.730000</td>\n",
       "      <td>5174.750000</td>\n",
       "      <td>1.0</td>\n",
       "      <td>0</td>\n",
       "      <td>10</td>\n",
       "      <td>1</td>\n",
       "    </tr>\n",
       "    <tr>\n",
       "      <th>2013-10-14 16:00:00</th>\n",
       "      <td>NaN</td>\n",
       "      <td>284.620000</td>\n",
       "      <td>4952.500000</td>\n",
       "      <td>1.0</td>\n",
       "      <td>0</td>\n",
       "      <td>10</td>\n",
       "      <td>1</td>\n",
       "    </tr>\n",
       "    <tr>\n",
       "      <th>2013-10-14 17:00:00</th>\n",
       "      <td>NaN</td>\n",
       "      <td>284.510000</td>\n",
       "      <td>4730.250000</td>\n",
       "      <td>1.0</td>\n",
       "      <td>0</td>\n",
       "      <td>10</td>\n",
       "      <td>1</td>\n",
       "    </tr>\n",
       "    <tr>\n",
       "      <th>2013-10-14 18:00:00</th>\n",
       "      <td>None</td>\n",
       "      <td>284.400000</td>\n",
       "      <td>4508.000000</td>\n",
       "      <td>1.0</td>\n",
       "      <td>0</td>\n",
       "      <td>10</td>\n",
       "      <td>0</td>\n",
       "    </tr>\n",
       "    <tr>\n",
       "      <th>2013-10-14 19:00:00</th>\n",
       "      <td>NaN</td>\n",
       "      <td>284.130000</td>\n",
       "      <td>3728.333333</td>\n",
       "      <td>1.0</td>\n",
       "      <td>0</td>\n",
       "      <td>10</td>\n",
       "      <td>1</td>\n",
       "    </tr>\n",
       "    <tr>\n",
       "      <th>2013-10-14 20:00:00</th>\n",
       "      <td>NaN</td>\n",
       "      <td>283.860000</td>\n",
       "      <td>2948.666667</td>\n",
       "      <td>1.0</td>\n",
       "      <td>0</td>\n",
       "      <td>10</td>\n",
       "      <td>1</td>\n",
       "    </tr>\n",
       "    <tr>\n",
       "      <th>2013-10-14 21:00:00</th>\n",
       "      <td>None</td>\n",
       "      <td>283.590000</td>\n",
       "      <td>2169.000000</td>\n",
       "      <td>1.0</td>\n",
       "      <td>0</td>\n",
       "      <td>10</td>\n",
       "      <td>0</td>\n",
       "    </tr>\n",
       "    <tr>\n",
       "      <th>2013-10-14 22:00:00</th>\n",
       "      <td>NaN</td>\n",
       "      <td>283.286667</td>\n",
       "      <td>1605.000000</td>\n",
       "      <td>1.0</td>\n",
       "      <td>0</td>\n",
       "      <td>10</td>\n",
       "      <td>1</td>\n",
       "    </tr>\n",
       "    <tr>\n",
       "      <th>2013-10-14 23:00:00</th>\n",
       "      <td>NaN</td>\n",
       "      <td>282.983333</td>\n",
       "      <td>1041.000000</td>\n",
       "      <td>1.0</td>\n",
       "      <td>0</td>\n",
       "      <td>10</td>\n",
       "      <td>1</td>\n",
       "    </tr>\n",
       "    <tr>\n",
       "      <th>2013-10-15 00:00:00</th>\n",
       "      <td>None</td>\n",
       "      <td>282.680000</td>\n",
       "      <td>477.000000</td>\n",
       "      <td>0.0</td>\n",
       "      <td>0</td>\n",
       "      <td>10</td>\n",
       "      <td>0</td>\n",
       "    </tr>\n",
       "    <tr>\n",
       "      <th>2013-10-15 01:00:00</th>\n",
       "      <td>NaN</td>\n",
       "      <td>282.476667</td>\n",
       "      <td>431.333333</td>\n",
       "      <td>0.0</td>\n",
       "      <td>0</td>\n",
       "      <td>10</td>\n",
       "      <td>1</td>\n",
       "    </tr>\n",
       "    <tr>\n",
       "      <th>2013-10-15 02:00:00</th>\n",
       "      <td>NaN</td>\n",
       "      <td>282.273333</td>\n",
       "      <td>385.666667</td>\n",
       "      <td>0.0</td>\n",
       "      <td>0</td>\n",
       "      <td>10</td>\n",
       "      <td>1</td>\n",
       "    </tr>\n",
       "    <tr>\n",
       "      <th>2013-10-15 03:00:00</th>\n",
       "      <td>None</td>\n",
       "      <td>282.070000</td>\n",
       "      <td>340.000000</td>\n",
       "      <td>0.0</td>\n",
       "      <td>0</td>\n",
       "      <td>10</td>\n",
       "      <td>0</td>\n",
       "    </tr>\n",
       "  </tbody>\n",
       "</table>\n",
       "</div>"
      ],
      "text/plain": [
       "                          holiday        temp  traffic_volume  is_holiday  \\\n",
       "date_time                                                                   \n",
       "2013-10-13 22:00:00           NaN  279.835714     1693.857143         0.0   \n",
       "2013-10-13 23:00:00          None  278.580000     1084.000000         0.0   \n",
       "2013-10-14 00:00:00  Columbus Day  277.720000      615.000000         1.0   \n",
       "2013-10-14 01:00:00           NaN  277.395000      453.000000         1.0   \n",
       "2013-10-14 02:00:00          None  277.070000      291.000000         1.0   \n",
       "2013-10-14 03:00:00          None  276.700000      388.000000         1.0   \n",
       "2013-10-14 04:00:00           NaN  277.145000     1541.000000         1.0   \n",
       "2013-10-14 05:00:00          None  277.590000     2694.000000         1.0   \n",
       "2013-10-14 06:00:00          None  277.990000     5729.000000         1.0   \n",
       "2013-10-14 07:00:00           NaN  278.760000     5733.000000         1.0   \n",
       "2013-10-14 08:00:00          None  279.530000     5737.000000         1.0   \n",
       "2013-10-14 09:00:00          None  280.190000     4899.000000         1.0   \n",
       "2013-10-14 10:00:00           NaN  280.955000     4703.000000         1.0   \n",
       "2013-10-14 11:00:00          None  281.720000     4507.000000         1.0   \n",
       "2013-10-14 12:00:00          None  283.060000     4696.000000         1.0   \n",
       "2013-10-14 13:00:00           NaN  283.950000     5046.500000         1.0   \n",
       "2013-10-14 14:00:00          None  284.840000     5397.000000         1.0   \n",
       "2013-10-14 15:00:00           NaN  284.730000     5174.750000         1.0   \n",
       "2013-10-14 16:00:00           NaN  284.620000     4952.500000         1.0   \n",
       "2013-10-14 17:00:00           NaN  284.510000     4730.250000         1.0   \n",
       "2013-10-14 18:00:00          None  284.400000     4508.000000         1.0   \n",
       "2013-10-14 19:00:00           NaN  284.130000     3728.333333         1.0   \n",
       "2013-10-14 20:00:00           NaN  283.860000     2948.666667         1.0   \n",
       "2013-10-14 21:00:00          None  283.590000     2169.000000         1.0   \n",
       "2013-10-14 22:00:00           NaN  283.286667     1605.000000         1.0   \n",
       "2013-10-14 23:00:00           NaN  282.983333     1041.000000         1.0   \n",
       "2013-10-15 00:00:00          None  282.680000      477.000000         0.0   \n",
       "2013-10-15 01:00:00           NaN  282.476667      431.333333         0.0   \n",
       "2013-10-15 02:00:00           NaN  282.273333      385.666667         0.0   \n",
       "2013-10-15 03:00:00          None  282.070000      340.000000         0.0   \n",
       "\n",
       "                     is_weekend  month_number  was_nan  \n",
       "date_time                                               \n",
       "2013-10-13 22:00:00           1            10        1  \n",
       "2013-10-13 23:00:00           1            10        0  \n",
       "2013-10-14 00:00:00           0            10        0  \n",
       "2013-10-14 01:00:00           0            10        1  \n",
       "2013-10-14 02:00:00           0            10        0  \n",
       "2013-10-14 03:00:00           0            10        0  \n",
       "2013-10-14 04:00:00           0            10        1  \n",
       "2013-10-14 05:00:00           0            10        0  \n",
       "2013-10-14 06:00:00           0            10        0  \n",
       "2013-10-14 07:00:00           0            10        1  \n",
       "2013-10-14 08:00:00           0            10        0  \n",
       "2013-10-14 09:00:00           0            10        0  \n",
       "2013-10-14 10:00:00           0            10        1  \n",
       "2013-10-14 11:00:00           0            10        0  \n",
       "2013-10-14 12:00:00           0            10        0  \n",
       "2013-10-14 13:00:00           0            10        1  \n",
       "2013-10-14 14:00:00           0            10        0  \n",
       "2013-10-14 15:00:00           0            10        1  \n",
       "2013-10-14 16:00:00           0            10        1  \n",
       "2013-10-14 17:00:00           0            10        1  \n",
       "2013-10-14 18:00:00           0            10        0  \n",
       "2013-10-14 19:00:00           0            10        1  \n",
       "2013-10-14 20:00:00           0            10        1  \n",
       "2013-10-14 21:00:00           0            10        0  \n",
       "2013-10-14 22:00:00           0            10        1  \n",
       "2013-10-14 23:00:00           0            10        1  \n",
       "2013-10-15 00:00:00           0            10        0  \n",
       "2013-10-15 01:00:00           0            10        1  \n",
       "2013-10-15 02:00:00           0            10        1  \n",
       "2013-10-15 03:00:00           0            10        0  "
      ]
     },
     "execution_count": 45,
     "metadata": {},
     "output_type": "execute_result"
    }
   ],
   "source": [
    "in_data.loc['2013-10-13 22:00:00':'2013-10-15 03:00:00'].head(50)"
   ]
  },
  {
   "cell_type": "code",
   "execution_count": 46,
   "metadata": {},
   "outputs": [
    {
     "name": "stdout",
     "output_type": "stream",
     "text": [
      "<class 'pandas.core.frame.DataFrame'>\n",
      "DatetimeIndex: 52551 entries, 2012-10-02 09:00:00 to 2018-09-30 23:00:00\n",
      "Data columns (total 7 columns):\n",
      " #   Column          Non-Null Count  Dtype  \n",
      "---  ------          --------------  -----  \n",
      " 0   holiday         40528 non-null  object \n",
      " 1   temp            52551 non-null  float64\n",
      " 2   traffic_volume  52551 non-null  float64\n",
      " 3   is_holiday      52551 non-null  float64\n",
      " 4   is_weekend      52551 non-null  int64  \n",
      " 5   month_number    52551 non-null  int64  \n",
      " 6   was_nan         52551 non-null  int32  \n",
      "dtypes: float64(3), int32(1), int64(2), object(1)\n",
      "memory usage: 5.0+ MB\n"
     ]
    }
   ],
   "source": [
    "in_data.info()"
   ]
  },
  {
   "cell_type": "code",
   "execution_count": 47,
   "metadata": {},
   "outputs": [
    {
     "data": {
      "text/html": [
       "<div>\n",
       "<style scoped>\n",
       "    .dataframe tbody tr th:only-of-type {\n",
       "        vertical-align: middle;\n",
       "    }\n",
       "\n",
       "    .dataframe tbody tr th {\n",
       "        vertical-align: top;\n",
       "    }\n",
       "\n",
       "    .dataframe thead th {\n",
       "        text-align: right;\n",
       "    }\n",
       "</style>\n",
       "<table border=\"1\" class=\"dataframe\">\n",
       "  <thead>\n",
       "    <tr style=\"text-align: right;\">\n",
       "      <th></th>\n",
       "      <th>temp</th>\n",
       "      <th>traffic_volume</th>\n",
       "      <th>is_holiday</th>\n",
       "      <th>is_weekend</th>\n",
       "      <th>month_number</th>\n",
       "      <th>was_nan</th>\n",
       "    </tr>\n",
       "  </thead>\n",
       "  <tbody>\n",
       "    <tr>\n",
       "      <th>count</th>\n",
       "      <td>52551.000000</td>\n",
       "      <td>52551.000000</td>\n",
       "      <td>52551.000000</td>\n",
       "      <td>52551.000000</td>\n",
       "      <td>52551.000000</td>\n",
       "      <td>52551.000000</td>\n",
       "    </tr>\n",
       "    <tr>\n",
       "      <th>mean</th>\n",
       "      <td>282.501583</td>\n",
       "      <td>3071.897557</td>\n",
       "      <td>0.024224</td>\n",
       "      <td>0.285894</td>\n",
       "      <td>6.521779</td>\n",
       "      <td>0.228787</td>\n",
       "    </tr>\n",
       "    <tr>\n",
       "      <th>std</th>\n",
       "      <td>12.993132</td>\n",
       "      <td>1922.467889</td>\n",
       "      <td>0.153715</td>\n",
       "      <td>0.451843</td>\n",
       "      <td>3.448434</td>\n",
       "      <td>0.420056</td>\n",
       "    </tr>\n",
       "    <tr>\n",
       "      <th>min</th>\n",
       "      <td>0.000000</td>\n",
       "      <td>0.000000</td>\n",
       "      <td>0.000000</td>\n",
       "      <td>0.000000</td>\n",
       "      <td>1.000000</td>\n",
       "      <td>0.000000</td>\n",
       "    </tr>\n",
       "    <tr>\n",
       "      <th>25%</th>\n",
       "      <td>273.580000</td>\n",
       "      <td>1223.599161</td>\n",
       "      <td>0.000000</td>\n",
       "      <td>0.000000</td>\n",
       "      <td>4.000000</td>\n",
       "      <td>0.000000</td>\n",
       "    </tr>\n",
       "    <tr>\n",
       "      <th>50%</th>\n",
       "      <td>286.420000</td>\n",
       "      <td>2897.000000</td>\n",
       "      <td>0.000000</td>\n",
       "      <td>0.000000</td>\n",
       "      <td>7.000000</td>\n",
       "      <td>0.000000</td>\n",
       "    </tr>\n",
       "    <tr>\n",
       "      <th>75%</th>\n",
       "      <td>291.703441</td>\n",
       "      <td>4775.000000</td>\n",
       "      <td>0.000000</td>\n",
       "      <td>1.000000</td>\n",
       "      <td>10.000000</td>\n",
       "      <td>0.000000</td>\n",
       "    </tr>\n",
       "    <tr>\n",
       "      <th>max</th>\n",
       "      <td>310.070000</td>\n",
       "      <td>7280.000000</td>\n",
       "      <td>1.000000</td>\n",
       "      <td>1.000000</td>\n",
       "      <td>12.000000</td>\n",
       "      <td>1.000000</td>\n",
       "    </tr>\n",
       "  </tbody>\n",
       "</table>\n",
       "</div>"
      ],
      "text/plain": [
       "               temp  traffic_volume    is_holiday    is_weekend  month_number  \\\n",
       "count  52551.000000    52551.000000  52551.000000  52551.000000  52551.000000   \n",
       "mean     282.501583     3071.897557      0.024224      0.285894      6.521779   \n",
       "std       12.993132     1922.467889      0.153715      0.451843      3.448434   \n",
       "min        0.000000        0.000000      0.000000      0.000000      1.000000   \n",
       "25%      273.580000     1223.599161      0.000000      0.000000      4.000000   \n",
       "50%      286.420000     2897.000000      0.000000      0.000000      7.000000   \n",
       "75%      291.703441     4775.000000      0.000000      1.000000     10.000000   \n",
       "max      310.070000     7280.000000      1.000000      1.000000     12.000000   \n",
       "\n",
       "            was_nan  \n",
       "count  52551.000000  \n",
       "mean       0.228787  \n",
       "std        0.420056  \n",
       "min        0.000000  \n",
       "25%        0.000000  \n",
       "50%        0.000000  \n",
       "75%        0.000000  \n",
       "max        1.000000  "
      ]
     },
     "execution_count": 47,
     "metadata": {},
     "output_type": "execute_result"
    }
   ],
   "source": [
    "in_data.describe()"
   ]
  },
  {
   "cell_type": "code",
   "execution_count": 48,
   "metadata": {},
   "outputs": [
    {
     "name": "stdout",
     "output_type": "stream",
     "text": [
      "[0.  1.  0.5]\n"
     ]
    }
   ],
   "source": [
    "print(pd.unique(in_data['is_holiday']))"
   ]
  },
  {
   "cell_type": "code",
   "execution_count": 60,
   "metadata": {},
   "outputs": [],
   "source": [
    "in_data.loc[in_data[in_data['is_holiday']==0.5].index,'is_holiday']=0"
   ]
  },
  {
   "cell_type": "code",
   "execution_count": 53,
   "metadata": {},
   "outputs": [
    {
     "data": {
      "text/html": [
       "<div>\n",
       "<style scoped>\n",
       "    .dataframe tbody tr th:only-of-type {\n",
       "        vertical-align: middle;\n",
       "    }\n",
       "\n",
       "    .dataframe tbody tr th {\n",
       "        vertical-align: top;\n",
       "    }\n",
       "\n",
       "    .dataframe thead th {\n",
       "        text-align: right;\n",
       "    }\n",
       "</style>\n",
       "<table border=\"1\" class=\"dataframe\">\n",
       "  <thead>\n",
       "    <tr style=\"text-align: right;\">\n",
       "      <th></th>\n",
       "      <th>holiday</th>\n",
       "      <th>temp</th>\n",
       "      <th>traffic_volume</th>\n",
       "      <th>is_holiday</th>\n",
       "      <th>is_weekend</th>\n",
       "      <th>month_number</th>\n",
       "    </tr>\n",
       "    <tr>\n",
       "      <th>date_time</th>\n",
       "      <th></th>\n",
       "      <th></th>\n",
       "      <th></th>\n",
       "      <th></th>\n",
       "      <th></th>\n",
       "      <th></th>\n",
       "    </tr>\n",
       "  </thead>\n",
       "  <tbody>\n",
       "    <tr>\n",
       "      <th>2013-10-13 00:00:00</th>\n",
       "      <td>None</td>\n",
       "      <td>280.38</td>\n",
       "      <td>1489.0</td>\n",
       "      <td>0.0</td>\n",
       "      <td>1</td>\n",
       "      <td>10</td>\n",
       "    </tr>\n",
       "    <tr>\n",
       "      <th>2013-10-13 01:00:00</th>\n",
       "      <td>NaN</td>\n",
       "      <td>NaN</td>\n",
       "      <td>NaN</td>\n",
       "      <td>NaN</td>\n",
       "      <td>1</td>\n",
       "      <td>10</td>\n",
       "    </tr>\n",
       "    <tr>\n",
       "      <th>2013-10-13 02:00:00</th>\n",
       "      <td>None</td>\n",
       "      <td>279.52</td>\n",
       "      <td>730.0</td>\n",
       "      <td>0.0</td>\n",
       "      <td>1</td>\n",
       "      <td>10</td>\n",
       "    </tr>\n",
       "    <tr>\n",
       "      <th>2013-10-13 03:00:00</th>\n",
       "      <td>None</td>\n",
       "      <td>278.55</td>\n",
       "      <td>415.0</td>\n",
       "      <td>0.0</td>\n",
       "      <td>1</td>\n",
       "      <td>10</td>\n",
       "    </tr>\n",
       "    <tr>\n",
       "      <th>2013-10-13 04:00:00</th>\n",
       "      <td>None</td>\n",
       "      <td>277.00</td>\n",
       "      <td>351.0</td>\n",
       "      <td>0.0</td>\n",
       "      <td>1</td>\n",
       "      <td>10</td>\n",
       "    </tr>\n",
       "    <tr>\n",
       "      <th>2013-10-13 05:00:00</th>\n",
       "      <td>NaN</td>\n",
       "      <td>NaN</td>\n",
       "      <td>NaN</td>\n",
       "      <td>NaN</td>\n",
       "      <td>1</td>\n",
       "      <td>10</td>\n",
       "    </tr>\n",
       "    <tr>\n",
       "      <th>2013-10-13 06:00:00</th>\n",
       "      <td>NaN</td>\n",
       "      <td>NaN</td>\n",
       "      <td>NaN</td>\n",
       "      <td>NaN</td>\n",
       "      <td>1</td>\n",
       "      <td>10</td>\n",
       "    </tr>\n",
       "    <tr>\n",
       "      <th>2013-10-13 07:00:00</th>\n",
       "      <td>NaN</td>\n",
       "      <td>NaN</td>\n",
       "      <td>NaN</td>\n",
       "      <td>NaN</td>\n",
       "      <td>1</td>\n",
       "      <td>10</td>\n",
       "    </tr>\n",
       "    <tr>\n",
       "      <th>2013-10-13 08:00:00</th>\n",
       "      <td>NaN</td>\n",
       "      <td>NaN</td>\n",
       "      <td>NaN</td>\n",
       "      <td>NaN</td>\n",
       "      <td>1</td>\n",
       "      <td>10</td>\n",
       "    </tr>\n",
       "    <tr>\n",
       "      <th>2013-10-13 09:00:00</th>\n",
       "      <td>NaN</td>\n",
       "      <td>NaN</td>\n",
       "      <td>NaN</td>\n",
       "      <td>NaN</td>\n",
       "      <td>1</td>\n",
       "      <td>10</td>\n",
       "    </tr>\n",
       "    <tr>\n",
       "      <th>2013-10-13 10:00:00</th>\n",
       "      <td>None</td>\n",
       "      <td>282.63</td>\n",
       "      <td>4850.0</td>\n",
       "      <td>0.0</td>\n",
       "      <td>1</td>\n",
       "      <td>10</td>\n",
       "    </tr>\n",
       "    <tr>\n",
       "      <th>2013-10-13 11:00:00</th>\n",
       "      <td>NaN</td>\n",
       "      <td>NaN</td>\n",
       "      <td>NaN</td>\n",
       "      <td>NaN</td>\n",
       "      <td>1</td>\n",
       "      <td>10</td>\n",
       "    </tr>\n",
       "    <tr>\n",
       "      <th>2013-10-13 12:00:00</th>\n",
       "      <td>None</td>\n",
       "      <td>285.31</td>\n",
       "      <td>4521.0</td>\n",
       "      <td>0.0</td>\n",
       "      <td>1</td>\n",
       "      <td>10</td>\n",
       "    </tr>\n",
       "    <tr>\n",
       "      <th>2013-10-13 13:00:00</th>\n",
       "      <td>NaN</td>\n",
       "      <td>NaN</td>\n",
       "      <td>NaN</td>\n",
       "      <td>NaN</td>\n",
       "      <td>1</td>\n",
       "      <td>10</td>\n",
       "    </tr>\n",
       "    <tr>\n",
       "      <th>2013-10-13 14:00:00</th>\n",
       "      <td>NaN</td>\n",
       "      <td>NaN</td>\n",
       "      <td>NaN</td>\n",
       "      <td>NaN</td>\n",
       "      <td>1</td>\n",
       "      <td>10</td>\n",
       "    </tr>\n",
       "    <tr>\n",
       "      <th>2013-10-13 15:00:00</th>\n",
       "      <td>None</td>\n",
       "      <td>287.77</td>\n",
       "      <td>4930.0</td>\n",
       "      <td>0.0</td>\n",
       "      <td>1</td>\n",
       "      <td>10</td>\n",
       "    </tr>\n",
       "    <tr>\n",
       "      <th>2013-10-13 16:00:00</th>\n",
       "      <td>None</td>\n",
       "      <td>287.37</td>\n",
       "      <td>5353.0</td>\n",
       "      <td>0.0</td>\n",
       "      <td>1</td>\n",
       "      <td>10</td>\n",
       "    </tr>\n",
       "    <tr>\n",
       "      <th>2013-10-13 17:00:00</th>\n",
       "      <td>NaN</td>\n",
       "      <td>NaN</td>\n",
       "      <td>NaN</td>\n",
       "      <td>NaN</td>\n",
       "      <td>1</td>\n",
       "      <td>10</td>\n",
       "    </tr>\n",
       "    <tr>\n",
       "      <th>2013-10-13 18:00:00</th>\n",
       "      <td>NaN</td>\n",
       "      <td>NaN</td>\n",
       "      <td>NaN</td>\n",
       "      <td>NaN</td>\n",
       "      <td>1</td>\n",
       "      <td>10</td>\n",
       "    </tr>\n",
       "    <tr>\n",
       "      <th>2013-10-13 19:00:00</th>\n",
       "      <td>NaN</td>\n",
       "      <td>NaN</td>\n",
       "      <td>NaN</td>\n",
       "      <td>NaN</td>\n",
       "      <td>1</td>\n",
       "      <td>10</td>\n",
       "    </tr>\n",
       "    <tr>\n",
       "      <th>2013-10-13 20:00:00</th>\n",
       "      <td>NaN</td>\n",
       "      <td>NaN</td>\n",
       "      <td>NaN</td>\n",
       "      <td>NaN</td>\n",
       "      <td>1</td>\n",
       "      <td>10</td>\n",
       "    </tr>\n",
       "    <tr>\n",
       "      <th>2013-10-13 21:00:00</th>\n",
       "      <td>NaN</td>\n",
       "      <td>NaN</td>\n",
       "      <td>NaN</td>\n",
       "      <td>NaN</td>\n",
       "      <td>1</td>\n",
       "      <td>10</td>\n",
       "    </tr>\n",
       "    <tr>\n",
       "      <th>2013-10-13 22:00:00</th>\n",
       "      <td>NaN</td>\n",
       "      <td>NaN</td>\n",
       "      <td>NaN</td>\n",
       "      <td>NaN</td>\n",
       "      <td>1</td>\n",
       "      <td>10</td>\n",
       "    </tr>\n",
       "    <tr>\n",
       "      <th>2013-10-13 23:00:00</th>\n",
       "      <td>None</td>\n",
       "      <td>278.58</td>\n",
       "      <td>1084.0</td>\n",
       "      <td>0.0</td>\n",
       "      <td>1</td>\n",
       "      <td>10</td>\n",
       "    </tr>\n",
       "    <tr>\n",
       "      <th>2013-10-14 00:00:00</th>\n",
       "      <td>Columbus Day</td>\n",
       "      <td>277.72</td>\n",
       "      <td>615.0</td>\n",
       "      <td>1.0</td>\n",
       "      <td>0</td>\n",
       "      <td>10</td>\n",
       "    </tr>\n",
       "    <tr>\n",
       "      <th>2013-10-14 01:00:00</th>\n",
       "      <td>NaN</td>\n",
       "      <td>NaN</td>\n",
       "      <td>NaN</td>\n",
       "      <td>NaN</td>\n",
       "      <td>0</td>\n",
       "      <td>10</td>\n",
       "    </tr>\n",
       "    <tr>\n",
       "      <th>2013-10-14 02:00:00</th>\n",
       "      <td>None</td>\n",
       "      <td>277.07</td>\n",
       "      <td>291.0</td>\n",
       "      <td>0.0</td>\n",
       "      <td>0</td>\n",
       "      <td>10</td>\n",
       "    </tr>\n",
       "    <tr>\n",
       "      <th>2013-10-14 03:00:00</th>\n",
       "      <td>None</td>\n",
       "      <td>276.70</td>\n",
       "      <td>388.0</td>\n",
       "      <td>0.0</td>\n",
       "      <td>0</td>\n",
       "      <td>10</td>\n",
       "    </tr>\n",
       "    <tr>\n",
       "      <th>2013-10-14 04:00:00</th>\n",
       "      <td>NaN</td>\n",
       "      <td>NaN</td>\n",
       "      <td>NaN</td>\n",
       "      <td>NaN</td>\n",
       "      <td>0</td>\n",
       "      <td>10</td>\n",
       "    </tr>\n",
       "    <tr>\n",
       "      <th>2013-10-14 05:00:00</th>\n",
       "      <td>None</td>\n",
       "      <td>277.59</td>\n",
       "      <td>2694.0</td>\n",
       "      <td>0.0</td>\n",
       "      <td>0</td>\n",
       "      <td>10</td>\n",
       "    </tr>\n",
       "  </tbody>\n",
       "</table>\n",
       "</div>"
      ],
      "text/plain": [
       "                          holiday    temp  traffic_volume  is_holiday  \\\n",
       "date_time                                                               \n",
       "2013-10-13 00:00:00          None  280.38          1489.0         0.0   \n",
       "2013-10-13 01:00:00           NaN     NaN             NaN         NaN   \n",
       "2013-10-13 02:00:00          None  279.52           730.0         0.0   \n",
       "2013-10-13 03:00:00          None  278.55           415.0         0.0   \n",
       "2013-10-13 04:00:00          None  277.00           351.0         0.0   \n",
       "2013-10-13 05:00:00           NaN     NaN             NaN         NaN   \n",
       "2013-10-13 06:00:00           NaN     NaN             NaN         NaN   \n",
       "2013-10-13 07:00:00           NaN     NaN             NaN         NaN   \n",
       "2013-10-13 08:00:00           NaN     NaN             NaN         NaN   \n",
       "2013-10-13 09:00:00           NaN     NaN             NaN         NaN   \n",
       "2013-10-13 10:00:00          None  282.63          4850.0         0.0   \n",
       "2013-10-13 11:00:00           NaN     NaN             NaN         NaN   \n",
       "2013-10-13 12:00:00          None  285.31          4521.0         0.0   \n",
       "2013-10-13 13:00:00           NaN     NaN             NaN         NaN   \n",
       "2013-10-13 14:00:00           NaN     NaN             NaN         NaN   \n",
       "2013-10-13 15:00:00          None  287.77          4930.0         0.0   \n",
       "2013-10-13 16:00:00          None  287.37          5353.0         0.0   \n",
       "2013-10-13 17:00:00           NaN     NaN             NaN         NaN   \n",
       "2013-10-13 18:00:00           NaN     NaN             NaN         NaN   \n",
       "2013-10-13 19:00:00           NaN     NaN             NaN         NaN   \n",
       "2013-10-13 20:00:00           NaN     NaN             NaN         NaN   \n",
       "2013-10-13 21:00:00           NaN     NaN             NaN         NaN   \n",
       "2013-10-13 22:00:00           NaN     NaN             NaN         NaN   \n",
       "2013-10-13 23:00:00          None  278.58          1084.0         0.0   \n",
       "2013-10-14 00:00:00  Columbus Day  277.72           615.0         1.0   \n",
       "2013-10-14 01:00:00           NaN     NaN             NaN         NaN   \n",
       "2013-10-14 02:00:00          None  277.07           291.0         0.0   \n",
       "2013-10-14 03:00:00          None  276.70           388.0         0.0   \n",
       "2013-10-14 04:00:00           NaN     NaN             NaN         NaN   \n",
       "2013-10-14 05:00:00          None  277.59          2694.0         0.0   \n",
       "\n",
       "                     is_weekend  month_number  \n",
       "date_time                                      \n",
       "2013-10-13 00:00:00           1            10  \n",
       "2013-10-13 01:00:00           1            10  \n",
       "2013-10-13 02:00:00           1            10  \n",
       "2013-10-13 03:00:00           1            10  \n",
       "2013-10-13 04:00:00           1            10  \n",
       "2013-10-13 05:00:00           1            10  \n",
       "2013-10-13 06:00:00           1            10  \n",
       "2013-10-13 07:00:00           1            10  \n",
       "2013-10-13 08:00:00           1            10  \n",
       "2013-10-13 09:00:00           1            10  \n",
       "2013-10-13 10:00:00           1            10  \n",
       "2013-10-13 11:00:00           1            10  \n",
       "2013-10-13 12:00:00           1            10  \n",
       "2013-10-13 13:00:00           1            10  \n",
       "2013-10-13 14:00:00           1            10  \n",
       "2013-10-13 15:00:00           1            10  \n",
       "2013-10-13 16:00:00           1            10  \n",
       "2013-10-13 17:00:00           1            10  \n",
       "2013-10-13 18:00:00           1            10  \n",
       "2013-10-13 19:00:00           1            10  \n",
       "2013-10-13 20:00:00           1            10  \n",
       "2013-10-13 21:00:00           1            10  \n",
       "2013-10-13 22:00:00           1            10  \n",
       "2013-10-13 23:00:00           1            10  \n",
       "2013-10-14 00:00:00           0            10  \n",
       "2013-10-14 01:00:00           0            10  \n",
       "2013-10-14 02:00:00           0            10  \n",
       "2013-10-14 03:00:00           0            10  \n",
       "2013-10-14 04:00:00           0            10  \n",
       "2013-10-14 05:00:00           0            10  "
      ]
     },
     "execution_count": 53,
     "metadata": {},
     "output_type": "execute_result"
    }
   ],
   "source": [
    "test_data.head(60)"
   ]
  },
  {
   "cell_type": "code",
   "execution_count": 77,
   "metadata": {},
   "outputs": [],
   "source": [
    "def NAN_analysis(df):\n",
    "    \"\"\"Наверно лучше сделать численные индексы ... ??? или любые??? Мы же итерроус пройдемся  ... \"\"\"\n",
    "       \n",
    "    # out = df[['traffic_volume','temp']].isnull().astype(int).groupby(df[['traffic_volume','temp']].notnull().astype(int).cumsum()).sum()\n",
    "    # df['index'] = df[df['traffic_volume'].isnull()].index\n",
    "    out_nans = {}\n",
    "    delta_hour = timedelta(hours=1)\n",
    "    out_data = df[df['traffic_volume'].isnull()].copy()\n",
    "    out_data = out_data.reset_index()\n",
    "    out_data['shifted'] = out_data['date_time'].shift(-1)\n",
    "    # out['shifted'] = out.iloc[:,0].shift(-1)\n",
    "    # row_start = out.iloc[0,0]\n",
    "    start_nans = out_data.iloc[0,0]\n",
    "    end_nans = None\n",
    "    count_nans = 1\n",
    "    for ind, row in out_data.iterrows():\n",
    "        if row['shifted']-row['date_time'] > delta_hour:\n",
    "            end_nans = row['date_time']\n",
    "            out_nans[start_nans] = (count_nans,end_nans) \n",
    "            count_nans = 1\n",
    "            start_nans = row['shifted']\n",
    "            end_nans = None\n",
    "        else:\n",
    "            count_nans+=1\n",
    "    \n",
    "    # out = df[df['traffic_volume'].isnull()]\n",
    "    # df['shifted_index'] = out.index.shift(-1)\n",
    "    # out = df['shifted_index'].copy()\n",
    "    # .groupby(df['traffic_volume'].notnull().astype(int).cumsum()).sum()\n",
    "    return out_data, out_nans\n",
    "    "
   ]
  },
  {
   "cell_type": "code",
   "execution_count": 78,
   "metadata": {},
   "outputs": [
    {
     "ename": "AttributeError",
     "evalue": "'tuple' object has no attribute 'head'",
     "output_type": "error",
     "traceback": [
      "\u001b[1;31m---------------------------------------------------------------------------\u001b[0m",
      "\u001b[1;31mAttributeError\u001b[0m                            Traceback (most recent call last)",
      "\u001b[1;32mg:\\2022\\git_folder\\ml_pro\\training-ML-projects\\time-series-traffic-volume\\traffic-volume.ipynb Cell 66'\u001b[0m in \u001b[0;36m<cell line: 2>\u001b[1;34m()\u001b[0m\n\u001b[0;32m      <a href='vscode-notebook-cell:/g%3A/2022/git_folder/ml_pro/training-ML-projects/time-series-traffic-volume/traffic-volume.ipynb#ch0000068?line=0'>1</a>\u001b[0m out_intervals \u001b[39m=\u001b[39m NAN_analysis(test_data)\n\u001b[1;32m----> <a href='vscode-notebook-cell:/g%3A/2022/git_folder/ml_pro/training-ML-projects/time-series-traffic-volume/traffic-volume.ipynb#ch0000068?line=1'>2</a>\u001b[0m out_intervals\u001b[39m.\u001b[39;49mhead(\u001b[39m50\u001b[39m)\n",
      "\u001b[1;31mAttributeError\u001b[0m: 'tuple' object has no attribute 'head'"
     ]
    }
   ],
   "source": [
    "out_data, out_nans = NAN_analysis(test_data)\n",
    "out_data.head(50)"
   ]
  },
  {
   "cell_type": "code",
   "execution_count": 73,
   "metadata": {},
   "outputs": [
    {
     "data": {
      "text/plain": [
       "nan"
      ]
     },
     "execution_count": 73,
     "metadata": {},
     "output_type": "execute_result"
    }
   ],
   "source": [
    "out_intervals.iloc[1,1]"
   ]
  },
  {
   "cell_type": "code",
   "execution_count": 51,
   "metadata": {},
   "outputs": [],
   "source": [
    "# na_intervals = NAN_analysis(working_data)\n",
    "# na_intervals = NAN_analysis(test_data)"
   ]
  },
  {
   "cell_type": "code",
   "execution_count": 52,
   "metadata": {},
   "outputs": [
    {
     "ename": "TypeError",
     "evalue": "plot_data() missing 1 required positional argument: 'df'",
     "output_type": "error",
     "traceback": [
      "\u001b[1;31m---------------------------------------------------------------------------\u001b[0m",
      "\u001b[1;31mTypeError\u001b[0m                                 Traceback (most recent call last)",
      "\u001b[1;32mg:\\2022\\git_folder\\ml_pro\\training-ML-projects\\time-series-traffic-volume\\traffic-volume.ipynb Cell 66'\u001b[0m in \u001b[0;36m<cell line: 20>\u001b[1;34m()\u001b[0m\n\u001b[0;32m     <a href='vscode-notebook-cell:/g%3A/2022/git_folder/ml_pro/training-ML-projects/time-series-traffic-volume/traffic-volume.ipynb#ch0000065?line=16'>17</a>\u001b[0m     plt\u001b[39m.\u001b[39mshow()\n\u001b[0;32m     <a href='vscode-notebook-cell:/g%3A/2022/git_folder/ml_pro/training-ML-projects/time-series-traffic-volume/traffic-volume.ipynb#ch0000065?line=17'>18</a>\u001b[0m     \u001b[39mprint\u001b[39m(\u001b[39mf\u001b[39m\u001b[39m\"\u001b[39m\u001b[39m h = \u001b[39m\u001b[39m{\u001b[39;00mh\u001b[39m}\u001b[39;00m\u001b[39m, a = \u001b[39m\u001b[39m{\u001b[39;00ma\u001b[39m}\u001b[39;00m\u001b[39m, b = \u001b[39m\u001b[39m{\u001b[39;00mb\u001b[39m}\u001b[39;00m\u001b[39m\"\u001b[39m)\n\u001b[1;32m---> <a href='vscode-notebook-cell:/g%3A/2022/git_folder/ml_pro/training-ML-projects/time-series-traffic-volume/traffic-volume.ipynb#ch0000065?line=19'>20</a>\u001b[0m plot_data()\n",
      "\u001b[1;31mTypeError\u001b[0m: plot_data() missing 1 required positional argument: 'df'"
     ]
    }
   ],
   "source": [
    "def plot_data(df):\n",
    "    N = 100\n",
    "    h = int(np.ceil(len(df.index)/N))    \n",
    "    # for i in range(N-1):\n",
    "    a = h\n",
    "    b = 2*h\n",
    "    # a = 500\n",
    "    # b = 520\n",
    "    \n",
    "    df.iloc[a:b,1].plot(figsize=(16,4))\n",
    "    plt.xticks(rotation=45)\n",
    "    plt.legend()\n",
    "    plt.show()\n",
    "    df.iloc[a:b,2].plot(figsize=(16,4))\n",
    "    plt.xticks(rotation=45)\n",
    "    plt.legend()\n",
    "    plt.show()\n",
    "    print(f\" h = {h}, a = {a}, b = {b}\")\n",
    "\n",
    "plot_data()"
   ]
  },
  {
   "cell_type": "code",
   "execution_count": null,
   "metadata": {},
   "outputs": [],
   "source": [
    "def plot_data2(df):\n",
    "    N = 100\n",
    "    h = int(np.ceil(len(df.index)/N))    \n",
    "    # for i in range(N-1):\n",
    "    # a = h\n",
    "    # b = 2*h\n",
    "    a = 750\n",
    "    b = 800\n",
    "    \n",
    "    df.iloc[a:b,1].plot(figsize=(16,4))\n",
    "    plt.xticks(rotation=45)\n",
    "    plt.legend()\n",
    "    plt.show()\n",
    "    df.iloc[a:b,2].plot(figsize=(16,4))\n",
    "    plt.xticks(rotation=45)\n",
    "    plt.legend()\n",
    "    plt.show()\n",
    "    print(f\" h = {h}, a = {a}, b = {b}\")\n",
    "    print(df.iloc[a:b,:])\n",
    "\n",
    "# plot_data2(wdata)"
   ]
  }
 ],
 "metadata": {
  "interpreter": {
   "hash": "58602d8dccd692fa32abd17425fd5d45fcdd50ad23d8d4cc69f0d11e0a82e605"
  },
  "kernelspec": {
   "display_name": "Python 3.10.4 ('mynetscrap': venv)",
   "language": "python",
   "name": "python3"
  },
  "language_info": {
   "codemirror_mode": {
    "name": "ipython",
    "version": 3
   },
   "file_extension": ".py",
   "mimetype": "text/x-python",
   "name": "python",
   "nbconvert_exporter": "python",
   "pygments_lexer": "ipython3",
   "version": "3.10.4"
  },
  "orig_nbformat": 4
 },
 "nbformat": 4,
 "nbformat_minor": 2
}
