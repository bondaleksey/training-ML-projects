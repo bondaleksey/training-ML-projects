{
 "cells": [
  {
   "cell_type": "markdown",
   "metadata": {},
   "source": [
    "# HW_06 Бондаренко Алексей (bondaleksey@gmail.com)"
   ]
  },
  {
   "cell_type": "code",
   "execution_count": 1,
   "metadata": {},
   "outputs": [],
   "source": [
    "import numpy as np\n",
    "import pandas as pd \n",
    "import matplotlib.pyplot as plt \n",
    "import seaborn as sns\n",
    "\n",
    "from sklearn.model_selection import TimeSeriesSplit\n",
    "\n",
    "from sklearn.linear_model import LinearRegression, Lasso, Ridge \n",
    "from sklearn.ensemble import GradientBoostingRegressor, RandomForestClassifier\n",
    "from sklearn.linear_model import LassoCV, RidgeClassifierCV\n",
    "from sklearn.preprocessing import MinMaxScaler , StandardScaler\n",
    "\n",
    "from sklearn.metrics import classification_report \n",
    "from datetime import datetime\n",
    "from datetime import timedelta\n",
    "\n",
    "from sklearn.model_selection import cross_val_score\n",
    "def mean_absolute_percentage_error(y_true, y_pred): \n",
    "    return np.mean(np.abs((y_true - y_pred) / y_true)) * 100"
   ]
  },
  {
   "cell_type": "markdown",
   "metadata": {},
   "source": [
    "# Цель проекта \n",
    "Цель проекта: построить модель, которая способна прогнозировать загрузку метро на ближайшую неделю\n",
    "\n",
    "План выполнения работы:\n",
    "- Базовый EDA\n",
    "- Генерация дополнительных признаков\n",
    "- Baseline прогноз и проверка качества\n",
    "- Построение различных моделей"
   ]
  },
  {
   "cell_type": "markdown",
   "metadata": {},
   "source": [
    "# 1 Данные\n",
    "\n",
    "## 1.1 Описание данных\n",
    " Признаки [набора данных](https://archive.ics.uci.edu/ml/datasets/Metro+Interstate+Traffic+Volume)\n",
    "\n",
    " - holiday (Categorical) -  US National holidays plus regional holiday, Minnesota State Fair\n",
    " - temp (Numeric) -  Average temp in kelvin\n",
    " - rain_1h (Numeric) -  Amount in mm of rain that occurred in the hour\n",
    " - snow_1h (Numeric) - Amount in mm of snow that occurred in the hour\n",
    " - clouds_all (Numeric) - Percentage of cloud cover\n",
    " - weather_main (Categorical) - Short textual description of the current weather\n",
    " - weather_description (Categorical) - Longer textual description of the current weather\n",
    " - date_time (DateTime) - Hour of the data collected in local CST time\n",
    " - traffic_volume (Numeric) - Hourly I-94 ATR 301 reported westbound traffic volume"
   ]
  },
  {
   "cell_type": "code",
   "execution_count": 2,
   "metadata": {},
   "outputs": [],
   "source": [
    "data = pd.read_csv('data_ts/archive.csv.gz',compression='gzip', header=0, sep=',', quotechar='\"',index_col=0)                  "
   ]
  },
  {
   "cell_type": "code",
   "execution_count": 3,
   "metadata": {},
   "outputs": [
    {
     "data": {
      "text/html": [
       "<div>\n",
       "<style scoped>\n",
       "    .dataframe tbody tr th:only-of-type {\n",
       "        vertical-align: middle;\n",
       "    }\n",
       "\n",
       "    .dataframe tbody tr th {\n",
       "        vertical-align: top;\n",
       "    }\n",
       "\n",
       "    .dataframe thead th {\n",
       "        text-align: right;\n",
       "    }\n",
       "</style>\n",
       "<table border=\"1\" class=\"dataframe\">\n",
       "  <thead>\n",
       "    <tr style=\"text-align: right;\">\n",
       "      <th></th>\n",
       "      <th>temp</th>\n",
       "      <th>rain_1h</th>\n",
       "      <th>snow_1h</th>\n",
       "      <th>clouds_all</th>\n",
       "      <th>weather_main</th>\n",
       "      <th>weather_description</th>\n",
       "      <th>date_time</th>\n",
       "      <th>traffic_volume</th>\n",
       "    </tr>\n",
       "    <tr>\n",
       "      <th>holiday</th>\n",
       "      <th></th>\n",
       "      <th></th>\n",
       "      <th></th>\n",
       "      <th></th>\n",
       "      <th></th>\n",
       "      <th></th>\n",
       "      <th></th>\n",
       "      <th></th>\n",
       "    </tr>\n",
       "  </thead>\n",
       "  <tbody>\n",
       "    <tr>\n",
       "      <th>None</th>\n",
       "      <td>288.28</td>\n",
       "      <td>0.0</td>\n",
       "      <td>0.0</td>\n",
       "      <td>40</td>\n",
       "      <td>Clouds</td>\n",
       "      <td>scattered clouds</td>\n",
       "      <td>2012-10-02 09:00:00</td>\n",
       "      <td>5545</td>\n",
       "    </tr>\n",
       "    <tr>\n",
       "      <th>None</th>\n",
       "      <td>289.36</td>\n",
       "      <td>0.0</td>\n",
       "      <td>0.0</td>\n",
       "      <td>75</td>\n",
       "      <td>Clouds</td>\n",
       "      <td>broken clouds</td>\n",
       "      <td>2012-10-02 10:00:00</td>\n",
       "      <td>4516</td>\n",
       "    </tr>\n",
       "    <tr>\n",
       "      <th>None</th>\n",
       "      <td>289.58</td>\n",
       "      <td>0.0</td>\n",
       "      <td>0.0</td>\n",
       "      <td>90</td>\n",
       "      <td>Clouds</td>\n",
       "      <td>overcast clouds</td>\n",
       "      <td>2012-10-02 11:00:00</td>\n",
       "      <td>4767</td>\n",
       "    </tr>\n",
       "    <tr>\n",
       "      <th>None</th>\n",
       "      <td>290.13</td>\n",
       "      <td>0.0</td>\n",
       "      <td>0.0</td>\n",
       "      <td>90</td>\n",
       "      <td>Clouds</td>\n",
       "      <td>overcast clouds</td>\n",
       "      <td>2012-10-02 12:00:00</td>\n",
       "      <td>5026</td>\n",
       "    </tr>\n",
       "    <tr>\n",
       "      <th>None</th>\n",
       "      <td>291.14</td>\n",
       "      <td>0.0</td>\n",
       "      <td>0.0</td>\n",
       "      <td>75</td>\n",
       "      <td>Clouds</td>\n",
       "      <td>broken clouds</td>\n",
       "      <td>2012-10-02 13:00:00</td>\n",
       "      <td>4918</td>\n",
       "    </tr>\n",
       "  </tbody>\n",
       "</table>\n",
       "</div>"
      ],
      "text/plain": [
       "           temp  rain_1h  snow_1h  clouds_all weather_main  \\\n",
       "holiday                                                      \n",
       "None     288.28      0.0      0.0          40       Clouds   \n",
       "None     289.36      0.0      0.0          75       Clouds   \n",
       "None     289.58      0.0      0.0          90       Clouds   \n",
       "None     290.13      0.0      0.0          90       Clouds   \n",
       "None     291.14      0.0      0.0          75       Clouds   \n",
       "\n",
       "        weather_description            date_time  traffic_volume  \n",
       "holiday                                                           \n",
       "None       scattered clouds  2012-10-02 09:00:00            5545  \n",
       "None          broken clouds  2012-10-02 10:00:00            4516  \n",
       "None        overcast clouds  2012-10-02 11:00:00            4767  \n",
       "None        overcast clouds  2012-10-02 12:00:00            5026  \n",
       "None          broken clouds  2012-10-02 13:00:00            4918  "
      ]
     },
     "execution_count": 3,
     "metadata": {},
     "output_type": "execute_result"
    }
   ],
   "source": [
    "data.head(5)"
   ]
  },
  {
   "cell_type": "code",
   "execution_count": 4,
   "metadata": {},
   "outputs": [],
   "source": [
    "data = data.reset_index();"
   ]
  },
  {
   "cell_type": "markdown",
   "metadata": {},
   "source": [
    "## 1.2 Разведывательный анализ данных"
   ]
  },
  {
   "cell_type": "code",
   "execution_count": 5,
   "metadata": {},
   "outputs": [
    {
     "name": "stdout",
     "output_type": "stream",
     "text": [
      "<class 'pandas.core.frame.DataFrame'>\n",
      "RangeIndex: 48204 entries, 0 to 48203\n",
      "Data columns (total 9 columns):\n",
      " #   Column               Non-Null Count  Dtype  \n",
      "---  ------               --------------  -----  \n",
      " 0   holiday              48204 non-null  object \n",
      " 1   temp                 48204 non-null  float64\n",
      " 2   rain_1h              48204 non-null  float64\n",
      " 3   snow_1h              48204 non-null  float64\n",
      " 4   clouds_all           48204 non-null  int64  \n",
      " 5   weather_main         48204 non-null  object \n",
      " 6   weather_description  48204 non-null  object \n",
      " 7   date_time            48204 non-null  object \n",
      " 8   traffic_volume       48204 non-null  int64  \n",
      "dtypes: float64(3), int64(2), object(4)\n",
      "memory usage: 3.3+ MB\n"
     ]
    }
   ],
   "source": [
    "data.info()"
   ]
  },
  {
   "cell_type": "code",
   "execution_count": 6,
   "metadata": {},
   "outputs": [
    {
     "data": {
      "text/html": [
       "<div>\n",
       "<style scoped>\n",
       "    .dataframe tbody tr th:only-of-type {\n",
       "        vertical-align: middle;\n",
       "    }\n",
       "\n",
       "    .dataframe tbody tr th {\n",
       "        vertical-align: top;\n",
       "    }\n",
       "\n",
       "    .dataframe thead th {\n",
       "        text-align: right;\n",
       "    }\n",
       "</style>\n",
       "<table border=\"1\" class=\"dataframe\">\n",
       "  <thead>\n",
       "    <tr style=\"text-align: right;\">\n",
       "      <th></th>\n",
       "      <th>temp</th>\n",
       "      <th>rain_1h</th>\n",
       "      <th>snow_1h</th>\n",
       "      <th>clouds_all</th>\n",
       "      <th>traffic_volume</th>\n",
       "    </tr>\n",
       "  </thead>\n",
       "  <tbody>\n",
       "    <tr>\n",
       "      <th>count</th>\n",
       "      <td>48204.000000</td>\n",
       "      <td>48204.000000</td>\n",
       "      <td>48204.000000</td>\n",
       "      <td>48204.000000</td>\n",
       "      <td>48204.000000</td>\n",
       "    </tr>\n",
       "    <tr>\n",
       "      <th>mean</th>\n",
       "      <td>281.205870</td>\n",
       "      <td>0.334264</td>\n",
       "      <td>0.000222</td>\n",
       "      <td>49.362231</td>\n",
       "      <td>3259.818355</td>\n",
       "    </tr>\n",
       "    <tr>\n",
       "      <th>std</th>\n",
       "      <td>13.338232</td>\n",
       "      <td>44.789133</td>\n",
       "      <td>0.008168</td>\n",
       "      <td>39.015750</td>\n",
       "      <td>1986.860670</td>\n",
       "    </tr>\n",
       "    <tr>\n",
       "      <th>min</th>\n",
       "      <td>0.000000</td>\n",
       "      <td>0.000000</td>\n",
       "      <td>0.000000</td>\n",
       "      <td>0.000000</td>\n",
       "      <td>0.000000</td>\n",
       "    </tr>\n",
       "    <tr>\n",
       "      <th>25%</th>\n",
       "      <td>272.160000</td>\n",
       "      <td>0.000000</td>\n",
       "      <td>0.000000</td>\n",
       "      <td>1.000000</td>\n",
       "      <td>1193.000000</td>\n",
       "    </tr>\n",
       "    <tr>\n",
       "      <th>50%</th>\n",
       "      <td>282.450000</td>\n",
       "      <td>0.000000</td>\n",
       "      <td>0.000000</td>\n",
       "      <td>64.000000</td>\n",
       "      <td>3380.000000</td>\n",
       "    </tr>\n",
       "    <tr>\n",
       "      <th>75%</th>\n",
       "      <td>291.806000</td>\n",
       "      <td>0.000000</td>\n",
       "      <td>0.000000</td>\n",
       "      <td>90.000000</td>\n",
       "      <td>4933.000000</td>\n",
       "    </tr>\n",
       "    <tr>\n",
       "      <th>max</th>\n",
       "      <td>310.070000</td>\n",
       "      <td>9831.300000</td>\n",
       "      <td>0.510000</td>\n",
       "      <td>100.000000</td>\n",
       "      <td>7280.000000</td>\n",
       "    </tr>\n",
       "  </tbody>\n",
       "</table>\n",
       "</div>"
      ],
      "text/plain": [
       "               temp       rain_1h       snow_1h    clouds_all  traffic_volume\n",
       "count  48204.000000  48204.000000  48204.000000  48204.000000    48204.000000\n",
       "mean     281.205870      0.334264      0.000222     49.362231     3259.818355\n",
       "std       13.338232     44.789133      0.008168     39.015750     1986.860670\n",
       "min        0.000000      0.000000      0.000000      0.000000        0.000000\n",
       "25%      272.160000      0.000000      0.000000      1.000000     1193.000000\n",
       "50%      282.450000      0.000000      0.000000     64.000000     3380.000000\n",
       "75%      291.806000      0.000000      0.000000     90.000000     4933.000000\n",
       "max      310.070000   9831.300000      0.510000    100.000000     7280.000000"
      ]
     },
     "execution_count": 6,
     "metadata": {},
     "output_type": "execute_result"
    }
   ],
   "source": [
    "data.describe()"
   ]
  },
  {
   "cell_type": "code",
   "execution_count": 7,
   "metadata": {},
   "outputs": [],
   "source": [
    "def EDA(data):\n",
    "    cols = data.columns\n",
    "    print('Printing figures for columns:\\n',cols)\n",
    "    for item in cols:\n",
    "        if item=='date_time':\n",
    "            continue\n",
    "        print(\"Look at column:\", item)\n",
    "        dt = data[item].dtype          \n",
    "        if dt == 'int64'or dt == 'float64':        \n",
    "            ax = data[item].plot(kind = 'hist', bins = 50)\n",
    "            ax.set_xlabel(item)\n",
    "            plt.show()\n",
    "        elif dt == 'object':\n",
    "            ax = data[item].value_counts().plot(kind = 'bar')\n",
    "            ax.set_xlabel(item)\n",
    "            plt.show()\n",
    "        else:\n",
    "            print(f'ooops, have problems with {item}')"
   ]
  },
  {
   "cell_type": "code",
   "execution_count": 8,
   "metadata": {},
   "outputs": [
    {
     "name": "stdout",
     "output_type": "stream",
     "text": [
      "Printing figures for columns:\n",
      " Index(['holiday', 'temp', 'rain_1h', 'snow_1h', 'clouds_all', 'weather_main',\n",
      "       'weather_description', 'date_time', 'traffic_volume'],\n",
      "      dtype='object')\n",
      "Look at column: holiday\n"
     ]
    },
    {
     "data": {
      "image/png": "[encoded data removed]",
      "text/plain": [
       "<Figure size 432x288 with 1 Axes>"
      ]
     },
     "metadata": {
      "needs_background": "light"
     },
     "output_type": "display_data"
    },
    {
     "name": "stdout",
     "output_type": "stream",
     "text": [
      "Look at column: temp\n"
     ]
    },
    {
     "data": {
      "image/png": "[encoded data removed]",
      "text/plain": [
       "<Figure size 432x288 with 1 Axes>"
      ]
     },
     "metadata": {
      "needs_background": "light"
     },
     "output_type": "display_data"
    },
    {
     "name": "stdout",
     "output_type": "stream",
     "text": [
      "Look at column: rain_1h\n"
     ]
    },
    {
     "data": {
      "image/png": "[encoded data removed]",
      "text/plain": [
       "<Figure size 432x288 with 1 Axes>"
      ]
     },
     "metadata": {
      "needs_background": "light"
     },
     "output_type": "display_data"
    },
    {
     "name": "stdout",
     "output_type": "stream",
     "text": [
      "Look at column: snow_1h\n"
     ]
    },
    {
     "data": {
      "image/png": "[encoded data removed]",
      "text/plain": [
       "<Figure size 432x288 with 1 Axes>"
      ]
     },
     "metadata": {
      "needs_background": "light"
     },
     "output_type": "display_data"
    },
    {
     "name": "stdout",
     "output_type": "stream",
     "text": [
      "Look at column: clouds_all\n"
     ]
    },
    {
     "data": {
      "image/png": "[encoded data removed]",
      "text/plain": [
       "<Figure size 432x288 with 1 Axes>"
      ]
     },
     "metadata": {
      "needs_background": "light"
     },
     "output_type": "display_data"
    },
    {
     "name": "stdout",
     "output_type": "stream",
     "text": [
      "Look at column: weather_main\n"
     ]
    },
    {
     "data": {
      "image/png": "[encoded data removed]",
      "text/plain": [
       "<Figure size 432x288 with 1 Axes>"
      ]
     },
     "metadata": {
      "needs_background": "light"
     },
     "output_type": "display_data"
    },
    {
     "name": "stdout",
     "output_type": "stream",
     "text": [
      "Look at column: weather_description\n"
     ]
    },
    {
     "data": {
      "image/png": "[encoded data removed]",
      "text/plain": [
       "<Figure size 432x288 with 1 Axes>"
      ]
     },
     "metadata": {
      "needs_background": "light"
     },
     "output_type": "display_data"
    },
    {
     "name": "stdout",
     "output_type": "stream",
     "text": [
      "Look at column: traffic_volume\n"
     ]
    },
    {
     "data": {
      "image/png": "[encoded data removed]",
      "text/plain": [
       "<Figure size 432x288 with 1 Axes>"
      ]
     },
     "metadata": {
      "needs_background": "light"
     },
     "output_type": "display_data"
    }
   ],
   "source": [
    "EDA(data)"
   ]
  },
  {
   "cell_type": "markdown",
   "metadata": {},
   "source": [
    "Признаки, можно празники посмотреть и сравнить поведение в праздники и не в праздники... \n",
    "То есть праздники поставить как bool  1 "
   ]
  },
  {
   "cell_type": "markdown",
   "metadata": {},
   "source": [
    " ## 1.3 Преобразование данных и выбор признаков"
   ]
  },
  {
   "cell_type": "markdown",
   "metadata": {},
   "source": [
    "### 1.3.1 Убираем дубликаты "
   ]
  },
  {
   "cell_type": "code",
   "execution_count": 9,
   "metadata": {},
   "outputs": [
    {
     "data": {
      "text/plain": [
       "Index(['holiday', 'temp', 'rain_1h', 'snow_1h', 'clouds_all', 'weather_main',\n",
       "       'weather_description', 'date_time', 'traffic_volume'],\n",
       "      dtype='object')"
      ]
     },
     "execution_count": 9,
     "metadata": {},
     "output_type": "execute_result"
    }
   ],
   "source": [
    "data.columns"
   ]
  },
  {
   "cell_type": "code",
   "execution_count": 10,
   "metadata": {},
   "outputs": [],
   "source": [
    "wdata = data[['date_time','holiday','temp','traffic_volume']].copy()\n",
    "wdata['date_time'] = pd.to_datetime(wdata['date_time'])\n",
    "wdata = wdata.set_index('date_time')\n",
    "wdata = wdata.drop_duplicates()"
   ]
  },
  {
   "cell_type": "code",
   "execution_count": 11,
   "metadata": {},
   "outputs": [
    {
     "data": {
      "text/html": [
       "<div>\n",
       "<style scoped>\n",
       "    .dataframe tbody tr th:only-of-type {\n",
       "        vertical-align: middle;\n",
       "    }\n",
       "\n",
       "    .dataframe tbody tr th {\n",
       "        vertical-align: top;\n",
       "    }\n",
       "\n",
       "    .dataframe thead th {\n",
       "        text-align: right;\n",
       "    }\n",
       "</style>\n",
       "<table border=\"1\" class=\"dataframe\">\n",
       "  <thead>\n",
       "    <tr style=\"text-align: right;\">\n",
       "      <th></th>\n",
       "      <th>holiday</th>\n",
       "      <th>temp</th>\n",
       "      <th>traffic_volume</th>\n",
       "    </tr>\n",
       "    <tr>\n",
       "      <th>date_time</th>\n",
       "      <th></th>\n",
       "      <th></th>\n",
       "      <th></th>\n",
       "    </tr>\n",
       "  </thead>\n",
       "  <tbody>\n",
       "    <tr>\n",
       "      <th>2012-10-02 09:00:00</th>\n",
       "      <td>None</td>\n",
       "      <td>288.28</td>\n",
       "      <td>5545</td>\n",
       "    </tr>\n",
       "    <tr>\n",
       "      <th>2012-10-02 10:00:00</th>\n",
       "      <td>None</td>\n",
       "      <td>289.36</td>\n",
       "      <td>4516</td>\n",
       "    </tr>\n",
       "    <tr>\n",
       "      <th>2012-10-02 11:00:00</th>\n",
       "      <td>None</td>\n",
       "      <td>289.58</td>\n",
       "      <td>4767</td>\n",
       "    </tr>\n",
       "    <tr>\n",
       "      <th>2012-10-02 12:00:00</th>\n",
       "      <td>None</td>\n",
       "      <td>290.13</td>\n",
       "      <td>5026</td>\n",
       "    </tr>\n",
       "    <tr>\n",
       "      <th>2012-10-02 13:00:00</th>\n",
       "      <td>None</td>\n",
       "      <td>291.14</td>\n",
       "      <td>4918</td>\n",
       "    </tr>\n",
       "  </tbody>\n",
       "</table>\n",
       "</div>"
      ],
      "text/plain": [
       "                    holiday    temp  traffic_volume\n",
       "date_time                                          \n",
       "2012-10-02 09:00:00    None  288.28            5545\n",
       "2012-10-02 10:00:00    None  289.36            4516\n",
       "2012-10-02 11:00:00    None  289.58            4767\n",
       "2012-10-02 12:00:00    None  290.13            5026\n",
       "2012-10-02 13:00:00    None  291.14            4918"
      ]
     },
     "execution_count": 11,
     "metadata": {},
     "output_type": "execute_result"
    }
   ],
   "source": [
    "wdata.head()"
   ]
  },
  {
   "cell_type": "code",
   "execution_count": 12,
   "metadata": {},
   "outputs": [
    {
     "name": "stdout",
     "output_type": "stream",
     "text": [
      "<class 'pandas.core.frame.DataFrame'>\n",
      "DatetimeIndex: 40606 entries, 2012-10-02 09:00:00 to 2018-09-30 23:00:00\n",
      "Data columns (total 3 columns):\n",
      " #   Column          Non-Null Count  Dtype  \n",
      "---  ------          --------------  -----  \n",
      " 0   holiday         40606 non-null  object \n",
      " 1   temp            40606 non-null  float64\n",
      " 2   traffic_volume  40606 non-null  int64  \n",
      "dtypes: float64(1), int64(1), object(1)\n",
      "memory usage: 1.2+ MB\n"
     ]
    }
   ],
   "source": [
    "wdata.info()"
   ]
  },
  {
   "cell_type": "code",
   "execution_count": 13,
   "metadata": {},
   "outputs": [
    {
     "data": {
      "text/plain": [
       "4.635388127853881"
      ]
     },
     "execution_count": 13,
     "metadata": {},
     "output_type": "execute_result"
    }
   ],
   "source": [
    "40606/(24*365)"
   ]
  },
  {
   "cell_type": "markdown",
   "metadata": {},
   "source": [
    "### 1.3.2 Добавляем пропуски в записи данных по времени "
   ]
  },
  {
   "cell_type": "markdown",
   "metadata": {},
   "source": [
    " А в информации данных указано, что период времени в данных почти 6 лет. Значит есть пропуски в данных."
   ]
  },
  {
   "cell_type": "code",
   "execution_count": 14,
   "metadata": {},
   "outputs": [
    {
     "name": "stdout",
     "output_type": "stream",
     "text": [
      "                    holiday    temp  traffic_volume\n",
      "date_time                                          \n",
      "2012-11-05 13:00:00    None  278.47            4648\n",
      "2012-11-05 14:00:00    None  278.71            4968\n",
      "2012-11-05 16:00:00    None  280.56            6124\n",
      "2012-11-05 17:00:00    None  280.56            6134\n",
      "2012-11-05 18:00:00    None  279.26            4265\n",
      "2012-11-05 20:00:00    None  280.56            2415\n",
      "2012-11-05 21:00:00    None  280.56            1963\n"
     ]
    }
   ],
   "source": [
    "print(wdata.loc['2012-11-05 13:00:00':'2012-11-05 21:00:00'])"
   ]
  },
  {
   "cell_type": "markdown",
   "metadata": {},
   "source": [
    "Как мы видим отсутствуют значения для 15 и 19 часов."
   ]
  },
  {
   "cell_type": "code",
   "execution_count": 15,
   "metadata": {},
   "outputs": [
    {
     "data": {
      "text/plain": [
       "52551"
      ]
     },
     "execution_count": 15,
     "metadata": {},
     "output_type": "execute_result"
    }
   ],
   "source": [
    "right_dates = pd.date_range(start='2012-10-02 09:00:00', end='2018-09-30 23:00:00', freq='H')\n",
    "len(right_dates)"
   ]
  },
  {
   "cell_type": "code",
   "execution_count": 16,
   "metadata": {},
   "outputs": [],
   "source": [
    "# for ind, item in enumerate(right_dates):\n",
    "    \n",
    "#     if ind >10000:\n",
    "#         break\n",
    "#     if ind %(24*15)==0:\n",
    "#         print(\"month = \",item.month)"
   ]
  },
  {
   "cell_type": "markdown",
   "metadata": {},
   "source": [
    "Создадим пустой датафрейм с правильной индексацией по времени и потом объединим его с предварительно обработанными данными."
   ]
  },
  {
   "cell_type": "code",
   "execution_count": 17,
   "metadata": {},
   "outputs": [],
   "source": [
    "# wdata['date_time'] = pd.to_datetime(wdata['date_time'])"
   ]
  },
  {
   "cell_type": "code",
   "execution_count": 18,
   "metadata": {},
   "outputs": [
    {
     "data": {
      "text/html": [
       "<div>\n",
       "<style scoped>\n",
       "    .dataframe tbody tr th:only-of-type {\n",
       "        vertical-align: middle;\n",
       "    }\n",
       "\n",
       "    .dataframe tbody tr th {\n",
       "        vertical-align: top;\n",
       "    }\n",
       "\n",
       "    .dataframe thead th {\n",
       "        text-align: right;\n",
       "    }\n",
       "</style>\n",
       "<table border=\"1\" class=\"dataframe\">\n",
       "  <thead>\n",
       "    <tr style=\"text-align: right;\">\n",
       "      <th></th>\n",
       "    </tr>\n",
       "    <tr>\n",
       "      <th>date_time</th>\n",
       "    </tr>\n",
       "  </thead>\n",
       "  <tbody>\n",
       "    <tr>\n",
       "      <th>2012-10-02 09:00:00</th>\n",
       "    </tr>\n",
       "    <tr>\n",
       "      <th>2012-10-02 10:00:00</th>\n",
       "    </tr>\n",
       "    <tr>\n",
       "      <th>2012-10-02 11:00:00</th>\n",
       "    </tr>\n",
       "  </tbody>\n",
       "</table>\n",
       "</div>"
      ],
      "text/plain": [
       "Empty DataFrame\n",
       "Columns: []\n",
       "Index: [2012-10-02 09:00:00, 2012-10-02 10:00:00, 2012-10-02 11:00:00]"
      ]
     },
     "execution_count": 18,
     "metadata": {},
     "output_type": "execute_result"
    }
   ],
   "source": [
    "my_df = pd.DataFrame({'date_time': right_dates}).set_index('date_time')\n",
    "my_df.head(3)"
   ]
  },
  {
   "cell_type": "code",
   "execution_count": 19,
   "metadata": {},
   "outputs": [
    {
     "name": "stdout",
     "output_type": "stream",
     "text": [
      "<class 'pandas._libs.tslibs.timestamps.Timestamp'>\n"
     ]
    }
   ],
   "source": [
    "print(type(my_df.index[1]))"
   ]
  },
  {
   "cell_type": "code",
   "execution_count": 20,
   "metadata": {},
   "outputs": [
    {
     "name": "stdout",
     "output_type": "stream",
     "text": [
      "0 days 01:00:00\n"
     ]
    }
   ],
   "source": [
    "print((my_df.index[1]-my_df.index[0]))"
   ]
  },
  {
   "cell_type": "code",
   "execution_count": 21,
   "metadata": {},
   "outputs": [
    {
     "data": {
      "text/html": [
       "<div>\n",
       "<style scoped>\n",
       "    .dataframe tbody tr th:only-of-type {\n",
       "        vertical-align: middle;\n",
       "    }\n",
       "\n",
       "    .dataframe tbody tr th {\n",
       "        vertical-align: top;\n",
       "    }\n",
       "\n",
       "    .dataframe thead th {\n",
       "        text-align: right;\n",
       "    }\n",
       "</style>\n",
       "<table border=\"1\" class=\"dataframe\">\n",
       "  <thead>\n",
       "    <tr style=\"text-align: right;\">\n",
       "      <th></th>\n",
       "      <th>holiday</th>\n",
       "      <th>temp</th>\n",
       "      <th>traffic_volume</th>\n",
       "    </tr>\n",
       "    <tr>\n",
       "      <th>date_time</th>\n",
       "      <th></th>\n",
       "      <th></th>\n",
       "      <th></th>\n",
       "    </tr>\n",
       "  </thead>\n",
       "  <tbody>\n",
       "    <tr>\n",
       "      <th>2012-10-02 09:00:00</th>\n",
       "      <td>None</td>\n",
       "      <td>288.28</td>\n",
       "      <td>5545.0</td>\n",
       "    </tr>\n",
       "    <tr>\n",
       "      <th>2012-10-02 10:00:00</th>\n",
       "      <td>None</td>\n",
       "      <td>289.36</td>\n",
       "      <td>4516.0</td>\n",
       "    </tr>\n",
       "    <tr>\n",
       "      <th>2012-10-02 11:00:00</th>\n",
       "      <td>None</td>\n",
       "      <td>289.58</td>\n",
       "      <td>4767.0</td>\n",
       "    </tr>\n",
       "  </tbody>\n",
       "</table>\n",
       "</div>"
      ],
      "text/plain": [
       "                    holiday    temp  traffic_volume\n",
       "date_time                                          \n",
       "2012-10-02 09:00:00    None  288.28          5545.0\n",
       "2012-10-02 10:00:00    None  289.36          4516.0\n",
       "2012-10-02 11:00:00    None  289.58          4767.0"
      ]
     },
     "execution_count": 21,
     "metadata": {},
     "output_type": "execute_result"
    }
   ],
   "source": [
    "clean_data = my_df.join(wdata)\n",
    "clean_data.head(3)"
   ]
  },
  {
   "cell_type": "code",
   "execution_count": 22,
   "metadata": {},
   "outputs": [
    {
     "name": "stdout",
     "output_type": "stream",
     "text": [
      "<class 'pandas.core.frame.DataFrame'>\n",
      "DatetimeIndex: 52629 entries, 2012-10-02 09:00:00 to 2018-09-30 23:00:00\n",
      "Data columns (total 3 columns):\n",
      " #   Column          Non-Null Count  Dtype  \n",
      "---  ------          --------------  -----  \n",
      " 0   holiday         40606 non-null  object \n",
      " 1   temp            40606 non-null  float64\n",
      " 2   traffic_volume  40606 non-null  float64\n",
      "dtypes: float64(2), object(1)\n",
      "memory usage: 1.6+ MB\n"
     ]
    }
   ],
   "source": [
    "clean_data.info()"
   ]
  },
  {
   "cell_type": "markdown",
   "metadata": {},
   "source": [
    "Число строчек в полученном DataFrame 52629, а число дат в нужном диапазоне = 52551."
   ]
  },
  {
   "cell_type": "code",
   "execution_count": 23,
   "metadata": {},
   "outputs": [
    {
     "data": {
      "text/plain": [
       "78"
      ]
     },
     "execution_count": 23,
     "metadata": {},
     "output_type": "execute_result"
    }
   ],
   "source": [
    "(629-551)"
   ]
  },
  {
   "cell_type": "markdown",
   "metadata": {},
   "source": [
    "### 1.3.3 Исправляем двойные значения в данных температуры"
   ]
  },
  {
   "cell_type": "code",
   "execution_count": 24,
   "metadata": {},
   "outputs": [
    {
     "data": {
      "text/plain": [
       "78"
      ]
     },
     "execution_count": 24,
     "metadata": {},
     "output_type": "execute_result"
    }
   ],
   "source": [
    "dupl = clean_data.index.duplicated(keep='last')\n",
    "dupl.sum()"
   ]
  },
  {
   "cell_type": "code",
   "execution_count": 25,
   "metadata": {},
   "outputs": [
    {
     "data": {
      "text/html": [
       "<div>\n",
       "<style scoped>\n",
       "    .dataframe tbody tr th:only-of-type {\n",
       "        vertical-align: middle;\n",
       "    }\n",
       "\n",
       "    .dataframe tbody tr th {\n",
       "        vertical-align: top;\n",
       "    }\n",
       "\n",
       "    .dataframe thead th {\n",
       "        text-align: right;\n",
       "    }\n",
       "</style>\n",
       "<table border=\"1\" class=\"dataframe\">\n",
       "  <thead>\n",
       "    <tr style=\"text-align: right;\">\n",
       "      <th></th>\n",
       "      <th>holiday</th>\n",
       "      <th>temp</th>\n",
       "      <th>traffic_volume</th>\n",
       "    </tr>\n",
       "    <tr>\n",
       "      <th>date_time</th>\n",
       "      <th></th>\n",
       "      <th></th>\n",
       "      <th></th>\n",
       "    </tr>\n",
       "  </thead>\n",
       "  <tbody>\n",
       "    <tr>\n",
       "      <th>2012-11-04 01:00:00</th>\n",
       "      <td>None</td>\n",
       "      <td>275.60</td>\n",
       "      <td>730.0</td>\n",
       "    </tr>\n",
       "    <tr>\n",
       "      <th>2012-11-04 01:00:00</th>\n",
       "      <td>None</td>\n",
       "      <td>275.77</td>\n",
       "      <td>730.0</td>\n",
       "    </tr>\n",
       "    <tr>\n",
       "      <th>2014-01-03 20:00:00</th>\n",
       "      <td>None</td>\n",
       "      <td>267.97</td>\n",
       "      <td>2427.0</td>\n",
       "    </tr>\n",
       "    <tr>\n",
       "      <th>2014-01-03 20:00:00</th>\n",
       "      <td>None</td>\n",
       "      <td>268.88</td>\n",
       "      <td>2427.0</td>\n",
       "    </tr>\n",
       "    <tr>\n",
       "      <th>2014-01-09 16:00:00</th>\n",
       "      <td>None</td>\n",
       "      <td>265.73</td>\n",
       "      <td>6421.0</td>\n",
       "    </tr>\n",
       "    <tr>\n",
       "      <th>2014-01-09 16:00:00</th>\n",
       "      <td>None</td>\n",
       "      <td>266.47</td>\n",
       "      <td>6421.0</td>\n",
       "    </tr>\n",
       "  </tbody>\n",
       "</table>\n",
       "</div>"
      ],
      "text/plain": [
       "                    holiday    temp  traffic_volume\n",
       "date_time                                          \n",
       "2012-11-04 01:00:00    None  275.60           730.0\n",
       "2012-11-04 01:00:00    None  275.77           730.0\n",
       "2014-01-03 20:00:00    None  267.97          2427.0\n",
       "2014-01-03 20:00:00    None  268.88          2427.0\n",
       "2014-01-09 16:00:00    None  265.73          6421.0\n",
       "2014-01-09 16:00:00    None  266.47          6421.0"
      ]
     },
     "execution_count": 25,
     "metadata": {},
     "output_type": "execute_result"
    }
   ],
   "source": [
    "clean_data[clean_data.index.duplicated(keep=False)].head(6)"
   ]
  },
  {
   "cell_type": "code",
   "execution_count": 26,
   "metadata": {},
   "outputs": [],
   "source": [
    "working_data = clean_data[~dupl].copy()"
   ]
  },
  {
   "cell_type": "code",
   "execution_count": 27,
   "metadata": {},
   "outputs": [
    {
     "name": "stdout",
     "output_type": "stream",
     "text": [
      "<class 'pandas.core.frame.DataFrame'>\n",
      "DatetimeIndex: 52551 entries, 2012-10-02 09:00:00 to 2018-09-30 23:00:00\n",
      "Data columns (total 3 columns):\n",
      " #   Column          Non-Null Count  Dtype  \n",
      "---  ------          --------------  -----  \n",
      " 0   holiday         40528 non-null  object \n",
      " 1   temp            40528 non-null  float64\n",
      " 2   traffic_volume  40528 non-null  float64\n",
      "dtypes: float64(2), object(1)\n",
      "memory usage: 1.6+ MB\n"
     ]
    }
   ],
   "source": [
    "working_data.info()"
   ]
  },
  {
   "cell_type": "code",
   "execution_count": 28,
   "metadata": {},
   "outputs": [],
   "source": [
    "month_number = list(map(lambda x: (x.month),right_dates))\n",
    "is_weekend = list(map(lambda x: int((x.dayofweek>4)),right_dates))"
   ]
  },
  {
   "cell_type": "code",
   "execution_count": 29,
   "metadata": {},
   "outputs": [],
   "source": [
    "working_data['is_holiday'] = working_data[working_data['holiday'].notna()]['holiday'].apply(lambda x: 0 if x == 'None' else 1)"
   ]
  },
  {
   "cell_type": "code",
   "execution_count": 30,
   "metadata": {},
   "outputs": [],
   "source": [
    "# clean_data['is_weekend'] = pd.Series(is_weekend).values\n",
    "working_data['is_weekend'] = is_weekend\n",
    "working_data['month_number'] = month_number"
   ]
  },
  {
   "cell_type": "code",
   "execution_count": 31,
   "metadata": {},
   "outputs": [
    {
     "name": "stdout",
     "output_type": "stream",
     "text": [
      "<class 'pandas.core.frame.DataFrame'>\n",
      "DatetimeIndex: 52551 entries, 2012-10-02 09:00:00 to 2018-09-30 23:00:00\n",
      "Data columns (total 6 columns):\n",
      " #   Column          Non-Null Count  Dtype  \n",
      "---  ------          --------------  -----  \n",
      " 0   holiday         40528 non-null  object \n",
      " 1   temp            40528 non-null  float64\n",
      " 2   traffic_volume  40528 non-null  float64\n",
      " 3   is_holiday      40528 non-null  float64\n",
      " 4   is_weekend      52551 non-null  int64  \n",
      " 5   month_number    52551 non-null  int64  \n",
      "dtypes: float64(3), int64(2), object(1)\n",
      "memory usage: 2.8+ MB\n"
     ]
    }
   ],
   "source": [
    "working_data.info()"
   ]
  },
  {
   "cell_type": "code",
   "execution_count": 32,
   "metadata": {},
   "outputs": [],
   "source": [
    "in_data = working_data.interpolate(method='linear', axis=0).copy()"
   ]
  },
  {
   "cell_type": "code",
   "execution_count": 33,
   "metadata": {},
   "outputs": [
    {
     "name": "stdout",
     "output_type": "stream",
     "text": [
      "<class 'pandas.core.frame.DataFrame'>\n",
      "DatetimeIndex: 52551 entries, 2012-10-02 09:00:00 to 2018-09-30 23:00:00\n",
      "Data columns (total 6 columns):\n",
      " #   Column          Non-Null Count  Dtype  \n",
      "---  ------          --------------  -----  \n",
      " 0   holiday         40528 non-null  object \n",
      " 1   temp            52551 non-null  float64\n",
      " 2   traffic_volume  52551 non-null  float64\n",
      " 3   is_holiday      52551 non-null  float64\n",
      " 4   is_weekend      52551 non-null  int64  \n",
      " 5   month_number    52551 non-null  int64  \n",
      "dtypes: float64(3), int64(2), object(1)\n",
      "memory usage: 2.8+ MB\n"
     ]
    }
   ],
   "source": [
    "in_data.info()"
   ]
  },
  {
   "cell_type": "code",
   "execution_count": 34,
   "metadata": {},
   "outputs": [
    {
     "data": {
      "text/html": [
       "<div>\n",
       "<style scoped>\n",
       "    .dataframe tbody tr th:only-of-type {\n",
       "        vertical-align: middle;\n",
       "    }\n",
       "\n",
       "    .dataframe tbody tr th {\n",
       "        vertical-align: top;\n",
       "    }\n",
       "\n",
       "    .dataframe thead th {\n",
       "        text-align: right;\n",
       "    }\n",
       "</style>\n",
       "<table border=\"1\" class=\"dataframe\">\n",
       "  <thead>\n",
       "    <tr style=\"text-align: right;\">\n",
       "      <th></th>\n",
       "      <th>temp</th>\n",
       "      <th>traffic_volume</th>\n",
       "      <th>is_holiday</th>\n",
       "      <th>is_weekend</th>\n",
       "      <th>month_number</th>\n",
       "    </tr>\n",
       "  </thead>\n",
       "  <tbody>\n",
       "    <tr>\n",
       "      <th>count</th>\n",
       "      <td>52551.000000</td>\n",
       "      <td>52551.000000</td>\n",
       "      <td>52551.000000</td>\n",
       "      <td>52551.000000</td>\n",
       "      <td>52551.000000</td>\n",
       "    </tr>\n",
       "    <tr>\n",
       "      <th>mean</th>\n",
       "      <td>282.501583</td>\n",
       "      <td>3071.897557</td>\n",
       "      <td>0.001056</td>\n",
       "      <td>0.285894</td>\n",
       "      <td>6.521779</td>\n",
       "    </tr>\n",
       "    <tr>\n",
       "      <th>std</th>\n",
       "      <td>12.993132</td>\n",
       "      <td>1922.467889</td>\n",
       "      <td>0.032113</td>\n",
       "      <td>0.451843</td>\n",
       "      <td>3.448434</td>\n",
       "    </tr>\n",
       "    <tr>\n",
       "      <th>min</th>\n",
       "      <td>0.000000</td>\n",
       "      <td>0.000000</td>\n",
       "      <td>0.000000</td>\n",
       "      <td>0.000000</td>\n",
       "      <td>1.000000</td>\n",
       "    </tr>\n",
       "    <tr>\n",
       "      <th>25%</th>\n",
       "      <td>273.580000</td>\n",
       "      <td>1223.599161</td>\n",
       "      <td>0.000000</td>\n",
       "      <td>0.000000</td>\n",
       "      <td>4.000000</td>\n",
       "    </tr>\n",
       "    <tr>\n",
       "      <th>50%</th>\n",
       "      <td>286.420000</td>\n",
       "      <td>2897.000000</td>\n",
       "      <td>0.000000</td>\n",
       "      <td>0.000000</td>\n",
       "      <td>7.000000</td>\n",
       "    </tr>\n",
       "    <tr>\n",
       "      <th>75%</th>\n",
       "      <td>291.703441</td>\n",
       "      <td>4775.000000</td>\n",
       "      <td>0.000000</td>\n",
       "      <td>1.000000</td>\n",
       "      <td>10.000000</td>\n",
       "    </tr>\n",
       "    <tr>\n",
       "      <th>max</th>\n",
       "      <td>310.070000</td>\n",
       "      <td>7280.000000</td>\n",
       "      <td>1.000000</td>\n",
       "      <td>1.000000</td>\n",
       "      <td>12.000000</td>\n",
       "    </tr>\n",
       "  </tbody>\n",
       "</table>\n",
       "</div>"
      ],
      "text/plain": [
       "               temp  traffic_volume    is_holiday    is_weekend  month_number\n",
       "count  52551.000000    52551.000000  52551.000000  52551.000000  52551.000000\n",
       "mean     282.501583     3071.897557      0.001056      0.285894      6.521779\n",
       "std       12.993132     1922.467889      0.032113      0.451843      3.448434\n",
       "min        0.000000        0.000000      0.000000      0.000000      1.000000\n",
       "25%      273.580000     1223.599161      0.000000      0.000000      4.000000\n",
       "50%      286.420000     2897.000000      0.000000      0.000000      7.000000\n",
       "75%      291.703441     4775.000000      0.000000      1.000000     10.000000\n",
       "max      310.070000     7280.000000      1.000000      1.000000     12.000000"
      ]
     },
     "execution_count": 34,
     "metadata": {},
     "output_type": "execute_result"
    }
   ],
   "source": [
    "in_data.describe()"
   ]
  },
  {
   "cell_type": "code",
   "execution_count": 35,
   "metadata": {},
   "outputs": [],
   "source": [
    "# Посмотрим на даты обозначенные как праздничные\n",
    "# working_data['is_holiday'].sum()\n",
    "# in_data[in_data['is_holiday']==1].head(60)"
   ]
  },
  {
   "cell_type": "code",
   "execution_count": 36,
   "metadata": {},
   "outputs": [],
   "source": [
    "test_data = working_data.loc['2013-10-13 00:00:00':'2013-10-14 05:00:00'].copy()"
   ]
  },
  {
   "cell_type": "code",
   "execution_count": 37,
   "metadata": {},
   "outputs": [
    {
     "data": {
      "text/html": [
       "<div>\n",
       "<style scoped>\n",
       "    .dataframe tbody tr th:only-of-type {\n",
       "        vertical-align: middle;\n",
       "    }\n",
       "\n",
       "    .dataframe tbody tr th {\n",
       "        vertical-align: top;\n",
       "    }\n",
       "\n",
       "    .dataframe thead th {\n",
       "        text-align: right;\n",
       "    }\n",
       "</style>\n",
       "<table border=\"1\" class=\"dataframe\">\n",
       "  <thead>\n",
       "    <tr style=\"text-align: right;\">\n",
       "      <th></th>\n",
       "      <th>holiday</th>\n",
       "      <th>temp</th>\n",
       "      <th>traffic_volume</th>\n",
       "      <th>is_holiday</th>\n",
       "      <th>is_weekend</th>\n",
       "      <th>month_number</th>\n",
       "    </tr>\n",
       "    <tr>\n",
       "      <th>date_time</th>\n",
       "      <th></th>\n",
       "      <th></th>\n",
       "      <th></th>\n",
       "      <th></th>\n",
       "      <th></th>\n",
       "      <th></th>\n",
       "    </tr>\n",
       "  </thead>\n",
       "  <tbody>\n",
       "    <tr>\n",
       "      <th>2013-10-13 22:00:00</th>\n",
       "      <td>NaN</td>\n",
       "      <td>279.835714</td>\n",
       "      <td>1693.857143</td>\n",
       "      <td>0.0</td>\n",
       "      <td>1</td>\n",
       "      <td>10</td>\n",
       "    </tr>\n",
       "    <tr>\n",
       "      <th>2013-10-13 23:00:00</th>\n",
       "      <td>None</td>\n",
       "      <td>278.580000</td>\n",
       "      <td>1084.000000</td>\n",
       "      <td>0.0</td>\n",
       "      <td>1</td>\n",
       "      <td>10</td>\n",
       "    </tr>\n",
       "    <tr>\n",
       "      <th>2013-10-14 00:00:00</th>\n",
       "      <td>Columbus Day</td>\n",
       "      <td>277.720000</td>\n",
       "      <td>615.000000</td>\n",
       "      <td>1.0</td>\n",
       "      <td>0</td>\n",
       "      <td>10</td>\n",
       "    </tr>\n",
       "    <tr>\n",
       "      <th>2013-10-14 01:00:00</th>\n",
       "      <td>NaN</td>\n",
       "      <td>277.395000</td>\n",
       "      <td>453.000000</td>\n",
       "      <td>0.5</td>\n",
       "      <td>0</td>\n",
       "      <td>10</td>\n",
       "    </tr>\n",
       "    <tr>\n",
       "      <th>2013-10-14 02:00:00</th>\n",
       "      <td>None</td>\n",
       "      <td>277.070000</td>\n",
       "      <td>291.000000</td>\n",
       "      <td>0.0</td>\n",
       "      <td>0</td>\n",
       "      <td>10</td>\n",
       "    </tr>\n",
       "    <tr>\n",
       "      <th>2013-10-14 03:00:00</th>\n",
       "      <td>None</td>\n",
       "      <td>276.700000</td>\n",
       "      <td>388.000000</td>\n",
       "      <td>0.0</td>\n",
       "      <td>0</td>\n",
       "      <td>10</td>\n",
       "    </tr>\n",
       "    <tr>\n",
       "      <th>2013-10-14 04:00:00</th>\n",
       "      <td>NaN</td>\n",
       "      <td>277.145000</td>\n",
       "      <td>1541.000000</td>\n",
       "      <td>0.0</td>\n",
       "      <td>0</td>\n",
       "      <td>10</td>\n",
       "    </tr>\n",
       "    <tr>\n",
       "      <th>2013-10-14 05:00:00</th>\n",
       "      <td>None</td>\n",
       "      <td>277.590000</td>\n",
       "      <td>2694.000000</td>\n",
       "      <td>0.0</td>\n",
       "      <td>0</td>\n",
       "      <td>10</td>\n",
       "    </tr>\n",
       "  </tbody>\n",
       "</table>\n",
       "</div>"
      ],
      "text/plain": [
       "                          holiday        temp  traffic_volume  is_holiday  \\\n",
       "date_time                                                                   \n",
       "2013-10-13 22:00:00           NaN  279.835714     1693.857143         0.0   \n",
       "2013-10-13 23:00:00          None  278.580000     1084.000000         0.0   \n",
       "2013-10-14 00:00:00  Columbus Day  277.720000      615.000000         1.0   \n",
       "2013-10-14 01:00:00           NaN  277.395000      453.000000         0.5   \n",
       "2013-10-14 02:00:00          None  277.070000      291.000000         0.0   \n",
       "2013-10-14 03:00:00          None  276.700000      388.000000         0.0   \n",
       "2013-10-14 04:00:00           NaN  277.145000     1541.000000         0.0   \n",
       "2013-10-14 05:00:00          None  277.590000     2694.000000         0.0   \n",
       "\n",
       "                     is_weekend  month_number  \n",
       "date_time                                      \n",
       "2013-10-13 22:00:00           1            10  \n",
       "2013-10-13 23:00:00           1            10  \n",
       "2013-10-14 00:00:00           0            10  \n",
       "2013-10-14 01:00:00           0            10  \n",
       "2013-10-14 02:00:00           0            10  \n",
       "2013-10-14 03:00:00           0            10  \n",
       "2013-10-14 04:00:00           0            10  \n",
       "2013-10-14 05:00:00           0            10  "
      ]
     },
     "execution_count": 37,
     "metadata": {},
     "output_type": "execute_result"
    }
   ],
   "source": [
    "in_data.loc['2013-10-13 22:00:00':'2013-10-14 05:00:00'].head(20)"
   ]
  },
  {
   "cell_type": "code",
   "execution_count": 38,
   "metadata": {},
   "outputs": [
    {
     "data": {
      "text/html": [
       "<div>\n",
       "<style scoped>\n",
       "    .dataframe tbody tr th:only-of-type {\n",
       "        vertical-align: middle;\n",
       "    }\n",
       "\n",
       "    .dataframe tbody tr th {\n",
       "        vertical-align: top;\n",
       "    }\n",
       "\n",
       "    .dataframe thead th {\n",
       "        text-align: right;\n",
       "    }\n",
       "</style>\n",
       "<table border=\"1\" class=\"dataframe\">\n",
       "  <thead>\n",
       "    <tr style=\"text-align: right;\">\n",
       "      <th></th>\n",
       "      <th>holiday</th>\n",
       "      <th>temp</th>\n",
       "      <th>traffic_volume</th>\n",
       "      <th>is_holiday</th>\n",
       "      <th>is_weekend</th>\n",
       "      <th>month_number</th>\n",
       "      <th>was_nan</th>\n",
       "    </tr>\n",
       "    <tr>\n",
       "      <th>date_time</th>\n",
       "      <th></th>\n",
       "      <th></th>\n",
       "      <th></th>\n",
       "      <th></th>\n",
       "      <th></th>\n",
       "      <th></th>\n",
       "      <th></th>\n",
       "    </tr>\n",
       "  </thead>\n",
       "  <tbody>\n",
       "    <tr>\n",
       "      <th>2012-10-02 09:00:00</th>\n",
       "      <td>None</td>\n",
       "      <td>288.28</td>\n",
       "      <td>5545.0</td>\n",
       "      <td>0.0</td>\n",
       "      <td>0</td>\n",
       "      <td>10</td>\n",
       "      <td>0</td>\n",
       "    </tr>\n",
       "    <tr>\n",
       "      <th>2012-10-02 10:00:00</th>\n",
       "      <td>None</td>\n",
       "      <td>289.36</td>\n",
       "      <td>4516.0</td>\n",
       "      <td>0.0</td>\n",
       "      <td>0</td>\n",
       "      <td>10</td>\n",
       "      <td>0</td>\n",
       "    </tr>\n",
       "    <tr>\n",
       "      <th>2012-10-02 11:00:00</th>\n",
       "      <td>None</td>\n",
       "      <td>289.58</td>\n",
       "      <td>4767.0</td>\n",
       "      <td>0.0</td>\n",
       "      <td>0</td>\n",
       "      <td>10</td>\n",
       "      <td>0</td>\n",
       "    </tr>\n",
       "    <tr>\n",
       "      <th>2012-10-02 12:00:00</th>\n",
       "      <td>None</td>\n",
       "      <td>290.13</td>\n",
       "      <td>5026.0</td>\n",
       "      <td>0.0</td>\n",
       "      <td>0</td>\n",
       "      <td>10</td>\n",
       "      <td>0</td>\n",
       "    </tr>\n",
       "    <tr>\n",
       "      <th>2012-10-02 13:00:00</th>\n",
       "      <td>None</td>\n",
       "      <td>291.14</td>\n",
       "      <td>4918.0</td>\n",
       "      <td>0.0</td>\n",
       "      <td>0</td>\n",
       "      <td>10</td>\n",
       "      <td>0</td>\n",
       "    </tr>\n",
       "  </tbody>\n",
       "</table>\n",
       "</div>"
      ],
      "text/plain": [
       "                    holiday    temp  traffic_volume  is_holiday  is_weekend  \\\n",
       "date_time                                                                     \n",
       "2012-10-02 09:00:00    None  288.28          5545.0         0.0           0   \n",
       "2012-10-02 10:00:00    None  289.36          4516.0         0.0           0   \n",
       "2012-10-02 11:00:00    None  289.58          4767.0         0.0           0   \n",
       "2012-10-02 12:00:00    None  290.13          5026.0         0.0           0   \n",
       "2012-10-02 13:00:00    None  291.14          4918.0         0.0           0   \n",
       "\n",
       "                     month_number  was_nan  \n",
       "date_time                                   \n",
       "2012-10-02 09:00:00            10        0  \n",
       "2012-10-02 10:00:00            10        0  \n",
       "2012-10-02 11:00:00            10        0  \n",
       "2012-10-02 12:00:00            10        0  \n",
       "2012-10-02 13:00:00            10        0  "
      ]
     },
     "execution_count": 38,
     "metadata": {},
     "output_type": "execute_result"
    }
   ],
   "source": [
    "in_data['was_nan'] = working_data['traffic_volume'].isnull().astype(int)\n",
    "in_data.head()"
   ]
  },
  {
   "cell_type": "code",
   "execution_count": 39,
   "metadata": {},
   "outputs": [
    {
     "data": {
      "text/html": [
       "<div>\n",
       "<style scoped>\n",
       "    .dataframe tbody tr th:only-of-type {\n",
       "        vertical-align: middle;\n",
       "    }\n",
       "\n",
       "    .dataframe tbody tr th {\n",
       "        vertical-align: top;\n",
       "    }\n",
       "\n",
       "    .dataframe thead th {\n",
       "        text-align: right;\n",
       "    }\n",
       "</style>\n",
       "<table border=\"1\" class=\"dataframe\">\n",
       "  <thead>\n",
       "    <tr style=\"text-align: right;\">\n",
       "      <th></th>\n",
       "      <th>holiday</th>\n",
       "      <th>temp</th>\n",
       "      <th>traffic_volume</th>\n",
       "      <th>is_holiday</th>\n",
       "      <th>is_weekend</th>\n",
       "      <th>month_number</th>\n",
       "      <th>was_nan</th>\n",
       "    </tr>\n",
       "    <tr>\n",
       "      <th>date_time</th>\n",
       "      <th></th>\n",
       "      <th></th>\n",
       "      <th></th>\n",
       "      <th></th>\n",
       "      <th></th>\n",
       "      <th></th>\n",
       "      <th></th>\n",
       "    </tr>\n",
       "  </thead>\n",
       "  <tbody>\n",
       "    <tr>\n",
       "      <th>2012-10-08</th>\n",
       "      <td>Columbus Day</td>\n",
       "      <td>273.08</td>\n",
       "      <td>455.0</td>\n",
       "      <td>1.0</td>\n",
       "      <td>0</td>\n",
       "      <td>10</td>\n",
       "      <td>0</td>\n",
       "    </tr>\n",
       "    <tr>\n",
       "      <th>2012-11-12</th>\n",
       "      <td>Veterans Day</td>\n",
       "      <td>288.12</td>\n",
       "      <td>1000.0</td>\n",
       "      <td>1.0</td>\n",
       "      <td>0</td>\n",
       "      <td>11</td>\n",
       "      <td>0</td>\n",
       "    </tr>\n",
       "    <tr>\n",
       "      <th>2012-11-22</th>\n",
       "      <td>Thanksgiving Day</td>\n",
       "      <td>278.54</td>\n",
       "      <td>919.0</td>\n",
       "      <td>1.0</td>\n",
       "      <td>0</td>\n",
       "      <td>11</td>\n",
       "      <td>0</td>\n",
       "    </tr>\n",
       "    <tr>\n",
       "      <th>2012-12-25</th>\n",
       "      <td>Christmas Day</td>\n",
       "      <td>264.40</td>\n",
       "      <td>803.0</td>\n",
       "      <td>1.0</td>\n",
       "      <td>0</td>\n",
       "      <td>12</td>\n",
       "      <td>0</td>\n",
       "    </tr>\n",
       "    <tr>\n",
       "      <th>2013-01-01</th>\n",
       "      <td>New Years Day</td>\n",
       "      <td>263.49</td>\n",
       "      <td>1439.0</td>\n",
       "      <td>1.0</td>\n",
       "      <td>0</td>\n",
       "      <td>1</td>\n",
       "      <td>0</td>\n",
       "    </tr>\n",
       "    <tr>\n",
       "      <th>2013-02-18</th>\n",
       "      <td>Washingtons Birthday</td>\n",
       "      <td>258.96</td>\n",
       "      <td>556.0</td>\n",
       "      <td>1.0</td>\n",
       "      <td>0</td>\n",
       "      <td>2</td>\n",
       "      <td>0</td>\n",
       "    </tr>\n",
       "    <tr>\n",
       "      <th>2013-05-27</th>\n",
       "      <td>Memorial Day</td>\n",
       "      <td>286.37</td>\n",
       "      <td>863.0</td>\n",
       "      <td>1.0</td>\n",
       "      <td>0</td>\n",
       "      <td>5</td>\n",
       "      <td>0</td>\n",
       "    </tr>\n",
       "    <tr>\n",
       "      <th>2013-07-04</th>\n",
       "      <td>Independence Day</td>\n",
       "      <td>290.08</td>\n",
       "      <td>1060.0</td>\n",
       "      <td>1.0</td>\n",
       "      <td>0</td>\n",
       "      <td>7</td>\n",
       "      <td>0</td>\n",
       "    </tr>\n",
       "    <tr>\n",
       "      <th>2013-08-22</th>\n",
       "      <td>State Fair</td>\n",
       "      <td>297.42</td>\n",
       "      <td>661.0</td>\n",
       "      <td>1.0</td>\n",
       "      <td>0</td>\n",
       "      <td>8</td>\n",
       "      <td>0</td>\n",
       "    </tr>\n",
       "    <tr>\n",
       "      <th>2013-09-02</th>\n",
       "      <td>Labor Day</td>\n",
       "      <td>288.78</td>\n",
       "      <td>1041.0</td>\n",
       "      <td>1.0</td>\n",
       "      <td>0</td>\n",
       "      <td>9</td>\n",
       "      <td>0</td>\n",
       "    </tr>\n",
       "    <tr>\n",
       "      <th>2013-10-14</th>\n",
       "      <td>Columbus Day</td>\n",
       "      <td>277.72</td>\n",
       "      <td>615.0</td>\n",
       "      <td>1.0</td>\n",
       "      <td>0</td>\n",
       "      <td>10</td>\n",
       "      <td>0</td>\n",
       "    </tr>\n",
       "    <tr>\n",
       "      <th>2013-11-11</th>\n",
       "      <td>Veterans Day</td>\n",
       "      <td>275.44</td>\n",
       "      <td>514.0</td>\n",
       "      <td>1.0</td>\n",
       "      <td>0</td>\n",
       "      <td>11</td>\n",
       "      <td>0</td>\n",
       "    </tr>\n",
       "    <tr>\n",
       "      <th>2013-11-28</th>\n",
       "      <td>Thanksgiving Day</td>\n",
       "      <td>268.24</td>\n",
       "      <td>929.0</td>\n",
       "      <td>1.0</td>\n",
       "      <td>0</td>\n",
       "      <td>11</td>\n",
       "      <td>0</td>\n",
       "    </tr>\n",
       "    <tr>\n",
       "      <th>2013-12-25</th>\n",
       "      <td>Christmas Day</td>\n",
       "      <td>260.17</td>\n",
       "      <td>712.0</td>\n",
       "      <td>1.0</td>\n",
       "      <td>0</td>\n",
       "      <td>12</td>\n",
       "      <td>0</td>\n",
       "    </tr>\n",
       "    <tr>\n",
       "      <th>2014-01-01</th>\n",
       "      <td>New Years Day</td>\n",
       "      <td>250.14</td>\n",
       "      <td>1395.0</td>\n",
       "      <td>1.0</td>\n",
       "      <td>0</td>\n",
       "      <td>1</td>\n",
       "      <td>0</td>\n",
       "    </tr>\n",
       "    <tr>\n",
       "      <th>2014-01-20</th>\n",
       "      <td>Martin Luther King Jr Day</td>\n",
       "      <td>271.79</td>\n",
       "      <td>480.0</td>\n",
       "      <td>1.0</td>\n",
       "      <td>0</td>\n",
       "      <td>1</td>\n",
       "      <td>0</td>\n",
       "    </tr>\n",
       "    <tr>\n",
       "      <th>2014-02-17</th>\n",
       "      <td>Washingtons Birthday</td>\n",
       "      <td>267.44</td>\n",
       "      <td>583.0</td>\n",
       "      <td>1.0</td>\n",
       "      <td>0</td>\n",
       "      <td>2</td>\n",
       "      <td>0</td>\n",
       "    </tr>\n",
       "    <tr>\n",
       "      <th>2014-05-26</th>\n",
       "      <td>Memorial Day</td>\n",
       "      <td>294.31</td>\n",
       "      <td>967.0</td>\n",
       "      <td>1.0</td>\n",
       "      <td>0</td>\n",
       "      <td>5</td>\n",
       "      <td>0</td>\n",
       "    </tr>\n",
       "    <tr>\n",
       "      <th>2015-07-03</th>\n",
       "      <td>Independence Day</td>\n",
       "      <td>289.20</td>\n",
       "      <td>959.0</td>\n",
       "      <td>1.0</td>\n",
       "      <td>0</td>\n",
       "      <td>7</td>\n",
       "      <td>0</td>\n",
       "    </tr>\n",
       "    <tr>\n",
       "      <th>2015-08-27</th>\n",
       "      <td>State Fair</td>\n",
       "      <td>287.97</td>\n",
       "      <td>605.0</td>\n",
       "      <td>1.0</td>\n",
       "      <td>0</td>\n",
       "      <td>8</td>\n",
       "      <td>0</td>\n",
       "    </tr>\n",
       "  </tbody>\n",
       "</table>\n",
       "</div>"
      ],
      "text/plain": [
       "                              holiday    temp  traffic_volume  is_holiday  \\\n",
       "date_time                                                                   \n",
       "2012-10-08               Columbus Day  273.08           455.0         1.0   \n",
       "2012-11-12               Veterans Day  288.12          1000.0         1.0   \n",
       "2012-11-22           Thanksgiving Day  278.54           919.0         1.0   \n",
       "2012-12-25              Christmas Day  264.40           803.0         1.0   \n",
       "2013-01-01              New Years Day  263.49          1439.0         1.0   \n",
       "2013-02-18       Washingtons Birthday  258.96           556.0         1.0   \n",
       "2013-05-27               Memorial Day  286.37           863.0         1.0   \n",
       "2013-07-04           Independence Day  290.08          1060.0         1.0   \n",
       "2013-08-22                 State Fair  297.42           661.0         1.0   \n",
       "2013-09-02                  Labor Day  288.78          1041.0         1.0   \n",
       "2013-10-14               Columbus Day  277.72           615.0         1.0   \n",
       "2013-11-11               Veterans Day  275.44           514.0         1.0   \n",
       "2013-11-28           Thanksgiving Day  268.24           929.0         1.0   \n",
       "2013-12-25              Christmas Day  260.17           712.0         1.0   \n",
       "2014-01-01              New Years Day  250.14          1395.0         1.0   \n",
       "2014-01-20  Martin Luther King Jr Day  271.79           480.0         1.0   \n",
       "2014-02-17       Washingtons Birthday  267.44           583.0         1.0   \n",
       "2014-05-26               Memorial Day  294.31           967.0         1.0   \n",
       "2015-07-03           Independence Day  289.20           959.0         1.0   \n",
       "2015-08-27                 State Fair  287.97           605.0         1.0   \n",
       "\n",
       "            is_weekend  month_number  was_nan  \n",
       "date_time                                      \n",
       "2012-10-08           0            10        0  \n",
       "2012-11-12           0            11        0  \n",
       "2012-11-22           0            11        0  \n",
       "2012-12-25           0            12        0  \n",
       "2013-01-01           0             1        0  \n",
       "2013-02-18           0             2        0  \n",
       "2013-05-27           0             5        0  \n",
       "2013-07-04           0             7        0  \n",
       "2013-08-22           0             8        0  \n",
       "2013-09-02           0             9        0  \n",
       "2013-10-14           0            10        0  \n",
       "2013-11-11           0            11        0  \n",
       "2013-11-28           0            11        0  \n",
       "2013-12-25           0            12        0  \n",
       "2014-01-01           0             1        0  \n",
       "2014-01-20           0             1        0  \n",
       "2014-02-17           0             2        0  \n",
       "2014-05-26           0             5        0  \n",
       "2015-07-03           0             7        0  \n",
       "2015-08-27           0             8        0  "
      ]
     },
     "execution_count": 39,
     "metadata": {},
     "output_type": "execute_result"
    }
   ],
   "source": [
    "in_data[in_data['is_holiday']==1].head(20)"
   ]
  },
  {
   "cell_type": "markdown",
   "metadata": {},
   "source": [
    "### Неожиданности \n",
    "Если посмотреть на даты праздничных дней, то видно что в некоторые годы праздничных дней значительно меньше, в 14 году всего 4 праздника и нет Рождества ... \n",
    "\n",
    "Так как в дата сете есть целые пропущенные дни, то возможно надо либо эти прощенные данные выкинуть, а оставшиеся использовать, либо пометить их как-то. Но ключевой вопрос, сколько у тебя интервалов прощенных данных и какова была их длинна? \n"
   ]
  },
  {
   "cell_type": "code",
   "execution_count": 40,
   "metadata": {},
   "outputs": [
    {
     "data": {
      "text/plain": [
       "array(['None', nan, 'Columbus Day', 'Veterans Day', 'Thanksgiving Day',\n",
       "       'Christmas Day', 'New Years Day', 'Washingtons Birthday',\n",
       "       'Memorial Day', 'Independence Day', 'State Fair', 'Labor Day',\n",
       "       'Martin Luther King Jr Day'], dtype=object)"
      ]
     },
     "execution_count": 40,
     "metadata": {},
     "output_type": "execute_result"
    }
   ],
   "source": [
    "pd.unique(working_data['holiday'])"
   ]
  },
  {
   "cell_type": "code",
   "execution_count": 41,
   "metadata": {},
   "outputs": [],
   "source": [
    "def add_holidays(df):\n",
    "       holidays = ['Columbus Day', 'Veterans Day', 'Thanksgiving Day',\n",
    "                   'Christmas Day', 'New Years Day', 'Washingtons Birthday',\n",
    "                   'Memorial Day', 'Independence Day', 'State Fair', 'Labor Day',\n",
    "                   'Martin Luther King Jr Day']\n",
    "       out = df[df['holiday'].isin(holidays)]\n",
    "       delta_hour = timedelta(hours=1)\n",
    "       for day in out.index:\n",
    "              for i in range(1,24,1):\n",
    "                     df.loc[day+delta_hour*i,'is_holiday'] = 1       \n",
    "       "
   ]
  },
  {
   "cell_type": "code",
   "execution_count": 42,
   "metadata": {},
   "outputs": [],
   "source": [
    "add_holidays(in_data)"
   ]
  },
  {
   "cell_type": "code",
   "execution_count": 43,
   "metadata": {},
   "outputs": [
    {
     "data": {
      "text/plain": [
       "1273.0"
      ]
     },
     "execution_count": 43,
     "metadata": {},
     "output_type": "execute_result"
    }
   ],
   "source": [
    "in_data['is_holiday'].sum()"
   ]
  },
  {
   "cell_type": "code",
   "execution_count": 44,
   "metadata": {},
   "outputs": [
    {
     "data": {
      "text/html": [
       "<div>\n",
       "<style scoped>\n",
       "    .dataframe tbody tr th:only-of-type {\n",
       "        vertical-align: middle;\n",
       "    }\n",
       "\n",
       "    .dataframe tbody tr th {\n",
       "        vertical-align: top;\n",
       "    }\n",
       "\n",
       "    .dataframe thead th {\n",
       "        text-align: right;\n",
       "    }\n",
       "</style>\n",
       "<table border=\"1\" class=\"dataframe\">\n",
       "  <thead>\n",
       "    <tr style=\"text-align: right;\">\n",
       "      <th></th>\n",
       "      <th>holiday</th>\n",
       "      <th>temp</th>\n",
       "      <th>traffic_volume</th>\n",
       "      <th>is_holiday</th>\n",
       "      <th>is_weekend</th>\n",
       "      <th>month_number</th>\n",
       "      <th>was_nan</th>\n",
       "    </tr>\n",
       "    <tr>\n",
       "      <th>date_time</th>\n",
       "      <th></th>\n",
       "      <th></th>\n",
       "      <th></th>\n",
       "      <th></th>\n",
       "      <th></th>\n",
       "      <th></th>\n",
       "      <th></th>\n",
       "    </tr>\n",
       "  </thead>\n",
       "  <tbody>\n",
       "    <tr>\n",
       "      <th>2013-10-13 22:00:00</th>\n",
       "      <td>NaN</td>\n",
       "      <td>279.835714</td>\n",
       "      <td>1693.857143</td>\n",
       "      <td>0.0</td>\n",
       "      <td>1</td>\n",
       "      <td>10</td>\n",
       "      <td>1</td>\n",
       "    </tr>\n",
       "    <tr>\n",
       "      <th>2013-10-13 23:00:00</th>\n",
       "      <td>None</td>\n",
       "      <td>278.580000</td>\n",
       "      <td>1084.000000</td>\n",
       "      <td>0.0</td>\n",
       "      <td>1</td>\n",
       "      <td>10</td>\n",
       "      <td>0</td>\n",
       "    </tr>\n",
       "    <tr>\n",
       "      <th>2013-10-14 00:00:00</th>\n",
       "      <td>Columbus Day</td>\n",
       "      <td>277.720000</td>\n",
       "      <td>615.000000</td>\n",
       "      <td>1.0</td>\n",
       "      <td>0</td>\n",
       "      <td>10</td>\n",
       "      <td>0</td>\n",
       "    </tr>\n",
       "    <tr>\n",
       "      <th>2013-10-14 01:00:00</th>\n",
       "      <td>NaN</td>\n",
       "      <td>277.395000</td>\n",
       "      <td>453.000000</td>\n",
       "      <td>1.0</td>\n",
       "      <td>0</td>\n",
       "      <td>10</td>\n",
       "      <td>1</td>\n",
       "    </tr>\n",
       "    <tr>\n",
       "      <th>2013-10-14 02:00:00</th>\n",
       "      <td>None</td>\n",
       "      <td>277.070000</td>\n",
       "      <td>291.000000</td>\n",
       "      <td>1.0</td>\n",
       "      <td>0</td>\n",
       "      <td>10</td>\n",
       "      <td>0</td>\n",
       "    </tr>\n",
       "    <tr>\n",
       "      <th>2013-10-14 03:00:00</th>\n",
       "      <td>None</td>\n",
       "      <td>276.700000</td>\n",
       "      <td>388.000000</td>\n",
       "      <td>1.0</td>\n",
       "      <td>0</td>\n",
       "      <td>10</td>\n",
       "      <td>0</td>\n",
       "    </tr>\n",
       "    <tr>\n",
       "      <th>2013-10-14 04:00:00</th>\n",
       "      <td>NaN</td>\n",
       "      <td>277.145000</td>\n",
       "      <td>1541.000000</td>\n",
       "      <td>1.0</td>\n",
       "      <td>0</td>\n",
       "      <td>10</td>\n",
       "      <td>1</td>\n",
       "    </tr>\n",
       "    <tr>\n",
       "      <th>2013-10-14 05:00:00</th>\n",
       "      <td>None</td>\n",
       "      <td>277.590000</td>\n",
       "      <td>2694.000000</td>\n",
       "      <td>1.0</td>\n",
       "      <td>0</td>\n",
       "      <td>10</td>\n",
       "      <td>0</td>\n",
       "    </tr>\n",
       "    <tr>\n",
       "      <th>2013-10-14 06:00:00</th>\n",
       "      <td>None</td>\n",
       "      <td>277.990000</td>\n",
       "      <td>5729.000000</td>\n",
       "      <td>1.0</td>\n",
       "      <td>0</td>\n",
       "      <td>10</td>\n",
       "      <td>0</td>\n",
       "    </tr>\n",
       "    <tr>\n",
       "      <th>2013-10-14 07:00:00</th>\n",
       "      <td>NaN</td>\n",
       "      <td>278.760000</td>\n",
       "      <td>5733.000000</td>\n",
       "      <td>1.0</td>\n",
       "      <td>0</td>\n",
       "      <td>10</td>\n",
       "      <td>1</td>\n",
       "    </tr>\n",
       "    <tr>\n",
       "      <th>2013-10-14 08:00:00</th>\n",
       "      <td>None</td>\n",
       "      <td>279.530000</td>\n",
       "      <td>5737.000000</td>\n",
       "      <td>1.0</td>\n",
       "      <td>0</td>\n",
       "      <td>10</td>\n",
       "      <td>0</td>\n",
       "    </tr>\n",
       "    <tr>\n",
       "      <th>2013-10-14 09:00:00</th>\n",
       "      <td>None</td>\n",
       "      <td>280.190000</td>\n",
       "      <td>4899.000000</td>\n",
       "      <td>1.0</td>\n",
       "      <td>0</td>\n",
       "      <td>10</td>\n",
       "      <td>0</td>\n",
       "    </tr>\n",
       "    <tr>\n",
       "      <th>2013-10-14 10:00:00</th>\n",
       "      <td>NaN</td>\n",
       "      <td>280.955000</td>\n",
       "      <td>4703.000000</td>\n",
       "      <td>1.0</td>\n",
       "      <td>0</td>\n",
       "      <td>10</td>\n",
       "      <td>1</td>\n",
       "    </tr>\n",
       "    <tr>\n",
       "      <th>2013-10-14 11:00:00</th>\n",
       "      <td>None</td>\n",
       "      <td>281.720000</td>\n",
       "      <td>4507.000000</td>\n",
       "      <td>1.0</td>\n",
       "      <td>0</td>\n",
       "      <td>10</td>\n",
       "      <td>0</td>\n",
       "    </tr>\n",
       "    <tr>\n",
       "      <th>2013-10-14 12:00:00</th>\n",
       "      <td>None</td>\n",
       "      <td>283.060000</td>\n",
       "      <td>4696.000000</td>\n",
       "      <td>1.0</td>\n",
       "      <td>0</td>\n",
       "      <td>10</td>\n",
       "      <td>0</td>\n",
       "    </tr>\n",
       "    <tr>\n",
       "      <th>2013-10-14 13:00:00</th>\n",
       "      <td>NaN</td>\n",
       "      <td>283.950000</td>\n",
       "      <td>5046.500000</td>\n",
       "      <td>1.0</td>\n",
       "      <td>0</td>\n",
       "      <td>10</td>\n",
       "      <td>1</td>\n",
       "    </tr>\n",
       "    <tr>\n",
       "      <th>2013-10-14 14:00:00</th>\n",
       "      <td>None</td>\n",
       "      <td>284.840000</td>\n",
       "      <td>5397.000000</td>\n",
       "      <td>1.0</td>\n",
       "      <td>0</td>\n",
       "      <td>10</td>\n",
       "      <td>0</td>\n",
       "    </tr>\n",
       "    <tr>\n",
       "      <th>2013-10-14 15:00:00</th>\n",
       "      <td>NaN</td>\n",
       "      <td>284.730000</td>\n",
       "      <td>5174.750000</td>\n",
       "      <td>1.0</td>\n",
       "      <td>0</td>\n",
       "      <td>10</td>\n",
       "      <td>1</td>\n",
       "    </tr>\n",
       "    <tr>\n",
       "      <th>2013-10-14 16:00:00</th>\n",
       "      <td>NaN</td>\n",
       "      <td>284.620000</td>\n",
       "      <td>4952.500000</td>\n",
       "      <td>1.0</td>\n",
       "      <td>0</td>\n",
       "      <td>10</td>\n",
       "      <td>1</td>\n",
       "    </tr>\n",
       "    <tr>\n",
       "      <th>2013-10-14 17:00:00</th>\n",
       "      <td>NaN</td>\n",
       "      <td>284.510000</td>\n",
       "      <td>4730.250000</td>\n",
       "      <td>1.0</td>\n",
       "      <td>0</td>\n",
       "      <td>10</td>\n",
       "      <td>1</td>\n",
       "    </tr>\n",
       "    <tr>\n",
       "      <th>2013-10-14 18:00:00</th>\n",
       "      <td>None</td>\n",
       "      <td>284.400000</td>\n",
       "      <td>4508.000000</td>\n",
       "      <td>1.0</td>\n",
       "      <td>0</td>\n",
       "      <td>10</td>\n",
       "      <td>0</td>\n",
       "    </tr>\n",
       "    <tr>\n",
       "      <th>2013-10-14 19:00:00</th>\n",
       "      <td>NaN</td>\n",
       "      <td>284.130000</td>\n",
       "      <td>3728.333333</td>\n",
       "      <td>1.0</td>\n",
       "      <td>0</td>\n",
       "      <td>10</td>\n",
       "      <td>1</td>\n",
       "    </tr>\n",
       "    <tr>\n",
       "      <th>2013-10-14 20:00:00</th>\n",
       "      <td>NaN</td>\n",
       "      <td>283.860000</td>\n",
       "      <td>2948.666667</td>\n",
       "      <td>1.0</td>\n",
       "      <td>0</td>\n",
       "      <td>10</td>\n",
       "      <td>1</td>\n",
       "    </tr>\n",
       "    <tr>\n",
       "      <th>2013-10-14 21:00:00</th>\n",
       "      <td>None</td>\n",
       "      <td>283.590000</td>\n",
       "      <td>2169.000000</td>\n",
       "      <td>1.0</td>\n",
       "      <td>0</td>\n",
       "      <td>10</td>\n",
       "      <td>0</td>\n",
       "    </tr>\n",
       "    <tr>\n",
       "      <th>2013-10-14 22:00:00</th>\n",
       "      <td>NaN</td>\n",
       "      <td>283.286667</td>\n",
       "      <td>1605.000000</td>\n",
       "      <td>1.0</td>\n",
       "      <td>0</td>\n",
       "      <td>10</td>\n",
       "      <td>1</td>\n",
       "    </tr>\n",
       "    <tr>\n",
       "      <th>2013-10-14 23:00:00</th>\n",
       "      <td>NaN</td>\n",
       "      <td>282.983333</td>\n",
       "      <td>1041.000000</td>\n",
       "      <td>1.0</td>\n",
       "      <td>0</td>\n",
       "      <td>10</td>\n",
       "      <td>1</td>\n",
       "    </tr>\n",
       "    <tr>\n",
       "      <th>2013-10-15 00:00:00</th>\n",
       "      <td>None</td>\n",
       "      <td>282.680000</td>\n",
       "      <td>477.000000</td>\n",
       "      <td>0.0</td>\n",
       "      <td>0</td>\n",
       "      <td>10</td>\n",
       "      <td>0</td>\n",
       "    </tr>\n",
       "    <tr>\n",
       "      <th>2013-10-15 01:00:00</th>\n",
       "      <td>NaN</td>\n",
       "      <td>282.476667</td>\n",
       "      <td>431.333333</td>\n",
       "      <td>0.0</td>\n",
       "      <td>0</td>\n",
       "      <td>10</td>\n",
       "      <td>1</td>\n",
       "    </tr>\n",
       "    <tr>\n",
       "      <th>2013-10-15 02:00:00</th>\n",
       "      <td>NaN</td>\n",
       "      <td>282.273333</td>\n",
       "      <td>385.666667</td>\n",
       "      <td>0.0</td>\n",
       "      <td>0</td>\n",
       "      <td>10</td>\n",
       "      <td>1</td>\n",
       "    </tr>\n",
       "    <tr>\n",
       "      <th>2013-10-15 03:00:00</th>\n",
       "      <td>None</td>\n",
       "      <td>282.070000</td>\n",
       "      <td>340.000000</td>\n",
       "      <td>0.0</td>\n",
       "      <td>0</td>\n",
       "      <td>10</td>\n",
       "      <td>0</td>\n",
       "    </tr>\n",
       "  </tbody>\n",
       "</table>\n",
       "</div>"
      ],
      "text/plain": [
       "                          holiday        temp  traffic_volume  is_holiday  \\\n",
       "date_time                                                                   \n",
       "2013-10-13 22:00:00           NaN  279.835714     1693.857143         0.0   \n",
       "2013-10-13 23:00:00          None  278.580000     1084.000000         0.0   \n",
       "2013-10-14 00:00:00  Columbus Day  277.720000      615.000000         1.0   \n",
       "2013-10-14 01:00:00           NaN  277.395000      453.000000         1.0   \n",
       "2013-10-14 02:00:00          None  277.070000      291.000000         1.0   \n",
       "2013-10-14 03:00:00          None  276.700000      388.000000         1.0   \n",
       "2013-10-14 04:00:00           NaN  277.145000     1541.000000         1.0   \n",
       "2013-10-14 05:00:00          None  277.590000     2694.000000         1.0   \n",
       "2013-10-14 06:00:00          None  277.990000     5729.000000         1.0   \n",
       "2013-10-14 07:00:00           NaN  278.760000     5733.000000         1.0   \n",
       "2013-10-14 08:00:00          None  279.530000     5737.000000         1.0   \n",
       "2013-10-14 09:00:00          None  280.190000     4899.000000         1.0   \n",
       "2013-10-14 10:00:00           NaN  280.955000     4703.000000         1.0   \n",
       "2013-10-14 11:00:00          None  281.720000     4507.000000         1.0   \n",
       "2013-10-14 12:00:00          None  283.060000     4696.000000         1.0   \n",
       "2013-10-14 13:00:00           NaN  283.950000     5046.500000         1.0   \n",
       "2013-10-14 14:00:00          None  284.840000     5397.000000         1.0   \n",
       "2013-10-14 15:00:00           NaN  284.730000     5174.750000         1.0   \n",
       "2013-10-14 16:00:00           NaN  284.620000     4952.500000         1.0   \n",
       "2013-10-14 17:00:00           NaN  284.510000     4730.250000         1.0   \n",
       "2013-10-14 18:00:00          None  284.400000     4508.000000         1.0   \n",
       "2013-10-14 19:00:00           NaN  284.130000     3728.333333         1.0   \n",
       "2013-10-14 20:00:00           NaN  283.860000     2948.666667         1.0   \n",
       "2013-10-14 21:00:00          None  283.590000     2169.000000         1.0   \n",
       "2013-10-14 22:00:00           NaN  283.286667     1605.000000         1.0   \n",
       "2013-10-14 23:00:00           NaN  282.983333     1041.000000         1.0   \n",
       "2013-10-15 00:00:00          None  282.680000      477.000000         0.0   \n",
       "2013-10-15 01:00:00           NaN  282.476667      431.333333         0.0   \n",
       "2013-10-15 02:00:00           NaN  282.273333      385.666667         0.0   \n",
       "2013-10-15 03:00:00          None  282.070000      340.000000         0.0   \n",
       "\n",
       "                     is_weekend  month_number  was_nan  \n",
       "date_time                                               \n",
       "2013-10-13 22:00:00           1            10        1  \n",
       "2013-10-13 23:00:00           1            10        0  \n",
       "2013-10-14 00:00:00           0            10        0  \n",
       "2013-10-14 01:00:00           0            10        1  \n",
       "2013-10-14 02:00:00           0            10        0  \n",
       "2013-10-14 03:00:00           0            10        0  \n",
       "2013-10-14 04:00:00           0            10        1  \n",
       "2013-10-14 05:00:00           0            10        0  \n",
       "2013-10-14 06:00:00           0            10        0  \n",
       "2013-10-14 07:00:00           0            10        1  \n",
       "2013-10-14 08:00:00           0            10        0  \n",
       "2013-10-14 09:00:00           0            10        0  \n",
       "2013-10-14 10:00:00           0            10        1  \n",
       "2013-10-14 11:00:00           0            10        0  \n",
       "2013-10-14 12:00:00           0            10        0  \n",
       "2013-10-14 13:00:00           0            10        1  \n",
       "2013-10-14 14:00:00           0            10        0  \n",
       "2013-10-14 15:00:00           0            10        1  \n",
       "2013-10-14 16:00:00           0            10        1  \n",
       "2013-10-14 17:00:00           0            10        1  \n",
       "2013-10-14 18:00:00           0            10        0  \n",
       "2013-10-14 19:00:00           0            10        1  \n",
       "2013-10-14 20:00:00           0            10        1  \n",
       "2013-10-14 21:00:00           0            10        0  \n",
       "2013-10-14 22:00:00           0            10        1  \n",
       "2013-10-14 23:00:00           0            10        1  \n",
       "2013-10-15 00:00:00           0            10        0  \n",
       "2013-10-15 01:00:00           0            10        1  \n",
       "2013-10-15 02:00:00           0            10        1  \n",
       "2013-10-15 03:00:00           0            10        0  "
      ]
     },
     "execution_count": 44,
     "metadata": {},
     "output_type": "execute_result"
    }
   ],
   "source": [
    "in_data.loc['2013-10-13 22:00:00':'2013-10-15 03:00:00'].head(50)"
   ]
  },
  {
   "cell_type": "code",
   "execution_count": 45,
   "metadata": {},
   "outputs": [
    {
     "name": "stdout",
     "output_type": "stream",
     "text": [
      "<class 'pandas.core.frame.DataFrame'>\n",
      "DatetimeIndex: 52551 entries, 2012-10-02 09:00:00 to 2018-09-30 23:00:00\n",
      "Data columns (total 7 columns):\n",
      " #   Column          Non-Null Count  Dtype  \n",
      "---  ------          --------------  -----  \n",
      " 0   holiday         40528 non-null  object \n",
      " 1   temp            52551 non-null  float64\n",
      " 2   traffic_volume  52551 non-null  float64\n",
      " 3   is_holiday      52551 non-null  float64\n",
      " 4   is_weekend      52551 non-null  int64  \n",
      " 5   month_number    52551 non-null  int64  \n",
      " 6   was_nan         52551 non-null  int32  \n",
      "dtypes: float64(3), int32(1), int64(2), object(1)\n",
      "memory usage: 5.0+ MB\n"
     ]
    }
   ],
   "source": [
    "in_data.info()"
   ]
  },
  {
   "cell_type": "code",
   "execution_count": 46,
   "metadata": {},
   "outputs": [
    {
     "data": {
      "text/html": [
       "<div>\n",
       "<style scoped>\n",
       "    .dataframe tbody tr th:only-of-type {\n",
       "        vertical-align: middle;\n",
       "    }\n",
       "\n",
       "    .dataframe tbody tr th {\n",
       "        vertical-align: top;\n",
       "    }\n",
       "\n",
       "    .dataframe thead th {\n",
       "        text-align: right;\n",
       "    }\n",
       "</style>\n",
       "<table border=\"1\" class=\"dataframe\">\n",
       "  <thead>\n",
       "    <tr style=\"text-align: right;\">\n",
       "      <th></th>\n",
       "      <th>temp</th>\n",
       "      <th>traffic_volume</th>\n",
       "      <th>is_holiday</th>\n",
       "      <th>is_weekend</th>\n",
       "      <th>month_number</th>\n",
       "      <th>was_nan</th>\n",
       "    </tr>\n",
       "  </thead>\n",
       "  <tbody>\n",
       "    <tr>\n",
       "      <th>count</th>\n",
       "      <td>52551.000000</td>\n",
       "      <td>52551.000000</td>\n",
       "      <td>52551.000000</td>\n",
       "      <td>52551.000000</td>\n",
       "      <td>52551.000000</td>\n",
       "      <td>52551.000000</td>\n",
       "    </tr>\n",
       "    <tr>\n",
       "      <th>mean</th>\n",
       "      <td>282.501583</td>\n",
       "      <td>3071.897557</td>\n",
       "      <td>0.024224</td>\n",
       "      <td>0.285894</td>\n",
       "      <td>6.521779</td>\n",
       "      <td>0.228787</td>\n",
       "    </tr>\n",
       "    <tr>\n",
       "      <th>std</th>\n",
       "      <td>12.993132</td>\n",
       "      <td>1922.467889</td>\n",
       "      <td>0.153715</td>\n",
       "      <td>0.451843</td>\n",
       "      <td>3.448434</td>\n",
       "      <td>0.420056</td>\n",
       "    </tr>\n",
       "    <tr>\n",
       "      <th>min</th>\n",
       "      <td>0.000000</td>\n",
       "      <td>0.000000</td>\n",
       "      <td>0.000000</td>\n",
       "      <td>0.000000</td>\n",
       "      <td>1.000000</td>\n",
       "      <td>0.000000</td>\n",
       "    </tr>\n",
       "    <tr>\n",
       "      <th>25%</th>\n",
       "      <td>273.580000</td>\n",
       "      <td>1223.599161</td>\n",
       "      <td>0.000000</td>\n",
       "      <td>0.000000</td>\n",
       "      <td>4.000000</td>\n",
       "      <td>0.000000</td>\n",
       "    </tr>\n",
       "    <tr>\n",
       "      <th>50%</th>\n",
       "      <td>286.420000</td>\n",
       "      <td>2897.000000</td>\n",
       "      <td>0.000000</td>\n",
       "      <td>0.000000</td>\n",
       "      <td>7.000000</td>\n",
       "      <td>0.000000</td>\n",
       "    </tr>\n",
       "    <tr>\n",
       "      <th>75%</th>\n",
       "      <td>291.703441</td>\n",
       "      <td>4775.000000</td>\n",
       "      <td>0.000000</td>\n",
       "      <td>1.000000</td>\n",
       "      <td>10.000000</td>\n",
       "      <td>0.000000</td>\n",
       "    </tr>\n",
       "    <tr>\n",
       "      <th>max</th>\n",
       "      <td>310.070000</td>\n",
       "      <td>7280.000000</td>\n",
       "      <td>1.000000</td>\n",
       "      <td>1.000000</td>\n",
       "      <td>12.000000</td>\n",
       "      <td>1.000000</td>\n",
       "    </tr>\n",
       "  </tbody>\n",
       "</table>\n",
       "</div>"
      ],
      "text/plain": [
       "               temp  traffic_volume    is_holiday    is_weekend  month_number  \\\n",
       "count  52551.000000    52551.000000  52551.000000  52551.000000  52551.000000   \n",
       "mean     282.501583     3071.897557      0.024224      0.285894      6.521779   \n",
       "std       12.993132     1922.467889      0.153715      0.451843      3.448434   \n",
       "min        0.000000        0.000000      0.000000      0.000000      1.000000   \n",
       "25%      273.580000     1223.599161      0.000000      0.000000      4.000000   \n",
       "50%      286.420000     2897.000000      0.000000      0.000000      7.000000   \n",
       "75%      291.703441     4775.000000      0.000000      1.000000     10.000000   \n",
       "max      310.070000     7280.000000      1.000000      1.000000     12.000000   \n",
       "\n",
       "            was_nan  \n",
       "count  52551.000000  \n",
       "mean       0.228787  \n",
       "std        0.420056  \n",
       "min        0.000000  \n",
       "25%        0.000000  \n",
       "50%        0.000000  \n",
       "75%        0.000000  \n",
       "max        1.000000  "
      ]
     },
     "execution_count": 46,
     "metadata": {},
     "output_type": "execute_result"
    }
   ],
   "source": [
    "in_data.describe()"
   ]
  },
  {
   "cell_type": "code",
   "execution_count": 47,
   "metadata": {},
   "outputs": [
    {
     "name": "stdout",
     "output_type": "stream",
     "text": [
      "[0.  1.  0.5]\n"
     ]
    }
   ],
   "source": [
    "print(pd.unique(in_data['is_holiday']))"
   ]
  },
  {
   "cell_type": "code",
   "execution_count": 48,
   "metadata": {},
   "outputs": [],
   "source": [
    "in_data.loc[in_data[in_data['is_holiday']==0.5].index,'is_holiday']=0"
   ]
  },
  {
   "cell_type": "markdown",
   "metadata": {},
   "source": [
    "### 1.3.4 Рассмотрим длины интервалов отсутствующих данных"
   ]
  },
  {
   "cell_type": "code",
   "execution_count": 49,
   "metadata": {},
   "outputs": [],
   "source": [
    "def NAN_analysis(df):\n",
    "    out_nans = {}\n",
    "    delta_hour = timedelta(hours=1)\n",
    "    out_data = df[df['traffic_volume'].isnull()].copy()\n",
    "    out_data = out_data.reset_index()\n",
    "    out_data['shifted'] = out_data['date_time'].shift(-1)  \n",
    "    # print(out_data.head(10))\n",
    "    start_nans = out_data.iloc[0,0]\n",
    "    end_nans = None\n",
    "    count_nans = 1\n",
    "    for ind, row in out_data.iterrows():\n",
    "        if row['shifted']-row['date_time'] > delta_hour:\n",
    "            end_nans = row['date_time']\n",
    "            out_nans[start_nans] = (count_nans,end_nans) \n",
    "            count_nans = 1\n",
    "            start_nans = row['shifted']\n",
    "            end_nans = None\n",
    "        else:\n",
    "            count_nans+=1\n",
    "    return out_data, out_nans\n",
    "    "
   ]
  },
  {
   "cell_type": "code",
   "execution_count": 50,
   "metadata": {},
   "outputs": [
    {
     "data": {
      "text/html": [
       "<div>\n",
       "<style scoped>\n",
       "    .dataframe tbody tr th:only-of-type {\n",
       "        vertical-align: middle;\n",
       "    }\n",
       "\n",
       "    .dataframe tbody tr th {\n",
       "        vertical-align: top;\n",
       "    }\n",
       "\n",
       "    .dataframe thead th {\n",
       "        text-align: right;\n",
       "    }\n",
       "</style>\n",
       "<table border=\"1\" class=\"dataframe\">\n",
       "  <thead>\n",
       "    <tr style=\"text-align: right;\">\n",
       "      <th></th>\n",
       "      <th>date_time</th>\n",
       "      <th>holiday</th>\n",
       "      <th>temp</th>\n",
       "      <th>traffic_volume</th>\n",
       "      <th>is_holiday</th>\n",
       "      <th>is_weekend</th>\n",
       "      <th>month_number</th>\n",
       "      <th>shifted</th>\n",
       "    </tr>\n",
       "  </thead>\n",
       "  <tbody>\n",
       "    <tr>\n",
       "      <th>0</th>\n",
       "      <td>2012-10-03 07:00:00</td>\n",
       "      <td>NaN</td>\n",
       "      <td>NaN</td>\n",
       "      <td>NaN</td>\n",
       "      <td>NaN</td>\n",
       "      <td>0</td>\n",
       "      <td>10</td>\n",
       "      <td>2012-10-03 10:00:00</td>\n",
       "    </tr>\n",
       "    <tr>\n",
       "      <th>1</th>\n",
       "      <td>2012-10-03 10:00:00</td>\n",
       "      <td>NaN</td>\n",
       "      <td>NaN</td>\n",
       "      <td>NaN</td>\n",
       "      <td>NaN</td>\n",
       "      <td>0</td>\n",
       "      <td>10</td>\n",
       "      <td>2012-10-03 11:00:00</td>\n",
       "    </tr>\n",
       "    <tr>\n",
       "      <th>2</th>\n",
       "      <td>2012-10-03 11:00:00</td>\n",
       "      <td>NaN</td>\n",
       "      <td>NaN</td>\n",
       "      <td>NaN</td>\n",
       "      <td>NaN</td>\n",
       "      <td>0</td>\n",
       "      <td>10</td>\n",
       "      <td>2012-10-03 17:00:00</td>\n",
       "    </tr>\n",
       "    <tr>\n",
       "      <th>3</th>\n",
       "      <td>2012-10-03 17:00:00</td>\n",
       "      <td>NaN</td>\n",
       "      <td>NaN</td>\n",
       "      <td>NaN</td>\n",
       "      <td>NaN</td>\n",
       "      <td>0</td>\n",
       "      <td>10</td>\n",
       "      <td>2012-10-05 02:00:00</td>\n",
       "    </tr>\n",
       "    <tr>\n",
       "      <th>4</th>\n",
       "      <td>2012-10-05 02:00:00</td>\n",
       "      <td>NaN</td>\n",
       "      <td>NaN</td>\n",
       "      <td>NaN</td>\n",
       "      <td>NaN</td>\n",
       "      <td>0</td>\n",
       "      <td>10</td>\n",
       "      <td>2012-10-05 04:00:00</td>\n",
       "    </tr>\n",
       "  </tbody>\n",
       "</table>\n",
       "</div>"
      ],
      "text/plain": [
       "            date_time holiday  temp  traffic_volume  is_holiday  is_weekend  \\\n",
       "0 2012-10-03 07:00:00     NaN   NaN             NaN         NaN           0   \n",
       "1 2012-10-03 10:00:00     NaN   NaN             NaN         NaN           0   \n",
       "2 2012-10-03 11:00:00     NaN   NaN             NaN         NaN           0   \n",
       "3 2012-10-03 17:00:00     NaN   NaN             NaN         NaN           0   \n",
       "4 2012-10-05 02:00:00     NaN   NaN             NaN         NaN           0   \n",
       "\n",
       "   month_number             shifted  \n",
       "0            10 2012-10-03 10:00:00  \n",
       "1            10 2012-10-03 11:00:00  \n",
       "2            10 2012-10-03 17:00:00  \n",
       "3            10 2012-10-05 02:00:00  \n",
       "4            10 2012-10-05 04:00:00  "
      ]
     },
     "execution_count": 50,
     "metadata": {},
     "output_type": "execute_result"
    }
   ],
   "source": [
    "out_data_all, out_nans_all = NAN_analysis(working_data)\n",
    "out_data_all.head(5)"
   ]
  },
  {
   "cell_type": "code",
   "execution_count": 51,
   "metadata": {},
   "outputs": [
    {
     "name": "stdout",
     "output_type": "stream",
     "text": [
      "number of NAN points: 46, beg: 2013-08-31 01:00:00, end: 2013-09-01 22:00:00\n",
      "number of NAN points: 29, beg: 2013-09-03 03:00:00, end: 2013-09-04 07:00:00\n",
      "number of NAN points: 242, beg: 2013-10-27 02:00:00, end: 2013-11-06 03:00:00\n",
      "number of NAN points: 116, beg: 2014-04-29 09:00:00, end: 2014-05-04 04:00:00\n",
      "number of NAN points: 64, beg: 2014-07-27 17:00:00, end: 2014-07-30 08:00:00\n",
      "number of NAN points: 32, beg: 2014-08-02 03:00:00, end: 2014-08-03 10:00:00\n",
      "number of NAN points: 7386, beg: 2014-08-08 02:00:00, end: 2015-06-11 19:00:00\n",
      "number of NAN points: 117, beg: 2015-06-14 21:00:00, end: 2015-06-19 17:00:00\n",
      "number of NAN points: 29, beg: 2015-06-20 19:00:00, end: 2015-06-21 23:00:00\n",
      "number of NAN points: 33, beg: 2015-06-22 19:00:00, end: 2015-06-24 03:00:00\n",
      "number of NAN points: 92, beg: 2015-10-23 12:00:00, end: 2015-10-27 07:00:00\n"
     ]
    }
   ],
   "source": [
    "for k,val in out_nans_all.items():\n",
    "    if val[0] > 24:# and val[0]< 26:\n",
    "    # stime = '2015-10-27 23:00:00'\n",
    "    # dtime = (datetime.strptime(stime,\"%Y-%m-%d %H:%M:%S\"))                                        #  \"%Y-%m-%d %H:%M:%S\").timetuple()))\n",
    "    # if k>dtime:        \n",
    "        print(f'number of NAN points: {val[0]}, beg: {k}, end: {val[1]}') "
   ]
  },
  {
   "cell_type": "markdown",
   "metadata": {},
   "source": [
    "### 1.3.5 В заключении о пропусках в данных  \n",
    "Далее будем рассматривать данные датируемые после 2015-10-27 07:00:00, так как до этого в датасете присутствуют значительные (более дня) пропуски. "
   ]
  },
  {
   "cell_type": "markdown",
   "metadata": {},
   "source": [
    "# 2 Генерация дополнительных признаков перед моделированием"
   ]
  },
  {
   "cell_type": "code",
   "execution_count": 52,
   "metadata": {},
   "outputs": [
    {
     "data": {
      "text/html": [
       "<div>\n",
       "<style scoped>\n",
       "    .dataframe tbody tr th:only-of-type {\n",
       "        vertical-align: middle;\n",
       "    }\n",
       "\n",
       "    .dataframe tbody tr th {\n",
       "        vertical-align: top;\n",
       "    }\n",
       "\n",
       "    .dataframe thead th {\n",
       "        text-align: right;\n",
       "    }\n",
       "</style>\n",
       "<table border=\"1\" class=\"dataframe\">\n",
       "  <thead>\n",
       "    <tr style=\"text-align: right;\">\n",
       "      <th></th>\n",
       "      <th>holiday</th>\n",
       "      <th>temp</th>\n",
       "      <th>traffic_volume</th>\n",
       "      <th>is_holiday</th>\n",
       "      <th>is_weekend</th>\n",
       "      <th>month_number</th>\n",
       "      <th>was_nan</th>\n",
       "    </tr>\n",
       "    <tr>\n",
       "      <th>date_time</th>\n",
       "      <th></th>\n",
       "      <th></th>\n",
       "      <th></th>\n",
       "      <th></th>\n",
       "      <th></th>\n",
       "      <th></th>\n",
       "      <th></th>\n",
       "    </tr>\n",
       "  </thead>\n",
       "  <tbody>\n",
       "    <tr>\n",
       "      <th>2018-09-30 19:00:00</th>\n",
       "      <td>None</td>\n",
       "      <td>283.45</td>\n",
       "      <td>3543.0</td>\n",
       "      <td>0.0</td>\n",
       "      <td>1</td>\n",
       "      <td>9</td>\n",
       "      <td>0</td>\n",
       "    </tr>\n",
       "    <tr>\n",
       "      <th>2018-09-30 20:00:00</th>\n",
       "      <td>None</td>\n",
       "      <td>282.76</td>\n",
       "      <td>2781.0</td>\n",
       "      <td>0.0</td>\n",
       "      <td>1</td>\n",
       "      <td>9</td>\n",
       "      <td>0</td>\n",
       "    </tr>\n",
       "    <tr>\n",
       "      <th>2018-09-30 21:00:00</th>\n",
       "      <td>None</td>\n",
       "      <td>282.73</td>\n",
       "      <td>2159.0</td>\n",
       "      <td>0.0</td>\n",
       "      <td>1</td>\n",
       "      <td>9</td>\n",
       "      <td>0</td>\n",
       "    </tr>\n",
       "    <tr>\n",
       "      <th>2018-09-30 22:00:00</th>\n",
       "      <td>None</td>\n",
       "      <td>282.09</td>\n",
       "      <td>1450.0</td>\n",
       "      <td>0.0</td>\n",
       "      <td>1</td>\n",
       "      <td>9</td>\n",
       "      <td>0</td>\n",
       "    </tr>\n",
       "    <tr>\n",
       "      <th>2018-09-30 23:00:00</th>\n",
       "      <td>None</td>\n",
       "      <td>282.12</td>\n",
       "      <td>954.0</td>\n",
       "      <td>0.0</td>\n",
       "      <td>1</td>\n",
       "      <td>9</td>\n",
       "      <td>0</td>\n",
       "    </tr>\n",
       "  </tbody>\n",
       "</table>\n",
       "</div>"
      ],
      "text/plain": [
       "                    holiday    temp  traffic_volume  is_holiday  is_weekend  \\\n",
       "date_time                                                                     \n",
       "2018-09-30 19:00:00    None  283.45          3543.0         0.0           1   \n",
       "2018-09-30 20:00:00    None  282.76          2781.0         0.0           1   \n",
       "2018-09-30 21:00:00    None  282.73          2159.0         0.0           1   \n",
       "2018-09-30 22:00:00    None  282.09          1450.0         0.0           1   \n",
       "2018-09-30 23:00:00    None  282.12           954.0         0.0           1   \n",
       "\n",
       "                     month_number  was_nan  \n",
       "date_time                                   \n",
       "2018-09-30 19:00:00             9        0  \n",
       "2018-09-30 20:00:00             9        0  \n",
       "2018-09-30 21:00:00             9        0  \n",
       "2018-09-30 22:00:00             9        0  \n",
       "2018-09-30 23:00:00             9        0  "
      ]
     },
     "execution_count": 52,
     "metadata": {},
     "output_type": "execute_result"
    }
   ],
   "source": [
    "in_data.tail()"
   ]
  },
  {
   "cell_type": "code",
   "execution_count": 53,
   "metadata": {},
   "outputs": [],
   "source": [
    "short_data = in_data[in_data.index>'2015-10-27 23:00:00'].copy()\n",
    "short_data.drop(['holiday'],axis=1,inplace=True)"
   ]
  },
  {
   "cell_type": "code",
   "execution_count": 54,
   "metadata": {},
   "outputs": [
    {
     "name": "stdout",
     "output_type": "stream",
     "text": [
      "<class 'pandas.core.frame.DataFrame'>\n",
      "DatetimeIndex: 25656 entries, 2015-10-28 00:00:00 to 2018-09-30 23:00:00\n",
      "Data columns (total 6 columns):\n",
      " #   Column          Non-Null Count  Dtype  \n",
      "---  ------          --------------  -----  \n",
      " 0   temp            25656 non-null  float64\n",
      " 1   traffic_volume  25656 non-null  float64\n",
      " 2   is_holiday      25656 non-null  float64\n",
      " 3   is_weekend      25656 non-null  int64  \n",
      " 4   month_number    25656 non-null  int64  \n",
      " 5   was_nan         25656 non-null  int32  \n",
      "dtypes: float64(3), int32(1), int64(2)\n",
      "memory usage: 1.3 MB\n"
     ]
    }
   ],
   "source": [
    "short_data.info()"
   ]
  },
  {
   "cell_type": "markdown",
   "metadata": {},
   "source": [
    "Последний значительный интервал с отсутствующими данными, превышающими 1 день, произошел 23 октября 2015 года.\n",
    "number of NAN points: 92, beg: 2015-10-23 12:00:00, end: 2015-10-27 07:00:00"
   ]
  },
  {
   "cell_type": "code",
   "execution_count": 55,
   "metadata": {},
   "outputs": [
    {
     "data": {
      "image/png": "[encoded data removed]",
      "text/plain": [
       "<Figure size 1152x288 with 1 Axes>"
      ]
     },
     "metadata": {
      "needs_background": "light"
     },
     "output_type": "display_data"
    },
    {
     "data": {
      "image/png": "[encoded data removed]",
      "text/plain": [
       "<Figure size 1152x288 with 1 Axes>"
      ]
     },
     "metadata": {
      "needs_background": "light"
     },
     "output_type": "display_data"
    },
    {
     "name": "stdout",
     "output_type": "stream",
     "text": [
      " h = 514, a = 514, b = 1028\n"
     ]
    }
   ],
   "source": [
    "def plot_data(df):\n",
    "    N = 50\n",
    "    h = int(np.ceil(len(df.index)/N))    \n",
    "    # for i in range(N-1):\n",
    "    a = h\n",
    "    b = 2*h\n",
    "    # a = 500\n",
    "    # b = 520\n",
    "    \n",
    "    df.iloc[a:b,0].plot(figsize=(16,4))\n",
    "    plt.xticks(rotation=45)\n",
    "    plt.legend()\n",
    "    plt.show()\n",
    "    df.iloc[a:b,1].plot(figsize=(16,4))\n",
    "    plt.xticks(rotation=45)\n",
    "    plt.legend()\n",
    "    plt.show()\n",
    "    print(f\" h = {h}, a = {a}, b = {b}\")\n",
    "\n",
    "plot_data(short_data)"
   ]
  },
  {
   "cell_type": "code",
   "execution_count": 56,
   "metadata": {},
   "outputs": [
    {
     "data": {
      "text/html": [
       "<div>\n",
       "<style scoped>\n",
       "    .dataframe tbody tr th:only-of-type {\n",
       "        vertical-align: middle;\n",
       "    }\n",
       "\n",
       "    .dataframe tbody tr th {\n",
       "        vertical-align: top;\n",
       "    }\n",
       "\n",
       "    .dataframe thead th {\n",
       "        text-align: right;\n",
       "    }\n",
       "</style>\n",
       "<table border=\"1\" class=\"dataframe\">\n",
       "  <thead>\n",
       "    <tr style=\"text-align: right;\">\n",
       "      <th></th>\n",
       "      <th>temp</th>\n",
       "      <th>traffic_volume</th>\n",
       "      <th>is_holiday</th>\n",
       "      <th>is_weekend</th>\n",
       "      <th>month_number</th>\n",
       "      <th>was_nan</th>\n",
       "    </tr>\n",
       "    <tr>\n",
       "      <th>date_time</th>\n",
       "      <th></th>\n",
       "      <th></th>\n",
       "      <th></th>\n",
       "      <th></th>\n",
       "      <th></th>\n",
       "      <th></th>\n",
       "    </tr>\n",
       "  </thead>\n",
       "  <tbody>\n",
       "    <tr>\n",
       "      <th>2015-10-28 00:00:00</th>\n",
       "      <td>281.430000</td>\n",
       "      <td>507.000000</td>\n",
       "      <td>0.0</td>\n",
       "      <td>0</td>\n",
       "      <td>10</td>\n",
       "      <td>0</td>\n",
       "    </tr>\n",
       "    <tr>\n",
       "      <th>2015-10-28 01:00:00</th>\n",
       "      <td>281.430000</td>\n",
       "      <td>339.000000</td>\n",
       "      <td>0.0</td>\n",
       "      <td>0</td>\n",
       "      <td>10</td>\n",
       "      <td>0</td>\n",
       "    </tr>\n",
       "    <tr>\n",
       "      <th>2015-10-28 02:00:00</th>\n",
       "      <td>281.383333</td>\n",
       "      <td>529.333333</td>\n",
       "      <td>0.0</td>\n",
       "      <td>0</td>\n",
       "      <td>10</td>\n",
       "      <td>1</td>\n",
       "    </tr>\n",
       "    <tr>\n",
       "      <th>2015-10-28 03:00:00</th>\n",
       "      <td>281.336667</td>\n",
       "      <td>719.666667</td>\n",
       "      <td>0.0</td>\n",
       "      <td>0</td>\n",
       "      <td>10</td>\n",
       "      <td>1</td>\n",
       "    </tr>\n",
       "    <tr>\n",
       "      <th>2015-10-28 04:00:00</th>\n",
       "      <td>281.290000</td>\n",
       "      <td>910.000000</td>\n",
       "      <td>0.0</td>\n",
       "      <td>0</td>\n",
       "      <td>10</td>\n",
       "      <td>0</td>\n",
       "    </tr>\n",
       "  </tbody>\n",
       "</table>\n",
       "</div>"
      ],
      "text/plain": [
       "                           temp  traffic_volume  is_holiday  is_weekend  \\\n",
       "date_time                                                                 \n",
       "2015-10-28 00:00:00  281.430000      507.000000         0.0           0   \n",
       "2015-10-28 01:00:00  281.430000      339.000000         0.0           0   \n",
       "2015-10-28 02:00:00  281.383333      529.333333         0.0           0   \n",
       "2015-10-28 03:00:00  281.336667      719.666667         0.0           0   \n",
       "2015-10-28 04:00:00  281.290000      910.000000         0.0           0   \n",
       "\n",
       "                     month_number  was_nan  \n",
       "date_time                                   \n",
       "2015-10-28 00:00:00            10        0  \n",
       "2015-10-28 01:00:00            10        0  \n",
       "2015-10-28 02:00:00            10        1  \n",
       "2015-10-28 03:00:00            10        1  \n",
       "2015-10-28 04:00:00            10        0  "
      ]
     },
     "execution_count": 56,
     "metadata": {},
     "output_type": "execute_result"
    }
   ],
   "source": [
    "short_data.head()"
   ]
  },
  {
   "cell_type": "code",
   "execution_count": 57,
   "metadata": {},
   "outputs": [
    {
     "data": {
      "text/html": [
       "<div>\n",
       "<style scoped>\n",
       "    .dataframe tbody tr th:only-of-type {\n",
       "        vertical-align: middle;\n",
       "    }\n",
       "\n",
       "    .dataframe tbody tr th {\n",
       "        vertical-align: top;\n",
       "    }\n",
       "\n",
       "    .dataframe thead th {\n",
       "        text-align: right;\n",
       "    }\n",
       "</style>\n",
       "<table border=\"1\" class=\"dataframe\">\n",
       "  <thead>\n",
       "    <tr style=\"text-align: right;\">\n",
       "      <th></th>\n",
       "      <th>temp</th>\n",
       "      <th>traffic_volume</th>\n",
       "      <th>is_holiday</th>\n",
       "      <th>is_weekend</th>\n",
       "      <th>month_number</th>\n",
       "      <th>was_nan</th>\n",
       "    </tr>\n",
       "  </thead>\n",
       "  <tbody>\n",
       "    <tr>\n",
       "      <th>count</th>\n",
       "      <td>25656.000000</td>\n",
       "      <td>25656.000000</td>\n",
       "      <td>25656.000000</td>\n",
       "      <td>25656.000000</td>\n",
       "      <td>25656.000000</td>\n",
       "      <td>25656.000000</td>\n",
       "    </tr>\n",
       "    <tr>\n",
       "      <th>mean</th>\n",
       "      <td>281.705907</td>\n",
       "      <td>3307.574992</td>\n",
       "      <td>0.028999</td>\n",
       "      <td>0.286249</td>\n",
       "      <td>6.434051</td>\n",
       "      <td>0.067392</td>\n",
       "    </tr>\n",
       "    <tr>\n",
       "      <th>std</th>\n",
       "      <td>12.473522</td>\n",
       "      <td>1961.095335</td>\n",
       "      <td>0.167807</td>\n",
       "      <td>0.452016</td>\n",
       "      <td>3.447196</td>\n",
       "      <td>0.250704</td>\n",
       "    </tr>\n",
       "    <tr>\n",
       "      <th>min</th>\n",
       "      <td>243.390000</td>\n",
       "      <td>0.000000</td>\n",
       "      <td>0.000000</td>\n",
       "      <td>0.000000</td>\n",
       "      <td>1.000000</td>\n",
       "      <td>0.000000</td>\n",
       "    </tr>\n",
       "    <tr>\n",
       "      <th>25%</th>\n",
       "      <td>272.580000</td>\n",
       "      <td>1309.000000</td>\n",
       "      <td>0.000000</td>\n",
       "      <td>0.000000</td>\n",
       "      <td>3.000000</td>\n",
       "      <td>0.000000</td>\n",
       "    </tr>\n",
       "    <tr>\n",
       "      <th>50%</th>\n",
       "      <td>282.690000</td>\n",
       "      <td>3503.000000</td>\n",
       "      <td>0.000000</td>\n",
       "      <td>0.000000</td>\n",
       "      <td>6.000000</td>\n",
       "      <td>0.000000</td>\n",
       "    </tr>\n",
       "    <tr>\n",
       "      <th>75%</th>\n",
       "      <td>292.080000</td>\n",
       "      <td>4936.000000</td>\n",
       "      <td>0.000000</td>\n",
       "      <td>1.000000</td>\n",
       "      <td>9.000000</td>\n",
       "      <td>0.000000</td>\n",
       "    </tr>\n",
       "    <tr>\n",
       "      <th>max</th>\n",
       "      <td>310.070000</td>\n",
       "      <td>7280.000000</td>\n",
       "      <td>1.000000</td>\n",
       "      <td>1.000000</td>\n",
       "      <td>12.000000</td>\n",
       "      <td>1.000000</td>\n",
       "    </tr>\n",
       "  </tbody>\n",
       "</table>\n",
       "</div>"
      ],
      "text/plain": [
       "               temp  traffic_volume    is_holiday    is_weekend  month_number  \\\n",
       "count  25656.000000    25656.000000  25656.000000  25656.000000  25656.000000   \n",
       "mean     281.705907     3307.574992      0.028999      0.286249      6.434051   \n",
       "std       12.473522     1961.095335      0.167807      0.452016      3.447196   \n",
       "min      243.390000        0.000000      0.000000      0.000000      1.000000   \n",
       "25%      272.580000     1309.000000      0.000000      0.000000      3.000000   \n",
       "50%      282.690000     3503.000000      0.000000      0.000000      6.000000   \n",
       "75%      292.080000     4936.000000      0.000000      1.000000      9.000000   \n",
       "max      310.070000     7280.000000      1.000000      1.000000     12.000000   \n",
       "\n",
       "            was_nan  \n",
       "count  25656.000000  \n",
       "mean       0.067392  \n",
       "std        0.250704  \n",
       "min        0.000000  \n",
       "25%        0.000000  \n",
       "50%        0.000000  \n",
       "75%        0.000000  \n",
       "max        1.000000  "
      ]
     },
     "execution_count": 57,
     "metadata": {},
     "output_type": "execute_result"
    }
   ],
   "source": [
    "short_data.describe()"
   ]
  },
  {
   "cell_type": "markdown",
   "metadata": {},
   "source": [
    "## 2.2 Функция разбиения данных "
   ]
  },
  {
   "cell_type": "code",
   "execution_count": 58,
   "metadata": {},
   "outputs": [],
   "source": [
    "def create_lags(df, series_columns, start_lag, end_lag):\n",
    "    data = df.copy()\n",
    "    for c in series_columns:\n",
    "        for i in range(start_lag, end_lag):\n",
    "            data[\"lag_{}_{}\".format(c, i)] = data[c].shift(i)\n",
    "    return data\n",
    "\n",
    "\n",
    "def timeseries_train_test_split(y, X=None, test_size=0.2, stime = None):\n",
    "    \"\"\"\n",
    "    Performs train-test split with respect to time series structure\n",
    "    :param X:         x data\n",
    "    :type X:           pd.DataFrame\n",
    "    :param y:         y data\n",
    "    :type y:           pd.Series\n",
    "    :param test_size: percent of test data from the end of series (0-1)\n",
    "    :type test_size:   float\n",
    "    \"\"\"\n",
    "    if stime is None:\n",
    "        test_index = int(len(y)*(1-test_size))\n",
    "    # else:\n",
    "    #     # stime = '2015-10-27 23:00:00'\n",
    "    #     dtime = (datetime.strptime(stime,\"%Y-%m-%d %H:%M:%S\")) \n",
    "    \n",
    "    # print(y.iloc[dtime])\n",
    "    # print(X.iloc[dtime])  \n",
    "    \n",
    "    if X is None:\n",
    "        y_train = y.iloc[:test_index]\n",
    "        y_test = y.iloc[test_index:]\n",
    "        return y_train, y_test\n",
    "    else:\n",
    "        X_train = X.iloc[:test_index]\n",
    "        y_train = y.iloc[:test_index]\n",
    "        X_test = X.iloc[test_index:]\n",
    "        y_test = y.iloc[test_index:]\n",
    "        return X_train, X_test, y_train, y_test"
   ]
  },
  {
   "cell_type": "code",
   "execution_count": 59,
   "metadata": {},
   "outputs": [],
   "source": [
    "dtest = short_data.iloc[:200]"
   ]
  },
  {
   "cell_type": "code",
   "execution_count": 80,
   "metadata": {},
   "outputs": [],
   "source": [
    "data = create_lags(df=short_data[:1000], series_columns=[\"traffic_volume\"], start_lag=1, end_lag=24)\n",
    "\n",
    "y = data.dropna()[\"traffic_volume\"]\n",
    "X = data.dropna().drop([\"traffic_volume\"], axis=1)\n",
    "\n",
    "X_train, X_test, y_train, y_test = timeseries_train_test_split(y, X, test_size=0.3, stime=None)"
   ]
  },
  {
   "cell_type": "code",
   "execution_count": 61,
   "metadata": {},
   "outputs": [],
   "source": [
    "col_lag = 6"
   ]
  },
  {
   "cell_type": "code",
   "execution_count": 62,
   "metadata": {},
   "outputs": [
    {
     "data": {
      "text/plain": [
       "(1000, 15)"
      ]
     },
     "execution_count": 62,
     "metadata": {},
     "output_type": "execute_result"
    }
   ],
   "source": [
    "data.shape"
   ]
  },
  {
   "cell_type": "code",
   "execution_count": 63,
   "metadata": {},
   "outputs": [
    {
     "data": {
      "text/html": [
       "<div>\n",
       "<style scoped>\n",
       "    .dataframe tbody tr th:only-of-type {\n",
       "        vertical-align: middle;\n",
       "    }\n",
       "\n",
       "    .dataframe tbody tr th {\n",
       "        vertical-align: top;\n",
       "    }\n",
       "\n",
       "    .dataframe thead th {\n",
       "        text-align: right;\n",
       "    }\n",
       "</style>\n",
       "<table border=\"1\" class=\"dataframe\">\n",
       "  <thead>\n",
       "    <tr style=\"text-align: right;\">\n",
       "      <th></th>\n",
       "      <th>lag_traffic_volume_1</th>\n",
       "      <th>lag_traffic_volume_2</th>\n",
       "      <th>lag_traffic_volume_3</th>\n",
       "      <th>lag_traffic_volume_4</th>\n",
       "      <th>lag_traffic_volume_5</th>\n",
       "      <th>lag_traffic_volume_6</th>\n",
       "      <th>lag_traffic_volume_7</th>\n",
       "      <th>lag_traffic_volume_8</th>\n",
       "      <th>lag_traffic_volume_9</th>\n",
       "    </tr>\n",
       "    <tr>\n",
       "      <th>date_time</th>\n",
       "      <th></th>\n",
       "      <th></th>\n",
       "      <th></th>\n",
       "      <th></th>\n",
       "      <th></th>\n",
       "      <th></th>\n",
       "      <th></th>\n",
       "      <th></th>\n",
       "      <th></th>\n",
       "    </tr>\n",
       "  </thead>\n",
       "  <tbody>\n",
       "    <tr>\n",
       "      <th>2015-10-28 00:00:00</th>\n",
       "      <td>NaN</td>\n",
       "      <td>NaN</td>\n",
       "      <td>NaN</td>\n",
       "      <td>NaN</td>\n",
       "      <td>NaN</td>\n",
       "      <td>NaN</td>\n",
       "      <td>NaN</td>\n",
       "      <td>NaN</td>\n",
       "      <td>NaN</td>\n",
       "    </tr>\n",
       "    <tr>\n",
       "      <th>2015-10-28 01:00:00</th>\n",
       "      <td>507.000000</td>\n",
       "      <td>NaN</td>\n",
       "      <td>NaN</td>\n",
       "      <td>NaN</td>\n",
       "      <td>NaN</td>\n",
       "      <td>NaN</td>\n",
       "      <td>NaN</td>\n",
       "      <td>NaN</td>\n",
       "      <td>NaN</td>\n",
       "    </tr>\n",
       "    <tr>\n",
       "      <th>2015-10-28 02:00:00</th>\n",
       "      <td>339.000000</td>\n",
       "      <td>507.000000</td>\n",
       "      <td>NaN</td>\n",
       "      <td>NaN</td>\n",
       "      <td>NaN</td>\n",
       "      <td>NaN</td>\n",
       "      <td>NaN</td>\n",
       "      <td>NaN</td>\n",
       "      <td>NaN</td>\n",
       "    </tr>\n",
       "    <tr>\n",
       "      <th>2015-10-28 03:00:00</th>\n",
       "      <td>529.333333</td>\n",
       "      <td>339.000000</td>\n",
       "      <td>507.0</td>\n",
       "      <td>NaN</td>\n",
       "      <td>NaN</td>\n",
       "      <td>NaN</td>\n",
       "      <td>NaN</td>\n",
       "      <td>NaN</td>\n",
       "      <td>NaN</td>\n",
       "    </tr>\n",
       "    <tr>\n",
       "      <th>2015-10-28 04:00:00</th>\n",
       "      <td>719.666667</td>\n",
       "      <td>529.333333</td>\n",
       "      <td>339.0</td>\n",
       "      <td>507.0</td>\n",
       "      <td>NaN</td>\n",
       "      <td>NaN</td>\n",
       "      <td>NaN</td>\n",
       "      <td>NaN</td>\n",
       "      <td>NaN</td>\n",
       "    </tr>\n",
       "  </tbody>\n",
       "</table>\n",
       "</div>"
      ],
      "text/plain": [
       "                     lag_traffic_volume_1  lag_traffic_volume_2  \\\n",
       "date_time                                                         \n",
       "2015-10-28 00:00:00                   NaN                   NaN   \n",
       "2015-10-28 01:00:00            507.000000                   NaN   \n",
       "2015-10-28 02:00:00            339.000000            507.000000   \n",
       "2015-10-28 03:00:00            529.333333            339.000000   \n",
       "2015-10-28 04:00:00            719.666667            529.333333   \n",
       "\n",
       "                     lag_traffic_volume_3  lag_traffic_volume_4  \\\n",
       "date_time                                                         \n",
       "2015-10-28 00:00:00                   NaN                   NaN   \n",
       "2015-10-28 01:00:00                   NaN                   NaN   \n",
       "2015-10-28 02:00:00                   NaN                   NaN   \n",
       "2015-10-28 03:00:00                 507.0                   NaN   \n",
       "2015-10-28 04:00:00                 339.0                 507.0   \n",
       "\n",
       "                     lag_traffic_volume_5  lag_traffic_volume_6  \\\n",
       "date_time                                                         \n",
       "2015-10-28 00:00:00                   NaN                   NaN   \n",
       "2015-10-28 01:00:00                   NaN                   NaN   \n",
       "2015-10-28 02:00:00                   NaN                   NaN   \n",
       "2015-10-28 03:00:00                   NaN                   NaN   \n",
       "2015-10-28 04:00:00                   NaN                   NaN   \n",
       "\n",
       "                     lag_traffic_volume_7  lag_traffic_volume_8  \\\n",
       "date_time                                                         \n",
       "2015-10-28 00:00:00                   NaN                   NaN   \n",
       "2015-10-28 01:00:00                   NaN                   NaN   \n",
       "2015-10-28 02:00:00                   NaN                   NaN   \n",
       "2015-10-28 03:00:00                   NaN                   NaN   \n",
       "2015-10-28 04:00:00                   NaN                   NaN   \n",
       "\n",
       "                     lag_traffic_volume_9  \n",
       "date_time                                  \n",
       "2015-10-28 00:00:00                   NaN  \n",
       "2015-10-28 01:00:00                   NaN  \n",
       "2015-10-28 02:00:00                   NaN  \n",
       "2015-10-28 03:00:00                   NaN  \n",
       "2015-10-28 04:00:00                   NaN  "
      ]
     },
     "execution_count": 63,
     "metadata": {},
     "output_type": "execute_result"
    }
   ],
   "source": [
    "data.iloc[:5,6:]"
   ]
  },
  {
   "cell_type": "code",
   "execution_count": 64,
   "metadata": {},
   "outputs": [],
   "source": [
    "# print(X_test.iloc[:,1:-1])"
   ]
  },
  {
   "cell_type": "code",
   "execution_count": 65,
   "metadata": {},
   "outputs": [],
   "source": [
    "# print(X_test.iloc[:,:])"
   ]
  },
  {
   "cell_type": "code",
   "execution_count": 66,
   "metadata": {},
   "outputs": [],
   "source": [
    "# print(\"y\\n\",y)\n",
    "# print(\"X=\\n\",X)\n",
    "\n",
    "# print(\"X_train\\n\",X_train)\n",
    "# print(\"X_test\\n\",X_test)\n",
    "# print(\"y_train\\n\",y_train)\n",
    "# print(\"y_test\\n\",y_test)"
   ]
  },
  {
   "cell_type": "code",
   "execution_count": 67,
   "metadata": {},
   "outputs": [],
   "source": [
    "def plotModelResults(model, X_train, y_train, X_test, y_test,\n",
    "                     plot_train=False, plot_intervals=False, plot_anomalies=False):\n",
    "    \"\"\"\n",
    "    Plots modelled vs fact values, prediction intervals and anomalies\n",
    "    \"\"\"\n",
    "    tscv = TimeSeriesSplit(n_splits=5)\n",
    "    prediction = model.predict(X_test)\n",
    "    \n",
    "    N_train = len(y_train)\n",
    "    N_test = len(y_test)\n",
    "    train_index = range(N_train)\n",
    "    test_index = range(N_train, N_train+N_test)\n",
    "    \n",
    "    plt.figure(figsize=(15, 7))\n",
    "    if plot_train:\n",
    "        plt.plot(train_index, y_train.values, label=\"train actual\")\n",
    "    plt.plot(test_index, y_test.values, label=\"actual\", linewidth=2.0)\n",
    "    plt.plot(test_index, prediction, \"g\", label=\"prediction\", linewidth=2.0)\n",
    "    \n",
    "    if plot_intervals:\n",
    "        cv = cross_val_score(model, X_train, y_train, cv=tscv, scoring=\"neg_mean_absolute_error\")\n",
    "        mae = cv.mean() * (-1)\n",
    "        deviation = cv.std()\n",
    "        \n",
    "        scale = 1.96\n",
    "        lower = prediction - (mae + scale * deviation)\n",
    "        upper = prediction + (mae + scale * deviation)\n",
    "        \n",
    "        plt.plot(test_index, lower, \"r--\", label=\"upper bond / lower bond\", alpha=0.5)\n",
    "        plt.plot(test_index, upper, \"r--\", alpha=0.5)\n",
    "        \n",
    "        if plot_anomalies:\n",
    "            anomalies = np.array([np.NaN]*len(y_test))\n",
    "            anomalies[y_test<lower] = y_test[y_test<lower]\n",
    "            anomalies[y_test>upper] = y_test[y_test>upper]\n",
    "            plt.plot(test_index, anomalies, \"o\", markersize=10, label = \"Anomalies\")\n",
    "    \n",
    "    error = mean_absolute_percentage_error(prediction, y_test)\n",
    "    plt.title(\"Mean absolute percentage error {0:.2f}%\".format(error))\n",
    "    plt.legend(loc=\"best\")\n",
    "    plt.tight_layout()\n",
    "    plt.grid(True)"
   ]
  },
  {
   "cell_type": "code",
   "execution_count": 81,
   "metadata": {},
   "outputs": [
    {
     "data": {
      "text/html": [
       "<style>#sk-container-id-3 {color: black;background-color: white;}#sk-container-id-3 pre{padding: 0;}#sk-container-id-3 div.sk-toggleable {background-color: white;}#sk-container-id-3 label.sk-toggleable__label {cursor: pointer;display: block;width: 100%;margin-bottom: 0;padding: 0.3em;box-sizing: border-box;text-align: center;}#sk-container-id-3 label.sk-toggleable__label-arrow:before {content: \"▸\";float: left;margin-right: 0.25em;color: #696969;}#sk-container-id-3 label.sk-toggleable__label-arrow:hover:before {color: black;}#sk-container-id-3 div.sk-estimator:hover label.sk-toggleable__label-arrow:before {color: black;}#sk-container-id-3 div.sk-toggleable__content {max-height: 0;max-width: 0;overflow: hidden;text-align: left;background-color: #f0f8ff;}#sk-container-id-3 div.sk-toggleable__content pre {margin: 0.2em;color: black;border-radius: 0.25em;background-color: #f0f8ff;}#sk-container-id-3 input.sk-toggleable__control:checked~div.sk-toggleable__content {max-height: 200px;max-width: 100%;overflow: auto;}#sk-container-id-3 input.sk-toggleable__control:checked~label.sk-toggleable__label-arrow:before {content: \"▾\";}#sk-container-id-3 div.sk-estimator input.sk-toggleable__control:checked~label.sk-toggleable__label {background-color: #d4ebff;}#sk-container-id-3 div.sk-label input.sk-toggleable__control:checked~label.sk-toggleable__label {background-color: #d4ebff;}#sk-container-id-3 input.sk-hidden--visually {border: 0;clip: rect(1px 1px 1px 1px);clip: rect(1px, 1px, 1px, 1px);height: 1px;margin: -1px;overflow: hidden;padding: 0;position: absolute;width: 1px;}#sk-container-id-3 div.sk-estimator {font-family: monospace;background-color: #f0f8ff;border: 1px dotted black;border-radius: 0.25em;box-sizing: border-box;margin-bottom: 0.5em;}#sk-container-id-3 div.sk-estimator:hover {background-color: #d4ebff;}#sk-container-id-3 div.sk-parallel-item::after {content: \"\";width: 100%;border-bottom: 1px solid gray;flex-grow: 1;}#sk-container-id-3 div.sk-label:hover label.sk-toggleable__label {background-color: #d4ebff;}#sk-container-id-3 div.sk-serial::before {content: \"\";position: absolute;border-left: 1px solid gray;box-sizing: border-box;top: 0;bottom: 0;left: 50%;z-index: 0;}#sk-container-id-3 div.sk-serial {display: flex;flex-direction: column;align-items: center;background-color: white;padding-right: 0.2em;padding-left: 0.2em;position: relative;}#sk-container-id-3 div.sk-item {position: relative;z-index: 1;}#sk-container-id-3 div.sk-parallel {display: flex;align-items: stretch;justify-content: center;background-color: white;position: relative;}#sk-container-id-3 div.sk-item::before, #sk-container-id-3 div.sk-parallel-item::before {content: \"\";position: absolute;border-left: 1px solid gray;box-sizing: border-box;top: 0;bottom: 0;left: 50%;z-index: -1;}#sk-container-id-3 div.sk-parallel-item {display: flex;flex-direction: column;z-index: 1;position: relative;background-color: white;}#sk-container-id-3 div.sk-parallel-item:first-child::after {align-self: flex-end;width: 50%;}#sk-container-id-3 div.sk-parallel-item:last-child::after {align-self: flex-start;width: 50%;}#sk-container-id-3 div.sk-parallel-item:only-child::after {width: 0;}#sk-container-id-3 div.sk-dashed-wrapped {border: 1px dashed gray;margin: 0 0.4em 0.5em 0.4em;box-sizing: border-box;padding-bottom: 0.4em;background-color: white;}#sk-container-id-3 div.sk-label label {font-family: monospace;font-weight: bold;display: inline-block;line-height: 1.2em;}#sk-container-id-3 div.sk-label-container {text-align: center;}#sk-container-id-3 div.sk-container {/* jupyter's `normalize.less` sets `[hidden] { display: none; }` but bootstrap.min.css set `[hidden] { display: none !important; }` so we also need the `!important` here to be able to override the default hidden behavior on the sphinx rendered scikit-learn.org. See: https://github.com/scikit-learn/scikit-learn/issues/21755 */display: inline-block !important;position: relative;}#sk-container-id-3 div.sk-text-repr-fallback {display: none;}</style><div id=\"sk-container-id-3\" class=\"sk-top-container\"><div class=\"sk-text-repr-fallback\"><pre>LinearRegression()</pre><b>In a Jupyter environment, please rerun this cell to show the HTML representation or trust the notebook. <br />On GitHub, the HTML representation is unable to render, please try loading this page with nbviewer.org.</b></div><div class=\"sk-container\" hidden><div class=\"sk-item\"><div class=\"sk-estimator sk-toggleable\"><input class=\"sk-toggleable__control sk-hidden--visually\" id=\"sk-estimator-id-3\" type=\"checkbox\" checked><label for=\"sk-estimator-id-3\" class=\"sk-toggleable__label sk-toggleable__label-arrow\">LinearRegression</label><div class=\"sk-toggleable__content\"><pre>LinearRegression()</pre></div></div></div></div></div>"
      ],
      "text/plain": [
       "LinearRegression()"
      ]
     },
     "execution_count": 81,
     "metadata": {},
     "output_type": "execute_result"
    }
   ],
   "source": [
    "lr = LinearRegression()\n",
    "lr.fit(X_train, y_train)"
   ]
  },
  {
   "cell_type": "code",
   "execution_count": 82,
   "metadata": {},
   "outputs": [
    {
     "data": {
      "text/plain": [
       "date_time\n",
       "2015-10-28 23:00:00    935.0\n",
       "2015-10-29 00:00:00    626.0\n",
       "2015-10-29 01:00:00    317.0\n",
       "2015-10-29 02:00:00    229.0\n",
       "2015-10-29 03:00:00    558.5\n",
       "Name: traffic_volume, dtype: float64"
      ]
     },
     "execution_count": 82,
     "metadata": {},
     "output_type": "execute_result"
    }
   ],
   "source": [
    "X_train.head()\n",
    "y.head()"
   ]
  },
  {
   "cell_type": "code",
   "execution_count": 83,
   "metadata": {},
   "outputs": [
    {
     "data": {
      "image/png": "[encoded data removed]",
      "text/plain": [
       "<Figure size 1080x504 with 1 Axes>"
      ]
     },
     "metadata": {
      "needs_background": "light"
     },
     "output_type": "display_data"
    }
   ],
   "source": [
    "plotModelResults(lr, X_train=X_train, y_train=y_train, X_test=X_test, y_test=y_test, plot_intervals=True)"
   ]
  },
  {
   "cell_type": "code",
   "execution_count": 78,
   "metadata": {},
   "outputs": [],
   "source": [
    "def recursive_predict(model, df_forecast,col_lags = 0):\n",
    "    horizon = len(df_forecast)\n",
    "    \n",
    "    df_pred = df_forecast.copy()\n",
    "    df_pred.iloc[1:,col_lags:] = np.nan\n",
    "    \n",
    "    forecast = []\n",
    "    \n",
    "    for i in range(horizon):\n",
    "        next_x = model.predict(df_pred.iloc[[i], :])[0]\n",
    "        if i < horizon-1:\n",
    "            df_pred.iloc[i+1,col_lags] = next_x\n",
    "            df_pred.iloc[[i+1],col_lags+1:] = df_pred.iloc[i,col_lags:-1].values\n",
    "        forecast.append(next_x)\n",
    "    \n",
    "    return np.array(forecast)\n",
    "\n",
    "\n",
    "def plotRecursivePrediction(model, X_test, y_test,col_lags):\n",
    "    prediction = recursive_predict(model, X_test, col_lags)\n",
    "    \n",
    "    plt.figure(figsize=(15, 7))\n",
    "    \n",
    "    error = mean_absolute_percentage_error(prediction, y_test.values)\n",
    "    plt.title(\"Mean absolute percentage error {0:.2f}%\".format(error))\n",
    "    \n",
    "    plt.plot(y_test.values, label=\"actual\", linewidth=2.0)\n",
    "    plt.plot(prediction, \"g\", label=\"prediction\", linewidth=2.0)\n",
    "    plt.legend(loc=\"best\")\n",
    "    plt.tight_layout()\n",
    "    plt.grid(True)"
   ]
  },
  {
   "cell_type": "code",
   "execution_count": 84,
   "metadata": {},
   "outputs": [
    {
     "data": {
      "image/png": "[encoded data removed]",
      "text/plain": [
       "<Figure size 1080x504 with 1 Axes>"
      ]
     },
     "metadata": {
      "needs_background": "light"
     },
     "output_type": "display_data"
    }
   ],
   "source": [
    "plotRecursivePrediction(lr, X_test, y_test,col_lag)"
   ]
  },
  {
   "cell_type": "code",
   "execution_count": 85,
   "metadata": {},
   "outputs": [
    {
     "data": {
      "image/png": "[encoded data removed]",
      "text/plain": [
       "<Figure size 1080x504 with 1 Axes>"
      ]
     },
     "metadata": {
      "needs_background": "light"
     },
     "output_type": "display_data"
    }
   ],
   "source": [
    "gb = GradientBoostingRegressor()\n",
    "gb.fit(X_train, y_train)\n",
    "\n",
    "plotRecursivePrediction(gb, X_test, y_test,col_lag)"
   ]
  },
  {
   "cell_type": "code",
   "execution_count": null,
   "metadata": {},
   "outputs": [],
   "source": []
  }
 ],
 "metadata": {
  "interpreter": {
   "hash": "58602d8dccd692fa32abd17425fd5d45fcdd50ad23d8d4cc69f0d11e0a82e605"
  },
  "kernelspec": {
   "display_name": "Python 3.10.4 ('mynetscrap': venv)",
   "language": "python",
   "name": "python3"
  },
  "language_info": {
   "codemirror_mode": {
    "name": "ipython",
    "version": 3
   },
   "file_extension": ".py",
   "mimetype": "text/x-python",
   "name": "python",
   "nbconvert_exporter": "python",
   "pygments_lexer": "ipython3",
   "version": "3.10.4"
  },
  "orig_nbformat": 4
 },
 "nbformat": 4,
 "nbformat_minor": 2
}
